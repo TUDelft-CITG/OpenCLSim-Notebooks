{
 "cells": [
  {
   "cell_type": "markdown",
   "metadata": {},
   "source": [
    "## Demo: WhileActivity with ShiftAmountActivity\n",
    "The basic steps to set up an OpenCLSim simulation are:\n",
    "* Import libraries\n",
    "* Initialise simpy environment\n",
    "* Define object classes\n",
    "* Create objects\n",
    "  * Create sites\n",
    "  * Create vessels\n",
    "  * Create activities\n",
    "* Register processes and run simpy\n",
    "\n",
    "----\n",
    "\n",
    "The combination of a while activity with a shift amount activity can be used to represent the loading or unloading of a vessel, where coordination of the process is represented on the granularity of the amount shifted in one iteration. In this particular example we define the time it takes to shift an amount of 1, and define a while activity that executes this activity until the vessel container is full."
   ]
  },
  {
   "cell_type": "markdown",
   "metadata": {},
   "source": [
    "#### 0. Import libraries"
   ]
  },
  {
   "cell_type": "code",
   "execution_count": 1,
   "metadata": {},
   "outputs": [],
   "source": [
    "import datetime, time\n",
    "import simpy\n",
    "\n",
    "import shapely.geometry\n",
    "import pandas as pd\n",
    "\n",
    "import openclsim.core as core\n",
    "import openclsim.model as model\n",
    "import openclsim.plot as plot"
   ]
  },
  {
   "cell_type": "markdown",
   "metadata": {},
   "source": [
    "#### 1. Initialise simpy environment"
   ]
  },
  {
   "cell_type": "code",
   "execution_count": 2,
   "metadata": {},
   "outputs": [],
   "source": [
    "# setup environment\n",
    "simulation_start = 0\n",
    "my_env = simpy.Environment(initial_time=simulation_start)"
   ]
  },
  {
   "cell_type": "markdown",
   "metadata": {},
   "source": [
    "#### 2. Define object classes"
   ]
  },
  {
   "cell_type": "code",
   "execution_count": 3,
   "metadata": {},
   "outputs": [],
   "source": [
    "# create a Site object based on desired mixin classes\n",
    "Site = type(\n",
    "    \"Site\",\n",
    "    (\n",
    "        core.Identifiable,\n",
    "        core.Log,\n",
    "        core.Locatable,\n",
    "        core.HasContainer,\n",
    "        core.HasResource,\n",
    "    ),\n",
    "    {},\n",
    ")\n",
    "\n",
    "# create a TransportProcessingResource object based on desired mixin classes\n",
    "TransportProcessingResource = type(\n",
    "    \"TransportProcessingResource\",\n",
    "    (\n",
    "        core.Identifiable,\n",
    "        core.Log,\n",
    "        core.ContainerDependentMovable,\n",
    "        core.Processor,\n",
    "        core.HasResource,\n",
    "        core.LoadingFunction,\n",
    "        core.UnloadingFunction,\n",
    "    ),\n",
    "    {},\n",
    ")"
   ]
  },
  {
   "cell_type": "markdown",
   "metadata": {},
   "source": [
    "#### 3. Create objects\n",
    "##### 3.1. Create site object(s)"
   ]
  },
  {
   "cell_type": "code",
   "execution_count": 4,
   "metadata": {},
   "outputs": [],
   "source": [
    "# prepare input data for from_site\n",
    "location_from_site = shapely.geometry.Point(4.18055556, 52.18664444)\n",
    "data_from_site = {\"env\": my_env,\n",
    "                  \"name\": \"from_site\",\n",
    "                  \"geometry\": location_from_site,\n",
    "                  \"capacity\": 10,\n",
    "                  \"level\": 10\n",
    "                 }\n",
    "# instantiate from_site \n",
    "from_site = Site(**data_from_site)\n",
    "\n",
    "# prepare input data for to_site\n",
    "location_to_site = shapely.geometry.Point(4.25222222, 52.11428333)\n",
    "data_to_site = {\"env\": my_env,\n",
    "                \"name\": \"to_site\",\n",
    "                \"geometry\": location_to_site,\n",
    "                \"capacity\": 10,\n",
    "                \"level\": 0\n",
    "               }\n",
    "# instantiate to_site \n",
    "to_site = Site(**data_to_site)"
   ]
  },
  {
   "cell_type": "markdown",
   "metadata": {},
   "source": [
    "##### 3.2. Create vessel object(s)"
   ]
  },
  {
   "cell_type": "code",
   "execution_count": 5,
   "metadata": {},
   "outputs": [],
   "source": [
    "# prepare input data for vessel_01\n",
    "data_vessel01 = {\"env\": my_env,\n",
    "                 \"name\": \"vessel01\",\n",
    "                 \"geometry\": location_from_site, \n",
    "                 \"loading_rate\": 1,\n",
    "                 \"unloading_rate\": 1,\n",
    "                 \"capacity\": 5,\n",
    "                 \"compute_v\": lambda x: 10\n",
    "               }\n",
    "# instantiate vessel_01 \n",
    "vessel01 = TransportProcessingResource(**data_vessel01)"
   ]
  },
  {
   "cell_type": "markdown",
   "metadata": {},
   "source": [
    "##### 3.3 Create activity/activities"
   ]
  },
  {
   "cell_type": "code",
   "execution_count": 6,
   "metadata": {},
   "outputs": [],
   "source": [
    "# initialise registry\n",
    "registry = {}"
   ]
  },
  {
   "cell_type": "code",
   "execution_count": 7,
   "metadata": {},
   "outputs": [],
   "source": [
    "# create a list of the sub processes\n",
    "sub_processes = [\n",
    "    model.ShiftAmountActivity(\n",
    "        env=my_env,\n",
    "        name=\"Shift 1 amount of payload\",\n",
    "        registry=registry,\n",
    "        processor=vessel01,\n",
    "        origin=from_site,\n",
    "        destination=vessel01,\n",
    "        amount=1,\n",
    "        duration=20,\n",
    "    )\n",
    "]\n",
    "\n",
    "# create a 'while activity' that is made up of the 'sub_processes'\n",
    "while_activity = model.WhileActivity(\n",
    "    env=my_env,\n",
    "    name=\"while_activity\",\n",
    "    registry=registry,\n",
    "    sub_processes=sub_processes,\n",
    "    condition_event=[{\"type\": \"container\", \"concept\": vessel01, \"state\": \"full\"}],\n",
    ")"
   ]
  },
  {
   "cell_type": "markdown",
   "metadata": {},
   "source": [
    "We execute the sub process (shift amount) until the container of vessel01 is full."
   ]
  },
  {
   "cell_type": "markdown",
   "metadata": {},
   "source": [
    "#### 4. Register processes and run simpy"
   ]
  },
  {
   "cell_type": "code",
   "execution_count": 8,
   "metadata": {},
   "outputs": [],
   "source": [
    "# initate the simpy processes defined in the 'while activity' and run simpy\n",
    "model.register_processes([while_activity])\n",
    "my_env.run()"
   ]
  },
  {
   "cell_type": "markdown",
   "metadata": {},
   "source": [
    "#### 5. Inspect results\n",
    "##### 5.1 Inspect logs\n",
    "The container of vessel01 has a capacity of 5. The shift amount activity shifts 1 amount of payload in 20 time untis. We can see from the log that the shift amount activity was executed 5 times. The simulation ends at 100 time units, when the vessel01 container level is 5. "
   ]
  },
  {
   "cell_type": "code",
   "execution_count": 9,
   "metadata": {},
   "outputs": [
    {
     "data": {
      "text/html": [
       "<div>\n",
       "<style scoped>\n",
       "    .dataframe tbody tr th:only-of-type {\n",
       "        vertical-align: middle;\n",
       "    }\n",
       "\n",
       "    .dataframe tbody tr th {\n",
       "        vertical-align: top;\n",
       "    }\n",
       "\n",
       "    .dataframe thead th {\n",
       "        text-align: right;\n",
       "    }\n",
       "</style>\n",
       "<table border=\"1\" class=\"dataframe\">\n",
       "  <thead>\n",
       "    <tr style=\"text-align: right;\">\n",
       "      <th></th>\n",
       "      <th>Activity</th>\n",
       "      <th>Timestamp</th>\n",
       "      <th>ActivityState</th>\n",
       "      <th>geometry</th>\n",
       "      <th>container level</th>\n",
       "    </tr>\n",
       "  </thead>\n",
       "  <tbody>\n",
       "    <tr>\n",
       "      <th>0</th>\n",
       "      <td>Shift 1 amount of payload</td>\n",
       "      <td>1970-01-01 00:00:00</td>\n",
       "      <td>START</td>\n",
       "      <td>POINT (4.18055556 52.18664444)</td>\n",
       "      <td>0.0</td>\n",
       "    </tr>\n",
       "    <tr>\n",
       "      <th>1</th>\n",
       "      <td>Shift 1 amount of payload</td>\n",
       "      <td>1970-01-01 00:00:20</td>\n",
       "      <td>STOP</td>\n",
       "      <td>POINT (4.18055556 52.18664444)</td>\n",
       "      <td>1.0</td>\n",
       "    </tr>\n",
       "    <tr>\n",
       "      <th>2</th>\n",
       "      <td>Shift 1 amount of payload</td>\n",
       "      <td>1970-01-01 00:00:20</td>\n",
       "      <td>START</td>\n",
       "      <td>POINT (4.18055556 52.18664444)</td>\n",
       "      <td>1.0</td>\n",
       "    </tr>\n",
       "    <tr>\n",
       "      <th>3</th>\n",
       "      <td>Shift 1 amount of payload</td>\n",
       "      <td>1970-01-01 00:00:40</td>\n",
       "      <td>STOP</td>\n",
       "      <td>POINT (4.18055556 52.18664444)</td>\n",
       "      <td>2.0</td>\n",
       "    </tr>\n",
       "    <tr>\n",
       "      <th>4</th>\n",
       "      <td>Shift 1 amount of payload</td>\n",
       "      <td>1970-01-01 00:00:40</td>\n",
       "      <td>START</td>\n",
       "      <td>POINT (4.18055556 52.18664444)</td>\n",
       "      <td>2.0</td>\n",
       "    </tr>\n",
       "    <tr>\n",
       "      <th>5</th>\n",
       "      <td>Shift 1 amount of payload</td>\n",
       "      <td>1970-01-01 00:01:00</td>\n",
       "      <td>STOP</td>\n",
       "      <td>POINT (4.18055556 52.18664444)</td>\n",
       "      <td>3.0</td>\n",
       "    </tr>\n",
       "    <tr>\n",
       "      <th>6</th>\n",
       "      <td>Shift 1 amount of payload</td>\n",
       "      <td>1970-01-01 00:01:00</td>\n",
       "      <td>START</td>\n",
       "      <td>POINT (4.18055556 52.18664444)</td>\n",
       "      <td>3.0</td>\n",
       "    </tr>\n",
       "    <tr>\n",
       "      <th>7</th>\n",
       "      <td>Shift 1 amount of payload</td>\n",
       "      <td>1970-01-01 00:01:20</td>\n",
       "      <td>STOP</td>\n",
       "      <td>POINT (4.18055556 52.18664444)</td>\n",
       "      <td>4.0</td>\n",
       "    </tr>\n",
       "    <tr>\n",
       "      <th>8</th>\n",
       "      <td>Shift 1 amount of payload</td>\n",
       "      <td>1970-01-01 00:01:20</td>\n",
       "      <td>START</td>\n",
       "      <td>POINT (4.18055556 52.18664444)</td>\n",
       "      <td>4.0</td>\n",
       "    </tr>\n",
       "    <tr>\n",
       "      <th>9</th>\n",
       "      <td>Shift 1 amount of payload</td>\n",
       "      <td>1970-01-01 00:01:40</td>\n",
       "      <td>STOP</td>\n",
       "      <td>POINT (4.18055556 52.18664444)</td>\n",
       "      <td>5.0</td>\n",
       "    </tr>\n",
       "  </tbody>\n",
       "</table>\n",
       "</div>"
      ],
      "text/plain": [
       "                    Activity           Timestamp ActivityState  \\\n",
       "0  Shift 1 amount of payload 1970-01-01 00:00:00         START   \n",
       "1  Shift 1 amount of payload 1970-01-01 00:00:20          STOP   \n",
       "2  Shift 1 amount of payload 1970-01-01 00:00:20         START   \n",
       "3  Shift 1 amount of payload 1970-01-01 00:00:40          STOP   \n",
       "4  Shift 1 amount of payload 1970-01-01 00:00:40         START   \n",
       "5  Shift 1 amount of payload 1970-01-01 00:01:00          STOP   \n",
       "6  Shift 1 amount of payload 1970-01-01 00:01:00         START   \n",
       "7  Shift 1 amount of payload 1970-01-01 00:01:20          STOP   \n",
       "8  Shift 1 amount of payload 1970-01-01 00:01:20         START   \n",
       "9  Shift 1 amount of payload 1970-01-01 00:01:40          STOP   \n",
       "\n",
       "                         geometry  container level  \n",
       "0  POINT (4.18055556 52.18664444)              0.0  \n",
       "1  POINT (4.18055556 52.18664444)              1.0  \n",
       "2  POINT (4.18055556 52.18664444)              1.0  \n",
       "3  POINT (4.18055556 52.18664444)              2.0  \n",
       "4  POINT (4.18055556 52.18664444)              2.0  \n",
       "5  POINT (4.18055556 52.18664444)              3.0  \n",
       "6  POINT (4.18055556 52.18664444)              3.0  \n",
       "7  POINT (4.18055556 52.18664444)              4.0  \n",
       "8  POINT (4.18055556 52.18664444)              4.0  \n",
       "9  POINT (4.18055556 52.18664444)              5.0  "
      ]
     },
     "metadata": {},
     "output_type": "display_data"
    }
   ],
   "source": [
    "display(plot.get_log_dataframe(vessel01, [while_activity, *sub_processes]))"
   ]
  },
  {
   "cell_type": "code",
   "execution_count": 10,
   "metadata": {},
   "outputs": [
    {
     "data": {
      "text/html": [
       "<div>\n",
       "<style scoped>\n",
       "    .dataframe tbody tr th:only-of-type {\n",
       "        vertical-align: middle;\n",
       "    }\n",
       "\n",
       "    .dataframe tbody tr th {\n",
       "        vertical-align: top;\n",
       "    }\n",
       "\n",
       "    .dataframe thead th {\n",
       "        text-align: right;\n",
       "    }\n",
       "</style>\n",
       "<table border=\"1\" class=\"dataframe\">\n",
       "  <thead>\n",
       "    <tr style=\"text-align: right;\">\n",
       "      <th></th>\n",
       "      <th>Activity</th>\n",
       "      <th>Timestamp</th>\n",
       "      <th>ActivityState</th>\n",
       "      <th>type</th>\n",
       "      <th>ref</th>\n",
       "    </tr>\n",
       "  </thead>\n",
       "  <tbody>\n",
       "    <tr>\n",
       "      <th>0</th>\n",
       "      <td>while_activity</td>\n",
       "      <td>1970-01-01 00:00:00</td>\n",
       "      <td>START</td>\n",
       "      <td>NaN</td>\n",
       "      <td>NaN</td>\n",
       "    </tr>\n",
       "    <tr>\n",
       "      <th>1</th>\n",
       "      <td>while_activity</td>\n",
       "      <td>1970-01-01 00:00:00</td>\n",
       "      <td>START</td>\n",
       "      <td>subprocess</td>\n",
       "      <td>f3d569c9-ae8a-46d9-b130-f28652a8d583</td>\n",
       "    </tr>\n",
       "    <tr>\n",
       "      <th>2</th>\n",
       "      <td>while_activity</td>\n",
       "      <td>1970-01-01 00:00:20</td>\n",
       "      <td>STOP</td>\n",
       "      <td>subprocess</td>\n",
       "      <td>f3d569c9-ae8a-46d9-b130-f28652a8d583</td>\n",
       "    </tr>\n",
       "    <tr>\n",
       "      <th>3</th>\n",
       "      <td>while_activity</td>\n",
       "      <td>1970-01-01 00:00:20</td>\n",
       "      <td>START</td>\n",
       "      <td>subprocess</td>\n",
       "      <td>f3d569c9-ae8a-46d9-b130-f28652a8d583</td>\n",
       "    </tr>\n",
       "    <tr>\n",
       "      <th>4</th>\n",
       "      <td>while_activity</td>\n",
       "      <td>1970-01-01 00:00:40</td>\n",
       "      <td>STOP</td>\n",
       "      <td>subprocess</td>\n",
       "      <td>f3d569c9-ae8a-46d9-b130-f28652a8d583</td>\n",
       "    </tr>\n",
       "    <tr>\n",
       "      <th>5</th>\n",
       "      <td>while_activity</td>\n",
       "      <td>1970-01-01 00:00:40</td>\n",
       "      <td>START</td>\n",
       "      <td>subprocess</td>\n",
       "      <td>f3d569c9-ae8a-46d9-b130-f28652a8d583</td>\n",
       "    </tr>\n",
       "    <tr>\n",
       "      <th>6</th>\n",
       "      <td>while_activity</td>\n",
       "      <td>1970-01-01 00:01:00</td>\n",
       "      <td>STOP</td>\n",
       "      <td>subprocess</td>\n",
       "      <td>f3d569c9-ae8a-46d9-b130-f28652a8d583</td>\n",
       "    </tr>\n",
       "    <tr>\n",
       "      <th>7</th>\n",
       "      <td>while_activity</td>\n",
       "      <td>1970-01-01 00:01:00</td>\n",
       "      <td>START</td>\n",
       "      <td>subprocess</td>\n",
       "      <td>f3d569c9-ae8a-46d9-b130-f28652a8d583</td>\n",
       "    </tr>\n",
       "    <tr>\n",
       "      <th>8</th>\n",
       "      <td>while_activity</td>\n",
       "      <td>1970-01-01 00:01:20</td>\n",
       "      <td>STOP</td>\n",
       "      <td>subprocess</td>\n",
       "      <td>f3d569c9-ae8a-46d9-b130-f28652a8d583</td>\n",
       "    </tr>\n",
       "    <tr>\n",
       "      <th>9</th>\n",
       "      <td>while_activity</td>\n",
       "      <td>1970-01-01 00:01:20</td>\n",
       "      <td>START</td>\n",
       "      <td>subprocess</td>\n",
       "      <td>f3d569c9-ae8a-46d9-b130-f28652a8d583</td>\n",
       "    </tr>\n",
       "    <tr>\n",
       "      <th>10</th>\n",
       "      <td>while_activity</td>\n",
       "      <td>1970-01-01 00:01:40</td>\n",
       "      <td>STOP</td>\n",
       "      <td>subprocess</td>\n",
       "      <td>f3d569c9-ae8a-46d9-b130-f28652a8d583</td>\n",
       "    </tr>\n",
       "    <tr>\n",
       "      <th>11</th>\n",
       "      <td>while_activity</td>\n",
       "      <td>1970-01-01 00:01:40</td>\n",
       "      <td>STOP</td>\n",
       "      <td>NaN</td>\n",
       "      <td>NaN</td>\n",
       "    </tr>\n",
       "  </tbody>\n",
       "</table>\n",
       "</div>"
      ],
      "text/plain": [
       "          Activity           Timestamp ActivityState        type  \\\n",
       "0   while_activity 1970-01-01 00:00:00         START         NaN   \n",
       "1   while_activity 1970-01-01 00:00:00         START  subprocess   \n",
       "2   while_activity 1970-01-01 00:00:20          STOP  subprocess   \n",
       "3   while_activity 1970-01-01 00:00:20         START  subprocess   \n",
       "4   while_activity 1970-01-01 00:00:40          STOP  subprocess   \n",
       "5   while_activity 1970-01-01 00:00:40         START  subprocess   \n",
       "6   while_activity 1970-01-01 00:01:00          STOP  subprocess   \n",
       "7   while_activity 1970-01-01 00:01:00         START  subprocess   \n",
       "8   while_activity 1970-01-01 00:01:20          STOP  subprocess   \n",
       "9   while_activity 1970-01-01 00:01:20         START  subprocess   \n",
       "10  while_activity 1970-01-01 00:01:40          STOP  subprocess   \n",
       "11  while_activity 1970-01-01 00:01:40          STOP         NaN   \n",
       "\n",
       "                                     ref  \n",
       "0                                    NaN  \n",
       "1   f3d569c9-ae8a-46d9-b130-f28652a8d583  \n",
       "2   f3d569c9-ae8a-46d9-b130-f28652a8d583  \n",
       "3   f3d569c9-ae8a-46d9-b130-f28652a8d583  \n",
       "4   f3d569c9-ae8a-46d9-b130-f28652a8d583  \n",
       "5   f3d569c9-ae8a-46d9-b130-f28652a8d583  \n",
       "6   f3d569c9-ae8a-46d9-b130-f28652a8d583  \n",
       "7   f3d569c9-ae8a-46d9-b130-f28652a8d583  \n",
       "8   f3d569c9-ae8a-46d9-b130-f28652a8d583  \n",
       "9   f3d569c9-ae8a-46d9-b130-f28652a8d583  \n",
       "10  f3d569c9-ae8a-46d9-b130-f28652a8d583  \n",
       "11                                   NaN  "
      ]
     },
     "metadata": {},
     "output_type": "display_data"
    }
   ],
   "source": [
    "display(plot.get_log_dataframe(while_activity, [while_activity, *sub_processes]))"
   ]
  },
  {
   "cell_type": "markdown",
   "metadata": {},
   "source": [
    "##### 5.2 Visualise gantt charts"
   ]
  },
  {
   "cell_type": "code",
   "execution_count": 11,
   "metadata": {},
   "outputs": [
    {
     "data": {
      "text/html": [
       "        <script type=\"text/javascript\">\n",
       "        window.PlotlyConfig = {MathJaxConfig: 'local'};\n",
       "        if (window.MathJax) {MathJax.Hub.Config({SVG: {font: \"STIX-Web\"}});}\n",
       "        if (typeof require !== 'undefined') {\n",
       "        require.undef(\"plotly\");\n",
       "        requirejs.config({\n",
       "            paths: {\n",
       "                'plotly': ['https://cdn.plot.ly/plotly-latest.min']\n",
       "            }\n",
       "        });\n",
       "        require(['plotly'], function(Plotly) {\n",
       "            window._Plotly = Plotly;\n",
       "        });\n",
       "        }\n",
       "        </script>\n",
       "        "
      ]
     },
     "metadata": {},
     "output_type": "display_data"
    },
    {
     "data": {
      "application/vnd.plotly.v1+json": {
       "config": {
        "linkText": "Export to plot.ly",
        "plotlyServerURL": "https://plot.ly",
        "showLink": false
       },
       "data": [
        {
         "connectgaps": false,
         "hoverinfo": "y+name",
         "line": {
          "color": "rgb(164,201,139)",
          "width": 10
         },
         "mode": "lines",
         "name": "while_activity",
         "type": "scatter",
         "x": [
          "1970-01-01T00:00:00",
          "1970-01-01T00:00:00",
          "1970-01-01T00:00:20",
          "1970-01-01T00:00:20",
          "1970-01-01T00:00:20",
          "1970-01-01T00:00:20",
          "1970-01-01T00:00:20",
          "1970-01-01T00:00:40",
          "1970-01-01T00:00:40",
          "1970-01-01T00:00:40",
          "1970-01-01T00:00:40",
          "1970-01-01T00:00:40",
          "1970-01-01T00:01:00",
          "1970-01-01T00:01:00",
          "1970-01-01T00:01:00",
          "1970-01-01T00:01:00",
          "1970-01-01T00:01:00",
          "1970-01-01T00:01:20",
          "1970-01-01T00:01:20",
          "1970-01-01T00:01:20",
          "1970-01-01T00:01:20",
          "1970-01-01T00:01:20",
          "1970-01-01T00:01:40",
          "1970-01-01T00:01:40",
          "1970-01-01T00:01:40",
          "1970-01-01T00:01:20",
          "1970-01-01T00:01:20",
          "1970-01-01T00:01:40",
          "1970-01-01T00:01:40",
          "1970-01-01T00:01:40"
         ],
         "y": [
          "while_activity",
          "while_activity",
          "while_activity",
          "while_activity",
          null,
          "while_activity",
          "while_activity",
          "while_activity",
          "while_activity",
          null,
          "while_activity",
          "while_activity",
          "while_activity",
          "while_activity",
          null,
          "while_activity",
          "while_activity",
          "while_activity",
          "while_activity",
          null,
          "while_activity",
          "while_activity",
          "while_activity",
          "while_activity",
          null,
          "while_activity",
          "while_activity",
          "while_activity",
          "while_activity",
          null
         ]
        },
        {
         "connectgaps": false,
         "hoverinfo": "y+name",
         "line": {
          "color": "rgb(249,30,224)",
          "width": 10
         },
         "mode": "lines",
         "name": "Shift 1 amount of payload",
         "type": "scatter",
         "x": [
          "1970-01-01T00:00:00",
          "1970-01-01T00:00:00",
          "1970-01-01T00:00:20",
          "1970-01-01T00:00:20",
          "1970-01-01T00:00:20",
          "1970-01-01T00:00:20",
          "1970-01-01T00:00:20",
          "1970-01-01T00:00:40",
          "1970-01-01T00:00:40",
          "1970-01-01T00:00:40",
          "1970-01-01T00:00:40",
          "1970-01-01T00:00:40",
          "1970-01-01T00:01:00",
          "1970-01-01T00:01:00",
          "1970-01-01T00:01:00",
          "1970-01-01T00:01:00",
          "1970-01-01T00:01:00",
          "1970-01-01T00:01:20",
          "1970-01-01T00:01:20",
          "1970-01-01T00:01:20",
          "1970-01-01T00:01:20",
          "1970-01-01T00:01:20",
          "1970-01-01T00:01:40",
          "1970-01-01T00:01:40",
          "1970-01-01T00:01:40",
          "1970-01-01T00:00:00",
          "1970-01-01T00:00:00",
          "1970-01-01T00:00:20",
          "1970-01-01T00:00:20",
          "1970-01-01T00:00:20",
          "1970-01-01T00:00:20",
          "1970-01-01T00:00:20",
          "1970-01-01T00:00:40",
          "1970-01-01T00:00:40",
          "1970-01-01T00:00:40",
          "1970-01-01T00:00:40",
          "1970-01-01T00:00:40",
          "1970-01-01T00:01:00",
          "1970-01-01T00:01:00",
          "1970-01-01T00:01:00",
          "1970-01-01T00:01:00",
          "1970-01-01T00:01:00",
          "1970-01-01T00:01:20",
          "1970-01-01T00:01:20",
          "1970-01-01T00:01:20",
          "1970-01-01T00:01:20",
          "1970-01-01T00:01:20",
          "1970-01-01T00:01:40",
          "1970-01-01T00:01:40",
          "1970-01-01T00:01:40"
         ],
         "y": [
          "Shift 1 amount of payload",
          "Shift 1 amount of payload",
          "Shift 1 amount of payload",
          "Shift 1 amount of payload",
          null,
          "Shift 1 amount of payload",
          "Shift 1 amount of payload",
          "Shift 1 amount of payload",
          "Shift 1 amount of payload",
          null,
          "Shift 1 amount of payload",
          "Shift 1 amount of payload",
          "Shift 1 amount of payload",
          "Shift 1 amount of payload",
          null,
          "Shift 1 amount of payload",
          "Shift 1 amount of payload",
          "Shift 1 amount of payload",
          "Shift 1 amount of payload",
          null,
          "Shift 1 amount of payload",
          "Shift 1 amount of payload",
          "Shift 1 amount of payload",
          "Shift 1 amount of payload",
          null,
          "vessel01",
          "vessel01",
          "vessel01",
          "vessel01",
          null,
          "vessel01",
          "vessel01",
          "vessel01",
          "vessel01",
          null,
          "vessel01",
          "vessel01",
          "vessel01",
          "vessel01",
          null,
          "vessel01",
          "vessel01",
          "vessel01",
          "vessel01",
          null,
          "vessel01",
          "vessel01",
          "vessel01",
          "vessel01",
          null
         ]
        },
        {
         "connectgaps": false,
         "hoverinfo": "y+name",
         "line": {
          "color": "rgb(78,115,53)",
          "width": 10
         },
         "mode": "lines",
         "name": "Shift 1 amount of payload",
         "type": "scatter",
         "x": [
          "1970-01-01T00:00:00",
          "1970-01-01T00:00:00",
          "1970-01-01T00:00:20",
          "1970-01-01T00:00:20",
          "1970-01-01T00:00:20",
          "1970-01-01T00:00:20",
          "1970-01-01T00:00:20",
          "1970-01-01T00:00:40",
          "1970-01-01T00:00:40",
          "1970-01-01T00:00:40",
          "1970-01-01T00:00:40",
          "1970-01-01T00:00:40",
          "1970-01-01T00:01:00",
          "1970-01-01T00:01:00",
          "1970-01-01T00:01:00",
          "1970-01-01T00:01:00",
          "1970-01-01T00:01:00",
          "1970-01-01T00:01:20",
          "1970-01-01T00:01:20",
          "1970-01-01T00:01:20",
          "1970-01-01T00:01:20",
          "1970-01-01T00:01:20",
          "1970-01-01T00:01:40",
          "1970-01-01T00:01:40",
          "1970-01-01T00:01:40",
          "1970-01-01T00:00:00",
          "1970-01-01T00:00:00",
          "1970-01-01T00:00:20",
          "1970-01-01T00:00:20",
          "1970-01-01T00:00:20",
          "1970-01-01T00:00:20",
          "1970-01-01T00:00:20",
          "1970-01-01T00:00:40",
          "1970-01-01T00:00:40",
          "1970-01-01T00:00:40",
          "1970-01-01T00:00:40",
          "1970-01-01T00:00:40",
          "1970-01-01T00:01:00",
          "1970-01-01T00:01:00",
          "1970-01-01T00:01:00",
          "1970-01-01T00:01:00",
          "1970-01-01T00:01:00",
          "1970-01-01T00:01:20",
          "1970-01-01T00:01:20",
          "1970-01-01T00:01:20",
          "1970-01-01T00:01:20",
          "1970-01-01T00:01:20",
          "1970-01-01T00:01:40",
          "1970-01-01T00:01:40",
          "1970-01-01T00:01:40"
         ],
         "y": [
          "Shift 1 amount of payload",
          "Shift 1 amount of payload",
          "Shift 1 amount of payload",
          "Shift 1 amount of payload",
          null,
          "Shift 1 amount of payload",
          "Shift 1 amount of payload",
          "Shift 1 amount of payload",
          "Shift 1 amount of payload",
          null,
          "Shift 1 amount of payload",
          "Shift 1 amount of payload",
          "Shift 1 amount of payload",
          "Shift 1 amount of payload",
          null,
          "Shift 1 amount of payload",
          "Shift 1 amount of payload",
          "Shift 1 amount of payload",
          "Shift 1 amount of payload",
          null,
          "Shift 1 amount of payload",
          "Shift 1 amount of payload",
          "Shift 1 amount of payload",
          "Shift 1 amount of payload",
          null,
          "vessel01",
          "vessel01",
          "vessel01",
          "vessel01",
          null,
          "vessel01",
          "vessel01",
          "vessel01",
          "vessel01",
          null,
          "vessel01",
          "vessel01",
          "vessel01",
          "vessel01",
          null,
          "vessel01",
          "vessel01",
          "vessel01",
          "vessel01",
          null,
          "vessel01",
          "vessel01",
          "vessel01",
          "vessel01",
          null
         ]
        }
       ],
       "layout": {
        "hovermode": "closest",
        "legend": {
         "orientation": "h",
         "x": 0,
         "y": -0.2
        },
        "template": {
         "data": {
          "bar": [
           {
            "error_x": {
             "color": "#2a3f5f"
            },
            "error_y": {
             "color": "#2a3f5f"
            },
            "marker": {
             "line": {
              "color": "#E5ECF6",
              "width": 0.5
             }
            },
            "type": "bar"
           }
          ],
          "barpolar": [
           {
            "marker": {
             "line": {
              "color": "#E5ECF6",
              "width": 0.5
             }
            },
            "type": "barpolar"
           }
          ],
          "carpet": [
           {
            "aaxis": {
             "endlinecolor": "#2a3f5f",
             "gridcolor": "white",
             "linecolor": "white",
             "minorgridcolor": "white",
             "startlinecolor": "#2a3f5f"
            },
            "baxis": {
             "endlinecolor": "#2a3f5f",
             "gridcolor": "white",
             "linecolor": "white",
             "minorgridcolor": "white",
             "startlinecolor": "#2a3f5f"
            },
            "type": "carpet"
           }
          ],
          "choropleth": [
           {
            "colorbar": {
             "outlinewidth": 0,
             "ticks": ""
            },
            "type": "choropleth"
           }
          ],
          "contour": [
           {
            "colorbar": {
             "outlinewidth": 0,
             "ticks": ""
            },
            "colorscale": [
             [
              0,
              "#0d0887"
             ],
             [
              0.1111111111111111,
              "#46039f"
             ],
             [
              0.2222222222222222,
              "#7201a8"
             ],
             [
              0.3333333333333333,
              "#9c179e"
             ],
             [
              0.4444444444444444,
              "#bd3786"
             ],
             [
              0.5555555555555556,
              "#d8576b"
             ],
             [
              0.6666666666666666,
              "#ed7953"
             ],
             [
              0.7777777777777778,
              "#fb9f3a"
             ],
             [
              0.8888888888888888,
              "#fdca26"
             ],
             [
              1,
              "#f0f921"
             ]
            ],
            "type": "contour"
           }
          ],
          "contourcarpet": [
           {
            "colorbar": {
             "outlinewidth": 0,
             "ticks": ""
            },
            "type": "contourcarpet"
           }
          ],
          "heatmap": [
           {
            "colorbar": {
             "outlinewidth": 0,
             "ticks": ""
            },
            "colorscale": [
             [
              0,
              "#0d0887"
             ],
             [
              0.1111111111111111,
              "#46039f"
             ],
             [
              0.2222222222222222,
              "#7201a8"
             ],
             [
              0.3333333333333333,
              "#9c179e"
             ],
             [
              0.4444444444444444,
              "#bd3786"
             ],
             [
              0.5555555555555556,
              "#d8576b"
             ],
             [
              0.6666666666666666,
              "#ed7953"
             ],
             [
              0.7777777777777778,
              "#fb9f3a"
             ],
             [
              0.8888888888888888,
              "#fdca26"
             ],
             [
              1,
              "#f0f921"
             ]
            ],
            "type": "heatmap"
           }
          ],
          "heatmapgl": [
           {
            "colorbar": {
             "outlinewidth": 0,
             "ticks": ""
            },
            "colorscale": [
             [
              0,
              "#0d0887"
             ],
             [
              0.1111111111111111,
              "#46039f"
             ],
             [
              0.2222222222222222,
              "#7201a8"
             ],
             [
              0.3333333333333333,
              "#9c179e"
             ],
             [
              0.4444444444444444,
              "#bd3786"
             ],
             [
              0.5555555555555556,
              "#d8576b"
             ],
             [
              0.6666666666666666,
              "#ed7953"
             ],
             [
              0.7777777777777778,
              "#fb9f3a"
             ],
             [
              0.8888888888888888,
              "#fdca26"
             ],
             [
              1,
              "#f0f921"
             ]
            ],
            "type": "heatmapgl"
           }
          ],
          "histogram": [
           {
            "marker": {
             "colorbar": {
              "outlinewidth": 0,
              "ticks": ""
             }
            },
            "type": "histogram"
           }
          ],
          "histogram2d": [
           {
            "colorbar": {
             "outlinewidth": 0,
             "ticks": ""
            },
            "colorscale": [
             [
              0,
              "#0d0887"
             ],
             [
              0.1111111111111111,
              "#46039f"
             ],
             [
              0.2222222222222222,
              "#7201a8"
             ],
             [
              0.3333333333333333,
              "#9c179e"
             ],
             [
              0.4444444444444444,
              "#bd3786"
             ],
             [
              0.5555555555555556,
              "#d8576b"
             ],
             [
              0.6666666666666666,
              "#ed7953"
             ],
             [
              0.7777777777777778,
              "#fb9f3a"
             ],
             [
              0.8888888888888888,
              "#fdca26"
             ],
             [
              1,
              "#f0f921"
             ]
            ],
            "type": "histogram2d"
           }
          ],
          "histogram2dcontour": [
           {
            "colorbar": {
             "outlinewidth": 0,
             "ticks": ""
            },
            "colorscale": [
             [
              0,
              "#0d0887"
             ],
             [
              0.1111111111111111,
              "#46039f"
             ],
             [
              0.2222222222222222,
              "#7201a8"
             ],
             [
              0.3333333333333333,
              "#9c179e"
             ],
             [
              0.4444444444444444,
              "#bd3786"
             ],
             [
              0.5555555555555556,
              "#d8576b"
             ],
             [
              0.6666666666666666,
              "#ed7953"
             ],
             [
              0.7777777777777778,
              "#fb9f3a"
             ],
             [
              0.8888888888888888,
              "#fdca26"
             ],
             [
              1,
              "#f0f921"
             ]
            ],
            "type": "histogram2dcontour"
           }
          ],
          "mesh3d": [
           {
            "colorbar": {
             "outlinewidth": 0,
             "ticks": ""
            },
            "type": "mesh3d"
           }
          ],
          "parcoords": [
           {
            "line": {
             "colorbar": {
              "outlinewidth": 0,
              "ticks": ""
             }
            },
            "type": "parcoords"
           }
          ],
          "pie": [
           {
            "automargin": true,
            "type": "pie"
           }
          ],
          "scatter": [
           {
            "marker": {
             "colorbar": {
              "outlinewidth": 0,
              "ticks": ""
             }
            },
            "type": "scatter"
           }
          ],
          "scatter3d": [
           {
            "line": {
             "colorbar": {
              "outlinewidth": 0,
              "ticks": ""
             }
            },
            "marker": {
             "colorbar": {
              "outlinewidth": 0,
              "ticks": ""
             }
            },
            "type": "scatter3d"
           }
          ],
          "scattercarpet": [
           {
            "marker": {
             "colorbar": {
              "outlinewidth": 0,
              "ticks": ""
             }
            },
            "type": "scattercarpet"
           }
          ],
          "scattergeo": [
           {
            "marker": {
             "colorbar": {
              "outlinewidth": 0,
              "ticks": ""
             }
            },
            "type": "scattergeo"
           }
          ],
          "scattergl": [
           {
            "marker": {
             "colorbar": {
              "outlinewidth": 0,
              "ticks": ""
             }
            },
            "type": "scattergl"
           }
          ],
          "scattermapbox": [
           {
            "marker": {
             "colorbar": {
              "outlinewidth": 0,
              "ticks": ""
             }
            },
            "type": "scattermapbox"
           }
          ],
          "scatterpolar": [
           {
            "marker": {
             "colorbar": {
              "outlinewidth": 0,
              "ticks": ""
             }
            },
            "type": "scatterpolar"
           }
          ],
          "scatterpolargl": [
           {
            "marker": {
             "colorbar": {
              "outlinewidth": 0,
              "ticks": ""
             }
            },
            "type": "scatterpolargl"
           }
          ],
          "scatterternary": [
           {
            "marker": {
             "colorbar": {
              "outlinewidth": 0,
              "ticks": ""
             }
            },
            "type": "scatterternary"
           }
          ],
          "surface": [
           {
            "colorbar": {
             "outlinewidth": 0,
             "ticks": ""
            },
            "colorscale": [
             [
              0,
              "#0d0887"
             ],
             [
              0.1111111111111111,
              "#46039f"
             ],
             [
              0.2222222222222222,
              "#7201a8"
             ],
             [
              0.3333333333333333,
              "#9c179e"
             ],
             [
              0.4444444444444444,
              "#bd3786"
             ],
             [
              0.5555555555555556,
              "#d8576b"
             ],
             [
              0.6666666666666666,
              "#ed7953"
             ],
             [
              0.7777777777777778,
              "#fb9f3a"
             ],
             [
              0.8888888888888888,
              "#fdca26"
             ],
             [
              1,
              "#f0f921"
             ]
            ],
            "type": "surface"
           }
          ],
          "table": [
           {
            "cells": {
             "fill": {
              "color": "#EBF0F8"
             },
             "line": {
              "color": "white"
             }
            },
            "header": {
             "fill": {
              "color": "#C8D4E3"
             },
             "line": {
              "color": "white"
             }
            },
            "type": "table"
           }
          ]
         },
         "layout": {
          "annotationdefaults": {
           "arrowcolor": "#2a3f5f",
           "arrowhead": 0,
           "arrowwidth": 1
          },
          "coloraxis": {
           "colorbar": {
            "outlinewidth": 0,
            "ticks": ""
           }
          },
          "colorscale": {
           "diverging": [
            [
             0,
             "#8e0152"
            ],
            [
             0.1,
             "#c51b7d"
            ],
            [
             0.2,
             "#de77ae"
            ],
            [
             0.3,
             "#f1b6da"
            ],
            [
             0.4,
             "#fde0ef"
            ],
            [
             0.5,
             "#f7f7f7"
            ],
            [
             0.6,
             "#e6f5d0"
            ],
            [
             0.7,
             "#b8e186"
            ],
            [
             0.8,
             "#7fbc41"
            ],
            [
             0.9,
             "#4d9221"
            ],
            [
             1,
             "#276419"
            ]
           ],
           "sequential": [
            [
             0,
             "#0d0887"
            ],
            [
             0.1111111111111111,
             "#46039f"
            ],
            [
             0.2222222222222222,
             "#7201a8"
            ],
            [
             0.3333333333333333,
             "#9c179e"
            ],
            [
             0.4444444444444444,
             "#bd3786"
            ],
            [
             0.5555555555555556,
             "#d8576b"
            ],
            [
             0.6666666666666666,
             "#ed7953"
            ],
            [
             0.7777777777777778,
             "#fb9f3a"
            ],
            [
             0.8888888888888888,
             "#fdca26"
            ],
            [
             1,
             "#f0f921"
            ]
           ],
           "sequentialminus": [
            [
             0,
             "#0d0887"
            ],
            [
             0.1111111111111111,
             "#46039f"
            ],
            [
             0.2222222222222222,
             "#7201a8"
            ],
            [
             0.3333333333333333,
             "#9c179e"
            ],
            [
             0.4444444444444444,
             "#bd3786"
            ],
            [
             0.5555555555555556,
             "#d8576b"
            ],
            [
             0.6666666666666666,
             "#ed7953"
            ],
            [
             0.7777777777777778,
             "#fb9f3a"
            ],
            [
             0.8888888888888888,
             "#fdca26"
            ],
            [
             1,
             "#f0f921"
            ]
           ]
          },
          "colorway": [
           "#636efa",
           "#EF553B",
           "#00cc96",
           "#ab63fa",
           "#FFA15A",
           "#19d3f3",
           "#FF6692",
           "#B6E880",
           "#FF97FF",
           "#FECB52"
          ],
          "font": {
           "color": "#2a3f5f"
          },
          "geo": {
           "bgcolor": "white",
           "lakecolor": "white",
           "landcolor": "#E5ECF6",
           "showlakes": true,
           "showland": true,
           "subunitcolor": "white"
          },
          "hoverlabel": {
           "align": "left"
          },
          "hovermode": "closest",
          "mapbox": {
           "style": "light"
          },
          "paper_bgcolor": "white",
          "plot_bgcolor": "#E5ECF6",
          "polar": {
           "angularaxis": {
            "gridcolor": "white",
            "linecolor": "white",
            "ticks": ""
           },
           "bgcolor": "#E5ECF6",
           "radialaxis": {
            "gridcolor": "white",
            "linecolor": "white",
            "ticks": ""
           }
          },
          "scene": {
           "xaxis": {
            "backgroundcolor": "#E5ECF6",
            "gridcolor": "white",
            "gridwidth": 2,
            "linecolor": "white",
            "showbackground": true,
            "ticks": "",
            "zerolinecolor": "white"
           },
           "yaxis": {
            "backgroundcolor": "#E5ECF6",
            "gridcolor": "white",
            "gridwidth": 2,
            "linecolor": "white",
            "showbackground": true,
            "ticks": "",
            "zerolinecolor": "white"
           },
           "zaxis": {
            "backgroundcolor": "#E5ECF6",
            "gridcolor": "white",
            "gridwidth": 2,
            "linecolor": "white",
            "showbackground": true,
            "ticks": "",
            "zerolinecolor": "white"
           }
          },
          "shapedefaults": {
           "line": {
            "color": "#2a3f5f"
           }
          },
          "ternary": {
           "aaxis": {
            "gridcolor": "white",
            "linecolor": "white",
            "ticks": ""
           },
           "baxis": {
            "gridcolor": "white",
            "linecolor": "white",
            "ticks": ""
           },
           "bgcolor": "#E5ECF6",
           "caxis": {
            "gridcolor": "white",
            "linecolor": "white",
            "ticks": ""
           }
          },
          "title": {
           "x": 0.05
          },
          "xaxis": {
           "automargin": true,
           "gridcolor": "white",
           "linecolor": "white",
           "ticks": "",
           "title": {
            "standoff": 15
           },
           "zerolinecolor": "white",
           "zerolinewidth": 2
          },
          "yaxis": {
           "automargin": true,
           "gridcolor": "white",
           "linecolor": "white",
           "ticks": "",
           "title": {
            "standoff": 15
           },
           "zerolinecolor": "white",
           "zerolinewidth": 2
          }
         }
        },
        "title": {
         "text": "GANTT Chart"
        },
        "xaxis": {
         "range": [
          "1970-01-01T00:00:00",
          "1970-01-01T00:01:40"
         ],
         "title": {
          "font": {
           "color": "#7f7f7f",
           "family": "Courier New, monospace",
           "size": 18
          },
          "text": "Time"
         }
        },
        "yaxis": {
         "title": {
          "font": {
           "color": "#7f7f7f",
           "family": "Courier New, monospace",
           "size": 18
          },
          "text": "Activities"
         }
        }
       }
      },
      "text/html": [
       "<div>                            <div id=\"6f8ab89e-e0ea-4e42-8f75-8d5ece4a65d2\" class=\"plotly-graph-div\" style=\"height:525px; width:100%;\"></div>            <script type=\"text/javascript\">                require([\"plotly\"], function(Plotly) {                    window.PLOTLYENV=window.PLOTLYENV || {};                                    if (document.getElementById(\"6f8ab89e-e0ea-4e42-8f75-8d5ece4a65d2\")) {                    Plotly.newPlot(                        \"6f8ab89e-e0ea-4e42-8f75-8d5ece4a65d2\",                        [{\"connectgaps\": false, \"hoverinfo\": \"y+name\", \"line\": {\"color\": \"rgb(164,201,139)\", \"width\": 10}, \"mode\": \"lines\", \"name\": \"while_activity\", \"type\": \"scatter\", \"x\": [\"1970-01-01T00:00:00\", \"1970-01-01T00:00:00\", \"1970-01-01T00:00:20\", \"1970-01-01T00:00:20\", \"1970-01-01T00:00:20\", \"1970-01-01T00:00:20\", \"1970-01-01T00:00:20\", \"1970-01-01T00:00:40\", \"1970-01-01T00:00:40\", \"1970-01-01T00:00:40\", \"1970-01-01T00:00:40\", \"1970-01-01T00:00:40\", \"1970-01-01T00:01:00\", \"1970-01-01T00:01:00\", \"1970-01-01T00:01:00\", \"1970-01-01T00:01:00\", \"1970-01-01T00:01:00\", \"1970-01-01T00:01:20\", \"1970-01-01T00:01:20\", \"1970-01-01T00:01:20\", \"1970-01-01T00:01:20\", \"1970-01-01T00:01:20\", \"1970-01-01T00:01:40\", \"1970-01-01T00:01:40\", \"1970-01-01T00:01:40\", \"1970-01-01T00:01:20\", \"1970-01-01T00:01:20\", \"1970-01-01T00:01:40\", \"1970-01-01T00:01:40\", \"1970-01-01T00:01:40\"], \"y\": [\"while_activity\", \"while_activity\", \"while_activity\", \"while_activity\", null, \"while_activity\", \"while_activity\", \"while_activity\", \"while_activity\", null, \"while_activity\", \"while_activity\", \"while_activity\", \"while_activity\", null, \"while_activity\", \"while_activity\", \"while_activity\", \"while_activity\", null, \"while_activity\", \"while_activity\", \"while_activity\", \"while_activity\", null, \"while_activity\", \"while_activity\", \"while_activity\", \"while_activity\", null]}, {\"connectgaps\": false, \"hoverinfo\": \"y+name\", \"line\": {\"color\": \"rgb(249,30,224)\", \"width\": 10}, \"mode\": \"lines\", \"name\": \"Shift 1 amount of payload\", \"type\": \"scatter\", \"x\": [\"1970-01-01T00:00:00\", \"1970-01-01T00:00:00\", \"1970-01-01T00:00:20\", \"1970-01-01T00:00:20\", \"1970-01-01T00:00:20\", \"1970-01-01T00:00:20\", \"1970-01-01T00:00:20\", \"1970-01-01T00:00:40\", \"1970-01-01T00:00:40\", \"1970-01-01T00:00:40\", \"1970-01-01T00:00:40\", \"1970-01-01T00:00:40\", \"1970-01-01T00:01:00\", \"1970-01-01T00:01:00\", \"1970-01-01T00:01:00\", \"1970-01-01T00:01:00\", \"1970-01-01T00:01:00\", \"1970-01-01T00:01:20\", \"1970-01-01T00:01:20\", \"1970-01-01T00:01:20\", \"1970-01-01T00:01:20\", \"1970-01-01T00:01:20\", \"1970-01-01T00:01:40\", \"1970-01-01T00:01:40\", \"1970-01-01T00:01:40\", \"1970-01-01T00:00:00\", \"1970-01-01T00:00:00\", \"1970-01-01T00:00:20\", \"1970-01-01T00:00:20\", \"1970-01-01T00:00:20\", \"1970-01-01T00:00:20\", \"1970-01-01T00:00:20\", \"1970-01-01T00:00:40\", \"1970-01-01T00:00:40\", \"1970-01-01T00:00:40\", \"1970-01-01T00:00:40\", \"1970-01-01T00:00:40\", \"1970-01-01T00:01:00\", \"1970-01-01T00:01:00\", \"1970-01-01T00:01:00\", \"1970-01-01T00:01:00\", \"1970-01-01T00:01:00\", \"1970-01-01T00:01:20\", \"1970-01-01T00:01:20\", \"1970-01-01T00:01:20\", \"1970-01-01T00:01:20\", \"1970-01-01T00:01:20\", \"1970-01-01T00:01:40\", \"1970-01-01T00:01:40\", \"1970-01-01T00:01:40\"], \"y\": [\"Shift 1 amount of payload\", \"Shift 1 amount of payload\", \"Shift 1 amount of payload\", \"Shift 1 amount of payload\", null, \"Shift 1 amount of payload\", \"Shift 1 amount of payload\", \"Shift 1 amount of payload\", \"Shift 1 amount of payload\", null, \"Shift 1 amount of payload\", \"Shift 1 amount of payload\", \"Shift 1 amount of payload\", \"Shift 1 amount of payload\", null, \"Shift 1 amount of payload\", \"Shift 1 amount of payload\", \"Shift 1 amount of payload\", \"Shift 1 amount of payload\", null, \"Shift 1 amount of payload\", \"Shift 1 amount of payload\", \"Shift 1 amount of payload\", \"Shift 1 amount of payload\", null, \"vessel01\", \"vessel01\", \"vessel01\", \"vessel01\", null, \"vessel01\", \"vessel01\", \"vessel01\", \"vessel01\", null, \"vessel01\", \"vessel01\", \"vessel01\", \"vessel01\", null, \"vessel01\", \"vessel01\", \"vessel01\", \"vessel01\", null, \"vessel01\", \"vessel01\", \"vessel01\", \"vessel01\", null]}, {\"connectgaps\": false, \"hoverinfo\": \"y+name\", \"line\": {\"color\": \"rgb(78,115,53)\", \"width\": 10}, \"mode\": \"lines\", \"name\": \"Shift 1 amount of payload\", \"type\": \"scatter\", \"x\": [\"1970-01-01T00:00:00\", \"1970-01-01T00:00:00\", \"1970-01-01T00:00:20\", \"1970-01-01T00:00:20\", \"1970-01-01T00:00:20\", \"1970-01-01T00:00:20\", \"1970-01-01T00:00:20\", \"1970-01-01T00:00:40\", \"1970-01-01T00:00:40\", \"1970-01-01T00:00:40\", \"1970-01-01T00:00:40\", \"1970-01-01T00:00:40\", \"1970-01-01T00:01:00\", \"1970-01-01T00:01:00\", \"1970-01-01T00:01:00\", \"1970-01-01T00:01:00\", \"1970-01-01T00:01:00\", \"1970-01-01T00:01:20\", \"1970-01-01T00:01:20\", \"1970-01-01T00:01:20\", \"1970-01-01T00:01:20\", \"1970-01-01T00:01:20\", \"1970-01-01T00:01:40\", \"1970-01-01T00:01:40\", \"1970-01-01T00:01:40\", \"1970-01-01T00:00:00\", \"1970-01-01T00:00:00\", \"1970-01-01T00:00:20\", \"1970-01-01T00:00:20\", \"1970-01-01T00:00:20\", \"1970-01-01T00:00:20\", \"1970-01-01T00:00:20\", \"1970-01-01T00:00:40\", \"1970-01-01T00:00:40\", \"1970-01-01T00:00:40\", \"1970-01-01T00:00:40\", \"1970-01-01T00:00:40\", \"1970-01-01T00:01:00\", \"1970-01-01T00:01:00\", \"1970-01-01T00:01:00\", \"1970-01-01T00:01:00\", \"1970-01-01T00:01:00\", \"1970-01-01T00:01:20\", \"1970-01-01T00:01:20\", \"1970-01-01T00:01:20\", \"1970-01-01T00:01:20\", \"1970-01-01T00:01:20\", \"1970-01-01T00:01:40\", \"1970-01-01T00:01:40\", \"1970-01-01T00:01:40\"], \"y\": [\"Shift 1 amount of payload\", \"Shift 1 amount of payload\", \"Shift 1 amount of payload\", \"Shift 1 amount of payload\", null, \"Shift 1 amount of payload\", \"Shift 1 amount of payload\", \"Shift 1 amount of payload\", \"Shift 1 amount of payload\", null, \"Shift 1 amount of payload\", \"Shift 1 amount of payload\", \"Shift 1 amount of payload\", \"Shift 1 amount of payload\", null, \"Shift 1 amount of payload\", \"Shift 1 amount of payload\", \"Shift 1 amount of payload\", \"Shift 1 amount of payload\", null, \"Shift 1 amount of payload\", \"Shift 1 amount of payload\", \"Shift 1 amount of payload\", \"Shift 1 amount of payload\", null, \"vessel01\", \"vessel01\", \"vessel01\", \"vessel01\", null, \"vessel01\", \"vessel01\", \"vessel01\", \"vessel01\", null, \"vessel01\", \"vessel01\", \"vessel01\", \"vessel01\", null, \"vessel01\", \"vessel01\", \"vessel01\", \"vessel01\", null, \"vessel01\", \"vessel01\", \"vessel01\", \"vessel01\", null]}],                        {\"hovermode\": \"closest\", \"legend\": {\"orientation\": \"h\", \"x\": 0, \"y\": -0.2}, \"template\": {\"data\": {\"bar\": [{\"error_x\": {\"color\": \"#2a3f5f\"}, \"error_y\": {\"color\": \"#2a3f5f\"}, \"marker\": {\"line\": {\"color\": \"#E5ECF6\", \"width\": 0.5}}, \"type\": \"bar\"}], \"barpolar\": [{\"marker\": {\"line\": {\"color\": \"#E5ECF6\", \"width\": 0.5}}, \"type\": \"barpolar\"}], \"carpet\": [{\"aaxis\": {\"endlinecolor\": \"#2a3f5f\", \"gridcolor\": \"white\", \"linecolor\": \"white\", \"minorgridcolor\": \"white\", \"startlinecolor\": \"#2a3f5f\"}, \"baxis\": {\"endlinecolor\": \"#2a3f5f\", \"gridcolor\": \"white\", \"linecolor\": \"white\", \"minorgridcolor\": \"white\", \"startlinecolor\": \"#2a3f5f\"}, \"type\": \"carpet\"}], \"choropleth\": [{\"colorbar\": {\"outlinewidth\": 0, \"ticks\": \"\"}, \"type\": \"choropleth\"}], \"contour\": [{\"colorbar\": {\"outlinewidth\": 0, \"ticks\": \"\"}, \"colorscale\": [[0.0, \"#0d0887\"], [0.1111111111111111, \"#46039f\"], [0.2222222222222222, \"#7201a8\"], [0.3333333333333333, \"#9c179e\"], [0.4444444444444444, \"#bd3786\"], [0.5555555555555556, \"#d8576b\"], [0.6666666666666666, \"#ed7953\"], [0.7777777777777778, \"#fb9f3a\"], [0.8888888888888888, \"#fdca26\"], [1.0, \"#f0f921\"]], \"type\": \"contour\"}], \"contourcarpet\": [{\"colorbar\": {\"outlinewidth\": 0, \"ticks\": \"\"}, \"type\": \"contourcarpet\"}], \"heatmap\": [{\"colorbar\": {\"outlinewidth\": 0, \"ticks\": \"\"}, \"colorscale\": [[0.0, \"#0d0887\"], [0.1111111111111111, \"#46039f\"], [0.2222222222222222, \"#7201a8\"], [0.3333333333333333, \"#9c179e\"], [0.4444444444444444, \"#bd3786\"], [0.5555555555555556, \"#d8576b\"], [0.6666666666666666, \"#ed7953\"], [0.7777777777777778, \"#fb9f3a\"], [0.8888888888888888, \"#fdca26\"], [1.0, \"#f0f921\"]], \"type\": \"heatmap\"}], \"heatmapgl\": [{\"colorbar\": {\"outlinewidth\": 0, \"ticks\": \"\"}, \"colorscale\": [[0.0, \"#0d0887\"], [0.1111111111111111, \"#46039f\"], [0.2222222222222222, \"#7201a8\"], [0.3333333333333333, \"#9c179e\"], [0.4444444444444444, \"#bd3786\"], [0.5555555555555556, \"#d8576b\"], [0.6666666666666666, \"#ed7953\"], [0.7777777777777778, \"#fb9f3a\"], [0.8888888888888888, \"#fdca26\"], [1.0, \"#f0f921\"]], \"type\": \"heatmapgl\"}], \"histogram\": [{\"marker\": {\"colorbar\": {\"outlinewidth\": 0, \"ticks\": \"\"}}, \"type\": \"histogram\"}], \"histogram2d\": [{\"colorbar\": {\"outlinewidth\": 0, \"ticks\": \"\"}, \"colorscale\": [[0.0, \"#0d0887\"], [0.1111111111111111, \"#46039f\"], [0.2222222222222222, \"#7201a8\"], [0.3333333333333333, \"#9c179e\"], [0.4444444444444444, \"#bd3786\"], [0.5555555555555556, \"#d8576b\"], [0.6666666666666666, \"#ed7953\"], [0.7777777777777778, \"#fb9f3a\"], [0.8888888888888888, \"#fdca26\"], [1.0, \"#f0f921\"]], \"type\": \"histogram2d\"}], \"histogram2dcontour\": [{\"colorbar\": {\"outlinewidth\": 0, \"ticks\": \"\"}, \"colorscale\": [[0.0, \"#0d0887\"], [0.1111111111111111, \"#46039f\"], [0.2222222222222222, \"#7201a8\"], [0.3333333333333333, \"#9c179e\"], [0.4444444444444444, \"#bd3786\"], [0.5555555555555556, \"#d8576b\"], [0.6666666666666666, \"#ed7953\"], [0.7777777777777778, \"#fb9f3a\"], [0.8888888888888888, \"#fdca26\"], [1.0, \"#f0f921\"]], \"type\": \"histogram2dcontour\"}], \"mesh3d\": [{\"colorbar\": {\"outlinewidth\": 0, \"ticks\": \"\"}, \"type\": \"mesh3d\"}], \"parcoords\": [{\"line\": {\"colorbar\": {\"outlinewidth\": 0, \"ticks\": \"\"}}, \"type\": \"parcoords\"}], \"pie\": [{\"automargin\": true, \"type\": \"pie\"}], \"scatter\": [{\"marker\": {\"colorbar\": {\"outlinewidth\": 0, \"ticks\": \"\"}}, \"type\": \"scatter\"}], \"scatter3d\": [{\"line\": {\"colorbar\": {\"outlinewidth\": 0, \"ticks\": \"\"}}, \"marker\": {\"colorbar\": {\"outlinewidth\": 0, \"ticks\": \"\"}}, \"type\": \"scatter3d\"}], \"scattercarpet\": [{\"marker\": {\"colorbar\": {\"outlinewidth\": 0, \"ticks\": \"\"}}, \"type\": \"scattercarpet\"}], \"scattergeo\": [{\"marker\": {\"colorbar\": {\"outlinewidth\": 0, \"ticks\": \"\"}}, \"type\": \"scattergeo\"}], \"scattergl\": [{\"marker\": {\"colorbar\": {\"outlinewidth\": 0, \"ticks\": \"\"}}, \"type\": \"scattergl\"}], \"scattermapbox\": [{\"marker\": {\"colorbar\": {\"outlinewidth\": 0, \"ticks\": \"\"}}, \"type\": \"scattermapbox\"}], \"scatterpolar\": [{\"marker\": {\"colorbar\": {\"outlinewidth\": 0, \"ticks\": \"\"}}, \"type\": \"scatterpolar\"}], \"scatterpolargl\": [{\"marker\": {\"colorbar\": {\"outlinewidth\": 0, \"ticks\": \"\"}}, \"type\": \"scatterpolargl\"}], \"scatterternary\": [{\"marker\": {\"colorbar\": {\"outlinewidth\": 0, \"ticks\": \"\"}}, \"type\": \"scatterternary\"}], \"surface\": [{\"colorbar\": {\"outlinewidth\": 0, \"ticks\": \"\"}, \"colorscale\": [[0.0, \"#0d0887\"], [0.1111111111111111, \"#46039f\"], [0.2222222222222222, \"#7201a8\"], [0.3333333333333333, \"#9c179e\"], [0.4444444444444444, \"#bd3786\"], [0.5555555555555556, \"#d8576b\"], [0.6666666666666666, \"#ed7953\"], [0.7777777777777778, \"#fb9f3a\"], [0.8888888888888888, \"#fdca26\"], [1.0, \"#f0f921\"]], \"type\": \"surface\"}], \"table\": [{\"cells\": {\"fill\": {\"color\": \"#EBF0F8\"}, \"line\": {\"color\": \"white\"}}, \"header\": {\"fill\": {\"color\": \"#C8D4E3\"}, \"line\": {\"color\": \"white\"}}, \"type\": \"table\"}]}, \"layout\": {\"annotationdefaults\": {\"arrowcolor\": \"#2a3f5f\", \"arrowhead\": 0, \"arrowwidth\": 1}, \"coloraxis\": {\"colorbar\": {\"outlinewidth\": 0, \"ticks\": \"\"}}, \"colorscale\": {\"diverging\": [[0, \"#8e0152\"], [0.1, \"#c51b7d\"], [0.2, \"#de77ae\"], [0.3, \"#f1b6da\"], [0.4, \"#fde0ef\"], [0.5, \"#f7f7f7\"], [0.6, \"#e6f5d0\"], [0.7, \"#b8e186\"], [0.8, \"#7fbc41\"], [0.9, \"#4d9221\"], [1, \"#276419\"]], \"sequential\": [[0.0, \"#0d0887\"], [0.1111111111111111, \"#46039f\"], [0.2222222222222222, \"#7201a8\"], [0.3333333333333333, \"#9c179e\"], [0.4444444444444444, \"#bd3786\"], [0.5555555555555556, \"#d8576b\"], [0.6666666666666666, \"#ed7953\"], [0.7777777777777778, \"#fb9f3a\"], [0.8888888888888888, \"#fdca26\"], [1.0, \"#f0f921\"]], \"sequentialminus\": [[0.0, \"#0d0887\"], [0.1111111111111111, \"#46039f\"], [0.2222222222222222, \"#7201a8\"], [0.3333333333333333, \"#9c179e\"], [0.4444444444444444, \"#bd3786\"], [0.5555555555555556, \"#d8576b\"], [0.6666666666666666, \"#ed7953\"], [0.7777777777777778, \"#fb9f3a\"], [0.8888888888888888, \"#fdca26\"], [1.0, \"#f0f921\"]]}, \"colorway\": [\"#636efa\", \"#EF553B\", \"#00cc96\", \"#ab63fa\", \"#FFA15A\", \"#19d3f3\", \"#FF6692\", \"#B6E880\", \"#FF97FF\", \"#FECB52\"], \"font\": {\"color\": \"#2a3f5f\"}, \"geo\": {\"bgcolor\": \"white\", \"lakecolor\": \"white\", \"landcolor\": \"#E5ECF6\", \"showlakes\": true, \"showland\": true, \"subunitcolor\": \"white\"}, \"hoverlabel\": {\"align\": \"left\"}, \"hovermode\": \"closest\", \"mapbox\": {\"style\": \"light\"}, \"paper_bgcolor\": \"white\", \"plot_bgcolor\": \"#E5ECF6\", \"polar\": {\"angularaxis\": {\"gridcolor\": \"white\", \"linecolor\": \"white\", \"ticks\": \"\"}, \"bgcolor\": \"#E5ECF6\", \"radialaxis\": {\"gridcolor\": \"white\", \"linecolor\": \"white\", \"ticks\": \"\"}}, \"scene\": {\"xaxis\": {\"backgroundcolor\": \"#E5ECF6\", \"gridcolor\": \"white\", \"gridwidth\": 2, \"linecolor\": \"white\", \"showbackground\": true, \"ticks\": \"\", \"zerolinecolor\": \"white\"}, \"yaxis\": {\"backgroundcolor\": \"#E5ECF6\", \"gridcolor\": \"white\", \"gridwidth\": 2, \"linecolor\": \"white\", \"showbackground\": true, \"ticks\": \"\", \"zerolinecolor\": \"white\"}, \"zaxis\": {\"backgroundcolor\": \"#E5ECF6\", \"gridcolor\": \"white\", \"gridwidth\": 2, \"linecolor\": \"white\", \"showbackground\": true, \"ticks\": \"\", \"zerolinecolor\": \"white\"}}, \"shapedefaults\": {\"line\": {\"color\": \"#2a3f5f\"}}, \"ternary\": {\"aaxis\": {\"gridcolor\": \"white\", \"linecolor\": \"white\", \"ticks\": \"\"}, \"baxis\": {\"gridcolor\": \"white\", \"linecolor\": \"white\", \"ticks\": \"\"}, \"bgcolor\": \"#E5ECF6\", \"caxis\": {\"gridcolor\": \"white\", \"linecolor\": \"white\", \"ticks\": \"\"}}, \"title\": {\"x\": 0.05}, \"xaxis\": {\"automargin\": true, \"gridcolor\": \"white\", \"linecolor\": \"white\", \"ticks\": \"\", \"title\": {\"standoff\": 15}, \"zerolinecolor\": \"white\", \"zerolinewidth\": 2}, \"yaxis\": {\"automargin\": true, \"gridcolor\": \"white\", \"linecolor\": \"white\", \"ticks\": \"\", \"title\": {\"standoff\": 15}, \"zerolinecolor\": \"white\", \"zerolinewidth\": 2}}}, \"title\": {\"text\": \"GANTT Chart\"}, \"xaxis\": {\"range\": [\"1970-01-01T00:00:00\", \"1970-01-01T00:01:40\"], \"title\": {\"font\": {\"color\": \"#7f7f7f\", \"family\": \"Courier New, monospace\", \"size\": 18}, \"text\": \"Time\"}}, \"yaxis\": {\"title\": {\"font\": {\"color\": \"#7f7f7f\", \"family\": \"Courier New, monospace\", \"size\": 18}, \"text\": \"Activities\"}}},                        {\"responsive\": true}                    ).then(function(){\n",
       "                            \n",
       "var gd = document.getElementById('6f8ab89e-e0ea-4e42-8f75-8d5ece4a65d2');\n",
       "var x = new MutationObserver(function (mutations, observer) {{\n",
       "        var display = window.getComputedStyle(gd).display;\n",
       "        if (!display || display === 'none') {{\n",
       "            console.log([gd, 'removed!']);\n",
       "            Plotly.purge(gd);\n",
       "            observer.disconnect();\n",
       "        }}\n",
       "}});\n",
       "\n",
       "// Listen for the removal of the full notebook cells\n",
       "var notebookContainer = gd.closest('#notebook-container');\n",
       "if (notebookContainer) {{\n",
       "    x.observe(notebookContainer, {childList: true});\n",
       "}}\n",
       "\n",
       "// Listen for the clearing of the current output cell\n",
       "var outputEl = gd.closest('.output');\n",
       "if (outputEl) {{\n",
       "    x.observe(outputEl, {childList: true});\n",
       "}}\n",
       "\n",
       "                        })                };                });            </script>        </div>"
      ]
     },
     "metadata": {},
     "output_type": "display_data"
    }
   ],
   "source": [
    "plot.get_gantt_chart([while_activity, *sub_processes, vessel01])"
   ]
  },
  {
   "cell_type": "markdown",
   "metadata": {},
   "source": [
    "#### Sandbox"
   ]
  },
  {
   "cell_type": "markdown",
   "metadata": {},
   "source": [
    "We can inspect the resulting levels of the container objects in vessel01 and from_site as follows. "
   ]
  },
  {
   "cell_type": "code",
   "execution_count": 12,
   "metadata": {},
   "outputs": [
    {
     "data": {
      "text/plain": [
       "5.0"
      ]
     },
     "execution_count": 12,
     "metadata": {},
     "output_type": "execute_result"
    }
   ],
   "source": [
    "vessel01.container.get_level()"
   ]
  },
  {
   "cell_type": "code",
   "execution_count": 13,
   "metadata": {},
   "outputs": [
    {
     "data": {
      "text/plain": [
       "5"
      ]
     },
     "execution_count": 13,
     "metadata": {},
     "output_type": "execute_result"
    }
   ],
   "source": [
    "from_site.container.get_level()"
   ]
  }
 ],
 "metadata": {
  "kernelspec": {
   "display_name": "Python 3",
   "language": "python",
   "name": "python3"
  },
  "language_info": {
   "codemirror_mode": {
    "name": "ipython",
    "version": 3
   },
   "file_extension": ".py",
   "mimetype": "text/x-python",
   "name": "python",
   "nbconvert_exporter": "python",
   "pygments_lexer": "ipython3",
   "version": "3.8.6"
  }
 },
 "nbformat": 4,
 "nbformat_minor": 2
}
