{
 "cells": [
  {
   "cell_type": "markdown",
   "metadata": {},
   "source": [
    "## Demo: MoveActivity\n",
    "The basic steps to set up an OpenCLSim simulation are:\n",
    "* Import libraries\n",
    "* Initialise simpy environment\n",
    "* Define object classes\n",
    "* Create objects\n",
    "  * Create sites\n",
    "  * Create vessels\n",
    "  * Create activities\n",
    "* Register processes and run simpy\n",
    "\n",
    "----\n",
    "\n",
    "This notebook shows the basic contours of a first OpenCLSim simulation. It defines a from_site and moves vessel01 from there to a to_site. No volume is shifted yet."
   ]
  },
  {
   "cell_type": "markdown",
   "metadata": {},
   "source": [
    "#### 0. Import libraries"
   ]
  },
  {
   "cell_type": "code",
   "execution_count": 1,
   "metadata": {},
   "outputs": [],
   "source": [
    "import datetime, time\n",
    "import simpy\n",
    "\n",
    "import shapely.geometry\n",
    "import pandas as pd\n",
    "\n",
    "import openclsim.core as core\n",
    "import openclsim.model as model\n",
    "import openclsim.plot as plot"
   ]
  },
  {
   "cell_type": "markdown",
   "metadata": {},
   "source": [
    "#### 1. Initialise simpy environment"
   ]
  },
  {
   "cell_type": "code",
   "execution_count": 2,
   "metadata": {},
   "outputs": [],
   "source": [
    "# setup environment\n",
    "simulation_start = 0\n",
    "my_env = simpy.Environment(initial_time=simulation_start)"
   ]
  },
  {
   "cell_type": "markdown",
   "metadata": {},
   "source": [
    "#### 2. Define object classes"
   ]
  },
  {
   "cell_type": "code",
   "execution_count": 3,
   "metadata": {},
   "outputs": [],
   "source": [
    "# create a Site object based on desired mixin classes\n",
    "Site = type(\n",
    "    \"Site\",\n",
    "    (\n",
    "        core.Identifiable,\n",
    "        core.Log,\n",
    "        core.Locatable,\n",
    "        core.HasContainer,\n",
    "        core.HasResource,\n",
    "    ),\n",
    "    {},\n",
    ")\n",
    "\n",
    "# create a TransportProcessingResource object based on desired mixin classes\n",
    "TransportProcessingResource = type(\n",
    "    \"TransportProcessingResource\",\n",
    "    (\n",
    "        core.Identifiable,\n",
    "        core.Log,\n",
    "        core.ContainerDependentMovable,\n",
    "        core.HasResource,\n",
    "        core.Processor,\n",
    "    ),\n",
    "    {},\n",
    ")"
   ]
  },
  {
   "cell_type": "markdown",
   "metadata": {},
   "source": [
    "#### 3. Create objects\n",
    "##### 3.1. Create site object(s)"
   ]
  },
  {
   "cell_type": "code",
   "execution_count": 4,
   "metadata": {},
   "outputs": [],
   "source": [
    "# prepare input data for from_site\n",
    "location_from_site = shapely.geometry.Point(4.18055556, 52.18664444)\n",
    "\n",
    "# prepare input data for from_site\n",
    "location_to_site = shapely.geometry.Point(4.25222222, 52.11428333)\n",
    "data_to_site = {\"env\": my_env,\n",
    "                \"name\": \"to_site\",\n",
    "                \"geometry\": location_to_site,\n",
    "                \"capacity\": 100,\n",
    "                \"level\": 100\n",
    "               }\n",
    "# instantiate to_site \n",
    "to_site = Site(**data_to_site)"
   ]
  },
  {
   "cell_type": "markdown",
   "metadata": {},
   "source": [
    "##### 3.2. Create vessel object(s)"
   ]
  },
  {
   "cell_type": "code",
   "execution_count": 5,
   "metadata": {},
   "outputs": [],
   "source": [
    "# prepare input data for vessel_01\n",
    "data_vessel01 = {\"env\": my_env,\n",
    "                 \"name\": \"vessel01\",\n",
    "                 \"geometry\": location_from_site, \n",
    "                 \"capacity\": 5,\n",
    "                 \"compute_v\": lambda x: 10\n",
    "               }\n",
    "# instantiate vessel_01 \n",
    "vessel01 = TransportProcessingResource(**data_vessel01)"
   ]
  },
  {
   "cell_type": "markdown",
   "metadata": {},
   "source": [
    "##### 3.3 Create activity/activities"
   ]
  },
  {
   "cell_type": "code",
   "execution_count": 6,
   "metadata": {},
   "outputs": [],
   "source": [
    "# initialise registry\n",
    "registry = {}"
   ]
  },
  {
   "cell_type": "code",
   "execution_count": 7,
   "metadata": {},
   "outputs": [],
   "source": [
    "activity = model.MoveActivity(\n",
    "    env=my_env,\n",
    "    name=\"Move activity\",\n",
    "    registry=registry,\n",
    "    mover=vessel01,\n",
    "    destination=to_site,\n",
    ")"
   ]
  },
  {
   "cell_type": "markdown",
   "metadata": {},
   "source": [
    "#### 4. Register processes and run simpy"
   ]
  },
  {
   "cell_type": "code",
   "execution_count": 8,
   "metadata": {},
   "outputs": [],
   "source": [
    "# initate the simpy processes defined in the 'move activity' and run simpy\n",
    "model.register_processes([activity])\n",
    "my_env.run()"
   ]
  },
  {
   "cell_type": "markdown",
   "metadata": {},
   "source": [
    "#### 5. Inspect results\n",
    "##### 5.1 Inspect logs\n",
    "We can now inspect the logs. Since the model only contains a move activity not volume was shifted."
   ]
  },
  {
   "cell_type": "code",
   "execution_count": 9,
   "metadata": {},
   "outputs": [
    {
     "data": {
      "text/html": [
       "<div>\n",
       "<style scoped>\n",
       "    .dataframe tbody tr th:only-of-type {\n",
       "        vertical-align: middle;\n",
       "    }\n",
       "\n",
       "    .dataframe tbody tr th {\n",
       "        vertical-align: top;\n",
       "    }\n",
       "\n",
       "    .dataframe thead th {\n",
       "        text-align: right;\n",
       "    }\n",
       "</style>\n",
       "<table border=\"1\" class=\"dataframe\">\n",
       "  <thead>\n",
       "    <tr style=\"text-align: right;\">\n",
       "      <th></th>\n",
       "      <th>Activity</th>\n",
       "      <th>Timestamp</th>\n",
       "      <th>ActivityState</th>\n",
       "    </tr>\n",
       "  </thead>\n",
       "  <tbody>\n",
       "    <tr>\n",
       "      <th>0</th>\n",
       "      <td>Move activity</td>\n",
       "      <td>1970-01-01 00:00:00.000000</td>\n",
       "      <td>START</td>\n",
       "    </tr>\n",
       "    <tr>\n",
       "      <th>1</th>\n",
       "      <td>Move activity</td>\n",
       "      <td>1970-01-01 00:15:42.824591</td>\n",
       "      <td>STOP</td>\n",
       "    </tr>\n",
       "  </tbody>\n",
       "</table>\n",
       "</div>"
      ],
      "text/plain": [
       "        Activity                  Timestamp ActivityState\n",
       "0  Move activity 1970-01-01 00:00:00.000000         START\n",
       "1  Move activity 1970-01-01 00:15:42.824591          STOP"
      ]
     },
     "metadata": {},
     "output_type": "display_data"
    }
   ],
   "source": [
    "display(plot.get_log_dataframe(activity, [activity]))"
   ]
  },
  {
   "cell_type": "code",
   "execution_count": 10,
   "metadata": {},
   "outputs": [
    {
     "data": {
      "text/html": [
       "<div>\n",
       "<style scoped>\n",
       "    .dataframe tbody tr th:only-of-type {\n",
       "        vertical-align: middle;\n",
       "    }\n",
       "\n",
       "    .dataframe tbody tr th {\n",
       "        vertical-align: top;\n",
       "    }\n",
       "\n",
       "    .dataframe thead th {\n",
       "        text-align: right;\n",
       "    }\n",
       "</style>\n",
       "<table border=\"1\" class=\"dataframe\">\n",
       "  <thead>\n",
       "    <tr style=\"text-align: right;\">\n",
       "      <th></th>\n",
       "      <th>Activity</th>\n",
       "      <th>Timestamp</th>\n",
       "      <th>ActivityState</th>\n",
       "      <th>geometry</th>\n",
       "      <th>container level</th>\n",
       "    </tr>\n",
       "  </thead>\n",
       "  <tbody>\n",
       "    <tr>\n",
       "      <th>0</th>\n",
       "      <td>Move activity</td>\n",
       "      <td>1970-01-01 00:00:00.000000</td>\n",
       "      <td>START</td>\n",
       "      <td>POINT (4.18055556 52.18664444)</td>\n",
       "      <td>0.0</td>\n",
       "    </tr>\n",
       "    <tr>\n",
       "      <th>1</th>\n",
       "      <td>Move activity</td>\n",
       "      <td>1970-01-01 00:15:42.824591</td>\n",
       "      <td>STOP</td>\n",
       "      <td>POINT (4.25222222 52.11428333)</td>\n",
       "      <td>0.0</td>\n",
       "    </tr>\n",
       "  </tbody>\n",
       "</table>\n",
       "</div>"
      ],
      "text/plain": [
       "        Activity                  Timestamp ActivityState  \\\n",
       "0  Move activity 1970-01-01 00:00:00.000000         START   \n",
       "1  Move activity 1970-01-01 00:15:42.824591          STOP   \n",
       "\n",
       "                         geometry  container level  \n",
       "0  POINT (4.18055556 52.18664444)              0.0  \n",
       "1  POINT (4.25222222 52.11428333)              0.0  "
      ]
     },
     "metadata": {},
     "output_type": "display_data"
    }
   ],
   "source": [
    "display(plot.get_log_dataframe(vessel01, [activity]))"
   ]
  },
  {
   "cell_type": "markdown",
   "metadata": {},
   "source": [
    "Observe that there was movement. There was no amount shifting."
   ]
  }
 ],
 "metadata": {
  "kernelspec": {
   "display_name": "Python 3",
   "language": "python",
   "name": "python3"
  },
  "language_info": {
   "codemirror_mode": {
    "name": "ipython",
    "version": 3
   },
   "file_extension": ".py",
   "mimetype": "text/x-python",
   "name": "python",
   "nbconvert_exporter": "python",
   "pygments_lexer": "ipython3",
   "version": "3.8.6"
  }
 },
 "nbformat": 4,
 "nbformat_minor": 2
}
