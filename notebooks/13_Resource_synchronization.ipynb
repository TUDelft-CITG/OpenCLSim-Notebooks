{
 "cells": [
  {
   "cell_type": "markdown",
   "metadata": {},
   "source": [
    "## Demo: resource synchronization\n",
    "The basic steps to set up an OpenCLSim simulation are:\n",
    "* Import libraries\n",
    "* Initialise simpy environment\n",
    "* Define object classes\n",
    "* Create objects\n",
    "  * Create sites\n",
    "  * Create vessels\n",
    "  * Create activities\n",
    "* Register processes and run simpy\n",
    "\n",
    "----\n",
    "\n",
    "Synchronization of resources means that before objects can be moved from one location to another, the processor as well as the origin and the destination resource must be available. If a resource is not available the process will wait untill the resource available.\n",
    "\n",
    "Currently this waiting time is not recorded in the logs. The waiting time can be derived from the activity log by identifying time differences between the completion of an activity and the start of the subsequent activity.\n",
    "\n",
    "This is an incomplete feature since preserve reservations can not be released automatically. Recommendation is to have a request_resource and a release_resource activity.\n",
    "\n",
    "The current mechanism is based on two attributes of activities\n",
    "- **keep_resources** a list of resources, which should not be released at the end of an activity\n",
    "- **reserved_resources** is a dictionary, should be initialized for all activities of a process with the same variable. This will enable the transfer of reserved resources from one activity to another one."
   ]
  },
  {
   "cell_type": "markdown",
   "metadata": {},
   "source": [
    "#### 0. Import libraries"
   ]
  },
  {
   "cell_type": "code",
   "execution_count": 1,
   "metadata": {},
   "outputs": [],
   "source": [
    "import datetime, time\n",
    "import simpy\n",
    "\n",
    "import shapely.geometry\n",
    "import pandas as pd\n",
    "\n",
    "import openclsim.core as core\n",
    "import openclsim.model as model\n",
    "import openclsim.plot as plot"
   ]
  },
  {
   "cell_type": "markdown",
   "metadata": {},
   "source": [
    "#### 1. Initialise simpy environment"
   ]
  },
  {
   "cell_type": "code",
   "execution_count": 2,
   "metadata": {},
   "outputs": [],
   "source": [
    "# setup environment\n",
    "simulation_start = 0\n",
    "my_env = simpy.Environment(initial_time=simulation_start)"
   ]
  },
  {
   "cell_type": "markdown",
   "metadata": {},
   "source": [
    "#### 2. Define object classes"
   ]
  },
  {
   "cell_type": "code",
   "execution_count": 3,
   "metadata": {},
   "outputs": [],
   "source": [
    "# create a Site object based on desired mixin classes\n",
    "Site = type(\n",
    "    \"Site\",\n",
    "    (\n",
    "        core.Identifiable,\n",
    "        core.Log,\n",
    "        core.Locatable,\n",
    "        core.HasContainer,\n",
    "        core.HasResource,\n",
    "    ),\n",
    "    {},\n",
    ")\n",
    "\n",
    "# create a TransportProcessingResource object based on desired mixin classes\n",
    "TransportProcessingResource = type(\n",
    "    \"TransportProcessingResource\",\n",
    "    (\n",
    "        core.Identifiable,\n",
    "        core.Log,\n",
    "        core.ContainerDependentMovable,\n",
    "        core.Processor,\n",
    "        core.HasResource,\n",
    "        core.LoadingFunction,\n",
    "        core.UnloadingFunction,\n",
    "    ),\n",
    "    {},\n",
    ")"
   ]
  },
  {
   "cell_type": "markdown",
   "metadata": {},
   "source": [
    "#### 3. Create objects\n",
    "##### 3.1. Create site object(s)"
   ]
  },
  {
   "cell_type": "code",
   "execution_count": 4,
   "metadata": {},
   "outputs": [],
   "source": [
    "# prepare input data for from_site\n",
    "location_from_site = shapely.geometry.Point(4.18055556, 52.18664444)\n",
    "data_from_site = {\"env\": my_env,\n",
    "                  \"name\": \"from_site\",\n",
    "                  \"geometry\": location_from_site,\n",
    "                  \"capacity\": 10,\n",
    "                  \"level\": 8\n",
    "                 }\n",
    "# instantiate from_site \n",
    "from_site = Site(**data_from_site)"
   ]
  },
  {
   "cell_type": "markdown",
   "metadata": {},
   "source": [
    "##### 3.2. Create vessel object(s)"
   ]
  },
  {
   "cell_type": "code",
   "execution_count": 5,
   "metadata": {},
   "outputs": [],
   "source": [
    "# prepare input data for vessel_01\n",
    "data_vessel01 = {\"env\": my_env,\n",
    "                 \"name\": \"vessel01\",\n",
    "                 \"geometry\": location_from_site, \n",
    "                 \"loading_rate\": 1,\n",
    "                 \"unloading_rate\": 1,\n",
    "                 \"capacity\": 4,\n",
    "                 \"compute_v\": lambda x: 10\n",
    "               }\n",
    "# instantiate vessel_01 \n",
    "vessel01 = TransportProcessingResource(**data_vessel01)\n",
    "\n",
    "# prepare input data for vessel_02\n",
    "data_vessel02 = {\"env\": my_env,\n",
    "                 \"name\": \"vessel02\",\n",
    "                 \"geometry\": location_from_site, \n",
    "                 \"loading_rate\": 1,\n",
    "                 \"unloading_rate\": 1,\n",
    "                 \"capacity\": 4,\n",
    "                 \"compute_v\": lambda x: 10\n",
    "               }\n",
    "# instantiate vessel_02 \n",
    "vessel02 = TransportProcessingResource(**data_vessel02)"
   ]
  },
  {
   "cell_type": "markdown",
   "metadata": {},
   "source": [
    "##### 3.3 Create activity/activities\n",
    "Then **requested_resources1** variable is used to initialize all activities below. This enables the transfer of reserved resources to the next activity.\n",
    "\n",
    "The **keep_resources** parameter tells that after hopper1 has received an object from *from_site* it should not release the *from_site* resource."
   ]
  },
  {
   "cell_type": "code",
   "execution_count": 6,
   "metadata": {},
   "outputs": [],
   "source": [
    "# initialise registry and keep_resources\n",
    "registry = {}\n",
    "keep_resources = {}"
   ]
  },
  {
   "cell_type": "code",
   "execution_count": 7,
   "metadata": {},
   "outputs": [],
   "source": [
    "requested_resources1 = {}\n",
    "activity1 = model.ShiftAmountActivity(\n",
    "    env=my_env,\n",
    "    name=\"Transfer 1\",\n",
    "    registry=registry,\n",
    "    processor=vessel01,\n",
    "    origin=from_site,\n",
    "    destination=vessel01,\n",
    "    amount=1,\n",
    "    duration=20,\n",
    "    requested_resources=requested_resources1,\n",
    ")\n",
    "\n",
    "seq_activity1 = model.SequentialActivity(\n",
    "    env=my_env,\n",
    "    name=\"Sequential process 1\",\n",
    "    registry=registry,\n",
    "    sub_processes=[activity1],\n",
    "    requested_resources=requested_resources1,\n",
    ")\n",
    "\n",
    "while1 = model.WhileActivity(\n",
    "    env=my_env,\n",
    "    name=\"While 1\",\n",
    "    registry=registry,\n",
    "    sub_processes=[seq_activity1],\n",
    "    requested_resources=requested_resources1,\n",
    "    condition_event=[\n",
    "        {\n",
    "            \"or\": [\n",
    "                {\"type\": \"container\", \"concept\": vessel01, \"state\": \"full\"},\n",
    "                {\"type\": \"container\", \"concept\": from_site, \"state\": \"empty\"},\n",
    "            ]\n",
    "        }\n",
    "    ],\n",
    ")"
   ]
  },
  {
   "cell_type": "markdown",
   "metadata": {},
   "source": [
    "The second activity is a normal process without special parameters."
   ]
  },
  {
   "cell_type": "code",
   "execution_count": 8,
   "metadata": {},
   "outputs": [],
   "source": [
    "activity2 = model.ShiftAmountActivity(\n",
    "    env=my_env,\n",
    "    name=\"Transfer 2\",\n",
    "    registry=registry,\n",
    "    processor=vessel02,\n",
    "    origin=from_site,\n",
    "    destination=vessel02,\n",
    "    amount=1,\n",
    "    duration=20,\n",
    ")\n",
    "\n",
    "seq_activity2 = model.SequentialActivity(\n",
    "    env=my_env,\n",
    "    name=\"Sequential process 2\",\n",
    "    registry=registry,\n",
    "    sub_processes=[activity2],\n",
    ")\n",
    "while2 = model.WhileActivity(\n",
    "    env=my_env,\n",
    "    name=\"While 2\",\n",
    "    registry=registry,\n",
    "    sub_processes=[seq_activity2],\n",
    "    condition_event=[\n",
    "        {\n",
    "            \"or\": [\n",
    "                {\"type\": \"container\", \"concept\": vessel02, \"state\": \"full\"},\n",
    "                {\"type\": \"container\", \"concept\": from_site, \"state\": \"empty\"},\n",
    "            ]\n",
    "        }\n",
    "    ],\n",
    ")"
   ]
  },
  {
   "cell_type": "markdown",
   "metadata": {},
   "source": [
    "#### 4. Register processes and run simpy"
   ]
  },
  {
   "cell_type": "code",
   "execution_count": 9,
   "metadata": {
    "tags": [
     "outputPrepend"
    ]
   },
   "outputs": [],
   "source": [
    "# initate the simpy processes defined in the two 'while activities' and run simpy\n",
    "model.register_processes([while1, while2])\n",
    "my_env.run()"
   ]
  },
  {
   "cell_type": "markdown",
   "metadata": {},
   "source": [
    "#### 5. Inspect results\n",
    "##### 5.1 Inspect logs"
   ]
  },
  {
   "cell_type": "code",
   "execution_count": 10,
   "metadata": {},
   "outputs": [
    {
     "data": {
      "text/html": [
       "<div>\n",
       "<style scoped>\n",
       "    .dataframe tbody tr th:only-of-type {\n",
       "        vertical-align: middle;\n",
       "    }\n",
       "\n",
       "    .dataframe tbody tr th {\n",
       "        vertical-align: top;\n",
       "    }\n",
       "\n",
       "    .dataframe thead th {\n",
       "        text-align: right;\n",
       "    }\n",
       "</style>\n",
       "<table border=\"1\" class=\"dataframe\">\n",
       "  <thead>\n",
       "    <tr style=\"text-align: right;\">\n",
       "      <th></th>\n",
       "      <th>Activity</th>\n",
       "      <th>Timestamp</th>\n",
       "      <th>ActivityState</th>\n",
       "      <th>container level</th>\n",
       "      <th>geometry</th>\n",
       "    </tr>\n",
       "  </thead>\n",
       "  <tbody>\n",
       "    <tr>\n",
       "      <th>0</th>\n",
       "      <td>Transfer 1</td>\n",
       "      <td>1970-01-01 00:00:00</td>\n",
       "      <td>START</td>\n",
       "      <td>8</td>\n",
       "      <td>POINT (4.18055556 52.18664444)</td>\n",
       "    </tr>\n",
       "    <tr>\n",
       "      <th>1</th>\n",
       "      <td>Transfer 1</td>\n",
       "      <td>1970-01-01 00:00:20</td>\n",
       "      <td>STOP</td>\n",
       "      <td>7</td>\n",
       "      <td>POINT (4.18055556 52.18664444)</td>\n",
       "    </tr>\n",
       "    <tr>\n",
       "      <th>2</th>\n",
       "      <td>Transfer 2</td>\n",
       "      <td>1970-01-01 00:00:20</td>\n",
       "      <td>START</td>\n",
       "      <td>7</td>\n",
       "      <td>POINT (4.18055556 52.18664444)</td>\n",
       "    </tr>\n",
       "    <tr>\n",
       "      <th>3</th>\n",
       "      <td>Transfer 2</td>\n",
       "      <td>1970-01-01 00:00:40</td>\n",
       "      <td>STOP</td>\n",
       "      <td>6</td>\n",
       "      <td>POINT (4.18055556 52.18664444)</td>\n",
       "    </tr>\n",
       "    <tr>\n",
       "      <th>4</th>\n",
       "      <td>Transfer 1</td>\n",
       "      <td>1970-01-01 00:00:40</td>\n",
       "      <td>START</td>\n",
       "      <td>6</td>\n",
       "      <td>POINT (4.18055556 52.18664444)</td>\n",
       "    </tr>\n",
       "    <tr>\n",
       "      <th>5</th>\n",
       "      <td>Transfer 1</td>\n",
       "      <td>1970-01-01 00:01:00</td>\n",
       "      <td>STOP</td>\n",
       "      <td>5</td>\n",
       "      <td>POINT (4.18055556 52.18664444)</td>\n",
       "    </tr>\n",
       "    <tr>\n",
       "      <th>6</th>\n",
       "      <td>Transfer 2</td>\n",
       "      <td>1970-01-01 00:01:00</td>\n",
       "      <td>START</td>\n",
       "      <td>5</td>\n",
       "      <td>POINT (4.18055556 52.18664444)</td>\n",
       "    </tr>\n",
       "    <tr>\n",
       "      <th>7</th>\n",
       "      <td>Transfer 2</td>\n",
       "      <td>1970-01-01 00:01:20</td>\n",
       "      <td>STOP</td>\n",
       "      <td>4</td>\n",
       "      <td>POINT (4.18055556 52.18664444)</td>\n",
       "    </tr>\n",
       "    <tr>\n",
       "      <th>8</th>\n",
       "      <td>Transfer 1</td>\n",
       "      <td>1970-01-01 00:01:20</td>\n",
       "      <td>START</td>\n",
       "      <td>4</td>\n",
       "      <td>POINT (4.18055556 52.18664444)</td>\n",
       "    </tr>\n",
       "    <tr>\n",
       "      <th>9</th>\n",
       "      <td>Transfer 1</td>\n",
       "      <td>1970-01-01 00:01:40</td>\n",
       "      <td>STOP</td>\n",
       "      <td>3</td>\n",
       "      <td>POINT (4.18055556 52.18664444)</td>\n",
       "    </tr>\n",
       "    <tr>\n",
       "      <th>10</th>\n",
       "      <td>Transfer 2</td>\n",
       "      <td>1970-01-01 00:01:40</td>\n",
       "      <td>START</td>\n",
       "      <td>3</td>\n",
       "      <td>POINT (4.18055556 52.18664444)</td>\n",
       "    </tr>\n",
       "    <tr>\n",
       "      <th>11</th>\n",
       "      <td>Transfer 2</td>\n",
       "      <td>1970-01-01 00:02:00</td>\n",
       "      <td>STOP</td>\n",
       "      <td>2</td>\n",
       "      <td>POINT (4.18055556 52.18664444)</td>\n",
       "    </tr>\n",
       "    <tr>\n",
       "      <th>12</th>\n",
       "      <td>Transfer 1</td>\n",
       "      <td>1970-01-01 00:02:00</td>\n",
       "      <td>START</td>\n",
       "      <td>2</td>\n",
       "      <td>POINT (4.18055556 52.18664444)</td>\n",
       "    </tr>\n",
       "    <tr>\n",
       "      <th>13</th>\n",
       "      <td>Transfer 1</td>\n",
       "      <td>1970-01-01 00:02:20</td>\n",
       "      <td>STOP</td>\n",
       "      <td>1</td>\n",
       "      <td>POINT (4.18055556 52.18664444)</td>\n",
       "    </tr>\n",
       "    <tr>\n",
       "      <th>14</th>\n",
       "      <td>Transfer 2</td>\n",
       "      <td>1970-01-01 00:02:20</td>\n",
       "      <td>START</td>\n",
       "      <td>1</td>\n",
       "      <td>POINT (4.18055556 52.18664444)</td>\n",
       "    </tr>\n",
       "    <tr>\n",
       "      <th>15</th>\n",
       "      <td>Transfer 2</td>\n",
       "      <td>1970-01-01 00:02:40</td>\n",
       "      <td>STOP</td>\n",
       "      <td>0</td>\n",
       "      <td>POINT (4.18055556 52.18664444)</td>\n",
       "    </tr>\n",
       "  </tbody>\n",
       "</table>\n",
       "</div>"
      ],
      "text/plain": [
       "      Activity           Timestamp ActivityState  container level  \\\n",
       "0   Transfer 1 1970-01-01 00:00:00         START                8   \n",
       "1   Transfer 1 1970-01-01 00:00:20          STOP                7   \n",
       "2   Transfer 2 1970-01-01 00:00:20         START                7   \n",
       "3   Transfer 2 1970-01-01 00:00:40          STOP                6   \n",
       "4   Transfer 1 1970-01-01 00:00:40         START                6   \n",
       "5   Transfer 1 1970-01-01 00:01:00          STOP                5   \n",
       "6   Transfer 2 1970-01-01 00:01:00         START                5   \n",
       "7   Transfer 2 1970-01-01 00:01:20          STOP                4   \n",
       "8   Transfer 1 1970-01-01 00:01:20         START                4   \n",
       "9   Transfer 1 1970-01-01 00:01:40          STOP                3   \n",
       "10  Transfer 2 1970-01-01 00:01:40         START                3   \n",
       "11  Transfer 2 1970-01-01 00:02:00          STOP                2   \n",
       "12  Transfer 1 1970-01-01 00:02:00         START                2   \n",
       "13  Transfer 1 1970-01-01 00:02:20          STOP                1   \n",
       "14  Transfer 2 1970-01-01 00:02:20         START                1   \n",
       "15  Transfer 2 1970-01-01 00:02:40          STOP                0   \n",
       "\n",
       "                          geometry  \n",
       "0   POINT (4.18055556 52.18664444)  \n",
       "1   POINT (4.18055556 52.18664444)  \n",
       "2   POINT (4.18055556 52.18664444)  \n",
       "3   POINT (4.18055556 52.18664444)  \n",
       "4   POINT (4.18055556 52.18664444)  \n",
       "5   POINT (4.18055556 52.18664444)  \n",
       "6   POINT (4.18055556 52.18664444)  \n",
       "7   POINT (4.18055556 52.18664444)  \n",
       "8   POINT (4.18055556 52.18664444)  \n",
       "9   POINT (4.18055556 52.18664444)  \n",
       "10  POINT (4.18055556 52.18664444)  \n",
       "11  POINT (4.18055556 52.18664444)  \n",
       "12  POINT (4.18055556 52.18664444)  \n",
       "13  POINT (4.18055556 52.18664444)  \n",
       "14  POINT (4.18055556 52.18664444)  \n",
       "15  POINT (4.18055556 52.18664444)  "
      ]
     },
     "execution_count": 10,
     "metadata": {},
     "output_type": "execute_result"
    }
   ],
   "source": [
    "plot.get_log_dataframe(from_site, [while2, seq_activity2, activity2, while1, seq_activity1, activity1])"
   ]
  },
  {
   "cell_type": "code",
   "execution_count": 11,
   "metadata": {},
   "outputs": [
    {
     "data": {
      "text/html": [
       "<div>\n",
       "<style scoped>\n",
       "    .dataframe tbody tr th:only-of-type {\n",
       "        vertical-align: middle;\n",
       "    }\n",
       "\n",
       "    .dataframe tbody tr th {\n",
       "        vertical-align: top;\n",
       "    }\n",
       "\n",
       "    .dataframe thead th {\n",
       "        text-align: right;\n",
       "    }\n",
       "</style>\n",
       "<table border=\"1\" class=\"dataframe\">\n",
       "  <thead>\n",
       "    <tr style=\"text-align: right;\">\n",
       "      <th></th>\n",
       "      <th>Activity</th>\n",
       "      <th>Timestamp</th>\n",
       "      <th>ActivityState</th>\n",
       "      <th>geometry</th>\n",
       "      <th>container level</th>\n",
       "    </tr>\n",
       "  </thead>\n",
       "  <tbody>\n",
       "    <tr>\n",
       "      <th>0</th>\n",
       "      <td>Transfer 1</td>\n",
       "      <td>1970-01-01 00:00:00</td>\n",
       "      <td>START</td>\n",
       "      <td>POINT (4.18055556 52.18664444)</td>\n",
       "      <td>0.0</td>\n",
       "    </tr>\n",
       "    <tr>\n",
       "      <th>1</th>\n",
       "      <td>Transfer 1</td>\n",
       "      <td>1970-01-01 00:00:20</td>\n",
       "      <td>STOP</td>\n",
       "      <td>POINT (4.18055556 52.18664444)</td>\n",
       "      <td>1.0</td>\n",
       "    </tr>\n",
       "    <tr>\n",
       "      <th>2</th>\n",
       "      <td>Transfer 1</td>\n",
       "      <td>1970-01-01 00:00:40</td>\n",
       "      <td>START</td>\n",
       "      <td>POINT (4.18055556 52.18664444)</td>\n",
       "      <td>1.0</td>\n",
       "    </tr>\n",
       "    <tr>\n",
       "      <th>3</th>\n",
       "      <td>Transfer 1</td>\n",
       "      <td>1970-01-01 00:01:00</td>\n",
       "      <td>STOP</td>\n",
       "      <td>POINT (4.18055556 52.18664444)</td>\n",
       "      <td>2.0</td>\n",
       "    </tr>\n",
       "    <tr>\n",
       "      <th>4</th>\n",
       "      <td>Transfer 1</td>\n",
       "      <td>1970-01-01 00:01:20</td>\n",
       "      <td>START</td>\n",
       "      <td>POINT (4.18055556 52.18664444)</td>\n",
       "      <td>2.0</td>\n",
       "    </tr>\n",
       "    <tr>\n",
       "      <th>5</th>\n",
       "      <td>Transfer 1</td>\n",
       "      <td>1970-01-01 00:01:40</td>\n",
       "      <td>STOP</td>\n",
       "      <td>POINT (4.18055556 52.18664444)</td>\n",
       "      <td>3.0</td>\n",
       "    </tr>\n",
       "    <tr>\n",
       "      <th>6</th>\n",
       "      <td>Transfer 1</td>\n",
       "      <td>1970-01-01 00:02:00</td>\n",
       "      <td>START</td>\n",
       "      <td>POINT (4.18055556 52.18664444)</td>\n",
       "      <td>3.0</td>\n",
       "    </tr>\n",
       "    <tr>\n",
       "      <th>7</th>\n",
       "      <td>Transfer 1</td>\n",
       "      <td>1970-01-01 00:02:20</td>\n",
       "      <td>STOP</td>\n",
       "      <td>POINT (4.18055556 52.18664444)</td>\n",
       "      <td>4.0</td>\n",
       "    </tr>\n",
       "  </tbody>\n",
       "</table>\n",
       "</div>"
      ],
      "text/plain": [
       "     Activity           Timestamp ActivityState  \\\n",
       "0  Transfer 1 1970-01-01 00:00:00         START   \n",
       "1  Transfer 1 1970-01-01 00:00:20          STOP   \n",
       "2  Transfer 1 1970-01-01 00:00:40         START   \n",
       "3  Transfer 1 1970-01-01 00:01:00          STOP   \n",
       "4  Transfer 1 1970-01-01 00:01:20         START   \n",
       "5  Transfer 1 1970-01-01 00:01:40          STOP   \n",
       "6  Transfer 1 1970-01-01 00:02:00         START   \n",
       "7  Transfer 1 1970-01-01 00:02:20          STOP   \n",
       "\n",
       "                         geometry  container level  \n",
       "0  POINT (4.18055556 52.18664444)              0.0  \n",
       "1  POINT (4.18055556 52.18664444)              1.0  \n",
       "2  POINT (4.18055556 52.18664444)              1.0  \n",
       "3  POINT (4.18055556 52.18664444)              2.0  \n",
       "4  POINT (4.18055556 52.18664444)              2.0  \n",
       "5  POINT (4.18055556 52.18664444)              3.0  \n",
       "6  POINT (4.18055556 52.18664444)              3.0  \n",
       "7  POINT (4.18055556 52.18664444)              4.0  "
      ]
     },
     "execution_count": 11,
     "metadata": {},
     "output_type": "execute_result"
    }
   ],
   "source": [
    "plot.get_log_dataframe(vessel01, [while2, seq_activity2, activity2, while1, seq_activity1, activity1])"
   ]
  },
  {
   "cell_type": "code",
   "execution_count": 12,
   "metadata": {},
   "outputs": [
    {
     "data": {
      "text/html": [
       "<div>\n",
       "<style scoped>\n",
       "    .dataframe tbody tr th:only-of-type {\n",
       "        vertical-align: middle;\n",
       "    }\n",
       "\n",
       "    .dataframe tbody tr th {\n",
       "        vertical-align: top;\n",
       "    }\n",
       "\n",
       "    .dataframe thead th {\n",
       "        text-align: right;\n",
       "    }\n",
       "</style>\n",
       "<table border=\"1\" class=\"dataframe\">\n",
       "  <thead>\n",
       "    <tr style=\"text-align: right;\">\n",
       "      <th></th>\n",
       "      <th>Activity</th>\n",
       "      <th>Timestamp</th>\n",
       "      <th>ActivityState</th>\n",
       "      <th>geometry</th>\n",
       "      <th>container level</th>\n",
       "    </tr>\n",
       "  </thead>\n",
       "  <tbody>\n",
       "    <tr>\n",
       "      <th>0</th>\n",
       "      <td>Transfer 2</td>\n",
       "      <td>1970-01-01 00:00:20</td>\n",
       "      <td>START</td>\n",
       "      <td>POINT (4.18055556 52.18664444)</td>\n",
       "      <td>0.0</td>\n",
       "    </tr>\n",
       "    <tr>\n",
       "      <th>1</th>\n",
       "      <td>Transfer 2</td>\n",
       "      <td>1970-01-01 00:00:40</td>\n",
       "      <td>STOP</td>\n",
       "      <td>POINT (4.18055556 52.18664444)</td>\n",
       "      <td>1.0</td>\n",
       "    </tr>\n",
       "    <tr>\n",
       "      <th>2</th>\n",
       "      <td>Transfer 2</td>\n",
       "      <td>1970-01-01 00:01:00</td>\n",
       "      <td>START</td>\n",
       "      <td>POINT (4.18055556 52.18664444)</td>\n",
       "      <td>1.0</td>\n",
       "    </tr>\n",
       "    <tr>\n",
       "      <th>3</th>\n",
       "      <td>Transfer 2</td>\n",
       "      <td>1970-01-01 00:01:20</td>\n",
       "      <td>STOP</td>\n",
       "      <td>POINT (4.18055556 52.18664444)</td>\n",
       "      <td>2.0</td>\n",
       "    </tr>\n",
       "    <tr>\n",
       "      <th>4</th>\n",
       "      <td>Transfer 2</td>\n",
       "      <td>1970-01-01 00:01:40</td>\n",
       "      <td>START</td>\n",
       "      <td>POINT (4.18055556 52.18664444)</td>\n",
       "      <td>2.0</td>\n",
       "    </tr>\n",
       "    <tr>\n",
       "      <th>5</th>\n",
       "      <td>Transfer 2</td>\n",
       "      <td>1970-01-01 00:02:00</td>\n",
       "      <td>STOP</td>\n",
       "      <td>POINT (4.18055556 52.18664444)</td>\n",
       "      <td>3.0</td>\n",
       "    </tr>\n",
       "    <tr>\n",
       "      <th>6</th>\n",
       "      <td>Transfer 2</td>\n",
       "      <td>1970-01-01 00:02:20</td>\n",
       "      <td>START</td>\n",
       "      <td>POINT (4.18055556 52.18664444)</td>\n",
       "      <td>3.0</td>\n",
       "    </tr>\n",
       "    <tr>\n",
       "      <th>7</th>\n",
       "      <td>Transfer 2</td>\n",
       "      <td>1970-01-01 00:02:40</td>\n",
       "      <td>STOP</td>\n",
       "      <td>POINT (4.18055556 52.18664444)</td>\n",
       "      <td>4.0</td>\n",
       "    </tr>\n",
       "  </tbody>\n",
       "</table>\n",
       "</div>"
      ],
      "text/plain": [
       "     Activity           Timestamp ActivityState  \\\n",
       "0  Transfer 2 1970-01-01 00:00:20         START   \n",
       "1  Transfer 2 1970-01-01 00:00:40          STOP   \n",
       "2  Transfer 2 1970-01-01 00:01:00         START   \n",
       "3  Transfer 2 1970-01-01 00:01:20          STOP   \n",
       "4  Transfer 2 1970-01-01 00:01:40         START   \n",
       "5  Transfer 2 1970-01-01 00:02:00          STOP   \n",
       "6  Transfer 2 1970-01-01 00:02:20         START   \n",
       "7  Transfer 2 1970-01-01 00:02:40          STOP   \n",
       "\n",
       "                         geometry  container level  \n",
       "0  POINT (4.18055556 52.18664444)              0.0  \n",
       "1  POINT (4.18055556 52.18664444)              1.0  \n",
       "2  POINT (4.18055556 52.18664444)              1.0  \n",
       "3  POINT (4.18055556 52.18664444)              2.0  \n",
       "4  POINT (4.18055556 52.18664444)              2.0  \n",
       "5  POINT (4.18055556 52.18664444)              3.0  \n",
       "6  POINT (4.18055556 52.18664444)              3.0  \n",
       "7  POINT (4.18055556 52.18664444)              4.0  "
      ]
     },
     "execution_count": 12,
     "metadata": {},
     "output_type": "execute_result"
    }
   ],
   "source": [
    "plot.get_log_dataframe(vessel02, [while2, seq_activity2, activity2, while1, seq_activity1, activity1])"
   ]
  },
  {
   "cell_type": "code",
   "execution_count": 13,
   "metadata": {},
   "outputs": [
    {
     "data": {
      "text/html": [
       "<div>\n",
       "<style scoped>\n",
       "    .dataframe tbody tr th:only-of-type {\n",
       "        vertical-align: middle;\n",
       "    }\n",
       "\n",
       "    .dataframe tbody tr th {\n",
       "        vertical-align: top;\n",
       "    }\n",
       "\n",
       "    .dataframe thead th {\n",
       "        text-align: right;\n",
       "    }\n",
       "</style>\n",
       "<table border=\"1\" class=\"dataframe\">\n",
       "  <thead>\n",
       "    <tr style=\"text-align: right;\">\n",
       "      <th></th>\n",
       "      <th>Activity</th>\n",
       "      <th>Timestamp</th>\n",
       "      <th>ActivityState</th>\n",
       "      <th>geometry</th>\n",
       "      <th>container level</th>\n",
       "    </tr>\n",
       "  </thead>\n",
       "  <tbody>\n",
       "    <tr>\n",
       "      <th>0</th>\n",
       "      <td>Transfer 2</td>\n",
       "      <td>1970-01-01 00:00:20</td>\n",
       "      <td>START</td>\n",
       "      <td>POINT (4.18055556 52.18664444)</td>\n",
       "      <td>0.0</td>\n",
       "    </tr>\n",
       "    <tr>\n",
       "      <th>1</th>\n",
       "      <td>Transfer 2</td>\n",
       "      <td>1970-01-01 00:00:40</td>\n",
       "      <td>STOP</td>\n",
       "      <td>POINT (4.18055556 52.18664444)</td>\n",
       "      <td>1.0</td>\n",
       "    </tr>\n",
       "    <tr>\n",
       "      <th>2</th>\n",
       "      <td>Transfer 2</td>\n",
       "      <td>1970-01-01 00:01:00</td>\n",
       "      <td>START</td>\n",
       "      <td>POINT (4.18055556 52.18664444)</td>\n",
       "      <td>1.0</td>\n",
       "    </tr>\n",
       "    <tr>\n",
       "      <th>3</th>\n",
       "      <td>Transfer 2</td>\n",
       "      <td>1970-01-01 00:01:20</td>\n",
       "      <td>STOP</td>\n",
       "      <td>POINT (4.18055556 52.18664444)</td>\n",
       "      <td>2.0</td>\n",
       "    </tr>\n",
       "    <tr>\n",
       "      <th>4</th>\n",
       "      <td>Transfer 2</td>\n",
       "      <td>1970-01-01 00:01:40</td>\n",
       "      <td>START</td>\n",
       "      <td>POINT (4.18055556 52.18664444)</td>\n",
       "      <td>2.0</td>\n",
       "    </tr>\n",
       "    <tr>\n",
       "      <th>5</th>\n",
       "      <td>Transfer 2</td>\n",
       "      <td>1970-01-01 00:02:00</td>\n",
       "      <td>STOP</td>\n",
       "      <td>POINT (4.18055556 52.18664444)</td>\n",
       "      <td>3.0</td>\n",
       "    </tr>\n",
       "    <tr>\n",
       "      <th>6</th>\n",
       "      <td>Transfer 2</td>\n",
       "      <td>1970-01-01 00:02:20</td>\n",
       "      <td>START</td>\n",
       "      <td>POINT (4.18055556 52.18664444)</td>\n",
       "      <td>3.0</td>\n",
       "    </tr>\n",
       "    <tr>\n",
       "      <th>7</th>\n",
       "      <td>Transfer 2</td>\n",
       "      <td>1970-01-01 00:02:40</td>\n",
       "      <td>STOP</td>\n",
       "      <td>POINT (4.18055556 52.18664444)</td>\n",
       "      <td>4.0</td>\n",
       "    </tr>\n",
       "  </tbody>\n",
       "</table>\n",
       "</div>"
      ],
      "text/plain": [
       "     Activity           Timestamp ActivityState  \\\n",
       "0  Transfer 2 1970-01-01 00:00:20         START   \n",
       "1  Transfer 2 1970-01-01 00:00:40          STOP   \n",
       "2  Transfer 2 1970-01-01 00:01:00         START   \n",
       "3  Transfer 2 1970-01-01 00:01:20          STOP   \n",
       "4  Transfer 2 1970-01-01 00:01:40         START   \n",
       "5  Transfer 2 1970-01-01 00:02:00          STOP   \n",
       "6  Transfer 2 1970-01-01 00:02:20         START   \n",
       "7  Transfer 2 1970-01-01 00:02:40          STOP   \n",
       "\n",
       "                         geometry  container level  \n",
       "0  POINT (4.18055556 52.18664444)              0.0  \n",
       "1  POINT (4.18055556 52.18664444)              1.0  \n",
       "2  POINT (4.18055556 52.18664444)              1.0  \n",
       "3  POINT (4.18055556 52.18664444)              2.0  \n",
       "4  POINT (4.18055556 52.18664444)              2.0  \n",
       "5  POINT (4.18055556 52.18664444)              3.0  \n",
       "6  POINT (4.18055556 52.18664444)              3.0  \n",
       "7  POINT (4.18055556 52.18664444)              4.0  "
      ]
     },
     "execution_count": 13,
     "metadata": {},
     "output_type": "execute_result"
    }
   ],
   "source": [
    "plot.get_log_dataframe(vessel02, [while2, seq_activity2, activity2, while1, seq_activity1, activity1])"
   ]
  },
  {
   "cell_type": "markdown",
   "metadata": {},
   "source": [
    "Interesting in this scenario is that the process of hopper2 is not executed at all because hopper1 takes requests the resource *from_site* and never releases it again, thus hopper2 process can not start.\n",
    "\n",
    "By commenting out the **keep_resource** parameter in shift amount activity of hopper1, will result in hopper1 and hopper2 getting access to the resource *from_site* one after each other."
   ]
  },
  {
   "cell_type": "markdown",
   "metadata": {},
   "source": [
    "##### 5.2 Visualise gantt charts"
   ]
  },
  {
   "cell_type": "code",
   "execution_count": 14,
   "metadata": {},
   "outputs": [
    {
     "data": {
      "text/html": [
       "        <script type=\"text/javascript\">\n",
       "        window.PlotlyConfig = {MathJaxConfig: 'local'};\n",
       "        if (window.MathJax) {MathJax.Hub.Config({SVG: {font: \"STIX-Web\"}});}\n",
       "        if (typeof require !== 'undefined') {\n",
       "        require.undef(\"plotly\");\n",
       "        requirejs.config({\n",
       "            paths: {\n",
       "                'plotly': ['https://cdn.plot.ly/plotly-latest.min']\n",
       "            }\n",
       "        });\n",
       "        require(['plotly'], function(Plotly) {\n",
       "            window._Plotly = Plotly;\n",
       "        });\n",
       "        }\n",
       "        </script>\n",
       "        "
      ]
     },
     "metadata": {},
     "output_type": "display_data"
    },
    {
     "data": {
      "application/vnd.plotly.v1+json": {
       "config": {
        "linkText": "Export to plot.ly",
        "plotlyServerURL": "https://plot.ly",
        "showLink": false
       },
       "data": [
        {
         "connectgaps": false,
         "hoverinfo": "y+name",
         "line": {
          "color": "rgb(132,158,58)",
          "width": 10
         },
         "mode": "lines",
         "name": "4fd8e64c-2a43-464a-8fb3-d6768a64738b",
         "type": "scatter",
         "x": [
          "1970-01-01T00:00:00",
          "1970-01-01T00:00:00",
          "1970-01-01T00:00:20",
          "1970-01-01T00:00:20",
          "1970-01-01T00:00:20",
          "1970-01-01T00:00:40",
          "1970-01-01T00:00:40",
          "1970-01-01T00:01:00",
          "1970-01-01T00:01:00",
          "1970-01-01T00:01:00",
          "1970-01-01T00:01:20",
          "1970-01-01T00:01:20",
          "1970-01-01T00:01:40",
          "1970-01-01T00:01:40",
          "1970-01-01T00:01:40",
          "1970-01-01T00:02:00",
          "1970-01-01T00:02:00",
          "1970-01-01T00:02:20",
          "1970-01-01T00:02:20",
          "1970-01-01T00:02:20",
          "1970-01-01T00:00:00",
          "1970-01-01T00:00:00",
          "1970-01-01T00:00:20",
          "1970-01-01T00:00:20",
          "1970-01-01T00:00:20",
          "1970-01-01T00:00:40",
          "1970-01-01T00:00:40",
          "1970-01-01T00:01:00",
          "1970-01-01T00:01:00",
          "1970-01-01T00:01:00",
          "1970-01-01T00:01:20",
          "1970-01-01T00:01:20",
          "1970-01-01T00:01:40",
          "1970-01-01T00:01:40",
          "1970-01-01T00:01:40",
          "1970-01-01T00:02:00",
          "1970-01-01T00:02:00",
          "1970-01-01T00:02:20",
          "1970-01-01T00:02:20",
          "1970-01-01T00:02:20"
         ],
         "y": [
          "from_site",
          "from_site",
          "from_site",
          "from_site",
          null,
          "from_site",
          "from_site",
          "from_site",
          "from_site",
          null,
          "from_site",
          "from_site",
          "from_site",
          "from_site",
          null,
          "from_site",
          "from_site",
          "from_site",
          "from_site",
          null,
          "vessel01",
          "vessel01",
          "vessel01",
          "vessel01",
          null,
          "vessel01",
          "vessel01",
          "vessel01",
          "vessel01",
          null,
          "vessel01",
          "vessel01",
          "vessel01",
          "vessel01",
          null,
          "vessel01",
          "vessel01",
          "vessel01",
          "vessel01",
          null
         ]
        },
        {
         "connectgaps": false,
         "hoverinfo": "y+name",
         "line": {
          "color": "rgb(196,222,122)",
          "width": 10
         },
         "mode": "lines",
         "name": "11d1c9ac-629a-4ba8-b144-419c24d83374",
         "type": "scatter",
         "x": [
          "1970-01-01T00:00:20",
          "1970-01-01T00:00:20",
          "1970-01-01T00:00:40",
          "1970-01-01T00:00:40",
          "1970-01-01T00:00:40",
          "1970-01-01T00:01:00",
          "1970-01-01T00:01:00",
          "1970-01-01T00:01:20",
          "1970-01-01T00:01:20",
          "1970-01-01T00:01:20",
          "1970-01-01T00:01:40",
          "1970-01-01T00:01:40",
          "1970-01-01T00:02:00",
          "1970-01-01T00:02:00",
          "1970-01-01T00:02:00",
          "1970-01-01T00:02:20",
          "1970-01-01T00:02:20",
          "1970-01-01T00:02:40",
          "1970-01-01T00:02:40",
          "1970-01-01T00:02:40",
          "1970-01-01T00:00:20",
          "1970-01-01T00:00:20",
          "1970-01-01T00:00:40",
          "1970-01-01T00:00:40",
          "1970-01-01T00:00:40",
          "1970-01-01T00:01:00",
          "1970-01-01T00:01:00",
          "1970-01-01T00:01:20",
          "1970-01-01T00:01:20",
          "1970-01-01T00:01:20",
          "1970-01-01T00:01:40",
          "1970-01-01T00:01:40",
          "1970-01-01T00:02:00",
          "1970-01-01T00:02:00",
          "1970-01-01T00:02:00",
          "1970-01-01T00:02:20",
          "1970-01-01T00:02:20",
          "1970-01-01T00:02:40",
          "1970-01-01T00:02:40",
          "1970-01-01T00:02:40"
         ],
         "y": [
          "from_site",
          "from_site",
          "from_site",
          "from_site",
          null,
          "from_site",
          "from_site",
          "from_site",
          "from_site",
          null,
          "from_site",
          "from_site",
          "from_site",
          "from_site",
          null,
          "from_site",
          "from_site",
          "from_site",
          "from_site",
          null,
          "vessel02",
          "vessel02",
          "vessel02",
          "vessel02",
          null,
          "vessel02",
          "vessel02",
          "vessel02",
          "vessel02",
          null,
          "vessel02",
          "vessel02",
          "vessel02",
          "vessel02",
          null,
          "vessel02",
          "vessel02",
          "vessel02",
          "vessel02",
          null
         ]
        },
        {
         "connectgaps": false,
         "hoverinfo": "y+name",
         "line": {
          "color": "rgb(4,30,186)",
          "width": 10
         },
         "mode": "lines",
         "name": "4fd8e64c-2a43-464a-8fb3-d6768a64738b",
         "type": "scatter",
         "x": [
          "1970-01-01T00:00:00",
          "1970-01-01T00:00:00",
          "1970-01-01T00:00:20",
          "1970-01-01T00:00:20",
          "1970-01-01T00:00:20",
          "1970-01-01T00:00:40",
          "1970-01-01T00:00:40",
          "1970-01-01T00:01:00",
          "1970-01-01T00:01:00",
          "1970-01-01T00:01:00",
          "1970-01-01T00:01:20",
          "1970-01-01T00:01:20",
          "1970-01-01T00:01:40",
          "1970-01-01T00:01:40",
          "1970-01-01T00:01:40",
          "1970-01-01T00:02:00",
          "1970-01-01T00:02:00",
          "1970-01-01T00:02:20",
          "1970-01-01T00:02:20",
          "1970-01-01T00:02:20",
          "1970-01-01T00:00:00",
          "1970-01-01T00:00:00",
          "1970-01-01T00:00:20",
          "1970-01-01T00:00:20",
          "1970-01-01T00:00:20",
          "1970-01-01T00:00:40",
          "1970-01-01T00:00:40",
          "1970-01-01T00:01:00",
          "1970-01-01T00:01:00",
          "1970-01-01T00:01:00",
          "1970-01-01T00:01:20",
          "1970-01-01T00:01:20",
          "1970-01-01T00:01:40",
          "1970-01-01T00:01:40",
          "1970-01-01T00:01:40",
          "1970-01-01T00:02:00",
          "1970-01-01T00:02:00",
          "1970-01-01T00:02:20",
          "1970-01-01T00:02:20",
          "1970-01-01T00:02:20"
         ],
         "y": [
          "from_site",
          "from_site",
          "from_site",
          "from_site",
          null,
          "from_site",
          "from_site",
          "from_site",
          "from_site",
          null,
          "from_site",
          "from_site",
          "from_site",
          "from_site",
          null,
          "from_site",
          "from_site",
          "from_site",
          "from_site",
          null,
          "vessel01",
          "vessel01",
          "vessel01",
          "vessel01",
          null,
          "vessel01",
          "vessel01",
          "vessel01",
          "vessel01",
          null,
          "vessel01",
          "vessel01",
          "vessel01",
          "vessel01",
          null,
          "vessel01",
          "vessel01",
          "vessel01",
          "vessel01",
          null
         ]
        },
        {
         "connectgaps": false,
         "hoverinfo": "y+name",
         "line": {
          "color": "rgb(68,94,250)",
          "width": 10
         },
         "mode": "lines",
         "name": "11d1c9ac-629a-4ba8-b144-419c24d83374",
         "type": "scatter",
         "x": [
          "1970-01-01T00:00:20",
          "1970-01-01T00:00:20",
          "1970-01-01T00:00:40",
          "1970-01-01T00:00:40",
          "1970-01-01T00:00:40",
          "1970-01-01T00:01:00",
          "1970-01-01T00:01:00",
          "1970-01-01T00:01:20",
          "1970-01-01T00:01:20",
          "1970-01-01T00:01:20",
          "1970-01-01T00:01:40",
          "1970-01-01T00:01:40",
          "1970-01-01T00:02:00",
          "1970-01-01T00:02:00",
          "1970-01-01T00:02:00",
          "1970-01-01T00:02:20",
          "1970-01-01T00:02:20",
          "1970-01-01T00:02:40",
          "1970-01-01T00:02:40",
          "1970-01-01T00:02:40",
          "1970-01-01T00:00:20",
          "1970-01-01T00:00:20",
          "1970-01-01T00:00:40",
          "1970-01-01T00:00:40",
          "1970-01-01T00:00:40",
          "1970-01-01T00:01:00",
          "1970-01-01T00:01:00",
          "1970-01-01T00:01:20",
          "1970-01-01T00:01:20",
          "1970-01-01T00:01:20",
          "1970-01-01T00:01:40",
          "1970-01-01T00:01:40",
          "1970-01-01T00:02:00",
          "1970-01-01T00:02:00",
          "1970-01-01T00:02:00",
          "1970-01-01T00:02:20",
          "1970-01-01T00:02:20",
          "1970-01-01T00:02:40",
          "1970-01-01T00:02:40",
          "1970-01-01T00:02:40"
         ],
         "y": [
          "from_site",
          "from_site",
          "from_site",
          "from_site",
          null,
          "from_site",
          "from_site",
          "from_site",
          "from_site",
          null,
          "from_site",
          "from_site",
          "from_site",
          "from_site",
          null,
          "from_site",
          "from_site",
          "from_site",
          "from_site",
          null,
          "vessel02",
          "vessel02",
          "vessel02",
          "vessel02",
          null,
          "vessel02",
          "vessel02",
          "vessel02",
          "vessel02",
          null,
          "vessel02",
          "vessel02",
          "vessel02",
          "vessel02",
          null,
          "vessel02",
          "vessel02",
          "vessel02",
          "vessel02",
          null
         ]
        }
       ],
       "layout": {
        "hovermode": "closest",
        "legend": {
         "orientation": "h",
         "x": 0,
         "y": -0.2
        },
        "template": {
         "data": {
          "bar": [
           {
            "error_x": {
             "color": "#2a3f5f"
            },
            "error_y": {
             "color": "#2a3f5f"
            },
            "marker": {
             "line": {
              "color": "#E5ECF6",
              "width": 0.5
             }
            },
            "type": "bar"
           }
          ],
          "barpolar": [
           {
            "marker": {
             "line": {
              "color": "#E5ECF6",
              "width": 0.5
             }
            },
            "type": "barpolar"
           }
          ],
          "carpet": [
           {
            "aaxis": {
             "endlinecolor": "#2a3f5f",
             "gridcolor": "white",
             "linecolor": "white",
             "minorgridcolor": "white",
             "startlinecolor": "#2a3f5f"
            },
            "baxis": {
             "endlinecolor": "#2a3f5f",
             "gridcolor": "white",
             "linecolor": "white",
             "minorgridcolor": "white",
             "startlinecolor": "#2a3f5f"
            },
            "type": "carpet"
           }
          ],
          "choropleth": [
           {
            "colorbar": {
             "outlinewidth": 0,
             "ticks": ""
            },
            "type": "choropleth"
           }
          ],
          "contour": [
           {
            "colorbar": {
             "outlinewidth": 0,
             "ticks": ""
            },
            "colorscale": [
             [
              0,
              "#0d0887"
             ],
             [
              0.1111111111111111,
              "#46039f"
             ],
             [
              0.2222222222222222,
              "#7201a8"
             ],
             [
              0.3333333333333333,
              "#9c179e"
             ],
             [
              0.4444444444444444,
              "#bd3786"
             ],
             [
              0.5555555555555556,
              "#d8576b"
             ],
             [
              0.6666666666666666,
              "#ed7953"
             ],
             [
              0.7777777777777778,
              "#fb9f3a"
             ],
             [
              0.8888888888888888,
              "#fdca26"
             ],
             [
              1,
              "#f0f921"
             ]
            ],
            "type": "contour"
           }
          ],
          "contourcarpet": [
           {
            "colorbar": {
             "outlinewidth": 0,
             "ticks": ""
            },
            "type": "contourcarpet"
           }
          ],
          "heatmap": [
           {
            "colorbar": {
             "outlinewidth": 0,
             "ticks": ""
            },
            "colorscale": [
             [
              0,
              "#0d0887"
             ],
             [
              0.1111111111111111,
              "#46039f"
             ],
             [
              0.2222222222222222,
              "#7201a8"
             ],
             [
              0.3333333333333333,
              "#9c179e"
             ],
             [
              0.4444444444444444,
              "#bd3786"
             ],
             [
              0.5555555555555556,
              "#d8576b"
             ],
             [
              0.6666666666666666,
              "#ed7953"
             ],
             [
              0.7777777777777778,
              "#fb9f3a"
             ],
             [
              0.8888888888888888,
              "#fdca26"
             ],
             [
              1,
              "#f0f921"
             ]
            ],
            "type": "heatmap"
           }
          ],
          "heatmapgl": [
           {
            "colorbar": {
             "outlinewidth": 0,
             "ticks": ""
            },
            "colorscale": [
             [
              0,
              "#0d0887"
             ],
             [
              0.1111111111111111,
              "#46039f"
             ],
             [
              0.2222222222222222,
              "#7201a8"
             ],
             [
              0.3333333333333333,
              "#9c179e"
             ],
             [
              0.4444444444444444,
              "#bd3786"
             ],
             [
              0.5555555555555556,
              "#d8576b"
             ],
             [
              0.6666666666666666,
              "#ed7953"
             ],
             [
              0.7777777777777778,
              "#fb9f3a"
             ],
             [
              0.8888888888888888,
              "#fdca26"
             ],
             [
              1,
              "#f0f921"
             ]
            ],
            "type": "heatmapgl"
           }
          ],
          "histogram": [
           {
            "marker": {
             "colorbar": {
              "outlinewidth": 0,
              "ticks": ""
             }
            },
            "type": "histogram"
           }
          ],
          "histogram2d": [
           {
            "colorbar": {
             "outlinewidth": 0,
             "ticks": ""
            },
            "colorscale": [
             [
              0,
              "#0d0887"
             ],
             [
              0.1111111111111111,
              "#46039f"
             ],
             [
              0.2222222222222222,
              "#7201a8"
             ],
             [
              0.3333333333333333,
              "#9c179e"
             ],
             [
              0.4444444444444444,
              "#bd3786"
             ],
             [
              0.5555555555555556,
              "#d8576b"
             ],
             [
              0.6666666666666666,
              "#ed7953"
             ],
             [
              0.7777777777777778,
              "#fb9f3a"
             ],
             [
              0.8888888888888888,
              "#fdca26"
             ],
             [
              1,
              "#f0f921"
             ]
            ],
            "type": "histogram2d"
           }
          ],
          "histogram2dcontour": [
           {
            "colorbar": {
             "outlinewidth": 0,
             "ticks": ""
            },
            "colorscale": [
             [
              0,
              "#0d0887"
             ],
             [
              0.1111111111111111,
              "#46039f"
             ],
             [
              0.2222222222222222,
              "#7201a8"
             ],
             [
              0.3333333333333333,
              "#9c179e"
             ],
             [
              0.4444444444444444,
              "#bd3786"
             ],
             [
              0.5555555555555556,
              "#d8576b"
             ],
             [
              0.6666666666666666,
              "#ed7953"
             ],
             [
              0.7777777777777778,
              "#fb9f3a"
             ],
             [
              0.8888888888888888,
              "#fdca26"
             ],
             [
              1,
              "#f0f921"
             ]
            ],
            "type": "histogram2dcontour"
           }
          ],
          "mesh3d": [
           {
            "colorbar": {
             "outlinewidth": 0,
             "ticks": ""
            },
            "type": "mesh3d"
           }
          ],
          "parcoords": [
           {
            "line": {
             "colorbar": {
              "outlinewidth": 0,
              "ticks": ""
             }
            },
            "type": "parcoords"
           }
          ],
          "pie": [
           {
            "automargin": true,
            "type": "pie"
           }
          ],
          "scatter": [
           {
            "marker": {
             "colorbar": {
              "outlinewidth": 0,
              "ticks": ""
             }
            },
            "type": "scatter"
           }
          ],
          "scatter3d": [
           {
            "line": {
             "colorbar": {
              "outlinewidth": 0,
              "ticks": ""
             }
            },
            "marker": {
             "colorbar": {
              "outlinewidth": 0,
              "ticks": ""
             }
            },
            "type": "scatter3d"
           }
          ],
          "scattercarpet": [
           {
            "marker": {
             "colorbar": {
              "outlinewidth": 0,
              "ticks": ""
             }
            },
            "type": "scattercarpet"
           }
          ],
          "scattergeo": [
           {
            "marker": {
             "colorbar": {
              "outlinewidth": 0,
              "ticks": ""
             }
            },
            "type": "scattergeo"
           }
          ],
          "scattergl": [
           {
            "marker": {
             "colorbar": {
              "outlinewidth": 0,
              "ticks": ""
             }
            },
            "type": "scattergl"
           }
          ],
          "scattermapbox": [
           {
            "marker": {
             "colorbar": {
              "outlinewidth": 0,
              "ticks": ""
             }
            },
            "type": "scattermapbox"
           }
          ],
          "scatterpolar": [
           {
            "marker": {
             "colorbar": {
              "outlinewidth": 0,
              "ticks": ""
             }
            },
            "type": "scatterpolar"
           }
          ],
          "scatterpolargl": [
           {
            "marker": {
             "colorbar": {
              "outlinewidth": 0,
              "ticks": ""
             }
            },
            "type": "scatterpolargl"
           }
          ],
          "scatterternary": [
           {
            "marker": {
             "colorbar": {
              "outlinewidth": 0,
              "ticks": ""
             }
            },
            "type": "scatterternary"
           }
          ],
          "surface": [
           {
            "colorbar": {
             "outlinewidth": 0,
             "ticks": ""
            },
            "colorscale": [
             [
              0,
              "#0d0887"
             ],
             [
              0.1111111111111111,
              "#46039f"
             ],
             [
              0.2222222222222222,
              "#7201a8"
             ],
             [
              0.3333333333333333,
              "#9c179e"
             ],
             [
              0.4444444444444444,
              "#bd3786"
             ],
             [
              0.5555555555555556,
              "#d8576b"
             ],
             [
              0.6666666666666666,
              "#ed7953"
             ],
             [
              0.7777777777777778,
              "#fb9f3a"
             ],
             [
              0.8888888888888888,
              "#fdca26"
             ],
             [
              1,
              "#f0f921"
             ]
            ],
            "type": "surface"
           }
          ],
          "table": [
           {
            "cells": {
             "fill": {
              "color": "#EBF0F8"
             },
             "line": {
              "color": "white"
             }
            },
            "header": {
             "fill": {
              "color": "#C8D4E3"
             },
             "line": {
              "color": "white"
             }
            },
            "type": "table"
           }
          ]
         },
         "layout": {
          "annotationdefaults": {
           "arrowcolor": "#2a3f5f",
           "arrowhead": 0,
           "arrowwidth": 1
          },
          "coloraxis": {
           "colorbar": {
            "outlinewidth": 0,
            "ticks": ""
           }
          },
          "colorscale": {
           "diverging": [
            [
             0,
             "#8e0152"
            ],
            [
             0.1,
             "#c51b7d"
            ],
            [
             0.2,
             "#de77ae"
            ],
            [
             0.3,
             "#f1b6da"
            ],
            [
             0.4,
             "#fde0ef"
            ],
            [
             0.5,
             "#f7f7f7"
            ],
            [
             0.6,
             "#e6f5d0"
            ],
            [
             0.7,
             "#b8e186"
            ],
            [
             0.8,
             "#7fbc41"
            ],
            [
             0.9,
             "#4d9221"
            ],
            [
             1,
             "#276419"
            ]
           ],
           "sequential": [
            [
             0,
             "#0d0887"
            ],
            [
             0.1111111111111111,
             "#46039f"
            ],
            [
             0.2222222222222222,
             "#7201a8"
            ],
            [
             0.3333333333333333,
             "#9c179e"
            ],
            [
             0.4444444444444444,
             "#bd3786"
            ],
            [
             0.5555555555555556,
             "#d8576b"
            ],
            [
             0.6666666666666666,
             "#ed7953"
            ],
            [
             0.7777777777777778,
             "#fb9f3a"
            ],
            [
             0.8888888888888888,
             "#fdca26"
            ],
            [
             1,
             "#f0f921"
            ]
           ],
           "sequentialminus": [
            [
             0,
             "#0d0887"
            ],
            [
             0.1111111111111111,
             "#46039f"
            ],
            [
             0.2222222222222222,
             "#7201a8"
            ],
            [
             0.3333333333333333,
             "#9c179e"
            ],
            [
             0.4444444444444444,
             "#bd3786"
            ],
            [
             0.5555555555555556,
             "#d8576b"
            ],
            [
             0.6666666666666666,
             "#ed7953"
            ],
            [
             0.7777777777777778,
             "#fb9f3a"
            ],
            [
             0.8888888888888888,
             "#fdca26"
            ],
            [
             1,
             "#f0f921"
            ]
           ]
          },
          "colorway": [
           "#636efa",
           "#EF553B",
           "#00cc96",
           "#ab63fa",
           "#FFA15A",
           "#19d3f3",
           "#FF6692",
           "#B6E880",
           "#FF97FF",
           "#FECB52"
          ],
          "font": {
           "color": "#2a3f5f"
          },
          "geo": {
           "bgcolor": "white",
           "lakecolor": "white",
           "landcolor": "#E5ECF6",
           "showlakes": true,
           "showland": true,
           "subunitcolor": "white"
          },
          "hoverlabel": {
           "align": "left"
          },
          "hovermode": "closest",
          "mapbox": {
           "style": "light"
          },
          "paper_bgcolor": "white",
          "plot_bgcolor": "#E5ECF6",
          "polar": {
           "angularaxis": {
            "gridcolor": "white",
            "linecolor": "white",
            "ticks": ""
           },
           "bgcolor": "#E5ECF6",
           "radialaxis": {
            "gridcolor": "white",
            "linecolor": "white",
            "ticks": ""
           }
          },
          "scene": {
           "xaxis": {
            "backgroundcolor": "#E5ECF6",
            "gridcolor": "white",
            "gridwidth": 2,
            "linecolor": "white",
            "showbackground": true,
            "ticks": "",
            "zerolinecolor": "white"
           },
           "yaxis": {
            "backgroundcolor": "#E5ECF6",
            "gridcolor": "white",
            "gridwidth": 2,
            "linecolor": "white",
            "showbackground": true,
            "ticks": "",
            "zerolinecolor": "white"
           },
           "zaxis": {
            "backgroundcolor": "#E5ECF6",
            "gridcolor": "white",
            "gridwidth": 2,
            "linecolor": "white",
            "showbackground": true,
            "ticks": "",
            "zerolinecolor": "white"
           }
          },
          "shapedefaults": {
           "line": {
            "color": "#2a3f5f"
           }
          },
          "ternary": {
           "aaxis": {
            "gridcolor": "white",
            "linecolor": "white",
            "ticks": ""
           },
           "baxis": {
            "gridcolor": "white",
            "linecolor": "white",
            "ticks": ""
           },
           "bgcolor": "#E5ECF6",
           "caxis": {
            "gridcolor": "white",
            "linecolor": "white",
            "ticks": ""
           }
          },
          "title": {
           "x": 0.05
          },
          "xaxis": {
           "automargin": true,
           "gridcolor": "white",
           "linecolor": "white",
           "ticks": "",
           "title": {
            "standoff": 15
           },
           "zerolinecolor": "white",
           "zerolinewidth": 2
          },
          "yaxis": {
           "automargin": true,
           "gridcolor": "white",
           "linecolor": "white",
           "ticks": "",
           "title": {
            "standoff": 15
           },
           "zerolinecolor": "white",
           "zerolinewidth": 2
          }
         }
        },
        "title": {
         "text": "GANTT Chart"
        },
        "xaxis": {
         "range": [
          "1970-01-01T00:00:00",
          "1970-01-01T00:02:40"
         ],
         "title": {
          "font": {
           "color": "#7f7f7f",
           "family": "Courier New, monospace",
           "size": 18
          },
          "text": "Time"
         }
        },
        "yaxis": {
         "title": {
          "font": {
           "color": "#7f7f7f",
           "family": "Courier New, monospace",
           "size": 18
          },
          "text": "Activities"
         }
        }
       }
      },
      "text/html": [
       "<div>                            <div id=\"0388c3e6-c3c3-4322-b771-841a1ad8206c\" class=\"plotly-graph-div\" style=\"height:525px; width:100%;\"></div>            <script type=\"text/javascript\">                require([\"plotly\"], function(Plotly) {                    window.PLOTLYENV=window.PLOTLYENV || {};                                    if (document.getElementById(\"0388c3e6-c3c3-4322-b771-841a1ad8206c\")) {                    Plotly.newPlot(                        \"0388c3e6-c3c3-4322-b771-841a1ad8206c\",                        [{\"connectgaps\": false, \"hoverinfo\": \"y+name\", \"line\": {\"color\": \"rgb(132,158,58)\", \"width\": 10}, \"mode\": \"lines\", \"name\": \"4fd8e64c-2a43-464a-8fb3-d6768a64738b\", \"type\": \"scatter\", \"x\": [\"1970-01-01T00:00:00\", \"1970-01-01T00:00:00\", \"1970-01-01T00:00:20\", \"1970-01-01T00:00:20\", \"1970-01-01T00:00:20\", \"1970-01-01T00:00:40\", \"1970-01-01T00:00:40\", \"1970-01-01T00:01:00\", \"1970-01-01T00:01:00\", \"1970-01-01T00:01:00\", \"1970-01-01T00:01:20\", \"1970-01-01T00:01:20\", \"1970-01-01T00:01:40\", \"1970-01-01T00:01:40\", \"1970-01-01T00:01:40\", \"1970-01-01T00:02:00\", \"1970-01-01T00:02:00\", \"1970-01-01T00:02:20\", \"1970-01-01T00:02:20\", \"1970-01-01T00:02:20\", \"1970-01-01T00:00:00\", \"1970-01-01T00:00:00\", \"1970-01-01T00:00:20\", \"1970-01-01T00:00:20\", \"1970-01-01T00:00:20\", \"1970-01-01T00:00:40\", \"1970-01-01T00:00:40\", \"1970-01-01T00:01:00\", \"1970-01-01T00:01:00\", \"1970-01-01T00:01:00\", \"1970-01-01T00:01:20\", \"1970-01-01T00:01:20\", \"1970-01-01T00:01:40\", \"1970-01-01T00:01:40\", \"1970-01-01T00:01:40\", \"1970-01-01T00:02:00\", \"1970-01-01T00:02:00\", \"1970-01-01T00:02:20\", \"1970-01-01T00:02:20\", \"1970-01-01T00:02:20\"], \"y\": [\"from_site\", \"from_site\", \"from_site\", \"from_site\", null, \"from_site\", \"from_site\", \"from_site\", \"from_site\", null, \"from_site\", \"from_site\", \"from_site\", \"from_site\", null, \"from_site\", \"from_site\", \"from_site\", \"from_site\", null, \"vessel01\", \"vessel01\", \"vessel01\", \"vessel01\", null, \"vessel01\", \"vessel01\", \"vessel01\", \"vessel01\", null, \"vessel01\", \"vessel01\", \"vessel01\", \"vessel01\", null, \"vessel01\", \"vessel01\", \"vessel01\", \"vessel01\", null]}, {\"connectgaps\": false, \"hoverinfo\": \"y+name\", \"line\": {\"color\": \"rgb(196,222,122)\", \"width\": 10}, \"mode\": \"lines\", \"name\": \"11d1c9ac-629a-4ba8-b144-419c24d83374\", \"type\": \"scatter\", \"x\": [\"1970-01-01T00:00:20\", \"1970-01-01T00:00:20\", \"1970-01-01T00:00:40\", \"1970-01-01T00:00:40\", \"1970-01-01T00:00:40\", \"1970-01-01T00:01:00\", \"1970-01-01T00:01:00\", \"1970-01-01T00:01:20\", \"1970-01-01T00:01:20\", \"1970-01-01T00:01:20\", \"1970-01-01T00:01:40\", \"1970-01-01T00:01:40\", \"1970-01-01T00:02:00\", \"1970-01-01T00:02:00\", \"1970-01-01T00:02:00\", \"1970-01-01T00:02:20\", \"1970-01-01T00:02:20\", \"1970-01-01T00:02:40\", \"1970-01-01T00:02:40\", \"1970-01-01T00:02:40\", \"1970-01-01T00:00:20\", \"1970-01-01T00:00:20\", \"1970-01-01T00:00:40\", \"1970-01-01T00:00:40\", \"1970-01-01T00:00:40\", \"1970-01-01T00:01:00\", \"1970-01-01T00:01:00\", \"1970-01-01T00:01:20\", \"1970-01-01T00:01:20\", \"1970-01-01T00:01:20\", \"1970-01-01T00:01:40\", \"1970-01-01T00:01:40\", \"1970-01-01T00:02:00\", \"1970-01-01T00:02:00\", \"1970-01-01T00:02:00\", \"1970-01-01T00:02:20\", \"1970-01-01T00:02:20\", \"1970-01-01T00:02:40\", \"1970-01-01T00:02:40\", \"1970-01-01T00:02:40\"], \"y\": [\"from_site\", \"from_site\", \"from_site\", \"from_site\", null, \"from_site\", \"from_site\", \"from_site\", \"from_site\", null, \"from_site\", \"from_site\", \"from_site\", \"from_site\", null, \"from_site\", \"from_site\", \"from_site\", \"from_site\", null, \"vessel02\", \"vessel02\", \"vessel02\", \"vessel02\", null, \"vessel02\", \"vessel02\", \"vessel02\", \"vessel02\", null, \"vessel02\", \"vessel02\", \"vessel02\", \"vessel02\", null, \"vessel02\", \"vessel02\", \"vessel02\", \"vessel02\", null]}, {\"connectgaps\": false, \"hoverinfo\": \"y+name\", \"line\": {\"color\": \"rgb(4,30,186)\", \"width\": 10}, \"mode\": \"lines\", \"name\": \"4fd8e64c-2a43-464a-8fb3-d6768a64738b\", \"type\": \"scatter\", \"x\": [\"1970-01-01T00:00:00\", \"1970-01-01T00:00:00\", \"1970-01-01T00:00:20\", \"1970-01-01T00:00:20\", \"1970-01-01T00:00:20\", \"1970-01-01T00:00:40\", \"1970-01-01T00:00:40\", \"1970-01-01T00:01:00\", \"1970-01-01T00:01:00\", \"1970-01-01T00:01:00\", \"1970-01-01T00:01:20\", \"1970-01-01T00:01:20\", \"1970-01-01T00:01:40\", \"1970-01-01T00:01:40\", \"1970-01-01T00:01:40\", \"1970-01-01T00:02:00\", \"1970-01-01T00:02:00\", \"1970-01-01T00:02:20\", \"1970-01-01T00:02:20\", \"1970-01-01T00:02:20\", \"1970-01-01T00:00:00\", \"1970-01-01T00:00:00\", \"1970-01-01T00:00:20\", \"1970-01-01T00:00:20\", \"1970-01-01T00:00:20\", \"1970-01-01T00:00:40\", \"1970-01-01T00:00:40\", \"1970-01-01T00:01:00\", \"1970-01-01T00:01:00\", \"1970-01-01T00:01:00\", \"1970-01-01T00:01:20\", \"1970-01-01T00:01:20\", \"1970-01-01T00:01:40\", \"1970-01-01T00:01:40\", \"1970-01-01T00:01:40\", \"1970-01-01T00:02:00\", \"1970-01-01T00:02:00\", \"1970-01-01T00:02:20\", \"1970-01-01T00:02:20\", \"1970-01-01T00:02:20\"], \"y\": [\"from_site\", \"from_site\", \"from_site\", \"from_site\", null, \"from_site\", \"from_site\", \"from_site\", \"from_site\", null, \"from_site\", \"from_site\", \"from_site\", \"from_site\", null, \"from_site\", \"from_site\", \"from_site\", \"from_site\", null, \"vessel01\", \"vessel01\", \"vessel01\", \"vessel01\", null, \"vessel01\", \"vessel01\", \"vessel01\", \"vessel01\", null, \"vessel01\", \"vessel01\", \"vessel01\", \"vessel01\", null, \"vessel01\", \"vessel01\", \"vessel01\", \"vessel01\", null]}, {\"connectgaps\": false, \"hoverinfo\": \"y+name\", \"line\": {\"color\": \"rgb(68,94,250)\", \"width\": 10}, \"mode\": \"lines\", \"name\": \"11d1c9ac-629a-4ba8-b144-419c24d83374\", \"type\": \"scatter\", \"x\": [\"1970-01-01T00:00:20\", \"1970-01-01T00:00:20\", \"1970-01-01T00:00:40\", \"1970-01-01T00:00:40\", \"1970-01-01T00:00:40\", \"1970-01-01T00:01:00\", \"1970-01-01T00:01:00\", \"1970-01-01T00:01:20\", \"1970-01-01T00:01:20\", \"1970-01-01T00:01:20\", \"1970-01-01T00:01:40\", \"1970-01-01T00:01:40\", \"1970-01-01T00:02:00\", \"1970-01-01T00:02:00\", \"1970-01-01T00:02:00\", \"1970-01-01T00:02:20\", \"1970-01-01T00:02:20\", \"1970-01-01T00:02:40\", \"1970-01-01T00:02:40\", \"1970-01-01T00:02:40\", \"1970-01-01T00:00:20\", \"1970-01-01T00:00:20\", \"1970-01-01T00:00:40\", \"1970-01-01T00:00:40\", \"1970-01-01T00:00:40\", \"1970-01-01T00:01:00\", \"1970-01-01T00:01:00\", \"1970-01-01T00:01:20\", \"1970-01-01T00:01:20\", \"1970-01-01T00:01:20\", \"1970-01-01T00:01:40\", \"1970-01-01T00:01:40\", \"1970-01-01T00:02:00\", \"1970-01-01T00:02:00\", \"1970-01-01T00:02:00\", \"1970-01-01T00:02:20\", \"1970-01-01T00:02:20\", \"1970-01-01T00:02:40\", \"1970-01-01T00:02:40\", \"1970-01-01T00:02:40\"], \"y\": [\"from_site\", \"from_site\", \"from_site\", \"from_site\", null, \"from_site\", \"from_site\", \"from_site\", \"from_site\", null, \"from_site\", \"from_site\", \"from_site\", \"from_site\", null, \"from_site\", \"from_site\", \"from_site\", \"from_site\", null, \"vessel02\", \"vessel02\", \"vessel02\", \"vessel02\", null, \"vessel02\", \"vessel02\", \"vessel02\", \"vessel02\", null, \"vessel02\", \"vessel02\", \"vessel02\", \"vessel02\", null, \"vessel02\", \"vessel02\", \"vessel02\", \"vessel02\", null]}],                        {\"hovermode\": \"closest\", \"legend\": {\"orientation\": \"h\", \"x\": 0, \"y\": -0.2}, \"template\": {\"data\": {\"bar\": [{\"error_x\": {\"color\": \"#2a3f5f\"}, \"error_y\": {\"color\": \"#2a3f5f\"}, \"marker\": {\"line\": {\"color\": \"#E5ECF6\", \"width\": 0.5}}, \"type\": \"bar\"}], \"barpolar\": [{\"marker\": {\"line\": {\"color\": \"#E5ECF6\", \"width\": 0.5}}, \"type\": \"barpolar\"}], \"carpet\": [{\"aaxis\": {\"endlinecolor\": \"#2a3f5f\", \"gridcolor\": \"white\", \"linecolor\": \"white\", \"minorgridcolor\": \"white\", \"startlinecolor\": \"#2a3f5f\"}, \"baxis\": {\"endlinecolor\": \"#2a3f5f\", \"gridcolor\": \"white\", \"linecolor\": \"white\", \"minorgridcolor\": \"white\", \"startlinecolor\": \"#2a3f5f\"}, \"type\": \"carpet\"}], \"choropleth\": [{\"colorbar\": {\"outlinewidth\": 0, \"ticks\": \"\"}, \"type\": \"choropleth\"}], \"contour\": [{\"colorbar\": {\"outlinewidth\": 0, \"ticks\": \"\"}, \"colorscale\": [[0.0, \"#0d0887\"], [0.1111111111111111, \"#46039f\"], [0.2222222222222222, \"#7201a8\"], [0.3333333333333333, \"#9c179e\"], [0.4444444444444444, \"#bd3786\"], [0.5555555555555556, \"#d8576b\"], [0.6666666666666666, \"#ed7953\"], [0.7777777777777778, \"#fb9f3a\"], [0.8888888888888888, \"#fdca26\"], [1.0, \"#f0f921\"]], \"type\": \"contour\"}], \"contourcarpet\": [{\"colorbar\": {\"outlinewidth\": 0, \"ticks\": \"\"}, \"type\": \"contourcarpet\"}], \"heatmap\": [{\"colorbar\": {\"outlinewidth\": 0, \"ticks\": \"\"}, \"colorscale\": [[0.0, \"#0d0887\"], [0.1111111111111111, \"#46039f\"], [0.2222222222222222, \"#7201a8\"], [0.3333333333333333, \"#9c179e\"], [0.4444444444444444, \"#bd3786\"], [0.5555555555555556, \"#d8576b\"], [0.6666666666666666, \"#ed7953\"], [0.7777777777777778, \"#fb9f3a\"], [0.8888888888888888, \"#fdca26\"], [1.0, \"#f0f921\"]], \"type\": \"heatmap\"}], \"heatmapgl\": [{\"colorbar\": {\"outlinewidth\": 0, \"ticks\": \"\"}, \"colorscale\": [[0.0, \"#0d0887\"], [0.1111111111111111, \"#46039f\"], [0.2222222222222222, \"#7201a8\"], [0.3333333333333333, \"#9c179e\"], [0.4444444444444444, \"#bd3786\"], [0.5555555555555556, \"#d8576b\"], [0.6666666666666666, \"#ed7953\"], [0.7777777777777778, \"#fb9f3a\"], [0.8888888888888888, \"#fdca26\"], [1.0, \"#f0f921\"]], \"type\": \"heatmapgl\"}], \"histogram\": [{\"marker\": {\"colorbar\": {\"outlinewidth\": 0, \"ticks\": \"\"}}, \"type\": \"histogram\"}], \"histogram2d\": [{\"colorbar\": {\"outlinewidth\": 0, \"ticks\": \"\"}, \"colorscale\": [[0.0, \"#0d0887\"], [0.1111111111111111, \"#46039f\"], [0.2222222222222222, \"#7201a8\"], [0.3333333333333333, \"#9c179e\"], [0.4444444444444444, \"#bd3786\"], [0.5555555555555556, \"#d8576b\"], [0.6666666666666666, \"#ed7953\"], [0.7777777777777778, \"#fb9f3a\"], [0.8888888888888888, \"#fdca26\"], [1.0, \"#f0f921\"]], \"type\": \"histogram2d\"}], \"histogram2dcontour\": [{\"colorbar\": {\"outlinewidth\": 0, \"ticks\": \"\"}, \"colorscale\": [[0.0, \"#0d0887\"], [0.1111111111111111, \"#46039f\"], [0.2222222222222222, \"#7201a8\"], [0.3333333333333333, \"#9c179e\"], [0.4444444444444444, \"#bd3786\"], [0.5555555555555556, \"#d8576b\"], [0.6666666666666666, \"#ed7953\"], [0.7777777777777778, \"#fb9f3a\"], [0.8888888888888888, \"#fdca26\"], [1.0, \"#f0f921\"]], \"type\": \"histogram2dcontour\"}], \"mesh3d\": [{\"colorbar\": {\"outlinewidth\": 0, \"ticks\": \"\"}, \"type\": \"mesh3d\"}], \"parcoords\": [{\"line\": {\"colorbar\": {\"outlinewidth\": 0, \"ticks\": \"\"}}, \"type\": \"parcoords\"}], \"pie\": [{\"automargin\": true, \"type\": \"pie\"}], \"scatter\": [{\"marker\": {\"colorbar\": {\"outlinewidth\": 0, \"ticks\": \"\"}}, \"type\": \"scatter\"}], \"scatter3d\": [{\"line\": {\"colorbar\": {\"outlinewidth\": 0, \"ticks\": \"\"}}, \"marker\": {\"colorbar\": {\"outlinewidth\": 0, \"ticks\": \"\"}}, \"type\": \"scatter3d\"}], \"scattercarpet\": [{\"marker\": {\"colorbar\": {\"outlinewidth\": 0, \"ticks\": \"\"}}, \"type\": \"scattercarpet\"}], \"scattergeo\": [{\"marker\": {\"colorbar\": {\"outlinewidth\": 0, \"ticks\": \"\"}}, \"type\": \"scattergeo\"}], \"scattergl\": [{\"marker\": {\"colorbar\": {\"outlinewidth\": 0, \"ticks\": \"\"}}, \"type\": \"scattergl\"}], \"scattermapbox\": [{\"marker\": {\"colorbar\": {\"outlinewidth\": 0, \"ticks\": \"\"}}, \"type\": \"scattermapbox\"}], \"scatterpolar\": [{\"marker\": {\"colorbar\": {\"outlinewidth\": 0, \"ticks\": \"\"}}, \"type\": \"scatterpolar\"}], \"scatterpolargl\": [{\"marker\": {\"colorbar\": {\"outlinewidth\": 0, \"ticks\": \"\"}}, \"type\": \"scatterpolargl\"}], \"scatterternary\": [{\"marker\": {\"colorbar\": {\"outlinewidth\": 0, \"ticks\": \"\"}}, \"type\": \"scatterternary\"}], \"surface\": [{\"colorbar\": {\"outlinewidth\": 0, \"ticks\": \"\"}, \"colorscale\": [[0.0, \"#0d0887\"], [0.1111111111111111, \"#46039f\"], [0.2222222222222222, \"#7201a8\"], [0.3333333333333333, \"#9c179e\"], [0.4444444444444444, \"#bd3786\"], [0.5555555555555556, \"#d8576b\"], [0.6666666666666666, \"#ed7953\"], [0.7777777777777778, \"#fb9f3a\"], [0.8888888888888888, \"#fdca26\"], [1.0, \"#f0f921\"]], \"type\": \"surface\"}], \"table\": [{\"cells\": {\"fill\": {\"color\": \"#EBF0F8\"}, \"line\": {\"color\": \"white\"}}, \"header\": {\"fill\": {\"color\": \"#C8D4E3\"}, \"line\": {\"color\": \"white\"}}, \"type\": \"table\"}]}, \"layout\": {\"annotationdefaults\": {\"arrowcolor\": \"#2a3f5f\", \"arrowhead\": 0, \"arrowwidth\": 1}, \"coloraxis\": {\"colorbar\": {\"outlinewidth\": 0, \"ticks\": \"\"}}, \"colorscale\": {\"diverging\": [[0, \"#8e0152\"], [0.1, \"#c51b7d\"], [0.2, \"#de77ae\"], [0.3, \"#f1b6da\"], [0.4, \"#fde0ef\"], [0.5, \"#f7f7f7\"], [0.6, \"#e6f5d0\"], [0.7, \"#b8e186\"], [0.8, \"#7fbc41\"], [0.9, \"#4d9221\"], [1, \"#276419\"]], \"sequential\": [[0.0, \"#0d0887\"], [0.1111111111111111, \"#46039f\"], [0.2222222222222222, \"#7201a8\"], [0.3333333333333333, \"#9c179e\"], [0.4444444444444444, \"#bd3786\"], [0.5555555555555556, \"#d8576b\"], [0.6666666666666666, \"#ed7953\"], [0.7777777777777778, \"#fb9f3a\"], [0.8888888888888888, \"#fdca26\"], [1.0, \"#f0f921\"]], \"sequentialminus\": [[0.0, \"#0d0887\"], [0.1111111111111111, \"#46039f\"], [0.2222222222222222, \"#7201a8\"], [0.3333333333333333, \"#9c179e\"], [0.4444444444444444, \"#bd3786\"], [0.5555555555555556, \"#d8576b\"], [0.6666666666666666, \"#ed7953\"], [0.7777777777777778, \"#fb9f3a\"], [0.8888888888888888, \"#fdca26\"], [1.0, \"#f0f921\"]]}, \"colorway\": [\"#636efa\", \"#EF553B\", \"#00cc96\", \"#ab63fa\", \"#FFA15A\", \"#19d3f3\", \"#FF6692\", \"#B6E880\", \"#FF97FF\", \"#FECB52\"], \"font\": {\"color\": \"#2a3f5f\"}, \"geo\": {\"bgcolor\": \"white\", \"lakecolor\": \"white\", \"landcolor\": \"#E5ECF6\", \"showlakes\": true, \"showland\": true, \"subunitcolor\": \"white\"}, \"hoverlabel\": {\"align\": \"left\"}, \"hovermode\": \"closest\", \"mapbox\": {\"style\": \"light\"}, \"paper_bgcolor\": \"white\", \"plot_bgcolor\": \"#E5ECF6\", \"polar\": {\"angularaxis\": {\"gridcolor\": \"white\", \"linecolor\": \"white\", \"ticks\": \"\"}, \"bgcolor\": \"#E5ECF6\", \"radialaxis\": {\"gridcolor\": \"white\", \"linecolor\": \"white\", \"ticks\": \"\"}}, \"scene\": {\"xaxis\": {\"backgroundcolor\": \"#E5ECF6\", \"gridcolor\": \"white\", \"gridwidth\": 2, \"linecolor\": \"white\", \"showbackground\": true, \"ticks\": \"\", \"zerolinecolor\": \"white\"}, \"yaxis\": {\"backgroundcolor\": \"#E5ECF6\", \"gridcolor\": \"white\", \"gridwidth\": 2, \"linecolor\": \"white\", \"showbackground\": true, \"ticks\": \"\", \"zerolinecolor\": \"white\"}, \"zaxis\": {\"backgroundcolor\": \"#E5ECF6\", \"gridcolor\": \"white\", \"gridwidth\": 2, \"linecolor\": \"white\", \"showbackground\": true, \"ticks\": \"\", \"zerolinecolor\": \"white\"}}, \"shapedefaults\": {\"line\": {\"color\": \"#2a3f5f\"}}, \"ternary\": {\"aaxis\": {\"gridcolor\": \"white\", \"linecolor\": \"white\", \"ticks\": \"\"}, \"baxis\": {\"gridcolor\": \"white\", \"linecolor\": \"white\", \"ticks\": \"\"}, \"bgcolor\": \"#E5ECF6\", \"caxis\": {\"gridcolor\": \"white\", \"linecolor\": \"white\", \"ticks\": \"\"}}, \"title\": {\"x\": 0.05}, \"xaxis\": {\"automargin\": true, \"gridcolor\": \"white\", \"linecolor\": \"white\", \"ticks\": \"\", \"title\": {\"standoff\": 15}, \"zerolinecolor\": \"white\", \"zerolinewidth\": 2}, \"yaxis\": {\"automargin\": true, \"gridcolor\": \"white\", \"linecolor\": \"white\", \"ticks\": \"\", \"title\": {\"standoff\": 15}, \"zerolinecolor\": \"white\", \"zerolinewidth\": 2}}}, \"title\": {\"text\": \"GANTT Chart\"}, \"xaxis\": {\"range\": [\"1970-01-01T00:00:00\", \"1970-01-01T00:02:40\"], \"title\": {\"font\": {\"color\": \"#7f7f7f\", \"family\": \"Courier New, monospace\", \"size\": 18}, \"text\": \"Time\"}}, \"yaxis\": {\"title\": {\"font\": {\"color\": \"#7f7f7f\", \"family\": \"Courier New, monospace\", \"size\": 18}, \"text\": \"Activities\"}}},                        {\"responsive\": true}                    ).then(function(){\n",
       "                            \n",
       "var gd = document.getElementById('0388c3e6-c3c3-4322-b771-841a1ad8206c');\n",
       "var x = new MutationObserver(function (mutations, observer) {{\n",
       "        var display = window.getComputedStyle(gd).display;\n",
       "        if (!display || display === 'none') {{\n",
       "            console.log([gd, 'removed!']);\n",
       "            Plotly.purge(gd);\n",
       "            observer.disconnect();\n",
       "        }}\n",
       "}});\n",
       "\n",
       "// Listen for the removal of the full notebook cells\n",
       "var notebookContainer = gd.closest('#notebook-container');\n",
       "if (notebookContainer) {{\n",
       "    x.observe(notebookContainer, {childList: true});\n",
       "}}\n",
       "\n",
       "// Listen for the clearing of the current output cell\n",
       "var outputEl = gd.closest('.output');\n",
       "if (outputEl) {{\n",
       "    x.observe(outputEl, {childList: true});\n",
       "}}\n",
       "\n",
       "                        })                };                });            </script>        </div>"
      ]
     },
     "metadata": {},
     "output_type": "display_data"
    }
   ],
   "source": [
    "fig = plot.get_gantt_chart([from_site, vessel01, vessel02])"
   ]
  },
  {
   "cell_type": "markdown",
   "metadata": {},
   "source": [
    "##### 5.3 Visualise step charts"
   ]
  },
  {
   "cell_type": "code",
   "execution_count": 15,
   "metadata": {},
   "outputs": [
    {
     "data": {
      "image/png": "[encoded data removed]",
      "text/plain": [
       "<Figure size 1008x504 with 1 Axes>"
      ]
     },
     "metadata": {
      "needs_background": "light"
     },
     "output_type": "display_data"
    }
   ],
   "source": [
    "fig = plot.get_step_chart([from_site, vessel01, vessel02])"
   ]
  }
 ],
 "metadata": {
  "kernelspec": {
   "display_name": "Python 3",
   "language": "python",
   "name": "python3"
  },
  "language_info": {
   "codemirror_mode": {
    "name": "ipython",
    "version": 3
   },
   "file_extension": ".py",
   "mimetype": "text/x-python",
   "name": "python",
   "nbconvert_exporter": "python",
   "pygments_lexer": "ipython3",
   "version": "3.8.6"
  }
 },
 "nbformat": 4,
 "nbformat_minor": 2
}
