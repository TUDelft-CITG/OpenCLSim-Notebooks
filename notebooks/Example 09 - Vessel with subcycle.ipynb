{
 "cells": [
  {
   "cell_type": "markdown",
   "metadata": {},
   "source": [
    "## Example 09 - Vessel with subcycle"
   ]
  },
  {
   "cell_type": "markdown",
   "metadata": {},
   "source": [
    "**Example description:** Example of a trailing suction hopper dredge shipping sediment from origin to destination site."
   ]
  },
  {
   "cell_type": "markdown",
   "metadata": {},
   "source": [
    "* [**0. Import required libraries:**](#0.-Import-required-libraries)<br>\n",
    "* [**1. Define work method:**](#1.-Define-work-method)<br>\n",
    "   * [**1.1 Sites:**](#1.1-Define-the-project-sites)<br>\n",
    "   * [**1.2 Equipment:**](#1.2-Define-the-project-equipment)<br>\n",
    "   * [**1.3 Activities:**](#1.3-Define-the-activity)<br>\n",
    "* [**2. Run the simulation:**](#2.-Run-the-simulation)<br>\n",
    "* [**3. Post processing:**](#3.-Postprocessing)<br>"
   ]
  },
  {
   "cell_type": "markdown",
   "metadata": {},
   "source": [
    "## 0. Import required libraries"
   ]
  },
  {
   "cell_type": "code",
   "execution_count": 1,
   "metadata": {},
   "outputs": [],
   "source": [
    "# package(s) related to time, space and id\n",
    "import datetime, time\n",
    "import platform\n",
    "\n",
    "# you need these dependencies (you can get these from anaconda)\n",
    "# package(s) related to the simulation\n",
    "import simpy\n",
    "\n",
    "# spatial libraries \n",
    "import shapely.geometry\n",
    "from simplekml import Kml, Style\n",
    "\n",
    "# package(s) for data handling\n",
    "import numpy as np\n",
    "import pandas as pd\n",
    "\n",
    "# digital twin package\n",
    "import openclsim.core as core\n",
    "import openclsim.model as model\n",
    "import openclsim.plot as plot\n",
    "\n",
    "# Additional import to save the initialization of the simulation\n",
    "import openclsim.savesim as savesim"
   ]
  },
  {
   "cell_type": "code",
   "execution_count": 2,
   "metadata": {},
   "outputs": [],
   "source": [
    "# Create simulation environment\n",
    "simulation_start = datetime.datetime.now()\n",
    "\n",
    "my_env = simpy.Environment(initial_time = time.mktime(simulation_start.timetuple()))\n",
    "my_env.epoch = time.mktime(simulation_start.timetuple())"
   ]
  },
  {
   "cell_type": "markdown",
   "metadata": {},
   "source": [
    "## 1. Define work method"
   ]
  },
  {
   "cell_type": "markdown",
   "metadata": {},
   "source": [
    "### 1.1 Define the project sites\n",
    "You can specify a project site object by entering mix-ins:\n",
    "\n",
    "    core.Identifiable - enables you to give the object a name\n",
    "    core.Log - enables you to log all discrete events in which the object is involved\n",
    "    core.Locatable - enables you to add coordinates to extract distance information and visualize\n",
    "    core.HasContainer - enables you to add information on the material available at the site\n",
    "    core.HasResource - enables you to add information on serving equipment\n",
    "    core.HasWeather - enables you to add weather conditions"
   ]
  },
  {
   "cell_type": "markdown",
   "metadata": {},
   "source": [
    "#### First create objects with the desired properties"
   ]
  },
  {
   "cell_type": "code",
   "execution_count": 3,
   "metadata": {},
   "outputs": [],
   "source": [
    "# The generic site class\n",
    "Site = type('Site', (core.Identifiable, # Give it a name\n",
    "                     core.Log,          # Allow logging of all discrete events\n",
    "                     core.Locatable,    # Add coordinates to extract distance information and visualize\n",
    "                     core.HasContainer, # Add information on the material available at the site\n",
    "                     core.HasResource), # Add information on serving equipment\n",
    "            {})                         # The dictionary is empty because the site type is generic"
   ]
  },
  {
   "cell_type": "markdown",
   "metadata": {},
   "source": [
    "#### Next specify the properties for sites you wish to create"
   ]
  },
  {
   "cell_type": "code",
   "execution_count": 4,
   "metadata": {},
   "outputs": [],
   "source": [
    "# Information on the extraction site - the \"from site\" - the \"win locatie\"\n",
    "location_from_site = shapely.geometry.Point(4.18055556, 52.18664444)  # lon, lat\n",
    "\n",
    "data_from_site = {\"env\": my_env,                                # The simpy environment defined in the first cel\n",
    "                  \"name\": \"Winlocatie\",                         # The name of the site\n",
    "                  \"ID\": \"6dbbbdf4-4589-11e9-a501-b469212bff5b\", # For logging purposes\n",
    "                  \"geometry\": location_from_site,               # The coordinates of the project site\n",
    "                  \"capacity\": 50_000,                           # The capacity of the site\n",
    "                  \"level\": 50_000}                              # The actual volume of the site"
   ]
  },
  {
   "cell_type": "code",
   "execution_count": 5,
   "metadata": {},
   "outputs": [],
   "source": [
    "# Information on the dumping site - the \"to site\" - the \"dump locatie\"\n",
    "location_to_site = shapely.geometry.Point(4.25222222, 52.11428333)     # lon, lat\n",
    "\n",
    "data_to_site = {\"env\": my_env,                                # The simpy environment defined in the first cel\n",
    "                \"name\": \"Dumplocatie\",                        # The name of the site\n",
    "                \"ID\": \"6dbbbdf5-4589-11e9-82b2-b469212bff5b\", # For logging purposes\n",
    "                \"geometry\": location_to_site,                 # The coordinates of the project site\n",
    "                \"capacity\": 50_000,                           # The capacity of the site\n",
    "                \"level\": 0}                                   # The actual volume of the site (empty of course)"
   ]
  },
  {
   "cell_type": "markdown",
   "metadata": {},
   "source": [
    "#### Finally create specific instances of the predefined objects with the specified properties"
   ]
  },
  {
   "cell_type": "code",
   "execution_count": 6,
   "metadata": {},
   "outputs": [],
   "source": [
    "# The two objects used for the simulation\n",
    "from_site = Site(**data_from_site)\n",
    "to_site   = Site(**data_to_site)"
   ]
  },
  {
   "cell_type": "markdown",
   "metadata": {},
   "source": [
    "### 1.2 Define the project equipment\n",
    "You can specify a vessel object by entering mix-ins:\n",
    "\n",
    "    core.Identifiable - enables you to give the object a name\n",
    "    core.Log - enables you to log all discrete events in which the object is involved\n",
    "    core.ContainerDependentMovable - A moving container, so capacity and location\n",
    "    core.Processor - Allow for loading and unloading\n",
    "    core.HasResource - Add information on serving equipment\n",
    "    core.HasDepthRestriction - Add information on depth restriction "
   ]
  },
  {
   "cell_type": "markdown",
   "metadata": {},
   "source": [
    "#### First create objects with the desired properties"
   ]
  },
  {
   "cell_type": "code",
   "execution_count": 7,
   "metadata": {},
   "outputs": [],
   "source": [
    "# The generic class for an object that can move and transport (a TSHD for example)\n",
    "TransportProcessingResource = type('TransportProcessingResource', \n",
    "                                   (core.Identifiable,              # Give it a name\n",
    "                                    core.Log,                       # Allow logging of all discrete events\n",
    "                                    core.ContainerDependentMovable, # A moving container, so capacity and location\n",
    "                                    core.Processor,                 # Allow for loading and unloading\n",
    "                                    core.LoadingSubcycle,           # Add subcycle for loading\n",
    "                                    core.UnloadingSubcycle,         # Add subcycle for unloading\n",
    "                                    core.HasResource,               # Add information on serving equipment\n",
    "                                    core.HasCosts,                  # Add information on vessel cost\n",
    "                                    ),\n",
    "                                   {})"
   ]
  },
  {
   "cell_type": "markdown",
   "metadata": {},
   "source": [
    "#### Next specify the properties for vessel(s) you wish to create"
   ]
  },
  {
   "cell_type": "code",
   "execution_count": 8,
   "metadata": {},
   "outputs": [],
   "source": [
    "# For more realistic simulation you might want to have speed dependent on the volume carried by the vessel\n",
    "def compute_v_provider(v_empty, v_full):\n",
    "    return lambda x: x * (v_full - v_empty) + v_empty\n",
    "\n",
    "loading_subcycle = pd.DataFrame.from_dict(\n",
    "    {\"EventName\": [\"Fastening\", \"Lifting\", \"Lowering\"],\n",
    "     \"Duration\": [1, 3, 2]}\n",
    ")\n",
    "\n",
    "unloading_subcycle = pd.DataFrame.from_dict(\n",
    "    {\"EventName\": [\"Lifting\", \"Lowering\", \"Fastening\"],\n",
    "     \"Duration\": [3, 2, 1]}\n",
    ")"
   ]
  },
  {
   "cell_type": "code",
   "execution_count": 9,
   "metadata": {},
   "outputs": [],
   "source": [
    "# TSHD variables\n",
    "data_hopper = {\"env\": my_env,                                       # The simpy environment \n",
    "               \"name\": \"Hopper 01\",                                 # Name\n",
    "               \"ID\": \"6dbbbdf6-4589-11e9-95a2-b469212bff5b\",        # For logging purposes\n",
    "               \"geometry\": location_from_site,                      # It starts at the \"from site\"\n",
    "               \"loading_subcycle\": loading_subcycle,                # Loading rate\n",
    "               \"unloading_subcycle\": unloading_subcycle,            # Unloading rate\n",
    "               \"capacity\": 5_000,                                   # Capacity of the hopper - \"Beunvolume\"\n",
    "               \"compute_v\": compute_v_provider(5, 4.5),             # Variable speed \n",
    "               \"weekrate\": 700_000}"
   ]
  },
  {
   "cell_type": "markdown",
   "metadata": {},
   "source": [
    "#### Finally create specific instances of the predefined objects with the specified properties"
   ]
  },
  {
   "cell_type": "code",
   "execution_count": 10,
   "metadata": {},
   "outputs": [],
   "source": [
    "# The simulation object\n",
    "hopper = TransportProcessingResource(**data_hopper)"
   ]
  },
  {
   "cell_type": "markdown",
   "metadata": {},
   "source": [
    "### 1.3 Define the activity"
   ]
  },
  {
   "cell_type": "code",
   "execution_count": 11,
   "metadata": {},
   "outputs": [],
   "source": [
    "# Create activity\n",
    "activity = model.Activity(env = my_env,           # The simpy environment defined in the first cel\n",
    "                          name = \"Soil movement\", # We are moving soil\n",
    "                          ID = \"6dbbbdf7-4589-11e9-bf3b-b469212bff5b\", # For logging purposes\n",
    "                          origin = from_site,     # We originate from the from_site\n",
    "                          destination = to_site,  # And therefore travel to the to_site\n",
    "                          loader = hopper,        # The benefit of a TSHD, all steps can be done\n",
    "                          mover = hopper,         # The benefit of a TSHD, all steps can be done\n",
    "                          unloader = hopper,      # The benefit of a TSHD, all steps can be done\n",
    "                          start_event = None,     # We can start right away\n",
    "                          stop_event = None)      # We stop once there is nothing more to move"
   ]
  },
  {
   "cell_type": "markdown",
   "metadata": {},
   "source": [
    "### 2. Run the simulation"
   ]
  },
  {
   "cell_type": "code",
   "execution_count": 12,
   "metadata": {},
   "outputs": [
    {
     "name": "stdout",
     "output_type": "stream",
     "text": [
      "\n",
      "*** Installation of dike finished in 417 days, 2:32:02\n",
      "*** Installation cost 41,710,558.00€.\n"
     ]
    }
   ],
   "source": [
    "my_env.run()\n",
    "\n",
    "print(\"\")\n",
    "print(\"*** Installation of dike finished in {}\".format(datetime.timedelta(seconds=int(my_env.now - my_env.epoch))))\n",
    "print(\"*** Installation cost {:,.2f}€.\".format(int(hopper.cost)))"
   ]
  },
  {
   "cell_type": "markdown",
   "metadata": {},
   "source": [
    "### 3. Postprocessing"
   ]
  },
  {
   "cell_type": "markdown",
   "metadata": {},
   "source": [
    "#### Vessel planning"
   ]
  },
  {
   "cell_type": "code",
   "execution_count": 13,
   "metadata": {},
   "outputs": [
    {
     "data": {
      "text/html": [
       "<script type=\"text/javascript\">window.PlotlyConfig = {MathJaxConfig: 'local'};</script><script type=\"text/javascript\">if (window.MathJax) {MathJax.Hub.Config({SVG: {font: \"STIX-Web\"}});}</script><script>requirejs.config({paths: { 'plotly': ['https://cdn.plot.ly/plotly-latest.min']},});if(!window._Plotly) {require(['plotly'],function(plotly) {window._Plotly=plotly;});}</script>"
      ],
      "text/vnd.plotly.v1+html": [
       "<script type=\"text/javascript\">window.PlotlyConfig = {MathJaxConfig: 'local'};</script><script type=\"text/javascript\">if (window.MathJax) {MathJax.Hub.Config({SVG: {font: \"STIX-Web\"}});}</script><script>requirejs.config({paths: { 'plotly': ['https://cdn.plot.ly/plotly-latest.min']},});if(!window._Plotly) {require(['plotly'],function(plotly) {window._Plotly=plotly;});}</script>"
      ]
     },
     "metadata": {},
     "output_type": "display_data"
    },
    {
     "data": {
      "application/vnd.plotly.v1+json": {
       "config": {
        "linkText": "Export to plot.ly",
        "plotlyServerURL": "https://plot.ly",
        "showLink": true
       },
       "data": [
        {
         "connectgaps": false,
         "hoverinfo": "y+name",
         "line": {
          "color": "rgb(55,126,184)",
          "width": 10
         },
         "mode": "lines",
         "name": "loading",
         "type": "scatter",
         "uid": "f6880f9e-1d5d-4943-8b29-7d39065a4a25",
         "x": [
          "2019-07-10 13:55:23",
          "2019-07-10 13:55:23",
          "2019-07-31 09:55:23",
          "2019-07-31 09:55:23",
          "2019-07-31 09:55:23",
          "2019-08-21 07:01:43.814941",
          "2019-08-21 07:01:43.814941",
          "2019-09-11 03:01:43.814941",
          "2019-09-11 03:01:43.814941",
          "2019-09-11 03:01:43.814941",
          "2019-10-02 00:08:04.629882",
          "2019-10-02 00:08:04.629882",
          "2019-10-22 20:08:04.629882",
          "2019-10-22 20:08:04.629882",
          "2019-10-22 20:08:04.629882",
          "2019-11-12 16:14:25.444823",
          "2019-11-12 16:14:25.444823",
          "2019-12-03 12:14:25.444823",
          "2019-12-03 12:14:25.444823",
          "2019-12-03 12:14:25.444823",
          "2019-12-24 09:20:46.259764",
          "2019-12-24 09:20:46.259764",
          "2020-01-14 05:20:46.259764",
          "2020-01-14 05:20:46.259764",
          "2020-01-14 05:20:46.259764",
          "2020-02-04 02:27:07.074705",
          "2020-02-04 02:27:07.074705",
          "2020-02-24 22:27:07.074705",
          "2020-02-24 22:27:07.074705",
          "2020-02-24 22:27:07.074705",
          "2020-03-16 19:33:27.889646",
          "2020-03-16 19:33:27.889646",
          "2020-04-06 16:33:27.889646",
          "2020-04-06 16:33:27.889646",
          "2020-04-06 16:33:27.889646",
          "2020-04-27 13:39:48.704587",
          "2020-04-27 13:39:48.704587",
          "2020-05-18 09:39:48.704587",
          "2020-05-18 09:39:48.704587",
          "2020-05-18 09:39:48.704587",
          "2020-06-08 06:46:09.519527",
          "2020-06-08 06:46:09.519527",
          "2020-06-29 02:46:09.519527",
          "2020-06-29 02:46:09.519527",
          "2020-06-29 02:46:09.519527",
          "2020-07-19 23:52:30.334468",
          "2020-07-19 23:52:30.334468",
          "2020-08-09 19:52:30.334468",
          "2020-08-09 19:52:30.334468",
          "2020-08-09 19:52:30.334468"
         ],
         "y": [
          "Hopper 01",
          "Hopper 01",
          "Hopper 01",
          "Hopper 01",
          null,
          "Hopper 01",
          "Hopper 01",
          "Hopper 01",
          "Hopper 01",
          null,
          "Hopper 01",
          "Hopper 01",
          "Hopper 01",
          "Hopper 01",
          null,
          "Hopper 01",
          "Hopper 01",
          "Hopper 01",
          "Hopper 01",
          null,
          "Hopper 01",
          "Hopper 01",
          "Hopper 01",
          "Hopper 01",
          null,
          "Hopper 01",
          "Hopper 01",
          "Hopper 01",
          "Hopper 01",
          null,
          "Hopper 01",
          "Hopper 01",
          "Hopper 01",
          "Hopper 01",
          null,
          "Hopper 01",
          "Hopper 01",
          "Hopper 01",
          "Hopper 01",
          null,
          "Hopper 01",
          "Hopper 01",
          "Hopper 01",
          "Hopper 01",
          null,
          "Hopper 01",
          "Hopper 01",
          "Hopper 01",
          "Hopper 01",
          null
         ]
        },
        {
         "connectgaps": false,
         "hoverinfo": "y+name",
         "line": {
          "color": "rgb(255,150,0)",
          "width": 10
         },
         "mode": "lines",
         "name": "unloading",
         "type": "scatter",
         "uid": "4e436acf-bc19-428b-ba25-d18744c4b079",
         "x": [
          "2019-07-31 10:30:18.165758",
          "2019-07-31 10:30:18.165758",
          "2019-08-21 06:30:18.165758",
          "2019-08-21 06:30:18.165758",
          "2019-08-21 06:30:18.165758",
          "2019-09-11 03:36:38.980699",
          "2019-09-11 03:36:38.980699",
          "2019-10-01 23:36:38.980699",
          "2019-10-01 23:36:38.980699",
          "2019-10-01 23:36:38.980699",
          "2019-10-22 20:42:59.795640",
          "2019-10-22 20:42:59.795640",
          "2019-11-12 15:42:59.795640",
          "2019-11-12 15:42:59.795640",
          "2019-11-12 15:42:59.795640",
          "2019-12-03 12:49:20.610581",
          "2019-12-03 12:49:20.610581",
          "2019-12-24 08:49:20.610581",
          "2019-12-24 08:49:20.610581",
          "2019-12-24 08:49:20.610581",
          "2020-01-14 05:55:41.425522",
          "2020-01-14 05:55:41.425522",
          "2020-02-04 01:55:41.425522",
          "2020-02-04 01:55:41.425522",
          "2020-02-04 01:55:41.425522",
          "2020-02-24 23:02:02.240463",
          "2020-02-24 23:02:02.240463",
          "2020-03-16 19:02:02.240463",
          "2020-03-16 19:02:02.240463",
          "2020-03-16 19:02:02.240463",
          "2020-04-06 17:08:23.055404",
          "2020-04-06 17:08:23.055404",
          "2020-04-27 13:08:23.055404",
          "2020-04-27 13:08:23.055404",
          "2020-04-27 13:08:23.055404",
          "2020-05-18 10:14:43.870345",
          "2020-05-18 10:14:43.870345",
          "2020-06-08 06:14:43.870345",
          "2020-06-08 06:14:43.870345",
          "2020-06-08 06:14:43.870345",
          "2020-06-29 03:21:04.685286",
          "2020-06-29 03:21:04.685286",
          "2020-07-19 23:21:04.685286",
          "2020-07-19 23:21:04.685286",
          "2020-07-19 23:21:04.685286",
          "2020-08-09 20:27:25.500227",
          "2020-08-09 20:27:25.500227",
          "2020-08-30 16:27:25.500227",
          "2020-08-30 16:27:25.500227",
          "2020-08-30 16:27:25.500227"
         ],
         "y": [
          "Hopper 01",
          "Hopper 01",
          "Hopper 01",
          "Hopper 01",
          null,
          "Hopper 01",
          "Hopper 01",
          "Hopper 01",
          "Hopper 01",
          null,
          "Hopper 01",
          "Hopper 01",
          "Hopper 01",
          "Hopper 01",
          null,
          "Hopper 01",
          "Hopper 01",
          "Hopper 01",
          "Hopper 01",
          null,
          "Hopper 01",
          "Hopper 01",
          "Hopper 01",
          "Hopper 01",
          null,
          "Hopper 01",
          "Hopper 01",
          "Hopper 01",
          "Hopper 01",
          null,
          "Hopper 01",
          "Hopper 01",
          "Hopper 01",
          "Hopper 01",
          null,
          "Hopper 01",
          "Hopper 01",
          "Hopper 01",
          "Hopper 01",
          null,
          "Hopper 01",
          "Hopper 01",
          "Hopper 01",
          "Hopper 01",
          null,
          "Hopper 01",
          "Hopper 01",
          "Hopper 01",
          "Hopper 01",
          null
         ]
        },
        {
         "connectgaps": false,
         "hoverinfo": "y+name",
         "line": {
          "color": "rgb(98, 192, 122)",
          "width": 10
         },
         "mode": "lines",
         "name": "sailing filled",
         "type": "scatter",
         "uid": "8020b076-0e22-48bc-ac38-0a6b06e836fd",
         "x": [
          "2019-07-31 09:55:23",
          "2019-07-31 09:55:23",
          "2019-07-31 10:30:18.165758",
          "2019-07-31 10:30:18.165758",
          "2019-07-31 10:30:18.165758",
          "2019-09-11 03:01:43.814941",
          "2019-09-11 03:01:43.814941",
          "2019-09-11 03:36:38.980699",
          "2019-09-11 03:36:38.980699",
          "2019-09-11 03:36:38.980699",
          "2019-10-22 20:08:04.629882",
          "2019-10-22 20:08:04.629882",
          "2019-10-22 20:42:59.795640",
          "2019-10-22 20:42:59.795640",
          "2019-10-22 20:42:59.795640",
          "2019-12-03 12:14:25.444823",
          "2019-12-03 12:14:25.444823",
          "2019-12-03 12:49:20.610581",
          "2019-12-03 12:49:20.610581",
          "2019-12-03 12:49:20.610581",
          "2020-01-14 05:20:46.259764",
          "2020-01-14 05:20:46.259764",
          "2020-01-14 05:55:41.425522",
          "2020-01-14 05:55:41.425522",
          "2020-01-14 05:55:41.425522",
          "2020-02-24 22:27:07.074705",
          "2020-02-24 22:27:07.074705",
          "2020-02-24 23:02:02.240463",
          "2020-02-24 23:02:02.240463",
          "2020-02-24 23:02:02.240463",
          "2020-04-06 16:33:27.889646",
          "2020-04-06 16:33:27.889646",
          "2020-04-06 17:08:23.055404",
          "2020-04-06 17:08:23.055404",
          "2020-04-06 17:08:23.055404",
          "2020-05-18 09:39:48.704587",
          "2020-05-18 09:39:48.704587",
          "2020-05-18 10:14:43.870345",
          "2020-05-18 10:14:43.870345",
          "2020-05-18 10:14:43.870345",
          "2020-06-29 02:46:09.519527",
          "2020-06-29 02:46:09.519527",
          "2020-06-29 03:21:04.685286",
          "2020-06-29 03:21:04.685286",
          "2020-06-29 03:21:04.685286",
          "2020-08-09 19:52:30.334468",
          "2020-08-09 19:52:30.334468",
          "2020-08-09 20:27:25.500227",
          "2020-08-09 20:27:25.500227",
          "2020-08-09 20:27:25.500227"
         ],
         "y": [
          "Hopper 01",
          "Hopper 01",
          "Hopper 01",
          "Hopper 01",
          null,
          "Hopper 01",
          "Hopper 01",
          "Hopper 01",
          "Hopper 01",
          null,
          "Hopper 01",
          "Hopper 01",
          "Hopper 01",
          "Hopper 01",
          null,
          "Hopper 01",
          "Hopper 01",
          "Hopper 01",
          "Hopper 01",
          null,
          "Hopper 01",
          "Hopper 01",
          "Hopper 01",
          "Hopper 01",
          null,
          "Hopper 01",
          "Hopper 01",
          "Hopper 01",
          "Hopper 01",
          null,
          "Hopper 01",
          "Hopper 01",
          "Hopper 01",
          "Hopper 01",
          null,
          "Hopper 01",
          "Hopper 01",
          "Hopper 01",
          "Hopper 01",
          null,
          "Hopper 01",
          "Hopper 01",
          "Hopper 01",
          "Hopper 01",
          null,
          "Hopper 01",
          "Hopper 01",
          "Hopper 01",
          "Hopper 01",
          null
         ]
        },
        {
         "connectgaps": false,
         "hoverinfo": "y+name",
         "line": {
          "color": "rgb(98, 141, 122)",
          "width": 10
         },
         "mode": "lines",
         "name": "sailing empty",
         "type": "scatter",
         "uid": "77abc4b5-af85-4862-a6f1-5d233e48b974",
         "x": [
          "2019-08-21 06:30:18.165758",
          "2019-08-21 06:30:18.165758",
          "2019-08-21 07:01:43.814941",
          "2019-08-21 07:01:43.814941",
          "2019-08-21 07:01:43.814941",
          "2019-10-01 23:36:38.980699",
          "2019-10-01 23:36:38.980699",
          "2019-10-02 00:08:04.629882",
          "2019-10-02 00:08:04.629882",
          "2019-10-02 00:08:04.629882",
          "2019-11-12 15:42:59.795640",
          "2019-11-12 15:42:59.795640",
          "2019-11-12 16:14:25.444823",
          "2019-11-12 16:14:25.444823",
          "2019-11-12 16:14:25.444823",
          "2019-12-24 08:49:20.610581",
          "2019-12-24 08:49:20.610581",
          "2019-12-24 09:20:46.259764",
          "2019-12-24 09:20:46.259764",
          "2019-12-24 09:20:46.259764",
          "2020-02-04 01:55:41.425522",
          "2020-02-04 01:55:41.425522",
          "2020-02-04 02:27:07.074705",
          "2020-02-04 02:27:07.074705",
          "2020-02-04 02:27:07.074705",
          "2020-03-16 19:02:02.240463",
          "2020-03-16 19:02:02.240463",
          "2020-03-16 19:33:27.889646",
          "2020-03-16 19:33:27.889646",
          "2020-03-16 19:33:27.889646",
          "2020-04-27 13:08:23.055404",
          "2020-04-27 13:08:23.055404",
          "2020-04-27 13:39:48.704587",
          "2020-04-27 13:39:48.704587",
          "2020-04-27 13:39:48.704587",
          "2020-06-08 06:14:43.870345",
          "2020-06-08 06:14:43.870345",
          "2020-06-08 06:46:09.519527",
          "2020-06-08 06:46:09.519527",
          "2020-06-08 06:46:09.519527",
          "2020-07-19 23:21:04.685286",
          "2020-07-19 23:21:04.685286",
          "2020-07-19 23:52:30.334468",
          "2020-07-19 23:52:30.334468",
          "2020-07-19 23:52:30.334468"
         ],
         "y": [
          "Hopper 01",
          "Hopper 01",
          "Hopper 01",
          "Hopper 01",
          null,
          "Hopper 01",
          "Hopper 01",
          "Hopper 01",
          "Hopper 01",
          null,
          "Hopper 01",
          "Hopper 01",
          "Hopper 01",
          "Hopper 01",
          null,
          "Hopper 01",
          "Hopper 01",
          "Hopper 01",
          "Hopper 01",
          null,
          "Hopper 01",
          "Hopper 01",
          "Hopper 01",
          "Hopper 01",
          null,
          "Hopper 01",
          "Hopper 01",
          "Hopper 01",
          "Hopper 01",
          null,
          "Hopper 01",
          "Hopper 01",
          "Hopper 01",
          "Hopper 01",
          null,
          "Hopper 01",
          "Hopper 01",
          "Hopper 01",
          "Hopper 01",
          null,
          "Hopper 01",
          "Hopper 01",
          "Hopper 01",
          "Hopper 01",
          null
         ]
        }
       ],
       "layout": {
        "hovermode": "closest",
        "legend": {
         "orientation": "h",
         "x": 0,
         "y": -0.2
        },
        "title": "Vessel planning",
        "xaxis": {
         "range": [
          "2019-07-10 11:55:23",
          "2020-08-30 14:27:25.500227"
         ],
         "title": "Time",
         "titlefont": {
          "color": "#7f7f7f",
          "family": "Courier New, monospace",
          "size": 18
         }
        },
        "yaxis": {
         "title": "Vessels",
         "titlefont": {
          "color": "#7f7f7f",
          "family": "Courier New, monospace",
          "size": 18
         }
        }
       }
      },
      "text/html": [
       "<div id=\"4d6bb74d-641f-4eab-9544-2ef7b9c1c1b0\" style=\"height: 525px; width: 100%;\" class=\"plotly-graph-div\"></div><script type=\"text/javascript\">require([\"plotly\"], function(Plotly) { window.PLOTLYENV=window.PLOTLYENV || {};window.PLOTLYENV.BASE_URL=\"https://plot.ly\";Plotly.newPlot(\"4d6bb74d-641f-4eab-9544-2ef7b9c1c1b0\", [{\"connectgaps\": false, \"hoverinfo\": \"y+name\", \"line\": {\"color\": \"rgb(55,126,184)\", \"width\": 10}, \"mode\": \"lines\", \"name\": \"loading\", \"x\": [\"2019-07-10 13:55:23\", \"2019-07-10 13:55:23\", \"2019-07-31 09:55:23\", \"2019-07-31 09:55:23\", \"2019-07-31 09:55:23\", \"2019-08-21 07:01:43.814941\", \"2019-08-21 07:01:43.814941\", \"2019-09-11 03:01:43.814941\", \"2019-09-11 03:01:43.814941\", \"2019-09-11 03:01:43.814941\", \"2019-10-02 00:08:04.629882\", \"2019-10-02 00:08:04.629882\", \"2019-10-22 20:08:04.629882\", \"2019-10-22 20:08:04.629882\", \"2019-10-22 20:08:04.629882\", \"2019-11-12 16:14:25.444823\", \"2019-11-12 16:14:25.444823\", \"2019-12-03 12:14:25.444823\", \"2019-12-03 12:14:25.444823\", \"2019-12-03 12:14:25.444823\", \"2019-12-24 09:20:46.259764\", \"2019-12-24 09:20:46.259764\", \"2020-01-14 05:20:46.259764\", \"2020-01-14 05:20:46.259764\", \"2020-01-14 05:20:46.259764\", \"2020-02-04 02:27:07.074705\", \"2020-02-04 02:27:07.074705\", \"2020-02-24 22:27:07.074705\", \"2020-02-24 22:27:07.074705\", \"2020-02-24 22:27:07.074705\", \"2020-03-16 19:33:27.889646\", \"2020-03-16 19:33:27.889646\", \"2020-04-06 16:33:27.889646\", \"2020-04-06 16:33:27.889646\", \"2020-04-06 16:33:27.889646\", \"2020-04-27 13:39:48.704587\", \"2020-04-27 13:39:48.704587\", \"2020-05-18 09:39:48.704587\", \"2020-05-18 09:39:48.704587\", \"2020-05-18 09:39:48.704587\", \"2020-06-08 06:46:09.519527\", \"2020-06-08 06:46:09.519527\", \"2020-06-29 02:46:09.519527\", \"2020-06-29 02:46:09.519527\", \"2020-06-29 02:46:09.519527\", \"2020-07-19 23:52:30.334468\", \"2020-07-19 23:52:30.334468\", \"2020-08-09 19:52:30.334468\", \"2020-08-09 19:52:30.334468\", \"2020-08-09 19:52:30.334468\"], \"y\": [\"Hopper 01\", \"Hopper 01\", \"Hopper 01\", \"Hopper 01\", null, \"Hopper 01\", \"Hopper 01\", \"Hopper 01\", \"Hopper 01\", null, \"Hopper 01\", \"Hopper 01\", \"Hopper 01\", \"Hopper 01\", null, \"Hopper 01\", \"Hopper 01\", \"Hopper 01\", \"Hopper 01\", null, \"Hopper 01\", \"Hopper 01\", \"Hopper 01\", \"Hopper 01\", null, \"Hopper 01\", \"Hopper 01\", \"Hopper 01\", \"Hopper 01\", null, \"Hopper 01\", \"Hopper 01\", \"Hopper 01\", \"Hopper 01\", null, \"Hopper 01\", \"Hopper 01\", \"Hopper 01\", \"Hopper 01\", null, \"Hopper 01\", \"Hopper 01\", \"Hopper 01\", \"Hopper 01\", null, \"Hopper 01\", \"Hopper 01\", \"Hopper 01\", \"Hopper 01\", null], \"type\": \"scatter\", \"uid\": \"f6880f9e-1d5d-4943-8b29-7d39065a4a25\"}, {\"connectgaps\": false, \"hoverinfo\": \"y+name\", \"line\": {\"color\": \"rgb(255,150,0)\", \"width\": 10}, \"mode\": \"lines\", \"name\": \"unloading\", \"x\": [\"2019-07-31 10:30:18.165758\", \"2019-07-31 10:30:18.165758\", \"2019-08-21 06:30:18.165758\", \"2019-08-21 06:30:18.165758\", \"2019-08-21 06:30:18.165758\", \"2019-09-11 03:36:38.980699\", \"2019-09-11 03:36:38.980699\", \"2019-10-01 23:36:38.980699\", \"2019-10-01 23:36:38.980699\", \"2019-10-01 23:36:38.980699\", \"2019-10-22 20:42:59.795640\", \"2019-10-22 20:42:59.795640\", \"2019-11-12 15:42:59.795640\", \"2019-11-12 15:42:59.795640\", \"2019-11-12 15:42:59.795640\", \"2019-12-03 12:49:20.610581\", \"2019-12-03 12:49:20.610581\", \"2019-12-24 08:49:20.610581\", \"2019-12-24 08:49:20.610581\", \"2019-12-24 08:49:20.610581\", \"2020-01-14 05:55:41.425522\", \"2020-01-14 05:55:41.425522\", \"2020-02-04 01:55:41.425522\", \"2020-02-04 01:55:41.425522\", \"2020-02-04 01:55:41.425522\", \"2020-02-24 23:02:02.240463\", \"2020-02-24 23:02:02.240463\", \"2020-03-16 19:02:02.240463\", \"2020-03-16 19:02:02.240463\", \"2020-03-16 19:02:02.240463\", \"2020-04-06 17:08:23.055404\", \"2020-04-06 17:08:23.055404\", \"2020-04-27 13:08:23.055404\", \"2020-04-27 13:08:23.055404\", \"2020-04-27 13:08:23.055404\", \"2020-05-18 10:14:43.870345\", \"2020-05-18 10:14:43.870345\", \"2020-06-08 06:14:43.870345\", \"2020-06-08 06:14:43.870345\", \"2020-06-08 06:14:43.870345\", \"2020-06-29 03:21:04.685286\", \"2020-06-29 03:21:04.685286\", \"2020-07-19 23:21:04.685286\", \"2020-07-19 23:21:04.685286\", \"2020-07-19 23:21:04.685286\", \"2020-08-09 20:27:25.500227\", \"2020-08-09 20:27:25.500227\", \"2020-08-30 16:27:25.500227\", \"2020-08-30 16:27:25.500227\", \"2020-08-30 16:27:25.500227\"], \"y\": [\"Hopper 01\", \"Hopper 01\", \"Hopper 01\", \"Hopper 01\", null, \"Hopper 01\", \"Hopper 01\", \"Hopper 01\", \"Hopper 01\", null, \"Hopper 01\", \"Hopper 01\", \"Hopper 01\", \"Hopper 01\", null, \"Hopper 01\", \"Hopper 01\", \"Hopper 01\", \"Hopper 01\", null, \"Hopper 01\", \"Hopper 01\", \"Hopper 01\", \"Hopper 01\", null, \"Hopper 01\", \"Hopper 01\", \"Hopper 01\", \"Hopper 01\", null, \"Hopper 01\", \"Hopper 01\", \"Hopper 01\", \"Hopper 01\", null, \"Hopper 01\", \"Hopper 01\", \"Hopper 01\", \"Hopper 01\", null, \"Hopper 01\", \"Hopper 01\", \"Hopper 01\", \"Hopper 01\", null, \"Hopper 01\", \"Hopper 01\", \"Hopper 01\", \"Hopper 01\", null], \"type\": \"scatter\", \"uid\": \"4e436acf-bc19-428b-ba25-d18744c4b079\"}, {\"connectgaps\": false, \"hoverinfo\": \"y+name\", \"line\": {\"color\": \"rgb(98, 192, 122)\", \"width\": 10}, \"mode\": \"lines\", \"name\": \"sailing filled\", \"x\": [\"2019-07-31 09:55:23\", \"2019-07-31 09:55:23\", \"2019-07-31 10:30:18.165758\", \"2019-07-31 10:30:18.165758\", \"2019-07-31 10:30:18.165758\", \"2019-09-11 03:01:43.814941\", \"2019-09-11 03:01:43.814941\", \"2019-09-11 03:36:38.980699\", \"2019-09-11 03:36:38.980699\", \"2019-09-11 03:36:38.980699\", \"2019-10-22 20:08:04.629882\", \"2019-10-22 20:08:04.629882\", \"2019-10-22 20:42:59.795640\", \"2019-10-22 20:42:59.795640\", \"2019-10-22 20:42:59.795640\", \"2019-12-03 12:14:25.444823\", \"2019-12-03 12:14:25.444823\", \"2019-12-03 12:49:20.610581\", \"2019-12-03 12:49:20.610581\", \"2019-12-03 12:49:20.610581\", \"2020-01-14 05:20:46.259764\", \"2020-01-14 05:20:46.259764\", \"2020-01-14 05:55:41.425522\", \"2020-01-14 05:55:41.425522\", \"2020-01-14 05:55:41.425522\", \"2020-02-24 22:27:07.074705\", \"2020-02-24 22:27:07.074705\", \"2020-02-24 23:02:02.240463\", \"2020-02-24 23:02:02.240463\", \"2020-02-24 23:02:02.240463\", \"2020-04-06 16:33:27.889646\", \"2020-04-06 16:33:27.889646\", \"2020-04-06 17:08:23.055404\", \"2020-04-06 17:08:23.055404\", \"2020-04-06 17:08:23.055404\", \"2020-05-18 09:39:48.704587\", \"2020-05-18 09:39:48.704587\", \"2020-05-18 10:14:43.870345\", \"2020-05-18 10:14:43.870345\", \"2020-05-18 10:14:43.870345\", \"2020-06-29 02:46:09.519527\", \"2020-06-29 02:46:09.519527\", \"2020-06-29 03:21:04.685286\", \"2020-06-29 03:21:04.685286\", \"2020-06-29 03:21:04.685286\", \"2020-08-09 19:52:30.334468\", \"2020-08-09 19:52:30.334468\", \"2020-08-09 20:27:25.500227\", \"2020-08-09 20:27:25.500227\", \"2020-08-09 20:27:25.500227\"], \"y\": [\"Hopper 01\", \"Hopper 01\", \"Hopper 01\", \"Hopper 01\", null, \"Hopper 01\", \"Hopper 01\", \"Hopper 01\", \"Hopper 01\", null, \"Hopper 01\", \"Hopper 01\", \"Hopper 01\", \"Hopper 01\", null, \"Hopper 01\", \"Hopper 01\", \"Hopper 01\", \"Hopper 01\", null, \"Hopper 01\", \"Hopper 01\", \"Hopper 01\", \"Hopper 01\", null, \"Hopper 01\", \"Hopper 01\", \"Hopper 01\", \"Hopper 01\", null, \"Hopper 01\", \"Hopper 01\", \"Hopper 01\", \"Hopper 01\", null, \"Hopper 01\", \"Hopper 01\", \"Hopper 01\", \"Hopper 01\", null, \"Hopper 01\", \"Hopper 01\", \"Hopper 01\", \"Hopper 01\", null, \"Hopper 01\", \"Hopper 01\", \"Hopper 01\", \"Hopper 01\", null], \"type\": \"scatter\", \"uid\": \"8020b076-0e22-48bc-ac38-0a6b06e836fd\"}, {\"connectgaps\": false, \"hoverinfo\": \"y+name\", \"line\": {\"color\": \"rgb(98, 141, 122)\", \"width\": 10}, \"mode\": \"lines\", \"name\": \"sailing empty\", \"x\": [\"2019-08-21 06:30:18.165758\", \"2019-08-21 06:30:18.165758\", \"2019-08-21 07:01:43.814941\", \"2019-08-21 07:01:43.814941\", \"2019-08-21 07:01:43.814941\", \"2019-10-01 23:36:38.980699\", \"2019-10-01 23:36:38.980699\", \"2019-10-02 00:08:04.629882\", \"2019-10-02 00:08:04.629882\", \"2019-10-02 00:08:04.629882\", \"2019-11-12 15:42:59.795640\", \"2019-11-12 15:42:59.795640\", \"2019-11-12 16:14:25.444823\", \"2019-11-12 16:14:25.444823\", \"2019-11-12 16:14:25.444823\", \"2019-12-24 08:49:20.610581\", \"2019-12-24 08:49:20.610581\", \"2019-12-24 09:20:46.259764\", \"2019-12-24 09:20:46.259764\", \"2019-12-24 09:20:46.259764\", \"2020-02-04 01:55:41.425522\", \"2020-02-04 01:55:41.425522\", \"2020-02-04 02:27:07.074705\", \"2020-02-04 02:27:07.074705\", \"2020-02-04 02:27:07.074705\", \"2020-03-16 19:02:02.240463\", \"2020-03-16 19:02:02.240463\", \"2020-03-16 19:33:27.889646\", \"2020-03-16 19:33:27.889646\", \"2020-03-16 19:33:27.889646\", \"2020-04-27 13:08:23.055404\", \"2020-04-27 13:08:23.055404\", \"2020-04-27 13:39:48.704587\", \"2020-04-27 13:39:48.704587\", \"2020-04-27 13:39:48.704587\", \"2020-06-08 06:14:43.870345\", \"2020-06-08 06:14:43.870345\", \"2020-06-08 06:46:09.519527\", \"2020-06-08 06:46:09.519527\", \"2020-06-08 06:46:09.519527\", \"2020-07-19 23:21:04.685286\", \"2020-07-19 23:21:04.685286\", \"2020-07-19 23:52:30.334468\", \"2020-07-19 23:52:30.334468\", \"2020-07-19 23:52:30.334468\"], \"y\": [\"Hopper 01\", \"Hopper 01\", \"Hopper 01\", \"Hopper 01\", null, \"Hopper 01\", \"Hopper 01\", \"Hopper 01\", \"Hopper 01\", null, \"Hopper 01\", \"Hopper 01\", \"Hopper 01\", \"Hopper 01\", null, \"Hopper 01\", \"Hopper 01\", \"Hopper 01\", \"Hopper 01\", null, \"Hopper 01\", \"Hopper 01\", \"Hopper 01\", \"Hopper 01\", null, \"Hopper 01\", \"Hopper 01\", \"Hopper 01\", \"Hopper 01\", null, \"Hopper 01\", \"Hopper 01\", \"Hopper 01\", \"Hopper 01\", null, \"Hopper 01\", \"Hopper 01\", \"Hopper 01\", \"Hopper 01\", null, \"Hopper 01\", \"Hopper 01\", \"Hopper 01\", \"Hopper 01\", null], \"type\": \"scatter\", \"uid\": \"77abc4b5-af85-4862-a6f1-5d233e48b974\"}], {\"hovermode\": \"closest\", \"legend\": {\"orientation\": \"h\", \"x\": 0, \"y\": -0.2}, \"title\": \"Vessel planning\", \"xaxis\": {\"range\": [\"2019-07-10 11:55:23\", \"2020-08-30 14:27:25.500227\"], \"title\": \"Time\", \"titlefont\": {\"color\": \"#7f7f7f\", \"family\": \"Courier New, monospace\", \"size\": 18}}, \"yaxis\": {\"title\": \"Vessels\", \"titlefont\": {\"color\": \"#7f7f7f\", \"family\": \"Courier New, monospace\", \"size\": 18}}}, {\"showLink\": true, \"linkText\": \"Export to plot.ly\", \"plotlyServerURL\": \"https://plot.ly\"})});</script><script type=\"text/javascript\">window.addEventListener(\"resize\", function(){window._Plotly.Plots.resize(document.getElementById(\"4d6bb74d-641f-4eab-9544-2ef7b9c1c1b0\"));});</script>"
      ],
      "text/vnd.plotly.v1+html": [
       "<div id=\"4d6bb74d-641f-4eab-9544-2ef7b9c1c1b0\" style=\"height: 525px; width: 100%;\" class=\"plotly-graph-div\"></div><script type=\"text/javascript\">require([\"plotly\"], function(Plotly) { window.PLOTLYENV=window.PLOTLYENV || {};window.PLOTLYENV.BASE_URL=\"https://plot.ly\";Plotly.newPlot(\"4d6bb74d-641f-4eab-9544-2ef7b9c1c1b0\", [{\"connectgaps\": false, \"hoverinfo\": \"y+name\", \"line\": {\"color\": \"rgb(55,126,184)\", \"width\": 10}, \"mode\": \"lines\", \"name\": \"loading\", \"x\": [\"2019-07-10 13:55:23\", \"2019-07-10 13:55:23\", \"2019-07-31 09:55:23\", \"2019-07-31 09:55:23\", \"2019-07-31 09:55:23\", \"2019-08-21 07:01:43.814941\", \"2019-08-21 07:01:43.814941\", \"2019-09-11 03:01:43.814941\", \"2019-09-11 03:01:43.814941\", \"2019-09-11 03:01:43.814941\", \"2019-10-02 00:08:04.629882\", \"2019-10-02 00:08:04.629882\", \"2019-10-22 20:08:04.629882\", \"2019-10-22 20:08:04.629882\", \"2019-10-22 20:08:04.629882\", \"2019-11-12 16:14:25.444823\", \"2019-11-12 16:14:25.444823\", \"2019-12-03 12:14:25.444823\", \"2019-12-03 12:14:25.444823\", \"2019-12-03 12:14:25.444823\", \"2019-12-24 09:20:46.259764\", \"2019-12-24 09:20:46.259764\", \"2020-01-14 05:20:46.259764\", \"2020-01-14 05:20:46.259764\", \"2020-01-14 05:20:46.259764\", \"2020-02-04 02:27:07.074705\", \"2020-02-04 02:27:07.074705\", \"2020-02-24 22:27:07.074705\", \"2020-02-24 22:27:07.074705\", \"2020-02-24 22:27:07.074705\", \"2020-03-16 19:33:27.889646\", \"2020-03-16 19:33:27.889646\", \"2020-04-06 16:33:27.889646\", \"2020-04-06 16:33:27.889646\", \"2020-04-06 16:33:27.889646\", \"2020-04-27 13:39:48.704587\", \"2020-04-27 13:39:48.704587\", \"2020-05-18 09:39:48.704587\", \"2020-05-18 09:39:48.704587\", \"2020-05-18 09:39:48.704587\", \"2020-06-08 06:46:09.519527\", \"2020-06-08 06:46:09.519527\", \"2020-06-29 02:46:09.519527\", \"2020-06-29 02:46:09.519527\", \"2020-06-29 02:46:09.519527\", \"2020-07-19 23:52:30.334468\", \"2020-07-19 23:52:30.334468\", \"2020-08-09 19:52:30.334468\", \"2020-08-09 19:52:30.334468\", \"2020-08-09 19:52:30.334468\"], \"y\": [\"Hopper 01\", \"Hopper 01\", \"Hopper 01\", \"Hopper 01\", null, \"Hopper 01\", \"Hopper 01\", \"Hopper 01\", \"Hopper 01\", null, \"Hopper 01\", \"Hopper 01\", \"Hopper 01\", \"Hopper 01\", null, \"Hopper 01\", \"Hopper 01\", \"Hopper 01\", \"Hopper 01\", null, \"Hopper 01\", \"Hopper 01\", \"Hopper 01\", \"Hopper 01\", null, \"Hopper 01\", \"Hopper 01\", \"Hopper 01\", \"Hopper 01\", null, \"Hopper 01\", \"Hopper 01\", \"Hopper 01\", \"Hopper 01\", null, \"Hopper 01\", \"Hopper 01\", \"Hopper 01\", \"Hopper 01\", null, \"Hopper 01\", \"Hopper 01\", \"Hopper 01\", \"Hopper 01\", null, \"Hopper 01\", \"Hopper 01\", \"Hopper 01\", \"Hopper 01\", null], \"type\": \"scatter\", \"uid\": \"f6880f9e-1d5d-4943-8b29-7d39065a4a25\"}, {\"connectgaps\": false, \"hoverinfo\": \"y+name\", \"line\": {\"color\": \"rgb(255,150,0)\", \"width\": 10}, \"mode\": \"lines\", \"name\": \"unloading\", \"x\": [\"2019-07-31 10:30:18.165758\", \"2019-07-31 10:30:18.165758\", \"2019-08-21 06:30:18.165758\", \"2019-08-21 06:30:18.165758\", \"2019-08-21 06:30:18.165758\", \"2019-09-11 03:36:38.980699\", \"2019-09-11 03:36:38.980699\", \"2019-10-01 23:36:38.980699\", \"2019-10-01 23:36:38.980699\", \"2019-10-01 23:36:38.980699\", \"2019-10-22 20:42:59.795640\", \"2019-10-22 20:42:59.795640\", \"2019-11-12 15:42:59.795640\", \"2019-11-12 15:42:59.795640\", \"2019-11-12 15:42:59.795640\", \"2019-12-03 12:49:20.610581\", \"2019-12-03 12:49:20.610581\", \"2019-12-24 08:49:20.610581\", \"2019-12-24 08:49:20.610581\", \"2019-12-24 08:49:20.610581\", \"2020-01-14 05:55:41.425522\", \"2020-01-14 05:55:41.425522\", \"2020-02-04 01:55:41.425522\", \"2020-02-04 01:55:41.425522\", \"2020-02-04 01:55:41.425522\", \"2020-02-24 23:02:02.240463\", \"2020-02-24 23:02:02.240463\", \"2020-03-16 19:02:02.240463\", \"2020-03-16 19:02:02.240463\", \"2020-03-16 19:02:02.240463\", \"2020-04-06 17:08:23.055404\", \"2020-04-06 17:08:23.055404\", \"2020-04-27 13:08:23.055404\", \"2020-04-27 13:08:23.055404\", \"2020-04-27 13:08:23.055404\", \"2020-05-18 10:14:43.870345\", \"2020-05-18 10:14:43.870345\", \"2020-06-08 06:14:43.870345\", \"2020-06-08 06:14:43.870345\", \"2020-06-08 06:14:43.870345\", \"2020-06-29 03:21:04.685286\", \"2020-06-29 03:21:04.685286\", \"2020-07-19 23:21:04.685286\", \"2020-07-19 23:21:04.685286\", \"2020-07-19 23:21:04.685286\", \"2020-08-09 20:27:25.500227\", \"2020-08-09 20:27:25.500227\", \"2020-08-30 16:27:25.500227\", \"2020-08-30 16:27:25.500227\", \"2020-08-30 16:27:25.500227\"], \"y\": [\"Hopper 01\", \"Hopper 01\", \"Hopper 01\", \"Hopper 01\", null, \"Hopper 01\", \"Hopper 01\", \"Hopper 01\", \"Hopper 01\", null, \"Hopper 01\", \"Hopper 01\", \"Hopper 01\", \"Hopper 01\", null, \"Hopper 01\", \"Hopper 01\", \"Hopper 01\", \"Hopper 01\", null, \"Hopper 01\", \"Hopper 01\", \"Hopper 01\", \"Hopper 01\", null, \"Hopper 01\", \"Hopper 01\", \"Hopper 01\", \"Hopper 01\", null, \"Hopper 01\", \"Hopper 01\", \"Hopper 01\", \"Hopper 01\", null, \"Hopper 01\", \"Hopper 01\", \"Hopper 01\", \"Hopper 01\", null, \"Hopper 01\", \"Hopper 01\", \"Hopper 01\", \"Hopper 01\", null, \"Hopper 01\", \"Hopper 01\", \"Hopper 01\", \"Hopper 01\", null], \"type\": \"scatter\", \"uid\": \"4e436acf-bc19-428b-ba25-d18744c4b079\"}, {\"connectgaps\": false, \"hoverinfo\": \"y+name\", \"line\": {\"color\": \"rgb(98, 192, 122)\", \"width\": 10}, \"mode\": \"lines\", \"name\": \"sailing filled\", \"x\": [\"2019-07-31 09:55:23\", \"2019-07-31 09:55:23\", \"2019-07-31 10:30:18.165758\", \"2019-07-31 10:30:18.165758\", \"2019-07-31 10:30:18.165758\", \"2019-09-11 03:01:43.814941\", \"2019-09-11 03:01:43.814941\", \"2019-09-11 03:36:38.980699\", \"2019-09-11 03:36:38.980699\", \"2019-09-11 03:36:38.980699\", \"2019-10-22 20:08:04.629882\", \"2019-10-22 20:08:04.629882\", \"2019-10-22 20:42:59.795640\", \"2019-10-22 20:42:59.795640\", \"2019-10-22 20:42:59.795640\", \"2019-12-03 12:14:25.444823\", \"2019-12-03 12:14:25.444823\", \"2019-12-03 12:49:20.610581\", \"2019-12-03 12:49:20.610581\", \"2019-12-03 12:49:20.610581\", \"2020-01-14 05:20:46.259764\", \"2020-01-14 05:20:46.259764\", \"2020-01-14 05:55:41.425522\", \"2020-01-14 05:55:41.425522\", \"2020-01-14 05:55:41.425522\", \"2020-02-24 22:27:07.074705\", \"2020-02-24 22:27:07.074705\", \"2020-02-24 23:02:02.240463\", \"2020-02-24 23:02:02.240463\", \"2020-02-24 23:02:02.240463\", \"2020-04-06 16:33:27.889646\", \"2020-04-06 16:33:27.889646\", \"2020-04-06 17:08:23.055404\", \"2020-04-06 17:08:23.055404\", \"2020-04-06 17:08:23.055404\", \"2020-05-18 09:39:48.704587\", \"2020-05-18 09:39:48.704587\", \"2020-05-18 10:14:43.870345\", \"2020-05-18 10:14:43.870345\", \"2020-05-18 10:14:43.870345\", \"2020-06-29 02:46:09.519527\", \"2020-06-29 02:46:09.519527\", \"2020-06-29 03:21:04.685286\", \"2020-06-29 03:21:04.685286\", \"2020-06-29 03:21:04.685286\", \"2020-08-09 19:52:30.334468\", \"2020-08-09 19:52:30.334468\", \"2020-08-09 20:27:25.500227\", \"2020-08-09 20:27:25.500227\", \"2020-08-09 20:27:25.500227\"], \"y\": [\"Hopper 01\", \"Hopper 01\", \"Hopper 01\", \"Hopper 01\", null, \"Hopper 01\", \"Hopper 01\", \"Hopper 01\", \"Hopper 01\", null, \"Hopper 01\", \"Hopper 01\", \"Hopper 01\", \"Hopper 01\", null, \"Hopper 01\", \"Hopper 01\", \"Hopper 01\", \"Hopper 01\", null, \"Hopper 01\", \"Hopper 01\", \"Hopper 01\", \"Hopper 01\", null, \"Hopper 01\", \"Hopper 01\", \"Hopper 01\", \"Hopper 01\", null, \"Hopper 01\", \"Hopper 01\", \"Hopper 01\", \"Hopper 01\", null, \"Hopper 01\", \"Hopper 01\", \"Hopper 01\", \"Hopper 01\", null, \"Hopper 01\", \"Hopper 01\", \"Hopper 01\", \"Hopper 01\", null, \"Hopper 01\", \"Hopper 01\", \"Hopper 01\", \"Hopper 01\", null], \"type\": \"scatter\", \"uid\": \"8020b076-0e22-48bc-ac38-0a6b06e836fd\"}, {\"connectgaps\": false, \"hoverinfo\": \"y+name\", \"line\": {\"color\": \"rgb(98, 141, 122)\", \"width\": 10}, \"mode\": \"lines\", \"name\": \"sailing empty\", \"x\": [\"2019-08-21 06:30:18.165758\", \"2019-08-21 06:30:18.165758\", \"2019-08-21 07:01:43.814941\", \"2019-08-21 07:01:43.814941\", \"2019-08-21 07:01:43.814941\", \"2019-10-01 23:36:38.980699\", \"2019-10-01 23:36:38.980699\", \"2019-10-02 00:08:04.629882\", \"2019-10-02 00:08:04.629882\", \"2019-10-02 00:08:04.629882\", \"2019-11-12 15:42:59.795640\", \"2019-11-12 15:42:59.795640\", \"2019-11-12 16:14:25.444823\", \"2019-11-12 16:14:25.444823\", \"2019-11-12 16:14:25.444823\", \"2019-12-24 08:49:20.610581\", \"2019-12-24 08:49:20.610581\", \"2019-12-24 09:20:46.259764\", \"2019-12-24 09:20:46.259764\", \"2019-12-24 09:20:46.259764\", \"2020-02-04 01:55:41.425522\", \"2020-02-04 01:55:41.425522\", \"2020-02-04 02:27:07.074705\", \"2020-02-04 02:27:07.074705\", \"2020-02-04 02:27:07.074705\", \"2020-03-16 19:02:02.240463\", \"2020-03-16 19:02:02.240463\", \"2020-03-16 19:33:27.889646\", \"2020-03-16 19:33:27.889646\", \"2020-03-16 19:33:27.889646\", \"2020-04-27 13:08:23.055404\", \"2020-04-27 13:08:23.055404\", \"2020-04-27 13:39:48.704587\", \"2020-04-27 13:39:48.704587\", \"2020-04-27 13:39:48.704587\", \"2020-06-08 06:14:43.870345\", \"2020-06-08 06:14:43.870345\", \"2020-06-08 06:46:09.519527\", \"2020-06-08 06:46:09.519527\", \"2020-06-08 06:46:09.519527\", \"2020-07-19 23:21:04.685286\", \"2020-07-19 23:21:04.685286\", \"2020-07-19 23:52:30.334468\", \"2020-07-19 23:52:30.334468\", \"2020-07-19 23:52:30.334468\"], \"y\": [\"Hopper 01\", \"Hopper 01\", \"Hopper 01\", \"Hopper 01\", null, \"Hopper 01\", \"Hopper 01\", \"Hopper 01\", \"Hopper 01\", null, \"Hopper 01\", \"Hopper 01\", \"Hopper 01\", \"Hopper 01\", null, \"Hopper 01\", \"Hopper 01\", \"Hopper 01\", \"Hopper 01\", null, \"Hopper 01\", \"Hopper 01\", \"Hopper 01\", \"Hopper 01\", null, \"Hopper 01\", \"Hopper 01\", \"Hopper 01\", \"Hopper 01\", null, \"Hopper 01\", \"Hopper 01\", \"Hopper 01\", \"Hopper 01\", null, \"Hopper 01\", \"Hopper 01\", \"Hopper 01\", \"Hopper 01\", null, \"Hopper 01\", \"Hopper 01\", \"Hopper 01\", \"Hopper 01\", null], \"type\": \"scatter\", \"uid\": \"77abc4b5-af85-4862-a6f1-5d233e48b974\"}], {\"hovermode\": \"closest\", \"legend\": {\"orientation\": \"h\", \"x\": 0, \"y\": -0.2}, \"title\": \"Vessel planning\", \"xaxis\": {\"range\": [\"2019-07-10 11:55:23\", \"2020-08-30 14:27:25.500227\"], \"title\": \"Time\", \"titlefont\": {\"color\": \"#7f7f7f\", \"family\": \"Courier New, monospace\", \"size\": 18}}, \"yaxis\": {\"title\": \"Vessels\", \"titlefont\": {\"color\": \"#7f7f7f\", \"family\": \"Courier New, monospace\", \"size\": 18}}}, {\"showLink\": true, \"linkText\": \"Export to plot.ly\", \"plotlyServerURL\": \"https://plot.ly\"})});</script><script type=\"text/javascript\">window.addEventListener(\"resize\", function(){window._Plotly.Plots.resize(document.getElementById(\"4d6bb74d-641f-4eab-9544-2ef7b9c1c1b0\"));});</script>"
      ]
     },
     "metadata": {},
     "output_type": "display_data"
    }
   ],
   "source": [
    "vessels = [hopper]\n",
    "\n",
    "activities = ['loading', 'unloading', 'sailing filled', 'sailing empty']\n",
    "colors = {0:'rgb(55,126,184)', 1:'rgb(255,150,0)', 2:'rgb(98, 192, 122)', 3:'rgb(98, 141, 122)'}\n",
    "\n",
    "plot.vessel_planning(vessels, activities, colors)"
   ]
  },
  {
   "cell_type": "markdown",
   "metadata": {},
   "source": [
    "### Save all logs"
   ]
  },
  {
   "cell_type": "code",
   "execution_count": 14,
   "metadata": {},
   "outputs": [],
   "source": [
    "sites = [from_site, to_site]\n",
    "equipment = [hopper]\n",
    "activities = [activity]\n",
    "\n",
    "save = savesim.LogSaver(sites, equipment, activities, \n",
    "                        simulation_id = '5e1d7c36-458e-11e9-816b-b469212bff5b', simulation_name = \"Example 01\",\n",
    "                        location = \"Simulation Results\", overwrite = True)\n",
    "\n",
    "save.save_all_logs()"
   ]
  },
  {
   "cell_type": "code",
   "execution_count": 15,
   "metadata": {},
   "outputs": [
    {
     "data": {
      "text/html": [
       "<div>\n",
       "<style scoped>\n",
       "    .dataframe tbody tr th:only-of-type {\n",
       "        vertical-align: middle;\n",
       "    }\n",
       "\n",
       "    .dataframe tbody tr th {\n",
       "        vertical-align: top;\n",
       "    }\n",
       "\n",
       "    .dataframe thead th {\n",
       "        text-align: right;\n",
       "    }\n",
       "</style>\n",
       "<table border=\"1\" class=\"dataframe\">\n",
       "  <thead>\n",
       "    <tr style=\"text-align: right;\">\n",
       "      <th></th>\n",
       "      <th>ActivityID</th>\n",
       "      <th>ActivityName</th>\n",
       "    </tr>\n",
       "  </thead>\n",
       "  <tbody>\n",
       "    <tr>\n",
       "      <th>0</th>\n",
       "      <td>6dbbbdf7-4589-11e9-bf3b-b469212bff5b</td>\n",
       "      <td>Soil movement</td>\n",
       "    </tr>\n",
       "  </tbody>\n",
       "</table>\n",
       "</div>"
      ],
      "text/plain": [
       "                             ActivityID   ActivityName\n",
       "0  6dbbbdf7-4589-11e9-bf3b-b469212bff5b  Soil movement"
      ]
     },
     "execution_count": 15,
     "metadata": {},
     "output_type": "execute_result"
    }
   ],
   "source": [
    "save.unique_activities"
   ]
  }
 ],
 "metadata": {
  "kernelspec": {
   "display_name": "Python 3",
   "language": "python",
   "name": "python3"
  },
  "language_info": {
   "codemirror_mode": {
    "name": "ipython",
    "version": 3
   },
   "file_extension": ".py",
   "mimetype": "text/x-python",
   "name": "python",
   "nbconvert_exporter": "python",
   "pygments_lexer": "ipython3",
   "version": "3.7.3"
  }
 },
 "nbformat": 4,
 "nbformat_minor": 2
}
