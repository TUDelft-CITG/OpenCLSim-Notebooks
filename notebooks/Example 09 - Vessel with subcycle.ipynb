{
 "cells": [
  {
   "cell_type": "markdown",
   "metadata": {},
   "source": [
    "## Example 09 - Vessel with subcycle"
   ]
  },
  {
   "cell_type": "markdown",
   "metadata": {},
   "source": [
    "**Example description:** Example of implementing subcycle activities."
   ]
  },
  {
   "cell_type": "markdown",
   "metadata": {},
   "source": [
    "* [**0. Import required libraries:**](#0.-Import-required-libraries)<br>\n",
    "* [**1. Define work method:**](#1.-Define-work-method)<br>\n",
    "   * [**1.1 Sites:**](#1.1-Define-the-project-sites)<br>\n",
    "   * [**1.2 Equipment:**](#1.2-Define-the-project-equipment)<br>\n",
    "   * [**1.3 Activities:**](#1.3-Define-the-activity)<br>\n",
    "* [**2. Run the simulation:**](#2.-Run-the-simulation)<br>\n",
    "* [**3. Post processing:**](#3.-Postprocessing)<br>"
   ]
  },
  {
   "cell_type": "markdown",
   "metadata": {},
   "source": [
    "## 0. Import required libraries"
   ]
  },
  {
   "cell_type": "code",
   "execution_count": 1,
   "metadata": {},
   "outputs": [
    {
     "name": "stdout",
     "output_type": "stream",
     "text": [
      "This notebook has been tested with OpenCLSim version 1.2.3\n"
     ]
    }
   ],
   "source": [
    "import openclsim\n",
    "print('This notebook has been tested with OpenCLSim version {}'.format(openclsim.__version__))"
   ]
  },
  {
   "cell_type": "code",
   "execution_count": 2,
   "metadata": {},
   "outputs": [],
   "source": [
    "# package(s) related to time, space and id\n",
    "import datetime, time\n",
    "import platform\n",
    "\n",
    "# you need these dependencies (you can get these from anaconda)\n",
    "# package(s) related to the simulation\n",
    "import simpy\n",
    "\n",
    "# spatial libraries \n",
    "import shapely.geometry\n",
    "from simplekml import Kml, Style\n",
    "\n",
    "# package(s) for data handling\n",
    "import numpy as np\n",
    "import pandas as pd\n",
    "\n",
    "# digital twin package\n",
    "import openclsim.core as core\n",
    "import openclsim.model as model\n",
    "import openclsim.plot as plot\n",
    "\n",
    "# Additional import to save the initialization of the simulation\n",
    "import openclsim.savesim as savesim"
   ]
  },
  {
   "cell_type": "code",
   "execution_count": 3,
   "metadata": {},
   "outputs": [],
   "source": [
    "# Create simulation environment\n",
    "simulation_start = datetime.datetime.now()\n",
    "\n",
    "my_env = simpy.Environment(initial_time = time.mktime(simulation_start.timetuple()))\n",
    "my_env.epoch = time.mktime(simulation_start.timetuple())"
   ]
  },
  {
   "cell_type": "markdown",
   "metadata": {},
   "source": [
    "## 1. Define work method"
   ]
  },
  {
   "cell_type": "markdown",
   "metadata": {},
   "source": [
    "### 1.1 Define the project sites\n",
    "You can specify a project site object by entering mix-ins:\n",
    "\n",
    "    core.Identifiable - enables you to give the object a name\n",
    "    core.Log - enables you to log all discrete events in which the object is involved\n",
    "    core.Locatable - enables you to add coordinates to extract distance information and visualize\n",
    "    core.HasContainer - enables you to add information on the material available at the site\n",
    "    core.HasResource - enables you to add information on serving equipment\n",
    "    core.HasWeather - enables you to add weather conditions"
   ]
  },
  {
   "cell_type": "markdown",
   "metadata": {},
   "source": [
    "#### First create objects with the desired properties"
   ]
  },
  {
   "cell_type": "code",
   "execution_count": 4,
   "metadata": {},
   "outputs": [],
   "source": [
    "# The generic site class\n",
    "Site = type('Site', (core.Identifiable, # Give it a name\n",
    "                     core.Log,          # Allow logging of all discrete events\n",
    "                     core.Locatable,    # Add coordinates to extract distance information and visualize\n",
    "                     core.HasContainer, # Add information on the material available at the site\n",
    "                     core.HasResource), # Add information on serving equipment\n",
    "            {})                         # The dictionary is empty because the site type is generic"
   ]
  },
  {
   "cell_type": "markdown",
   "metadata": {},
   "source": [
    "#### Next specify the properties for sites you wish to create"
   ]
  },
  {
   "cell_type": "code",
   "execution_count": 5,
   "metadata": {},
   "outputs": [],
   "source": [
    "# Information on the extraction site - the \"from site\" - the \"win locatie\"\n",
    "location_from_site = shapely.geometry.Point(4.18055556, 52.18664444)  # lon, lat\n",
    "\n",
    "data_from_site = {\"env\": my_env,                                # The simpy environment defined in the first cel\n",
    "                  \"name\": \"Winlocatie\",                         # The name of the site\n",
    "                  \"ID\": \"6dbbbdf4-4589-11e9-a501-b469212bff5b\", # For logging purposes\n",
    "                  \"geometry\": location_from_site,               # The coordinates of the project site\n",
    "                  \"capacity\": 50_000,                           # The capacity of the site\n",
    "                  \"level\": 50_000}                              # The actual volume of the site"
   ]
  },
  {
   "cell_type": "code",
   "execution_count": 6,
   "metadata": {},
   "outputs": [],
   "source": [
    "# Information on the dumping site - the \"to site\" - the \"dump locatie\"\n",
    "location_to_site = shapely.geometry.Point(4.25222222, 52.11428333)     # lon, lat\n",
    "\n",
    "data_to_site = {\"env\": my_env,                                # The simpy environment defined in the first cel\n",
    "                \"name\": \"Dumplocatie\",                        # The name of the site\n",
    "                \"ID\": \"6dbbbdf5-4589-11e9-82b2-b469212bff5b\", # For logging purposes\n",
    "                \"geometry\": location_to_site,                 # The coordinates of the project site\n",
    "                \"capacity\": 50_000,                           # The capacity of the site\n",
    "                \"level\": 0}                                   # The actual volume of the site (empty of course)"
   ]
  },
  {
   "cell_type": "markdown",
   "metadata": {},
   "source": [
    "#### Finally create specific instances of the predefined objects with the specified properties"
   ]
  },
  {
   "cell_type": "code",
   "execution_count": 7,
   "metadata": {},
   "outputs": [],
   "source": [
    "# The two objects used for the simulation\n",
    "from_site = Site(**data_from_site)\n",
    "to_site   = Site(**data_to_site)"
   ]
  },
  {
   "cell_type": "markdown",
   "metadata": {},
   "source": [
    "### 1.2 Define the project equipment\n",
    "You can specify a vessel object by entering mix-ins:\n",
    "\n",
    "    core.Identifiable - enables you to give the object a name\n",
    "    core.Log - enables you to log all discrete events in which the object is involved\n",
    "    core.ContainerDependentMovable - A moving container, so capacity and location\n",
    "    core.Processor - Allow for loading and unloading\n",
    "    core.HasResource - Add information on serving equipment\n",
    "    core.HasDepthRestriction - Add information on depth restriction "
   ]
  },
  {
   "cell_type": "markdown",
   "metadata": {},
   "source": [
    "#### First create objects with the desired properties"
   ]
  },
  {
   "cell_type": "code",
   "execution_count": 8,
   "metadata": {},
   "outputs": [],
   "source": [
    "# The generic class for an object that can move and transport (a TSHD for example)\n",
    "TransportProcessingResource = type('TransportProcessingResource', \n",
    "                                   (core.Identifiable,              # Give it a name\n",
    "                                    core.Log,                       # Allow logging of all discrete events\n",
    "                                    core.ContainerDependentMovable, # A moving container, so capacity and location\n",
    "                                    core.Processor,                 # Allow for loading and unloading\n",
    "                                    core.LoadingSubcycle,           # Add subcycle for loading\n",
    "                                    core.UnloadingSubcycle,         # Add subcycle for unloading\n",
    "                                    core.HasResource,               # Add information on serving equipment\n",
    "                                    core.HasCosts,                  # Add information on vessel cost\n",
    "                                    ),\n",
    "                                   {})"
   ]
  },
  {
   "cell_type": "markdown",
   "metadata": {},
   "source": [
    "#### Next specify the properties for vessel(s) you wish to create"
   ]
  },
  {
   "cell_type": "code",
   "execution_count": 9,
   "metadata": {},
   "outputs": [],
   "source": [
    "# For more realistic simulation you might want to have speed dependent on the volume carried by the vessel\n",
    "def compute_v_provider(v_empty, v_full):\n",
    "    return lambda x: x * (v_full - v_empty) + v_empty\n",
    "\n",
    "loading_subcycle = pd.DataFrame.from_dict(\n",
    "    {\"EventName\": [\"Fastening\", \"Lifting\", \"Lowering\"],\n",
    "     \"Duration\": [1, 3, 2]}\n",
    ")\n",
    "\n",
    "unloading_subcycle = pd.DataFrame.from_dict(\n",
    "    {\"EventName\": [\"Lifting\", \"Lowering\", \"Fastening\"],\n",
    "     \"Duration\": [3, 2, 1]}\n",
    ")"
   ]
  },
  {
   "cell_type": "code",
   "execution_count": 10,
   "metadata": {},
   "outputs": [],
   "source": [
    "# TSHD variables\n",
    "data_hopper = {\"env\": my_env,                                       # The simpy environment \n",
    "               \"name\": \"Hopper 01\",                                 # Name\n",
    "               \"ID\": \"6dbbbdf6-4589-11e9-95a2-b469212bff5b\",        # For logging purposes\n",
    "               \"geometry\": location_from_site,                      # It starts at the \"from site\"\n",
    "               \"loading_subcycle\": loading_subcycle,                # Loading rate\n",
    "               \"unloading_subcycle\": unloading_subcycle,            # Unloading rate\n",
    "               \"capacity\": 5_000,                                   # Capacity of the hopper - \"Beunvolume\"\n",
    "               \"compute_v\": compute_v_provider(5, 4.5),             # Variable speed \n",
    "               \"weekrate\": 700_000}"
   ]
  },
  {
   "cell_type": "markdown",
   "metadata": {},
   "source": [
    "#### Finally create specific instances of the predefined objects with the specified properties"
   ]
  },
  {
   "cell_type": "code",
   "execution_count": 11,
   "metadata": {},
   "outputs": [],
   "source": [
    "# The simulation object\n",
    "hopper = TransportProcessingResource(**data_hopper)"
   ]
  },
  {
   "cell_type": "markdown",
   "metadata": {},
   "source": [
    "### 1.3 Define the activity"
   ]
  },
  {
   "cell_type": "code",
   "execution_count": 12,
   "metadata": {},
   "outputs": [],
   "source": [
    "# Create activity\n",
    "activity = model.Activity(env = my_env,           # The simpy environment defined in the first cel\n",
    "                          name = \"Soil movement\", # We are moving soil\n",
    "                          ID = \"6dbbbdf7-4589-11e9-bf3b-b469212bff5b\", # For logging purposes\n",
    "                          origin = from_site,     # We originate from the from_site\n",
    "                          destination = to_site,  # And therefore travel to the to_site\n",
    "                          loader = hopper,        # The benefit of a TSHD, all steps can be done\n",
    "                          mover = hopper,         # The benefit of a TSHD, all steps can be done\n",
    "                          unloader = hopper,      # The benefit of a TSHD, all steps can be done\n",
    "                          start_event = None,     # We can start right away\n",
    "                          stop_event = None)      # We stop once there is nothing more to move"
   ]
  },
  {
   "cell_type": "markdown",
   "metadata": {},
   "source": [
    "### 2. Run the simulation"
   ]
  },
  {
   "cell_type": "code",
   "execution_count": 13,
   "metadata": {},
   "outputs": [
    {
     "name": "stdout",
     "output_type": "stream",
     "text": [
      "\n",
      "*** Activity finished in 417 days, 2:32:02\n",
      "*** Activity cost 41,710,558.00€.\n"
     ]
    }
   ],
   "source": [
    "my_env.run()\n",
    "\n",
    "print(\"\")\n",
    "print(\"*** Activity finished in {}\".format(datetime.timedelta(seconds=int(my_env.now - my_env.epoch))))\n",
    "print(\"*** Activity cost {:,.2f}€.\".format(int(hopper.cost)))"
   ]
  },
  {
   "cell_type": "markdown",
   "metadata": {},
   "source": [
    "### 3. Postprocessing"
   ]
  },
  {
   "cell_type": "markdown",
   "metadata": {},
   "source": [
    "#### Vessel planning"
   ]
  },
  {
   "cell_type": "code",
   "execution_count": 14,
   "metadata": {},
   "outputs": [
    {
     "data": {
      "text/html": [
       "        <script type=\"text/javascript\">\n",
       "        window.PlotlyConfig = {MathJaxConfig: 'local'};\n",
       "        if (window.MathJax) {MathJax.Hub.Config({SVG: {font: \"STIX-Web\"}});}\n",
       "        if (typeof require !== 'undefined') {\n",
       "        require.undef(\"plotly\");\n",
       "        requirejs.config({\n",
       "            paths: {\n",
       "                'plotly': ['https://cdn.plot.ly/plotly-latest.min']\n",
       "            }\n",
       "        });\n",
       "        require(['plotly'], function(Plotly) {\n",
       "            window._Plotly = Plotly;\n",
       "        });\n",
       "        }\n",
       "        </script>\n",
       "        "
      ]
     },
     "metadata": {},
     "output_type": "display_data"
    },
    {
     "data": {
      "application/vnd.plotly.v1+json": {
       "config": {
        "linkText": "Export to plot.ly",
        "plotlyServerURL": "https://plot.ly",
        "showLink": false
       },
       "data": [
        {
         "connectgaps": false,
         "hoverinfo": "y+name",
         "line": {
          "color": "rgb(55,126,184)",
          "width": 10
         },
         "mode": "lines",
         "name": "loading",
         "type": "scatter",
         "x": [
          "2020-05-08T13:51:39",
          "2020-05-08T13:51:39",
          "2020-05-29T09:51:39",
          "2020-05-29T09:51:39",
          "2020-05-29T09:51:39",
          "2020-06-19T06:57:59.814941",
          "2020-06-19T06:57:59.814941",
          "2020-07-10T02:57:59.814941",
          "2020-07-10T02:57:59.814941",
          "2020-07-10T02:57:59.814941",
          "2020-07-31T00:04:20.629882",
          "2020-07-31T00:04:20.629882",
          "2020-08-20T20:04:20.629882",
          "2020-08-20T20:04:20.629882",
          "2020-08-20T20:04:20.629882",
          "2020-09-10T17:10:41.444823",
          "2020-09-10T17:10:41.444823",
          "2020-10-01T13:10:41.444823",
          "2020-10-01T13:10:41.444823",
          "2020-10-01T13:10:41.444823",
          "2020-10-22T10:17:02.259764",
          "2020-10-22T10:17:02.259764",
          "2020-11-12T05:17:02.259764",
          "2020-11-12T05:17:02.259764",
          "2020-11-12T05:17:02.259764",
          "2020-12-03T02:23:23.074705",
          "2020-12-03T02:23:23.074705",
          "2020-12-23T22:23:23.074705",
          "2020-12-23T22:23:23.074705",
          "2020-12-23T22:23:23.074705",
          "2021-01-13T19:29:43.889646",
          "2021-01-13T19:29:43.889646",
          "2021-02-03T15:29:43.889646",
          "2021-02-03T15:29:43.889646",
          "2021-02-03T15:29:43.889646",
          "2021-02-24T12:36:04.704587",
          "2021-02-24T12:36:04.704587",
          "2021-03-17T08:36:04.704587",
          "2021-03-17T08:36:04.704587",
          "2021-03-17T08:36:04.704587",
          "2021-04-07T06:42:25.519527",
          "2021-04-07T06:42:25.519527",
          "2021-04-28T02:42:25.519527",
          "2021-04-28T02:42:25.519527",
          "2021-04-28T02:42:25.519527",
          "2021-05-18T23:48:46.334468",
          "2021-05-18T23:48:46.334468",
          "2021-06-08T19:48:46.334468",
          "2021-06-08T19:48:46.334468",
          "2021-06-08T19:48:46.334468"
         ],
         "y": [
          "Hopper 01",
          "Hopper 01",
          "Hopper 01",
          "Hopper 01",
          null,
          "Hopper 01",
          "Hopper 01",
          "Hopper 01",
          "Hopper 01",
          null,
          "Hopper 01",
          "Hopper 01",
          "Hopper 01",
          "Hopper 01",
          null,
          "Hopper 01",
          "Hopper 01",
          "Hopper 01",
          "Hopper 01",
          null,
          "Hopper 01",
          "Hopper 01",
          "Hopper 01",
          "Hopper 01",
          null,
          "Hopper 01",
          "Hopper 01",
          "Hopper 01",
          "Hopper 01",
          null,
          "Hopper 01",
          "Hopper 01",
          "Hopper 01",
          "Hopper 01",
          null,
          "Hopper 01",
          "Hopper 01",
          "Hopper 01",
          "Hopper 01",
          null,
          "Hopper 01",
          "Hopper 01",
          "Hopper 01",
          "Hopper 01",
          null,
          "Hopper 01",
          "Hopper 01",
          "Hopper 01",
          "Hopper 01",
          null
         ]
        },
        {
         "connectgaps": false,
         "hoverinfo": "y+name",
         "line": {
          "color": "rgb(255,150,0)",
          "width": 10
         },
         "mode": "lines",
         "name": "unloading",
         "type": "scatter",
         "x": [
          "2020-05-29T10:26:34.165758",
          "2020-05-29T10:26:34.165758",
          "2020-06-19T06:26:34.165758",
          "2020-06-19T06:26:34.165758",
          "2020-06-19T06:26:34.165758",
          "2020-07-10T03:32:54.980699",
          "2020-07-10T03:32:54.980699",
          "2020-07-30T23:32:54.980699",
          "2020-07-30T23:32:54.980699",
          "2020-07-30T23:32:54.980699",
          "2020-08-20T20:39:15.795640",
          "2020-08-20T20:39:15.795640",
          "2020-09-10T16:39:15.795640",
          "2020-09-10T16:39:15.795640",
          "2020-09-10T16:39:15.795640",
          "2020-10-01T13:45:36.610581",
          "2020-10-01T13:45:36.610581",
          "2020-10-22T09:45:36.610581",
          "2020-10-22T09:45:36.610581",
          "2020-10-22T09:45:36.610581",
          "2020-11-12T05:51:57.425522",
          "2020-11-12T05:51:57.425522",
          "2020-12-03T01:51:57.425522",
          "2020-12-03T01:51:57.425522",
          "2020-12-03T01:51:57.425522",
          "2020-12-23T22:58:18.240463",
          "2020-12-23T22:58:18.240463",
          "2021-01-13T18:58:18.240463",
          "2021-01-13T18:58:18.240463",
          "2021-01-13T18:58:18.240463",
          "2021-02-03T16:04:39.055404",
          "2021-02-03T16:04:39.055404",
          "2021-02-24T12:04:39.055404",
          "2021-02-24T12:04:39.055404",
          "2021-02-24T12:04:39.055404",
          "2021-03-17T09:10:59.870345",
          "2021-03-17T09:10:59.870345",
          "2021-04-07T06:10:59.870345",
          "2021-04-07T06:10:59.870345",
          "2021-04-07T06:10:59.870345",
          "2021-04-28T03:17:20.685286",
          "2021-04-28T03:17:20.685286",
          "2021-05-18T23:17:20.685286",
          "2021-05-18T23:17:20.685286",
          "2021-05-18T23:17:20.685286",
          "2021-06-08T20:23:41.500227",
          "2021-06-08T20:23:41.500227",
          "2021-06-29T16:23:41.500227",
          "2021-06-29T16:23:41.500227",
          "2021-06-29T16:23:41.500227"
         ],
         "y": [
          "Hopper 01",
          "Hopper 01",
          "Hopper 01",
          "Hopper 01",
          null,
          "Hopper 01",
          "Hopper 01",
          "Hopper 01",
          "Hopper 01",
          null,
          "Hopper 01",
          "Hopper 01",
          "Hopper 01",
          "Hopper 01",
          null,
          "Hopper 01",
          "Hopper 01",
          "Hopper 01",
          "Hopper 01",
          null,
          "Hopper 01",
          "Hopper 01",
          "Hopper 01",
          "Hopper 01",
          null,
          "Hopper 01",
          "Hopper 01",
          "Hopper 01",
          "Hopper 01",
          null,
          "Hopper 01",
          "Hopper 01",
          "Hopper 01",
          "Hopper 01",
          null,
          "Hopper 01",
          "Hopper 01",
          "Hopper 01",
          "Hopper 01",
          null,
          "Hopper 01",
          "Hopper 01",
          "Hopper 01",
          "Hopper 01",
          null,
          "Hopper 01",
          "Hopper 01",
          "Hopper 01",
          "Hopper 01",
          null
         ]
        },
        {
         "connectgaps": false,
         "hoverinfo": "y+name",
         "line": {
          "color": "rgb(98, 192, 122)",
          "width": 10
         },
         "mode": "lines",
         "name": "sailing filled",
         "type": "scatter",
         "x": [
          "2020-05-29T09:51:39",
          "2020-05-29T09:51:39",
          "2020-05-29T10:26:34.165758",
          "2020-05-29T10:26:34.165758",
          "2020-05-29T10:26:34.165758",
          "2020-07-10T02:57:59.814941",
          "2020-07-10T02:57:59.814941",
          "2020-07-10T03:32:54.980699",
          "2020-07-10T03:32:54.980699",
          "2020-07-10T03:32:54.980699",
          "2020-08-20T20:04:20.629882",
          "2020-08-20T20:04:20.629882",
          "2020-08-20T20:39:15.795640",
          "2020-08-20T20:39:15.795640",
          "2020-08-20T20:39:15.795640",
          "2020-10-01T13:10:41.444823",
          "2020-10-01T13:10:41.444823",
          "2020-10-01T13:45:36.610581",
          "2020-10-01T13:45:36.610581",
          "2020-10-01T13:45:36.610581",
          "2020-11-12T05:17:02.259764",
          "2020-11-12T05:17:02.259764",
          "2020-11-12T05:51:57.425522",
          "2020-11-12T05:51:57.425522",
          "2020-11-12T05:51:57.425522",
          "2020-12-23T22:23:23.074705",
          "2020-12-23T22:23:23.074705",
          "2020-12-23T22:58:18.240463",
          "2020-12-23T22:58:18.240463",
          "2020-12-23T22:58:18.240463",
          "2021-02-03T15:29:43.889646",
          "2021-02-03T15:29:43.889646",
          "2021-02-03T16:04:39.055404",
          "2021-02-03T16:04:39.055404",
          "2021-02-03T16:04:39.055404",
          "2021-03-17T08:36:04.704587",
          "2021-03-17T08:36:04.704587",
          "2021-03-17T09:10:59.870345",
          "2021-03-17T09:10:59.870345",
          "2021-03-17T09:10:59.870345",
          "2021-04-28T02:42:25.519527",
          "2021-04-28T02:42:25.519527",
          "2021-04-28T03:17:20.685286",
          "2021-04-28T03:17:20.685286",
          "2021-04-28T03:17:20.685286",
          "2021-06-08T19:48:46.334468",
          "2021-06-08T19:48:46.334468",
          "2021-06-08T20:23:41.500227",
          "2021-06-08T20:23:41.500227",
          "2021-06-08T20:23:41.500227"
         ],
         "y": [
          "Hopper 01",
          "Hopper 01",
          "Hopper 01",
          "Hopper 01",
          null,
          "Hopper 01",
          "Hopper 01",
          "Hopper 01",
          "Hopper 01",
          null,
          "Hopper 01",
          "Hopper 01",
          "Hopper 01",
          "Hopper 01",
          null,
          "Hopper 01",
          "Hopper 01",
          "Hopper 01",
          "Hopper 01",
          null,
          "Hopper 01",
          "Hopper 01",
          "Hopper 01",
          "Hopper 01",
          null,
          "Hopper 01",
          "Hopper 01",
          "Hopper 01",
          "Hopper 01",
          null,
          "Hopper 01",
          "Hopper 01",
          "Hopper 01",
          "Hopper 01",
          null,
          "Hopper 01",
          "Hopper 01",
          "Hopper 01",
          "Hopper 01",
          null,
          "Hopper 01",
          "Hopper 01",
          "Hopper 01",
          "Hopper 01",
          null,
          "Hopper 01",
          "Hopper 01",
          "Hopper 01",
          "Hopper 01",
          null
         ]
        },
        {
         "connectgaps": false,
         "hoverinfo": "y+name",
         "line": {
          "color": "rgb(98, 141, 122)",
          "width": 10
         },
         "mode": "lines",
         "name": "sailing empty",
         "type": "scatter",
         "x": [
          "2020-06-19T06:26:34.165758",
          "2020-06-19T06:26:34.165758",
          "2020-06-19T06:57:59.814941",
          "2020-06-19T06:57:59.814941",
          "2020-06-19T06:57:59.814941",
          "2020-07-30T23:32:54.980699",
          "2020-07-30T23:32:54.980699",
          "2020-07-31T00:04:20.629882",
          "2020-07-31T00:04:20.629882",
          "2020-07-31T00:04:20.629882",
          "2020-09-10T16:39:15.795640",
          "2020-09-10T16:39:15.795640",
          "2020-09-10T17:10:41.444823",
          "2020-09-10T17:10:41.444823",
          "2020-09-10T17:10:41.444823",
          "2020-10-22T09:45:36.610581",
          "2020-10-22T09:45:36.610581",
          "2020-10-22T10:17:02.259764",
          "2020-10-22T10:17:02.259764",
          "2020-10-22T10:17:02.259764",
          "2020-12-03T01:51:57.425522",
          "2020-12-03T01:51:57.425522",
          "2020-12-03T02:23:23.074705",
          "2020-12-03T02:23:23.074705",
          "2020-12-03T02:23:23.074705",
          "2021-01-13T18:58:18.240463",
          "2021-01-13T18:58:18.240463",
          "2021-01-13T19:29:43.889646",
          "2021-01-13T19:29:43.889646",
          "2021-01-13T19:29:43.889646",
          "2021-02-24T12:04:39.055404",
          "2021-02-24T12:04:39.055404",
          "2021-02-24T12:36:04.704587",
          "2021-02-24T12:36:04.704587",
          "2021-02-24T12:36:04.704587",
          "2021-04-07T06:10:59.870345",
          "2021-04-07T06:10:59.870345",
          "2021-04-07T06:42:25.519527",
          "2021-04-07T06:42:25.519527",
          "2021-04-07T06:42:25.519527",
          "2021-05-18T23:17:20.685286",
          "2021-05-18T23:17:20.685286",
          "2021-05-18T23:48:46.334468",
          "2021-05-18T23:48:46.334468",
          "2021-05-18T23:48:46.334468"
         ],
         "y": [
          "Hopper 01",
          "Hopper 01",
          "Hopper 01",
          "Hopper 01",
          null,
          "Hopper 01",
          "Hopper 01",
          "Hopper 01",
          "Hopper 01",
          null,
          "Hopper 01",
          "Hopper 01",
          "Hopper 01",
          "Hopper 01",
          null,
          "Hopper 01",
          "Hopper 01",
          "Hopper 01",
          "Hopper 01",
          null,
          "Hopper 01",
          "Hopper 01",
          "Hopper 01",
          "Hopper 01",
          null,
          "Hopper 01",
          "Hopper 01",
          "Hopper 01",
          "Hopper 01",
          null,
          "Hopper 01",
          "Hopper 01",
          "Hopper 01",
          "Hopper 01",
          null,
          "Hopper 01",
          "Hopper 01",
          "Hopper 01",
          "Hopper 01",
          null,
          "Hopper 01",
          "Hopper 01",
          "Hopper 01",
          "Hopper 01",
          null
         ]
        }
       ],
       "layout": {
        "hovermode": "closest",
        "legend": {
         "orientation": "h",
         "x": 0,
         "y": -0.2
        },
        "template": {
         "data": {
          "bar": [
           {
            "error_x": {
             "color": "#2a3f5f"
            },
            "error_y": {
             "color": "#2a3f5f"
            },
            "marker": {
             "line": {
              "color": "#E5ECF6",
              "width": 0.5
             }
            },
            "type": "bar"
           }
          ],
          "barpolar": [
           {
            "marker": {
             "line": {
              "color": "#E5ECF6",
              "width": 0.5
             }
            },
            "type": "barpolar"
           }
          ],
          "carpet": [
           {
            "aaxis": {
             "endlinecolor": "#2a3f5f",
             "gridcolor": "white",
             "linecolor": "white",
             "minorgridcolor": "white",
             "startlinecolor": "#2a3f5f"
            },
            "baxis": {
             "endlinecolor": "#2a3f5f",
             "gridcolor": "white",
             "linecolor": "white",
             "minorgridcolor": "white",
             "startlinecolor": "#2a3f5f"
            },
            "type": "carpet"
           }
          ],
          "choropleth": [
           {
            "colorbar": {
             "outlinewidth": 0,
             "ticks": ""
            },
            "type": "choropleth"
           }
          ],
          "contour": [
           {
            "colorbar": {
             "outlinewidth": 0,
             "ticks": ""
            },
            "colorscale": [
             [
              0,
              "#0d0887"
             ],
             [
              0.1111111111111111,
              "#46039f"
             ],
             [
              0.2222222222222222,
              "#7201a8"
             ],
             [
              0.3333333333333333,
              "#9c179e"
             ],
             [
              0.4444444444444444,
              "#bd3786"
             ],
             [
              0.5555555555555556,
              "#d8576b"
             ],
             [
              0.6666666666666666,
              "#ed7953"
             ],
             [
              0.7777777777777778,
              "#fb9f3a"
             ],
             [
              0.8888888888888888,
              "#fdca26"
             ],
             [
              1,
              "#f0f921"
             ]
            ],
            "type": "contour"
           }
          ],
          "contourcarpet": [
           {
            "colorbar": {
             "outlinewidth": 0,
             "ticks": ""
            },
            "type": "contourcarpet"
           }
          ],
          "heatmap": [
           {
            "colorbar": {
             "outlinewidth": 0,
             "ticks": ""
            },
            "colorscale": [
             [
              0,
              "#0d0887"
             ],
             [
              0.1111111111111111,
              "#46039f"
             ],
             [
              0.2222222222222222,
              "#7201a8"
             ],
             [
              0.3333333333333333,
              "#9c179e"
             ],
             [
              0.4444444444444444,
              "#bd3786"
             ],
             [
              0.5555555555555556,
              "#d8576b"
             ],
             [
              0.6666666666666666,
              "#ed7953"
             ],
             [
              0.7777777777777778,
              "#fb9f3a"
             ],
             [
              0.8888888888888888,
              "#fdca26"
             ],
             [
              1,
              "#f0f921"
             ]
            ],
            "type": "heatmap"
           }
          ],
          "heatmapgl": [
           {
            "colorbar": {
             "outlinewidth": 0,
             "ticks": ""
            },
            "colorscale": [
             [
              0,
              "#0d0887"
             ],
             [
              0.1111111111111111,
              "#46039f"
             ],
             [
              0.2222222222222222,
              "#7201a8"
             ],
             [
              0.3333333333333333,
              "#9c179e"
             ],
             [
              0.4444444444444444,
              "#bd3786"
             ],
             [
              0.5555555555555556,
              "#d8576b"
             ],
             [
              0.6666666666666666,
              "#ed7953"
             ],
             [
              0.7777777777777778,
              "#fb9f3a"
             ],
             [
              0.8888888888888888,
              "#fdca26"
             ],
             [
              1,
              "#f0f921"
             ]
            ],
            "type": "heatmapgl"
           }
          ],
          "histogram": [
           {
            "marker": {
             "colorbar": {
              "outlinewidth": 0,
              "ticks": ""
             }
            },
            "type": "histogram"
           }
          ],
          "histogram2d": [
           {
            "colorbar": {
             "outlinewidth": 0,
             "ticks": ""
            },
            "colorscale": [
             [
              0,
              "#0d0887"
             ],
             [
              0.1111111111111111,
              "#46039f"
             ],
             [
              0.2222222222222222,
              "#7201a8"
             ],
             [
              0.3333333333333333,
              "#9c179e"
             ],
             [
              0.4444444444444444,
              "#bd3786"
             ],
             [
              0.5555555555555556,
              "#d8576b"
             ],
             [
              0.6666666666666666,
              "#ed7953"
             ],
             [
              0.7777777777777778,
              "#fb9f3a"
             ],
             [
              0.8888888888888888,
              "#fdca26"
             ],
             [
              1,
              "#f0f921"
             ]
            ],
            "type": "histogram2d"
           }
          ],
          "histogram2dcontour": [
           {
            "colorbar": {
             "outlinewidth": 0,
             "ticks": ""
            },
            "colorscale": [
             [
              0,
              "#0d0887"
             ],
             [
              0.1111111111111111,
              "#46039f"
             ],
             [
              0.2222222222222222,
              "#7201a8"
             ],
             [
              0.3333333333333333,
              "#9c179e"
             ],
             [
              0.4444444444444444,
              "#bd3786"
             ],
             [
              0.5555555555555556,
              "#d8576b"
             ],
             [
              0.6666666666666666,
              "#ed7953"
             ],
             [
              0.7777777777777778,
              "#fb9f3a"
             ],
             [
              0.8888888888888888,
              "#fdca26"
             ],
             [
              1,
              "#f0f921"
             ]
            ],
            "type": "histogram2dcontour"
           }
          ],
          "mesh3d": [
           {
            "colorbar": {
             "outlinewidth": 0,
             "ticks": ""
            },
            "type": "mesh3d"
           }
          ],
          "parcoords": [
           {
            "line": {
             "colorbar": {
              "outlinewidth": 0,
              "ticks": ""
             }
            },
            "type": "parcoords"
           }
          ],
          "scatter": [
           {
            "marker": {
             "colorbar": {
              "outlinewidth": 0,
              "ticks": ""
             }
            },
            "type": "scatter"
           }
          ],
          "scatter3d": [
           {
            "line": {
             "colorbar": {
              "outlinewidth": 0,
              "ticks": ""
             }
            },
            "marker": {
             "colorbar": {
              "outlinewidth": 0,
              "ticks": ""
             }
            },
            "type": "scatter3d"
           }
          ],
          "scattercarpet": [
           {
            "marker": {
             "colorbar": {
              "outlinewidth": 0,
              "ticks": ""
             }
            },
            "type": "scattercarpet"
           }
          ],
          "scattergeo": [
           {
            "marker": {
             "colorbar": {
              "outlinewidth": 0,
              "ticks": ""
             }
            },
            "type": "scattergeo"
           }
          ],
          "scattergl": [
           {
            "marker": {
             "colorbar": {
              "outlinewidth": 0,
              "ticks": ""
             }
            },
            "type": "scattergl"
           }
          ],
          "scattermapbox": [
           {
            "marker": {
             "colorbar": {
              "outlinewidth": 0,
              "ticks": ""
             }
            },
            "type": "scattermapbox"
           }
          ],
          "scatterpolar": [
           {
            "marker": {
             "colorbar": {
              "outlinewidth": 0,
              "ticks": ""
             }
            },
            "type": "scatterpolar"
           }
          ],
          "scatterpolargl": [
           {
            "marker": {
             "colorbar": {
              "outlinewidth": 0,
              "ticks": ""
             }
            },
            "type": "scatterpolargl"
           }
          ],
          "scatterternary": [
           {
            "marker": {
             "colorbar": {
              "outlinewidth": 0,
              "ticks": ""
             }
            },
            "type": "scatterternary"
           }
          ],
          "surface": [
           {
            "colorbar": {
             "outlinewidth": 0,
             "ticks": ""
            },
            "colorscale": [
             [
              0,
              "#0d0887"
             ],
             [
              0.1111111111111111,
              "#46039f"
             ],
             [
              0.2222222222222222,
              "#7201a8"
             ],
             [
              0.3333333333333333,
              "#9c179e"
             ],
             [
              0.4444444444444444,
              "#bd3786"
             ],
             [
              0.5555555555555556,
              "#d8576b"
             ],
             [
              0.6666666666666666,
              "#ed7953"
             ],
             [
              0.7777777777777778,
              "#fb9f3a"
             ],
             [
              0.8888888888888888,
              "#fdca26"
             ],
             [
              1,
              "#f0f921"
             ]
            ],
            "type": "surface"
           }
          ],
          "table": [
           {
            "cells": {
             "fill": {
              "color": "#EBF0F8"
             },
             "line": {
              "color": "white"
             }
            },
            "header": {
             "fill": {
              "color": "#C8D4E3"
             },
             "line": {
              "color": "white"
             }
            },
            "type": "table"
           }
          ]
         },
         "layout": {
          "annotationdefaults": {
           "arrowcolor": "#2a3f5f",
           "arrowhead": 0,
           "arrowwidth": 1
          },
          "colorscale": {
           "diverging": [
            [
             0,
             "#8e0152"
            ],
            [
             0.1,
             "#c51b7d"
            ],
            [
             0.2,
             "#de77ae"
            ],
            [
             0.3,
             "#f1b6da"
            ],
            [
             0.4,
             "#fde0ef"
            ],
            [
             0.5,
             "#f7f7f7"
            ],
            [
             0.6,
             "#e6f5d0"
            ],
            [
             0.7,
             "#b8e186"
            ],
            [
             0.8,
             "#7fbc41"
            ],
            [
             0.9,
             "#4d9221"
            ],
            [
             1,
             "#276419"
            ]
           ],
           "sequential": [
            [
             0,
             "#0d0887"
            ],
            [
             0.1111111111111111,
             "#46039f"
            ],
            [
             0.2222222222222222,
             "#7201a8"
            ],
            [
             0.3333333333333333,
             "#9c179e"
            ],
            [
             0.4444444444444444,
             "#bd3786"
            ],
            [
             0.5555555555555556,
             "#d8576b"
            ],
            [
             0.6666666666666666,
             "#ed7953"
            ],
            [
             0.7777777777777778,
             "#fb9f3a"
            ],
            [
             0.8888888888888888,
             "#fdca26"
            ],
            [
             1,
             "#f0f921"
            ]
           ],
           "sequentialminus": [
            [
             0,
             "#0d0887"
            ],
            [
             0.1111111111111111,
             "#46039f"
            ],
            [
             0.2222222222222222,
             "#7201a8"
            ],
            [
             0.3333333333333333,
             "#9c179e"
            ],
            [
             0.4444444444444444,
             "#bd3786"
            ],
            [
             0.5555555555555556,
             "#d8576b"
            ],
            [
             0.6666666666666666,
             "#ed7953"
            ],
            [
             0.7777777777777778,
             "#fb9f3a"
            ],
            [
             0.8888888888888888,
             "#fdca26"
            ],
            [
             1,
             "#f0f921"
            ]
           ]
          },
          "colorway": [
           "#636efa",
           "#EF553B",
           "#00cc96",
           "#ab63fa",
           "#FFA15A",
           "#19d3f3",
           "#FF6692",
           "#B6E880",
           "#FF97FF",
           "#FECB52"
          ],
          "font": {
           "color": "#2a3f5f"
          },
          "geo": {
           "bgcolor": "white",
           "lakecolor": "white",
           "landcolor": "#E5ECF6",
           "showlakes": true,
           "showland": true,
           "subunitcolor": "white"
          },
          "hoverlabel": {
           "align": "left"
          },
          "hovermode": "closest",
          "mapbox": {
           "style": "light"
          },
          "paper_bgcolor": "white",
          "plot_bgcolor": "#E5ECF6",
          "polar": {
           "angularaxis": {
            "gridcolor": "white",
            "linecolor": "white",
            "ticks": ""
           },
           "bgcolor": "#E5ECF6",
           "radialaxis": {
            "gridcolor": "white",
            "linecolor": "white",
            "ticks": ""
           }
          },
          "scene": {
           "xaxis": {
            "backgroundcolor": "#E5ECF6",
            "gridcolor": "white",
            "gridwidth": 2,
            "linecolor": "white",
            "showbackground": true,
            "ticks": "",
            "zerolinecolor": "white"
           },
           "yaxis": {
            "backgroundcolor": "#E5ECF6",
            "gridcolor": "white",
            "gridwidth": 2,
            "linecolor": "white",
            "showbackground": true,
            "ticks": "",
            "zerolinecolor": "white"
           },
           "zaxis": {
            "backgroundcolor": "#E5ECF6",
            "gridcolor": "white",
            "gridwidth": 2,
            "linecolor": "white",
            "showbackground": true,
            "ticks": "",
            "zerolinecolor": "white"
           }
          },
          "shapedefaults": {
           "line": {
            "color": "#2a3f5f"
           }
          },
          "ternary": {
           "aaxis": {
            "gridcolor": "white",
            "linecolor": "white",
            "ticks": ""
           },
           "baxis": {
            "gridcolor": "white",
            "linecolor": "white",
            "ticks": ""
           },
           "bgcolor": "#E5ECF6",
           "caxis": {
            "gridcolor": "white",
            "linecolor": "white",
            "ticks": ""
           }
          },
          "title": {
           "x": 0.05
          },
          "xaxis": {
           "automargin": true,
           "gridcolor": "white",
           "linecolor": "white",
           "ticks": "",
           "zerolinecolor": "white",
           "zerolinewidth": 2
          },
          "yaxis": {
           "automargin": true,
           "gridcolor": "white",
           "linecolor": "white",
           "ticks": "",
           "zerolinecolor": "white",
           "zerolinewidth": 2
          }
         }
        },
        "title": {
         "text": "Vessel planning"
        },
        "xaxis": {
         "range": [
          "2020-05-08T13:51:39",
          "2021-06-29T20:23:41.500227"
         ],
         "title": {
          "font": {
           "color": "#7f7f7f",
           "family": "Courier New, monospace",
           "size": 18
          },
          "text": "Time"
         }
        },
        "yaxis": {
         "title": {
          "font": {
           "color": "#7f7f7f",
           "family": "Courier New, monospace",
           "size": 18
          },
          "text": "Vessels"
         }
        }
       }
      },
      "text/html": [
       "<div>\n",
       "        \n",
       "        \n",
       "            <div id=\"65f05893-f22d-428f-950b-777ed63304ea\" class=\"plotly-graph-div\" style=\"height:525px; width:100%;\"></div>\n",
       "            <script type=\"text/javascript\">\n",
       "                require([\"plotly\"], function(Plotly) {\n",
       "                    window.PLOTLYENV=window.PLOTLYENV || {};\n",
       "                    \n",
       "                if (document.getElementById(\"65f05893-f22d-428f-950b-777ed63304ea\")) {\n",
       "                    Plotly.newPlot(\n",
       "                        '65f05893-f22d-428f-950b-777ed63304ea',\n",
       "                        [{\"connectgaps\": false, \"hoverinfo\": \"y+name\", \"line\": {\"color\": \"rgb(55,126,184)\", \"width\": 10}, \"mode\": \"lines\", \"name\": \"loading\", \"type\": \"scatter\", \"x\": [\"2020-05-08T13:51:39\", \"2020-05-08T13:51:39\", \"2020-05-29T09:51:39\", \"2020-05-29T09:51:39\", \"2020-05-29T09:51:39\", \"2020-06-19T06:57:59.814941\", \"2020-06-19T06:57:59.814941\", \"2020-07-10T02:57:59.814941\", \"2020-07-10T02:57:59.814941\", \"2020-07-10T02:57:59.814941\", \"2020-07-31T00:04:20.629882\", \"2020-07-31T00:04:20.629882\", \"2020-08-20T20:04:20.629882\", \"2020-08-20T20:04:20.629882\", \"2020-08-20T20:04:20.629882\", \"2020-09-10T17:10:41.444823\", \"2020-09-10T17:10:41.444823\", \"2020-10-01T13:10:41.444823\", \"2020-10-01T13:10:41.444823\", \"2020-10-01T13:10:41.444823\", \"2020-10-22T10:17:02.259764\", \"2020-10-22T10:17:02.259764\", \"2020-11-12T05:17:02.259764\", \"2020-11-12T05:17:02.259764\", \"2020-11-12T05:17:02.259764\", \"2020-12-03T02:23:23.074705\", \"2020-12-03T02:23:23.074705\", \"2020-12-23T22:23:23.074705\", \"2020-12-23T22:23:23.074705\", \"2020-12-23T22:23:23.074705\", \"2021-01-13T19:29:43.889646\", \"2021-01-13T19:29:43.889646\", \"2021-02-03T15:29:43.889646\", \"2021-02-03T15:29:43.889646\", \"2021-02-03T15:29:43.889646\", \"2021-02-24T12:36:04.704587\", \"2021-02-24T12:36:04.704587\", \"2021-03-17T08:36:04.704587\", \"2021-03-17T08:36:04.704587\", \"2021-03-17T08:36:04.704587\", \"2021-04-07T06:42:25.519527\", \"2021-04-07T06:42:25.519527\", \"2021-04-28T02:42:25.519527\", \"2021-04-28T02:42:25.519527\", \"2021-04-28T02:42:25.519527\", \"2021-05-18T23:48:46.334468\", \"2021-05-18T23:48:46.334468\", \"2021-06-08T19:48:46.334468\", \"2021-06-08T19:48:46.334468\", \"2021-06-08T19:48:46.334468\"], \"y\": [\"Hopper 01\", \"Hopper 01\", \"Hopper 01\", \"Hopper 01\", null, \"Hopper 01\", \"Hopper 01\", \"Hopper 01\", \"Hopper 01\", null, \"Hopper 01\", \"Hopper 01\", \"Hopper 01\", \"Hopper 01\", null, \"Hopper 01\", \"Hopper 01\", \"Hopper 01\", \"Hopper 01\", null, \"Hopper 01\", \"Hopper 01\", \"Hopper 01\", \"Hopper 01\", null, \"Hopper 01\", \"Hopper 01\", \"Hopper 01\", \"Hopper 01\", null, \"Hopper 01\", \"Hopper 01\", \"Hopper 01\", \"Hopper 01\", null, \"Hopper 01\", \"Hopper 01\", \"Hopper 01\", \"Hopper 01\", null, \"Hopper 01\", \"Hopper 01\", \"Hopper 01\", \"Hopper 01\", null, \"Hopper 01\", \"Hopper 01\", \"Hopper 01\", \"Hopper 01\", null]}, {\"connectgaps\": false, \"hoverinfo\": \"y+name\", \"line\": {\"color\": \"rgb(255,150,0)\", \"width\": 10}, \"mode\": \"lines\", \"name\": \"unloading\", \"type\": \"scatter\", \"x\": [\"2020-05-29T10:26:34.165758\", \"2020-05-29T10:26:34.165758\", \"2020-06-19T06:26:34.165758\", \"2020-06-19T06:26:34.165758\", \"2020-06-19T06:26:34.165758\", \"2020-07-10T03:32:54.980699\", \"2020-07-10T03:32:54.980699\", \"2020-07-30T23:32:54.980699\", \"2020-07-30T23:32:54.980699\", \"2020-07-30T23:32:54.980699\", \"2020-08-20T20:39:15.795640\", \"2020-08-20T20:39:15.795640\", \"2020-09-10T16:39:15.795640\", \"2020-09-10T16:39:15.795640\", \"2020-09-10T16:39:15.795640\", \"2020-10-01T13:45:36.610581\", \"2020-10-01T13:45:36.610581\", \"2020-10-22T09:45:36.610581\", \"2020-10-22T09:45:36.610581\", \"2020-10-22T09:45:36.610581\", \"2020-11-12T05:51:57.425522\", \"2020-11-12T05:51:57.425522\", \"2020-12-03T01:51:57.425522\", \"2020-12-03T01:51:57.425522\", \"2020-12-03T01:51:57.425522\", \"2020-12-23T22:58:18.240463\", \"2020-12-23T22:58:18.240463\", \"2021-01-13T18:58:18.240463\", \"2021-01-13T18:58:18.240463\", \"2021-01-13T18:58:18.240463\", \"2021-02-03T16:04:39.055404\", \"2021-02-03T16:04:39.055404\", \"2021-02-24T12:04:39.055404\", \"2021-02-24T12:04:39.055404\", \"2021-02-24T12:04:39.055404\", \"2021-03-17T09:10:59.870345\", \"2021-03-17T09:10:59.870345\", \"2021-04-07T06:10:59.870345\", \"2021-04-07T06:10:59.870345\", \"2021-04-07T06:10:59.870345\", \"2021-04-28T03:17:20.685286\", \"2021-04-28T03:17:20.685286\", \"2021-05-18T23:17:20.685286\", \"2021-05-18T23:17:20.685286\", \"2021-05-18T23:17:20.685286\", \"2021-06-08T20:23:41.500227\", \"2021-06-08T20:23:41.500227\", \"2021-06-29T16:23:41.500227\", \"2021-06-29T16:23:41.500227\", \"2021-06-29T16:23:41.500227\"], \"y\": [\"Hopper 01\", \"Hopper 01\", \"Hopper 01\", \"Hopper 01\", null, \"Hopper 01\", \"Hopper 01\", \"Hopper 01\", \"Hopper 01\", null, \"Hopper 01\", \"Hopper 01\", \"Hopper 01\", \"Hopper 01\", null, \"Hopper 01\", \"Hopper 01\", \"Hopper 01\", \"Hopper 01\", null, \"Hopper 01\", \"Hopper 01\", \"Hopper 01\", \"Hopper 01\", null, \"Hopper 01\", \"Hopper 01\", \"Hopper 01\", \"Hopper 01\", null, \"Hopper 01\", \"Hopper 01\", \"Hopper 01\", \"Hopper 01\", null, \"Hopper 01\", \"Hopper 01\", \"Hopper 01\", \"Hopper 01\", null, \"Hopper 01\", \"Hopper 01\", \"Hopper 01\", \"Hopper 01\", null, \"Hopper 01\", \"Hopper 01\", \"Hopper 01\", \"Hopper 01\", null]}, {\"connectgaps\": false, \"hoverinfo\": \"y+name\", \"line\": {\"color\": \"rgb(98, 192, 122)\", \"width\": 10}, \"mode\": \"lines\", \"name\": \"sailing filled\", \"type\": \"scatter\", \"x\": [\"2020-05-29T09:51:39\", \"2020-05-29T09:51:39\", \"2020-05-29T10:26:34.165758\", \"2020-05-29T10:26:34.165758\", \"2020-05-29T10:26:34.165758\", \"2020-07-10T02:57:59.814941\", \"2020-07-10T02:57:59.814941\", \"2020-07-10T03:32:54.980699\", \"2020-07-10T03:32:54.980699\", \"2020-07-10T03:32:54.980699\", \"2020-08-20T20:04:20.629882\", \"2020-08-20T20:04:20.629882\", \"2020-08-20T20:39:15.795640\", \"2020-08-20T20:39:15.795640\", \"2020-08-20T20:39:15.795640\", \"2020-10-01T13:10:41.444823\", \"2020-10-01T13:10:41.444823\", \"2020-10-01T13:45:36.610581\", \"2020-10-01T13:45:36.610581\", \"2020-10-01T13:45:36.610581\", \"2020-11-12T05:17:02.259764\", \"2020-11-12T05:17:02.259764\", \"2020-11-12T05:51:57.425522\", \"2020-11-12T05:51:57.425522\", \"2020-11-12T05:51:57.425522\", \"2020-12-23T22:23:23.074705\", \"2020-12-23T22:23:23.074705\", \"2020-12-23T22:58:18.240463\", \"2020-12-23T22:58:18.240463\", \"2020-12-23T22:58:18.240463\", \"2021-02-03T15:29:43.889646\", \"2021-02-03T15:29:43.889646\", \"2021-02-03T16:04:39.055404\", \"2021-02-03T16:04:39.055404\", \"2021-02-03T16:04:39.055404\", \"2021-03-17T08:36:04.704587\", \"2021-03-17T08:36:04.704587\", \"2021-03-17T09:10:59.870345\", \"2021-03-17T09:10:59.870345\", \"2021-03-17T09:10:59.870345\", \"2021-04-28T02:42:25.519527\", \"2021-04-28T02:42:25.519527\", \"2021-04-28T03:17:20.685286\", \"2021-04-28T03:17:20.685286\", \"2021-04-28T03:17:20.685286\", \"2021-06-08T19:48:46.334468\", \"2021-06-08T19:48:46.334468\", \"2021-06-08T20:23:41.500227\", \"2021-06-08T20:23:41.500227\", \"2021-06-08T20:23:41.500227\"], \"y\": [\"Hopper 01\", \"Hopper 01\", \"Hopper 01\", \"Hopper 01\", null, \"Hopper 01\", \"Hopper 01\", \"Hopper 01\", \"Hopper 01\", null, \"Hopper 01\", \"Hopper 01\", \"Hopper 01\", \"Hopper 01\", null, \"Hopper 01\", \"Hopper 01\", \"Hopper 01\", \"Hopper 01\", null, \"Hopper 01\", \"Hopper 01\", \"Hopper 01\", \"Hopper 01\", null, \"Hopper 01\", \"Hopper 01\", \"Hopper 01\", \"Hopper 01\", null, \"Hopper 01\", \"Hopper 01\", \"Hopper 01\", \"Hopper 01\", null, \"Hopper 01\", \"Hopper 01\", \"Hopper 01\", \"Hopper 01\", null, \"Hopper 01\", \"Hopper 01\", \"Hopper 01\", \"Hopper 01\", null, \"Hopper 01\", \"Hopper 01\", \"Hopper 01\", \"Hopper 01\", null]}, {\"connectgaps\": false, \"hoverinfo\": \"y+name\", \"line\": {\"color\": \"rgb(98, 141, 122)\", \"width\": 10}, \"mode\": \"lines\", \"name\": \"sailing empty\", \"type\": \"scatter\", \"x\": [\"2020-06-19T06:26:34.165758\", \"2020-06-19T06:26:34.165758\", \"2020-06-19T06:57:59.814941\", \"2020-06-19T06:57:59.814941\", \"2020-06-19T06:57:59.814941\", \"2020-07-30T23:32:54.980699\", \"2020-07-30T23:32:54.980699\", \"2020-07-31T00:04:20.629882\", \"2020-07-31T00:04:20.629882\", \"2020-07-31T00:04:20.629882\", \"2020-09-10T16:39:15.795640\", \"2020-09-10T16:39:15.795640\", \"2020-09-10T17:10:41.444823\", \"2020-09-10T17:10:41.444823\", \"2020-09-10T17:10:41.444823\", \"2020-10-22T09:45:36.610581\", \"2020-10-22T09:45:36.610581\", \"2020-10-22T10:17:02.259764\", \"2020-10-22T10:17:02.259764\", \"2020-10-22T10:17:02.259764\", \"2020-12-03T01:51:57.425522\", \"2020-12-03T01:51:57.425522\", \"2020-12-03T02:23:23.074705\", \"2020-12-03T02:23:23.074705\", \"2020-12-03T02:23:23.074705\", \"2021-01-13T18:58:18.240463\", \"2021-01-13T18:58:18.240463\", \"2021-01-13T19:29:43.889646\", \"2021-01-13T19:29:43.889646\", \"2021-01-13T19:29:43.889646\", \"2021-02-24T12:04:39.055404\", \"2021-02-24T12:04:39.055404\", \"2021-02-24T12:36:04.704587\", \"2021-02-24T12:36:04.704587\", \"2021-02-24T12:36:04.704587\", \"2021-04-07T06:10:59.870345\", \"2021-04-07T06:10:59.870345\", \"2021-04-07T06:42:25.519527\", \"2021-04-07T06:42:25.519527\", \"2021-04-07T06:42:25.519527\", \"2021-05-18T23:17:20.685286\", \"2021-05-18T23:17:20.685286\", \"2021-05-18T23:48:46.334468\", \"2021-05-18T23:48:46.334468\", \"2021-05-18T23:48:46.334468\"], \"y\": [\"Hopper 01\", \"Hopper 01\", \"Hopper 01\", \"Hopper 01\", null, \"Hopper 01\", \"Hopper 01\", \"Hopper 01\", \"Hopper 01\", null, \"Hopper 01\", \"Hopper 01\", \"Hopper 01\", \"Hopper 01\", null, \"Hopper 01\", \"Hopper 01\", \"Hopper 01\", \"Hopper 01\", null, \"Hopper 01\", \"Hopper 01\", \"Hopper 01\", \"Hopper 01\", null, \"Hopper 01\", \"Hopper 01\", \"Hopper 01\", \"Hopper 01\", null, \"Hopper 01\", \"Hopper 01\", \"Hopper 01\", \"Hopper 01\", null, \"Hopper 01\", \"Hopper 01\", \"Hopper 01\", \"Hopper 01\", null, \"Hopper 01\", \"Hopper 01\", \"Hopper 01\", \"Hopper 01\", null]}],\n",
       "                        {\"hovermode\": \"closest\", \"legend\": {\"orientation\": \"h\", \"x\": 0, \"y\": -0.2}, \"template\": {\"data\": {\"bar\": [{\"error_x\": {\"color\": \"#2a3f5f\"}, \"error_y\": {\"color\": \"#2a3f5f\"}, \"marker\": {\"line\": {\"color\": \"#E5ECF6\", \"width\": 0.5}}, \"type\": \"bar\"}], \"barpolar\": [{\"marker\": {\"line\": {\"color\": \"#E5ECF6\", \"width\": 0.5}}, \"type\": \"barpolar\"}], \"carpet\": [{\"aaxis\": {\"endlinecolor\": \"#2a3f5f\", \"gridcolor\": \"white\", \"linecolor\": \"white\", \"minorgridcolor\": \"white\", \"startlinecolor\": \"#2a3f5f\"}, \"baxis\": {\"endlinecolor\": \"#2a3f5f\", \"gridcolor\": \"white\", \"linecolor\": \"white\", \"minorgridcolor\": \"white\", \"startlinecolor\": \"#2a3f5f\"}, \"type\": \"carpet\"}], \"choropleth\": [{\"colorbar\": {\"outlinewidth\": 0, \"ticks\": \"\"}, \"type\": \"choropleth\"}], \"contour\": [{\"colorbar\": {\"outlinewidth\": 0, \"ticks\": \"\"}, \"colorscale\": [[0.0, \"#0d0887\"], [0.1111111111111111, \"#46039f\"], [0.2222222222222222, \"#7201a8\"], [0.3333333333333333, \"#9c179e\"], [0.4444444444444444, \"#bd3786\"], [0.5555555555555556, \"#d8576b\"], [0.6666666666666666, \"#ed7953\"], [0.7777777777777778, \"#fb9f3a\"], [0.8888888888888888, \"#fdca26\"], [1.0, \"#f0f921\"]], \"type\": \"contour\"}], \"contourcarpet\": [{\"colorbar\": {\"outlinewidth\": 0, \"ticks\": \"\"}, \"type\": \"contourcarpet\"}], \"heatmap\": [{\"colorbar\": {\"outlinewidth\": 0, \"ticks\": \"\"}, \"colorscale\": [[0.0, \"#0d0887\"], [0.1111111111111111, \"#46039f\"], [0.2222222222222222, \"#7201a8\"], [0.3333333333333333, \"#9c179e\"], [0.4444444444444444, \"#bd3786\"], [0.5555555555555556, \"#d8576b\"], [0.6666666666666666, \"#ed7953\"], [0.7777777777777778, \"#fb9f3a\"], [0.8888888888888888, \"#fdca26\"], [1.0, \"#f0f921\"]], \"type\": \"heatmap\"}], \"heatmapgl\": [{\"colorbar\": {\"outlinewidth\": 0, \"ticks\": \"\"}, \"colorscale\": [[0.0, \"#0d0887\"], [0.1111111111111111, \"#46039f\"], [0.2222222222222222, \"#7201a8\"], [0.3333333333333333, \"#9c179e\"], [0.4444444444444444, \"#bd3786\"], [0.5555555555555556, \"#d8576b\"], [0.6666666666666666, \"#ed7953\"], [0.7777777777777778, \"#fb9f3a\"], [0.8888888888888888, \"#fdca26\"], [1.0, \"#f0f921\"]], \"type\": \"heatmapgl\"}], \"histogram\": [{\"marker\": {\"colorbar\": {\"outlinewidth\": 0, \"ticks\": \"\"}}, \"type\": \"histogram\"}], \"histogram2d\": [{\"colorbar\": {\"outlinewidth\": 0, \"ticks\": \"\"}, \"colorscale\": [[0.0, \"#0d0887\"], [0.1111111111111111, \"#46039f\"], [0.2222222222222222, \"#7201a8\"], [0.3333333333333333, \"#9c179e\"], [0.4444444444444444, \"#bd3786\"], [0.5555555555555556, \"#d8576b\"], [0.6666666666666666, \"#ed7953\"], [0.7777777777777778, \"#fb9f3a\"], [0.8888888888888888, \"#fdca26\"], [1.0, \"#f0f921\"]], \"type\": \"histogram2d\"}], \"histogram2dcontour\": [{\"colorbar\": {\"outlinewidth\": 0, \"ticks\": \"\"}, \"colorscale\": [[0.0, \"#0d0887\"], [0.1111111111111111, \"#46039f\"], [0.2222222222222222, \"#7201a8\"], [0.3333333333333333, \"#9c179e\"], [0.4444444444444444, \"#bd3786\"], [0.5555555555555556, \"#d8576b\"], [0.6666666666666666, \"#ed7953\"], [0.7777777777777778, \"#fb9f3a\"], [0.8888888888888888, \"#fdca26\"], [1.0, \"#f0f921\"]], \"type\": \"histogram2dcontour\"}], \"mesh3d\": [{\"colorbar\": {\"outlinewidth\": 0, \"ticks\": \"\"}, \"type\": \"mesh3d\"}], \"parcoords\": [{\"line\": {\"colorbar\": {\"outlinewidth\": 0, \"ticks\": \"\"}}, \"type\": \"parcoords\"}], \"scatter\": [{\"marker\": {\"colorbar\": {\"outlinewidth\": 0, \"ticks\": \"\"}}, \"type\": \"scatter\"}], \"scatter3d\": [{\"line\": {\"colorbar\": {\"outlinewidth\": 0, \"ticks\": \"\"}}, \"marker\": {\"colorbar\": {\"outlinewidth\": 0, \"ticks\": \"\"}}, \"type\": \"scatter3d\"}], \"scattercarpet\": [{\"marker\": {\"colorbar\": {\"outlinewidth\": 0, \"ticks\": \"\"}}, \"type\": \"scattercarpet\"}], \"scattergeo\": [{\"marker\": {\"colorbar\": {\"outlinewidth\": 0, \"ticks\": \"\"}}, \"type\": \"scattergeo\"}], \"scattergl\": [{\"marker\": {\"colorbar\": {\"outlinewidth\": 0, \"ticks\": \"\"}}, \"type\": \"scattergl\"}], \"scattermapbox\": [{\"marker\": {\"colorbar\": {\"outlinewidth\": 0, \"ticks\": \"\"}}, \"type\": \"scattermapbox\"}], \"scatterpolar\": [{\"marker\": {\"colorbar\": {\"outlinewidth\": 0, \"ticks\": \"\"}}, \"type\": \"scatterpolar\"}], \"scatterpolargl\": [{\"marker\": {\"colorbar\": {\"outlinewidth\": 0, \"ticks\": \"\"}}, \"type\": \"scatterpolargl\"}], \"scatterternary\": [{\"marker\": {\"colorbar\": {\"outlinewidth\": 0, \"ticks\": \"\"}}, \"type\": \"scatterternary\"}], \"surface\": [{\"colorbar\": {\"outlinewidth\": 0, \"ticks\": \"\"}, \"colorscale\": [[0.0, \"#0d0887\"], [0.1111111111111111, \"#46039f\"], [0.2222222222222222, \"#7201a8\"], [0.3333333333333333, \"#9c179e\"], [0.4444444444444444, \"#bd3786\"], [0.5555555555555556, \"#d8576b\"], [0.6666666666666666, \"#ed7953\"], [0.7777777777777778, \"#fb9f3a\"], [0.8888888888888888, \"#fdca26\"], [1.0, \"#f0f921\"]], \"type\": \"surface\"}], \"table\": [{\"cells\": {\"fill\": {\"color\": \"#EBF0F8\"}, \"line\": {\"color\": \"white\"}}, \"header\": {\"fill\": {\"color\": \"#C8D4E3\"}, \"line\": {\"color\": \"white\"}}, \"type\": \"table\"}]}, \"layout\": {\"annotationdefaults\": {\"arrowcolor\": \"#2a3f5f\", \"arrowhead\": 0, \"arrowwidth\": 1}, \"colorscale\": {\"diverging\": [[0, \"#8e0152\"], [0.1, \"#c51b7d\"], [0.2, \"#de77ae\"], [0.3, \"#f1b6da\"], [0.4, \"#fde0ef\"], [0.5, \"#f7f7f7\"], [0.6, \"#e6f5d0\"], [0.7, \"#b8e186\"], [0.8, \"#7fbc41\"], [0.9, \"#4d9221\"], [1, \"#276419\"]], \"sequential\": [[0.0, \"#0d0887\"], [0.1111111111111111, \"#46039f\"], [0.2222222222222222, \"#7201a8\"], [0.3333333333333333, \"#9c179e\"], [0.4444444444444444, \"#bd3786\"], [0.5555555555555556, \"#d8576b\"], [0.6666666666666666, \"#ed7953\"], [0.7777777777777778, \"#fb9f3a\"], [0.8888888888888888, \"#fdca26\"], [1.0, \"#f0f921\"]], \"sequentialminus\": [[0.0, \"#0d0887\"], [0.1111111111111111, \"#46039f\"], [0.2222222222222222, \"#7201a8\"], [0.3333333333333333, \"#9c179e\"], [0.4444444444444444, \"#bd3786\"], [0.5555555555555556, \"#d8576b\"], [0.6666666666666666, \"#ed7953\"], [0.7777777777777778, \"#fb9f3a\"], [0.8888888888888888, \"#fdca26\"], [1.0, \"#f0f921\"]]}, \"colorway\": [\"#636efa\", \"#EF553B\", \"#00cc96\", \"#ab63fa\", \"#FFA15A\", \"#19d3f3\", \"#FF6692\", \"#B6E880\", \"#FF97FF\", \"#FECB52\"], \"font\": {\"color\": \"#2a3f5f\"}, \"geo\": {\"bgcolor\": \"white\", \"lakecolor\": \"white\", \"landcolor\": \"#E5ECF6\", \"showlakes\": true, \"showland\": true, \"subunitcolor\": \"white\"}, \"hoverlabel\": {\"align\": \"left\"}, \"hovermode\": \"closest\", \"mapbox\": {\"style\": \"light\"}, \"paper_bgcolor\": \"white\", \"plot_bgcolor\": \"#E5ECF6\", \"polar\": {\"angularaxis\": {\"gridcolor\": \"white\", \"linecolor\": \"white\", \"ticks\": \"\"}, \"bgcolor\": \"#E5ECF6\", \"radialaxis\": {\"gridcolor\": \"white\", \"linecolor\": \"white\", \"ticks\": \"\"}}, \"scene\": {\"xaxis\": {\"backgroundcolor\": \"#E5ECF6\", \"gridcolor\": \"white\", \"gridwidth\": 2, \"linecolor\": \"white\", \"showbackground\": true, \"ticks\": \"\", \"zerolinecolor\": \"white\"}, \"yaxis\": {\"backgroundcolor\": \"#E5ECF6\", \"gridcolor\": \"white\", \"gridwidth\": 2, \"linecolor\": \"white\", \"showbackground\": true, \"ticks\": \"\", \"zerolinecolor\": \"white\"}, \"zaxis\": {\"backgroundcolor\": \"#E5ECF6\", \"gridcolor\": \"white\", \"gridwidth\": 2, \"linecolor\": \"white\", \"showbackground\": true, \"ticks\": \"\", \"zerolinecolor\": \"white\"}}, \"shapedefaults\": {\"line\": {\"color\": \"#2a3f5f\"}}, \"ternary\": {\"aaxis\": {\"gridcolor\": \"white\", \"linecolor\": \"white\", \"ticks\": \"\"}, \"baxis\": {\"gridcolor\": \"white\", \"linecolor\": \"white\", \"ticks\": \"\"}, \"bgcolor\": \"#E5ECF6\", \"caxis\": {\"gridcolor\": \"white\", \"linecolor\": \"white\", \"ticks\": \"\"}}, \"title\": {\"x\": 0.05}, \"xaxis\": {\"automargin\": true, \"gridcolor\": \"white\", \"linecolor\": \"white\", \"ticks\": \"\", \"zerolinecolor\": \"white\", \"zerolinewidth\": 2}, \"yaxis\": {\"automargin\": true, \"gridcolor\": \"white\", \"linecolor\": \"white\", \"ticks\": \"\", \"zerolinecolor\": \"white\", \"zerolinewidth\": 2}}}, \"title\": {\"text\": \"Vessel planning\"}, \"xaxis\": {\"range\": [\"2020-05-08T13:51:39\", \"2021-06-29T20:23:41.500227\"], \"title\": {\"font\": {\"color\": \"#7f7f7f\", \"family\": \"Courier New, monospace\", \"size\": 18}, \"text\": \"Time\"}}, \"yaxis\": {\"title\": {\"font\": {\"color\": \"#7f7f7f\", \"family\": \"Courier New, monospace\", \"size\": 18}, \"text\": \"Vessels\"}}},\n",
       "                        {\"responsive\": true}\n",
       "                    ).then(function(){\n",
       "                            \n",
       "var gd = document.getElementById('65f05893-f22d-428f-950b-777ed63304ea');\n",
       "var x = new MutationObserver(function (mutations, observer) {{\n",
       "        var display = window.getComputedStyle(gd).display;\n",
       "        if (!display || display === 'none') {{\n",
       "            console.log([gd, 'removed!']);\n",
       "            Plotly.purge(gd);\n",
       "            observer.disconnect();\n",
       "        }}\n",
       "}});\n",
       "\n",
       "// Listen for the removal of the full notebook cells\n",
       "var notebookContainer = gd.closest('#notebook-container');\n",
       "if (notebookContainer) {{\n",
       "    x.observe(notebookContainer, {childList: true});\n",
       "}}\n",
       "\n",
       "// Listen for the clearing of the current output cell\n",
       "var outputEl = gd.closest('.output');\n",
       "if (outputEl) {{\n",
       "    x.observe(outputEl, {childList: true});\n",
       "}}\n",
       "\n",
       "                        })\n",
       "                };\n",
       "                });\n",
       "            </script>\n",
       "        </div>"
      ]
     },
     "metadata": {},
     "output_type": "display_data"
    }
   ],
   "source": [
    "vessels = [hopper]\n",
    "\n",
    "activities = ['loading', 'unloading', 'sailing filled', 'sailing empty']\n",
    "colors = {0:'rgb(55,126,184)', 1:'rgb(255,150,0)', 2:'rgb(98, 192, 122)', 3:'rgb(98, 141, 122)'}\n",
    "\n",
    "plot.vessel_planning(vessels, activities, colors)"
   ]
  },
  {
   "cell_type": "markdown",
   "metadata": {},
   "source": [
    "### Save all logs"
   ]
  },
  {
   "cell_type": "code",
   "execution_count": 15,
   "metadata": {},
   "outputs": [],
   "source": [
    "sites = [from_site, to_site]\n",
    "equipment = [hopper]\n",
    "activities = [activity]\n",
    "\n",
    "save = savesim.LogSaver(sites, equipment, activities, \n",
    "                        simulation_id = '5e1d7c36-458e-11e9-816b-b469212bff5b', simulation_name = \"Example 01\",\n",
    "                        location = \"Simulation Results\", overwrite = True)\n",
    "\n",
    "save.save_all_logs()"
   ]
  },
  {
   "cell_type": "code",
   "execution_count": 16,
   "metadata": {},
   "outputs": [
    {
     "data": {
      "text/html": [
       "<div>\n",
       "<style scoped>\n",
       "    .dataframe tbody tr th:only-of-type {\n",
       "        vertical-align: middle;\n",
       "    }\n",
       "\n",
       "    .dataframe tbody tr th {\n",
       "        vertical-align: top;\n",
       "    }\n",
       "\n",
       "    .dataframe thead th {\n",
       "        text-align: right;\n",
       "    }\n",
       "</style>\n",
       "<table border=\"1\" class=\"dataframe\">\n",
       "  <thead>\n",
       "    <tr style=\"text-align: right;\">\n",
       "      <th></th>\n",
       "      <th>ActivityID</th>\n",
       "      <th>ActivityName</th>\n",
       "    </tr>\n",
       "  </thead>\n",
       "  <tbody>\n",
       "    <tr>\n",
       "      <th>0</th>\n",
       "      <td>6dbbbdf7-4589-11e9-bf3b-b469212bff5b</td>\n",
       "      <td>Soil movement</td>\n",
       "    </tr>\n",
       "  </tbody>\n",
       "</table>\n",
       "</div>"
      ],
      "text/plain": [
       "                             ActivityID   ActivityName\n",
       "0  6dbbbdf7-4589-11e9-bf3b-b469212bff5b  Soil movement"
      ]
     },
     "execution_count": 16,
     "metadata": {},
     "output_type": "execute_result"
    }
   ],
   "source": [
    "save.unique_activities"
   ]
  }
 ],
 "metadata": {
  "kernelspec": {
   "display_name": "Python 3",
   "language": "python",
   "name": "python3"
  },
  "language_info": {
   "codemirror_mode": {
    "name": "ipython",
    "version": 3
   },
   "file_extension": ".py",
   "mimetype": "text/x-python",
   "name": "python",
   "nbconvert_exporter": "python",
   "pygments_lexer": "ipython3",
   "version": "3.7.3"
  }
 },
 "nbformat": 4,
 "nbformat_minor": 2
}
