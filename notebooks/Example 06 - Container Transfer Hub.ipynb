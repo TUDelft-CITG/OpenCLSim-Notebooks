{
 "cells": [
  {
   "cell_type": "markdown",
   "metadata": {},
   "source": [
    "## Example 06 - Container Transfer Hub"
   ]
  },
  {
   "cell_type": "markdown",
   "metadata": {},
   "source": [
    "**Example description:** Example of a container transfer hub, where very large container vessels deliver containers, while smaller vessels take care of the distribution to the hinterland."
   ]
  },
  {
   "cell_type": "markdown",
   "metadata": {},
   "source": [
    "* [**0. Import required libraries:**](#0.-Import-required-libraries)<br>\n",
    "* [**1. Define work method:**](#1.-Define-work-method)<br>\n",
    "   * [**1.1 Sites:**](#1.1-Define-the-project-sites)<br>\n",
    "   * [**1.2 Equipment:**](#1.2-Define-the-project-equipment)<br>\n",
    "   * [**1.3 Activities:**](#1.3-Define-the-activity)<br>\n",
    "* [**2. Run the simulation:**](#2.-Run-the-simulation)<br>\n",
    "* [**3. Post processing:**](#3.-Postprocessing)<br>"
   ]
  },
  {
   "cell_type": "markdown",
   "metadata": {},
   "source": [
    "## 0. Import required libraries"
   ]
  },
  {
   "cell_type": "code",
   "execution_count": null,
   "metadata": {},
   "outputs": [],
   "source": [
    "# package(s) related to time, space and id\n",
    "import datetime, time\n",
    "import platform\n",
    "\n",
    "# you need these dependencies (you can get these from anaconda)\n",
    "# package(s) related to the simulation\n",
    "import simpy\n",
    "\n",
    "# spatial libraries \n",
    "import shapely.geometry\n",
    "from simplekml import Kml, Style\n",
    "\n",
    "# package(s) for data handling\n",
    "import numpy as np\n",
    "import pandas as pd\n",
    "\n",
    "# digital twin package\n",
    "import openclsim.core as core\n",
    "import openclsim.model as model\n",
    "import openclsim.plot as plot\n",
    "\n",
    "# Used for making the graph to visualize our problem\n",
    "import networkx as nx"
   ]
  },
  {
   "cell_type": "code",
   "execution_count": null,
   "metadata": {},
   "outputs": [],
   "source": [
    "# Create simulation environment\n",
    "simulation_start = datetime.datetime(2019, 1, 1)\n",
    "\n",
    "my_env = simpy.Environment(initial_time = time.mktime(simulation_start.timetuple()))\n",
    "my_env.epoch = time.mktime(simulation_start.timetuple())"
   ]
  },
  {
   "cell_type": "markdown",
   "metadata": {},
   "source": [
    "## 1. Define work method"
   ]
  },
  {
   "cell_type": "markdown",
   "metadata": {},
   "source": [
    "### 1.1 Define the project sites\n",
    "You can specify a project site object by entering mix-ins:\n",
    "\n",
    "    core.Identifiable - enables you to give the object a name\n",
    "    core.Log - enables you to log all discrete events in which the object is involved\n",
    "    core.Locatable - enables you to add coordinates to extract distance information and visualize\n",
    "    core.HasContainer - enables you to add information on the material available at the site\n",
    "    core.HasResource - enables you to add information on serving equipment\n",
    "    core.HasWeather - enables you to add weather conditions"
   ]
  },
  {
   "cell_type": "markdown",
   "metadata": {},
   "source": [
    "#### Create objects and specify the properties for sites you wish to create"
   ]
  },
  {
   "cell_type": "code",
   "execution_count": null,
   "metadata": {},
   "outputs": [],
   "source": [
    "def connect_sites_with_path(data_from_site, data_to_site, data_node, path):\n",
    "    Nodes = []\n",
    "    Edges = []\n",
    "    Site = type('Site', (core.Identifiable, # Give it a name\n",
    "             core.Log,          # Allow logging of all discrete events\n",
    "             core.Locatable,    # Add coordinates to extract distance information and visualize\n",
    "             core.HasContainer, # Add information on the material available at the site\n",
    "             core.HasResource), # Add information on serving equipment\n",
    "    {})                         # The dictionary is empty because the site type is generic\n",
    "\n",
    "    Node = type('Node', (core.Identifiable, # Give it a name\n",
    "             core.Log,          # Allow logging of all discrete events\n",
    "             core.Locatable),   # Add coordinates to extract distance information and visualize\n",
    "    {})                         # The dictionary is empty because the site type is generic\n",
    "\n",
    "    for i, j in enumerate(path):\n",
    "        if i == 0:\n",
    "            data_from_site[\"geometry\"]=shapely.geometry.Point(path[i][0], path[i][1])\n",
    "            Nodes.append(Site(**data_from_site))\n",
    "\n",
    "        elif i == len(path) - 1:\n",
    "            data_to_site[\"geometry\"]=shapely.geometry.Point(path[i][0], path[i][1])\n",
    "            Nodes.append(Site(**data_to_site))\n",
    "            Edges.append([Nodes[i-1], Nodes[i]])\n",
    "            \n",
    "        else:\n",
    "            data_node[\"geometry\"]=shapely.geometry.Point(path[i][0], path[i][1])\n",
    "            data_node[\"name\"]='node-' + str(i)\n",
    "            node = Node(**data_node)\n",
    "            node.name = node.id\n",
    "            Nodes.append(node)\n",
    "            Edges.append([Nodes[i-1], Nodes[i]])\n",
    "            \n",
    "    return Nodes, Edges"
   ]
  },
  {
   "cell_type": "code",
   "execution_count": null,
   "metadata": {},
   "outputs": [],
   "source": [
    "data_from_site = {\"env\": my_env,                  # The simpy environment defined in the first cel\n",
    "                  \"name\": \"Origin locatie\",       # The name of the site\n",
    "                  \"geometry\": [],                 # The coordinates of the project site\n",
    "                  \"capacity\": 10_000_000,         # The capacity of the site\n",
    "                  \"level\": 10_000_000}            # The actual volume of the site\n",
    "\n",
    "data_inter_site = {\"env\": my_env,                 # The simpy environment defined in the first cel\n",
    "                \"name\": \"Overslag locatie\",       # The name of the site\n",
    "                \"geometry\": [],                   # The coordinates of the project site\n",
    "                \"capacity\": 10_000_000,           # The capacity of the site\n",
    "                \"level\": 0}                       # The actual volume of the site (empty of course)\n",
    "\n",
    "data_to_site = {\"env\": my_env,                    # The simpy environment defined in the first cel\n",
    "                \"name\": \"Destination locatie\",    # The name of the site\n",
    "                \"geometry\": [],                   # The coordinates of the project site\n",
    "                \"capacity\": 10_000_000,           # The capacity of the site\n",
    "                \"level\": 0}                       # The actual volume of the site (empty of course)\n",
    "\n",
    "data_node = {\"env\": my_env,                      # The simpy environment defined in the first cel\n",
    "                 \"name\": \"Intermediate site\",     # The name of the site\n",
    "                 \"geometry\": []}                  # The coordinates of the project site\n"
   ]
  },
  {
   "cell_type": "code",
   "execution_count": null,
   "metadata": {},
   "outputs": [],
   "source": [
    "path_from_to_inter = [[0.4961956247618216,51.50367589686757],\n",
    "                       [0.5025738662738322,51.49604982804586],\n",
    "                       [0.5227880400306528,51.49310077851462],\n",
    "                       [0.5816599472145456,51.4914450662929],\n",
    "                       [0.7033497639228536,51.48775013590905],\n",
    "                       [0.9213342585195417,51.49518188267707],\n",
    "                       [1.205921256841014,51.56703658374334],\n",
    "                       [1.37927621092955,51.65341304718244],\n",
    "                       [2.084459657644391,52.04005347868334],\n",
    "                       [2.366127315407969,52.14511989576717],\n",
    "                       [2.688480477407984,52.19372273332205],\n",
    "                       [2.939535440652905,52.19718741074821],\n",
    "                       [3.341109553423358,52.17629339631259],\n",
    "                       [3.592584199826665,52.12222705440335],\n",
    "                       [3.794715309195611,52.07390793081763],\n",
    "                       [3.910470529738688,52.03848643163826],\n",
    "                       [3.970345540223303,52.02008209003584],\n",
    "                       [4.031934564338546,51.99891078085604],\n",
    "                       [4.059007112763931,51.98601180923669],\n",
    "                       [4.073325806237193,51.98072466956628],\n",
    "                       [4.083094893235839,51.97618275648908],\n",
    "                       [4.088433542877061,51.97322005781426],\n",
    "                       [4.090317076226691,51.96908908270685],\n",
    "                       [4.088019473833288,51.96410572394782],\n",
    "                       [4.085446006078913,51.9590587793433],\n",
    "                       [4.084635741928757,51.95392943223551],\n",
    "                       [4.083633414899001,51.95106594180597],\n",
    "                       [4.078905919496756,51.95003563908778],\n",
    "                       [4.073033873352547,51.94955417747328],\n",
    "                       [4.068048285555426,51.94933505255866],\n",
    "                       [4.064841994596411,51.94963274522105],\n",
    "                       [4.067560378249368,51.95173269362142]]"
   ]
  },
  {
   "cell_type": "code",
   "execution_count": null,
   "metadata": {},
   "outputs": [],
   "source": [
    "# path_from_to_inter = [[0.4961956247618216,51.50367589686757],\n",
    "#                        [0.5025738662738322,51.49604982804586],\n",
    "#                        [4.064841994596411,51.94963274522105],\n",
    "#                        [4.067560378249368,51.95173269362142]]"
   ]
  },
  {
   "cell_type": "code",
   "execution_count": null,
   "metadata": {},
   "outputs": [],
   "source": [
    "path_inter_to_destination = [[4.067560378249368,51.95173269362142],\n",
    "                            [4.076820637063388,51.95330987222201],\n",
    "                            [4.079712688631274,51.953446219582],\n",
    "                            [4.083425060670932,51.95390297933297],\n",
    "                            [4.085483449904752,51.95489780261229],\n",
    "                            [4.086425210731035,51.95649433347911],\n",
    "                            [4.087047731300368,51.96004684231188],\n",
    "                            [4.088330721753446,51.9633482094768],\n",
    "                            [4.09039781548441,51.96772136816238],\n",
    "                            [4.092968441867448,51.96999758880575],\n",
    "                            [4.092969797007648,51.97001855604434],\n",
    "                            [4.095358900900368,51.97122684588547],\n",
    "                            [4.098265390457938,51.97168483331319],\n",
    "                            [4.100522582738943,51.9716044921872],\n",
    "                            [4.104952016621184,51.97082323370393],\n",
    "                            [4.106969064376984,51.9701732443181],\n",
    "                            [4.11212610241485,51.96918215518502],\n",
    "                            [4.115527897618638,51.96927862645877],\n",
    "                            [4.119759282494724,51.96994491194637],\n",
    "                            [4.120735501031532,51.9708189303758],\n",
    "                            [4.121493527001445,51.97189406452166],\n",
    "                            [4.123560651538227,51.97241789317135],\n",
    "                            [4.123603726198266,51.97241843904959],\n",
    "                            [4.127256062950561,51.97169226998802],\n",
    "                            [4.132071369717247,51.9692772453104],\n",
    "                            [4.16223267129274,51.95424601796267],\n",
    "                            [4.189082800242008,51.94093430859656],\n",
    "                            [4.207132604039932,51.93514335820377],\n",
    "                            [4.220687795782876,51.92918978842068],\n",
    "                            [4.227416861309566,51.92440552825687],\n",
    "                            [4.230730286072008,51.91984839984131],\n",
    "                            [4.235475403784726,51.9168646392894],\n",
    "                            [4.240569013470141,51.91440957329543],\n",
    "                            [4.249610884923765,51.91116037082725],\n",
    "                            [4.25969214611073,51.90756693550011],\n",
    "                            [4.268492241328062,51.90410297127595],\n",
    "                            [4.274469667188424,51.90168552139975],\n",
    "                            [4.28301081754686,51.89906894148864],\n",
    "                            [4.291305306877453,51.89689875129605],\n",
    "                            [4.305503018796861,51.89432164764471],\n",
    "                            [4.31809375576814,51.8929833069486],\n",
    "                            [4.332208883875859,51.89330355314834],\n",
    "                            [4.345562538298311,51.89543229242783],\n",
    "                            [4.356042563346907,51.89784807111106],\n",
    "                            [4.361320463350369,51.89842048825951],\n",
    "                            [4.370896566526032,51.89809394063443],\n",
    "                            [4.380565139323275,51.89717011717858],\n",
    "                            [4.393151412801199,51.89581538742945],\n",
    "                            [4.403418933850478,51.89742871871072],\n",
    "                            [4.411919037719847,51.8997472455142],\n",
    "                            [4.423612313781257,51.90139531785889],\n",
    "                            [4.439268026366565,51.90083199110271],\n",
    "                            [4.449037995592223,51.89931760462949],\n",
    "                            [4.461767614020076,51.89899818977116],\n",
    "                            [4.474773140831829,51.90244636354545],\n",
    "                            [4.482070795323829,51.90561747759247],\n",
    "                            [4.487030748476483,51.91078399779754],\n",
    "                            [4.492098300234863,51.91447559934962],\n",
    "                            [4.497637202151587,51.91716380292601],\n",
    "                            [4.504133201441627,51.91714383868787],\n",
    "                            [4.510101621366531,51.91552590479486],\n",
    "                            [4.513739062848849,51.91311565640532],\n",
    "                            [4.515982476878834,51.90926080354506],\n",
    "                            [4.517411708268972,51.90429039701775],\n",
    "                            [4.522186973978228,51.90085359184045],\n",
    "                            [4.527633272730036,51.89959232154308],\n",
    "                            [4.533205356433858,51.90103901123491],\n",
    "                            [4.547119922272424,51.90389815319988],\n",
    "                            [4.555920039898471,51.90464541896166],\n",
    "                            [4.566246838379273,51.90373868574678],\n",
    "                            [4.574308721369038,51.90265020585922],\n",
    "                            [4.580770710023609,51.90175368116945],\n",
    "                            [4.586404529249966,51.89842953716524],\n",
    "                            [4.590314594477423,51.89497472879613],\n",
    "                            [4.597054420552245,51.89306391523745],\n",
    "                            [4.603374751770295,51.89214079308947],\n",
    "                            [4.611551716755134,51.89048423400467],\n",
    "                            [4.619669882387685,51.88814231345802],\n",
    "                            [4.624038918436531,51.88379905811727],\n",
    "                            [4.627713881315099,51.87877126596626],\n",
    "                            [4.631626627198553,51.87334936837566],\n",
    "                            [4.635905647775802,51.86920603096677],\n",
    "                            [4.64216545880663,51.86592487379189],\n",
    "                            [4.64841594475981,51.86223810253749],\n",
    "                            [4.651946318226335,51.85882215036123],\n",
    "                            [4.655056077228421,51.85431704464076],\n",
    "                            [4.658549006280516,51.85092161313503],\n",
    "                            [4.663720310464568,51.84668379417203],\n",
    "                            [4.668473234687003,51.84308201876836],\n",
    "                            [4.672040492871687,51.84004061666239],\n",
    "                            [4.672235910423009,51.8367062293061],\n",
    "                            [4.671528932783917,51.83337574079015],\n",
    "                            [4.669277919399506,51.82949222714719],\n",
    "                            [4.670199703393161,51.82537182423186],\n",
    "                            [4.673559552120016,51.82155690783971],\n",
    "                            [4.680135603350573,51.82023793739657],\n",
    "                            [4.687273441208006,51.82083581685784],\n",
    "                            [4.696625285705443,51.82213397468308],\n",
    "                            [4.708251626028501,51.82290063616291],\n",
    "                            [4.717741366513386,51.82275120977883],\n",
    "                            [4.733504291300051,51.82150673257545],\n",
    "                            [4.745642026327013,51.82176898310094],\n",
    "                            [4.757525115667258,51.81930783361474],\n",
    "                            [4.765156822973169,51.81658065060491],\n",
    "                            [4.77224975867407,51.81533638421544],\n",
    "                            [4.781690532716773,51.81484342987568],\n",
    "                            [4.789463450027254,51.81544328718915],\n",
    "                            [4.796791309439379,51.81677806004002],\n",
    "                            [4.807441094269487,51.81804324929072],\n",
    "                            [4.815857905456644,51.8187414085792],\n",
    "                            [4.827533117736644,51.81871673501277],\n",
    "                            [4.843155905955978,51.81871424396314],\n",
    "                            [4.856652763130526,51.81805038570205],\n",
    "                            [4.868638749538699,51.81756264829223],\n",
    "                            [4.882456189917511,51.81809947450498],\n",
    "                            [4.899975527303077,51.82078552536477],\n",
    "                            [4.911280754349767,51.82489324537378],\n",
    "                            [4.921906597784968,51.82613601424819],\n",
    "                            [4.932698073860953,51.82710631585912],\n",
    "                            [4.941191710823151,51.8265982036505],\n",
    "                            [4.949355884609769,51.82572252244409],\n",
    "                            [4.958143493090537,51.82434451438033],\n",
    "                            [4.966556398445936,51.82345976520273],\n",
    "                            [4.978240366452679,51.82157864117246],\n",
    "                            [4.987498167054545,51.82033482308396],\n",
    "                            [5.000198867825329,51.8202077333635],\n",
    "                            [5.012291812443531,51.82007708098652],\n",
    "                            [5.019805133726956,51.81909960963222],\n",
    "                            [5.029954111151898,51.81758977718439],\n",
    "                            [5.040378825925553,51.81708591870648],\n",
    "                            [5.049632999060512,51.81803432608763],\n",
    "                            [5.058192310624607,51.82007911388263],\n",
    "                            [5.068189125879625,51.82333435487994],\n",
    "                            [5.077760950577357,51.82577415227986],\n",
    "                            [5.08516960920468,51.82644973431204],\n",
    "                            [5.094301041156042,51.82555516334745],\n",
    "                            [5.102334272099371,51.8235504560227],\n",
    "                            [5.111751119616674,51.82027443148616],\n",
    "                            [5.121988725976527,51.81684099638534],\n",
    "                            [5.131337073522175,51.81463945349422],\n",
    "                            [5.138812542819055,51.81411026323648],\n",
    "                            [5.147958189478768,51.81423135897111],\n",
    "                            [5.157296121771515,51.81527545297399],\n",
    "                            [5.167847197660103,51.81604688798863],\n",
    "                            [5.176287019372346,51.81560794732032],\n",
    "                            [5.183742217173723,51.81442881288278],\n",
    "                            [5.191874864582373,51.81224355953395],\n",
    "                            [5.204011191193192,51.81016945455846],\n",
    "                            [5.215067968069485,51.81028837238208],\n",
    "                            [5.224069283460519,51.81159246365836],\n",
    "                            [5.231617091471959,51.8132636597709],\n",
    "                            [5.240732694055823,51.81568245783155],\n",
    "                            [5.250223255763977,51.81727712277183],\n",
    "                            [5.259874191807863,51.81822667570454],\n",
    "                            [5.271475102635193,51.81880848131871],\n",
    "                            [5.283390220330146,51.8211671732013],\n",
    "                            [5.298183428420488,51.82328499515426],\n",
    "                            [5.308310357128098,51.82330355696522],\n",
    "                            [5.319439185068386,51.82014601255953],\n",
    "                            [5.328234889187014,51.81501088308405],\n",
    "                            [5.33552319156547,51.80892295714031],\n",
    "                            [5.344869041990828,51.80457573845603],\n",
    "                            [5.357444888560695,51.80413173898008],\n",
    "                            [5.366318851263614,51.8074767275679],\n",
    "                            [5.373693704327169,51.81460135547123],\n",
    "                            [5.387226592909375,51.82866856327106],\n",
    "                            [5.399563297735734,51.83669611203315],\n",
    "                            [5.409275792783115,51.84347424107042],\n",
    "                            [5.413578146986855,51.84873503937268],\n",
    "                            [5.416932517238118,51.85529844953433],\n",
    "                            [5.421719519181458,51.86493532531011],\n",
    "                            [5.426800457967684,51.87041449632006],\n",
    "                            [5.432065262544104,51.87501318637114],\n",
    "                            [5.438947863609536,51.88070591644556],\n",
    "                            [5.446909704315964,51.88473221943546],\n",
    "                            [5.456367203833493,51.88752557865974],\n",
    "                            [5.467070245985532,51.88930779483466],\n",
    "                            [5.477511940329958,51.88949934077544],\n",
    "                            [5.486438318114752,51.88903299224701],\n",
    "                            [5.496266048358698,51.88875397256585],\n",
    "                            [5.504749878467248,51.88931686901948],\n",
    "                            [5.517530304813214,51.89110045292324],\n",
    "                            [5.532737093692632,51.89443827028928],\n",
    "                            [5.546260614787153,51.89863323911392],\n",
    "                            [5.557382345078372,51.90050757223898],\n",
    "                            [5.565433531883439,51.90115979188721],\n",
    "                            [5.579016069306584,51.90077581078447],\n",
    "                            [5.591106692405168,51.89917491169804],\n",
    "                            [5.602437384123209,51.89869734795168],\n",
    "                            [5.613179538005744,51.8986886564679],\n",
    "                            [5.622893693798725,51.89905574510674],\n",
    "                            [5.638620717905121,51.89847634405258],\n",
    "                            [5.652796915256921,51.89696165125128],\n",
    "                            [5.664387048338215,51.89555150558807],\n",
    "                            [5.676576896037854,51.89497720537521],\n",
    "                            [5.688944318966057,51.89505275577271],\n",
    "                            [5.699076037562671,51.89410681902976],\n",
    "                            [5.71000317902572,51.89195879156682],\n",
    "                            [5.718757214978709,51.88927155823234],\n",
    "                            [5.727755131467125,51.88650705026279],\n",
    "                            [5.737676553063986,51.88512078447754],\n",
    "                            [5.746554555562565,51.88401108755011],\n",
    "                            [5.758563925815176,51.88137012205462],\n",
    "                            [5.769915386803762,51.87903921775698],\n",
    "                            [5.78156180047936,51.87772596776766],\n",
    "                            [5.790920258484098,51.87642142104163],\n",
    "                            [5.798929793773409,51.87530466796605],\n",
    "                            [5.808154973066939,51.87282302901447],\n",
    "                            [5.815990818322954,51.87047873546578],\n",
    "                            [5.822454756566935,51.86787083410703],\n",
    "                            [5.826571631862523,51.86591435542805],\n",
    "                            [5.830642316553229,51.86369601127469],\n",
    "                            [5.831171742503569,51.86272173998423],\n",
    "                            [5.830619709457634,51.86183419049677],\n",
    "                            [5.830727947258836,51.86102575658615]]"
   ]
  },
  {
   "cell_type": "code",
   "execution_count": null,
   "metadata": {},
   "outputs": [],
   "source": [
    "# path_inter_to_destination = [[4.067560378249368,51.95173269362142],\n",
    "#                             [4.076820637063388,51.95330987222201],\n",
    "#                             [4.079712688631274,51.953446219582],\n",
    "#                             [4.083425060670932,51.95390297933297],\n",
    "#                             [5.830619709457634,51.86183419049677],\n",
    "#                             [5.830727947258836,51.86102575658615]]"
   ]
  },
  {
   "cell_type": "markdown",
   "metadata": {},
   "source": [
    "#### Finally create specific instances of the predefined objects with the specified properties"
   ]
  },
  {
   "cell_type": "code",
   "execution_count": null,
   "metadata": {},
   "outputs": [],
   "source": [
    "Nodes1, Edges1 = connect_sites_with_path(data_from_site, data_inter_site, data_node, path_from_to_inter)\n",
    "Nodes2, Edges2 = connect_sites_with_path(data_inter_site, data_to_site, data_node, path_inter_to_destination)"
   ]
  },
  {
   "cell_type": "markdown",
   "metadata": {},
   "source": [
    "#### Create graph"
   ]
  },
  {
   "cell_type": "code",
   "execution_count": null,
   "metadata": {},
   "outputs": [],
   "source": [
    "def add_path_to_graph(FG, positions, Nodes, Edges):\n",
    "    \n",
    "    for node in Nodes:\n",
    "        #print(node.name)\n",
    "        positions[node.name] = (node.geometry.x, node.geometry.y)\n",
    "        FG.add_node(node.name, geometry = node.geometry)\n",
    "\n",
    "\n",
    "    for edge in Edges:\n",
    "        #print(edge[0].name + ' - ' + edge[1].name)\n",
    "        FG.add_edge(edge[0].name, edge[1].name, weight = 1)\n",
    "\n",
    "    return FG, positions\n",
    "\n",
    "positions = {}\n",
    "FG = nx.Graph()\n",
    "\n",
    "FG, positions = add_path_to_graph(FG, positions, Nodes1, Edges1)\n",
    "FG, positions = add_path_to_graph(FG, positions, Nodes2, Edges2)\n",
    "\n",
    "nx.draw(FG, positions)"
   ]
  },
  {
   "cell_type": "markdown",
   "metadata": {},
   "source": [
    "### 1.2 Define the project equipment\n",
    "You can specify a vessel object by entering mix-ins:\n",
    "\n",
    "    core.Identifiable - enables you to give the object a name\n",
    "    core.Log - enables you to log all discrete events in which the object is involved\n",
    "    core.ContainerDependentMovable - A moving container, so capacity and location\n",
    "    core.Processor - Allow for loading and unloading\n",
    "    core.HasResource - Add information on serving equipment\n",
    "    core.HasDepthRestriction - Add information on depth restriction "
   ]
  },
  {
   "cell_type": "markdown",
   "metadata": {},
   "source": [
    "#### First create objects with the desired properties"
   ]
  },
  {
   "cell_type": "code",
   "execution_count": null,
   "metadata": {},
   "outputs": [],
   "source": [
    "# The generic class for an object that can move and transport (a TSHD for example)\n",
    "TransportProcessingResource = type('TransportProcessingResource', \n",
    "                                   (core.Identifiable,              # Give it a name\n",
    "                                    core.Log,                       # Allow logging of all discrete events\n",
    "                                    core.ContainerDependentRouteable, # A moving container, so capacity and location\n",
    "                                    core.Processor,                 # Allow for loading and unloading\n",
    "                                    core.LoadingFunction,           # Add a loading function\n",
    "                                    core.UnloadingFunction,         # Add an unloading function\n",
    "                                    core.HasResource,               # Add information on serving equipment\n",
    "                                    core.HasSoil),                  # Add soil object, because it moves soil\n",
    "                                    {})"
   ]
  },
  {
   "cell_type": "markdown",
   "metadata": {},
   "source": [
    "#### Next specify the properties for vessel(s) you wish to create"
   ]
  },
  {
   "cell_type": "code",
   "execution_count": null,
   "metadata": {},
   "outputs": [],
   "source": [
    "# For more realistic simulation you might want to have speed dependent on the volume carried by the vessel\n",
    "def compute_v_provider(v_empty, v_full):\n",
    "    return lambda x: x * (v_full - v_empty) + v_empty"
   ]
  },
  {
   "cell_type": "code",
   "execution_count": null,
   "metadata": {},
   "outputs": [],
   "source": [
    "# Large container vessel variables\n",
    "data_container_large = {\"env\": my_env,                              # The simpy environment \n",
    "                        \"name\": \"Container large\",                  # Name\n",
    "                        \"geometry\": Nodes1[-1].geometry,            # It starts at the \"from site\"\n",
    "                        \"loading_rate\": 1.5,                        # Loading rate\n",
    "                        \"unloading_rate\": 1.5,                      # Unloading rate\n",
    "                        \"capacity\": 20_000,                         # Capacity of the container vessel - TEU\n",
    "                        \"compute_v\": compute_v_provider(5, 4.5)}    # Variable speed "
   ]
  },
  {
   "cell_type": "code",
   "execution_count": null,
   "metadata": {},
   "outputs": [],
   "source": [
    "# Small container vessel variables\n",
    "data_container_small = {\"env\": my_env,                              # The simpy environment \n",
    "                        \"name\": \"Container small\",                  # Name\n",
    "                        \"geometry\": Nodes1[-1].geometry,            # It starts at the \"from site\"\n",
    "                        \"loading_rate\": 1.5,                        # Loading rate\n",
    "                        \"unloading_rate\": 1.5,                      # Unloading rate\n",
    "                        \"capacity\": 3_000,                          # Capacity of the container vessel - TEU\n",
    "                        \"compute_v\": compute_v_provider(5, 4.5)}    # Variable speed "
   ]
  },
  {
   "cell_type": "markdown",
   "metadata": {},
   "source": [
    "#### Finally create specific instances of the predefined objects with the specified properties"
   ]
  },
  {
   "cell_type": "code",
   "execution_count": null,
   "metadata": {},
   "outputs": [],
   "source": [
    "# The simulation object\n",
    "container_large = TransportProcessingResource(**data_container_large)\n",
    "container_small = TransportProcessingResource(**data_container_small)"
   ]
  },
  {
   "cell_type": "markdown",
   "metadata": {},
   "source": [
    "### 1.3 Define the activity"
   ]
  },
  {
   "cell_type": "code",
   "execution_count": null,
   "metadata": {},
   "outputs": [],
   "source": [
    "# Continuous simulation, stop after one year\n",
    "stop_event = my_env.timeout(365 * 24 * 3600)   # Year in seconds"
   ]
  },
  {
   "cell_type": "code",
   "execution_count": null,
   "metadata": {},
   "outputs": [],
   "source": [
    "# Create activity\n",
    "activity_1 = model.Activity(env = my_env,                   # The simpy environment defined in the first cel\n",
    "                          name = \"International transport\", # We are moving soil\n",
    "                          origin = Nodes1[0],               # We originate from the from_site\n",
    "                          destination = Nodes1[-1],         # And therefore travel to the to_site\n",
    "                          loader = container_large,         # The benefit of a TSHD, all steps can be done\n",
    "                          mover = container_large,          # The benefit of a TSHD, all steps can be done\n",
    "                          unloader = container_large,       # The benefit of a TSHD, all steps can be done\n",
    "                          start_event = None,               # We can start right away\n",
    "                          stop_event = stop_event)          # We stop the simulation after one year"
   ]
  },
  {
   "cell_type": "code",
   "execution_count": null,
   "metadata": {},
   "outputs": [],
   "source": [
    "# Create activity                      \n",
    "activity_2 = model.Activity(env = my_env,                   # The simpy environment defined in the first cel\n",
    "                          name = \"Hinterland transport\",    # We are moving soil\n",
    "                          origin = Nodes1[-1],              # We originate from the from_site\n",
    "                          destination = Nodes2[-1],         # And therefore travel to the to_site\n",
    "                          loader = container_small,         # The benefit of a TSHD, all steps can be done\n",
    "                          mover = container_small,          # The benefit of a TSHD, all steps can be done\n",
    "                          unloader = container_small,       # The benefit of a TSHD, all steps can be done\n",
    "                          start_event = None,               # We can start right away\n",
    "                          stop_event = stop_event)          # We stop the simulation after one year"
   ]
  },
  {
   "cell_type": "markdown",
   "metadata": {},
   "source": [
    "### 2. Run the simulation"
   ]
  },
  {
   "cell_type": "code",
   "execution_count": null,
   "metadata": {},
   "outputs": [],
   "source": [
    "%%time\n",
    "\n",
    "my_env.FG = FG\n",
    "my_env.run()\n",
    "\n",
    "print(\"\\n*** Transportation of containers finished in {} ***\".format(datetime.timedelta(seconds=int(my_env.now - my_env.epoch))))"
   ]
  },
  {
   "cell_type": "markdown",
   "metadata": {},
   "source": [
    "### 3. Postprocessing"
   ]
  },
  {
   "cell_type": "code",
   "execution_count": null,
   "metadata": {
    "scrolled": false
   },
   "outputs": [],
   "source": [
    "vessels = [container_large, container_small]\n",
    "df_0 = pd.DataFrame.from_dict(vessels[0].log)\n",
    "df_1 = pd.DataFrame.from_dict(vessels[1].log)"
   ]
  },
  {
   "cell_type": "code",
   "execution_count": null,
   "metadata": {},
   "outputs": [],
   "source": [
    "df_0.tail()"
   ]
  },
  {
   "cell_type": "code",
   "execution_count": null,
   "metadata": {},
   "outputs": [],
   "source": [
    "df_1.tail()"
   ]
  },
  {
   "cell_type": "markdown",
   "metadata": {},
   "source": [
    "#### Vessel planning"
   ]
  },
  {
   "cell_type": "code",
   "execution_count": null,
   "metadata": {},
   "outputs": [],
   "source": [
    "activities = ['loading', 'unloading', 'sailing filled', 'sailing empty']\n",
    "colors = {0:'rgb(55,126,184)', 1:'rgb(255,150,0)', 2:'rgb(98, 192, 122)', 3:'rgb(98, 141, 122)'}\n",
    "\n",
    "plot.vessel_planning(vessels, activities, colors)"
   ]
  },
  {
   "cell_type": "markdown",
   "metadata": {},
   "source": [
    "#### KML visualisation"
   ]
  },
  {
   "cell_type": "code",
   "execution_count": null,
   "metadata": {},
   "outputs": [],
   "source": [
    "plot.vessel_kml(my_env, vessels, stepsize = 10000)"
   ]
  },
  {
   "cell_type": "code",
   "execution_count": null,
   "metadata": {},
   "outputs": [],
   "source": [
    "plot.site_kml(my_env, [Nodes1[0], Nodes1[-1], Nodes2[-1]], stepsize = 10000)"
   ]
  },
  {
   "cell_type": "code",
   "execution_count": null,
   "metadata": {},
   "outputs": [],
   "source": [
    "# open the file\n",
    "if platform.system():\n",
    "    !start ./vessel_movements.kml\n",
    "    !start ./site_development.kml\n",
    "else:\n",
    "    !start explorer ./vessel_movements.kml\n",
    "    !start explorer ./site_development.kml"
   ]
  }
 ],
 "metadata": {
  "kernelspec": {
   "display_name": "Python 3",
   "language": "python",
   "name": "python3"
  },
  "language_info": {
   "codemirror_mode": {
    "name": "ipython",
    "version": 3
   },
   "file_extension": ".py",
   "mimetype": "text/x-python",
   "name": "python",
   "nbconvert_exporter": "python",
   "pygments_lexer": "ipython3",
   "version": "3.7.3"
  }
 },
 "nbformat": 4,
 "nbformat_minor": 2
}
