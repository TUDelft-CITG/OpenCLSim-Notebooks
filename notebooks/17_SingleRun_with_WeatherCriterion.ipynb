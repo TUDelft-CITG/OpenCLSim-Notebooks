{
 "cells": [
  {
   "cell_type": "markdown",
   "metadata": {},
   "source": [
    "## Demo: SingleRun with WeatherCriterion\n",
    "The basic steps to set up an OpenCLSim simulation are:\n",
    "* Import libraries\n",
    "* Initialise simpy environment\n",
    "* Define object classes\n",
    "* Create objects\n",
    "  * Create sites\n",
    "  * Create vessels\n",
    "  * Create activities\n",
    "* Register processes and run simpy\n",
    "\n",
    "----\n",
    "\n",
    "This notebook provides an example of a simulation that takes a number of sub processes, grouped in a sequential activity, that is **executed while a stop condition is not yet met**. In this case the elements of the sub processes have weather limitations. A separate 'significant wave height' criterion is defined for moving and for amount shifting. \n",
    "\n",
    "For this example we work with the following sub processes:\n",
    "* sailing empty\n",
    "* loading\n",
    "* sailing full\n",
    "* unloading"
   ]
  },
  {
   "cell_type": "markdown",
   "metadata": {},
   "source": [
    "#### 0. Import libraries"
   ]
  },
  {
   "cell_type": "code",
   "execution_count": 1,
   "metadata": {},
   "outputs": [
    {
     "data": {
      "text/html": [
       "        <script type=\"text/javascript\">\n",
       "        window.PlotlyConfig = {MathJaxConfig: 'local'};\n",
       "        if (window.MathJax) {MathJax.Hub.Config({SVG: {font: \"STIX-Web\"}});}\n",
       "        if (typeof require !== 'undefined') {\n",
       "        require.undef(\"plotly\");\n",
       "        requirejs.config({\n",
       "            paths: {\n",
       "                'plotly': ['https://cdn.plot.ly/plotly-latest.min']\n",
       "            }\n",
       "        });\n",
       "        require(['plotly'], function(Plotly) {\n",
       "            window._Plotly = Plotly;\n",
       "        });\n",
       "        }\n",
       "        </script>\n",
       "        "
      ]
     },
     "metadata": {},
     "output_type": "display_data"
    }
   ],
   "source": [
    "import datetime, time\n",
    "import simpy\n",
    "\n",
    "import shapely.geometry\n",
    "import pandas as pd\n",
    "import numpy as np\n",
    "\n",
    "import openclsim.core as core\n",
    "import openclsim.model as model\n",
    "import openclsim.plot as plot\n",
    "import openclsim.plugins as plugin\n",
    "\n",
    "from plotly.offline import init_notebook_mode, iplot\n",
    "import plotly.graph_objs as go\n",
    "\n",
    "init_notebook_mode(connected=True)"
   ]
  },
  {
   "cell_type": "markdown",
   "metadata": {},
   "source": [
    "#### 1. Initialise simpy environment"
   ]
  },
  {
   "cell_type": "code",
   "execution_count": 2,
   "metadata": {},
   "outputs": [],
   "source": [
    "# setup environment (simulation time needs to match the available weather data)\n",
    "simulation_start  = datetime.datetime(2010, 1, 1, 0, 0)\n",
    "my_env = simpy.Environment(initial_time=simulation_start.timestamp())"
   ]
  },
  {
   "cell_type": "markdown",
   "metadata": {},
   "source": [
    "#### 2. Define object classes"
   ]
  },
  {
   "cell_type": "code",
   "execution_count": 3,
   "metadata": {},
   "outputs": [],
   "source": [
    "# create a Site object based on desired mixin classes\n",
    "Site = type(\n",
    "    \"Site\",\n",
    "    (\n",
    "        core.Identifiable,\n",
    "        core.Log,\n",
    "        core.Locatable,\n",
    "        core.HasContainer,\n",
    "        core.HasResource,\n",
    "    ),\n",
    "    {},\n",
    ")\n",
    "\n",
    "# create a TransportProcessingResource object based on desired mixin classes\n",
    "TransportProcessingResource = type(\n",
    "    \"TransportProcessingResource\",\n",
    "    (\n",
    "        core.Identifiable,\n",
    "        core.Log,\n",
    "        core.ContainerDependentMovable,\n",
    "        core.Processor,\n",
    "        core.HasResource,  # NB: LoadingFunction and UnloadingFunction are not mixed in\n",
    "    ),\n",
    "    {},\n",
    ")\n",
    "\n",
    "# create a TestMoveActivity object based on desired mixin classes\n",
    "TestMoveActivity =  type(\n",
    "    \"TestMoveActivity\",\n",
    "    (\n",
    "        plugin.HasWeatherPluginActivity,\n",
    "        model.MoveActivity,  # the order is critical!\n",
    "    ),\n",
    "    {},\n",
    ")\n",
    "\n",
    "# create a TestShiftActivity object based on desired mixin classes\n",
    "TestShiftActivity =  type(\n",
    "    \"TestShiftActivity\",\n",
    "    (\n",
    "        plugin.HasWeatherPluginActivity,\n",
    "        model.ShiftAmountActivity,  # the order is critical!\n",
    "    ),\n",
    "    {},\n",
    ")"
   ]
  },
  {
   "cell_type": "markdown",
   "metadata": {},
   "source": [
    "#### 3. Create objects\n",
    "##### 3.1. Create site object(s)"
   ]
  },
  {
   "cell_type": "code",
   "execution_count": 4,
   "metadata": {},
   "outputs": [],
   "source": [
    "# prepare input data for from_site\n",
    "location_from_site = shapely.geometry.Point(4.18055556, 52.18664444)\n",
    "data_from_site = {\"env\": my_env,\n",
    "                  \"name\": \"from_site\",\n",
    "                  \"geometry\": location_from_site,\n",
    "                  \"capacity\": 120,\n",
    "                  \"level\": 120\n",
    "                 }\n",
    "# instantiate from_site \n",
    "from_site = Site(**data_from_site)\n",
    "\n",
    "# prepare input data for to_site\n",
    "location_to_site = shapely.geometry.Point(4.25222222, 52.11428333)\n",
    "data_to_site = {\"env\": my_env,\n",
    "                \"name\": \"to_site\",\n",
    "                \"geometry\": location_to_site,\n",
    "                \"capacity\": 120,\n",
    "                \"level\": 0\n",
    "               }\n",
    "# instantiate to_site \n",
    "to_site = Site(**data_to_site)"
   ]
  },
  {
   "cell_type": "markdown",
   "metadata": {},
   "source": [
    "##### 3.2. Create vessel object(s)"
   ]
  },
  {
   "cell_type": "code",
   "execution_count": 5,
   "metadata": {},
   "outputs": [],
   "source": [
    "# prepare input data for vessel_01\n",
    "data_vessel01 = {\"env\": my_env,\n",
    "                 \"name\": \"vessel01\",\n",
    "                 \"geometry\": location_from_site, \n",
    "                 \"capacity\": 4,\n",
    "                 \"compute_v\": lambda x: 10\n",
    "               }\n",
    "# instantiate vessel_01 \n",
    "vessel01 = TransportProcessingResource(**data_vessel01)"
   ]
  },
  {
   "cell_type": "markdown",
   "metadata": {},
   "source": [
    "##### 3.3 Create activity/activities"
   ]
  },
  {
   "cell_type": "code",
   "execution_count": 6,
   "metadata": {},
   "outputs": [
    {
     "data": {
      "text/html": [
       "<div>\n",
       "<style scoped>\n",
       "    .dataframe tbody tr th:only-of-type {\n",
       "        vertical-align: middle;\n",
       "    }\n",
       "\n",
       "    .dataframe tbody tr th {\n",
       "        vertical-align: top;\n",
       "    }\n",
       "\n",
       "    .dataframe thead th {\n",
       "        text-align: right;\n",
       "    }\n",
       "</style>\n",
       "<table border=\"1\" class=\"dataframe\">\n",
       "  <thead>\n",
       "    <tr style=\"text-align: right;\">\n",
       "      <th></th>\n",
       "      <th>Year</th>\n",
       "      <th>Month</th>\n",
       "      <th>Day</th>\n",
       "      <th>Hour</th>\n",
       "      <th>Hour.1</th>\n",
       "      <th>Time</th>\n",
       "      <th>U10 [m/s]</th>\n",
       "      <th>Hs [m]</th>\n",
       "      <th>ts</th>\n",
       "    </tr>\n",
       "    <tr>\n",
       "      <th>Time</th>\n",
       "      <th></th>\n",
       "      <th></th>\n",
       "      <th></th>\n",
       "      <th></th>\n",
       "      <th></th>\n",
       "      <th></th>\n",
       "      <th></th>\n",
       "      <th></th>\n",
       "      <th></th>\n",
       "    </tr>\n",
       "  </thead>\n",
       "  <tbody>\n",
       "    <tr>\n",
       "      <th>2010-01-01 00:00:00</th>\n",
       "      <td>2010</td>\n",
       "      <td>1</td>\n",
       "      <td>1</td>\n",
       "      <td>0</td>\n",
       "      <td>1</td>\n",
       "      <td>01-01-2010 00:00</td>\n",
       "      <td>10</td>\n",
       "      <td>4.000000</td>\n",
       "      <td>1.262304e+09</td>\n",
       "    </tr>\n",
       "    <tr>\n",
       "      <th>2010-01-01 01:00:00</th>\n",
       "      <td>2010</td>\n",
       "      <td>1</td>\n",
       "      <td>1</td>\n",
       "      <td>1</td>\n",
       "      <td>2</td>\n",
       "      <td>01-01-2010 01:00</td>\n",
       "      <td>10</td>\n",
       "      <td>6.359698</td>\n",
       "      <td>1.262308e+09</td>\n",
       "    </tr>\n",
       "    <tr>\n",
       "      <th>2010-01-01 02:00:00</th>\n",
       "      <td>2010</td>\n",
       "      <td>1</td>\n",
       "      <td>1</td>\n",
       "      <td>2</td>\n",
       "      <td>3</td>\n",
       "      <td>01-01-2010 02:00</td>\n",
       "      <td>10</td>\n",
       "      <td>6.799038</td>\n",
       "      <td>1.262311e+09</td>\n",
       "    </tr>\n",
       "    <tr>\n",
       "      <th>2010-01-01 03:00:00</th>\n",
       "      <td>2010</td>\n",
       "      <td>1</td>\n",
       "      <td>1</td>\n",
       "      <td>3</td>\n",
       "      <td>4</td>\n",
       "      <td>01-01-2010 03:00</td>\n",
       "      <td>10</td>\n",
       "      <td>5.060660</td>\n",
       "      <td>1.262315e+09</td>\n",
       "    </tr>\n",
       "    <tr>\n",
       "      <th>2010-01-01 04:00:00</th>\n",
       "      <td>2010</td>\n",
       "      <td>1</td>\n",
       "      <td>1</td>\n",
       "      <td>4</td>\n",
       "      <td>5</td>\n",
       "      <td>01-01-2010 04:00</td>\n",
       "      <td>10</td>\n",
       "      <td>2.700962</td>\n",
       "      <td>1.262318e+09</td>\n",
       "    </tr>\n",
       "  </tbody>\n",
       "</table>\n",
       "</div>"
      ],
      "text/plain": [
       "                     Year    Month    Day    Hour    Hour.1              Time  \\\n",
       "Time                                                                            \n",
       "2010-01-01 00:00:00  2010        1      1       0         1  01-01-2010 00:00   \n",
       "2010-01-01 01:00:00  2010        1      1       1         2  01-01-2010 01:00   \n",
       "2010-01-01 02:00:00  2010        1      1       2         3  01-01-2010 02:00   \n",
       "2010-01-01 03:00:00  2010        1      1       3         4  01-01-2010 03:00   \n",
       "2010-01-01 04:00:00  2010        1      1       4         5  01-01-2010 04:00   \n",
       "\n",
       "                     U10 [m/s]    Hs [m]            ts  \n",
       "Time                                                    \n",
       "2010-01-01 00:00:00         10  4.000000  1.262304e+09  \n",
       "2010-01-01 01:00:00         10  6.359698  1.262308e+09  \n",
       "2010-01-01 02:00:00         10  6.799038  1.262311e+09  \n",
       "2010-01-01 03:00:00         10  5.060660  1.262315e+09  \n",
       "2010-01-01 04:00:00         10  2.700962  1.262318e+09  "
      ]
     },
     "execution_count": 6,
     "metadata": {},
     "output_type": "execute_result"
    }
   ],
   "source": [
    "# generate a dataframe with weather data\n",
    "metocean_df = pd.read_csv(\"../tests/data/unit_test_weather.csv\")\n",
    "metocean_df = metocean_df.set_index(pd.to_datetime(metocean_df[\"Time\"], dayfirst=True))\n",
    "metocean_df = metocean_df.sort_index()\n",
    "\n",
    "metocean_df[\"Hs [m]\"] = 4 + \\\n",
    "                        1.5*np.sin(metocean_df['  Hour']/24 * 8 *np.pi) + \\\n",
    "                        1.5*np.sin(metocean_df['  Hour']/24 * 6 *np.pi)\n",
    "\n",
    "metocean_df = metocean_df.set_index(pd.to_datetime(metocean_df[\"Time\"], dayfirst=True))\n",
    "metocean_df = metocean_df.sort_index()\n",
    "metocean_df[\"ts\"] = metocean_df.index.values.astype(float) / 1_000_000_000\n",
    "\n",
    "metocean_df.head()"
   ]
  },
  {
   "cell_type": "code",
   "execution_count": 7,
   "metadata": {},
   "outputs": [],
   "source": [
    "# generate a weather criterion for the sailing process\n",
    "sailing_crit = plugin.WeatherCriterion(\n",
    "    name=\"sailing_crit\",\n",
    "    condition=\"Hs [m]\",\n",
    "    maximum=6,\n",
    "    window_length=3600,\n",
    ")\n",
    "\n",
    "# generate a weather criterion for the loading process\n",
    "loading_crit = plugin.WeatherCriterion(\n",
    "    name=\"loading_crit\",\n",
    "    condition=\"Hs [m]\",\n",
    "    maximum=4.5,\n",
    "    window_length=3600,\n",
    ")"
   ]
  },
  {
   "cell_type": "code",
   "execution_count": 8,
   "metadata": {},
   "outputs": [],
   "source": [
    "# initialise registry\n",
    "registry = {}"
   ]
  },
  {
   "cell_type": "code",
   "execution_count": 9,
   "metadata": {},
   "outputs": [],
   "source": [
    "# create a list of the sub processes\n",
    "sub_processes = [\n",
    "    TestMoveActivity(\n",
    "        env=my_env,\n",
    "        name=\"sailing empty\",\n",
    "        registry=registry,\n",
    "        mover=vessel01,\n",
    "        destination=from_site,\n",
    "        metocean_criteria=sailing_crit,\n",
    "        metocean_df=metocean_df,\n",
    "    ),\n",
    "    TestShiftActivity(\n",
    "        env=my_env,\n",
    "        name=\"loading\",\n",
    "        registry=registry,\n",
    "        processor=vessel01,\n",
    "        origin=from_site,\n",
    "        destination=vessel01,\n",
    "        amount=4,\n",
    "        duration=3600,\n",
    "        metocean_criteria=loading_crit,\n",
    "        metocean_df=metocean_df,\n",
    "    ),\n",
    "    TestMoveActivity(\n",
    "        env=my_env,\n",
    "        name=\"sailing full\",\n",
    "        registry=registry,\n",
    "        mover=vessel01,\n",
    "        destination=to_site,\n",
    "        metocean_criteria=sailing_crit,\n",
    "        metocean_df=metocean_df,\n",
    "    ),\n",
    "    TestShiftActivity(\n",
    "        env=my_env,\n",
    "        name=\"unloading\",\n",
    "        registry=registry,\n",
    "        processor=vessel01,\n",
    "        origin=vessel01,\n",
    "        destination=to_site,\n",
    "        amount=4,\n",
    "        duration=3600,\n",
    "        metocean_criteria=loading_crit,\n",
    "        metocean_df=metocean_df,\n",
    "    ),\n",
    "]\n",
    "\n",
    "# create a 'sequential activity' that is made up of the 'sub_processes'\n",
    "sequential_activity = model.SequentialActivity(\n",
    "    env=my_env,\n",
    "    name=\"sequential_activity_subcycle\",\n",
    "    registry=registry,\n",
    "    sub_processes=sub_processes,\n",
    ")\n",
    "\n",
    "# create a while activity that executes the 'sequential activity' while the stop condition is not triggered \n",
    "while_activity = model.WhileActivity(\n",
    "    env=my_env,\n",
    "    name=\"while_sequential_activity_subcycle\",\n",
    "    registry=registry,\n",
    "    sub_processes=[sequential_activity],\n",
    "    condition_event=[{\"type\": \"container\", \"concept\": to_site, \"state\": \"full\"}],\n",
    ")"
   ]
  },
  {
   "cell_type": "code",
   "execution_count": null,
   "metadata": {},
   "outputs": [],
   "source": []
  },
  {
   "cell_type": "markdown",
   "metadata": {},
   "source": [
    "#### 4. Register processes and run simpy"
   ]
  },
  {
   "cell_type": "code",
   "execution_count": 10,
   "metadata": {},
   "outputs": [],
   "source": [
    "# initate the simpy processes defined in the 'while activity' and run simpy\n",
    "model.register_processes([while_activity])\n",
    "my_env.run()"
   ]
  },
  {
   "cell_type": "markdown",
   "metadata": {},
   "source": [
    "#### 5. Inspect results\n",
    "##### 5.1 Inspect logs"
   ]
  },
  {
   "cell_type": "code",
   "execution_count": 11,
   "metadata": {
    "scrolled": false
   },
   "outputs": [
    {
     "data": {
      "text/html": [
       "<div>\n",
       "<style scoped>\n",
       "    .dataframe tbody tr th:only-of-type {\n",
       "        vertical-align: middle;\n",
       "    }\n",
       "\n",
       "    .dataframe tbody tr th {\n",
       "        vertical-align: top;\n",
       "    }\n",
       "\n",
       "    .dataframe thead th {\n",
       "        text-align: right;\n",
       "    }\n",
       "</style>\n",
       "<table border=\"1\" class=\"dataframe\">\n",
       "  <thead>\n",
       "    <tr style=\"text-align: right;\">\n",
       "      <th></th>\n",
       "      <th>Activity</th>\n",
       "      <th>Timestamp</th>\n",
       "      <th>ActivityState</th>\n",
       "      <th>type</th>\n",
       "      <th>ref</th>\n",
       "    </tr>\n",
       "  </thead>\n",
       "  <tbody>\n",
       "    <tr>\n",
       "      <th>0</th>\n",
       "      <td>while_sequential_activity_subcycle</td>\n",
       "      <td>2009-12-31 23:00:00.000000</td>\n",
       "      <td>START</td>\n",
       "      <td>NaN</td>\n",
       "      <td>NaN</td>\n",
       "    </tr>\n",
       "    <tr>\n",
       "      <th>1</th>\n",
       "      <td>while_sequential_activity_subcycle</td>\n",
       "      <td>2009-12-31 23:00:00.000000</td>\n",
       "      <td>START</td>\n",
       "      <td>subprocess</td>\n",
       "      <td>5f2b129a-ebad-4fb5-8eb5-ac6a1f3b2714</td>\n",
       "    </tr>\n",
       "    <tr>\n",
       "      <th>2</th>\n",
       "      <td>while_sequential_activity_subcycle</td>\n",
       "      <td>2010-01-01 06:15:42.824591</td>\n",
       "      <td>STOP</td>\n",
       "      <td>subprocess</td>\n",
       "      <td>5f2b129a-ebad-4fb5-8eb5-ac6a1f3b2714</td>\n",
       "    </tr>\n",
       "    <tr>\n",
       "      <th>3</th>\n",
       "      <td>while_sequential_activity_subcycle</td>\n",
       "      <td>2010-01-01 06:15:42.824591</td>\n",
       "      <td>START</td>\n",
       "      <td>subprocess</td>\n",
       "      <td>5f2b129a-ebad-4fb5-8eb5-ac6a1f3b2714</td>\n",
       "    </tr>\n",
       "    <tr>\n",
       "      <th>4</th>\n",
       "      <td>while_sequential_activity_subcycle</td>\n",
       "      <td>2010-01-01 11:00:00.000000</td>\n",
       "      <td>STOP</td>\n",
       "      <td>subprocess</td>\n",
       "      <td>5f2b129a-ebad-4fb5-8eb5-ac6a1f3b2714</td>\n",
       "    </tr>\n",
       "  </tbody>\n",
       "</table>\n",
       "</div>"
      ],
      "text/plain": [
       "                             Activity                  Timestamp  \\\n",
       "0  while_sequential_activity_subcycle 2009-12-31 23:00:00.000000   \n",
       "1  while_sequential_activity_subcycle 2009-12-31 23:00:00.000000   \n",
       "2  while_sequential_activity_subcycle 2010-01-01 06:15:42.824591   \n",
       "3  while_sequential_activity_subcycle 2010-01-01 06:15:42.824591   \n",
       "4  while_sequential_activity_subcycle 2010-01-01 11:00:00.000000   \n",
       "\n",
       "  ActivityState        type                                   ref  \n",
       "0         START         NaN                                   NaN  \n",
       "1         START  subprocess  5f2b129a-ebad-4fb5-8eb5-ac6a1f3b2714  \n",
       "2          STOP  subprocess  5f2b129a-ebad-4fb5-8eb5-ac6a1f3b2714  \n",
       "3         START  subprocess  5f2b129a-ebad-4fb5-8eb5-ac6a1f3b2714  \n",
       "4          STOP  subprocess  5f2b129a-ebad-4fb5-8eb5-ac6a1f3b2714  "
      ]
     },
     "execution_count": 11,
     "metadata": {},
     "output_type": "execute_result"
    }
   ],
   "source": [
    "plot.get_log_dataframe(while_activity, [while_activity, sequential_activity, *sub_processes]).head()"
   ]
  },
  {
   "cell_type": "code",
   "execution_count": 12,
   "metadata": {},
   "outputs": [
    {
     "data": {
      "text/html": [
       "<div>\n",
       "<style scoped>\n",
       "    .dataframe tbody tr th:only-of-type {\n",
       "        vertical-align: middle;\n",
       "    }\n",
       "\n",
       "    .dataframe tbody tr th {\n",
       "        vertical-align: top;\n",
       "    }\n",
       "\n",
       "    .dataframe thead th {\n",
       "        text-align: right;\n",
       "    }\n",
       "</style>\n",
       "<table border=\"1\" class=\"dataframe\">\n",
       "  <thead>\n",
       "    <tr style=\"text-align: right;\">\n",
       "      <th></th>\n",
       "      <th>Activity</th>\n",
       "      <th>Timestamp</th>\n",
       "      <th>ActivityState</th>\n",
       "      <th>type</th>\n",
       "      <th>ref</th>\n",
       "    </tr>\n",
       "  </thead>\n",
       "  <tbody>\n",
       "    <tr>\n",
       "      <th>0</th>\n",
       "      <td>sailing empty</td>\n",
       "      <td>2009-12-31 23:00:00.000000</td>\n",
       "      <td>WAIT_START</td>\n",
       "      <td>plugin</td>\n",
       "      <td>waiting on weather</td>\n",
       "    </tr>\n",
       "    <tr>\n",
       "      <th>1</th>\n",
       "      <td>sailing empty</td>\n",
       "      <td>2010-01-01 03:00:00.000000</td>\n",
       "      <td>WAIT_STOP</td>\n",
       "      <td>plugin</td>\n",
       "      <td>waiting on weather</td>\n",
       "    </tr>\n",
       "    <tr>\n",
       "      <th>2</th>\n",
       "      <td>sailing empty</td>\n",
       "      <td>2010-01-01 03:00:00.000000</td>\n",
       "      <td>START</td>\n",
       "      <td>NaN</td>\n",
       "      <td>NaN</td>\n",
       "    </tr>\n",
       "    <tr>\n",
       "      <th>3</th>\n",
       "      <td>sailing empty</td>\n",
       "      <td>2010-01-01 03:00:00.000000</td>\n",
       "      <td>STOP</td>\n",
       "      <td>NaN</td>\n",
       "      <td>NaN</td>\n",
       "    </tr>\n",
       "    <tr>\n",
       "      <th>4</th>\n",
       "      <td>sailing empty</td>\n",
       "      <td>2010-01-01 06:15:42.824591</td>\n",
       "      <td>START</td>\n",
       "      <td>NaN</td>\n",
       "      <td>NaN</td>\n",
       "    </tr>\n",
       "  </tbody>\n",
       "</table>\n",
       "</div>"
      ],
      "text/plain": [
       "        Activity                  Timestamp ActivityState    type  \\\n",
       "0  sailing empty 2009-12-31 23:00:00.000000    WAIT_START  plugin   \n",
       "1  sailing empty 2010-01-01 03:00:00.000000     WAIT_STOP  plugin   \n",
       "2  sailing empty 2010-01-01 03:00:00.000000         START     NaN   \n",
       "3  sailing empty 2010-01-01 03:00:00.000000          STOP     NaN   \n",
       "4  sailing empty 2010-01-01 06:15:42.824591         START     NaN   \n",
       "\n",
       "                  ref  \n",
       "0  waiting on weather  \n",
       "1  waiting on weather  \n",
       "2                 NaN  \n",
       "3                 NaN  \n",
       "4                 NaN  "
      ]
     },
     "execution_count": 12,
     "metadata": {},
     "output_type": "execute_result"
    }
   ],
   "source": [
    "plot.get_log_dataframe(sub_processes[0], [while_activity, sequential_activity, *sub_processes]).head()"
   ]
  },
  {
   "cell_type": "markdown",
   "metadata": {},
   "source": [
    "##### 5.2 Visualise gantt charts"
   ]
  },
  {
   "cell_type": "code",
   "execution_count": 13,
   "metadata": {},
   "outputs": [
    {
     "data": {
      "application/vnd.plotly.v1+json": {
       "config": {
        "plotlyServerURL": "https://plot.ly"
       },
       "data": [
        {
         "connectgaps": false,
         "hoverinfo": "y+name",
         "line": {
          "color": "rgb(235,31,94)",
          "width": 10
         },
         "mode": "lines",
         "name": "9273d7b0-9fb1-477c-9062-7d5ef5278638",
         "type": "scatter",
         "x": [
          "2010-01-01T05:00:00",
          "2010-01-01T05:00:00",
          "2010-01-01T05:15:42.824591",
          "2010-01-01T05:15:42.824591",
          "2010-01-01T05:15:42.824591",
          "2010-01-01T07:31:25.649182",
          "2010-01-01T07:31:25.649182",
          "2010-01-01T07:47:08.473773",
          "2010-01-01T07:47:08.473773",
          "2010-01-01T07:47:08.473773",
          "2010-01-01T12:15:42.824591",
          "2010-01-01T12:15:42.824591",
          "2010-01-01T12:31:25.649182",
          "2010-01-01T12:31:25.649182",
          "2010-01-01T12:31:25.649182",
          "2010-01-01T14:47:08.473773",
          "2010-01-01T14:47:08.473773",
          "2010-01-01T15:02:51.298365",
          "2010-01-01T15:02:51.298365",
          "2010-01-01T15:02:51.298365",
          "2010-01-01T17:18:34.122956",
          "2010-01-01T17:18:34.122956",
          "2010-01-01T17:34:16.947547",
          "2010-01-01T17:34:16.947547",
          "2010-01-01T17:34:16.947547",
          "2010-01-01T23:15:42.824591",
          "2010-01-01T23:15:42.824591",
          "2010-01-01T23:31:25.649182",
          "2010-01-01T23:31:25.649182",
          "2010-01-01T23:31:25.649182",
          "2010-01-02T05:00:00",
          "2010-01-02T05:00:00",
          "2010-01-02T05:15:42.824591",
          "2010-01-02T05:15:42.824591",
          "2010-01-02T05:15:42.824591",
          "2010-01-02T07:31:25.649182",
          "2010-01-02T07:31:25.649182",
          "2010-01-02T07:47:08.473773",
          "2010-01-02T07:47:08.473773",
          "2010-01-02T07:47:08.473773",
          "2010-01-02T12:15:42.824591",
          "2010-01-02T12:15:42.824591",
          "2010-01-02T12:31:25.649182",
          "2010-01-02T12:31:25.649182",
          "2010-01-02T12:31:25.649182",
          "2010-01-02T14:47:08.473773",
          "2010-01-02T14:47:08.473773",
          "2010-01-02T15:02:51.298365",
          "2010-01-02T15:02:51.298365",
          "2010-01-02T15:02:51.298365",
          "2010-01-02T17:18:34.122956",
          "2010-01-02T17:18:34.122956",
          "2010-01-02T17:34:16.947547",
          "2010-01-02T17:34:16.947547",
          "2010-01-02T17:34:16.947547",
          "2010-01-02T23:15:42.824591",
          "2010-01-02T23:15:42.824591",
          "2010-01-02T23:31:25.649182",
          "2010-01-02T23:31:25.649182",
          "2010-01-02T23:31:25.649182",
          "2010-01-03T05:00:00",
          "2010-01-03T05:00:00",
          "2010-01-03T05:15:42.824591",
          "2010-01-03T05:15:42.824591",
          "2010-01-03T05:15:42.824591",
          "2010-01-03T07:31:25.649182",
          "2010-01-03T07:31:25.649182",
          "2010-01-03T07:47:08.473773",
          "2010-01-03T07:47:08.473773",
          "2010-01-03T07:47:08.473773",
          "2010-01-03T12:15:42.824591",
          "2010-01-03T12:15:42.824591",
          "2010-01-03T12:31:25.649182",
          "2010-01-03T12:31:25.649182",
          "2010-01-03T12:31:25.649182",
          "2010-01-03T14:47:08.473773",
          "2010-01-03T14:47:08.473773",
          "2010-01-03T15:02:51.298365",
          "2010-01-03T15:02:51.298365",
          "2010-01-03T15:02:51.298365",
          "2010-01-03T17:18:34.122956",
          "2010-01-03T17:18:34.122956",
          "2010-01-03T17:34:16.947547",
          "2010-01-03T17:34:16.947547",
          "2010-01-03T17:34:16.947547",
          "2010-01-03T23:15:42.824591",
          "2010-01-03T23:15:42.824591",
          "2010-01-03T23:31:25.649182",
          "2010-01-03T23:31:25.649182",
          "2010-01-03T23:31:25.649182",
          "2010-01-04T05:00:00",
          "2010-01-04T05:00:00",
          "2010-01-04T05:15:42.824591",
          "2010-01-04T05:15:42.824591",
          "2010-01-04T05:15:42.824591",
          "2010-01-04T07:31:25.649182",
          "2010-01-04T07:31:25.649182",
          "2010-01-04T07:47:08.473773",
          "2010-01-04T07:47:08.473773",
          "2010-01-04T07:47:08.473773",
          "2010-01-04T12:15:42.824591",
          "2010-01-04T12:15:42.824591",
          "2010-01-04T12:31:25.649182",
          "2010-01-04T12:31:25.649182",
          "2010-01-04T12:31:25.649182",
          "2010-01-04T14:47:08.473773",
          "2010-01-04T14:47:08.473773",
          "2010-01-04T15:02:51.298365",
          "2010-01-04T15:02:51.298365",
          "2010-01-04T15:02:51.298365",
          "2010-01-04T17:18:34.122956",
          "2010-01-04T17:18:34.122956",
          "2010-01-04T17:34:16.947547",
          "2010-01-04T17:34:16.947547",
          "2010-01-04T17:34:16.947547",
          "2010-01-04T23:15:42.824591",
          "2010-01-04T23:15:42.824591",
          "2010-01-04T23:31:25.649182",
          "2010-01-04T23:31:25.649182",
          "2010-01-04T23:31:25.649182",
          "2010-01-05T05:00:00",
          "2010-01-05T05:00:00",
          "2010-01-05T05:15:42.824591",
          "2010-01-05T05:15:42.824591",
          "2010-01-05T05:15:42.824591",
          "2010-01-05T07:31:25.649182",
          "2010-01-05T07:31:25.649182",
          "2010-01-05T07:47:08.473773",
          "2010-01-05T07:47:08.473773",
          "2010-01-05T07:47:08.473773",
          "2010-01-05T12:15:42.824591",
          "2010-01-05T12:15:42.824591",
          "2010-01-05T12:31:25.649182",
          "2010-01-05T12:31:25.649182",
          "2010-01-05T12:31:25.649182",
          "2010-01-05T14:47:08.473773",
          "2010-01-05T14:47:08.473773",
          "2010-01-05T15:02:51.298365",
          "2010-01-05T15:02:51.298365",
          "2010-01-05T15:02:51.298365",
          "2010-01-05T17:18:34.122956",
          "2010-01-05T17:18:34.122956",
          "2010-01-05T17:34:16.947547",
          "2010-01-05T17:34:16.947547",
          "2010-01-05T17:34:16.947547",
          "2010-01-05T23:15:42.824591",
          "2010-01-05T23:15:42.824591",
          "2010-01-05T23:31:25.649182",
          "2010-01-05T23:31:25.649182",
          "2010-01-05T23:31:25.649182"
         ],
         "y": [
          0,
          0,
          0,
          0,
          null,
          0,
          0,
          0,
          0,
          null,
          0,
          0,
          0,
          0,
          null,
          0,
          0,
          0,
          0,
          null,
          0,
          0,
          0,
          0,
          null,
          0,
          0,
          0,
          0,
          null,
          0,
          0,
          0,
          0,
          null,
          0,
          0,
          0,
          0,
          null,
          0,
          0,
          0,
          0,
          null,
          0,
          0,
          0,
          0,
          null,
          0,
          0,
          0,
          0,
          null,
          0,
          0,
          0,
          0,
          null,
          0,
          0,
          0,
          0,
          null,
          0,
          0,
          0,
          0,
          null,
          0,
          0,
          0,
          0,
          null,
          0,
          0,
          0,
          0,
          null,
          0,
          0,
          0,
          0,
          null,
          0,
          0,
          0,
          0,
          null,
          0,
          0,
          0,
          0,
          null,
          0,
          0,
          0,
          0,
          null,
          0,
          0,
          0,
          0,
          null,
          0,
          0,
          0,
          0,
          null,
          0,
          0,
          0,
          0,
          null,
          0,
          0,
          0,
          0,
          null,
          0,
          0,
          0,
          0,
          null,
          0,
          0,
          0,
          0,
          null,
          0,
          0,
          0,
          0,
          null,
          0,
          0,
          0,
          0,
          null,
          0,
          0,
          0,
          0,
          null,
          0,
          0,
          0,
          0,
          null
         ]
        },
        {
         "connectgaps": false,
         "hoverinfo": "y+name",
         "line": {
          "color": "rgb(43,95,158)",
          "width": 10
         },
         "mode": "lines",
         "name": "97184462-c8e7-48b3-ba88-e5180e670484",
         "type": "scatter",
         "x": [
          "2010-01-01T04:00:00",
          "2010-01-01T04:00:00",
          "2010-01-01T05:00:00",
          "2010-01-01T05:00:00",
          "2010-01-01T05:00:00",
          "2010-01-01T06:31:25.649182",
          "2010-01-01T06:31:25.649182",
          "2010-01-01T07:31:25.649182",
          "2010-01-01T07:31:25.649182",
          "2010-01-01T07:31:25.649182",
          "2010-01-01T11:15:42.824591",
          "2010-01-01T11:15:42.824591",
          "2010-01-01T12:15:42.824591",
          "2010-01-01T12:15:42.824591",
          "2010-01-01T12:15:42.824591",
          "2010-01-01T13:47:08.473773",
          "2010-01-01T13:47:08.473773",
          "2010-01-01T14:47:08.473773",
          "2010-01-01T14:47:08.473773",
          "2010-01-01T14:47:08.473773",
          "2010-01-01T16:18:34.122956",
          "2010-01-01T16:18:34.122956",
          "2010-01-01T17:18:34.122956",
          "2010-01-01T17:18:34.122956",
          "2010-01-01T17:18:34.122956",
          "2010-01-01T22:15:42.824591",
          "2010-01-01T22:15:42.824591",
          "2010-01-01T23:15:42.824591",
          "2010-01-01T23:15:42.824591",
          "2010-01-01T23:15:42.824591",
          "2010-01-02T04:00:00",
          "2010-01-02T04:00:00",
          "2010-01-02T05:00:00",
          "2010-01-02T05:00:00",
          "2010-01-02T05:00:00",
          "2010-01-02T06:31:25.649182",
          "2010-01-02T06:31:25.649182",
          "2010-01-02T07:31:25.649182",
          "2010-01-02T07:31:25.649182",
          "2010-01-02T07:31:25.649182",
          "2010-01-02T11:15:42.824591",
          "2010-01-02T11:15:42.824591",
          "2010-01-02T12:15:42.824591",
          "2010-01-02T12:15:42.824591",
          "2010-01-02T12:15:42.824591",
          "2010-01-02T13:47:08.473773",
          "2010-01-02T13:47:08.473773",
          "2010-01-02T14:47:08.473773",
          "2010-01-02T14:47:08.473773",
          "2010-01-02T14:47:08.473773",
          "2010-01-02T16:18:34.122956",
          "2010-01-02T16:18:34.122956",
          "2010-01-02T17:18:34.122956",
          "2010-01-02T17:18:34.122956",
          "2010-01-02T17:18:34.122956",
          "2010-01-02T22:15:42.824591",
          "2010-01-02T22:15:42.824591",
          "2010-01-02T23:15:42.824591",
          "2010-01-02T23:15:42.824591",
          "2010-01-02T23:15:42.824591",
          "2010-01-03T04:00:00",
          "2010-01-03T04:00:00",
          "2010-01-03T05:00:00",
          "2010-01-03T05:00:00",
          "2010-01-03T05:00:00",
          "2010-01-03T06:31:25.649182",
          "2010-01-03T06:31:25.649182",
          "2010-01-03T07:31:25.649182",
          "2010-01-03T07:31:25.649182",
          "2010-01-03T07:31:25.649182",
          "2010-01-03T11:15:42.824591",
          "2010-01-03T11:15:42.824591",
          "2010-01-03T12:15:42.824591",
          "2010-01-03T12:15:42.824591",
          "2010-01-03T12:15:42.824591",
          "2010-01-03T13:47:08.473773",
          "2010-01-03T13:47:08.473773",
          "2010-01-03T14:47:08.473773",
          "2010-01-03T14:47:08.473773",
          "2010-01-03T14:47:08.473773",
          "2010-01-03T16:18:34.122956",
          "2010-01-03T16:18:34.122956",
          "2010-01-03T17:18:34.122956",
          "2010-01-03T17:18:34.122956",
          "2010-01-03T17:18:34.122956",
          "2010-01-03T22:15:42.824591",
          "2010-01-03T22:15:42.824591",
          "2010-01-03T23:15:42.824591",
          "2010-01-03T23:15:42.824591",
          "2010-01-03T23:15:42.824591",
          "2010-01-04T04:00:00",
          "2010-01-04T04:00:00",
          "2010-01-04T05:00:00",
          "2010-01-04T05:00:00",
          "2010-01-04T05:00:00",
          "2010-01-04T06:31:25.649182",
          "2010-01-04T06:31:25.649182",
          "2010-01-04T07:31:25.649182",
          "2010-01-04T07:31:25.649182",
          "2010-01-04T07:31:25.649182",
          "2010-01-04T11:15:42.824591",
          "2010-01-04T11:15:42.824591",
          "2010-01-04T12:15:42.824591",
          "2010-01-04T12:15:42.824591",
          "2010-01-04T12:15:42.824591",
          "2010-01-04T13:47:08.473773",
          "2010-01-04T13:47:08.473773",
          "2010-01-04T14:47:08.473773",
          "2010-01-04T14:47:08.473773",
          "2010-01-04T14:47:08.473773",
          "2010-01-04T16:18:34.122956",
          "2010-01-04T16:18:34.122956",
          "2010-01-04T17:18:34.122956",
          "2010-01-04T17:18:34.122956",
          "2010-01-04T17:18:34.122956",
          "2010-01-04T22:15:42.824591",
          "2010-01-04T22:15:42.824591",
          "2010-01-04T23:15:42.824591",
          "2010-01-04T23:15:42.824591",
          "2010-01-04T23:15:42.824591",
          "2010-01-05T04:00:00",
          "2010-01-05T04:00:00",
          "2010-01-05T05:00:00",
          "2010-01-05T05:00:00",
          "2010-01-05T05:00:00",
          "2010-01-05T06:31:25.649182",
          "2010-01-05T06:31:25.649182",
          "2010-01-05T07:31:25.649182",
          "2010-01-05T07:31:25.649182",
          "2010-01-05T07:31:25.649182",
          "2010-01-05T11:15:42.824591",
          "2010-01-05T11:15:42.824591",
          "2010-01-05T12:15:42.824591",
          "2010-01-05T12:15:42.824591",
          "2010-01-05T12:15:42.824591",
          "2010-01-05T13:47:08.473773",
          "2010-01-05T13:47:08.473773",
          "2010-01-05T14:47:08.473773",
          "2010-01-05T14:47:08.473773",
          "2010-01-05T14:47:08.473773",
          "2010-01-05T16:18:34.122956",
          "2010-01-05T16:18:34.122956",
          "2010-01-05T17:18:34.122956",
          "2010-01-05T17:18:34.122956",
          "2010-01-05T17:18:34.122956",
          "2010-01-05T22:15:42.824591",
          "2010-01-05T22:15:42.824591",
          "2010-01-05T23:15:42.824591",
          "2010-01-05T23:15:42.824591",
          "2010-01-05T23:15:42.824591"
         ],
         "y": [
          0,
          0,
          0,
          0,
          null,
          0,
          0,
          0,
          0,
          null,
          0,
          0,
          0,
          0,
          null,
          0,
          0,
          0,
          0,
          null,
          0,
          0,
          0,
          0,
          null,
          0,
          0,
          0,
          0,
          null,
          0,
          0,
          0,
          0,
          null,
          0,
          0,
          0,
          0,
          null,
          0,
          0,
          0,
          0,
          null,
          0,
          0,
          0,
          0,
          null,
          0,
          0,
          0,
          0,
          null,
          0,
          0,
          0,
          0,
          null,
          0,
          0,
          0,
          0,
          null,
          0,
          0,
          0,
          0,
          null,
          0,
          0,
          0,
          0,
          null,
          0,
          0,
          0,
          0,
          null,
          0,
          0,
          0,
          0,
          null,
          0,
          0,
          0,
          0,
          null,
          0,
          0,
          0,
          0,
          null,
          0,
          0,
          0,
          0,
          null,
          0,
          0,
          0,
          0,
          null,
          0,
          0,
          0,
          0,
          null,
          0,
          0,
          0,
          0,
          null,
          0,
          0,
          0,
          0,
          null,
          0,
          0,
          0,
          0,
          null,
          0,
          0,
          0,
          0,
          null,
          0,
          0,
          0,
          0,
          null,
          0,
          0,
          0,
          0,
          null,
          0,
          0,
          0,
          0,
          null,
          0,
          0,
          0,
          0,
          null
         ]
        },
        {
         "connectgaps": false,
         "hoverinfo": "y+name",
         "line": {
          "color": "rgb(107,159,222)",
          "width": 10
         },
         "mode": "lines",
         "name": "e4413e05-95b2-4203-9af0-0c31e7fc7b48",
         "type": "scatter",
         "x": [
          "2010-01-01T03:00:00",
          "2010-01-01T03:00:00",
          "2010-01-01T03:00:00",
          "2010-01-01T03:00:00",
          "2010-01-01T03:00:00",
          "2010-01-01T06:15:42.824591",
          "2010-01-01T06:15:42.824591",
          "2010-01-01T06:31:25.649182",
          "2010-01-01T06:31:25.649182",
          "2010-01-01T06:31:25.649182",
          "2010-01-01T11:00:00",
          "2010-01-01T11:00:00",
          "2010-01-01T11:15:42.824591",
          "2010-01-01T11:15:42.824591",
          "2010-01-01T11:15:42.824591",
          "2010-01-01T13:31:25.649182",
          "2010-01-01T13:31:25.649182",
          "2010-01-01T13:47:08.473773",
          "2010-01-01T13:47:08.473773",
          "2010-01-01T13:47:08.473773",
          "2010-01-01T16:02:51.298365",
          "2010-01-01T16:02:51.298365",
          "2010-01-01T16:18:34.122956",
          "2010-01-01T16:18:34.122956",
          "2010-01-01T16:18:34.122956",
          "2010-01-01T22:00:00",
          "2010-01-01T22:00:00",
          "2010-01-01T22:15:42.824591",
          "2010-01-01T22:15:42.824591",
          "2010-01-01T22:15:42.824591",
          "2010-01-02T03:00:00",
          "2010-01-02T03:00:00",
          "2010-01-02T03:15:42.824591",
          "2010-01-02T03:15:42.824591",
          "2010-01-02T03:15:42.824591",
          "2010-01-02T06:15:42.824591",
          "2010-01-02T06:15:42.824591",
          "2010-01-02T06:31:25.649182",
          "2010-01-02T06:31:25.649182",
          "2010-01-02T06:31:25.649182",
          "2010-01-02T11:00:00",
          "2010-01-02T11:00:00",
          "2010-01-02T11:15:42.824591",
          "2010-01-02T11:15:42.824591",
          "2010-01-02T11:15:42.824591",
          "2010-01-02T13:31:25.649182",
          "2010-01-02T13:31:25.649182",
          "2010-01-02T13:47:08.473773",
          "2010-01-02T13:47:08.473773",
          "2010-01-02T13:47:08.473773",
          "2010-01-02T16:02:51.298365",
          "2010-01-02T16:02:51.298365",
          "2010-01-02T16:18:34.122956",
          "2010-01-02T16:18:34.122956",
          "2010-01-02T16:18:34.122956",
          "2010-01-02T22:00:00",
          "2010-01-02T22:00:00",
          "2010-01-02T22:15:42.824591",
          "2010-01-02T22:15:42.824591",
          "2010-01-02T22:15:42.824591",
          "2010-01-03T03:00:00",
          "2010-01-03T03:00:00",
          "2010-01-03T03:15:42.824591",
          "2010-01-03T03:15:42.824591",
          "2010-01-03T03:15:42.824591",
          "2010-01-03T06:15:42.824591",
          "2010-01-03T06:15:42.824591",
          "2010-01-03T06:31:25.649182",
          "2010-01-03T06:31:25.649182",
          "2010-01-03T06:31:25.649182",
          "2010-01-03T11:00:00",
          "2010-01-03T11:00:00",
          "2010-01-03T11:15:42.824591",
          "2010-01-03T11:15:42.824591",
          "2010-01-03T11:15:42.824591",
          "2010-01-03T13:31:25.649182",
          "2010-01-03T13:31:25.649182",
          "2010-01-03T13:47:08.473773",
          "2010-01-03T13:47:08.473773",
          "2010-01-03T13:47:08.473773",
          "2010-01-03T16:02:51.298365",
          "2010-01-03T16:02:51.298365",
          "2010-01-03T16:18:34.122956",
          "2010-01-03T16:18:34.122956",
          "2010-01-03T16:18:34.122956",
          "2010-01-03T22:00:00",
          "2010-01-03T22:00:00",
          "2010-01-03T22:15:42.824591",
          "2010-01-03T22:15:42.824591",
          "2010-01-03T22:15:42.824591",
          "2010-01-04T03:00:00",
          "2010-01-04T03:00:00",
          "2010-01-04T03:15:42.824591",
          "2010-01-04T03:15:42.824591",
          "2010-01-04T03:15:42.824591",
          "2010-01-04T06:15:42.824591",
          "2010-01-04T06:15:42.824591",
          "2010-01-04T06:31:25.649182",
          "2010-01-04T06:31:25.649182",
          "2010-01-04T06:31:25.649182",
          "2010-01-04T11:00:00",
          "2010-01-04T11:00:00",
          "2010-01-04T11:15:42.824591",
          "2010-01-04T11:15:42.824591",
          "2010-01-04T11:15:42.824591",
          "2010-01-04T13:31:25.649182",
          "2010-01-04T13:31:25.649182",
          "2010-01-04T13:47:08.473773",
          "2010-01-04T13:47:08.473773",
          "2010-01-04T13:47:08.473773",
          "2010-01-04T16:02:51.298365",
          "2010-01-04T16:02:51.298365",
          "2010-01-04T16:18:34.122956",
          "2010-01-04T16:18:34.122956",
          "2010-01-04T16:18:34.122956",
          "2010-01-04T22:00:00",
          "2010-01-04T22:00:00",
          "2010-01-04T22:15:42.824591",
          "2010-01-04T22:15:42.824591",
          "2010-01-04T22:15:42.824591",
          "2010-01-05T03:00:00",
          "2010-01-05T03:00:00",
          "2010-01-05T03:15:42.824591",
          "2010-01-05T03:15:42.824591",
          "2010-01-05T03:15:42.824591",
          "2010-01-05T06:15:42.824591",
          "2010-01-05T06:15:42.824591",
          "2010-01-05T06:31:25.649182",
          "2010-01-05T06:31:25.649182",
          "2010-01-05T06:31:25.649182",
          "2010-01-05T11:00:00",
          "2010-01-05T11:00:00",
          "2010-01-05T11:15:42.824591",
          "2010-01-05T11:15:42.824591",
          "2010-01-05T11:15:42.824591",
          "2010-01-05T13:31:25.649182",
          "2010-01-05T13:31:25.649182",
          "2010-01-05T13:47:08.473773",
          "2010-01-05T13:47:08.473773",
          "2010-01-05T13:47:08.473773",
          "2010-01-05T16:02:51.298365",
          "2010-01-05T16:02:51.298365",
          "2010-01-05T16:18:34.122956",
          "2010-01-05T16:18:34.122956",
          "2010-01-05T16:18:34.122956",
          "2010-01-05T22:00:00",
          "2010-01-05T22:00:00",
          "2010-01-05T22:15:42.824591",
          "2010-01-05T22:15:42.824591",
          "2010-01-05T22:15:42.824591"
         ],
         "y": [
          0,
          0,
          0,
          0,
          null,
          0,
          0,
          0,
          0,
          null,
          0,
          0,
          0,
          0,
          null,
          0,
          0,
          0,
          0,
          null,
          0,
          0,
          0,
          0,
          null,
          0,
          0,
          0,
          0,
          null,
          0,
          0,
          0,
          0,
          null,
          0,
          0,
          0,
          0,
          null,
          0,
          0,
          0,
          0,
          null,
          0,
          0,
          0,
          0,
          null,
          0,
          0,
          0,
          0,
          null,
          0,
          0,
          0,
          0,
          null,
          0,
          0,
          0,
          0,
          null,
          0,
          0,
          0,
          0,
          null,
          0,
          0,
          0,
          0,
          null,
          0,
          0,
          0,
          0,
          null,
          0,
          0,
          0,
          0,
          null,
          0,
          0,
          0,
          0,
          null,
          0,
          0,
          0,
          0,
          null,
          0,
          0,
          0,
          0,
          null,
          0,
          0,
          0,
          0,
          null,
          0,
          0,
          0,
          0,
          null,
          0,
          0,
          0,
          0,
          null,
          0,
          0,
          0,
          0,
          null,
          0,
          0,
          0,
          0,
          null,
          0,
          0,
          0,
          0,
          null,
          0,
          0,
          0,
          0,
          null,
          0,
          0,
          0,
          0,
          null,
          0,
          0,
          0,
          0,
          null,
          0,
          0,
          0,
          0,
          null
         ]
        },
        {
         "connectgaps": false,
         "hoverinfo": "y+name",
         "line": {
          "color": "rgb(171,223,30)",
          "width": 10
         },
         "mode": "lines",
         "name": "6de3f087-bc0c-4bd1-bd2d-4d2392657a95",
         "type": "scatter",
         "x": [
          "2010-01-01T05:15:42.824591",
          "2010-01-01T05:15:42.824591",
          "2010-01-01T06:15:42.824591",
          "2010-01-01T06:15:42.824591",
          "2010-01-01T06:15:42.824591",
          "2010-01-01T10:00:00",
          "2010-01-01T10:00:00",
          "2010-01-01T11:00:00",
          "2010-01-01T11:00:00",
          "2010-01-01T11:00:00",
          "2010-01-01T12:31:25.649182",
          "2010-01-01T12:31:25.649182",
          "2010-01-01T13:31:25.649182",
          "2010-01-01T13:31:25.649182",
          "2010-01-01T13:31:25.649182",
          "2010-01-01T15:02:51.298365",
          "2010-01-01T15:02:51.298365",
          "2010-01-01T16:02:51.298365",
          "2010-01-01T16:02:51.298365",
          "2010-01-01T16:02:51.298365",
          "2010-01-01T21:00:00",
          "2010-01-01T21:00:00",
          "2010-01-01T22:00:00",
          "2010-01-01T22:00:00",
          "2010-01-01T22:00:00",
          "2010-01-01T23:31:25.649182",
          "2010-01-01T23:31:25.649182",
          "2010-01-02T00:31:25.649182",
          "2010-01-02T00:31:25.649182",
          "2010-01-02T00:31:25.649182",
          "2010-01-02T05:15:42.824591",
          "2010-01-02T05:15:42.824591",
          "2010-01-02T06:15:42.824591",
          "2010-01-02T06:15:42.824591",
          "2010-01-02T06:15:42.824591",
          "2010-01-02T10:00:00",
          "2010-01-02T10:00:00",
          "2010-01-02T11:00:00",
          "2010-01-02T11:00:00",
          "2010-01-02T11:00:00",
          "2010-01-02T12:31:25.649182",
          "2010-01-02T12:31:25.649182",
          "2010-01-02T13:31:25.649182",
          "2010-01-02T13:31:25.649182",
          "2010-01-02T13:31:25.649182",
          "2010-01-02T15:02:51.298365",
          "2010-01-02T15:02:51.298365",
          "2010-01-02T16:02:51.298365",
          "2010-01-02T16:02:51.298365",
          "2010-01-02T16:02:51.298365",
          "2010-01-02T21:00:00",
          "2010-01-02T21:00:00",
          "2010-01-02T22:00:00",
          "2010-01-02T22:00:00",
          "2010-01-02T22:00:00",
          "2010-01-02T23:31:25.649182",
          "2010-01-02T23:31:25.649182",
          "2010-01-03T00:31:25.649182",
          "2010-01-03T00:31:25.649182",
          "2010-01-03T00:31:25.649182",
          "2010-01-03T05:15:42.824591",
          "2010-01-03T05:15:42.824591",
          "2010-01-03T06:15:42.824591",
          "2010-01-03T06:15:42.824591",
          "2010-01-03T06:15:42.824591",
          "2010-01-03T10:00:00",
          "2010-01-03T10:00:00",
          "2010-01-03T11:00:00",
          "2010-01-03T11:00:00",
          "2010-01-03T11:00:00",
          "2010-01-03T12:31:25.649182",
          "2010-01-03T12:31:25.649182",
          "2010-01-03T13:31:25.649182",
          "2010-01-03T13:31:25.649182",
          "2010-01-03T13:31:25.649182",
          "2010-01-03T15:02:51.298365",
          "2010-01-03T15:02:51.298365",
          "2010-01-03T16:02:51.298365",
          "2010-01-03T16:02:51.298365",
          "2010-01-03T16:02:51.298365",
          "2010-01-03T21:00:00",
          "2010-01-03T21:00:00",
          "2010-01-03T22:00:00",
          "2010-01-03T22:00:00",
          "2010-01-03T22:00:00",
          "2010-01-03T23:31:25.649182",
          "2010-01-03T23:31:25.649182",
          "2010-01-04T00:31:25.649182",
          "2010-01-04T00:31:25.649182",
          "2010-01-04T00:31:25.649182",
          "2010-01-04T05:15:42.824591",
          "2010-01-04T05:15:42.824591",
          "2010-01-04T06:15:42.824591",
          "2010-01-04T06:15:42.824591",
          "2010-01-04T06:15:42.824591",
          "2010-01-04T10:00:00",
          "2010-01-04T10:00:00",
          "2010-01-04T11:00:00",
          "2010-01-04T11:00:00",
          "2010-01-04T11:00:00",
          "2010-01-04T12:31:25.649182",
          "2010-01-04T12:31:25.649182",
          "2010-01-04T13:31:25.649182",
          "2010-01-04T13:31:25.649182",
          "2010-01-04T13:31:25.649182",
          "2010-01-04T15:02:51.298365",
          "2010-01-04T15:02:51.298365",
          "2010-01-04T16:02:51.298365",
          "2010-01-04T16:02:51.298365",
          "2010-01-04T16:02:51.298365",
          "2010-01-04T21:00:00",
          "2010-01-04T21:00:00",
          "2010-01-04T22:00:00",
          "2010-01-04T22:00:00",
          "2010-01-04T22:00:00",
          "2010-01-04T23:31:25.649182",
          "2010-01-04T23:31:25.649182",
          "2010-01-05T00:31:25.649182",
          "2010-01-05T00:31:25.649182",
          "2010-01-05T00:31:25.649182",
          "2010-01-05T05:15:42.824591",
          "2010-01-05T05:15:42.824591",
          "2010-01-05T06:15:42.824591",
          "2010-01-05T06:15:42.824591",
          "2010-01-05T06:15:42.824591",
          "2010-01-05T10:00:00",
          "2010-01-05T10:00:00",
          "2010-01-05T11:00:00",
          "2010-01-05T11:00:00",
          "2010-01-05T11:00:00",
          "2010-01-05T12:31:25.649182",
          "2010-01-05T12:31:25.649182",
          "2010-01-05T13:31:25.649182",
          "2010-01-05T13:31:25.649182",
          "2010-01-05T13:31:25.649182",
          "2010-01-05T15:02:51.298365",
          "2010-01-05T15:02:51.298365",
          "2010-01-05T16:02:51.298365",
          "2010-01-05T16:02:51.298365",
          "2010-01-05T16:02:51.298365",
          "2010-01-05T21:00:00",
          "2010-01-05T21:00:00",
          "2010-01-05T22:00:00",
          "2010-01-05T22:00:00",
          "2010-01-05T22:00:00",
          "2010-01-05T23:31:25.649182",
          "2010-01-05T23:31:25.649182",
          "2010-01-06T00:31:25.649182",
          "2010-01-06T00:31:25.649182",
          "2010-01-06T00:31:25.649182"
         ],
         "y": [
          0,
          0,
          0,
          0,
          null,
          0,
          0,
          0,
          0,
          null,
          0,
          0,
          0,
          0,
          null,
          0,
          0,
          0,
          0,
          null,
          0,
          0,
          0,
          0,
          null,
          0,
          0,
          0,
          0,
          null,
          0,
          0,
          0,
          0,
          null,
          0,
          0,
          0,
          0,
          null,
          0,
          0,
          0,
          0,
          null,
          0,
          0,
          0,
          0,
          null,
          0,
          0,
          0,
          0,
          null,
          0,
          0,
          0,
          0,
          null,
          0,
          0,
          0,
          0,
          null,
          0,
          0,
          0,
          0,
          null,
          0,
          0,
          0,
          0,
          null,
          0,
          0,
          0,
          0,
          null,
          0,
          0,
          0,
          0,
          null,
          0,
          0,
          0,
          0,
          null,
          0,
          0,
          0,
          0,
          null,
          0,
          0,
          0,
          0,
          null,
          0,
          0,
          0,
          0,
          null,
          0,
          0,
          0,
          0,
          null,
          0,
          0,
          0,
          0,
          null,
          0,
          0,
          0,
          0,
          null,
          0,
          0,
          0,
          0,
          null,
          0,
          0,
          0,
          0,
          null,
          0,
          0,
          0,
          0,
          null,
          0,
          0,
          0,
          0,
          null,
          0,
          0,
          0,
          0,
          null,
          0,
          0,
          0,
          0,
          null
         ]
        },
        {
         "name": "sailing_crit",
         "type": "scatter",
         "x": [
          "2010-01-01T03:00:00",
          "2010-01-06T00:31:25.649182"
         ],
         "y": [
          6,
          6
         ]
        },
        {
         "name": "Weather",
         "type": "scatter",
         "x": [
          "2010-01-01T00:00:00",
          "2010-01-01T01:00:00",
          "2010-01-01T02:00:00",
          "2010-01-01T03:00:00",
          "2010-01-01T04:00:00",
          "2010-01-01T05:00:00",
          "2010-01-01T06:00:00",
          "2010-01-01T07:00:00",
          "2010-01-01T08:00:00",
          "2010-01-01T09:00:00",
          "2010-01-01T10:00:00",
          "2010-01-01T11:00:00",
          "2010-01-01T12:00:00",
          "2010-01-01T13:00:00",
          "2010-01-01T14:00:00",
          "2010-01-01T15:00:00",
          "2010-01-01T16:00:00",
          "2010-01-01T17:00:00",
          "2010-01-01T18:00:00",
          "2010-01-01T19:00:00",
          "2010-01-01T20:00:00",
          "2010-01-01T21:00:00",
          "2010-01-01T22:00:00",
          "2010-01-01T23:00:00",
          "2010-01-02T00:00:00",
          "2010-01-02T01:00:00",
          "2010-01-02T02:00:00",
          "2010-01-02T03:00:00",
          "2010-01-02T04:00:00",
          "2010-01-02T05:00:00",
          "2010-01-02T06:00:00",
          "2010-01-02T07:00:00",
          "2010-01-02T08:00:00",
          "2010-01-02T09:00:00",
          "2010-01-02T10:00:00",
          "2010-01-02T11:00:00",
          "2010-01-02T12:00:00",
          "2010-01-02T13:00:00",
          "2010-01-02T14:00:00",
          "2010-01-02T15:00:00",
          "2010-01-02T16:00:00",
          "2010-01-02T17:00:00",
          "2010-01-02T18:00:00",
          "2010-01-02T19:00:00",
          "2010-01-02T20:00:00",
          "2010-01-02T21:00:00",
          "2010-01-02T22:00:00",
          "2010-01-02T23:00:00",
          "2010-01-03T00:00:00",
          "2010-01-03T01:00:00",
          "2010-01-03T02:00:00",
          "2010-01-03T03:00:00",
          "2010-01-03T04:00:00",
          "2010-01-03T05:00:00",
          "2010-01-03T06:00:00",
          "2010-01-03T07:00:00",
          "2010-01-03T08:00:00",
          "2010-01-03T09:00:00",
          "2010-01-03T10:00:00",
          "2010-01-03T11:00:00",
          "2010-01-03T12:00:00",
          "2010-01-03T13:00:00",
          "2010-01-03T14:00:00",
          "2010-01-03T15:00:00",
          "2010-01-03T16:00:00",
          "2010-01-03T17:00:00",
          "2010-01-03T18:00:00",
          "2010-01-03T19:00:00",
          "2010-01-03T20:00:00",
          "2010-01-03T21:00:00",
          "2010-01-03T22:00:00",
          "2010-01-03T23:00:00",
          "2010-01-04T00:00:00",
          "2010-01-04T01:00:00",
          "2010-01-04T02:00:00",
          "2010-01-04T03:00:00",
          "2010-01-04T04:00:00",
          "2010-01-04T05:00:00",
          "2010-01-04T06:00:00",
          "2010-01-04T07:00:00",
          "2010-01-04T08:00:00",
          "2010-01-04T09:00:00",
          "2010-01-04T10:00:00",
          "2010-01-04T11:00:00",
          "2010-01-04T12:00:00",
          "2010-01-04T13:00:00",
          "2010-01-04T14:00:00",
          "2010-01-04T15:00:00",
          "2010-01-04T16:00:00",
          "2010-01-04T17:00:00",
          "2010-01-04T18:00:00",
          "2010-01-04T19:00:00",
          "2010-01-04T20:00:00",
          "2010-01-04T21:00:00",
          "2010-01-04T22:00:00",
          "2010-01-04T23:00:00",
          "2010-01-05T00:00:00",
          "2010-01-05T01:00:00",
          "2010-01-05T02:00:00",
          "2010-01-05T03:00:00",
          "2010-01-05T04:00:00",
          "2010-01-05T05:00:00",
          "2010-01-05T06:00:00",
          "2010-01-05T07:00:00",
          "2010-01-05T08:00:00",
          "2010-01-05T09:00:00",
          "2010-01-05T10:00:00",
          "2010-01-05T11:00:00",
          "2010-01-05T12:00:00",
          "2010-01-05T13:00:00",
          "2010-01-05T14:00:00",
          "2010-01-05T15:00:00",
          "2010-01-05T16:00:00",
          "2010-01-05T17:00:00",
          "2010-01-05T18:00:00",
          "2010-01-05T19:00:00",
          "2010-01-05T20:00:00",
          "2010-01-05T21:00:00",
          "2010-01-05T22:00:00",
          "2010-01-05T23:00:00",
          "2010-01-06T00:00:00",
          "2010-01-06T01:00:00",
          "2010-01-06T02:00:00",
          "2010-01-06T03:00:00",
          "2010-01-06T04:00:00",
          "2010-01-06T05:00:00",
          "2010-01-06T06:00:00",
          "2010-01-06T07:00:00",
          "2010-01-06T08:00:00",
          "2010-01-06T09:00:00",
          "2010-01-06T10:00:00",
          "2010-01-06T11:00:00",
          "2010-01-06T12:00:00",
          "2010-01-06T13:00:00",
          "2010-01-06T14:00:00",
          "2010-01-06T15:00:00",
          "2010-01-06T16:00:00",
          "2010-01-06T17:00:00",
          "2010-01-06T18:00:00",
          "2010-01-06T19:00:00",
          "2010-01-06T20:00:00",
          "2010-01-06T21:00:00",
          "2010-01-06T22:00:00",
          "2010-01-06T23:00:00",
          "2010-01-07T00:00:00",
          "2010-01-07T01:00:00",
          "2010-01-07T02:00:00",
          "2010-01-07T03:00:00",
          "2010-01-07T04:00:00",
          "2010-01-07T05:00:00",
          "2010-01-07T06:00:00",
          "2010-01-07T07:00:00",
          "2010-01-07T08:00:00",
          "2010-01-07T09:00:00",
          "2010-01-07T10:00:00",
          "2010-01-07T11:00:00",
          "2010-01-07T12:00:00",
          "2010-01-07T13:00:00",
          "2010-01-07T14:00:00",
          "2010-01-07T15:00:00",
          "2010-01-07T16:00:00",
          "2010-01-07T17:00:00",
          "2010-01-07T18:00:00",
          "2010-01-07T19:00:00",
          "2010-01-07T20:00:00",
          "2010-01-07T21:00:00",
          "2010-01-07T22:00:00",
          "2010-01-07T23:00:00",
          "2010-01-08T00:00:00",
          "2010-01-08T01:00:00",
          "2010-01-08T02:00:00",
          "2010-01-08T03:00:00",
          "2010-01-08T04:00:00",
          "2010-01-08T05:00:00",
          "2010-01-08T06:00:00",
          "2010-01-08T07:00:00",
          "2010-01-08T08:00:00",
          "2010-01-08T09:00:00",
          "2010-01-08T10:00:00",
          "2010-01-08T11:00:00",
          "2010-01-08T12:00:00",
          "2010-01-08T13:00:00",
          "2010-01-08T14:00:00",
          "2010-01-08T15:00:00",
          "2010-01-08T16:00:00",
          "2010-01-08T17:00:00",
          "2010-01-08T18:00:00",
          "2010-01-08T19:00:00",
          "2010-01-08T20:00:00",
          "2010-01-08T21:00:00",
          "2010-01-08T22:00:00",
          "2010-01-08T23:00:00"
         ],
         "y": [
          4,
          6.359698277456479,
          6.799038105676658,
          5.060660171779821,
          2.700961894323342,
          1.6403017225435208,
          2.4999999999999996,
          4.238377933896837,
          5.299038105676659,
          5.060660171779822,
          4.200961894323342,
          3.761622066103164,
          3.9999999999999996,
          4.238377933896834,
          3.799038105676658,
          2.939339828220178,
          2.7009618943233424,
          3.761622066103164,
          5.499999999999999,
          6.359698277456479,
          5.299038105676659,
          2.9393398282201795,
          1.2009618943233438,
          1.640301722543519,
          4,
          6.359698277456479,
          6.799038105676658,
          5.060660171779821,
          2.700961894323342,
          1.6403017225435208,
          2.4999999999999996,
          4.238377933896837,
          5.299038105676659,
          5.060660171779822,
          4.200961894323342,
          3.761622066103164,
          3.9999999999999996,
          4.238377933896834,
          3.799038105676658,
          2.939339828220178,
          2.7009618943233424,
          3.761622066103164,
          5.499999999999999,
          6.359698277456479,
          5.299038105676659,
          2.9393398282201795,
          1.2009618943233438,
          1.640301722543519,
          4,
          6.359698277456479,
          6.799038105676658,
          5.060660171779821,
          2.700961894323342,
          1.6403017225435208,
          2.4999999999999996,
          4.238377933896837,
          5.299038105676659,
          5.060660171779822,
          4.200961894323342,
          3.761622066103164,
          3.9999999999999996,
          4.238377933896834,
          3.799038105676658,
          2.939339828220178,
          2.7009618943233424,
          3.761622066103164,
          5.499999999999999,
          6.359698277456479,
          5.299038105676659,
          2.9393398282201795,
          1.2009618943233438,
          1.640301722543519,
          4,
          6.359698277456479,
          6.799038105676658,
          5.060660171779821,
          2.700961894323342,
          1.6403017225435208,
          2.4999999999999996,
          4.238377933896837,
          5.299038105676659,
          5.060660171779822,
          4.200961894323342,
          3.761622066103164,
          3.9999999999999996,
          4.238377933896834,
          3.799038105676658,
          2.939339828220178,
          2.7009618943233424,
          3.761622066103164,
          5.499999999999999,
          6.359698277456479,
          5.299038105676659,
          2.9393398282201795,
          1.2009618943233438,
          1.640301722543519,
          4,
          6.359698277456479,
          6.799038105676658,
          5.060660171779821,
          2.700961894323342,
          1.6403017225435208,
          2.4999999999999996,
          4.238377933896837,
          5.299038105676659,
          5.060660171779822,
          4.200961894323342,
          3.761622066103164,
          3.9999999999999996,
          4.238377933896834,
          3.799038105676658,
          2.939339828220178,
          2.7009618943233424,
          3.761622066103164,
          5.499999999999999,
          6.359698277456479,
          5.299038105676659,
          2.9393398282201795,
          1.2009618943233438,
          1.640301722543519,
          4,
          6.359698277456479,
          6.799038105676658,
          5.060660171779821,
          2.700961894323342,
          1.6403017225435208,
          2.4999999999999996,
          4.238377933896837,
          5.299038105676659,
          5.060660171779822,
          4.200961894323342,
          3.761622066103164,
          3.9999999999999996,
          4.238377933896834,
          3.799038105676658,
          2.939339828220178,
          2.7009618943233424,
          3.761622066103164,
          5.499999999999999,
          6.359698277456479,
          5.299038105676659,
          2.9393398282201795,
          1.2009618943233438,
          1.640301722543519,
          4,
          6.359698277456479,
          6.799038105676658,
          5.060660171779821,
          2.700961894323342,
          1.6403017225435208,
          2.4999999999999996,
          4.238377933896837,
          5.299038105676659,
          5.060660171779822,
          4.200961894323342,
          3.761622066103164,
          3.9999999999999996,
          4.238377933896834,
          3.799038105676658,
          2.939339828220178,
          2.7009618943233424,
          3.761622066103164,
          5.499999999999999,
          6.359698277456479,
          5.299038105676659,
          2.9393398282201795,
          1.2009618943233438,
          1.640301722543519,
          4,
          6.359698277456479,
          6.799038105676658,
          5.060660171779821,
          2.700961894323342,
          1.6403017225435208,
          2.4999999999999996,
          4.238377933896837,
          5.299038105676659,
          5.060660171779822,
          4.200961894323342,
          3.761622066103164,
          3.9999999999999996,
          4.238377933896834,
          3.799038105676658,
          2.939339828220178,
          2.7009618943233424,
          3.761622066103164,
          5.499999999999999,
          6.359698277456479,
          5.299038105676659,
          2.9393398282201795,
          1.2009618943233438,
          1.640301722543519
         ]
        },
        {
         "name": "loading_crit",
         "type": "scatter",
         "x": [
          "2010-01-01T03:00:00",
          "2010-01-06T00:31:25.649182"
         ],
         "y": [
          4.5,
          4.5
         ]
        }
       ],
       "layout": {
        "hovermode": "closest",
        "legend": {
         "orientation": "h",
         "x": 0,
         "y": -0.2
        },
        "template": {
         "data": {
          "bar": [
           {
            "error_x": {
             "color": "#2a3f5f"
            },
            "error_y": {
             "color": "#2a3f5f"
            },
            "marker": {
             "line": {
              "color": "#E5ECF6",
              "width": 0.5
             }
            },
            "type": "bar"
           }
          ],
          "barpolar": [
           {
            "marker": {
             "line": {
              "color": "#E5ECF6",
              "width": 0.5
             }
            },
            "type": "barpolar"
           }
          ],
          "carpet": [
           {
            "aaxis": {
             "endlinecolor": "#2a3f5f",
             "gridcolor": "white",
             "linecolor": "white",
             "minorgridcolor": "white",
             "startlinecolor": "#2a3f5f"
            },
            "baxis": {
             "endlinecolor": "#2a3f5f",
             "gridcolor": "white",
             "linecolor": "white",
             "minorgridcolor": "white",
             "startlinecolor": "#2a3f5f"
            },
            "type": "carpet"
           }
          ],
          "choropleth": [
           {
            "colorbar": {
             "outlinewidth": 0,
             "ticks": ""
            },
            "type": "choropleth"
           }
          ],
          "contour": [
           {
            "colorbar": {
             "outlinewidth": 0,
             "ticks": ""
            },
            "colorscale": [
             [
              0,
              "#0d0887"
             ],
             [
              0.1111111111111111,
              "#46039f"
             ],
             [
              0.2222222222222222,
              "#7201a8"
             ],
             [
              0.3333333333333333,
              "#9c179e"
             ],
             [
              0.4444444444444444,
              "#bd3786"
             ],
             [
              0.5555555555555556,
              "#d8576b"
             ],
             [
              0.6666666666666666,
              "#ed7953"
             ],
             [
              0.7777777777777778,
              "#fb9f3a"
             ],
             [
              0.8888888888888888,
              "#fdca26"
             ],
             [
              1,
              "#f0f921"
             ]
            ],
            "type": "contour"
           }
          ],
          "contourcarpet": [
           {
            "colorbar": {
             "outlinewidth": 0,
             "ticks": ""
            },
            "type": "contourcarpet"
           }
          ],
          "heatmap": [
           {
            "colorbar": {
             "outlinewidth": 0,
             "ticks": ""
            },
            "colorscale": [
             [
              0,
              "#0d0887"
             ],
             [
              0.1111111111111111,
              "#46039f"
             ],
             [
              0.2222222222222222,
              "#7201a8"
             ],
             [
              0.3333333333333333,
              "#9c179e"
             ],
             [
              0.4444444444444444,
              "#bd3786"
             ],
             [
              0.5555555555555556,
              "#d8576b"
             ],
             [
              0.6666666666666666,
              "#ed7953"
             ],
             [
              0.7777777777777778,
              "#fb9f3a"
             ],
             [
              0.8888888888888888,
              "#fdca26"
             ],
             [
              1,
              "#f0f921"
             ]
            ],
            "type": "heatmap"
           }
          ],
          "heatmapgl": [
           {
            "colorbar": {
             "outlinewidth": 0,
             "ticks": ""
            },
            "colorscale": [
             [
              0,
              "#0d0887"
             ],
             [
              0.1111111111111111,
              "#46039f"
             ],
             [
              0.2222222222222222,
              "#7201a8"
             ],
             [
              0.3333333333333333,
              "#9c179e"
             ],
             [
              0.4444444444444444,
              "#bd3786"
             ],
             [
              0.5555555555555556,
              "#d8576b"
             ],
             [
              0.6666666666666666,
              "#ed7953"
             ],
             [
              0.7777777777777778,
              "#fb9f3a"
             ],
             [
              0.8888888888888888,
              "#fdca26"
             ],
             [
              1,
              "#f0f921"
             ]
            ],
            "type": "heatmapgl"
           }
          ],
          "histogram": [
           {
            "marker": {
             "colorbar": {
              "outlinewidth": 0,
              "ticks": ""
             }
            },
            "type": "histogram"
           }
          ],
          "histogram2d": [
           {
            "colorbar": {
             "outlinewidth": 0,
             "ticks": ""
            },
            "colorscale": [
             [
              0,
              "#0d0887"
             ],
             [
              0.1111111111111111,
              "#46039f"
             ],
             [
              0.2222222222222222,
              "#7201a8"
             ],
             [
              0.3333333333333333,
              "#9c179e"
             ],
             [
              0.4444444444444444,
              "#bd3786"
             ],
             [
              0.5555555555555556,
              "#d8576b"
             ],
             [
              0.6666666666666666,
              "#ed7953"
             ],
             [
              0.7777777777777778,
              "#fb9f3a"
             ],
             [
              0.8888888888888888,
              "#fdca26"
             ],
             [
              1,
              "#f0f921"
             ]
            ],
            "type": "histogram2d"
           }
          ],
          "histogram2dcontour": [
           {
            "colorbar": {
             "outlinewidth": 0,
             "ticks": ""
            },
            "colorscale": [
             [
              0,
              "#0d0887"
             ],
             [
              0.1111111111111111,
              "#46039f"
             ],
             [
              0.2222222222222222,
              "#7201a8"
             ],
             [
              0.3333333333333333,
              "#9c179e"
             ],
             [
              0.4444444444444444,
              "#bd3786"
             ],
             [
              0.5555555555555556,
              "#d8576b"
             ],
             [
              0.6666666666666666,
              "#ed7953"
             ],
             [
              0.7777777777777778,
              "#fb9f3a"
             ],
             [
              0.8888888888888888,
              "#fdca26"
             ],
             [
              1,
              "#f0f921"
             ]
            ],
            "type": "histogram2dcontour"
           }
          ],
          "mesh3d": [
           {
            "colorbar": {
             "outlinewidth": 0,
             "ticks": ""
            },
            "type": "mesh3d"
           }
          ],
          "parcoords": [
           {
            "line": {
             "colorbar": {
              "outlinewidth": 0,
              "ticks": ""
             }
            },
            "type": "parcoords"
           }
          ],
          "pie": [
           {
            "automargin": true,
            "type": "pie"
           }
          ],
          "scatter": [
           {
            "marker": {
             "colorbar": {
              "outlinewidth": 0,
              "ticks": ""
             }
            },
            "type": "scatter"
           }
          ],
          "scatter3d": [
           {
            "line": {
             "colorbar": {
              "outlinewidth": 0,
              "ticks": ""
             }
            },
            "marker": {
             "colorbar": {
              "outlinewidth": 0,
              "ticks": ""
             }
            },
            "type": "scatter3d"
           }
          ],
          "scattercarpet": [
           {
            "marker": {
             "colorbar": {
              "outlinewidth": 0,
              "ticks": ""
             }
            },
            "type": "scattercarpet"
           }
          ],
          "scattergeo": [
           {
            "marker": {
             "colorbar": {
              "outlinewidth": 0,
              "ticks": ""
             }
            },
            "type": "scattergeo"
           }
          ],
          "scattergl": [
           {
            "marker": {
             "colorbar": {
              "outlinewidth": 0,
              "ticks": ""
             }
            },
            "type": "scattergl"
           }
          ],
          "scattermapbox": [
           {
            "marker": {
             "colorbar": {
              "outlinewidth": 0,
              "ticks": ""
             }
            },
            "type": "scattermapbox"
           }
          ],
          "scatterpolar": [
           {
            "marker": {
             "colorbar": {
              "outlinewidth": 0,
              "ticks": ""
             }
            },
            "type": "scatterpolar"
           }
          ],
          "scatterpolargl": [
           {
            "marker": {
             "colorbar": {
              "outlinewidth": 0,
              "ticks": ""
             }
            },
            "type": "scatterpolargl"
           }
          ],
          "scatterternary": [
           {
            "marker": {
             "colorbar": {
              "outlinewidth": 0,
              "ticks": ""
             }
            },
            "type": "scatterternary"
           }
          ],
          "surface": [
           {
            "colorbar": {
             "outlinewidth": 0,
             "ticks": ""
            },
            "colorscale": [
             [
              0,
              "#0d0887"
             ],
             [
              0.1111111111111111,
              "#46039f"
             ],
             [
              0.2222222222222222,
              "#7201a8"
             ],
             [
              0.3333333333333333,
              "#9c179e"
             ],
             [
              0.4444444444444444,
              "#bd3786"
             ],
             [
              0.5555555555555556,
              "#d8576b"
             ],
             [
              0.6666666666666666,
              "#ed7953"
             ],
             [
              0.7777777777777778,
              "#fb9f3a"
             ],
             [
              0.8888888888888888,
              "#fdca26"
             ],
             [
              1,
              "#f0f921"
             ]
            ],
            "type": "surface"
           }
          ],
          "table": [
           {
            "cells": {
             "fill": {
              "color": "#EBF0F8"
             },
             "line": {
              "color": "white"
             }
            },
            "header": {
             "fill": {
              "color": "#C8D4E3"
             },
             "line": {
              "color": "white"
             }
            },
            "type": "table"
           }
          ]
         },
         "layout": {
          "annotationdefaults": {
           "arrowcolor": "#2a3f5f",
           "arrowhead": 0,
           "arrowwidth": 1
          },
          "coloraxis": {
           "colorbar": {
            "outlinewidth": 0,
            "ticks": ""
           }
          },
          "colorscale": {
           "diverging": [
            [
             0,
             "#8e0152"
            ],
            [
             0.1,
             "#c51b7d"
            ],
            [
             0.2,
             "#de77ae"
            ],
            [
             0.3,
             "#f1b6da"
            ],
            [
             0.4,
             "#fde0ef"
            ],
            [
             0.5,
             "#f7f7f7"
            ],
            [
             0.6,
             "#e6f5d0"
            ],
            [
             0.7,
             "#b8e186"
            ],
            [
             0.8,
             "#7fbc41"
            ],
            [
             0.9,
             "#4d9221"
            ],
            [
             1,
             "#276419"
            ]
           ],
           "sequential": [
            [
             0,
             "#0d0887"
            ],
            [
             0.1111111111111111,
             "#46039f"
            ],
            [
             0.2222222222222222,
             "#7201a8"
            ],
            [
             0.3333333333333333,
             "#9c179e"
            ],
            [
             0.4444444444444444,
             "#bd3786"
            ],
            [
             0.5555555555555556,
             "#d8576b"
            ],
            [
             0.6666666666666666,
             "#ed7953"
            ],
            [
             0.7777777777777778,
             "#fb9f3a"
            ],
            [
             0.8888888888888888,
             "#fdca26"
            ],
            [
             1,
             "#f0f921"
            ]
           ],
           "sequentialminus": [
            [
             0,
             "#0d0887"
            ],
            [
             0.1111111111111111,
             "#46039f"
            ],
            [
             0.2222222222222222,
             "#7201a8"
            ],
            [
             0.3333333333333333,
             "#9c179e"
            ],
            [
             0.4444444444444444,
             "#bd3786"
            ],
            [
             0.5555555555555556,
             "#d8576b"
            ],
            [
             0.6666666666666666,
             "#ed7953"
            ],
            [
             0.7777777777777778,
             "#fb9f3a"
            ],
            [
             0.8888888888888888,
             "#fdca26"
            ],
            [
             1,
             "#f0f921"
            ]
           ]
          },
          "colorway": [
           "#636efa",
           "#EF553B",
           "#00cc96",
           "#ab63fa",
           "#FFA15A",
           "#19d3f3",
           "#FF6692",
           "#B6E880",
           "#FF97FF",
           "#FECB52"
          ],
          "font": {
           "color": "#2a3f5f"
          },
          "geo": {
           "bgcolor": "white",
           "lakecolor": "white",
           "landcolor": "#E5ECF6",
           "showlakes": true,
           "showland": true,
           "subunitcolor": "white"
          },
          "hoverlabel": {
           "align": "left"
          },
          "hovermode": "closest",
          "mapbox": {
           "style": "light"
          },
          "paper_bgcolor": "white",
          "plot_bgcolor": "#E5ECF6",
          "polar": {
           "angularaxis": {
            "gridcolor": "white",
            "linecolor": "white",
            "ticks": ""
           },
           "bgcolor": "#E5ECF6",
           "radialaxis": {
            "gridcolor": "white",
            "linecolor": "white",
            "ticks": ""
           }
          },
          "scene": {
           "xaxis": {
            "backgroundcolor": "#E5ECF6",
            "gridcolor": "white",
            "gridwidth": 2,
            "linecolor": "white",
            "showbackground": true,
            "ticks": "",
            "zerolinecolor": "white"
           },
           "yaxis": {
            "backgroundcolor": "#E5ECF6",
            "gridcolor": "white",
            "gridwidth": 2,
            "linecolor": "white",
            "showbackground": true,
            "ticks": "",
            "zerolinecolor": "white"
           },
           "zaxis": {
            "backgroundcolor": "#E5ECF6",
            "gridcolor": "white",
            "gridwidth": 2,
            "linecolor": "white",
            "showbackground": true,
            "ticks": "",
            "zerolinecolor": "white"
           }
          },
          "shapedefaults": {
           "line": {
            "color": "#2a3f5f"
           }
          },
          "ternary": {
           "aaxis": {
            "gridcolor": "white",
            "linecolor": "white",
            "ticks": ""
           },
           "baxis": {
            "gridcolor": "white",
            "linecolor": "white",
            "ticks": ""
           },
           "bgcolor": "#E5ECF6",
           "caxis": {
            "gridcolor": "white",
            "linecolor": "white",
            "ticks": ""
           }
          },
          "title": {
           "x": 0.05
          },
          "xaxis": {
           "automargin": true,
           "gridcolor": "white",
           "linecolor": "white",
           "ticks": "",
           "title": {
            "standoff": 15
           },
           "zerolinecolor": "white",
           "zerolinewidth": 2
          },
          "yaxis": {
           "automargin": true,
           "gridcolor": "white",
           "linecolor": "white",
           "ticks": "",
           "title": {
            "standoff": 15
           },
           "zerolinecolor": "white",
           "zerolinewidth": 2
          }
         }
        },
        "title": {
         "text": "GANTT Chart"
        },
        "xaxis": {
         "range": [
          "2010-01-01T03:00:00",
          "2010-01-06T00:31:25.649182"
         ],
         "title": {
          "font": {
           "color": "#7f7f7f",
           "family": "Courier New, monospace",
           "size": 18
          },
          "text": "Time"
         }
        },
        "yaxis": {
         "title": {
          "font": {
           "color": "#7f7f7f",
           "family": "Courier New, monospace",
           "size": 18
          },
          "text": "Activities"
         }
        }
       }
      },
      "text/html": [
       "<div>                            <div id=\"f5ba9fef-e6f4-4705-8aa6-a5d4141d1414\" class=\"plotly-graph-div\" style=\"height:525px; width:100%;\"></div>            <script type=\"text/javascript\">                require([\"plotly\"], function(Plotly) {                    window.PLOTLYENV=window.PLOTLYENV || {};                                    if (document.getElementById(\"f5ba9fef-e6f4-4705-8aa6-a5d4141d1414\")) {                    Plotly.newPlot(                        \"f5ba9fef-e6f4-4705-8aa6-a5d4141d1414\",                        [{\"connectgaps\": false, \"hoverinfo\": \"y+name\", \"line\": {\"color\": \"rgb(235,31,94)\", \"width\": 10}, \"mode\": \"lines\", \"name\": \"9273d7b0-9fb1-477c-9062-7d5ef5278638\", \"type\": \"scatter\", \"x\": [\"2010-01-01T05:00:00\", \"2010-01-01T05:00:00\", \"2010-01-01T05:15:42.824591\", \"2010-01-01T05:15:42.824591\", \"2010-01-01T05:15:42.824591\", \"2010-01-01T07:31:25.649182\", \"2010-01-01T07:31:25.649182\", \"2010-01-01T07:47:08.473773\", \"2010-01-01T07:47:08.473773\", \"2010-01-01T07:47:08.473773\", \"2010-01-01T12:15:42.824591\", \"2010-01-01T12:15:42.824591\", \"2010-01-01T12:31:25.649182\", \"2010-01-01T12:31:25.649182\", \"2010-01-01T12:31:25.649182\", \"2010-01-01T14:47:08.473773\", \"2010-01-01T14:47:08.473773\", \"2010-01-01T15:02:51.298365\", \"2010-01-01T15:02:51.298365\", \"2010-01-01T15:02:51.298365\", \"2010-01-01T17:18:34.122956\", \"2010-01-01T17:18:34.122956\", \"2010-01-01T17:34:16.947547\", \"2010-01-01T17:34:16.947547\", \"2010-01-01T17:34:16.947547\", \"2010-01-01T23:15:42.824591\", \"2010-01-01T23:15:42.824591\", \"2010-01-01T23:31:25.649182\", \"2010-01-01T23:31:25.649182\", \"2010-01-01T23:31:25.649182\", \"2010-01-02T05:00:00\", \"2010-01-02T05:00:00\", \"2010-01-02T05:15:42.824591\", \"2010-01-02T05:15:42.824591\", \"2010-01-02T05:15:42.824591\", \"2010-01-02T07:31:25.649182\", \"2010-01-02T07:31:25.649182\", \"2010-01-02T07:47:08.473773\", \"2010-01-02T07:47:08.473773\", \"2010-01-02T07:47:08.473773\", \"2010-01-02T12:15:42.824591\", \"2010-01-02T12:15:42.824591\", \"2010-01-02T12:31:25.649182\", \"2010-01-02T12:31:25.649182\", \"2010-01-02T12:31:25.649182\", \"2010-01-02T14:47:08.473773\", \"2010-01-02T14:47:08.473773\", \"2010-01-02T15:02:51.298365\", \"2010-01-02T15:02:51.298365\", \"2010-01-02T15:02:51.298365\", \"2010-01-02T17:18:34.122956\", \"2010-01-02T17:18:34.122956\", \"2010-01-02T17:34:16.947547\", \"2010-01-02T17:34:16.947547\", \"2010-01-02T17:34:16.947547\", \"2010-01-02T23:15:42.824591\", \"2010-01-02T23:15:42.824591\", \"2010-01-02T23:31:25.649182\", \"2010-01-02T23:31:25.649182\", \"2010-01-02T23:31:25.649182\", \"2010-01-03T05:00:00\", \"2010-01-03T05:00:00\", \"2010-01-03T05:15:42.824591\", \"2010-01-03T05:15:42.824591\", \"2010-01-03T05:15:42.824591\", \"2010-01-03T07:31:25.649182\", \"2010-01-03T07:31:25.649182\", \"2010-01-03T07:47:08.473773\", \"2010-01-03T07:47:08.473773\", \"2010-01-03T07:47:08.473773\", \"2010-01-03T12:15:42.824591\", \"2010-01-03T12:15:42.824591\", \"2010-01-03T12:31:25.649182\", \"2010-01-03T12:31:25.649182\", \"2010-01-03T12:31:25.649182\", \"2010-01-03T14:47:08.473773\", \"2010-01-03T14:47:08.473773\", \"2010-01-03T15:02:51.298365\", \"2010-01-03T15:02:51.298365\", \"2010-01-03T15:02:51.298365\", \"2010-01-03T17:18:34.122956\", \"2010-01-03T17:18:34.122956\", \"2010-01-03T17:34:16.947547\", \"2010-01-03T17:34:16.947547\", \"2010-01-03T17:34:16.947547\", \"2010-01-03T23:15:42.824591\", \"2010-01-03T23:15:42.824591\", \"2010-01-03T23:31:25.649182\", \"2010-01-03T23:31:25.649182\", \"2010-01-03T23:31:25.649182\", \"2010-01-04T05:00:00\", \"2010-01-04T05:00:00\", \"2010-01-04T05:15:42.824591\", \"2010-01-04T05:15:42.824591\", \"2010-01-04T05:15:42.824591\", \"2010-01-04T07:31:25.649182\", \"2010-01-04T07:31:25.649182\", \"2010-01-04T07:47:08.473773\", \"2010-01-04T07:47:08.473773\", \"2010-01-04T07:47:08.473773\", \"2010-01-04T12:15:42.824591\", \"2010-01-04T12:15:42.824591\", \"2010-01-04T12:31:25.649182\", \"2010-01-04T12:31:25.649182\", \"2010-01-04T12:31:25.649182\", \"2010-01-04T14:47:08.473773\", \"2010-01-04T14:47:08.473773\", \"2010-01-04T15:02:51.298365\", \"2010-01-04T15:02:51.298365\", \"2010-01-04T15:02:51.298365\", \"2010-01-04T17:18:34.122956\", \"2010-01-04T17:18:34.122956\", \"2010-01-04T17:34:16.947547\", \"2010-01-04T17:34:16.947547\", \"2010-01-04T17:34:16.947547\", \"2010-01-04T23:15:42.824591\", \"2010-01-04T23:15:42.824591\", \"2010-01-04T23:31:25.649182\", \"2010-01-04T23:31:25.649182\", \"2010-01-04T23:31:25.649182\", \"2010-01-05T05:00:00\", \"2010-01-05T05:00:00\", \"2010-01-05T05:15:42.824591\", \"2010-01-05T05:15:42.824591\", \"2010-01-05T05:15:42.824591\", \"2010-01-05T07:31:25.649182\", \"2010-01-05T07:31:25.649182\", \"2010-01-05T07:47:08.473773\", \"2010-01-05T07:47:08.473773\", \"2010-01-05T07:47:08.473773\", \"2010-01-05T12:15:42.824591\", \"2010-01-05T12:15:42.824591\", \"2010-01-05T12:31:25.649182\", \"2010-01-05T12:31:25.649182\", \"2010-01-05T12:31:25.649182\", \"2010-01-05T14:47:08.473773\", \"2010-01-05T14:47:08.473773\", \"2010-01-05T15:02:51.298365\", \"2010-01-05T15:02:51.298365\", \"2010-01-05T15:02:51.298365\", \"2010-01-05T17:18:34.122956\", \"2010-01-05T17:18:34.122956\", \"2010-01-05T17:34:16.947547\", \"2010-01-05T17:34:16.947547\", \"2010-01-05T17:34:16.947547\", \"2010-01-05T23:15:42.824591\", \"2010-01-05T23:15:42.824591\", \"2010-01-05T23:31:25.649182\", \"2010-01-05T23:31:25.649182\", \"2010-01-05T23:31:25.649182\"], \"y\": [0, 0, 0, 0, null, 0, 0, 0, 0, null, 0, 0, 0, 0, null, 0, 0, 0, 0, null, 0, 0, 0, 0, null, 0, 0, 0, 0, null, 0, 0, 0, 0, null, 0, 0, 0, 0, null, 0, 0, 0, 0, null, 0, 0, 0, 0, null, 0, 0, 0, 0, null, 0, 0, 0, 0, null, 0, 0, 0, 0, null, 0, 0, 0, 0, null, 0, 0, 0, 0, null, 0, 0, 0, 0, null, 0, 0, 0, 0, null, 0, 0, 0, 0, null, 0, 0, 0, 0, null, 0, 0, 0, 0, null, 0, 0, 0, 0, null, 0, 0, 0, 0, null, 0, 0, 0, 0, null, 0, 0, 0, 0, null, 0, 0, 0, 0, null, 0, 0, 0, 0, null, 0, 0, 0, 0, null, 0, 0, 0, 0, null, 0, 0, 0, 0, null, 0, 0, 0, 0, null]}, {\"connectgaps\": false, \"hoverinfo\": \"y+name\", \"line\": {\"color\": \"rgb(43,95,158)\", \"width\": 10}, \"mode\": \"lines\", \"name\": \"97184462-c8e7-48b3-ba88-e5180e670484\", \"type\": \"scatter\", \"x\": [\"2010-01-01T04:00:00\", \"2010-01-01T04:00:00\", \"2010-01-01T05:00:00\", \"2010-01-01T05:00:00\", \"2010-01-01T05:00:00\", \"2010-01-01T06:31:25.649182\", \"2010-01-01T06:31:25.649182\", \"2010-01-01T07:31:25.649182\", \"2010-01-01T07:31:25.649182\", \"2010-01-01T07:31:25.649182\", \"2010-01-01T11:15:42.824591\", \"2010-01-01T11:15:42.824591\", \"2010-01-01T12:15:42.824591\", \"2010-01-01T12:15:42.824591\", \"2010-01-01T12:15:42.824591\", \"2010-01-01T13:47:08.473773\", \"2010-01-01T13:47:08.473773\", \"2010-01-01T14:47:08.473773\", \"2010-01-01T14:47:08.473773\", \"2010-01-01T14:47:08.473773\", \"2010-01-01T16:18:34.122956\", \"2010-01-01T16:18:34.122956\", \"2010-01-01T17:18:34.122956\", \"2010-01-01T17:18:34.122956\", \"2010-01-01T17:18:34.122956\", \"2010-01-01T22:15:42.824591\", \"2010-01-01T22:15:42.824591\", \"2010-01-01T23:15:42.824591\", \"2010-01-01T23:15:42.824591\", \"2010-01-01T23:15:42.824591\", \"2010-01-02T04:00:00\", \"2010-01-02T04:00:00\", \"2010-01-02T05:00:00\", \"2010-01-02T05:00:00\", \"2010-01-02T05:00:00\", \"2010-01-02T06:31:25.649182\", \"2010-01-02T06:31:25.649182\", \"2010-01-02T07:31:25.649182\", \"2010-01-02T07:31:25.649182\", \"2010-01-02T07:31:25.649182\", \"2010-01-02T11:15:42.824591\", \"2010-01-02T11:15:42.824591\", \"2010-01-02T12:15:42.824591\", \"2010-01-02T12:15:42.824591\", \"2010-01-02T12:15:42.824591\", \"2010-01-02T13:47:08.473773\", \"2010-01-02T13:47:08.473773\", \"2010-01-02T14:47:08.473773\", \"2010-01-02T14:47:08.473773\", \"2010-01-02T14:47:08.473773\", \"2010-01-02T16:18:34.122956\", \"2010-01-02T16:18:34.122956\", \"2010-01-02T17:18:34.122956\", \"2010-01-02T17:18:34.122956\", \"2010-01-02T17:18:34.122956\", \"2010-01-02T22:15:42.824591\", \"2010-01-02T22:15:42.824591\", \"2010-01-02T23:15:42.824591\", \"2010-01-02T23:15:42.824591\", \"2010-01-02T23:15:42.824591\", \"2010-01-03T04:00:00\", \"2010-01-03T04:00:00\", \"2010-01-03T05:00:00\", \"2010-01-03T05:00:00\", \"2010-01-03T05:00:00\", \"2010-01-03T06:31:25.649182\", \"2010-01-03T06:31:25.649182\", \"2010-01-03T07:31:25.649182\", \"2010-01-03T07:31:25.649182\", \"2010-01-03T07:31:25.649182\", \"2010-01-03T11:15:42.824591\", \"2010-01-03T11:15:42.824591\", \"2010-01-03T12:15:42.824591\", \"2010-01-03T12:15:42.824591\", \"2010-01-03T12:15:42.824591\", \"2010-01-03T13:47:08.473773\", \"2010-01-03T13:47:08.473773\", \"2010-01-03T14:47:08.473773\", \"2010-01-03T14:47:08.473773\", \"2010-01-03T14:47:08.473773\", \"2010-01-03T16:18:34.122956\", \"2010-01-03T16:18:34.122956\", \"2010-01-03T17:18:34.122956\", \"2010-01-03T17:18:34.122956\", \"2010-01-03T17:18:34.122956\", \"2010-01-03T22:15:42.824591\", \"2010-01-03T22:15:42.824591\", \"2010-01-03T23:15:42.824591\", \"2010-01-03T23:15:42.824591\", \"2010-01-03T23:15:42.824591\", \"2010-01-04T04:00:00\", \"2010-01-04T04:00:00\", \"2010-01-04T05:00:00\", \"2010-01-04T05:00:00\", \"2010-01-04T05:00:00\", \"2010-01-04T06:31:25.649182\", \"2010-01-04T06:31:25.649182\", \"2010-01-04T07:31:25.649182\", \"2010-01-04T07:31:25.649182\", \"2010-01-04T07:31:25.649182\", \"2010-01-04T11:15:42.824591\", \"2010-01-04T11:15:42.824591\", \"2010-01-04T12:15:42.824591\", \"2010-01-04T12:15:42.824591\", \"2010-01-04T12:15:42.824591\", \"2010-01-04T13:47:08.473773\", \"2010-01-04T13:47:08.473773\", \"2010-01-04T14:47:08.473773\", \"2010-01-04T14:47:08.473773\", \"2010-01-04T14:47:08.473773\", \"2010-01-04T16:18:34.122956\", \"2010-01-04T16:18:34.122956\", \"2010-01-04T17:18:34.122956\", \"2010-01-04T17:18:34.122956\", \"2010-01-04T17:18:34.122956\", \"2010-01-04T22:15:42.824591\", \"2010-01-04T22:15:42.824591\", \"2010-01-04T23:15:42.824591\", \"2010-01-04T23:15:42.824591\", \"2010-01-04T23:15:42.824591\", \"2010-01-05T04:00:00\", \"2010-01-05T04:00:00\", \"2010-01-05T05:00:00\", \"2010-01-05T05:00:00\", \"2010-01-05T05:00:00\", \"2010-01-05T06:31:25.649182\", \"2010-01-05T06:31:25.649182\", \"2010-01-05T07:31:25.649182\", \"2010-01-05T07:31:25.649182\", \"2010-01-05T07:31:25.649182\", \"2010-01-05T11:15:42.824591\", \"2010-01-05T11:15:42.824591\", \"2010-01-05T12:15:42.824591\", \"2010-01-05T12:15:42.824591\", \"2010-01-05T12:15:42.824591\", \"2010-01-05T13:47:08.473773\", \"2010-01-05T13:47:08.473773\", \"2010-01-05T14:47:08.473773\", \"2010-01-05T14:47:08.473773\", \"2010-01-05T14:47:08.473773\", \"2010-01-05T16:18:34.122956\", \"2010-01-05T16:18:34.122956\", \"2010-01-05T17:18:34.122956\", \"2010-01-05T17:18:34.122956\", \"2010-01-05T17:18:34.122956\", \"2010-01-05T22:15:42.824591\", \"2010-01-05T22:15:42.824591\", \"2010-01-05T23:15:42.824591\", \"2010-01-05T23:15:42.824591\", \"2010-01-05T23:15:42.824591\"], \"y\": [0, 0, 0, 0, null, 0, 0, 0, 0, null, 0, 0, 0, 0, null, 0, 0, 0, 0, null, 0, 0, 0, 0, null, 0, 0, 0, 0, null, 0, 0, 0, 0, null, 0, 0, 0, 0, null, 0, 0, 0, 0, null, 0, 0, 0, 0, null, 0, 0, 0, 0, null, 0, 0, 0, 0, null, 0, 0, 0, 0, null, 0, 0, 0, 0, null, 0, 0, 0, 0, null, 0, 0, 0, 0, null, 0, 0, 0, 0, null, 0, 0, 0, 0, null, 0, 0, 0, 0, null, 0, 0, 0, 0, null, 0, 0, 0, 0, null, 0, 0, 0, 0, null, 0, 0, 0, 0, null, 0, 0, 0, 0, null, 0, 0, 0, 0, null, 0, 0, 0, 0, null, 0, 0, 0, 0, null, 0, 0, 0, 0, null, 0, 0, 0, 0, null, 0, 0, 0, 0, null]}, {\"connectgaps\": false, \"hoverinfo\": \"y+name\", \"line\": {\"color\": \"rgb(107,159,222)\", \"width\": 10}, \"mode\": \"lines\", \"name\": \"e4413e05-95b2-4203-9af0-0c31e7fc7b48\", \"type\": \"scatter\", \"x\": [\"2010-01-01T03:00:00\", \"2010-01-01T03:00:00\", \"2010-01-01T03:00:00\", \"2010-01-01T03:00:00\", \"2010-01-01T03:00:00\", \"2010-01-01T06:15:42.824591\", \"2010-01-01T06:15:42.824591\", \"2010-01-01T06:31:25.649182\", \"2010-01-01T06:31:25.649182\", \"2010-01-01T06:31:25.649182\", \"2010-01-01T11:00:00\", \"2010-01-01T11:00:00\", \"2010-01-01T11:15:42.824591\", \"2010-01-01T11:15:42.824591\", \"2010-01-01T11:15:42.824591\", \"2010-01-01T13:31:25.649182\", \"2010-01-01T13:31:25.649182\", \"2010-01-01T13:47:08.473773\", \"2010-01-01T13:47:08.473773\", \"2010-01-01T13:47:08.473773\", \"2010-01-01T16:02:51.298365\", \"2010-01-01T16:02:51.298365\", \"2010-01-01T16:18:34.122956\", \"2010-01-01T16:18:34.122956\", \"2010-01-01T16:18:34.122956\", \"2010-01-01T22:00:00\", \"2010-01-01T22:00:00\", \"2010-01-01T22:15:42.824591\", \"2010-01-01T22:15:42.824591\", \"2010-01-01T22:15:42.824591\", \"2010-01-02T03:00:00\", \"2010-01-02T03:00:00\", \"2010-01-02T03:15:42.824591\", \"2010-01-02T03:15:42.824591\", \"2010-01-02T03:15:42.824591\", \"2010-01-02T06:15:42.824591\", \"2010-01-02T06:15:42.824591\", \"2010-01-02T06:31:25.649182\", \"2010-01-02T06:31:25.649182\", \"2010-01-02T06:31:25.649182\", \"2010-01-02T11:00:00\", \"2010-01-02T11:00:00\", \"2010-01-02T11:15:42.824591\", \"2010-01-02T11:15:42.824591\", \"2010-01-02T11:15:42.824591\", \"2010-01-02T13:31:25.649182\", \"2010-01-02T13:31:25.649182\", \"2010-01-02T13:47:08.473773\", \"2010-01-02T13:47:08.473773\", \"2010-01-02T13:47:08.473773\", \"2010-01-02T16:02:51.298365\", \"2010-01-02T16:02:51.298365\", \"2010-01-02T16:18:34.122956\", \"2010-01-02T16:18:34.122956\", \"2010-01-02T16:18:34.122956\", \"2010-01-02T22:00:00\", \"2010-01-02T22:00:00\", \"2010-01-02T22:15:42.824591\", \"2010-01-02T22:15:42.824591\", \"2010-01-02T22:15:42.824591\", \"2010-01-03T03:00:00\", \"2010-01-03T03:00:00\", \"2010-01-03T03:15:42.824591\", \"2010-01-03T03:15:42.824591\", \"2010-01-03T03:15:42.824591\", \"2010-01-03T06:15:42.824591\", \"2010-01-03T06:15:42.824591\", \"2010-01-03T06:31:25.649182\", \"2010-01-03T06:31:25.649182\", \"2010-01-03T06:31:25.649182\", \"2010-01-03T11:00:00\", \"2010-01-03T11:00:00\", \"2010-01-03T11:15:42.824591\", \"2010-01-03T11:15:42.824591\", \"2010-01-03T11:15:42.824591\", \"2010-01-03T13:31:25.649182\", \"2010-01-03T13:31:25.649182\", \"2010-01-03T13:47:08.473773\", \"2010-01-03T13:47:08.473773\", \"2010-01-03T13:47:08.473773\", \"2010-01-03T16:02:51.298365\", \"2010-01-03T16:02:51.298365\", \"2010-01-03T16:18:34.122956\", \"2010-01-03T16:18:34.122956\", \"2010-01-03T16:18:34.122956\", \"2010-01-03T22:00:00\", \"2010-01-03T22:00:00\", \"2010-01-03T22:15:42.824591\", \"2010-01-03T22:15:42.824591\", \"2010-01-03T22:15:42.824591\", \"2010-01-04T03:00:00\", \"2010-01-04T03:00:00\", \"2010-01-04T03:15:42.824591\", \"2010-01-04T03:15:42.824591\", \"2010-01-04T03:15:42.824591\", \"2010-01-04T06:15:42.824591\", \"2010-01-04T06:15:42.824591\", \"2010-01-04T06:31:25.649182\", \"2010-01-04T06:31:25.649182\", \"2010-01-04T06:31:25.649182\", \"2010-01-04T11:00:00\", \"2010-01-04T11:00:00\", \"2010-01-04T11:15:42.824591\", \"2010-01-04T11:15:42.824591\", \"2010-01-04T11:15:42.824591\", \"2010-01-04T13:31:25.649182\", \"2010-01-04T13:31:25.649182\", \"2010-01-04T13:47:08.473773\", \"2010-01-04T13:47:08.473773\", \"2010-01-04T13:47:08.473773\", \"2010-01-04T16:02:51.298365\", \"2010-01-04T16:02:51.298365\", \"2010-01-04T16:18:34.122956\", \"2010-01-04T16:18:34.122956\", \"2010-01-04T16:18:34.122956\", \"2010-01-04T22:00:00\", \"2010-01-04T22:00:00\", \"2010-01-04T22:15:42.824591\", \"2010-01-04T22:15:42.824591\", \"2010-01-04T22:15:42.824591\", \"2010-01-05T03:00:00\", \"2010-01-05T03:00:00\", \"2010-01-05T03:15:42.824591\", \"2010-01-05T03:15:42.824591\", \"2010-01-05T03:15:42.824591\", \"2010-01-05T06:15:42.824591\", \"2010-01-05T06:15:42.824591\", \"2010-01-05T06:31:25.649182\", \"2010-01-05T06:31:25.649182\", \"2010-01-05T06:31:25.649182\", \"2010-01-05T11:00:00\", \"2010-01-05T11:00:00\", \"2010-01-05T11:15:42.824591\", \"2010-01-05T11:15:42.824591\", \"2010-01-05T11:15:42.824591\", \"2010-01-05T13:31:25.649182\", \"2010-01-05T13:31:25.649182\", \"2010-01-05T13:47:08.473773\", \"2010-01-05T13:47:08.473773\", \"2010-01-05T13:47:08.473773\", \"2010-01-05T16:02:51.298365\", \"2010-01-05T16:02:51.298365\", \"2010-01-05T16:18:34.122956\", \"2010-01-05T16:18:34.122956\", \"2010-01-05T16:18:34.122956\", \"2010-01-05T22:00:00\", \"2010-01-05T22:00:00\", \"2010-01-05T22:15:42.824591\", \"2010-01-05T22:15:42.824591\", \"2010-01-05T22:15:42.824591\"], \"y\": [0, 0, 0, 0, null, 0, 0, 0, 0, null, 0, 0, 0, 0, null, 0, 0, 0, 0, null, 0, 0, 0, 0, null, 0, 0, 0, 0, null, 0, 0, 0, 0, null, 0, 0, 0, 0, null, 0, 0, 0, 0, null, 0, 0, 0, 0, null, 0, 0, 0, 0, null, 0, 0, 0, 0, null, 0, 0, 0, 0, null, 0, 0, 0, 0, null, 0, 0, 0, 0, null, 0, 0, 0, 0, null, 0, 0, 0, 0, null, 0, 0, 0, 0, null, 0, 0, 0, 0, null, 0, 0, 0, 0, null, 0, 0, 0, 0, null, 0, 0, 0, 0, null, 0, 0, 0, 0, null, 0, 0, 0, 0, null, 0, 0, 0, 0, null, 0, 0, 0, 0, null, 0, 0, 0, 0, null, 0, 0, 0, 0, null, 0, 0, 0, 0, null, 0, 0, 0, 0, null]}, {\"connectgaps\": false, \"hoverinfo\": \"y+name\", \"line\": {\"color\": \"rgb(171,223,30)\", \"width\": 10}, \"mode\": \"lines\", \"name\": \"6de3f087-bc0c-4bd1-bd2d-4d2392657a95\", \"type\": \"scatter\", \"x\": [\"2010-01-01T05:15:42.824591\", \"2010-01-01T05:15:42.824591\", \"2010-01-01T06:15:42.824591\", \"2010-01-01T06:15:42.824591\", \"2010-01-01T06:15:42.824591\", \"2010-01-01T10:00:00\", \"2010-01-01T10:00:00\", \"2010-01-01T11:00:00\", \"2010-01-01T11:00:00\", \"2010-01-01T11:00:00\", \"2010-01-01T12:31:25.649182\", \"2010-01-01T12:31:25.649182\", \"2010-01-01T13:31:25.649182\", \"2010-01-01T13:31:25.649182\", \"2010-01-01T13:31:25.649182\", \"2010-01-01T15:02:51.298365\", \"2010-01-01T15:02:51.298365\", \"2010-01-01T16:02:51.298365\", \"2010-01-01T16:02:51.298365\", \"2010-01-01T16:02:51.298365\", \"2010-01-01T21:00:00\", \"2010-01-01T21:00:00\", \"2010-01-01T22:00:00\", \"2010-01-01T22:00:00\", \"2010-01-01T22:00:00\", \"2010-01-01T23:31:25.649182\", \"2010-01-01T23:31:25.649182\", \"2010-01-02T00:31:25.649182\", \"2010-01-02T00:31:25.649182\", \"2010-01-02T00:31:25.649182\", \"2010-01-02T05:15:42.824591\", \"2010-01-02T05:15:42.824591\", \"2010-01-02T06:15:42.824591\", \"2010-01-02T06:15:42.824591\", \"2010-01-02T06:15:42.824591\", \"2010-01-02T10:00:00\", \"2010-01-02T10:00:00\", \"2010-01-02T11:00:00\", \"2010-01-02T11:00:00\", \"2010-01-02T11:00:00\", \"2010-01-02T12:31:25.649182\", \"2010-01-02T12:31:25.649182\", \"2010-01-02T13:31:25.649182\", \"2010-01-02T13:31:25.649182\", \"2010-01-02T13:31:25.649182\", \"2010-01-02T15:02:51.298365\", \"2010-01-02T15:02:51.298365\", \"2010-01-02T16:02:51.298365\", \"2010-01-02T16:02:51.298365\", \"2010-01-02T16:02:51.298365\", \"2010-01-02T21:00:00\", \"2010-01-02T21:00:00\", \"2010-01-02T22:00:00\", \"2010-01-02T22:00:00\", \"2010-01-02T22:00:00\", \"2010-01-02T23:31:25.649182\", \"2010-01-02T23:31:25.649182\", \"2010-01-03T00:31:25.649182\", \"2010-01-03T00:31:25.649182\", \"2010-01-03T00:31:25.649182\", \"2010-01-03T05:15:42.824591\", \"2010-01-03T05:15:42.824591\", \"2010-01-03T06:15:42.824591\", \"2010-01-03T06:15:42.824591\", \"2010-01-03T06:15:42.824591\", \"2010-01-03T10:00:00\", \"2010-01-03T10:00:00\", \"2010-01-03T11:00:00\", \"2010-01-03T11:00:00\", \"2010-01-03T11:00:00\", \"2010-01-03T12:31:25.649182\", \"2010-01-03T12:31:25.649182\", \"2010-01-03T13:31:25.649182\", \"2010-01-03T13:31:25.649182\", \"2010-01-03T13:31:25.649182\", \"2010-01-03T15:02:51.298365\", \"2010-01-03T15:02:51.298365\", \"2010-01-03T16:02:51.298365\", \"2010-01-03T16:02:51.298365\", \"2010-01-03T16:02:51.298365\", \"2010-01-03T21:00:00\", \"2010-01-03T21:00:00\", \"2010-01-03T22:00:00\", \"2010-01-03T22:00:00\", \"2010-01-03T22:00:00\", \"2010-01-03T23:31:25.649182\", \"2010-01-03T23:31:25.649182\", \"2010-01-04T00:31:25.649182\", \"2010-01-04T00:31:25.649182\", \"2010-01-04T00:31:25.649182\", \"2010-01-04T05:15:42.824591\", \"2010-01-04T05:15:42.824591\", \"2010-01-04T06:15:42.824591\", \"2010-01-04T06:15:42.824591\", \"2010-01-04T06:15:42.824591\", \"2010-01-04T10:00:00\", \"2010-01-04T10:00:00\", \"2010-01-04T11:00:00\", \"2010-01-04T11:00:00\", \"2010-01-04T11:00:00\", \"2010-01-04T12:31:25.649182\", \"2010-01-04T12:31:25.649182\", \"2010-01-04T13:31:25.649182\", \"2010-01-04T13:31:25.649182\", \"2010-01-04T13:31:25.649182\", \"2010-01-04T15:02:51.298365\", \"2010-01-04T15:02:51.298365\", \"2010-01-04T16:02:51.298365\", \"2010-01-04T16:02:51.298365\", \"2010-01-04T16:02:51.298365\", \"2010-01-04T21:00:00\", \"2010-01-04T21:00:00\", \"2010-01-04T22:00:00\", \"2010-01-04T22:00:00\", \"2010-01-04T22:00:00\", \"2010-01-04T23:31:25.649182\", \"2010-01-04T23:31:25.649182\", \"2010-01-05T00:31:25.649182\", \"2010-01-05T00:31:25.649182\", \"2010-01-05T00:31:25.649182\", \"2010-01-05T05:15:42.824591\", \"2010-01-05T05:15:42.824591\", \"2010-01-05T06:15:42.824591\", \"2010-01-05T06:15:42.824591\", \"2010-01-05T06:15:42.824591\", \"2010-01-05T10:00:00\", \"2010-01-05T10:00:00\", \"2010-01-05T11:00:00\", \"2010-01-05T11:00:00\", \"2010-01-05T11:00:00\", \"2010-01-05T12:31:25.649182\", \"2010-01-05T12:31:25.649182\", \"2010-01-05T13:31:25.649182\", \"2010-01-05T13:31:25.649182\", \"2010-01-05T13:31:25.649182\", \"2010-01-05T15:02:51.298365\", \"2010-01-05T15:02:51.298365\", \"2010-01-05T16:02:51.298365\", \"2010-01-05T16:02:51.298365\", \"2010-01-05T16:02:51.298365\", \"2010-01-05T21:00:00\", \"2010-01-05T21:00:00\", \"2010-01-05T22:00:00\", \"2010-01-05T22:00:00\", \"2010-01-05T22:00:00\", \"2010-01-05T23:31:25.649182\", \"2010-01-05T23:31:25.649182\", \"2010-01-06T00:31:25.649182\", \"2010-01-06T00:31:25.649182\", \"2010-01-06T00:31:25.649182\"], \"y\": [0, 0, 0, 0, null, 0, 0, 0, 0, null, 0, 0, 0, 0, null, 0, 0, 0, 0, null, 0, 0, 0, 0, null, 0, 0, 0, 0, null, 0, 0, 0, 0, null, 0, 0, 0, 0, null, 0, 0, 0, 0, null, 0, 0, 0, 0, null, 0, 0, 0, 0, null, 0, 0, 0, 0, null, 0, 0, 0, 0, null, 0, 0, 0, 0, null, 0, 0, 0, 0, null, 0, 0, 0, 0, null, 0, 0, 0, 0, null, 0, 0, 0, 0, null, 0, 0, 0, 0, null, 0, 0, 0, 0, null, 0, 0, 0, 0, null, 0, 0, 0, 0, null, 0, 0, 0, 0, null, 0, 0, 0, 0, null, 0, 0, 0, 0, null, 0, 0, 0, 0, null, 0, 0, 0, 0, null, 0, 0, 0, 0, null, 0, 0, 0, 0, null, 0, 0, 0, 0, null]}, {\"name\": \"sailing_crit\", \"type\": \"scatter\", \"x\": [\"2010-01-01T03:00:00\", \"2010-01-06T00:31:25.649182\"], \"y\": [6, 6]}, {\"name\": \"Weather\", \"type\": \"scatter\", \"x\": [\"2010-01-01T00:00:00\", \"2010-01-01T01:00:00\", \"2010-01-01T02:00:00\", \"2010-01-01T03:00:00\", \"2010-01-01T04:00:00\", \"2010-01-01T05:00:00\", \"2010-01-01T06:00:00\", \"2010-01-01T07:00:00\", \"2010-01-01T08:00:00\", \"2010-01-01T09:00:00\", \"2010-01-01T10:00:00\", \"2010-01-01T11:00:00\", \"2010-01-01T12:00:00\", \"2010-01-01T13:00:00\", \"2010-01-01T14:00:00\", \"2010-01-01T15:00:00\", \"2010-01-01T16:00:00\", \"2010-01-01T17:00:00\", \"2010-01-01T18:00:00\", \"2010-01-01T19:00:00\", \"2010-01-01T20:00:00\", \"2010-01-01T21:00:00\", \"2010-01-01T22:00:00\", \"2010-01-01T23:00:00\", \"2010-01-02T00:00:00\", \"2010-01-02T01:00:00\", \"2010-01-02T02:00:00\", \"2010-01-02T03:00:00\", \"2010-01-02T04:00:00\", \"2010-01-02T05:00:00\", \"2010-01-02T06:00:00\", \"2010-01-02T07:00:00\", \"2010-01-02T08:00:00\", \"2010-01-02T09:00:00\", \"2010-01-02T10:00:00\", \"2010-01-02T11:00:00\", \"2010-01-02T12:00:00\", \"2010-01-02T13:00:00\", \"2010-01-02T14:00:00\", \"2010-01-02T15:00:00\", \"2010-01-02T16:00:00\", \"2010-01-02T17:00:00\", \"2010-01-02T18:00:00\", \"2010-01-02T19:00:00\", \"2010-01-02T20:00:00\", \"2010-01-02T21:00:00\", \"2010-01-02T22:00:00\", \"2010-01-02T23:00:00\", \"2010-01-03T00:00:00\", \"2010-01-03T01:00:00\", \"2010-01-03T02:00:00\", \"2010-01-03T03:00:00\", \"2010-01-03T04:00:00\", \"2010-01-03T05:00:00\", \"2010-01-03T06:00:00\", \"2010-01-03T07:00:00\", \"2010-01-03T08:00:00\", \"2010-01-03T09:00:00\", \"2010-01-03T10:00:00\", \"2010-01-03T11:00:00\", \"2010-01-03T12:00:00\", \"2010-01-03T13:00:00\", \"2010-01-03T14:00:00\", \"2010-01-03T15:00:00\", \"2010-01-03T16:00:00\", \"2010-01-03T17:00:00\", \"2010-01-03T18:00:00\", \"2010-01-03T19:00:00\", \"2010-01-03T20:00:00\", \"2010-01-03T21:00:00\", \"2010-01-03T22:00:00\", \"2010-01-03T23:00:00\", \"2010-01-04T00:00:00\", \"2010-01-04T01:00:00\", \"2010-01-04T02:00:00\", \"2010-01-04T03:00:00\", \"2010-01-04T04:00:00\", \"2010-01-04T05:00:00\", \"2010-01-04T06:00:00\", \"2010-01-04T07:00:00\", \"2010-01-04T08:00:00\", \"2010-01-04T09:00:00\", \"2010-01-04T10:00:00\", \"2010-01-04T11:00:00\", \"2010-01-04T12:00:00\", \"2010-01-04T13:00:00\", \"2010-01-04T14:00:00\", \"2010-01-04T15:00:00\", \"2010-01-04T16:00:00\", \"2010-01-04T17:00:00\", \"2010-01-04T18:00:00\", \"2010-01-04T19:00:00\", \"2010-01-04T20:00:00\", \"2010-01-04T21:00:00\", \"2010-01-04T22:00:00\", \"2010-01-04T23:00:00\", \"2010-01-05T00:00:00\", \"2010-01-05T01:00:00\", \"2010-01-05T02:00:00\", \"2010-01-05T03:00:00\", \"2010-01-05T04:00:00\", \"2010-01-05T05:00:00\", \"2010-01-05T06:00:00\", \"2010-01-05T07:00:00\", \"2010-01-05T08:00:00\", \"2010-01-05T09:00:00\", \"2010-01-05T10:00:00\", \"2010-01-05T11:00:00\", \"2010-01-05T12:00:00\", \"2010-01-05T13:00:00\", \"2010-01-05T14:00:00\", \"2010-01-05T15:00:00\", \"2010-01-05T16:00:00\", \"2010-01-05T17:00:00\", \"2010-01-05T18:00:00\", \"2010-01-05T19:00:00\", \"2010-01-05T20:00:00\", \"2010-01-05T21:00:00\", \"2010-01-05T22:00:00\", \"2010-01-05T23:00:00\", \"2010-01-06T00:00:00\", \"2010-01-06T01:00:00\", \"2010-01-06T02:00:00\", \"2010-01-06T03:00:00\", \"2010-01-06T04:00:00\", \"2010-01-06T05:00:00\", \"2010-01-06T06:00:00\", \"2010-01-06T07:00:00\", \"2010-01-06T08:00:00\", \"2010-01-06T09:00:00\", \"2010-01-06T10:00:00\", \"2010-01-06T11:00:00\", \"2010-01-06T12:00:00\", \"2010-01-06T13:00:00\", \"2010-01-06T14:00:00\", \"2010-01-06T15:00:00\", \"2010-01-06T16:00:00\", \"2010-01-06T17:00:00\", \"2010-01-06T18:00:00\", \"2010-01-06T19:00:00\", \"2010-01-06T20:00:00\", \"2010-01-06T21:00:00\", \"2010-01-06T22:00:00\", \"2010-01-06T23:00:00\", \"2010-01-07T00:00:00\", \"2010-01-07T01:00:00\", \"2010-01-07T02:00:00\", \"2010-01-07T03:00:00\", \"2010-01-07T04:00:00\", \"2010-01-07T05:00:00\", \"2010-01-07T06:00:00\", \"2010-01-07T07:00:00\", \"2010-01-07T08:00:00\", \"2010-01-07T09:00:00\", \"2010-01-07T10:00:00\", \"2010-01-07T11:00:00\", \"2010-01-07T12:00:00\", \"2010-01-07T13:00:00\", \"2010-01-07T14:00:00\", \"2010-01-07T15:00:00\", \"2010-01-07T16:00:00\", \"2010-01-07T17:00:00\", \"2010-01-07T18:00:00\", \"2010-01-07T19:00:00\", \"2010-01-07T20:00:00\", \"2010-01-07T21:00:00\", \"2010-01-07T22:00:00\", \"2010-01-07T23:00:00\", \"2010-01-08T00:00:00\", \"2010-01-08T01:00:00\", \"2010-01-08T02:00:00\", \"2010-01-08T03:00:00\", \"2010-01-08T04:00:00\", \"2010-01-08T05:00:00\", \"2010-01-08T06:00:00\", \"2010-01-08T07:00:00\", \"2010-01-08T08:00:00\", \"2010-01-08T09:00:00\", \"2010-01-08T10:00:00\", \"2010-01-08T11:00:00\", \"2010-01-08T12:00:00\", \"2010-01-08T13:00:00\", \"2010-01-08T14:00:00\", \"2010-01-08T15:00:00\", \"2010-01-08T16:00:00\", \"2010-01-08T17:00:00\", \"2010-01-08T18:00:00\", \"2010-01-08T19:00:00\", \"2010-01-08T20:00:00\", \"2010-01-08T21:00:00\", \"2010-01-08T22:00:00\", \"2010-01-08T23:00:00\"], \"y\": [4.0, 6.359698277456479, 6.799038105676658, 5.060660171779821, 2.700961894323342, 1.6403017225435208, 2.4999999999999996, 4.238377933896837, 5.299038105676659, 5.060660171779822, 4.200961894323342, 3.761622066103164, 3.9999999999999996, 4.238377933896834, 3.799038105676658, 2.939339828220178, 2.7009618943233424, 3.761622066103164, 5.499999999999999, 6.359698277456479, 5.299038105676659, 2.9393398282201795, 1.2009618943233438, 1.640301722543519, 4.0, 6.359698277456479, 6.799038105676658, 5.060660171779821, 2.700961894323342, 1.6403017225435208, 2.4999999999999996, 4.238377933896837, 5.299038105676659, 5.060660171779822, 4.200961894323342, 3.761622066103164, 3.9999999999999996, 4.238377933896834, 3.799038105676658, 2.939339828220178, 2.7009618943233424, 3.761622066103164, 5.499999999999999, 6.359698277456479, 5.299038105676659, 2.9393398282201795, 1.2009618943233438, 1.640301722543519, 4.0, 6.359698277456479, 6.799038105676658, 5.060660171779821, 2.700961894323342, 1.6403017225435208, 2.4999999999999996, 4.238377933896837, 5.299038105676659, 5.060660171779822, 4.200961894323342, 3.761622066103164, 3.9999999999999996, 4.238377933896834, 3.799038105676658, 2.939339828220178, 2.7009618943233424, 3.761622066103164, 5.499999999999999, 6.359698277456479, 5.299038105676659, 2.9393398282201795, 1.2009618943233438, 1.640301722543519, 4.0, 6.359698277456479, 6.799038105676658, 5.060660171779821, 2.700961894323342, 1.6403017225435208, 2.4999999999999996, 4.238377933896837, 5.299038105676659, 5.060660171779822, 4.200961894323342, 3.761622066103164, 3.9999999999999996, 4.238377933896834, 3.799038105676658, 2.939339828220178, 2.7009618943233424, 3.761622066103164, 5.499999999999999, 6.359698277456479, 5.299038105676659, 2.9393398282201795, 1.2009618943233438, 1.640301722543519, 4.0, 6.359698277456479, 6.799038105676658, 5.060660171779821, 2.700961894323342, 1.6403017225435208, 2.4999999999999996, 4.238377933896837, 5.299038105676659, 5.060660171779822, 4.200961894323342, 3.761622066103164, 3.9999999999999996, 4.238377933896834, 3.799038105676658, 2.939339828220178, 2.7009618943233424, 3.761622066103164, 5.499999999999999, 6.359698277456479, 5.299038105676659, 2.9393398282201795, 1.2009618943233438, 1.640301722543519, 4.0, 6.359698277456479, 6.799038105676658, 5.060660171779821, 2.700961894323342, 1.6403017225435208, 2.4999999999999996, 4.238377933896837, 5.299038105676659, 5.060660171779822, 4.200961894323342, 3.761622066103164, 3.9999999999999996, 4.238377933896834, 3.799038105676658, 2.939339828220178, 2.7009618943233424, 3.761622066103164, 5.499999999999999, 6.359698277456479, 5.299038105676659, 2.9393398282201795, 1.2009618943233438, 1.640301722543519, 4.0, 6.359698277456479, 6.799038105676658, 5.060660171779821, 2.700961894323342, 1.6403017225435208, 2.4999999999999996, 4.238377933896837, 5.299038105676659, 5.060660171779822, 4.200961894323342, 3.761622066103164, 3.9999999999999996, 4.238377933896834, 3.799038105676658, 2.939339828220178, 2.7009618943233424, 3.761622066103164, 5.499999999999999, 6.359698277456479, 5.299038105676659, 2.9393398282201795, 1.2009618943233438, 1.640301722543519, 4.0, 6.359698277456479, 6.799038105676658, 5.060660171779821, 2.700961894323342, 1.6403017225435208, 2.4999999999999996, 4.238377933896837, 5.299038105676659, 5.060660171779822, 4.200961894323342, 3.761622066103164, 3.9999999999999996, 4.238377933896834, 3.799038105676658, 2.939339828220178, 2.7009618943233424, 3.761622066103164, 5.499999999999999, 6.359698277456479, 5.299038105676659, 2.9393398282201795, 1.2009618943233438, 1.640301722543519]}, {\"name\": \"loading_crit\", \"type\": \"scatter\", \"x\": [\"2010-01-01T03:00:00\", \"2010-01-06T00:31:25.649182\"], \"y\": [4.5, 4.5]}],                        {\"hovermode\": \"closest\", \"legend\": {\"orientation\": \"h\", \"x\": 0, \"y\": -0.2}, \"template\": {\"data\": {\"bar\": [{\"error_x\": {\"color\": \"#2a3f5f\"}, \"error_y\": {\"color\": \"#2a3f5f\"}, \"marker\": {\"line\": {\"color\": \"#E5ECF6\", \"width\": 0.5}}, \"type\": \"bar\"}], \"barpolar\": [{\"marker\": {\"line\": {\"color\": \"#E5ECF6\", \"width\": 0.5}}, \"type\": \"barpolar\"}], \"carpet\": [{\"aaxis\": {\"endlinecolor\": \"#2a3f5f\", \"gridcolor\": \"white\", \"linecolor\": \"white\", \"minorgridcolor\": \"white\", \"startlinecolor\": \"#2a3f5f\"}, \"baxis\": {\"endlinecolor\": \"#2a3f5f\", \"gridcolor\": \"white\", \"linecolor\": \"white\", \"minorgridcolor\": \"white\", \"startlinecolor\": \"#2a3f5f\"}, \"type\": \"carpet\"}], \"choropleth\": [{\"colorbar\": {\"outlinewidth\": 0, \"ticks\": \"\"}, \"type\": \"choropleth\"}], \"contour\": [{\"colorbar\": {\"outlinewidth\": 0, \"ticks\": \"\"}, \"colorscale\": [[0.0, \"#0d0887\"], [0.1111111111111111, \"#46039f\"], [0.2222222222222222, \"#7201a8\"], [0.3333333333333333, \"#9c179e\"], [0.4444444444444444, \"#bd3786\"], [0.5555555555555556, \"#d8576b\"], [0.6666666666666666, \"#ed7953\"], [0.7777777777777778, \"#fb9f3a\"], [0.8888888888888888, \"#fdca26\"], [1.0, \"#f0f921\"]], \"type\": \"contour\"}], \"contourcarpet\": [{\"colorbar\": {\"outlinewidth\": 0, \"ticks\": \"\"}, \"type\": \"contourcarpet\"}], \"heatmap\": [{\"colorbar\": {\"outlinewidth\": 0, \"ticks\": \"\"}, \"colorscale\": [[0.0, \"#0d0887\"], [0.1111111111111111, \"#46039f\"], [0.2222222222222222, \"#7201a8\"], [0.3333333333333333, \"#9c179e\"], [0.4444444444444444, \"#bd3786\"], [0.5555555555555556, \"#d8576b\"], [0.6666666666666666, \"#ed7953\"], [0.7777777777777778, \"#fb9f3a\"], [0.8888888888888888, \"#fdca26\"], [1.0, \"#f0f921\"]], \"type\": \"heatmap\"}], \"heatmapgl\": [{\"colorbar\": {\"outlinewidth\": 0, \"ticks\": \"\"}, \"colorscale\": [[0.0, \"#0d0887\"], [0.1111111111111111, \"#46039f\"], [0.2222222222222222, \"#7201a8\"], [0.3333333333333333, \"#9c179e\"], [0.4444444444444444, \"#bd3786\"], [0.5555555555555556, \"#d8576b\"], [0.6666666666666666, \"#ed7953\"], [0.7777777777777778, \"#fb9f3a\"], [0.8888888888888888, \"#fdca26\"], [1.0, \"#f0f921\"]], \"type\": \"heatmapgl\"}], \"histogram\": [{\"marker\": {\"colorbar\": {\"outlinewidth\": 0, \"ticks\": \"\"}}, \"type\": \"histogram\"}], \"histogram2d\": [{\"colorbar\": {\"outlinewidth\": 0, \"ticks\": \"\"}, \"colorscale\": [[0.0, \"#0d0887\"], [0.1111111111111111, \"#46039f\"], [0.2222222222222222, \"#7201a8\"], [0.3333333333333333, \"#9c179e\"], [0.4444444444444444, \"#bd3786\"], [0.5555555555555556, \"#d8576b\"], [0.6666666666666666, \"#ed7953\"], [0.7777777777777778, \"#fb9f3a\"], [0.8888888888888888, \"#fdca26\"], [1.0, \"#f0f921\"]], \"type\": \"histogram2d\"}], \"histogram2dcontour\": [{\"colorbar\": {\"outlinewidth\": 0, \"ticks\": \"\"}, \"colorscale\": [[0.0, \"#0d0887\"], [0.1111111111111111, \"#46039f\"], [0.2222222222222222, \"#7201a8\"], [0.3333333333333333, \"#9c179e\"], [0.4444444444444444, \"#bd3786\"], [0.5555555555555556, \"#d8576b\"], [0.6666666666666666, \"#ed7953\"], [0.7777777777777778, \"#fb9f3a\"], [0.8888888888888888, \"#fdca26\"], [1.0, \"#f0f921\"]], \"type\": \"histogram2dcontour\"}], \"mesh3d\": [{\"colorbar\": {\"outlinewidth\": 0, \"ticks\": \"\"}, \"type\": \"mesh3d\"}], \"parcoords\": [{\"line\": {\"colorbar\": {\"outlinewidth\": 0, \"ticks\": \"\"}}, \"type\": \"parcoords\"}], \"pie\": [{\"automargin\": true, \"type\": \"pie\"}], \"scatter\": [{\"marker\": {\"colorbar\": {\"outlinewidth\": 0, \"ticks\": \"\"}}, \"type\": \"scatter\"}], \"scatter3d\": [{\"line\": {\"colorbar\": {\"outlinewidth\": 0, \"ticks\": \"\"}}, \"marker\": {\"colorbar\": {\"outlinewidth\": 0, \"ticks\": \"\"}}, \"type\": \"scatter3d\"}], \"scattercarpet\": [{\"marker\": {\"colorbar\": {\"outlinewidth\": 0, \"ticks\": \"\"}}, \"type\": \"scattercarpet\"}], \"scattergeo\": [{\"marker\": {\"colorbar\": {\"outlinewidth\": 0, \"ticks\": \"\"}}, \"type\": \"scattergeo\"}], \"scattergl\": [{\"marker\": {\"colorbar\": {\"outlinewidth\": 0, \"ticks\": \"\"}}, \"type\": \"scattergl\"}], \"scattermapbox\": [{\"marker\": {\"colorbar\": {\"outlinewidth\": 0, \"ticks\": \"\"}}, \"type\": \"scattermapbox\"}], \"scatterpolar\": [{\"marker\": {\"colorbar\": {\"outlinewidth\": 0, \"ticks\": \"\"}}, \"type\": \"scatterpolar\"}], \"scatterpolargl\": [{\"marker\": {\"colorbar\": {\"outlinewidth\": 0, \"ticks\": \"\"}}, \"type\": \"scatterpolargl\"}], \"scatterternary\": [{\"marker\": {\"colorbar\": {\"outlinewidth\": 0, \"ticks\": \"\"}}, \"type\": \"scatterternary\"}], \"surface\": [{\"colorbar\": {\"outlinewidth\": 0, \"ticks\": \"\"}, \"colorscale\": [[0.0, \"#0d0887\"], [0.1111111111111111, \"#46039f\"], [0.2222222222222222, \"#7201a8\"], [0.3333333333333333, \"#9c179e\"], [0.4444444444444444, \"#bd3786\"], [0.5555555555555556, \"#d8576b\"], [0.6666666666666666, \"#ed7953\"], [0.7777777777777778, \"#fb9f3a\"], [0.8888888888888888, \"#fdca26\"], [1.0, \"#f0f921\"]], \"type\": \"surface\"}], \"table\": [{\"cells\": {\"fill\": {\"color\": \"#EBF0F8\"}, \"line\": {\"color\": \"white\"}}, \"header\": {\"fill\": {\"color\": \"#C8D4E3\"}, \"line\": {\"color\": \"white\"}}, \"type\": \"table\"}]}, \"layout\": {\"annotationdefaults\": {\"arrowcolor\": \"#2a3f5f\", \"arrowhead\": 0, \"arrowwidth\": 1}, \"coloraxis\": {\"colorbar\": {\"outlinewidth\": 0, \"ticks\": \"\"}}, \"colorscale\": {\"diverging\": [[0, \"#8e0152\"], [0.1, \"#c51b7d\"], [0.2, \"#de77ae\"], [0.3, \"#f1b6da\"], [0.4, \"#fde0ef\"], [0.5, \"#f7f7f7\"], [0.6, \"#e6f5d0\"], [0.7, \"#b8e186\"], [0.8, \"#7fbc41\"], [0.9, \"#4d9221\"], [1, \"#276419\"]], \"sequential\": [[0.0, \"#0d0887\"], [0.1111111111111111, \"#46039f\"], [0.2222222222222222, \"#7201a8\"], [0.3333333333333333, \"#9c179e\"], [0.4444444444444444, \"#bd3786\"], [0.5555555555555556, \"#d8576b\"], [0.6666666666666666, \"#ed7953\"], [0.7777777777777778, \"#fb9f3a\"], [0.8888888888888888, \"#fdca26\"], [1.0, \"#f0f921\"]], \"sequentialminus\": [[0.0, \"#0d0887\"], [0.1111111111111111, \"#46039f\"], [0.2222222222222222, \"#7201a8\"], [0.3333333333333333, \"#9c179e\"], [0.4444444444444444, \"#bd3786\"], [0.5555555555555556, \"#d8576b\"], [0.6666666666666666, \"#ed7953\"], [0.7777777777777778, \"#fb9f3a\"], [0.8888888888888888, \"#fdca26\"], [1.0, \"#f0f921\"]]}, \"colorway\": [\"#636efa\", \"#EF553B\", \"#00cc96\", \"#ab63fa\", \"#FFA15A\", \"#19d3f3\", \"#FF6692\", \"#B6E880\", \"#FF97FF\", \"#FECB52\"], \"font\": {\"color\": \"#2a3f5f\"}, \"geo\": {\"bgcolor\": \"white\", \"lakecolor\": \"white\", \"landcolor\": \"#E5ECF6\", \"showlakes\": true, \"showland\": true, \"subunitcolor\": \"white\"}, \"hoverlabel\": {\"align\": \"left\"}, \"hovermode\": \"closest\", \"mapbox\": {\"style\": \"light\"}, \"paper_bgcolor\": \"white\", \"plot_bgcolor\": \"#E5ECF6\", \"polar\": {\"angularaxis\": {\"gridcolor\": \"white\", \"linecolor\": \"white\", \"ticks\": \"\"}, \"bgcolor\": \"#E5ECF6\", \"radialaxis\": {\"gridcolor\": \"white\", \"linecolor\": \"white\", \"ticks\": \"\"}}, \"scene\": {\"xaxis\": {\"backgroundcolor\": \"#E5ECF6\", \"gridcolor\": \"white\", \"gridwidth\": 2, \"linecolor\": \"white\", \"showbackground\": true, \"ticks\": \"\", \"zerolinecolor\": \"white\"}, \"yaxis\": {\"backgroundcolor\": \"#E5ECF6\", \"gridcolor\": \"white\", \"gridwidth\": 2, \"linecolor\": \"white\", \"showbackground\": true, \"ticks\": \"\", \"zerolinecolor\": \"white\"}, \"zaxis\": {\"backgroundcolor\": \"#E5ECF6\", \"gridcolor\": \"white\", \"gridwidth\": 2, \"linecolor\": \"white\", \"showbackground\": true, \"ticks\": \"\", \"zerolinecolor\": \"white\"}}, \"shapedefaults\": {\"line\": {\"color\": \"#2a3f5f\"}}, \"ternary\": {\"aaxis\": {\"gridcolor\": \"white\", \"linecolor\": \"white\", \"ticks\": \"\"}, \"baxis\": {\"gridcolor\": \"white\", \"linecolor\": \"white\", \"ticks\": \"\"}, \"bgcolor\": \"#E5ECF6\", \"caxis\": {\"gridcolor\": \"white\", \"linecolor\": \"white\", \"ticks\": \"\"}}, \"title\": {\"x\": 0.05}, \"xaxis\": {\"automargin\": true, \"gridcolor\": \"white\", \"linecolor\": \"white\", \"ticks\": \"\", \"title\": {\"standoff\": 15}, \"zerolinecolor\": \"white\", \"zerolinewidth\": 2}, \"yaxis\": {\"automargin\": true, \"gridcolor\": \"white\", \"linecolor\": \"white\", \"ticks\": \"\", \"title\": {\"standoff\": 15}, \"zerolinecolor\": \"white\", \"zerolinewidth\": 2}}}, \"title\": {\"text\": \"GANTT Chart\"}, \"xaxis\": {\"range\": [\"2010-01-01T03:00:00\", \"2010-01-06T00:31:25.649182\"], \"title\": {\"font\": {\"color\": \"#7f7f7f\", \"family\": \"Courier New, monospace\", \"size\": 18}, \"text\": \"Time\"}}, \"yaxis\": {\"title\": {\"font\": {\"color\": \"#7f7f7f\", \"family\": \"Courier New, monospace\", \"size\": 18}, \"text\": \"Activities\"}}},                        {\"responsive\": true}                    ).then(function(){\n",
       "                            \n",
       "var gd = document.getElementById('f5ba9fef-e6f4-4705-8aa6-a5d4141d1414');\n",
       "var x = new MutationObserver(function (mutations, observer) {{\n",
       "        var display = window.getComputedStyle(gd).display;\n",
       "        if (!display || display === 'none') {{\n",
       "            console.log([gd, 'removed!']);\n",
       "            Plotly.purge(gd);\n",
       "            observer.disconnect();\n",
       "        }}\n",
       "}});\n",
       "\n",
       "// Listen for the removal of the full notebook cells\n",
       "var notebookContainer = gd.closest('#notebook-container');\n",
       "if (notebookContainer) {{\n",
       "    x.observe(notebookContainer, {childList: true});\n",
       "}}\n",
       "\n",
       "// Listen for the clearing of the current output cell\n",
       "var outputEl = gd.closest('.output');\n",
       "if (outputEl) {{\n",
       "    x.observe(outputEl, {childList: true});\n",
       "}}\n",
       "\n",
       "                        })                };                });            </script>        </div>"
      ]
     },
     "metadata": {},
     "output_type": "display_data"
    }
   ],
   "source": [
    "res = plot.get_gantt_chart([vessel01], y_scale=\"numbers\", static=True)\n",
    "data = res['data']\n",
    "layout = res['layout']\n",
    "\n",
    "data.append({\n",
    "    \"name\": \"sailing_crit\",\n",
    "    \"x\":[vessel01.log[\"Timestamp\"][0].isoformat(), vessel01.log[\"Timestamp\"][-1].isoformat()],\n",
    "    \"y\":[sailing_crit.maximum,sailing_crit.maximum],\n",
    "})\n",
    "\n",
    "data.append({\n",
    "    \"name\": \"Weather\",\n",
    "    \"x\":metocean_df.index,\n",
    "    \"y\":metocean_df[sailing_crit.condition],\n",
    "})\n",
    "\n",
    "data.append({\n",
    "    \"name\": \"loading_crit\",\n",
    "    \"x\":[vessel01.log[\"Timestamp\"][0].isoformat(), vessel01.log[\"Timestamp\"][-1].isoformat()],\n",
    "    \"y\":[loading_crit.maximum,loading_crit.maximum],\n",
    "})\n",
    "\n",
    "go.Figure(data=data, layout=layout)"
   ]
  },
  {
   "cell_type": "markdown",
   "metadata": {},
   "source": [
    "**_Some observations:_**\n",
    "* The moving criterion states that sailing can only commence when Hs is below 6 m, and there is a window of at least 3600 seconds. While the first data point from the metocean file has a Hs below 6 m, viz. 4 m, the next data point has a Hs higher than 6 m. Since the time interval is exactly 3600 seconds the vessel decides to wait. The first data point with a Hs lower than 6 m is found at 03:00 hours. The vessel then starts 'sailing empty'. However, since the vessels origin is 'to_site', 'sailing empty' takes 0 seconds. \n",
    "* The vessel is ready to start loading at 03:00 hours. However, the loading criterion states that loading can only commence when Hs is below 4.5 m. The first time this happens in the metocean dataseries is 04:00 o'clock. So the loading commences at 04:00 hours. "
   ]
  },
  {
   "cell_type": "code",
   "execution_count": 14,
   "metadata": {},
   "outputs": [
    {
     "data": {
      "text/html": [
       "        <script type=\"text/javascript\">\n",
       "        window.PlotlyConfig = {MathJaxConfig: 'local'};\n",
       "        if (window.MathJax) {MathJax.Hub.Config({SVG: {font: \"STIX-Web\"}});}\n",
       "        if (typeof require !== 'undefined') {\n",
       "        require.undef(\"plotly\");\n",
       "        requirejs.config({\n",
       "            paths: {\n",
       "                'plotly': ['https://cdn.plot.ly/plotly-latest.min']\n",
       "            }\n",
       "        });\n",
       "        require(['plotly'], function(Plotly) {\n",
       "            window._Plotly = Plotly;\n",
       "        });\n",
       "        }\n",
       "        </script>\n",
       "        "
      ]
     },
     "metadata": {},
     "output_type": "display_data"
    },
    {
     "data": {
      "application/vnd.plotly.v1+json": {
       "config": {
        "linkText": "Export to plot.ly",
        "plotlyServerURL": "https://plot.ly",
        "showLink": false
       },
       "data": [
        {
         "connectgaps": false,
         "hoverinfo": "y+name",
         "line": {
          "color": "rgb(62,196,75)",
          "width": 10
         },
         "mode": "lines",
         "name": "sailing empty",
         "type": "scatter",
         "x": [
          "2010-01-01T03:00:00",
          "2010-01-01T03:00:00",
          "2010-01-01T03:00:00",
          "2010-01-01T03:00:00",
          "2010-01-01T03:00:00",
          "2010-01-01T06:15:42.824591",
          "2010-01-01T06:15:42.824591",
          "2010-01-01T06:31:25.649182",
          "2010-01-01T06:31:25.649182",
          "2010-01-01T06:31:25.649182",
          "2010-01-01T11:00:00",
          "2010-01-01T11:00:00",
          "2010-01-01T11:15:42.824591",
          "2010-01-01T11:15:42.824591",
          "2010-01-01T11:15:42.824591",
          "2010-01-01T13:31:25.649182",
          "2010-01-01T13:31:25.649182",
          "2010-01-01T13:47:08.473773",
          "2010-01-01T13:47:08.473773",
          "2010-01-01T13:47:08.473773",
          "2010-01-01T16:02:51.298365",
          "2010-01-01T16:02:51.298365",
          "2010-01-01T16:18:34.122956",
          "2010-01-01T16:18:34.122956",
          "2010-01-01T16:18:34.122956",
          "2010-01-01T22:00:00",
          "2010-01-01T22:00:00",
          "2010-01-01T22:15:42.824591",
          "2010-01-01T22:15:42.824591",
          "2010-01-01T22:15:42.824591",
          "2010-01-02T03:00:00",
          "2010-01-02T03:00:00",
          "2010-01-02T03:15:42.824591",
          "2010-01-02T03:15:42.824591",
          "2010-01-02T03:15:42.824591",
          "2010-01-02T06:15:42.824591",
          "2010-01-02T06:15:42.824591",
          "2010-01-02T06:31:25.649182",
          "2010-01-02T06:31:25.649182",
          "2010-01-02T06:31:25.649182",
          "2010-01-02T11:00:00",
          "2010-01-02T11:00:00",
          "2010-01-02T11:15:42.824591",
          "2010-01-02T11:15:42.824591",
          "2010-01-02T11:15:42.824591",
          "2010-01-02T13:31:25.649182",
          "2010-01-02T13:31:25.649182",
          "2010-01-02T13:47:08.473773",
          "2010-01-02T13:47:08.473773",
          "2010-01-02T13:47:08.473773",
          "2010-01-02T16:02:51.298365",
          "2010-01-02T16:02:51.298365",
          "2010-01-02T16:18:34.122956",
          "2010-01-02T16:18:34.122956",
          "2010-01-02T16:18:34.122956",
          "2010-01-02T22:00:00",
          "2010-01-02T22:00:00",
          "2010-01-02T22:15:42.824591",
          "2010-01-02T22:15:42.824591",
          "2010-01-02T22:15:42.824591",
          "2010-01-03T03:00:00",
          "2010-01-03T03:00:00",
          "2010-01-03T03:15:42.824591",
          "2010-01-03T03:15:42.824591",
          "2010-01-03T03:15:42.824591",
          "2010-01-03T06:15:42.824591",
          "2010-01-03T06:15:42.824591",
          "2010-01-03T06:31:25.649182",
          "2010-01-03T06:31:25.649182",
          "2010-01-03T06:31:25.649182",
          "2010-01-03T11:00:00",
          "2010-01-03T11:00:00",
          "2010-01-03T11:15:42.824591",
          "2010-01-03T11:15:42.824591",
          "2010-01-03T11:15:42.824591",
          "2010-01-03T13:31:25.649182",
          "2010-01-03T13:31:25.649182",
          "2010-01-03T13:47:08.473773",
          "2010-01-03T13:47:08.473773",
          "2010-01-03T13:47:08.473773",
          "2010-01-03T16:02:51.298365",
          "2010-01-03T16:02:51.298365",
          "2010-01-03T16:18:34.122956",
          "2010-01-03T16:18:34.122956",
          "2010-01-03T16:18:34.122956",
          "2010-01-03T22:00:00",
          "2010-01-03T22:00:00",
          "2010-01-03T22:15:42.824591",
          "2010-01-03T22:15:42.824591",
          "2010-01-03T22:15:42.824591",
          "2010-01-04T03:00:00",
          "2010-01-04T03:00:00",
          "2010-01-04T03:15:42.824591",
          "2010-01-04T03:15:42.824591",
          "2010-01-04T03:15:42.824591",
          "2010-01-04T06:15:42.824591",
          "2010-01-04T06:15:42.824591",
          "2010-01-04T06:31:25.649182",
          "2010-01-04T06:31:25.649182",
          "2010-01-04T06:31:25.649182",
          "2010-01-04T11:00:00",
          "2010-01-04T11:00:00",
          "2010-01-04T11:15:42.824591",
          "2010-01-04T11:15:42.824591",
          "2010-01-04T11:15:42.824591",
          "2010-01-04T13:31:25.649182",
          "2010-01-04T13:31:25.649182",
          "2010-01-04T13:47:08.473773",
          "2010-01-04T13:47:08.473773",
          "2010-01-04T13:47:08.473773",
          "2010-01-04T16:02:51.298365",
          "2010-01-04T16:02:51.298365",
          "2010-01-04T16:18:34.122956",
          "2010-01-04T16:18:34.122956",
          "2010-01-04T16:18:34.122956",
          "2010-01-04T22:00:00",
          "2010-01-04T22:00:00",
          "2010-01-04T22:15:42.824591",
          "2010-01-04T22:15:42.824591",
          "2010-01-04T22:15:42.824591",
          "2010-01-05T03:00:00",
          "2010-01-05T03:00:00",
          "2010-01-05T03:15:42.824591",
          "2010-01-05T03:15:42.824591",
          "2010-01-05T03:15:42.824591",
          "2010-01-05T06:15:42.824591",
          "2010-01-05T06:15:42.824591",
          "2010-01-05T06:31:25.649182",
          "2010-01-05T06:31:25.649182",
          "2010-01-05T06:31:25.649182",
          "2010-01-05T11:00:00",
          "2010-01-05T11:00:00",
          "2010-01-05T11:15:42.824591",
          "2010-01-05T11:15:42.824591",
          "2010-01-05T11:15:42.824591",
          "2010-01-05T13:31:25.649182",
          "2010-01-05T13:31:25.649182",
          "2010-01-05T13:47:08.473773",
          "2010-01-05T13:47:08.473773",
          "2010-01-05T13:47:08.473773",
          "2010-01-05T16:02:51.298365",
          "2010-01-05T16:02:51.298365",
          "2010-01-05T16:18:34.122956",
          "2010-01-05T16:18:34.122956",
          "2010-01-05T16:18:34.122956",
          "2010-01-05T22:00:00",
          "2010-01-05T22:00:00",
          "2010-01-05T22:15:42.824591",
          "2010-01-05T22:15:42.824591",
          "2010-01-05T22:15:42.824591"
         ],
         "y": [
          "sailing empty",
          "sailing empty",
          "sailing empty",
          "sailing empty",
          null,
          "sailing empty",
          "sailing empty",
          "sailing empty",
          "sailing empty",
          null,
          "sailing empty",
          "sailing empty",
          "sailing empty",
          "sailing empty",
          null,
          "sailing empty",
          "sailing empty",
          "sailing empty",
          "sailing empty",
          null,
          "sailing empty",
          "sailing empty",
          "sailing empty",
          "sailing empty",
          null,
          "sailing empty",
          "sailing empty",
          "sailing empty",
          "sailing empty",
          null,
          "sailing empty",
          "sailing empty",
          "sailing empty",
          "sailing empty",
          null,
          "sailing empty",
          "sailing empty",
          "sailing empty",
          "sailing empty",
          null,
          "sailing empty",
          "sailing empty",
          "sailing empty",
          "sailing empty",
          null,
          "sailing empty",
          "sailing empty",
          "sailing empty",
          "sailing empty",
          null,
          "sailing empty",
          "sailing empty",
          "sailing empty",
          "sailing empty",
          null,
          "sailing empty",
          "sailing empty",
          "sailing empty",
          "sailing empty",
          null,
          "sailing empty",
          "sailing empty",
          "sailing empty",
          "sailing empty",
          null,
          "sailing empty",
          "sailing empty",
          "sailing empty",
          "sailing empty",
          null,
          "sailing empty",
          "sailing empty",
          "sailing empty",
          "sailing empty",
          null,
          "sailing empty",
          "sailing empty",
          "sailing empty",
          "sailing empty",
          null,
          "sailing empty",
          "sailing empty",
          "sailing empty",
          "sailing empty",
          null,
          "sailing empty",
          "sailing empty",
          "sailing empty",
          "sailing empty",
          null,
          "sailing empty",
          "sailing empty",
          "sailing empty",
          "sailing empty",
          null,
          "sailing empty",
          "sailing empty",
          "sailing empty",
          "sailing empty",
          null,
          "sailing empty",
          "sailing empty",
          "sailing empty",
          "sailing empty",
          null,
          "sailing empty",
          "sailing empty",
          "sailing empty",
          "sailing empty",
          null,
          "sailing empty",
          "sailing empty",
          "sailing empty",
          "sailing empty",
          null,
          "sailing empty",
          "sailing empty",
          "sailing empty",
          "sailing empty",
          null,
          "sailing empty",
          "sailing empty",
          "sailing empty",
          "sailing empty",
          null,
          "sailing empty",
          "sailing empty",
          "sailing empty",
          "sailing empty",
          null,
          "sailing empty",
          "sailing empty",
          "sailing empty",
          "sailing empty",
          null,
          "sailing empty",
          "sailing empty",
          "sailing empty",
          "sailing empty",
          null,
          "sailing empty",
          "sailing empty",
          "sailing empty",
          "sailing empty",
          null,
          "sailing empty",
          "sailing empty",
          "sailing empty",
          "sailing empty",
          null
         ]
        },
        {
         "connectgaps": false,
         "hoverinfo": "y+name",
         "line": {
          "color": "rgb(126,4,139)",
          "width": 10
         },
         "mode": "lines",
         "name": "loading",
         "type": "scatter",
         "x": [
          "2010-01-01T04:00:00",
          "2010-01-01T04:00:00",
          "2010-01-01T05:00:00",
          "2010-01-01T05:00:00",
          "2010-01-01T05:00:00",
          "2010-01-01T06:31:25.649182",
          "2010-01-01T06:31:25.649182",
          "2010-01-01T07:31:25.649182",
          "2010-01-01T07:31:25.649182",
          "2010-01-01T07:31:25.649182",
          "2010-01-01T11:15:42.824591",
          "2010-01-01T11:15:42.824591",
          "2010-01-01T12:15:42.824591",
          "2010-01-01T12:15:42.824591",
          "2010-01-01T12:15:42.824591",
          "2010-01-01T13:47:08.473773",
          "2010-01-01T13:47:08.473773",
          "2010-01-01T14:47:08.473773",
          "2010-01-01T14:47:08.473773",
          "2010-01-01T14:47:08.473773",
          "2010-01-01T16:18:34.122956",
          "2010-01-01T16:18:34.122956",
          "2010-01-01T17:18:34.122956",
          "2010-01-01T17:18:34.122956",
          "2010-01-01T17:18:34.122956",
          "2010-01-01T22:15:42.824591",
          "2010-01-01T22:15:42.824591",
          "2010-01-01T23:15:42.824591",
          "2010-01-01T23:15:42.824591",
          "2010-01-01T23:15:42.824591",
          "2010-01-02T04:00:00",
          "2010-01-02T04:00:00",
          "2010-01-02T05:00:00",
          "2010-01-02T05:00:00",
          "2010-01-02T05:00:00",
          "2010-01-02T06:31:25.649182",
          "2010-01-02T06:31:25.649182",
          "2010-01-02T07:31:25.649182",
          "2010-01-02T07:31:25.649182",
          "2010-01-02T07:31:25.649182",
          "2010-01-02T11:15:42.824591",
          "2010-01-02T11:15:42.824591",
          "2010-01-02T12:15:42.824591",
          "2010-01-02T12:15:42.824591",
          "2010-01-02T12:15:42.824591",
          "2010-01-02T13:47:08.473773",
          "2010-01-02T13:47:08.473773",
          "2010-01-02T14:47:08.473773",
          "2010-01-02T14:47:08.473773",
          "2010-01-02T14:47:08.473773",
          "2010-01-02T16:18:34.122956",
          "2010-01-02T16:18:34.122956",
          "2010-01-02T17:18:34.122956",
          "2010-01-02T17:18:34.122956",
          "2010-01-02T17:18:34.122956",
          "2010-01-02T22:15:42.824591",
          "2010-01-02T22:15:42.824591",
          "2010-01-02T23:15:42.824591",
          "2010-01-02T23:15:42.824591",
          "2010-01-02T23:15:42.824591",
          "2010-01-03T04:00:00",
          "2010-01-03T04:00:00",
          "2010-01-03T05:00:00",
          "2010-01-03T05:00:00",
          "2010-01-03T05:00:00",
          "2010-01-03T06:31:25.649182",
          "2010-01-03T06:31:25.649182",
          "2010-01-03T07:31:25.649182",
          "2010-01-03T07:31:25.649182",
          "2010-01-03T07:31:25.649182",
          "2010-01-03T11:15:42.824591",
          "2010-01-03T11:15:42.824591",
          "2010-01-03T12:15:42.824591",
          "2010-01-03T12:15:42.824591",
          "2010-01-03T12:15:42.824591",
          "2010-01-03T13:47:08.473773",
          "2010-01-03T13:47:08.473773",
          "2010-01-03T14:47:08.473773",
          "2010-01-03T14:47:08.473773",
          "2010-01-03T14:47:08.473773",
          "2010-01-03T16:18:34.122956",
          "2010-01-03T16:18:34.122956",
          "2010-01-03T17:18:34.122956",
          "2010-01-03T17:18:34.122956",
          "2010-01-03T17:18:34.122956",
          "2010-01-03T22:15:42.824591",
          "2010-01-03T22:15:42.824591",
          "2010-01-03T23:15:42.824591",
          "2010-01-03T23:15:42.824591",
          "2010-01-03T23:15:42.824591",
          "2010-01-04T04:00:00",
          "2010-01-04T04:00:00",
          "2010-01-04T05:00:00",
          "2010-01-04T05:00:00",
          "2010-01-04T05:00:00",
          "2010-01-04T06:31:25.649182",
          "2010-01-04T06:31:25.649182",
          "2010-01-04T07:31:25.649182",
          "2010-01-04T07:31:25.649182",
          "2010-01-04T07:31:25.649182",
          "2010-01-04T11:15:42.824591",
          "2010-01-04T11:15:42.824591",
          "2010-01-04T12:15:42.824591",
          "2010-01-04T12:15:42.824591",
          "2010-01-04T12:15:42.824591",
          "2010-01-04T13:47:08.473773",
          "2010-01-04T13:47:08.473773",
          "2010-01-04T14:47:08.473773",
          "2010-01-04T14:47:08.473773",
          "2010-01-04T14:47:08.473773",
          "2010-01-04T16:18:34.122956",
          "2010-01-04T16:18:34.122956",
          "2010-01-04T17:18:34.122956",
          "2010-01-04T17:18:34.122956",
          "2010-01-04T17:18:34.122956",
          "2010-01-04T22:15:42.824591",
          "2010-01-04T22:15:42.824591",
          "2010-01-04T23:15:42.824591",
          "2010-01-04T23:15:42.824591",
          "2010-01-04T23:15:42.824591",
          "2010-01-05T04:00:00",
          "2010-01-05T04:00:00",
          "2010-01-05T05:00:00",
          "2010-01-05T05:00:00",
          "2010-01-05T05:00:00",
          "2010-01-05T06:31:25.649182",
          "2010-01-05T06:31:25.649182",
          "2010-01-05T07:31:25.649182",
          "2010-01-05T07:31:25.649182",
          "2010-01-05T07:31:25.649182",
          "2010-01-05T11:15:42.824591",
          "2010-01-05T11:15:42.824591",
          "2010-01-05T12:15:42.824591",
          "2010-01-05T12:15:42.824591",
          "2010-01-05T12:15:42.824591",
          "2010-01-05T13:47:08.473773",
          "2010-01-05T13:47:08.473773",
          "2010-01-05T14:47:08.473773",
          "2010-01-05T14:47:08.473773",
          "2010-01-05T14:47:08.473773",
          "2010-01-05T16:18:34.122956",
          "2010-01-05T16:18:34.122956",
          "2010-01-05T17:18:34.122956",
          "2010-01-05T17:18:34.122956",
          "2010-01-05T17:18:34.122956",
          "2010-01-05T22:15:42.824591",
          "2010-01-05T22:15:42.824591",
          "2010-01-05T23:15:42.824591",
          "2010-01-05T23:15:42.824591",
          "2010-01-05T23:15:42.824591"
         ],
         "y": [
          "loading",
          "loading",
          "loading",
          "loading",
          null,
          "loading",
          "loading",
          "loading",
          "loading",
          null,
          "loading",
          "loading",
          "loading",
          "loading",
          null,
          "loading",
          "loading",
          "loading",
          "loading",
          null,
          "loading",
          "loading",
          "loading",
          "loading",
          null,
          "loading",
          "loading",
          "loading",
          "loading",
          null,
          "loading",
          "loading",
          "loading",
          "loading",
          null,
          "loading",
          "loading",
          "loading",
          "loading",
          null,
          "loading",
          "loading",
          "loading",
          "loading",
          null,
          "loading",
          "loading",
          "loading",
          "loading",
          null,
          "loading",
          "loading",
          "loading",
          "loading",
          null,
          "loading",
          "loading",
          "loading",
          "loading",
          null,
          "loading",
          "loading",
          "loading",
          "loading",
          null,
          "loading",
          "loading",
          "loading",
          "loading",
          null,
          "loading",
          "loading",
          "loading",
          "loading",
          null,
          "loading",
          "loading",
          "loading",
          "loading",
          null,
          "loading",
          "loading",
          "loading",
          "loading",
          null,
          "loading",
          "loading",
          "loading",
          "loading",
          null,
          "loading",
          "loading",
          "loading",
          "loading",
          null,
          "loading",
          "loading",
          "loading",
          "loading",
          null,
          "loading",
          "loading",
          "loading",
          "loading",
          null,
          "loading",
          "loading",
          "loading",
          "loading",
          null,
          "loading",
          "loading",
          "loading",
          "loading",
          null,
          "loading",
          "loading",
          "loading",
          "loading",
          null,
          "loading",
          "loading",
          "loading",
          "loading",
          null,
          "loading",
          "loading",
          "loading",
          "loading",
          null,
          "loading",
          "loading",
          "loading",
          "loading",
          null,
          "loading",
          "loading",
          "loading",
          "loading",
          null,
          "loading",
          "loading",
          "loading",
          "loading",
          null,
          "loading",
          "loading",
          "loading",
          "loading",
          null
         ]
        },
        {
         "connectgaps": false,
         "hoverinfo": "y+name",
         "line": {
          "color": "rgb(190,68,203)",
          "width": 10
         },
         "mode": "lines",
         "name": "sailing full",
         "type": "scatter",
         "x": [
          "2010-01-01T05:00:00",
          "2010-01-01T05:00:00",
          "2010-01-01T05:15:42.824591",
          "2010-01-01T05:15:42.824591",
          "2010-01-01T05:15:42.824591",
          "2010-01-01T07:31:25.649182",
          "2010-01-01T07:31:25.649182",
          "2010-01-01T07:47:08.473773",
          "2010-01-01T07:47:08.473773",
          "2010-01-01T07:47:08.473773",
          "2010-01-01T12:15:42.824591",
          "2010-01-01T12:15:42.824591",
          "2010-01-01T12:31:25.649182",
          "2010-01-01T12:31:25.649182",
          "2010-01-01T12:31:25.649182",
          "2010-01-01T14:47:08.473773",
          "2010-01-01T14:47:08.473773",
          "2010-01-01T15:02:51.298365",
          "2010-01-01T15:02:51.298365",
          "2010-01-01T15:02:51.298365",
          "2010-01-01T17:18:34.122956",
          "2010-01-01T17:18:34.122956",
          "2010-01-01T17:34:16.947547",
          "2010-01-01T17:34:16.947547",
          "2010-01-01T17:34:16.947547",
          "2010-01-01T23:15:42.824591",
          "2010-01-01T23:15:42.824591",
          "2010-01-01T23:31:25.649182",
          "2010-01-01T23:31:25.649182",
          "2010-01-01T23:31:25.649182",
          "2010-01-02T05:00:00",
          "2010-01-02T05:00:00",
          "2010-01-02T05:15:42.824591",
          "2010-01-02T05:15:42.824591",
          "2010-01-02T05:15:42.824591",
          "2010-01-02T07:31:25.649182",
          "2010-01-02T07:31:25.649182",
          "2010-01-02T07:47:08.473773",
          "2010-01-02T07:47:08.473773",
          "2010-01-02T07:47:08.473773",
          "2010-01-02T12:15:42.824591",
          "2010-01-02T12:15:42.824591",
          "2010-01-02T12:31:25.649182",
          "2010-01-02T12:31:25.649182",
          "2010-01-02T12:31:25.649182",
          "2010-01-02T14:47:08.473773",
          "2010-01-02T14:47:08.473773",
          "2010-01-02T15:02:51.298365",
          "2010-01-02T15:02:51.298365",
          "2010-01-02T15:02:51.298365",
          "2010-01-02T17:18:34.122956",
          "2010-01-02T17:18:34.122956",
          "2010-01-02T17:34:16.947547",
          "2010-01-02T17:34:16.947547",
          "2010-01-02T17:34:16.947547",
          "2010-01-02T23:15:42.824591",
          "2010-01-02T23:15:42.824591",
          "2010-01-02T23:31:25.649182",
          "2010-01-02T23:31:25.649182",
          "2010-01-02T23:31:25.649182",
          "2010-01-03T05:00:00",
          "2010-01-03T05:00:00",
          "2010-01-03T05:15:42.824591",
          "2010-01-03T05:15:42.824591",
          "2010-01-03T05:15:42.824591",
          "2010-01-03T07:31:25.649182",
          "2010-01-03T07:31:25.649182",
          "2010-01-03T07:47:08.473773",
          "2010-01-03T07:47:08.473773",
          "2010-01-03T07:47:08.473773",
          "2010-01-03T12:15:42.824591",
          "2010-01-03T12:15:42.824591",
          "2010-01-03T12:31:25.649182",
          "2010-01-03T12:31:25.649182",
          "2010-01-03T12:31:25.649182",
          "2010-01-03T14:47:08.473773",
          "2010-01-03T14:47:08.473773",
          "2010-01-03T15:02:51.298365",
          "2010-01-03T15:02:51.298365",
          "2010-01-03T15:02:51.298365",
          "2010-01-03T17:18:34.122956",
          "2010-01-03T17:18:34.122956",
          "2010-01-03T17:34:16.947547",
          "2010-01-03T17:34:16.947547",
          "2010-01-03T17:34:16.947547",
          "2010-01-03T23:15:42.824591",
          "2010-01-03T23:15:42.824591",
          "2010-01-03T23:31:25.649182",
          "2010-01-03T23:31:25.649182",
          "2010-01-03T23:31:25.649182",
          "2010-01-04T05:00:00",
          "2010-01-04T05:00:00",
          "2010-01-04T05:15:42.824591",
          "2010-01-04T05:15:42.824591",
          "2010-01-04T05:15:42.824591",
          "2010-01-04T07:31:25.649182",
          "2010-01-04T07:31:25.649182",
          "2010-01-04T07:47:08.473773",
          "2010-01-04T07:47:08.473773",
          "2010-01-04T07:47:08.473773",
          "2010-01-04T12:15:42.824591",
          "2010-01-04T12:15:42.824591",
          "2010-01-04T12:31:25.649182",
          "2010-01-04T12:31:25.649182",
          "2010-01-04T12:31:25.649182",
          "2010-01-04T14:47:08.473773",
          "2010-01-04T14:47:08.473773",
          "2010-01-04T15:02:51.298365",
          "2010-01-04T15:02:51.298365",
          "2010-01-04T15:02:51.298365",
          "2010-01-04T17:18:34.122956",
          "2010-01-04T17:18:34.122956",
          "2010-01-04T17:34:16.947547",
          "2010-01-04T17:34:16.947547",
          "2010-01-04T17:34:16.947547",
          "2010-01-04T23:15:42.824591",
          "2010-01-04T23:15:42.824591",
          "2010-01-04T23:31:25.649182",
          "2010-01-04T23:31:25.649182",
          "2010-01-04T23:31:25.649182",
          "2010-01-05T05:00:00",
          "2010-01-05T05:00:00",
          "2010-01-05T05:15:42.824591",
          "2010-01-05T05:15:42.824591",
          "2010-01-05T05:15:42.824591",
          "2010-01-05T07:31:25.649182",
          "2010-01-05T07:31:25.649182",
          "2010-01-05T07:47:08.473773",
          "2010-01-05T07:47:08.473773",
          "2010-01-05T07:47:08.473773",
          "2010-01-05T12:15:42.824591",
          "2010-01-05T12:15:42.824591",
          "2010-01-05T12:31:25.649182",
          "2010-01-05T12:31:25.649182",
          "2010-01-05T12:31:25.649182",
          "2010-01-05T14:47:08.473773",
          "2010-01-05T14:47:08.473773",
          "2010-01-05T15:02:51.298365",
          "2010-01-05T15:02:51.298365",
          "2010-01-05T15:02:51.298365",
          "2010-01-05T17:18:34.122956",
          "2010-01-05T17:18:34.122956",
          "2010-01-05T17:34:16.947547",
          "2010-01-05T17:34:16.947547",
          "2010-01-05T17:34:16.947547",
          "2010-01-05T23:15:42.824591",
          "2010-01-05T23:15:42.824591",
          "2010-01-05T23:31:25.649182",
          "2010-01-05T23:31:25.649182",
          "2010-01-05T23:31:25.649182"
         ],
         "y": [
          "sailing full",
          "sailing full",
          "sailing full",
          "sailing full",
          null,
          "sailing full",
          "sailing full",
          "sailing full",
          "sailing full",
          null,
          "sailing full",
          "sailing full",
          "sailing full",
          "sailing full",
          null,
          "sailing full",
          "sailing full",
          "sailing full",
          "sailing full",
          null,
          "sailing full",
          "sailing full",
          "sailing full",
          "sailing full",
          null,
          "sailing full",
          "sailing full",
          "sailing full",
          "sailing full",
          null,
          "sailing full",
          "sailing full",
          "sailing full",
          "sailing full",
          null,
          "sailing full",
          "sailing full",
          "sailing full",
          "sailing full",
          null,
          "sailing full",
          "sailing full",
          "sailing full",
          "sailing full",
          null,
          "sailing full",
          "sailing full",
          "sailing full",
          "sailing full",
          null,
          "sailing full",
          "sailing full",
          "sailing full",
          "sailing full",
          null,
          "sailing full",
          "sailing full",
          "sailing full",
          "sailing full",
          null,
          "sailing full",
          "sailing full",
          "sailing full",
          "sailing full",
          null,
          "sailing full",
          "sailing full",
          "sailing full",
          "sailing full",
          null,
          "sailing full",
          "sailing full",
          "sailing full",
          "sailing full",
          null,
          "sailing full",
          "sailing full",
          "sailing full",
          "sailing full",
          null,
          "sailing full",
          "sailing full",
          "sailing full",
          "sailing full",
          null,
          "sailing full",
          "sailing full",
          "sailing full",
          "sailing full",
          null,
          "sailing full",
          "sailing full",
          "sailing full",
          "sailing full",
          null,
          "sailing full",
          "sailing full",
          "sailing full",
          "sailing full",
          null,
          "sailing full",
          "sailing full",
          "sailing full",
          "sailing full",
          null,
          "sailing full",
          "sailing full",
          "sailing full",
          "sailing full",
          null,
          "sailing full",
          "sailing full",
          "sailing full",
          "sailing full",
          null,
          "sailing full",
          "sailing full",
          "sailing full",
          "sailing full",
          null,
          "sailing full",
          "sailing full",
          "sailing full",
          "sailing full",
          null,
          "sailing full",
          "sailing full",
          "sailing full",
          "sailing full",
          null,
          "sailing full",
          "sailing full",
          "sailing full",
          "sailing full",
          null,
          "sailing full",
          "sailing full",
          "sailing full",
          "sailing full",
          null,
          "sailing full",
          "sailing full",
          "sailing full",
          "sailing full",
          null,
          "sailing full",
          "sailing full",
          "sailing full",
          "sailing full",
          null
         ]
        },
        {
         "connectgaps": false,
         "hoverinfo": "y+name",
         "line": {
          "color": "rgb(254,132,11)",
          "width": 10
         },
         "mode": "lines",
         "name": "unloading",
         "type": "scatter",
         "x": [
          "2010-01-01T05:15:42.824591",
          "2010-01-01T05:15:42.824591",
          "2010-01-01T06:15:42.824591",
          "2010-01-01T06:15:42.824591",
          "2010-01-01T06:15:42.824591",
          "2010-01-01T10:00:00",
          "2010-01-01T10:00:00",
          "2010-01-01T11:00:00",
          "2010-01-01T11:00:00",
          "2010-01-01T11:00:00",
          "2010-01-01T12:31:25.649182",
          "2010-01-01T12:31:25.649182",
          "2010-01-01T13:31:25.649182",
          "2010-01-01T13:31:25.649182",
          "2010-01-01T13:31:25.649182",
          "2010-01-01T15:02:51.298365",
          "2010-01-01T15:02:51.298365",
          "2010-01-01T16:02:51.298365",
          "2010-01-01T16:02:51.298365",
          "2010-01-01T16:02:51.298365",
          "2010-01-01T21:00:00",
          "2010-01-01T21:00:00",
          "2010-01-01T22:00:00",
          "2010-01-01T22:00:00",
          "2010-01-01T22:00:00",
          "2010-01-01T23:31:25.649182",
          "2010-01-01T23:31:25.649182",
          "2010-01-02T00:31:25.649182",
          "2010-01-02T00:31:25.649182",
          "2010-01-02T00:31:25.649182",
          "2010-01-02T05:15:42.824591",
          "2010-01-02T05:15:42.824591",
          "2010-01-02T06:15:42.824591",
          "2010-01-02T06:15:42.824591",
          "2010-01-02T06:15:42.824591",
          "2010-01-02T10:00:00",
          "2010-01-02T10:00:00",
          "2010-01-02T11:00:00",
          "2010-01-02T11:00:00",
          "2010-01-02T11:00:00",
          "2010-01-02T12:31:25.649182",
          "2010-01-02T12:31:25.649182",
          "2010-01-02T13:31:25.649182",
          "2010-01-02T13:31:25.649182",
          "2010-01-02T13:31:25.649182",
          "2010-01-02T15:02:51.298365",
          "2010-01-02T15:02:51.298365",
          "2010-01-02T16:02:51.298365",
          "2010-01-02T16:02:51.298365",
          "2010-01-02T16:02:51.298365",
          "2010-01-02T21:00:00",
          "2010-01-02T21:00:00",
          "2010-01-02T22:00:00",
          "2010-01-02T22:00:00",
          "2010-01-02T22:00:00",
          "2010-01-02T23:31:25.649182",
          "2010-01-02T23:31:25.649182",
          "2010-01-03T00:31:25.649182",
          "2010-01-03T00:31:25.649182",
          "2010-01-03T00:31:25.649182",
          "2010-01-03T05:15:42.824591",
          "2010-01-03T05:15:42.824591",
          "2010-01-03T06:15:42.824591",
          "2010-01-03T06:15:42.824591",
          "2010-01-03T06:15:42.824591",
          "2010-01-03T10:00:00",
          "2010-01-03T10:00:00",
          "2010-01-03T11:00:00",
          "2010-01-03T11:00:00",
          "2010-01-03T11:00:00",
          "2010-01-03T12:31:25.649182",
          "2010-01-03T12:31:25.649182",
          "2010-01-03T13:31:25.649182",
          "2010-01-03T13:31:25.649182",
          "2010-01-03T13:31:25.649182",
          "2010-01-03T15:02:51.298365",
          "2010-01-03T15:02:51.298365",
          "2010-01-03T16:02:51.298365",
          "2010-01-03T16:02:51.298365",
          "2010-01-03T16:02:51.298365",
          "2010-01-03T21:00:00",
          "2010-01-03T21:00:00",
          "2010-01-03T22:00:00",
          "2010-01-03T22:00:00",
          "2010-01-03T22:00:00",
          "2010-01-03T23:31:25.649182",
          "2010-01-03T23:31:25.649182",
          "2010-01-04T00:31:25.649182",
          "2010-01-04T00:31:25.649182",
          "2010-01-04T00:31:25.649182",
          "2010-01-04T05:15:42.824591",
          "2010-01-04T05:15:42.824591",
          "2010-01-04T06:15:42.824591",
          "2010-01-04T06:15:42.824591",
          "2010-01-04T06:15:42.824591",
          "2010-01-04T10:00:00",
          "2010-01-04T10:00:00",
          "2010-01-04T11:00:00",
          "2010-01-04T11:00:00",
          "2010-01-04T11:00:00",
          "2010-01-04T12:31:25.649182",
          "2010-01-04T12:31:25.649182",
          "2010-01-04T13:31:25.649182",
          "2010-01-04T13:31:25.649182",
          "2010-01-04T13:31:25.649182",
          "2010-01-04T15:02:51.298365",
          "2010-01-04T15:02:51.298365",
          "2010-01-04T16:02:51.298365",
          "2010-01-04T16:02:51.298365",
          "2010-01-04T16:02:51.298365",
          "2010-01-04T21:00:00",
          "2010-01-04T21:00:00",
          "2010-01-04T22:00:00",
          "2010-01-04T22:00:00",
          "2010-01-04T22:00:00",
          "2010-01-04T23:31:25.649182",
          "2010-01-04T23:31:25.649182",
          "2010-01-05T00:31:25.649182",
          "2010-01-05T00:31:25.649182",
          "2010-01-05T00:31:25.649182",
          "2010-01-05T05:15:42.824591",
          "2010-01-05T05:15:42.824591",
          "2010-01-05T06:15:42.824591",
          "2010-01-05T06:15:42.824591",
          "2010-01-05T06:15:42.824591",
          "2010-01-05T10:00:00",
          "2010-01-05T10:00:00",
          "2010-01-05T11:00:00",
          "2010-01-05T11:00:00",
          "2010-01-05T11:00:00",
          "2010-01-05T12:31:25.649182",
          "2010-01-05T12:31:25.649182",
          "2010-01-05T13:31:25.649182",
          "2010-01-05T13:31:25.649182",
          "2010-01-05T13:31:25.649182",
          "2010-01-05T15:02:51.298365",
          "2010-01-05T15:02:51.298365",
          "2010-01-05T16:02:51.298365",
          "2010-01-05T16:02:51.298365",
          "2010-01-05T16:02:51.298365",
          "2010-01-05T21:00:00",
          "2010-01-05T21:00:00",
          "2010-01-05T22:00:00",
          "2010-01-05T22:00:00",
          "2010-01-05T22:00:00",
          "2010-01-05T23:31:25.649182",
          "2010-01-05T23:31:25.649182",
          "2010-01-06T00:31:25.649182",
          "2010-01-06T00:31:25.649182",
          "2010-01-06T00:31:25.649182"
         ],
         "y": [
          "unloading",
          "unloading",
          "unloading",
          "unloading",
          null,
          "unloading",
          "unloading",
          "unloading",
          "unloading",
          null,
          "unloading",
          "unloading",
          "unloading",
          "unloading",
          null,
          "unloading",
          "unloading",
          "unloading",
          "unloading",
          null,
          "unloading",
          "unloading",
          "unloading",
          "unloading",
          null,
          "unloading",
          "unloading",
          "unloading",
          "unloading",
          null,
          "unloading",
          "unloading",
          "unloading",
          "unloading",
          null,
          "unloading",
          "unloading",
          "unloading",
          "unloading",
          null,
          "unloading",
          "unloading",
          "unloading",
          "unloading",
          null,
          "unloading",
          "unloading",
          "unloading",
          "unloading",
          null,
          "unloading",
          "unloading",
          "unloading",
          "unloading",
          null,
          "unloading",
          "unloading",
          "unloading",
          "unloading",
          null,
          "unloading",
          "unloading",
          "unloading",
          "unloading",
          null,
          "unloading",
          "unloading",
          "unloading",
          "unloading",
          null,
          "unloading",
          "unloading",
          "unloading",
          "unloading",
          null,
          "unloading",
          "unloading",
          "unloading",
          "unloading",
          null,
          "unloading",
          "unloading",
          "unloading",
          "unloading",
          null,
          "unloading",
          "unloading",
          "unloading",
          "unloading",
          null,
          "unloading",
          "unloading",
          "unloading",
          "unloading",
          null,
          "unloading",
          "unloading",
          "unloading",
          "unloading",
          null,
          "unloading",
          "unloading",
          "unloading",
          "unloading",
          null,
          "unloading",
          "unloading",
          "unloading",
          "unloading",
          null,
          "unloading",
          "unloading",
          "unloading",
          "unloading",
          null,
          "unloading",
          "unloading",
          "unloading",
          "unloading",
          null,
          "unloading",
          "unloading",
          "unloading",
          "unloading",
          null,
          "unloading",
          "unloading",
          "unloading",
          "unloading",
          null,
          "unloading",
          "unloading",
          "unloading",
          "unloading",
          null,
          "unloading",
          "unloading",
          "unloading",
          "unloading",
          null,
          "unloading",
          "unloading",
          "unloading",
          "unloading",
          null,
          "unloading",
          "unloading",
          "unloading",
          "unloading",
          null
         ]
        }
       ],
       "layout": {
        "hovermode": "closest",
        "legend": {
         "orientation": "h",
         "x": 0,
         "y": -0.2
        },
        "template": {
         "data": {
          "bar": [
           {
            "error_x": {
             "color": "#2a3f5f"
            },
            "error_y": {
             "color": "#2a3f5f"
            },
            "marker": {
             "line": {
              "color": "#E5ECF6",
              "width": 0.5
             }
            },
            "type": "bar"
           }
          ],
          "barpolar": [
           {
            "marker": {
             "line": {
              "color": "#E5ECF6",
              "width": 0.5
             }
            },
            "type": "barpolar"
           }
          ],
          "carpet": [
           {
            "aaxis": {
             "endlinecolor": "#2a3f5f",
             "gridcolor": "white",
             "linecolor": "white",
             "minorgridcolor": "white",
             "startlinecolor": "#2a3f5f"
            },
            "baxis": {
             "endlinecolor": "#2a3f5f",
             "gridcolor": "white",
             "linecolor": "white",
             "minorgridcolor": "white",
             "startlinecolor": "#2a3f5f"
            },
            "type": "carpet"
           }
          ],
          "choropleth": [
           {
            "colorbar": {
             "outlinewidth": 0,
             "ticks": ""
            },
            "type": "choropleth"
           }
          ],
          "contour": [
           {
            "colorbar": {
             "outlinewidth": 0,
             "ticks": ""
            },
            "colorscale": [
             [
              0,
              "#0d0887"
             ],
             [
              0.1111111111111111,
              "#46039f"
             ],
             [
              0.2222222222222222,
              "#7201a8"
             ],
             [
              0.3333333333333333,
              "#9c179e"
             ],
             [
              0.4444444444444444,
              "#bd3786"
             ],
             [
              0.5555555555555556,
              "#d8576b"
             ],
             [
              0.6666666666666666,
              "#ed7953"
             ],
             [
              0.7777777777777778,
              "#fb9f3a"
             ],
             [
              0.8888888888888888,
              "#fdca26"
             ],
             [
              1,
              "#f0f921"
             ]
            ],
            "type": "contour"
           }
          ],
          "contourcarpet": [
           {
            "colorbar": {
             "outlinewidth": 0,
             "ticks": ""
            },
            "type": "contourcarpet"
           }
          ],
          "heatmap": [
           {
            "colorbar": {
             "outlinewidth": 0,
             "ticks": ""
            },
            "colorscale": [
             [
              0,
              "#0d0887"
             ],
             [
              0.1111111111111111,
              "#46039f"
             ],
             [
              0.2222222222222222,
              "#7201a8"
             ],
             [
              0.3333333333333333,
              "#9c179e"
             ],
             [
              0.4444444444444444,
              "#bd3786"
             ],
             [
              0.5555555555555556,
              "#d8576b"
             ],
             [
              0.6666666666666666,
              "#ed7953"
             ],
             [
              0.7777777777777778,
              "#fb9f3a"
             ],
             [
              0.8888888888888888,
              "#fdca26"
             ],
             [
              1,
              "#f0f921"
             ]
            ],
            "type": "heatmap"
           }
          ],
          "heatmapgl": [
           {
            "colorbar": {
             "outlinewidth": 0,
             "ticks": ""
            },
            "colorscale": [
             [
              0,
              "#0d0887"
             ],
             [
              0.1111111111111111,
              "#46039f"
             ],
             [
              0.2222222222222222,
              "#7201a8"
             ],
             [
              0.3333333333333333,
              "#9c179e"
             ],
             [
              0.4444444444444444,
              "#bd3786"
             ],
             [
              0.5555555555555556,
              "#d8576b"
             ],
             [
              0.6666666666666666,
              "#ed7953"
             ],
             [
              0.7777777777777778,
              "#fb9f3a"
             ],
             [
              0.8888888888888888,
              "#fdca26"
             ],
             [
              1,
              "#f0f921"
             ]
            ],
            "type": "heatmapgl"
           }
          ],
          "histogram": [
           {
            "marker": {
             "colorbar": {
              "outlinewidth": 0,
              "ticks": ""
             }
            },
            "type": "histogram"
           }
          ],
          "histogram2d": [
           {
            "colorbar": {
             "outlinewidth": 0,
             "ticks": ""
            },
            "colorscale": [
             [
              0,
              "#0d0887"
             ],
             [
              0.1111111111111111,
              "#46039f"
             ],
             [
              0.2222222222222222,
              "#7201a8"
             ],
             [
              0.3333333333333333,
              "#9c179e"
             ],
             [
              0.4444444444444444,
              "#bd3786"
             ],
             [
              0.5555555555555556,
              "#d8576b"
             ],
             [
              0.6666666666666666,
              "#ed7953"
             ],
             [
              0.7777777777777778,
              "#fb9f3a"
             ],
             [
              0.8888888888888888,
              "#fdca26"
             ],
             [
              1,
              "#f0f921"
             ]
            ],
            "type": "histogram2d"
           }
          ],
          "histogram2dcontour": [
           {
            "colorbar": {
             "outlinewidth": 0,
             "ticks": ""
            },
            "colorscale": [
             [
              0,
              "#0d0887"
             ],
             [
              0.1111111111111111,
              "#46039f"
             ],
             [
              0.2222222222222222,
              "#7201a8"
             ],
             [
              0.3333333333333333,
              "#9c179e"
             ],
             [
              0.4444444444444444,
              "#bd3786"
             ],
             [
              0.5555555555555556,
              "#d8576b"
             ],
             [
              0.6666666666666666,
              "#ed7953"
             ],
             [
              0.7777777777777778,
              "#fb9f3a"
             ],
             [
              0.8888888888888888,
              "#fdca26"
             ],
             [
              1,
              "#f0f921"
             ]
            ],
            "type": "histogram2dcontour"
           }
          ],
          "mesh3d": [
           {
            "colorbar": {
             "outlinewidth": 0,
             "ticks": ""
            },
            "type": "mesh3d"
           }
          ],
          "parcoords": [
           {
            "line": {
             "colorbar": {
              "outlinewidth": 0,
              "ticks": ""
             }
            },
            "type": "parcoords"
           }
          ],
          "pie": [
           {
            "automargin": true,
            "type": "pie"
           }
          ],
          "scatter": [
           {
            "marker": {
             "colorbar": {
              "outlinewidth": 0,
              "ticks": ""
             }
            },
            "type": "scatter"
           }
          ],
          "scatter3d": [
           {
            "line": {
             "colorbar": {
              "outlinewidth": 0,
              "ticks": ""
             }
            },
            "marker": {
             "colorbar": {
              "outlinewidth": 0,
              "ticks": ""
             }
            },
            "type": "scatter3d"
           }
          ],
          "scattercarpet": [
           {
            "marker": {
             "colorbar": {
              "outlinewidth": 0,
              "ticks": ""
             }
            },
            "type": "scattercarpet"
           }
          ],
          "scattergeo": [
           {
            "marker": {
             "colorbar": {
              "outlinewidth": 0,
              "ticks": ""
             }
            },
            "type": "scattergeo"
           }
          ],
          "scattergl": [
           {
            "marker": {
             "colorbar": {
              "outlinewidth": 0,
              "ticks": ""
             }
            },
            "type": "scattergl"
           }
          ],
          "scattermapbox": [
           {
            "marker": {
             "colorbar": {
              "outlinewidth": 0,
              "ticks": ""
             }
            },
            "type": "scattermapbox"
           }
          ],
          "scatterpolar": [
           {
            "marker": {
             "colorbar": {
              "outlinewidth": 0,
              "ticks": ""
             }
            },
            "type": "scatterpolar"
           }
          ],
          "scatterpolargl": [
           {
            "marker": {
             "colorbar": {
              "outlinewidth": 0,
              "ticks": ""
             }
            },
            "type": "scatterpolargl"
           }
          ],
          "scatterternary": [
           {
            "marker": {
             "colorbar": {
              "outlinewidth": 0,
              "ticks": ""
             }
            },
            "type": "scatterternary"
           }
          ],
          "surface": [
           {
            "colorbar": {
             "outlinewidth": 0,
             "ticks": ""
            },
            "colorscale": [
             [
              0,
              "#0d0887"
             ],
             [
              0.1111111111111111,
              "#46039f"
             ],
             [
              0.2222222222222222,
              "#7201a8"
             ],
             [
              0.3333333333333333,
              "#9c179e"
             ],
             [
              0.4444444444444444,
              "#bd3786"
             ],
             [
              0.5555555555555556,
              "#d8576b"
             ],
             [
              0.6666666666666666,
              "#ed7953"
             ],
             [
              0.7777777777777778,
              "#fb9f3a"
             ],
             [
              0.8888888888888888,
              "#fdca26"
             ],
             [
              1,
              "#f0f921"
             ]
            ],
            "type": "surface"
           }
          ],
          "table": [
           {
            "cells": {
             "fill": {
              "color": "#EBF0F8"
             },
             "line": {
              "color": "white"
             }
            },
            "header": {
             "fill": {
              "color": "#C8D4E3"
             },
             "line": {
              "color": "white"
             }
            },
            "type": "table"
           }
          ]
         },
         "layout": {
          "annotationdefaults": {
           "arrowcolor": "#2a3f5f",
           "arrowhead": 0,
           "arrowwidth": 1
          },
          "coloraxis": {
           "colorbar": {
            "outlinewidth": 0,
            "ticks": ""
           }
          },
          "colorscale": {
           "diverging": [
            [
             0,
             "#8e0152"
            ],
            [
             0.1,
             "#c51b7d"
            ],
            [
             0.2,
             "#de77ae"
            ],
            [
             0.3,
             "#f1b6da"
            ],
            [
             0.4,
             "#fde0ef"
            ],
            [
             0.5,
             "#f7f7f7"
            ],
            [
             0.6,
             "#e6f5d0"
            ],
            [
             0.7,
             "#b8e186"
            ],
            [
             0.8,
             "#7fbc41"
            ],
            [
             0.9,
             "#4d9221"
            ],
            [
             1,
             "#276419"
            ]
           ],
           "sequential": [
            [
             0,
             "#0d0887"
            ],
            [
             0.1111111111111111,
             "#46039f"
            ],
            [
             0.2222222222222222,
             "#7201a8"
            ],
            [
             0.3333333333333333,
             "#9c179e"
            ],
            [
             0.4444444444444444,
             "#bd3786"
            ],
            [
             0.5555555555555556,
             "#d8576b"
            ],
            [
             0.6666666666666666,
             "#ed7953"
            ],
            [
             0.7777777777777778,
             "#fb9f3a"
            ],
            [
             0.8888888888888888,
             "#fdca26"
            ],
            [
             1,
             "#f0f921"
            ]
           ],
           "sequentialminus": [
            [
             0,
             "#0d0887"
            ],
            [
             0.1111111111111111,
             "#46039f"
            ],
            [
             0.2222222222222222,
             "#7201a8"
            ],
            [
             0.3333333333333333,
             "#9c179e"
            ],
            [
             0.4444444444444444,
             "#bd3786"
            ],
            [
             0.5555555555555556,
             "#d8576b"
            ],
            [
             0.6666666666666666,
             "#ed7953"
            ],
            [
             0.7777777777777778,
             "#fb9f3a"
            ],
            [
             0.8888888888888888,
             "#fdca26"
            ],
            [
             1,
             "#f0f921"
            ]
           ]
          },
          "colorway": [
           "#636efa",
           "#EF553B",
           "#00cc96",
           "#ab63fa",
           "#FFA15A",
           "#19d3f3",
           "#FF6692",
           "#B6E880",
           "#FF97FF",
           "#FECB52"
          ],
          "font": {
           "color": "#2a3f5f"
          },
          "geo": {
           "bgcolor": "white",
           "lakecolor": "white",
           "landcolor": "#E5ECF6",
           "showlakes": true,
           "showland": true,
           "subunitcolor": "white"
          },
          "hoverlabel": {
           "align": "left"
          },
          "hovermode": "closest",
          "mapbox": {
           "style": "light"
          },
          "paper_bgcolor": "white",
          "plot_bgcolor": "#E5ECF6",
          "polar": {
           "angularaxis": {
            "gridcolor": "white",
            "linecolor": "white",
            "ticks": ""
           },
           "bgcolor": "#E5ECF6",
           "radialaxis": {
            "gridcolor": "white",
            "linecolor": "white",
            "ticks": ""
           }
          },
          "scene": {
           "xaxis": {
            "backgroundcolor": "#E5ECF6",
            "gridcolor": "white",
            "gridwidth": 2,
            "linecolor": "white",
            "showbackground": true,
            "ticks": "",
            "zerolinecolor": "white"
           },
           "yaxis": {
            "backgroundcolor": "#E5ECF6",
            "gridcolor": "white",
            "gridwidth": 2,
            "linecolor": "white",
            "showbackground": true,
            "ticks": "",
            "zerolinecolor": "white"
           },
           "zaxis": {
            "backgroundcolor": "#E5ECF6",
            "gridcolor": "white",
            "gridwidth": 2,
            "linecolor": "white",
            "showbackground": true,
            "ticks": "",
            "zerolinecolor": "white"
           }
          },
          "shapedefaults": {
           "line": {
            "color": "#2a3f5f"
           }
          },
          "ternary": {
           "aaxis": {
            "gridcolor": "white",
            "linecolor": "white",
            "ticks": ""
           },
           "baxis": {
            "gridcolor": "white",
            "linecolor": "white",
            "ticks": ""
           },
           "bgcolor": "#E5ECF6",
           "caxis": {
            "gridcolor": "white",
            "linecolor": "white",
            "ticks": ""
           }
          },
          "title": {
           "x": 0.05
          },
          "xaxis": {
           "automargin": true,
           "gridcolor": "white",
           "linecolor": "white",
           "ticks": "",
           "title": {
            "standoff": 15
           },
           "zerolinecolor": "white",
           "zerolinewidth": 2
          },
          "yaxis": {
           "automargin": true,
           "gridcolor": "white",
           "linecolor": "white",
           "ticks": "",
           "title": {
            "standoff": 15
           },
           "zerolinecolor": "white",
           "zerolinewidth": 2
          }
         }
        },
        "title": {
         "text": "GANTT Chart"
        },
        "xaxis": {
         "range": [
          "2009-12-31T23:00:00",
          "2010-01-06T00:31:25.649182"
         ],
         "title": {
          "font": {
           "color": "#7f7f7f",
           "family": "Courier New, monospace",
           "size": 18
          },
          "text": "Time"
         }
        },
        "yaxis": {
         "title": {
          "font": {
           "color": "#7f7f7f",
           "family": "Courier New, monospace",
           "size": 18
          },
          "text": "Activities"
         }
        }
       }
      },
      "text/html": [
       "<div>                            <div id=\"472d11a3-f28d-46e3-b95c-1f18fef4ac45\" class=\"plotly-graph-div\" style=\"height:525px; width:100%;\"></div>            <script type=\"text/javascript\">                require([\"plotly\"], function(Plotly) {                    window.PLOTLYENV=window.PLOTLYENV || {};                                    if (document.getElementById(\"472d11a3-f28d-46e3-b95c-1f18fef4ac45\")) {                    Plotly.newPlot(                        \"472d11a3-f28d-46e3-b95c-1f18fef4ac45\",                        [{\"connectgaps\": false, \"hoverinfo\": \"y+name\", \"line\": {\"color\": \"rgb(62,196,75)\", \"width\": 10}, \"mode\": \"lines\", \"name\": \"sailing empty\", \"type\": \"scatter\", \"x\": [\"2010-01-01T03:00:00\", \"2010-01-01T03:00:00\", \"2010-01-01T03:00:00\", \"2010-01-01T03:00:00\", \"2010-01-01T03:00:00\", \"2010-01-01T06:15:42.824591\", \"2010-01-01T06:15:42.824591\", \"2010-01-01T06:31:25.649182\", \"2010-01-01T06:31:25.649182\", \"2010-01-01T06:31:25.649182\", \"2010-01-01T11:00:00\", \"2010-01-01T11:00:00\", \"2010-01-01T11:15:42.824591\", \"2010-01-01T11:15:42.824591\", \"2010-01-01T11:15:42.824591\", \"2010-01-01T13:31:25.649182\", \"2010-01-01T13:31:25.649182\", \"2010-01-01T13:47:08.473773\", \"2010-01-01T13:47:08.473773\", \"2010-01-01T13:47:08.473773\", \"2010-01-01T16:02:51.298365\", \"2010-01-01T16:02:51.298365\", \"2010-01-01T16:18:34.122956\", \"2010-01-01T16:18:34.122956\", \"2010-01-01T16:18:34.122956\", \"2010-01-01T22:00:00\", \"2010-01-01T22:00:00\", \"2010-01-01T22:15:42.824591\", \"2010-01-01T22:15:42.824591\", \"2010-01-01T22:15:42.824591\", \"2010-01-02T03:00:00\", \"2010-01-02T03:00:00\", \"2010-01-02T03:15:42.824591\", \"2010-01-02T03:15:42.824591\", \"2010-01-02T03:15:42.824591\", \"2010-01-02T06:15:42.824591\", \"2010-01-02T06:15:42.824591\", \"2010-01-02T06:31:25.649182\", \"2010-01-02T06:31:25.649182\", \"2010-01-02T06:31:25.649182\", \"2010-01-02T11:00:00\", \"2010-01-02T11:00:00\", \"2010-01-02T11:15:42.824591\", \"2010-01-02T11:15:42.824591\", \"2010-01-02T11:15:42.824591\", \"2010-01-02T13:31:25.649182\", \"2010-01-02T13:31:25.649182\", \"2010-01-02T13:47:08.473773\", \"2010-01-02T13:47:08.473773\", \"2010-01-02T13:47:08.473773\", \"2010-01-02T16:02:51.298365\", \"2010-01-02T16:02:51.298365\", \"2010-01-02T16:18:34.122956\", \"2010-01-02T16:18:34.122956\", \"2010-01-02T16:18:34.122956\", \"2010-01-02T22:00:00\", \"2010-01-02T22:00:00\", \"2010-01-02T22:15:42.824591\", \"2010-01-02T22:15:42.824591\", \"2010-01-02T22:15:42.824591\", \"2010-01-03T03:00:00\", \"2010-01-03T03:00:00\", \"2010-01-03T03:15:42.824591\", \"2010-01-03T03:15:42.824591\", \"2010-01-03T03:15:42.824591\", \"2010-01-03T06:15:42.824591\", \"2010-01-03T06:15:42.824591\", \"2010-01-03T06:31:25.649182\", \"2010-01-03T06:31:25.649182\", \"2010-01-03T06:31:25.649182\", \"2010-01-03T11:00:00\", \"2010-01-03T11:00:00\", \"2010-01-03T11:15:42.824591\", \"2010-01-03T11:15:42.824591\", \"2010-01-03T11:15:42.824591\", \"2010-01-03T13:31:25.649182\", \"2010-01-03T13:31:25.649182\", \"2010-01-03T13:47:08.473773\", \"2010-01-03T13:47:08.473773\", \"2010-01-03T13:47:08.473773\", \"2010-01-03T16:02:51.298365\", \"2010-01-03T16:02:51.298365\", \"2010-01-03T16:18:34.122956\", \"2010-01-03T16:18:34.122956\", \"2010-01-03T16:18:34.122956\", \"2010-01-03T22:00:00\", \"2010-01-03T22:00:00\", \"2010-01-03T22:15:42.824591\", \"2010-01-03T22:15:42.824591\", \"2010-01-03T22:15:42.824591\", \"2010-01-04T03:00:00\", \"2010-01-04T03:00:00\", \"2010-01-04T03:15:42.824591\", \"2010-01-04T03:15:42.824591\", \"2010-01-04T03:15:42.824591\", \"2010-01-04T06:15:42.824591\", \"2010-01-04T06:15:42.824591\", \"2010-01-04T06:31:25.649182\", \"2010-01-04T06:31:25.649182\", \"2010-01-04T06:31:25.649182\", \"2010-01-04T11:00:00\", \"2010-01-04T11:00:00\", \"2010-01-04T11:15:42.824591\", \"2010-01-04T11:15:42.824591\", \"2010-01-04T11:15:42.824591\", \"2010-01-04T13:31:25.649182\", \"2010-01-04T13:31:25.649182\", \"2010-01-04T13:47:08.473773\", \"2010-01-04T13:47:08.473773\", \"2010-01-04T13:47:08.473773\", \"2010-01-04T16:02:51.298365\", \"2010-01-04T16:02:51.298365\", \"2010-01-04T16:18:34.122956\", \"2010-01-04T16:18:34.122956\", \"2010-01-04T16:18:34.122956\", \"2010-01-04T22:00:00\", \"2010-01-04T22:00:00\", \"2010-01-04T22:15:42.824591\", \"2010-01-04T22:15:42.824591\", \"2010-01-04T22:15:42.824591\", \"2010-01-05T03:00:00\", \"2010-01-05T03:00:00\", \"2010-01-05T03:15:42.824591\", \"2010-01-05T03:15:42.824591\", \"2010-01-05T03:15:42.824591\", \"2010-01-05T06:15:42.824591\", \"2010-01-05T06:15:42.824591\", \"2010-01-05T06:31:25.649182\", \"2010-01-05T06:31:25.649182\", \"2010-01-05T06:31:25.649182\", \"2010-01-05T11:00:00\", \"2010-01-05T11:00:00\", \"2010-01-05T11:15:42.824591\", \"2010-01-05T11:15:42.824591\", \"2010-01-05T11:15:42.824591\", \"2010-01-05T13:31:25.649182\", \"2010-01-05T13:31:25.649182\", \"2010-01-05T13:47:08.473773\", \"2010-01-05T13:47:08.473773\", \"2010-01-05T13:47:08.473773\", \"2010-01-05T16:02:51.298365\", \"2010-01-05T16:02:51.298365\", \"2010-01-05T16:18:34.122956\", \"2010-01-05T16:18:34.122956\", \"2010-01-05T16:18:34.122956\", \"2010-01-05T22:00:00\", \"2010-01-05T22:00:00\", \"2010-01-05T22:15:42.824591\", \"2010-01-05T22:15:42.824591\", \"2010-01-05T22:15:42.824591\"], \"y\": [\"sailing empty\", \"sailing empty\", \"sailing empty\", \"sailing empty\", null, \"sailing empty\", \"sailing empty\", \"sailing empty\", \"sailing empty\", null, \"sailing empty\", \"sailing empty\", \"sailing empty\", \"sailing empty\", null, \"sailing empty\", \"sailing empty\", \"sailing empty\", \"sailing empty\", null, \"sailing empty\", \"sailing empty\", \"sailing empty\", \"sailing empty\", null, \"sailing empty\", \"sailing empty\", \"sailing empty\", \"sailing empty\", null, \"sailing empty\", \"sailing empty\", \"sailing empty\", \"sailing empty\", null, \"sailing empty\", \"sailing empty\", \"sailing empty\", \"sailing empty\", null, \"sailing empty\", \"sailing empty\", \"sailing empty\", \"sailing empty\", null, \"sailing empty\", \"sailing empty\", \"sailing empty\", \"sailing empty\", null, \"sailing empty\", \"sailing empty\", \"sailing empty\", \"sailing empty\", null, \"sailing empty\", \"sailing empty\", \"sailing empty\", \"sailing empty\", null, \"sailing empty\", \"sailing empty\", \"sailing empty\", \"sailing empty\", null, \"sailing empty\", \"sailing empty\", \"sailing empty\", \"sailing empty\", null, \"sailing empty\", \"sailing empty\", \"sailing empty\", \"sailing empty\", null, \"sailing empty\", \"sailing empty\", \"sailing empty\", \"sailing empty\", null, \"sailing empty\", \"sailing empty\", \"sailing empty\", \"sailing empty\", null, \"sailing empty\", \"sailing empty\", \"sailing empty\", \"sailing empty\", null, \"sailing empty\", \"sailing empty\", \"sailing empty\", \"sailing empty\", null, \"sailing empty\", \"sailing empty\", \"sailing empty\", \"sailing empty\", null, \"sailing empty\", \"sailing empty\", \"sailing empty\", \"sailing empty\", null, \"sailing empty\", \"sailing empty\", \"sailing empty\", \"sailing empty\", null, \"sailing empty\", \"sailing empty\", \"sailing empty\", \"sailing empty\", null, \"sailing empty\", \"sailing empty\", \"sailing empty\", \"sailing empty\", null, \"sailing empty\", \"sailing empty\", \"sailing empty\", \"sailing empty\", null, \"sailing empty\", \"sailing empty\", \"sailing empty\", \"sailing empty\", null, \"sailing empty\", \"sailing empty\", \"sailing empty\", \"sailing empty\", null, \"sailing empty\", \"sailing empty\", \"sailing empty\", \"sailing empty\", null, \"sailing empty\", \"sailing empty\", \"sailing empty\", \"sailing empty\", null, \"sailing empty\", \"sailing empty\", \"sailing empty\", \"sailing empty\", null]}, {\"connectgaps\": false, \"hoverinfo\": \"y+name\", \"line\": {\"color\": \"rgb(126,4,139)\", \"width\": 10}, \"mode\": \"lines\", \"name\": \"loading\", \"type\": \"scatter\", \"x\": [\"2010-01-01T04:00:00\", \"2010-01-01T04:00:00\", \"2010-01-01T05:00:00\", \"2010-01-01T05:00:00\", \"2010-01-01T05:00:00\", \"2010-01-01T06:31:25.649182\", \"2010-01-01T06:31:25.649182\", \"2010-01-01T07:31:25.649182\", \"2010-01-01T07:31:25.649182\", \"2010-01-01T07:31:25.649182\", \"2010-01-01T11:15:42.824591\", \"2010-01-01T11:15:42.824591\", \"2010-01-01T12:15:42.824591\", \"2010-01-01T12:15:42.824591\", \"2010-01-01T12:15:42.824591\", \"2010-01-01T13:47:08.473773\", \"2010-01-01T13:47:08.473773\", \"2010-01-01T14:47:08.473773\", \"2010-01-01T14:47:08.473773\", \"2010-01-01T14:47:08.473773\", \"2010-01-01T16:18:34.122956\", \"2010-01-01T16:18:34.122956\", \"2010-01-01T17:18:34.122956\", \"2010-01-01T17:18:34.122956\", \"2010-01-01T17:18:34.122956\", \"2010-01-01T22:15:42.824591\", \"2010-01-01T22:15:42.824591\", \"2010-01-01T23:15:42.824591\", \"2010-01-01T23:15:42.824591\", \"2010-01-01T23:15:42.824591\", \"2010-01-02T04:00:00\", \"2010-01-02T04:00:00\", \"2010-01-02T05:00:00\", \"2010-01-02T05:00:00\", \"2010-01-02T05:00:00\", \"2010-01-02T06:31:25.649182\", \"2010-01-02T06:31:25.649182\", \"2010-01-02T07:31:25.649182\", \"2010-01-02T07:31:25.649182\", \"2010-01-02T07:31:25.649182\", \"2010-01-02T11:15:42.824591\", \"2010-01-02T11:15:42.824591\", \"2010-01-02T12:15:42.824591\", \"2010-01-02T12:15:42.824591\", \"2010-01-02T12:15:42.824591\", \"2010-01-02T13:47:08.473773\", \"2010-01-02T13:47:08.473773\", \"2010-01-02T14:47:08.473773\", \"2010-01-02T14:47:08.473773\", \"2010-01-02T14:47:08.473773\", \"2010-01-02T16:18:34.122956\", \"2010-01-02T16:18:34.122956\", \"2010-01-02T17:18:34.122956\", \"2010-01-02T17:18:34.122956\", \"2010-01-02T17:18:34.122956\", \"2010-01-02T22:15:42.824591\", \"2010-01-02T22:15:42.824591\", \"2010-01-02T23:15:42.824591\", \"2010-01-02T23:15:42.824591\", \"2010-01-02T23:15:42.824591\", \"2010-01-03T04:00:00\", \"2010-01-03T04:00:00\", \"2010-01-03T05:00:00\", \"2010-01-03T05:00:00\", \"2010-01-03T05:00:00\", \"2010-01-03T06:31:25.649182\", \"2010-01-03T06:31:25.649182\", \"2010-01-03T07:31:25.649182\", \"2010-01-03T07:31:25.649182\", \"2010-01-03T07:31:25.649182\", \"2010-01-03T11:15:42.824591\", \"2010-01-03T11:15:42.824591\", \"2010-01-03T12:15:42.824591\", \"2010-01-03T12:15:42.824591\", \"2010-01-03T12:15:42.824591\", \"2010-01-03T13:47:08.473773\", \"2010-01-03T13:47:08.473773\", \"2010-01-03T14:47:08.473773\", \"2010-01-03T14:47:08.473773\", \"2010-01-03T14:47:08.473773\", \"2010-01-03T16:18:34.122956\", \"2010-01-03T16:18:34.122956\", \"2010-01-03T17:18:34.122956\", \"2010-01-03T17:18:34.122956\", \"2010-01-03T17:18:34.122956\", \"2010-01-03T22:15:42.824591\", \"2010-01-03T22:15:42.824591\", \"2010-01-03T23:15:42.824591\", \"2010-01-03T23:15:42.824591\", \"2010-01-03T23:15:42.824591\", \"2010-01-04T04:00:00\", \"2010-01-04T04:00:00\", \"2010-01-04T05:00:00\", \"2010-01-04T05:00:00\", \"2010-01-04T05:00:00\", \"2010-01-04T06:31:25.649182\", \"2010-01-04T06:31:25.649182\", \"2010-01-04T07:31:25.649182\", \"2010-01-04T07:31:25.649182\", \"2010-01-04T07:31:25.649182\", \"2010-01-04T11:15:42.824591\", \"2010-01-04T11:15:42.824591\", \"2010-01-04T12:15:42.824591\", \"2010-01-04T12:15:42.824591\", \"2010-01-04T12:15:42.824591\", \"2010-01-04T13:47:08.473773\", \"2010-01-04T13:47:08.473773\", \"2010-01-04T14:47:08.473773\", \"2010-01-04T14:47:08.473773\", \"2010-01-04T14:47:08.473773\", \"2010-01-04T16:18:34.122956\", \"2010-01-04T16:18:34.122956\", \"2010-01-04T17:18:34.122956\", \"2010-01-04T17:18:34.122956\", \"2010-01-04T17:18:34.122956\", \"2010-01-04T22:15:42.824591\", \"2010-01-04T22:15:42.824591\", \"2010-01-04T23:15:42.824591\", \"2010-01-04T23:15:42.824591\", \"2010-01-04T23:15:42.824591\", \"2010-01-05T04:00:00\", \"2010-01-05T04:00:00\", \"2010-01-05T05:00:00\", \"2010-01-05T05:00:00\", \"2010-01-05T05:00:00\", \"2010-01-05T06:31:25.649182\", \"2010-01-05T06:31:25.649182\", \"2010-01-05T07:31:25.649182\", \"2010-01-05T07:31:25.649182\", \"2010-01-05T07:31:25.649182\", \"2010-01-05T11:15:42.824591\", \"2010-01-05T11:15:42.824591\", \"2010-01-05T12:15:42.824591\", \"2010-01-05T12:15:42.824591\", \"2010-01-05T12:15:42.824591\", \"2010-01-05T13:47:08.473773\", \"2010-01-05T13:47:08.473773\", \"2010-01-05T14:47:08.473773\", \"2010-01-05T14:47:08.473773\", \"2010-01-05T14:47:08.473773\", \"2010-01-05T16:18:34.122956\", \"2010-01-05T16:18:34.122956\", \"2010-01-05T17:18:34.122956\", \"2010-01-05T17:18:34.122956\", \"2010-01-05T17:18:34.122956\", \"2010-01-05T22:15:42.824591\", \"2010-01-05T22:15:42.824591\", \"2010-01-05T23:15:42.824591\", \"2010-01-05T23:15:42.824591\", \"2010-01-05T23:15:42.824591\"], \"y\": [\"loading\", \"loading\", \"loading\", \"loading\", null, \"loading\", \"loading\", \"loading\", \"loading\", null, \"loading\", \"loading\", \"loading\", \"loading\", null, \"loading\", \"loading\", \"loading\", \"loading\", null, \"loading\", \"loading\", \"loading\", \"loading\", null, \"loading\", \"loading\", \"loading\", \"loading\", null, \"loading\", \"loading\", \"loading\", \"loading\", null, \"loading\", \"loading\", \"loading\", \"loading\", null, \"loading\", \"loading\", \"loading\", \"loading\", null, \"loading\", \"loading\", \"loading\", \"loading\", null, \"loading\", \"loading\", \"loading\", \"loading\", null, \"loading\", \"loading\", \"loading\", \"loading\", null, \"loading\", \"loading\", \"loading\", \"loading\", null, \"loading\", \"loading\", \"loading\", \"loading\", null, \"loading\", \"loading\", \"loading\", \"loading\", null, \"loading\", \"loading\", \"loading\", \"loading\", null, \"loading\", \"loading\", \"loading\", \"loading\", null, \"loading\", \"loading\", \"loading\", \"loading\", null, \"loading\", \"loading\", \"loading\", \"loading\", null, \"loading\", \"loading\", \"loading\", \"loading\", null, \"loading\", \"loading\", \"loading\", \"loading\", null, \"loading\", \"loading\", \"loading\", \"loading\", null, \"loading\", \"loading\", \"loading\", \"loading\", null, \"loading\", \"loading\", \"loading\", \"loading\", null, \"loading\", \"loading\", \"loading\", \"loading\", null, \"loading\", \"loading\", \"loading\", \"loading\", null, \"loading\", \"loading\", \"loading\", \"loading\", null, \"loading\", \"loading\", \"loading\", \"loading\", null, \"loading\", \"loading\", \"loading\", \"loading\", null, \"loading\", \"loading\", \"loading\", \"loading\", null]}, {\"connectgaps\": false, \"hoverinfo\": \"y+name\", \"line\": {\"color\": \"rgb(190,68,203)\", \"width\": 10}, \"mode\": \"lines\", \"name\": \"sailing full\", \"type\": \"scatter\", \"x\": [\"2010-01-01T05:00:00\", \"2010-01-01T05:00:00\", \"2010-01-01T05:15:42.824591\", \"2010-01-01T05:15:42.824591\", \"2010-01-01T05:15:42.824591\", \"2010-01-01T07:31:25.649182\", \"2010-01-01T07:31:25.649182\", \"2010-01-01T07:47:08.473773\", \"2010-01-01T07:47:08.473773\", \"2010-01-01T07:47:08.473773\", \"2010-01-01T12:15:42.824591\", \"2010-01-01T12:15:42.824591\", \"2010-01-01T12:31:25.649182\", \"2010-01-01T12:31:25.649182\", \"2010-01-01T12:31:25.649182\", \"2010-01-01T14:47:08.473773\", \"2010-01-01T14:47:08.473773\", \"2010-01-01T15:02:51.298365\", \"2010-01-01T15:02:51.298365\", \"2010-01-01T15:02:51.298365\", \"2010-01-01T17:18:34.122956\", \"2010-01-01T17:18:34.122956\", \"2010-01-01T17:34:16.947547\", \"2010-01-01T17:34:16.947547\", \"2010-01-01T17:34:16.947547\", \"2010-01-01T23:15:42.824591\", \"2010-01-01T23:15:42.824591\", \"2010-01-01T23:31:25.649182\", \"2010-01-01T23:31:25.649182\", \"2010-01-01T23:31:25.649182\", \"2010-01-02T05:00:00\", \"2010-01-02T05:00:00\", \"2010-01-02T05:15:42.824591\", \"2010-01-02T05:15:42.824591\", \"2010-01-02T05:15:42.824591\", \"2010-01-02T07:31:25.649182\", \"2010-01-02T07:31:25.649182\", \"2010-01-02T07:47:08.473773\", \"2010-01-02T07:47:08.473773\", \"2010-01-02T07:47:08.473773\", \"2010-01-02T12:15:42.824591\", \"2010-01-02T12:15:42.824591\", \"2010-01-02T12:31:25.649182\", \"2010-01-02T12:31:25.649182\", \"2010-01-02T12:31:25.649182\", \"2010-01-02T14:47:08.473773\", \"2010-01-02T14:47:08.473773\", \"2010-01-02T15:02:51.298365\", \"2010-01-02T15:02:51.298365\", \"2010-01-02T15:02:51.298365\", \"2010-01-02T17:18:34.122956\", \"2010-01-02T17:18:34.122956\", \"2010-01-02T17:34:16.947547\", \"2010-01-02T17:34:16.947547\", \"2010-01-02T17:34:16.947547\", \"2010-01-02T23:15:42.824591\", \"2010-01-02T23:15:42.824591\", \"2010-01-02T23:31:25.649182\", \"2010-01-02T23:31:25.649182\", \"2010-01-02T23:31:25.649182\", \"2010-01-03T05:00:00\", \"2010-01-03T05:00:00\", \"2010-01-03T05:15:42.824591\", \"2010-01-03T05:15:42.824591\", \"2010-01-03T05:15:42.824591\", \"2010-01-03T07:31:25.649182\", \"2010-01-03T07:31:25.649182\", \"2010-01-03T07:47:08.473773\", \"2010-01-03T07:47:08.473773\", \"2010-01-03T07:47:08.473773\", \"2010-01-03T12:15:42.824591\", \"2010-01-03T12:15:42.824591\", \"2010-01-03T12:31:25.649182\", \"2010-01-03T12:31:25.649182\", \"2010-01-03T12:31:25.649182\", \"2010-01-03T14:47:08.473773\", \"2010-01-03T14:47:08.473773\", \"2010-01-03T15:02:51.298365\", \"2010-01-03T15:02:51.298365\", \"2010-01-03T15:02:51.298365\", \"2010-01-03T17:18:34.122956\", \"2010-01-03T17:18:34.122956\", \"2010-01-03T17:34:16.947547\", \"2010-01-03T17:34:16.947547\", \"2010-01-03T17:34:16.947547\", \"2010-01-03T23:15:42.824591\", \"2010-01-03T23:15:42.824591\", \"2010-01-03T23:31:25.649182\", \"2010-01-03T23:31:25.649182\", \"2010-01-03T23:31:25.649182\", \"2010-01-04T05:00:00\", \"2010-01-04T05:00:00\", \"2010-01-04T05:15:42.824591\", \"2010-01-04T05:15:42.824591\", \"2010-01-04T05:15:42.824591\", \"2010-01-04T07:31:25.649182\", \"2010-01-04T07:31:25.649182\", \"2010-01-04T07:47:08.473773\", \"2010-01-04T07:47:08.473773\", \"2010-01-04T07:47:08.473773\", \"2010-01-04T12:15:42.824591\", \"2010-01-04T12:15:42.824591\", \"2010-01-04T12:31:25.649182\", \"2010-01-04T12:31:25.649182\", \"2010-01-04T12:31:25.649182\", \"2010-01-04T14:47:08.473773\", \"2010-01-04T14:47:08.473773\", \"2010-01-04T15:02:51.298365\", \"2010-01-04T15:02:51.298365\", \"2010-01-04T15:02:51.298365\", \"2010-01-04T17:18:34.122956\", \"2010-01-04T17:18:34.122956\", \"2010-01-04T17:34:16.947547\", \"2010-01-04T17:34:16.947547\", \"2010-01-04T17:34:16.947547\", \"2010-01-04T23:15:42.824591\", \"2010-01-04T23:15:42.824591\", \"2010-01-04T23:31:25.649182\", \"2010-01-04T23:31:25.649182\", \"2010-01-04T23:31:25.649182\", \"2010-01-05T05:00:00\", \"2010-01-05T05:00:00\", \"2010-01-05T05:15:42.824591\", \"2010-01-05T05:15:42.824591\", \"2010-01-05T05:15:42.824591\", \"2010-01-05T07:31:25.649182\", \"2010-01-05T07:31:25.649182\", \"2010-01-05T07:47:08.473773\", \"2010-01-05T07:47:08.473773\", \"2010-01-05T07:47:08.473773\", \"2010-01-05T12:15:42.824591\", \"2010-01-05T12:15:42.824591\", \"2010-01-05T12:31:25.649182\", \"2010-01-05T12:31:25.649182\", \"2010-01-05T12:31:25.649182\", \"2010-01-05T14:47:08.473773\", \"2010-01-05T14:47:08.473773\", \"2010-01-05T15:02:51.298365\", \"2010-01-05T15:02:51.298365\", \"2010-01-05T15:02:51.298365\", \"2010-01-05T17:18:34.122956\", \"2010-01-05T17:18:34.122956\", \"2010-01-05T17:34:16.947547\", \"2010-01-05T17:34:16.947547\", \"2010-01-05T17:34:16.947547\", \"2010-01-05T23:15:42.824591\", \"2010-01-05T23:15:42.824591\", \"2010-01-05T23:31:25.649182\", \"2010-01-05T23:31:25.649182\", \"2010-01-05T23:31:25.649182\"], \"y\": [\"sailing full\", \"sailing full\", \"sailing full\", \"sailing full\", null, \"sailing full\", \"sailing full\", \"sailing full\", \"sailing full\", null, \"sailing full\", \"sailing full\", \"sailing full\", \"sailing full\", null, \"sailing full\", \"sailing full\", \"sailing full\", \"sailing full\", null, \"sailing full\", \"sailing full\", \"sailing full\", \"sailing full\", null, \"sailing full\", \"sailing full\", \"sailing full\", \"sailing full\", null, \"sailing full\", \"sailing full\", \"sailing full\", \"sailing full\", null, \"sailing full\", \"sailing full\", \"sailing full\", \"sailing full\", null, \"sailing full\", \"sailing full\", \"sailing full\", \"sailing full\", null, \"sailing full\", \"sailing full\", \"sailing full\", \"sailing full\", null, \"sailing full\", \"sailing full\", \"sailing full\", \"sailing full\", null, \"sailing full\", \"sailing full\", \"sailing full\", \"sailing full\", null, \"sailing full\", \"sailing full\", \"sailing full\", \"sailing full\", null, \"sailing full\", \"sailing full\", \"sailing full\", \"sailing full\", null, \"sailing full\", \"sailing full\", \"sailing full\", \"sailing full\", null, \"sailing full\", \"sailing full\", \"sailing full\", \"sailing full\", null, \"sailing full\", \"sailing full\", \"sailing full\", \"sailing full\", null, \"sailing full\", \"sailing full\", \"sailing full\", \"sailing full\", null, \"sailing full\", \"sailing full\", \"sailing full\", \"sailing full\", null, \"sailing full\", \"sailing full\", \"sailing full\", \"sailing full\", null, \"sailing full\", \"sailing full\", \"sailing full\", \"sailing full\", null, \"sailing full\", \"sailing full\", \"sailing full\", \"sailing full\", null, \"sailing full\", \"sailing full\", \"sailing full\", \"sailing full\", null, \"sailing full\", \"sailing full\", \"sailing full\", \"sailing full\", null, \"sailing full\", \"sailing full\", \"sailing full\", \"sailing full\", null, \"sailing full\", \"sailing full\", \"sailing full\", \"sailing full\", null, \"sailing full\", \"sailing full\", \"sailing full\", \"sailing full\", null, \"sailing full\", \"sailing full\", \"sailing full\", \"sailing full\", null, \"sailing full\", \"sailing full\", \"sailing full\", \"sailing full\", null, \"sailing full\", \"sailing full\", \"sailing full\", \"sailing full\", null]}, {\"connectgaps\": false, \"hoverinfo\": \"y+name\", \"line\": {\"color\": \"rgb(254,132,11)\", \"width\": 10}, \"mode\": \"lines\", \"name\": \"unloading\", \"type\": \"scatter\", \"x\": [\"2010-01-01T05:15:42.824591\", \"2010-01-01T05:15:42.824591\", \"2010-01-01T06:15:42.824591\", \"2010-01-01T06:15:42.824591\", \"2010-01-01T06:15:42.824591\", \"2010-01-01T10:00:00\", \"2010-01-01T10:00:00\", \"2010-01-01T11:00:00\", \"2010-01-01T11:00:00\", \"2010-01-01T11:00:00\", \"2010-01-01T12:31:25.649182\", \"2010-01-01T12:31:25.649182\", \"2010-01-01T13:31:25.649182\", \"2010-01-01T13:31:25.649182\", \"2010-01-01T13:31:25.649182\", \"2010-01-01T15:02:51.298365\", \"2010-01-01T15:02:51.298365\", \"2010-01-01T16:02:51.298365\", \"2010-01-01T16:02:51.298365\", \"2010-01-01T16:02:51.298365\", \"2010-01-01T21:00:00\", \"2010-01-01T21:00:00\", \"2010-01-01T22:00:00\", \"2010-01-01T22:00:00\", \"2010-01-01T22:00:00\", \"2010-01-01T23:31:25.649182\", \"2010-01-01T23:31:25.649182\", \"2010-01-02T00:31:25.649182\", \"2010-01-02T00:31:25.649182\", \"2010-01-02T00:31:25.649182\", \"2010-01-02T05:15:42.824591\", \"2010-01-02T05:15:42.824591\", \"2010-01-02T06:15:42.824591\", \"2010-01-02T06:15:42.824591\", \"2010-01-02T06:15:42.824591\", \"2010-01-02T10:00:00\", \"2010-01-02T10:00:00\", \"2010-01-02T11:00:00\", \"2010-01-02T11:00:00\", \"2010-01-02T11:00:00\", \"2010-01-02T12:31:25.649182\", \"2010-01-02T12:31:25.649182\", \"2010-01-02T13:31:25.649182\", \"2010-01-02T13:31:25.649182\", \"2010-01-02T13:31:25.649182\", \"2010-01-02T15:02:51.298365\", \"2010-01-02T15:02:51.298365\", \"2010-01-02T16:02:51.298365\", \"2010-01-02T16:02:51.298365\", \"2010-01-02T16:02:51.298365\", \"2010-01-02T21:00:00\", \"2010-01-02T21:00:00\", \"2010-01-02T22:00:00\", \"2010-01-02T22:00:00\", \"2010-01-02T22:00:00\", \"2010-01-02T23:31:25.649182\", \"2010-01-02T23:31:25.649182\", \"2010-01-03T00:31:25.649182\", \"2010-01-03T00:31:25.649182\", \"2010-01-03T00:31:25.649182\", \"2010-01-03T05:15:42.824591\", \"2010-01-03T05:15:42.824591\", \"2010-01-03T06:15:42.824591\", \"2010-01-03T06:15:42.824591\", \"2010-01-03T06:15:42.824591\", \"2010-01-03T10:00:00\", \"2010-01-03T10:00:00\", \"2010-01-03T11:00:00\", \"2010-01-03T11:00:00\", \"2010-01-03T11:00:00\", \"2010-01-03T12:31:25.649182\", \"2010-01-03T12:31:25.649182\", \"2010-01-03T13:31:25.649182\", \"2010-01-03T13:31:25.649182\", \"2010-01-03T13:31:25.649182\", \"2010-01-03T15:02:51.298365\", \"2010-01-03T15:02:51.298365\", \"2010-01-03T16:02:51.298365\", \"2010-01-03T16:02:51.298365\", \"2010-01-03T16:02:51.298365\", \"2010-01-03T21:00:00\", \"2010-01-03T21:00:00\", \"2010-01-03T22:00:00\", \"2010-01-03T22:00:00\", \"2010-01-03T22:00:00\", \"2010-01-03T23:31:25.649182\", \"2010-01-03T23:31:25.649182\", \"2010-01-04T00:31:25.649182\", \"2010-01-04T00:31:25.649182\", \"2010-01-04T00:31:25.649182\", \"2010-01-04T05:15:42.824591\", \"2010-01-04T05:15:42.824591\", \"2010-01-04T06:15:42.824591\", \"2010-01-04T06:15:42.824591\", \"2010-01-04T06:15:42.824591\", \"2010-01-04T10:00:00\", \"2010-01-04T10:00:00\", \"2010-01-04T11:00:00\", \"2010-01-04T11:00:00\", \"2010-01-04T11:00:00\", \"2010-01-04T12:31:25.649182\", \"2010-01-04T12:31:25.649182\", \"2010-01-04T13:31:25.649182\", \"2010-01-04T13:31:25.649182\", \"2010-01-04T13:31:25.649182\", \"2010-01-04T15:02:51.298365\", \"2010-01-04T15:02:51.298365\", \"2010-01-04T16:02:51.298365\", \"2010-01-04T16:02:51.298365\", \"2010-01-04T16:02:51.298365\", \"2010-01-04T21:00:00\", \"2010-01-04T21:00:00\", \"2010-01-04T22:00:00\", \"2010-01-04T22:00:00\", \"2010-01-04T22:00:00\", \"2010-01-04T23:31:25.649182\", \"2010-01-04T23:31:25.649182\", \"2010-01-05T00:31:25.649182\", \"2010-01-05T00:31:25.649182\", \"2010-01-05T00:31:25.649182\", \"2010-01-05T05:15:42.824591\", \"2010-01-05T05:15:42.824591\", \"2010-01-05T06:15:42.824591\", \"2010-01-05T06:15:42.824591\", \"2010-01-05T06:15:42.824591\", \"2010-01-05T10:00:00\", \"2010-01-05T10:00:00\", \"2010-01-05T11:00:00\", \"2010-01-05T11:00:00\", \"2010-01-05T11:00:00\", \"2010-01-05T12:31:25.649182\", \"2010-01-05T12:31:25.649182\", \"2010-01-05T13:31:25.649182\", \"2010-01-05T13:31:25.649182\", \"2010-01-05T13:31:25.649182\", \"2010-01-05T15:02:51.298365\", \"2010-01-05T15:02:51.298365\", \"2010-01-05T16:02:51.298365\", \"2010-01-05T16:02:51.298365\", \"2010-01-05T16:02:51.298365\", \"2010-01-05T21:00:00\", \"2010-01-05T21:00:00\", \"2010-01-05T22:00:00\", \"2010-01-05T22:00:00\", \"2010-01-05T22:00:00\", \"2010-01-05T23:31:25.649182\", \"2010-01-05T23:31:25.649182\", \"2010-01-06T00:31:25.649182\", \"2010-01-06T00:31:25.649182\", \"2010-01-06T00:31:25.649182\"], \"y\": [\"unloading\", \"unloading\", \"unloading\", \"unloading\", null, \"unloading\", \"unloading\", \"unloading\", \"unloading\", null, \"unloading\", \"unloading\", \"unloading\", \"unloading\", null, \"unloading\", \"unloading\", \"unloading\", \"unloading\", null, \"unloading\", \"unloading\", \"unloading\", \"unloading\", null, \"unloading\", \"unloading\", \"unloading\", \"unloading\", null, \"unloading\", \"unloading\", \"unloading\", \"unloading\", null, \"unloading\", \"unloading\", \"unloading\", \"unloading\", null, \"unloading\", \"unloading\", \"unloading\", \"unloading\", null, \"unloading\", \"unloading\", \"unloading\", \"unloading\", null, \"unloading\", \"unloading\", \"unloading\", \"unloading\", null, \"unloading\", \"unloading\", \"unloading\", \"unloading\", null, \"unloading\", \"unloading\", \"unloading\", \"unloading\", null, \"unloading\", \"unloading\", \"unloading\", \"unloading\", null, \"unloading\", \"unloading\", \"unloading\", \"unloading\", null, \"unloading\", \"unloading\", \"unloading\", \"unloading\", null, \"unloading\", \"unloading\", \"unloading\", \"unloading\", null, \"unloading\", \"unloading\", \"unloading\", \"unloading\", null, \"unloading\", \"unloading\", \"unloading\", \"unloading\", null, \"unloading\", \"unloading\", \"unloading\", \"unloading\", null, \"unloading\", \"unloading\", \"unloading\", \"unloading\", null, \"unloading\", \"unloading\", \"unloading\", \"unloading\", null, \"unloading\", \"unloading\", \"unloading\", \"unloading\", null, \"unloading\", \"unloading\", \"unloading\", \"unloading\", null, \"unloading\", \"unloading\", \"unloading\", \"unloading\", null, \"unloading\", \"unloading\", \"unloading\", \"unloading\", null, \"unloading\", \"unloading\", \"unloading\", \"unloading\", null, \"unloading\", \"unloading\", \"unloading\", \"unloading\", null, \"unloading\", \"unloading\", \"unloading\", \"unloading\", null, \"unloading\", \"unloading\", \"unloading\", \"unloading\", null]}],                        {\"hovermode\": \"closest\", \"legend\": {\"orientation\": \"h\", \"x\": 0, \"y\": -0.2}, \"template\": {\"data\": {\"bar\": [{\"error_x\": {\"color\": \"#2a3f5f\"}, \"error_y\": {\"color\": \"#2a3f5f\"}, \"marker\": {\"line\": {\"color\": \"#E5ECF6\", \"width\": 0.5}}, \"type\": \"bar\"}], \"barpolar\": [{\"marker\": {\"line\": {\"color\": \"#E5ECF6\", \"width\": 0.5}}, \"type\": \"barpolar\"}], \"carpet\": [{\"aaxis\": {\"endlinecolor\": \"#2a3f5f\", \"gridcolor\": \"white\", \"linecolor\": \"white\", \"minorgridcolor\": \"white\", \"startlinecolor\": \"#2a3f5f\"}, \"baxis\": {\"endlinecolor\": \"#2a3f5f\", \"gridcolor\": \"white\", \"linecolor\": \"white\", \"minorgridcolor\": \"white\", \"startlinecolor\": \"#2a3f5f\"}, \"type\": \"carpet\"}], \"choropleth\": [{\"colorbar\": {\"outlinewidth\": 0, \"ticks\": \"\"}, \"type\": \"choropleth\"}], \"contour\": [{\"colorbar\": {\"outlinewidth\": 0, \"ticks\": \"\"}, \"colorscale\": [[0.0, \"#0d0887\"], [0.1111111111111111, \"#46039f\"], [0.2222222222222222, \"#7201a8\"], [0.3333333333333333, \"#9c179e\"], [0.4444444444444444, \"#bd3786\"], [0.5555555555555556, \"#d8576b\"], [0.6666666666666666, \"#ed7953\"], [0.7777777777777778, \"#fb9f3a\"], [0.8888888888888888, \"#fdca26\"], [1.0, \"#f0f921\"]], \"type\": \"contour\"}], \"contourcarpet\": [{\"colorbar\": {\"outlinewidth\": 0, \"ticks\": \"\"}, \"type\": \"contourcarpet\"}], \"heatmap\": [{\"colorbar\": {\"outlinewidth\": 0, \"ticks\": \"\"}, \"colorscale\": [[0.0, \"#0d0887\"], [0.1111111111111111, \"#46039f\"], [0.2222222222222222, \"#7201a8\"], [0.3333333333333333, \"#9c179e\"], [0.4444444444444444, \"#bd3786\"], [0.5555555555555556, \"#d8576b\"], [0.6666666666666666, \"#ed7953\"], [0.7777777777777778, \"#fb9f3a\"], [0.8888888888888888, \"#fdca26\"], [1.0, \"#f0f921\"]], \"type\": \"heatmap\"}], \"heatmapgl\": [{\"colorbar\": {\"outlinewidth\": 0, \"ticks\": \"\"}, \"colorscale\": [[0.0, \"#0d0887\"], [0.1111111111111111, \"#46039f\"], [0.2222222222222222, \"#7201a8\"], [0.3333333333333333, \"#9c179e\"], [0.4444444444444444, \"#bd3786\"], [0.5555555555555556, \"#d8576b\"], [0.6666666666666666, \"#ed7953\"], [0.7777777777777778, \"#fb9f3a\"], [0.8888888888888888, \"#fdca26\"], [1.0, \"#f0f921\"]], \"type\": \"heatmapgl\"}], \"histogram\": [{\"marker\": {\"colorbar\": {\"outlinewidth\": 0, \"ticks\": \"\"}}, \"type\": \"histogram\"}], \"histogram2d\": [{\"colorbar\": {\"outlinewidth\": 0, \"ticks\": \"\"}, \"colorscale\": [[0.0, \"#0d0887\"], [0.1111111111111111, \"#46039f\"], [0.2222222222222222, \"#7201a8\"], [0.3333333333333333, \"#9c179e\"], [0.4444444444444444, \"#bd3786\"], [0.5555555555555556, \"#d8576b\"], [0.6666666666666666, \"#ed7953\"], [0.7777777777777778, \"#fb9f3a\"], [0.8888888888888888, \"#fdca26\"], [1.0, \"#f0f921\"]], \"type\": \"histogram2d\"}], \"histogram2dcontour\": [{\"colorbar\": {\"outlinewidth\": 0, \"ticks\": \"\"}, \"colorscale\": [[0.0, \"#0d0887\"], [0.1111111111111111, \"#46039f\"], [0.2222222222222222, \"#7201a8\"], [0.3333333333333333, \"#9c179e\"], [0.4444444444444444, \"#bd3786\"], [0.5555555555555556, \"#d8576b\"], [0.6666666666666666, \"#ed7953\"], [0.7777777777777778, \"#fb9f3a\"], [0.8888888888888888, \"#fdca26\"], [1.0, \"#f0f921\"]], \"type\": \"histogram2dcontour\"}], \"mesh3d\": [{\"colorbar\": {\"outlinewidth\": 0, \"ticks\": \"\"}, \"type\": \"mesh3d\"}], \"parcoords\": [{\"line\": {\"colorbar\": {\"outlinewidth\": 0, \"ticks\": \"\"}}, \"type\": \"parcoords\"}], \"pie\": [{\"automargin\": true, \"type\": \"pie\"}], \"scatter\": [{\"marker\": {\"colorbar\": {\"outlinewidth\": 0, \"ticks\": \"\"}}, \"type\": \"scatter\"}], \"scatter3d\": [{\"line\": {\"colorbar\": {\"outlinewidth\": 0, \"ticks\": \"\"}}, \"marker\": {\"colorbar\": {\"outlinewidth\": 0, \"ticks\": \"\"}}, \"type\": \"scatter3d\"}], \"scattercarpet\": [{\"marker\": {\"colorbar\": {\"outlinewidth\": 0, \"ticks\": \"\"}}, \"type\": \"scattercarpet\"}], \"scattergeo\": [{\"marker\": {\"colorbar\": {\"outlinewidth\": 0, \"ticks\": \"\"}}, \"type\": \"scattergeo\"}], \"scattergl\": [{\"marker\": {\"colorbar\": {\"outlinewidth\": 0, \"ticks\": \"\"}}, \"type\": \"scattergl\"}], \"scattermapbox\": [{\"marker\": {\"colorbar\": {\"outlinewidth\": 0, \"ticks\": \"\"}}, \"type\": \"scattermapbox\"}], \"scatterpolar\": [{\"marker\": {\"colorbar\": {\"outlinewidth\": 0, \"ticks\": \"\"}}, \"type\": \"scatterpolar\"}], \"scatterpolargl\": [{\"marker\": {\"colorbar\": {\"outlinewidth\": 0, \"ticks\": \"\"}}, \"type\": \"scatterpolargl\"}], \"scatterternary\": [{\"marker\": {\"colorbar\": {\"outlinewidth\": 0, \"ticks\": \"\"}}, \"type\": \"scatterternary\"}], \"surface\": [{\"colorbar\": {\"outlinewidth\": 0, \"ticks\": \"\"}, \"colorscale\": [[0.0, \"#0d0887\"], [0.1111111111111111, \"#46039f\"], [0.2222222222222222, \"#7201a8\"], [0.3333333333333333, \"#9c179e\"], [0.4444444444444444, \"#bd3786\"], [0.5555555555555556, \"#d8576b\"], [0.6666666666666666, \"#ed7953\"], [0.7777777777777778, \"#fb9f3a\"], [0.8888888888888888, \"#fdca26\"], [1.0, \"#f0f921\"]], \"type\": \"surface\"}], \"table\": [{\"cells\": {\"fill\": {\"color\": \"#EBF0F8\"}, \"line\": {\"color\": \"white\"}}, \"header\": {\"fill\": {\"color\": \"#C8D4E3\"}, \"line\": {\"color\": \"white\"}}, \"type\": \"table\"}]}, \"layout\": {\"annotationdefaults\": {\"arrowcolor\": \"#2a3f5f\", \"arrowhead\": 0, \"arrowwidth\": 1}, \"coloraxis\": {\"colorbar\": {\"outlinewidth\": 0, \"ticks\": \"\"}}, \"colorscale\": {\"diverging\": [[0, \"#8e0152\"], [0.1, \"#c51b7d\"], [0.2, \"#de77ae\"], [0.3, \"#f1b6da\"], [0.4, \"#fde0ef\"], [0.5, \"#f7f7f7\"], [0.6, \"#e6f5d0\"], [0.7, \"#b8e186\"], [0.8, \"#7fbc41\"], [0.9, \"#4d9221\"], [1, \"#276419\"]], \"sequential\": [[0.0, \"#0d0887\"], [0.1111111111111111, \"#46039f\"], [0.2222222222222222, \"#7201a8\"], [0.3333333333333333, \"#9c179e\"], [0.4444444444444444, \"#bd3786\"], [0.5555555555555556, \"#d8576b\"], [0.6666666666666666, \"#ed7953\"], [0.7777777777777778, \"#fb9f3a\"], [0.8888888888888888, \"#fdca26\"], [1.0, \"#f0f921\"]], \"sequentialminus\": [[0.0, \"#0d0887\"], [0.1111111111111111, \"#46039f\"], [0.2222222222222222, \"#7201a8\"], [0.3333333333333333, \"#9c179e\"], [0.4444444444444444, \"#bd3786\"], [0.5555555555555556, \"#d8576b\"], [0.6666666666666666, \"#ed7953\"], [0.7777777777777778, \"#fb9f3a\"], [0.8888888888888888, \"#fdca26\"], [1.0, \"#f0f921\"]]}, \"colorway\": [\"#636efa\", \"#EF553B\", \"#00cc96\", \"#ab63fa\", \"#FFA15A\", \"#19d3f3\", \"#FF6692\", \"#B6E880\", \"#FF97FF\", \"#FECB52\"], \"font\": {\"color\": \"#2a3f5f\"}, \"geo\": {\"bgcolor\": \"white\", \"lakecolor\": \"white\", \"landcolor\": \"#E5ECF6\", \"showlakes\": true, \"showland\": true, \"subunitcolor\": \"white\"}, \"hoverlabel\": {\"align\": \"left\"}, \"hovermode\": \"closest\", \"mapbox\": {\"style\": \"light\"}, \"paper_bgcolor\": \"white\", \"plot_bgcolor\": \"#E5ECF6\", \"polar\": {\"angularaxis\": {\"gridcolor\": \"white\", \"linecolor\": \"white\", \"ticks\": \"\"}, \"bgcolor\": \"#E5ECF6\", \"radialaxis\": {\"gridcolor\": \"white\", \"linecolor\": \"white\", \"ticks\": \"\"}}, \"scene\": {\"xaxis\": {\"backgroundcolor\": \"#E5ECF6\", \"gridcolor\": \"white\", \"gridwidth\": 2, \"linecolor\": \"white\", \"showbackground\": true, \"ticks\": \"\", \"zerolinecolor\": \"white\"}, \"yaxis\": {\"backgroundcolor\": \"#E5ECF6\", \"gridcolor\": \"white\", \"gridwidth\": 2, \"linecolor\": \"white\", \"showbackground\": true, \"ticks\": \"\", \"zerolinecolor\": \"white\"}, \"zaxis\": {\"backgroundcolor\": \"#E5ECF6\", \"gridcolor\": \"white\", \"gridwidth\": 2, \"linecolor\": \"white\", \"showbackground\": true, \"ticks\": \"\", \"zerolinecolor\": \"white\"}}, \"shapedefaults\": {\"line\": {\"color\": \"#2a3f5f\"}}, \"ternary\": {\"aaxis\": {\"gridcolor\": \"white\", \"linecolor\": \"white\", \"ticks\": \"\"}, \"baxis\": {\"gridcolor\": \"white\", \"linecolor\": \"white\", \"ticks\": \"\"}, \"bgcolor\": \"#E5ECF6\", \"caxis\": {\"gridcolor\": \"white\", \"linecolor\": \"white\", \"ticks\": \"\"}}, \"title\": {\"x\": 0.05}, \"xaxis\": {\"automargin\": true, \"gridcolor\": \"white\", \"linecolor\": \"white\", \"ticks\": \"\", \"title\": {\"standoff\": 15}, \"zerolinecolor\": \"white\", \"zerolinewidth\": 2}, \"yaxis\": {\"automargin\": true, \"gridcolor\": \"white\", \"linecolor\": \"white\", \"ticks\": \"\", \"title\": {\"standoff\": 15}, \"zerolinecolor\": \"white\", \"zerolinewidth\": 2}}}, \"title\": {\"text\": \"GANTT Chart\"}, \"xaxis\": {\"range\": [\"2009-12-31T23:00:00\", \"2010-01-06T00:31:25.649182\"], \"title\": {\"font\": {\"color\": \"#7f7f7f\", \"family\": \"Courier New, monospace\", \"size\": 18}, \"text\": \"Time\"}}, \"yaxis\": {\"title\": {\"font\": {\"color\": \"#7f7f7f\", \"family\": \"Courier New, monospace\", \"size\": 18}, \"text\": \"Activities\"}}},                        {\"responsive\": true}                    ).then(function(){\n",
       "                            \n",
       "var gd = document.getElementById('472d11a3-f28d-46e3-b95c-1f18fef4ac45');\n",
       "var x = new MutationObserver(function (mutations, observer) {{\n",
       "        var display = window.getComputedStyle(gd).display;\n",
       "        if (!display || display === 'none') {{\n",
       "            console.log([gd, 'removed!']);\n",
       "            Plotly.purge(gd);\n",
       "            observer.disconnect();\n",
       "        }}\n",
       "}});\n",
       "\n",
       "// Listen for the removal of the full notebook cells\n",
       "var notebookContainer = gd.closest('#notebook-container');\n",
       "if (notebookContainer) {{\n",
       "    x.observe(notebookContainer, {childList: true});\n",
       "}}\n",
       "\n",
       "// Listen for the clearing of the current output cell\n",
       "var outputEl = gd.closest('.output');\n",
       "if (outputEl) {{\n",
       "    x.observe(outputEl, {childList: true});\n",
       "}}\n",
       "\n",
       "                        })                };                });            </script>        </div>"
      ]
     },
     "metadata": {},
     "output_type": "display_data"
    }
   ],
   "source": [
    "plot.get_gantt_chart(sub_processes)"
   ]
  },
  {
   "cell_type": "markdown",
   "metadata": {},
   "source": [
    "##### 5.3 Visualise container volume developments"
   ]
  },
  {
   "cell_type": "code",
   "execution_count": 15,
   "metadata": {},
   "outputs": [
    {
     "data": {
      "image/png": "[encoded data removed]",
      "text/plain": [
       "<Figure size 1008x504 with 1 Axes>"
      ]
     },
     "metadata": {
      "needs_background": "light"
     },
     "output_type": "display_data"
    }
   ],
   "source": [
    "fig = plot.get_step_chart([vessel01, from_site, to_site])"
   ]
  }
 ],
 "metadata": {
  "kernelspec": {
   "display_name": "Python 3",
   "language": "python",
   "name": "python3"
  },
  "language_info": {
   "codemirror_mode": {
    "name": "ipython",
    "version": 3
   },
   "file_extension": ".py",
   "mimetype": "text/x-python",
   "name": "python",
   "nbconvert_exporter": "python",
   "pygments_lexer": "ipython3",
   "version": "3.8.6"
  }
 },
 "nbformat": 4,
 "nbformat_minor": 2
}
