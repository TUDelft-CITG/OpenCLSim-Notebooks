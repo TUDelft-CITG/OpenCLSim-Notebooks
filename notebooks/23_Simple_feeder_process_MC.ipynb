{
 "cells": [
  {
   "cell_type": "markdown",
   "metadata": {},
   "source": [
    "## Demo: MultiContainer feeder example\n",
    "The basic steps to set up an OpenCLSim simulation are:\n",
    "* Import libraries\n",
    "* Initialise simpy environment\n",
    "* Define object classes\n",
    "* Create objects\n",
    "  * Create sites\n",
    "  * Create vessels\n",
    "  * Create activities\n",
    "* Register processes and run simpy\n",
    "\n",
    "----\n"
   ]
  },
  {
   "cell_type": "markdown",
   "metadata": {},
   "source": [
    "#### 0. Import libraries"
   ]
  },
  {
   "cell_type": "code",
   "execution_count": 1,
   "metadata": {},
   "outputs": [],
   "source": [
    "import datetime, time\n",
    "import simpy\n",
    "\n",
    "import numpy as np\n",
    "import pandas as pd\n",
    "import shapely.geometry\n",
    "\n",
    "import openclsim.core as core\n",
    "import openclsim.model as model\n",
    "import openclsim.plot as plot"
   ]
  },
  {
   "cell_type": "markdown",
   "metadata": {},
   "source": [
    "#### 1. Initialise simpy environment"
   ]
  },
  {
   "cell_type": "code",
   "execution_count": 2,
   "metadata": {},
   "outputs": [],
   "source": [
    "# setup environment\n",
    "simulation_start = 0\n",
    "my_env = simpy.Environment(initial_time=simulation_start)"
   ]
  },
  {
   "cell_type": "markdown",
   "metadata": {},
   "source": [
    "#### 2. Define object classes"
   ]
  },
  {
   "cell_type": "code",
   "execution_count": 3,
   "metadata": {},
   "outputs": [],
   "source": [
    "# create a Site object based on desired mixin classes\n",
    "Site = type(\n",
    "    \"Site\",\n",
    "    (\n",
    "        core.Identifiable,\n",
    "        core.Log,\n",
    "        core.Locatable,\n",
    "        core.HasMultiContainer,\n",
    "        core.HasResource,\n",
    "    ),\n",
    "    {},\n",
    ")\n",
    "\n",
    "# create a TransportProcessingResource object based on desired mixin classes\n",
    "TransportProcessingResource = type(\n",
    "    \"TransportProcessingResource\",\n",
    "    (\n",
    "        core.Identifiable,\n",
    "        core.Log,\n",
    "        core.MultiContainerDependentMovable,\n",
    "        core.Processor,\n",
    "        core.HasResource,\n",
    "    ),\n",
    "    {\"key\": \"MultiStoreHopper\"},\n",
    ")"
   ]
  },
  {
   "cell_type": "markdown",
   "metadata": {},
   "source": [
    "#### 3. Create objects\n",
    "##### 3.1. Create site object(s)"
   ]
  },
  {
   "cell_type": "code",
   "execution_count": 4,
   "metadata": {},
   "outputs": [],
   "source": [
    "# prepare input data for from_site\n",
    "location_from_site = shapely.geometry.Point(4.18055556, 52.18664444)\n",
    "data_from_site = {\"env\": my_env,\n",
    "                  \"name\": \"from_site\",\n",
    "                  \"geometry\": location_from_site,\n",
    "                  \"store_capacity\": 4,\n",
    "                  \"nr_resources\": 1,\n",
    "                  \"initials\": [\n",
    "                                {\"id\": \"Cargo type 1\", \"level\": 10, \"capacity\": 10},\n",
    "                              ],\n",
    "                 }\n",
    "# instantiate from_site \n",
    "from_site = Site(**data_from_site)\n",
    "\n",
    "# prepare input data for to_site\n",
    "location_to_site = shapely.geometry.Point(4.25222222, 52.11428333)\n",
    "data_to_site = {\"env\": my_env,\n",
    "                \"name\": \"to_site\",\n",
    "                \"geometry\": location_to_site,\n",
    "                \"store_capacity\": 4,\n",
    "                \"nr_resources\": 1,\n",
    "                \"initials\": [\n",
    "                                {\"id\": \"Cargo type 1\", \"level\": 0, \"capacity\": 10},\n",
    "                            ],\n",
    "                 }\n",
    "# instantiate to_site \n",
    "to_site = Site(**data_to_site)"
   ]
  },
  {
   "cell_type": "markdown",
   "metadata": {},
   "source": [
    "##### 3.2. Create vessel object(s)"
   ]
  },
  {
   "cell_type": "code",
   "execution_count": 5,
   "metadata": {},
   "outputs": [],
   "source": [
    "# prepare input data for vessel_01\n",
    "data_vessel01 = {\"env\": my_env,\n",
    "                 \"name\": \"vessel01\",\n",
    "                 \"geometry\": location_from_site, \n",
    "                 \"store_capacity\": 4,\n",
    "                 \"nr_resources\": 1,\n",
    "                 \"compute_v\": lambda x: 10,\n",
    "                 \"initials\": [\n",
    "                                {\"id\": \"Cargo type 1\", \"level\": 0, \"capacity\": 1},\n",
    "                             ],\n",
    "                 }\n",
    "# instantiate vessel_01 \n",
    "vessel01 = TransportProcessingResource(**data_vessel01)\n",
    "\n",
    "# prepare input data for vessel_02\n",
    "data_vessel02 = {\"env\": my_env,\n",
    "                 \"name\": \"vessel02\",\n",
    "                 \"geometry\": location_from_site, \n",
    "                 \"store_capacity\": 4,\n",
    "                 \"nr_resources\": 1,\n",
    "                 \"compute_v\": lambda x: 10,\n",
    "                 \"initials\": [\n",
    "                                {\"id\": \"Cargo type 1\", \"level\": 0, \"capacity\": 1},\n",
    "                             ],\n",
    "                 }\n",
    "# instantiate vessel_02 \n",
    "vessel02 = TransportProcessingResource(**data_vessel02)\n",
    "\n",
    "# prepare input data for installer01\n",
    "data_installer01 = {\"env\": my_env,\n",
    "                 \"name\": \"installer01\",\n",
    "                 \"geometry\": location_to_site, \n",
    "                 \"store_capacity\": 4,\n",
    "                 \"nr_resources\": 1,\n",
    "                 \"compute_v\": lambda x: 10,\n",
    "                 \"initials\": [\n",
    "                                {\"id\": \"Cargo type 1\", \"level\": 0, \"capacity\": 1},\n",
    "                             ],\n",
    "                 }\n",
    "# instantiate vessel_02 \n",
    "installer01 = TransportProcessingResource(**data_installer01)"
   ]
  },
  {
   "cell_type": "markdown",
   "metadata": {},
   "source": [
    "##### 3.3 Create activity/activities"
   ]
  },
  {
   "cell_type": "code",
   "execution_count": 6,
   "metadata": {},
   "outputs": [],
   "source": [
    "# initialise registry\n",
    "registry = {}"
   ]
  },
  {
   "cell_type": "code",
   "execution_count": 7,
   "metadata": {},
   "outputs": [],
   "source": [
    "processes = []\n",
    "for vessel in [vessel01, vessel02]:\n",
    "    processes.append(\n",
    "        model.RepeatActivity(\n",
    "            env=my_env,\n",
    "            name=f\"while {vessel.name}\",\n",
    "            registry=registry,\n",
    "            sub_processes=[\n",
    "                model.SequentialActivity(\n",
    "                    env=my_env,\n",
    "                    name=f\"sequence {vessel.name}\",\n",
    "                    registry=registry,\n",
    "                    sub_processes=[\n",
    "                        model.MoveActivity(\n",
    "                            env=my_env,\n",
    "                            name=f\"sailing empty {vessel.name}\",\n",
    "                            registry=registry,\n",
    "                            mover=vessel,\n",
    "                            destination=from_site,\n",
    "                            duration=10,\n",
    "                        ),\n",
    "                        model.ShiftAmountActivity(\n",
    "                            env=my_env,\n",
    "                            name=f\"load cargo type 1 {vessel.name}\",\n",
    "                            registry=registry,\n",
    "                            processor=vessel,\n",
    "                            origin=from_site,\n",
    "                            destination=vessel,\n",
    "                            amount=1,\n",
    "                            duration=10,\n",
    "                            id_=\"Cargo type 1\",\n",
    "                        ),\n",
    "                        model.MoveActivity(\n",
    "                            env=my_env,\n",
    "                            name=f\"sailing filled {vessel.name}\",\n",
    "                            registry=registry,\n",
    "                            mover=vessel,\n",
    "                            destination=to_site,\n",
    "                            duration=10,\n",
    "                        ),\n",
    "                        model.ShiftAmountActivity(\n",
    "                            env=my_env,\n",
    "                            name=f\"unload cargo type 1 {vessel.name}\",\n",
    "                            registry=registry,\n",
    "                            processor=installer01,\n",
    "                            origin=vessel,\n",
    "                            destination=installer01,\n",
    "                            amount=1,\n",
    "                            duration=10,\n",
    "                            id_=\"Cargo type 1\",\n",
    "                        ),\n",
    "                    ],\n",
    "                )\n",
    "            ],\n",
    "            repetitions=5\n",
    "        )\n",
    "    )"
   ]
  },
  {
   "cell_type": "code",
   "execution_count": 8,
   "metadata": {},
   "outputs": [],
   "source": [
    "install_process = model.WhileActivity(\n",
    "    env=my_env,\n",
    "    name=f\"While installer\",\n",
    "    registry=registry,\n",
    "    condition_event={\"type\": \"container\", \"concept\": to_site, \"state\": \"full\", \"id_\":\"Cargo type 1\"},\n",
    "    sub_processes=[\n",
    "        model.ShiftAmountActivity(\n",
    "            env=my_env,\n",
    "            name=f\"Install Cargo type 1\",\n",
    "            registry=registry,\n",
    "            processor=installer01,\n",
    "            origin=installer01,\n",
    "            destination=to_site,\n",
    "            amount=1,\n",
    "            duration=10,\n",
    "            id_=\"Cargo type 1\",\n",
    "            start_event={\"type\": \"container\", \"concept\": installer01, \"state\": \"full\", \"id_\":\"Cargo type 1\"}\n",
    "        )\n",
    "    ],\n",
    ")"
   ]
  },
  {
   "cell_type": "markdown",
   "metadata": {},
   "source": [
    "#### 4. Register processes and run simpy"
   ]
  },
  {
   "cell_type": "code",
   "execution_count": 9,
   "metadata": {},
   "outputs": [],
   "source": [
    "model.register_processes([install_process, *processes])\n",
    "my_env.run()"
   ]
  },
  {
   "cell_type": "markdown",
   "metadata": {},
   "source": [
    "#### 5. Inspect results\n",
    "##### 5.1 Inspect logs"
   ]
  },
  {
   "cell_type": "code",
   "execution_count": 10,
   "metadata": {},
   "outputs": [
    {
     "data": {
      "text/html": [
       "<div>\n",
       "<style scoped>\n",
       "    .dataframe tbody tr th:only-of-type {\n",
       "        vertical-align: middle;\n",
       "    }\n",
       "\n",
       "    .dataframe tbody tr th {\n",
       "        vertical-align: top;\n",
       "    }\n",
       "\n",
       "    .dataframe thead th {\n",
       "        text-align: right;\n",
       "    }\n",
       "</style>\n",
       "<table border=\"1\" class=\"dataframe\">\n",
       "  <thead>\n",
       "    <tr style=\"text-align: right;\">\n",
       "      <th></th>\n",
       "      <th>Activity</th>\n",
       "      <th>Timestamp</th>\n",
       "      <th>ActivityState</th>\n",
       "      <th>container level</th>\n",
       "      <th>geometry</th>\n",
       "    </tr>\n",
       "  </thead>\n",
       "  <tbody>\n",
       "    <tr>\n",
       "      <th>0</th>\n",
       "      <td>b1afb941-fdbb-4a8c-a112-1eb7566af770</td>\n",
       "      <td>1970-01-01 00:00:10</td>\n",
       "      <td>START</td>\n",
       "      <td>{'Cargo type 1': 10}</td>\n",
       "      <td>POINT (4.18055556 52.18664444)</td>\n",
       "    </tr>\n",
       "    <tr>\n",
       "      <th>1</th>\n",
       "      <td>71ad0b08-2692-4201-8a5b-0f32294e1c2a</td>\n",
       "      <td>1970-01-01 00:00:10</td>\n",
       "      <td>START</td>\n",
       "      <td>{'Cargo type 1': 9}</td>\n",
       "      <td>POINT (4.18055556 52.18664444)</td>\n",
       "    </tr>\n",
       "    <tr>\n",
       "      <th>2</th>\n",
       "      <td>b1afb941-fdbb-4a8c-a112-1eb7566af770</td>\n",
       "      <td>1970-01-01 00:00:20</td>\n",
       "      <td>STOP</td>\n",
       "      <td>{'Cargo type 1': 8}</td>\n",
       "      <td>POINT (4.18055556 52.18664444)</td>\n",
       "    </tr>\n",
       "    <tr>\n",
       "      <th>3</th>\n",
       "      <td>71ad0b08-2692-4201-8a5b-0f32294e1c2a</td>\n",
       "      <td>1970-01-01 00:00:20</td>\n",
       "      <td>STOP</td>\n",
       "      <td>{'Cargo type 1': 8}</td>\n",
       "      <td>POINT (4.18055556 52.18664444)</td>\n",
       "    </tr>\n",
       "    <tr>\n",
       "      <th>4</th>\n",
       "      <td>b1afb941-fdbb-4a8c-a112-1eb7566af770</td>\n",
       "      <td>1970-01-01 00:00:50</td>\n",
       "      <td>START</td>\n",
       "      <td>{'Cargo type 1': 8}</td>\n",
       "      <td>POINT (4.18055556 52.18664444)</td>\n",
       "    </tr>\n",
       "    <tr>\n",
       "      <th>5</th>\n",
       "      <td>71ad0b08-2692-4201-8a5b-0f32294e1c2a</td>\n",
       "      <td>1970-01-01 00:00:50</td>\n",
       "      <td>START</td>\n",
       "      <td>{'Cargo type 1': 7}</td>\n",
       "      <td>POINT (4.18055556 52.18664444)</td>\n",
       "    </tr>\n",
       "    <tr>\n",
       "      <th>6</th>\n",
       "      <td>b1afb941-fdbb-4a8c-a112-1eb7566af770</td>\n",
       "      <td>1970-01-01 00:01:00</td>\n",
       "      <td>STOP</td>\n",
       "      <td>{'Cargo type 1': 6}</td>\n",
       "      <td>POINT (4.18055556 52.18664444)</td>\n",
       "    </tr>\n",
       "    <tr>\n",
       "      <th>7</th>\n",
       "      <td>71ad0b08-2692-4201-8a5b-0f32294e1c2a</td>\n",
       "      <td>1970-01-01 00:01:00</td>\n",
       "      <td>STOP</td>\n",
       "      <td>{'Cargo type 1': 6}</td>\n",
       "      <td>POINT (4.18055556 52.18664444)</td>\n",
       "    </tr>\n",
       "    <tr>\n",
       "      <th>8</th>\n",
       "      <td>b1afb941-fdbb-4a8c-a112-1eb7566af770</td>\n",
       "      <td>1970-01-01 00:01:30</td>\n",
       "      <td>START</td>\n",
       "      <td>{'Cargo type 1': 6}</td>\n",
       "      <td>POINT (4.18055556 52.18664444)</td>\n",
       "    </tr>\n",
       "    <tr>\n",
       "      <th>9</th>\n",
       "      <td>71ad0b08-2692-4201-8a5b-0f32294e1c2a</td>\n",
       "      <td>1970-01-01 00:01:30</td>\n",
       "      <td>START</td>\n",
       "      <td>{'Cargo type 1': 5}</td>\n",
       "      <td>POINT (4.18055556 52.18664444)</td>\n",
       "    </tr>\n",
       "    <tr>\n",
       "      <th>10</th>\n",
       "      <td>b1afb941-fdbb-4a8c-a112-1eb7566af770</td>\n",
       "      <td>1970-01-01 00:01:40</td>\n",
       "      <td>STOP</td>\n",
       "      <td>{'Cargo type 1': 4}</td>\n",
       "      <td>POINT (4.18055556 52.18664444)</td>\n",
       "    </tr>\n",
       "    <tr>\n",
       "      <th>11</th>\n",
       "      <td>71ad0b08-2692-4201-8a5b-0f32294e1c2a</td>\n",
       "      <td>1970-01-01 00:01:40</td>\n",
       "      <td>STOP</td>\n",
       "      <td>{'Cargo type 1': 4}</td>\n",
       "      <td>POINT (4.18055556 52.18664444)</td>\n",
       "    </tr>\n",
       "    <tr>\n",
       "      <th>12</th>\n",
       "      <td>b1afb941-fdbb-4a8c-a112-1eb7566af770</td>\n",
       "      <td>1970-01-01 00:02:10</td>\n",
       "      <td>START</td>\n",
       "      <td>{'Cargo type 1': 4}</td>\n",
       "      <td>POINT (4.18055556 52.18664444)</td>\n",
       "    </tr>\n",
       "    <tr>\n",
       "      <th>13</th>\n",
       "      <td>71ad0b08-2692-4201-8a5b-0f32294e1c2a</td>\n",
       "      <td>1970-01-01 00:02:10</td>\n",
       "      <td>START</td>\n",
       "      <td>{'Cargo type 1': 3}</td>\n",
       "      <td>POINT (4.18055556 52.18664444)</td>\n",
       "    </tr>\n",
       "    <tr>\n",
       "      <th>14</th>\n",
       "      <td>b1afb941-fdbb-4a8c-a112-1eb7566af770</td>\n",
       "      <td>1970-01-01 00:02:20</td>\n",
       "      <td>STOP</td>\n",
       "      <td>{'Cargo type 1': 2}</td>\n",
       "      <td>POINT (4.18055556 52.18664444)</td>\n",
       "    </tr>\n",
       "    <tr>\n",
       "      <th>15</th>\n",
       "      <td>71ad0b08-2692-4201-8a5b-0f32294e1c2a</td>\n",
       "      <td>1970-01-01 00:02:20</td>\n",
       "      <td>STOP</td>\n",
       "      <td>{'Cargo type 1': 2}</td>\n",
       "      <td>POINT (4.18055556 52.18664444)</td>\n",
       "    </tr>\n",
       "    <tr>\n",
       "      <th>16</th>\n",
       "      <td>b1afb941-fdbb-4a8c-a112-1eb7566af770</td>\n",
       "      <td>1970-01-01 00:02:50</td>\n",
       "      <td>START</td>\n",
       "      <td>{'Cargo type 1': 2}</td>\n",
       "      <td>POINT (4.18055556 52.18664444)</td>\n",
       "    </tr>\n",
       "    <tr>\n",
       "      <th>17</th>\n",
       "      <td>71ad0b08-2692-4201-8a5b-0f32294e1c2a</td>\n",
       "      <td>1970-01-01 00:02:50</td>\n",
       "      <td>START</td>\n",
       "      <td>{'Cargo type 1': 1}</td>\n",
       "      <td>POINT (4.18055556 52.18664444)</td>\n",
       "    </tr>\n",
       "    <tr>\n",
       "      <th>18</th>\n",
       "      <td>b1afb941-fdbb-4a8c-a112-1eb7566af770</td>\n",
       "      <td>1970-01-01 00:03:00</td>\n",
       "      <td>STOP</td>\n",
       "      <td>{'Cargo type 1': 0}</td>\n",
       "      <td>POINT (4.18055556 52.18664444)</td>\n",
       "    </tr>\n",
       "    <tr>\n",
       "      <th>19</th>\n",
       "      <td>71ad0b08-2692-4201-8a5b-0f32294e1c2a</td>\n",
       "      <td>1970-01-01 00:03:00</td>\n",
       "      <td>STOP</td>\n",
       "      <td>{'Cargo type 1': 0}</td>\n",
       "      <td>POINT (4.18055556 52.18664444)</td>\n",
       "    </tr>\n",
       "  </tbody>\n",
       "</table>\n",
       "</div>"
      ],
      "text/plain": [
       "                                Activity           Timestamp ActivityState  \\\n",
       "0   b1afb941-fdbb-4a8c-a112-1eb7566af770 1970-01-01 00:00:10         START   \n",
       "1   71ad0b08-2692-4201-8a5b-0f32294e1c2a 1970-01-01 00:00:10         START   \n",
       "2   b1afb941-fdbb-4a8c-a112-1eb7566af770 1970-01-01 00:00:20          STOP   \n",
       "3   71ad0b08-2692-4201-8a5b-0f32294e1c2a 1970-01-01 00:00:20          STOP   \n",
       "4   b1afb941-fdbb-4a8c-a112-1eb7566af770 1970-01-01 00:00:50         START   \n",
       "5   71ad0b08-2692-4201-8a5b-0f32294e1c2a 1970-01-01 00:00:50         START   \n",
       "6   b1afb941-fdbb-4a8c-a112-1eb7566af770 1970-01-01 00:01:00          STOP   \n",
       "7   71ad0b08-2692-4201-8a5b-0f32294e1c2a 1970-01-01 00:01:00          STOP   \n",
       "8   b1afb941-fdbb-4a8c-a112-1eb7566af770 1970-01-01 00:01:30         START   \n",
       "9   71ad0b08-2692-4201-8a5b-0f32294e1c2a 1970-01-01 00:01:30         START   \n",
       "10  b1afb941-fdbb-4a8c-a112-1eb7566af770 1970-01-01 00:01:40          STOP   \n",
       "11  71ad0b08-2692-4201-8a5b-0f32294e1c2a 1970-01-01 00:01:40          STOP   \n",
       "12  b1afb941-fdbb-4a8c-a112-1eb7566af770 1970-01-01 00:02:10         START   \n",
       "13  71ad0b08-2692-4201-8a5b-0f32294e1c2a 1970-01-01 00:02:10         START   \n",
       "14  b1afb941-fdbb-4a8c-a112-1eb7566af770 1970-01-01 00:02:20          STOP   \n",
       "15  71ad0b08-2692-4201-8a5b-0f32294e1c2a 1970-01-01 00:02:20          STOP   \n",
       "16  b1afb941-fdbb-4a8c-a112-1eb7566af770 1970-01-01 00:02:50         START   \n",
       "17  71ad0b08-2692-4201-8a5b-0f32294e1c2a 1970-01-01 00:02:50         START   \n",
       "18  b1afb941-fdbb-4a8c-a112-1eb7566af770 1970-01-01 00:03:00          STOP   \n",
       "19  71ad0b08-2692-4201-8a5b-0f32294e1c2a 1970-01-01 00:03:00          STOP   \n",
       "\n",
       "         container level                        geometry  \n",
       "0   {'Cargo type 1': 10}  POINT (4.18055556 52.18664444)  \n",
       "1    {'Cargo type 1': 9}  POINT (4.18055556 52.18664444)  \n",
       "2    {'Cargo type 1': 8}  POINT (4.18055556 52.18664444)  \n",
       "3    {'Cargo type 1': 8}  POINT (4.18055556 52.18664444)  \n",
       "4    {'Cargo type 1': 8}  POINT (4.18055556 52.18664444)  \n",
       "5    {'Cargo type 1': 7}  POINT (4.18055556 52.18664444)  \n",
       "6    {'Cargo type 1': 6}  POINT (4.18055556 52.18664444)  \n",
       "7    {'Cargo type 1': 6}  POINT (4.18055556 52.18664444)  \n",
       "8    {'Cargo type 1': 6}  POINT (4.18055556 52.18664444)  \n",
       "9    {'Cargo type 1': 5}  POINT (4.18055556 52.18664444)  \n",
       "10   {'Cargo type 1': 4}  POINT (4.18055556 52.18664444)  \n",
       "11   {'Cargo type 1': 4}  POINT (4.18055556 52.18664444)  \n",
       "12   {'Cargo type 1': 4}  POINT (4.18055556 52.18664444)  \n",
       "13   {'Cargo type 1': 3}  POINT (4.18055556 52.18664444)  \n",
       "14   {'Cargo type 1': 2}  POINT (4.18055556 52.18664444)  \n",
       "15   {'Cargo type 1': 2}  POINT (4.18055556 52.18664444)  \n",
       "16   {'Cargo type 1': 2}  POINT (4.18055556 52.18664444)  \n",
       "17   {'Cargo type 1': 1}  POINT (4.18055556 52.18664444)  \n",
       "18   {'Cargo type 1': 0}  POINT (4.18055556 52.18664444)  \n",
       "19   {'Cargo type 1': 0}  POINT (4.18055556 52.18664444)  "
      ]
     },
     "execution_count": 10,
     "metadata": {},
     "output_type": "execute_result"
    }
   ],
   "source": [
    "plot.get_log_dataframe(from_site, [install_process, *processes, vessel01])"
   ]
  },
  {
   "cell_type": "markdown",
   "metadata": {},
   "source": [
    "##### 5.2 Visualise gantt charts"
   ]
  },
  {
   "cell_type": "code",
   "execution_count": 11,
   "metadata": {},
   "outputs": [
    {
     "data": {
      "text/html": [
       "        <script type=\"text/javascript\">\n",
       "        window.PlotlyConfig = {MathJaxConfig: 'local'};\n",
       "        if (window.MathJax) {MathJax.Hub.Config({SVG: {font: \"STIX-Web\"}});}\n",
       "        if (typeof require !== 'undefined') {\n",
       "        require.undef(\"plotly\");\n",
       "        requirejs.config({\n",
       "            paths: {\n",
       "                'plotly': ['https://cdn.plot.ly/plotly-latest.min']\n",
       "            }\n",
       "        });\n",
       "        require(['plotly'], function(Plotly) {\n",
       "            window._Plotly = Plotly;\n",
       "        });\n",
       "        }\n",
       "        </script>\n",
       "        "
      ]
     },
     "metadata": {},
     "output_type": "display_data"
    },
    {
     "data": {
      "application/vnd.plotly.v1+json": {
       "config": {
        "linkText": "Export to plot.ly",
        "plotlyServerURL": "https://plot.ly",
        "showLink": false
       },
       "data": [
        {
         "connectgaps": false,
         "hoverinfo": "y+name",
         "line": {
          "color": "rgb(150,90,192)",
          "width": 10
         },
         "mode": "lines",
         "name": "Install Cargo type 1",
         "type": "scatter",
         "x": [
          "1970-01-01T00:00:40",
          "1970-01-01T00:00:40",
          "1970-01-01T00:00:50",
          "1970-01-01T00:00:50",
          "1970-01-01T00:00:50",
          "1970-01-01T00:00:50",
          "1970-01-01T00:00:50",
          "1970-01-01T00:01:00",
          "1970-01-01T00:01:00",
          "1970-01-01T00:01:00",
          "1970-01-01T00:01:20",
          "1970-01-01T00:01:20",
          "1970-01-01T00:01:30",
          "1970-01-01T00:01:30",
          "1970-01-01T00:01:30",
          "1970-01-01T00:01:30",
          "1970-01-01T00:01:30",
          "1970-01-01T00:01:40",
          "1970-01-01T00:01:40",
          "1970-01-01T00:01:40",
          "1970-01-01T00:02:00",
          "1970-01-01T00:02:00",
          "1970-01-01T00:02:10",
          "1970-01-01T00:02:10",
          "1970-01-01T00:02:10",
          "1970-01-01T00:02:10",
          "1970-01-01T00:02:10",
          "1970-01-01T00:02:20",
          "1970-01-01T00:02:20",
          "1970-01-01T00:02:20",
          "1970-01-01T00:02:40",
          "1970-01-01T00:02:40",
          "1970-01-01T00:02:50",
          "1970-01-01T00:02:50",
          "1970-01-01T00:02:50",
          "1970-01-01T00:02:50",
          "1970-01-01T00:02:50",
          "1970-01-01T00:03:00",
          "1970-01-01T00:03:00",
          "1970-01-01T00:03:00",
          "1970-01-01T00:03:20",
          "1970-01-01T00:03:20",
          "1970-01-01T00:03:30",
          "1970-01-01T00:03:30",
          "1970-01-01T00:03:30",
          "1970-01-01T00:03:30",
          "1970-01-01T00:03:30",
          "1970-01-01T00:03:40",
          "1970-01-01T00:03:40",
          "1970-01-01T00:03:40"
         ],
         "y": [
          "Install Cargo type 1",
          "Install Cargo type 1",
          "Install Cargo type 1",
          "Install Cargo type 1",
          null,
          "Install Cargo type 1",
          "Install Cargo type 1",
          "Install Cargo type 1",
          "Install Cargo type 1",
          null,
          "Install Cargo type 1",
          "Install Cargo type 1",
          "Install Cargo type 1",
          "Install Cargo type 1",
          null,
          "Install Cargo type 1",
          "Install Cargo type 1",
          "Install Cargo type 1",
          "Install Cargo type 1",
          null,
          "Install Cargo type 1",
          "Install Cargo type 1",
          "Install Cargo type 1",
          "Install Cargo type 1",
          null,
          "Install Cargo type 1",
          "Install Cargo type 1",
          "Install Cargo type 1",
          "Install Cargo type 1",
          null,
          "Install Cargo type 1",
          "Install Cargo type 1",
          "Install Cargo type 1",
          "Install Cargo type 1",
          null,
          "Install Cargo type 1",
          "Install Cargo type 1",
          "Install Cargo type 1",
          "Install Cargo type 1",
          null,
          "Install Cargo type 1",
          "Install Cargo type 1",
          "Install Cargo type 1",
          "Install Cargo type 1",
          null,
          "Install Cargo type 1",
          "Install Cargo type 1",
          "Install Cargo type 1",
          "Install Cargo type 1",
          null
         ]
        },
        {
         "connectgaps": false,
         "hoverinfo": "y+name",
         "line": {
          "color": "rgb(178,118,220)",
          "width": 10
         },
         "mode": "lines",
         "name": "sailing empty vessel01",
         "type": "scatter",
         "x": [
          "1970-01-01T00:00:00",
          "1970-01-01T00:00:00",
          "1970-01-01T00:00:10",
          "1970-01-01T00:00:10",
          "1970-01-01T00:00:10",
          "1970-01-01T00:00:40",
          "1970-01-01T00:00:40",
          "1970-01-01T00:00:50",
          "1970-01-01T00:00:50",
          "1970-01-01T00:00:50",
          "1970-01-01T00:01:20",
          "1970-01-01T00:01:20",
          "1970-01-01T00:01:30",
          "1970-01-01T00:01:30",
          "1970-01-01T00:01:30",
          "1970-01-01T00:02:00",
          "1970-01-01T00:02:00",
          "1970-01-01T00:02:10",
          "1970-01-01T00:02:10",
          "1970-01-01T00:02:10",
          "1970-01-01T00:02:40",
          "1970-01-01T00:02:40",
          "1970-01-01T00:02:50",
          "1970-01-01T00:02:50",
          "1970-01-01T00:02:50"
         ],
         "y": [
          "sailing empty vessel01",
          "sailing empty vessel01",
          "sailing empty vessel01",
          "sailing empty vessel01",
          null,
          "sailing empty vessel01",
          "sailing empty vessel01",
          "sailing empty vessel01",
          "sailing empty vessel01",
          null,
          "sailing empty vessel01",
          "sailing empty vessel01",
          "sailing empty vessel01",
          "sailing empty vessel01",
          null,
          "sailing empty vessel01",
          "sailing empty vessel01",
          "sailing empty vessel01",
          "sailing empty vessel01",
          null,
          "sailing empty vessel01",
          "sailing empty vessel01",
          "sailing empty vessel01",
          "sailing empty vessel01",
          null
         ]
        },
        {
         "connectgaps": false,
         "hoverinfo": "y+name",
         "line": {
          "color": "rgb(206,146,248)",
          "width": 10
         },
         "mode": "lines",
         "name": "load cargo type 1 vessel01",
         "type": "scatter",
         "x": [
          "1970-01-01T00:00:10",
          "1970-01-01T00:00:10",
          "1970-01-01T00:00:20",
          "1970-01-01T00:00:20",
          "1970-01-01T00:00:20",
          "1970-01-01T00:00:50",
          "1970-01-01T00:00:50",
          "1970-01-01T00:01:00",
          "1970-01-01T00:01:00",
          "1970-01-01T00:01:00",
          "1970-01-01T00:01:30",
          "1970-01-01T00:01:30",
          "1970-01-01T00:01:40",
          "1970-01-01T00:01:40",
          "1970-01-01T00:01:40",
          "1970-01-01T00:02:10",
          "1970-01-01T00:02:10",
          "1970-01-01T00:02:20",
          "1970-01-01T00:02:20",
          "1970-01-01T00:02:20",
          "1970-01-01T00:02:50",
          "1970-01-01T00:02:50",
          "1970-01-01T00:03:00",
          "1970-01-01T00:03:00",
          "1970-01-01T00:03:00"
         ],
         "y": [
          "load cargo type 1 vessel01",
          "load cargo type 1 vessel01",
          "load cargo type 1 vessel01",
          "load cargo type 1 vessel01",
          null,
          "load cargo type 1 vessel01",
          "load cargo type 1 vessel01",
          "load cargo type 1 vessel01",
          "load cargo type 1 vessel01",
          null,
          "load cargo type 1 vessel01",
          "load cargo type 1 vessel01",
          "load cargo type 1 vessel01",
          "load cargo type 1 vessel01",
          null,
          "load cargo type 1 vessel01",
          "load cargo type 1 vessel01",
          "load cargo type 1 vessel01",
          "load cargo type 1 vessel01",
          null,
          "load cargo type 1 vessel01",
          "load cargo type 1 vessel01",
          "load cargo type 1 vessel01",
          "load cargo type 1 vessel01",
          null
         ]
        },
        {
         "connectgaps": false,
         "hoverinfo": "y+name",
         "line": {
          "color": "rgb(234,174,20)",
          "width": 10
         },
         "mode": "lines",
         "name": "sailing filled vessel01",
         "type": "scatter",
         "x": [
          "1970-01-01T00:00:20",
          "1970-01-01T00:00:20",
          "1970-01-01T00:00:30",
          "1970-01-01T00:00:30",
          "1970-01-01T00:00:30",
          "1970-01-01T00:01:00",
          "1970-01-01T00:01:00",
          "1970-01-01T00:01:10",
          "1970-01-01T00:01:10",
          "1970-01-01T00:01:10",
          "1970-01-01T00:01:40",
          "1970-01-01T00:01:40",
          "1970-01-01T00:01:50",
          "1970-01-01T00:01:50",
          "1970-01-01T00:01:50",
          "1970-01-01T00:02:20",
          "1970-01-01T00:02:20",
          "1970-01-01T00:02:30",
          "1970-01-01T00:02:30",
          "1970-01-01T00:02:30",
          "1970-01-01T00:03:00",
          "1970-01-01T00:03:00",
          "1970-01-01T00:03:10",
          "1970-01-01T00:03:10",
          "1970-01-01T00:03:10"
         ],
         "y": [
          "sailing filled vessel01",
          "sailing filled vessel01",
          "sailing filled vessel01",
          "sailing filled vessel01",
          null,
          "sailing filled vessel01",
          "sailing filled vessel01",
          "sailing filled vessel01",
          "sailing filled vessel01",
          null,
          "sailing filled vessel01",
          "sailing filled vessel01",
          "sailing filled vessel01",
          "sailing filled vessel01",
          null,
          "sailing filled vessel01",
          "sailing filled vessel01",
          "sailing filled vessel01",
          "sailing filled vessel01",
          null,
          "sailing filled vessel01",
          "sailing filled vessel01",
          "sailing filled vessel01",
          "sailing filled vessel01",
          null
         ]
        },
        {
         "connectgaps": false,
         "hoverinfo": "y+name",
         "line": {
          "color": "rgb(6,202,48)",
          "width": 10
         },
         "mode": "lines",
         "name": "unload cargo type 1 vessel01",
         "type": "scatter",
         "x": [
          "1970-01-01T00:00:30",
          "1970-01-01T00:00:30",
          "1970-01-01T00:00:40",
          "1970-01-01T00:00:40",
          "1970-01-01T00:00:40",
          "1970-01-01T00:01:10",
          "1970-01-01T00:01:10",
          "1970-01-01T00:01:20",
          "1970-01-01T00:01:20",
          "1970-01-01T00:01:20",
          "1970-01-01T00:01:50",
          "1970-01-01T00:01:50",
          "1970-01-01T00:02:00",
          "1970-01-01T00:02:00",
          "1970-01-01T00:02:00",
          "1970-01-01T00:02:30",
          "1970-01-01T00:02:30",
          "1970-01-01T00:02:40",
          "1970-01-01T00:02:40",
          "1970-01-01T00:02:40",
          "1970-01-01T00:03:10",
          "1970-01-01T00:03:10",
          "1970-01-01T00:03:20",
          "1970-01-01T00:03:20",
          "1970-01-01T00:03:20"
         ],
         "y": [
          "unload cargo type 1 vessel01",
          "unload cargo type 1 vessel01",
          "unload cargo type 1 vessel01",
          "unload cargo type 1 vessel01",
          null,
          "unload cargo type 1 vessel01",
          "unload cargo type 1 vessel01",
          "unload cargo type 1 vessel01",
          "unload cargo type 1 vessel01",
          null,
          "unload cargo type 1 vessel01",
          "unload cargo type 1 vessel01",
          "unload cargo type 1 vessel01",
          "unload cargo type 1 vessel01",
          null,
          "unload cargo type 1 vessel01",
          "unload cargo type 1 vessel01",
          "unload cargo type 1 vessel01",
          "unload cargo type 1 vessel01",
          null,
          "unload cargo type 1 vessel01",
          "unload cargo type 1 vessel01",
          "unload cargo type 1 vessel01",
          "unload cargo type 1 vessel01",
          null
         ]
        },
        {
         "connectgaps": false,
         "hoverinfo": "y+name",
         "line": {
          "color": "rgb(34,230,76)",
          "width": 10
         },
         "mode": "lines",
         "name": "sailing empty vessel02",
         "type": "scatter",
         "x": [
          "1970-01-01T00:00:00",
          "1970-01-01T00:00:00",
          "1970-01-01T00:00:10",
          "1970-01-01T00:00:10",
          "1970-01-01T00:00:10",
          "1970-01-01T00:00:40",
          "1970-01-01T00:00:40",
          "1970-01-01T00:00:50",
          "1970-01-01T00:00:50",
          "1970-01-01T00:00:50",
          "1970-01-01T00:01:20",
          "1970-01-01T00:01:20",
          "1970-01-01T00:01:30",
          "1970-01-01T00:01:30",
          "1970-01-01T00:01:30",
          "1970-01-01T00:02:00",
          "1970-01-01T00:02:00",
          "1970-01-01T00:02:10",
          "1970-01-01T00:02:10",
          "1970-01-01T00:02:10",
          "1970-01-01T00:02:40",
          "1970-01-01T00:02:40",
          "1970-01-01T00:02:50",
          "1970-01-01T00:02:50",
          "1970-01-01T00:02:50"
         ],
         "y": [
          "sailing empty vessel02",
          "sailing empty vessel02",
          "sailing empty vessel02",
          "sailing empty vessel02",
          null,
          "sailing empty vessel02",
          "sailing empty vessel02",
          "sailing empty vessel02",
          "sailing empty vessel02",
          null,
          "sailing empty vessel02",
          "sailing empty vessel02",
          "sailing empty vessel02",
          "sailing empty vessel02",
          null,
          "sailing empty vessel02",
          "sailing empty vessel02",
          "sailing empty vessel02",
          "sailing empty vessel02",
          null,
          "sailing empty vessel02",
          "sailing empty vessel02",
          "sailing empty vessel02",
          "sailing empty vessel02",
          null
         ]
        },
        {
         "connectgaps": false,
         "hoverinfo": "y+name",
         "line": {
          "color": "rgb(62,2,104)",
          "width": 10
         },
         "mode": "lines",
         "name": "load cargo type 1 vessel02",
         "type": "scatter",
         "x": [
          "1970-01-01T00:00:10",
          "1970-01-01T00:00:10",
          "1970-01-01T00:00:20",
          "1970-01-01T00:00:20",
          "1970-01-01T00:00:20",
          "1970-01-01T00:00:50",
          "1970-01-01T00:00:50",
          "1970-01-01T00:01:00",
          "1970-01-01T00:01:00",
          "1970-01-01T00:01:00",
          "1970-01-01T00:01:30",
          "1970-01-01T00:01:30",
          "1970-01-01T00:01:40",
          "1970-01-01T00:01:40",
          "1970-01-01T00:01:40",
          "1970-01-01T00:02:10",
          "1970-01-01T00:02:10",
          "1970-01-01T00:02:20",
          "1970-01-01T00:02:20",
          "1970-01-01T00:02:20",
          "1970-01-01T00:02:50",
          "1970-01-01T00:02:50",
          "1970-01-01T00:03:00",
          "1970-01-01T00:03:00",
          "1970-01-01T00:03:00"
         ],
         "y": [
          "load cargo type 1 vessel02",
          "load cargo type 1 vessel02",
          "load cargo type 1 vessel02",
          "load cargo type 1 vessel02",
          null,
          "load cargo type 1 vessel02",
          "load cargo type 1 vessel02",
          "load cargo type 1 vessel02",
          "load cargo type 1 vessel02",
          null,
          "load cargo type 1 vessel02",
          "load cargo type 1 vessel02",
          "load cargo type 1 vessel02",
          "load cargo type 1 vessel02",
          null,
          "load cargo type 1 vessel02",
          "load cargo type 1 vessel02",
          "load cargo type 1 vessel02",
          "load cargo type 1 vessel02",
          null,
          "load cargo type 1 vessel02",
          "load cargo type 1 vessel02",
          "load cargo type 1 vessel02",
          "load cargo type 1 vessel02",
          null
         ]
        },
        {
         "connectgaps": false,
         "hoverinfo": "y+name",
         "line": {
          "color": "rgb(90,30,132)",
          "width": 10
         },
         "mode": "lines",
         "name": "sailing filled vessel02",
         "type": "scatter",
         "x": [
          "1970-01-01T00:00:20",
          "1970-01-01T00:00:20",
          "1970-01-01T00:00:30",
          "1970-01-01T00:00:30",
          "1970-01-01T00:00:30",
          "1970-01-01T00:01:00",
          "1970-01-01T00:01:00",
          "1970-01-01T00:01:10",
          "1970-01-01T00:01:10",
          "1970-01-01T00:01:10",
          "1970-01-01T00:01:40",
          "1970-01-01T00:01:40",
          "1970-01-01T00:01:50",
          "1970-01-01T00:01:50",
          "1970-01-01T00:01:50",
          "1970-01-01T00:02:20",
          "1970-01-01T00:02:20",
          "1970-01-01T00:02:30",
          "1970-01-01T00:02:30",
          "1970-01-01T00:02:30",
          "1970-01-01T00:03:00",
          "1970-01-01T00:03:00",
          "1970-01-01T00:03:10",
          "1970-01-01T00:03:10",
          "1970-01-01T00:03:10"
         ],
         "y": [
          "sailing filled vessel02",
          "sailing filled vessel02",
          "sailing filled vessel02",
          "sailing filled vessel02",
          null,
          "sailing filled vessel02",
          "sailing filled vessel02",
          "sailing filled vessel02",
          "sailing filled vessel02",
          null,
          "sailing filled vessel02",
          "sailing filled vessel02",
          "sailing filled vessel02",
          "sailing filled vessel02",
          null,
          "sailing filled vessel02",
          "sailing filled vessel02",
          "sailing filled vessel02",
          "sailing filled vessel02",
          null,
          "sailing filled vessel02",
          "sailing filled vessel02",
          "sailing filled vessel02",
          "sailing filled vessel02",
          null
         ]
        },
        {
         "connectgaps": false,
         "hoverinfo": "y+name",
         "line": {
          "color": "rgb(118,58,160)",
          "width": 10
         },
         "mode": "lines",
         "name": "unload cargo type 1 vessel02",
         "type": "scatter",
         "x": [
          "1970-01-01T00:00:30",
          "1970-01-01T00:00:30",
          "1970-01-01T00:00:40",
          "1970-01-01T00:00:40",
          "1970-01-01T00:00:40",
          "1970-01-01T00:01:10",
          "1970-01-01T00:01:10",
          "1970-01-01T00:01:20",
          "1970-01-01T00:01:20",
          "1970-01-01T00:01:20",
          "1970-01-01T00:01:50",
          "1970-01-01T00:01:50",
          "1970-01-01T00:02:00",
          "1970-01-01T00:02:00",
          "1970-01-01T00:02:00",
          "1970-01-01T00:02:30",
          "1970-01-01T00:02:30",
          "1970-01-01T00:02:40",
          "1970-01-01T00:02:40",
          "1970-01-01T00:02:40",
          "1970-01-01T00:03:10",
          "1970-01-01T00:03:10",
          "1970-01-01T00:03:20",
          "1970-01-01T00:03:20",
          "1970-01-01T00:03:20"
         ],
         "y": [
          "unload cargo type 1 vessel02",
          "unload cargo type 1 vessel02",
          "unload cargo type 1 vessel02",
          "unload cargo type 1 vessel02",
          null,
          "unload cargo type 1 vessel02",
          "unload cargo type 1 vessel02",
          "unload cargo type 1 vessel02",
          "unload cargo type 1 vessel02",
          null,
          "unload cargo type 1 vessel02",
          "unload cargo type 1 vessel02",
          "unload cargo type 1 vessel02",
          "unload cargo type 1 vessel02",
          null,
          "unload cargo type 1 vessel02",
          "unload cargo type 1 vessel02",
          "unload cargo type 1 vessel02",
          "unload cargo type 1 vessel02",
          null,
          "unload cargo type 1 vessel02",
          "unload cargo type 1 vessel02",
          "unload cargo type 1 vessel02",
          "unload cargo type 1 vessel02",
          null
         ]
        }
       ],
       "layout": {
        "hovermode": "closest",
        "legend": {
         "orientation": "h",
         "x": 0,
         "y": -0.2
        },
        "template": {
         "data": {
          "bar": [
           {
            "error_x": {
             "color": "#2a3f5f"
            },
            "error_y": {
             "color": "#2a3f5f"
            },
            "marker": {
             "line": {
              "color": "#E5ECF6",
              "width": 0.5
             }
            },
            "type": "bar"
           }
          ],
          "barpolar": [
           {
            "marker": {
             "line": {
              "color": "#E5ECF6",
              "width": 0.5
             }
            },
            "type": "barpolar"
           }
          ],
          "carpet": [
           {
            "aaxis": {
             "endlinecolor": "#2a3f5f",
             "gridcolor": "white",
             "linecolor": "white",
             "minorgridcolor": "white",
             "startlinecolor": "#2a3f5f"
            },
            "baxis": {
             "endlinecolor": "#2a3f5f",
             "gridcolor": "white",
             "linecolor": "white",
             "minorgridcolor": "white",
             "startlinecolor": "#2a3f5f"
            },
            "type": "carpet"
           }
          ],
          "choropleth": [
           {
            "colorbar": {
             "outlinewidth": 0,
             "ticks": ""
            },
            "type": "choropleth"
           }
          ],
          "contour": [
           {
            "colorbar": {
             "outlinewidth": 0,
             "ticks": ""
            },
            "colorscale": [
             [
              0,
              "#0d0887"
             ],
             [
              0.1111111111111111,
              "#46039f"
             ],
             [
              0.2222222222222222,
              "#7201a8"
             ],
             [
              0.3333333333333333,
              "#9c179e"
             ],
             [
              0.4444444444444444,
              "#bd3786"
             ],
             [
              0.5555555555555556,
              "#d8576b"
             ],
             [
              0.6666666666666666,
              "#ed7953"
             ],
             [
              0.7777777777777778,
              "#fb9f3a"
             ],
             [
              0.8888888888888888,
              "#fdca26"
             ],
             [
              1,
              "#f0f921"
             ]
            ],
            "type": "contour"
           }
          ],
          "contourcarpet": [
           {
            "colorbar": {
             "outlinewidth": 0,
             "ticks": ""
            },
            "type": "contourcarpet"
           }
          ],
          "heatmap": [
           {
            "colorbar": {
             "outlinewidth": 0,
             "ticks": ""
            },
            "colorscale": [
             [
              0,
              "#0d0887"
             ],
             [
              0.1111111111111111,
              "#46039f"
             ],
             [
              0.2222222222222222,
              "#7201a8"
             ],
             [
              0.3333333333333333,
              "#9c179e"
             ],
             [
              0.4444444444444444,
              "#bd3786"
             ],
             [
              0.5555555555555556,
              "#d8576b"
             ],
             [
              0.6666666666666666,
              "#ed7953"
             ],
             [
              0.7777777777777778,
              "#fb9f3a"
             ],
             [
              0.8888888888888888,
              "#fdca26"
             ],
             [
              1,
              "#f0f921"
             ]
            ],
            "type": "heatmap"
           }
          ],
          "heatmapgl": [
           {
            "colorbar": {
             "outlinewidth": 0,
             "ticks": ""
            },
            "colorscale": [
             [
              0,
              "#0d0887"
             ],
             [
              0.1111111111111111,
              "#46039f"
             ],
             [
              0.2222222222222222,
              "#7201a8"
             ],
             [
              0.3333333333333333,
              "#9c179e"
             ],
             [
              0.4444444444444444,
              "#bd3786"
             ],
             [
              0.5555555555555556,
              "#d8576b"
             ],
             [
              0.6666666666666666,
              "#ed7953"
             ],
             [
              0.7777777777777778,
              "#fb9f3a"
             ],
             [
              0.8888888888888888,
              "#fdca26"
             ],
             [
              1,
              "#f0f921"
             ]
            ],
            "type": "heatmapgl"
           }
          ],
          "histogram": [
           {
            "marker": {
             "colorbar": {
              "outlinewidth": 0,
              "ticks": ""
             }
            },
            "type": "histogram"
           }
          ],
          "histogram2d": [
           {
            "colorbar": {
             "outlinewidth": 0,
             "ticks": ""
            },
            "colorscale": [
             [
              0,
              "#0d0887"
             ],
             [
              0.1111111111111111,
              "#46039f"
             ],
             [
              0.2222222222222222,
              "#7201a8"
             ],
             [
              0.3333333333333333,
              "#9c179e"
             ],
             [
              0.4444444444444444,
              "#bd3786"
             ],
             [
              0.5555555555555556,
              "#d8576b"
             ],
             [
              0.6666666666666666,
              "#ed7953"
             ],
             [
              0.7777777777777778,
              "#fb9f3a"
             ],
             [
              0.8888888888888888,
              "#fdca26"
             ],
             [
              1,
              "#f0f921"
             ]
            ],
            "type": "histogram2d"
           }
          ],
          "histogram2dcontour": [
           {
            "colorbar": {
             "outlinewidth": 0,
             "ticks": ""
            },
            "colorscale": [
             [
              0,
              "#0d0887"
             ],
             [
              0.1111111111111111,
              "#46039f"
             ],
             [
              0.2222222222222222,
              "#7201a8"
             ],
             [
              0.3333333333333333,
              "#9c179e"
             ],
             [
              0.4444444444444444,
              "#bd3786"
             ],
             [
              0.5555555555555556,
              "#d8576b"
             ],
             [
              0.6666666666666666,
              "#ed7953"
             ],
             [
              0.7777777777777778,
              "#fb9f3a"
             ],
             [
              0.8888888888888888,
              "#fdca26"
             ],
             [
              1,
              "#f0f921"
             ]
            ],
            "type": "histogram2dcontour"
           }
          ],
          "mesh3d": [
           {
            "colorbar": {
             "outlinewidth": 0,
             "ticks": ""
            },
            "type": "mesh3d"
           }
          ],
          "parcoords": [
           {
            "line": {
             "colorbar": {
              "outlinewidth": 0,
              "ticks": ""
             }
            },
            "type": "parcoords"
           }
          ],
          "pie": [
           {
            "automargin": true,
            "type": "pie"
           }
          ],
          "scatter": [
           {
            "marker": {
             "colorbar": {
              "outlinewidth": 0,
              "ticks": ""
             }
            },
            "type": "scatter"
           }
          ],
          "scatter3d": [
           {
            "line": {
             "colorbar": {
              "outlinewidth": 0,
              "ticks": ""
             }
            },
            "marker": {
             "colorbar": {
              "outlinewidth": 0,
              "ticks": ""
             }
            },
            "type": "scatter3d"
           }
          ],
          "scattercarpet": [
           {
            "marker": {
             "colorbar": {
              "outlinewidth": 0,
              "ticks": ""
             }
            },
            "type": "scattercarpet"
           }
          ],
          "scattergeo": [
           {
            "marker": {
             "colorbar": {
              "outlinewidth": 0,
              "ticks": ""
             }
            },
            "type": "scattergeo"
           }
          ],
          "scattergl": [
           {
            "marker": {
             "colorbar": {
              "outlinewidth": 0,
              "ticks": ""
             }
            },
            "type": "scattergl"
           }
          ],
          "scattermapbox": [
           {
            "marker": {
             "colorbar": {
              "outlinewidth": 0,
              "ticks": ""
             }
            },
            "type": "scattermapbox"
           }
          ],
          "scatterpolar": [
           {
            "marker": {
             "colorbar": {
              "outlinewidth": 0,
              "ticks": ""
             }
            },
            "type": "scatterpolar"
           }
          ],
          "scatterpolargl": [
           {
            "marker": {
             "colorbar": {
              "outlinewidth": 0,
              "ticks": ""
             }
            },
            "type": "scatterpolargl"
           }
          ],
          "scatterternary": [
           {
            "marker": {
             "colorbar": {
              "outlinewidth": 0,
              "ticks": ""
             }
            },
            "type": "scatterternary"
           }
          ],
          "surface": [
           {
            "colorbar": {
             "outlinewidth": 0,
             "ticks": ""
            },
            "colorscale": [
             [
              0,
              "#0d0887"
             ],
             [
              0.1111111111111111,
              "#46039f"
             ],
             [
              0.2222222222222222,
              "#7201a8"
             ],
             [
              0.3333333333333333,
              "#9c179e"
             ],
             [
              0.4444444444444444,
              "#bd3786"
             ],
             [
              0.5555555555555556,
              "#d8576b"
             ],
             [
              0.6666666666666666,
              "#ed7953"
             ],
             [
              0.7777777777777778,
              "#fb9f3a"
             ],
             [
              0.8888888888888888,
              "#fdca26"
             ],
             [
              1,
              "#f0f921"
             ]
            ],
            "type": "surface"
           }
          ],
          "table": [
           {
            "cells": {
             "fill": {
              "color": "#EBF0F8"
             },
             "line": {
              "color": "white"
             }
            },
            "header": {
             "fill": {
              "color": "#C8D4E3"
             },
             "line": {
              "color": "white"
             }
            },
            "type": "table"
           }
          ]
         },
         "layout": {
          "annotationdefaults": {
           "arrowcolor": "#2a3f5f",
           "arrowhead": 0,
           "arrowwidth": 1
          },
          "coloraxis": {
           "colorbar": {
            "outlinewidth": 0,
            "ticks": ""
           }
          },
          "colorscale": {
           "diverging": [
            [
             0,
             "#8e0152"
            ],
            [
             0.1,
             "#c51b7d"
            ],
            [
             0.2,
             "#de77ae"
            ],
            [
             0.3,
             "#f1b6da"
            ],
            [
             0.4,
             "#fde0ef"
            ],
            [
             0.5,
             "#f7f7f7"
            ],
            [
             0.6,
             "#e6f5d0"
            ],
            [
             0.7,
             "#b8e186"
            ],
            [
             0.8,
             "#7fbc41"
            ],
            [
             0.9,
             "#4d9221"
            ],
            [
             1,
             "#276419"
            ]
           ],
           "sequential": [
            [
             0,
             "#0d0887"
            ],
            [
             0.1111111111111111,
             "#46039f"
            ],
            [
             0.2222222222222222,
             "#7201a8"
            ],
            [
             0.3333333333333333,
             "#9c179e"
            ],
            [
             0.4444444444444444,
             "#bd3786"
            ],
            [
             0.5555555555555556,
             "#d8576b"
            ],
            [
             0.6666666666666666,
             "#ed7953"
            ],
            [
             0.7777777777777778,
             "#fb9f3a"
            ],
            [
             0.8888888888888888,
             "#fdca26"
            ],
            [
             1,
             "#f0f921"
            ]
           ],
           "sequentialminus": [
            [
             0,
             "#0d0887"
            ],
            [
             0.1111111111111111,
             "#46039f"
            ],
            [
             0.2222222222222222,
             "#7201a8"
            ],
            [
             0.3333333333333333,
             "#9c179e"
            ],
            [
             0.4444444444444444,
             "#bd3786"
            ],
            [
             0.5555555555555556,
             "#d8576b"
            ],
            [
             0.6666666666666666,
             "#ed7953"
            ],
            [
             0.7777777777777778,
             "#fb9f3a"
            ],
            [
             0.8888888888888888,
             "#fdca26"
            ],
            [
             1,
             "#f0f921"
            ]
           ]
          },
          "colorway": [
           "#636efa",
           "#EF553B",
           "#00cc96",
           "#ab63fa",
           "#FFA15A",
           "#19d3f3",
           "#FF6692",
           "#B6E880",
           "#FF97FF",
           "#FECB52"
          ],
          "font": {
           "color": "#2a3f5f"
          },
          "geo": {
           "bgcolor": "white",
           "lakecolor": "white",
           "landcolor": "#E5ECF6",
           "showlakes": true,
           "showland": true,
           "subunitcolor": "white"
          },
          "hoverlabel": {
           "align": "left"
          },
          "hovermode": "closest",
          "mapbox": {
           "style": "light"
          },
          "paper_bgcolor": "white",
          "plot_bgcolor": "#E5ECF6",
          "polar": {
           "angularaxis": {
            "gridcolor": "white",
            "linecolor": "white",
            "ticks": ""
           },
           "bgcolor": "#E5ECF6",
           "radialaxis": {
            "gridcolor": "white",
            "linecolor": "white",
            "ticks": ""
           }
          },
          "scene": {
           "xaxis": {
            "backgroundcolor": "#E5ECF6",
            "gridcolor": "white",
            "gridwidth": 2,
            "linecolor": "white",
            "showbackground": true,
            "ticks": "",
            "zerolinecolor": "white"
           },
           "yaxis": {
            "backgroundcolor": "#E5ECF6",
            "gridcolor": "white",
            "gridwidth": 2,
            "linecolor": "white",
            "showbackground": true,
            "ticks": "",
            "zerolinecolor": "white"
           },
           "zaxis": {
            "backgroundcolor": "#E5ECF6",
            "gridcolor": "white",
            "gridwidth": 2,
            "linecolor": "white",
            "showbackground": true,
            "ticks": "",
            "zerolinecolor": "white"
           }
          },
          "shapedefaults": {
           "line": {
            "color": "#2a3f5f"
           }
          },
          "ternary": {
           "aaxis": {
            "gridcolor": "white",
            "linecolor": "white",
            "ticks": ""
           },
           "baxis": {
            "gridcolor": "white",
            "linecolor": "white",
            "ticks": ""
           },
           "bgcolor": "#E5ECF6",
           "caxis": {
            "gridcolor": "white",
            "linecolor": "white",
            "ticks": ""
           }
          },
          "title": {
           "x": 0.05
          },
          "xaxis": {
           "automargin": true,
           "gridcolor": "white",
           "linecolor": "white",
           "ticks": "",
           "title": {
            "standoff": 15
           },
           "zerolinecolor": "white",
           "zerolinewidth": 2
          },
          "yaxis": {
           "automargin": true,
           "gridcolor": "white",
           "linecolor": "white",
           "ticks": "",
           "title": {
            "standoff": 15
           },
           "zerolinecolor": "white",
           "zerolinewidth": 2
          }
         }
        },
        "title": {
         "text": "GANTT Chart"
        },
        "xaxis": {
         "range": [
          "1970-01-01T00:00:00",
          "1970-01-01T00:03:40"
         ],
         "title": {
          "font": {
           "color": "#7f7f7f",
           "family": "Courier New, monospace",
           "size": 18
          },
          "text": "Time"
         }
        },
        "yaxis": {
         "title": {
          "font": {
           "color": "#7f7f7f",
           "family": "Courier New, monospace",
           "size": 18
          },
          "text": "Activities"
         }
        }
       }
      },
      "text/html": [
       "<div>                            <div id=\"d9b06c10-8fd5-42af-b853-994efbf57e1b\" class=\"plotly-graph-div\" style=\"height:525px; width:100%;\"></div>            <script type=\"text/javascript\">                require([\"plotly\"], function(Plotly) {                    window.PLOTLYENV=window.PLOTLYENV || {};                                    if (document.getElementById(\"d9b06c10-8fd5-42af-b853-994efbf57e1b\")) {                    Plotly.newPlot(                        \"d9b06c10-8fd5-42af-b853-994efbf57e1b\",                        [{\"connectgaps\": false, \"hoverinfo\": \"y+name\", \"line\": {\"color\": \"rgb(150,90,192)\", \"width\": 10}, \"mode\": \"lines\", \"name\": \"Install Cargo type 1\", \"type\": \"scatter\", \"x\": [\"1970-01-01T00:00:40\", \"1970-01-01T00:00:40\", \"1970-01-01T00:00:50\", \"1970-01-01T00:00:50\", \"1970-01-01T00:00:50\", \"1970-01-01T00:00:50\", \"1970-01-01T00:00:50\", \"1970-01-01T00:01:00\", \"1970-01-01T00:01:00\", \"1970-01-01T00:01:00\", \"1970-01-01T00:01:20\", \"1970-01-01T00:01:20\", \"1970-01-01T00:01:30\", \"1970-01-01T00:01:30\", \"1970-01-01T00:01:30\", \"1970-01-01T00:01:30\", \"1970-01-01T00:01:30\", \"1970-01-01T00:01:40\", \"1970-01-01T00:01:40\", \"1970-01-01T00:01:40\", \"1970-01-01T00:02:00\", \"1970-01-01T00:02:00\", \"1970-01-01T00:02:10\", \"1970-01-01T00:02:10\", \"1970-01-01T00:02:10\", \"1970-01-01T00:02:10\", \"1970-01-01T00:02:10\", \"1970-01-01T00:02:20\", \"1970-01-01T00:02:20\", \"1970-01-01T00:02:20\", \"1970-01-01T00:02:40\", \"1970-01-01T00:02:40\", \"1970-01-01T00:02:50\", \"1970-01-01T00:02:50\", \"1970-01-01T00:02:50\", \"1970-01-01T00:02:50\", \"1970-01-01T00:02:50\", \"1970-01-01T00:03:00\", \"1970-01-01T00:03:00\", \"1970-01-01T00:03:00\", \"1970-01-01T00:03:20\", \"1970-01-01T00:03:20\", \"1970-01-01T00:03:30\", \"1970-01-01T00:03:30\", \"1970-01-01T00:03:30\", \"1970-01-01T00:03:30\", \"1970-01-01T00:03:30\", \"1970-01-01T00:03:40\", \"1970-01-01T00:03:40\", \"1970-01-01T00:03:40\"], \"y\": [\"Install Cargo type 1\", \"Install Cargo type 1\", \"Install Cargo type 1\", \"Install Cargo type 1\", null, \"Install Cargo type 1\", \"Install Cargo type 1\", \"Install Cargo type 1\", \"Install Cargo type 1\", null, \"Install Cargo type 1\", \"Install Cargo type 1\", \"Install Cargo type 1\", \"Install Cargo type 1\", null, \"Install Cargo type 1\", \"Install Cargo type 1\", \"Install Cargo type 1\", \"Install Cargo type 1\", null, \"Install Cargo type 1\", \"Install Cargo type 1\", \"Install Cargo type 1\", \"Install Cargo type 1\", null, \"Install Cargo type 1\", \"Install Cargo type 1\", \"Install Cargo type 1\", \"Install Cargo type 1\", null, \"Install Cargo type 1\", \"Install Cargo type 1\", \"Install Cargo type 1\", \"Install Cargo type 1\", null, \"Install Cargo type 1\", \"Install Cargo type 1\", \"Install Cargo type 1\", \"Install Cargo type 1\", null, \"Install Cargo type 1\", \"Install Cargo type 1\", \"Install Cargo type 1\", \"Install Cargo type 1\", null, \"Install Cargo type 1\", \"Install Cargo type 1\", \"Install Cargo type 1\", \"Install Cargo type 1\", null]}, {\"connectgaps\": false, \"hoverinfo\": \"y+name\", \"line\": {\"color\": \"rgb(178,118,220)\", \"width\": 10}, \"mode\": \"lines\", \"name\": \"sailing empty vessel01\", \"type\": \"scatter\", \"x\": [\"1970-01-01T00:00:00\", \"1970-01-01T00:00:00\", \"1970-01-01T00:00:10\", \"1970-01-01T00:00:10\", \"1970-01-01T00:00:10\", \"1970-01-01T00:00:40\", \"1970-01-01T00:00:40\", \"1970-01-01T00:00:50\", \"1970-01-01T00:00:50\", \"1970-01-01T00:00:50\", \"1970-01-01T00:01:20\", \"1970-01-01T00:01:20\", \"1970-01-01T00:01:30\", \"1970-01-01T00:01:30\", \"1970-01-01T00:01:30\", \"1970-01-01T00:02:00\", \"1970-01-01T00:02:00\", \"1970-01-01T00:02:10\", \"1970-01-01T00:02:10\", \"1970-01-01T00:02:10\", \"1970-01-01T00:02:40\", \"1970-01-01T00:02:40\", \"1970-01-01T00:02:50\", \"1970-01-01T00:02:50\", \"1970-01-01T00:02:50\"], \"y\": [\"sailing empty vessel01\", \"sailing empty vessel01\", \"sailing empty vessel01\", \"sailing empty vessel01\", null, \"sailing empty vessel01\", \"sailing empty vessel01\", \"sailing empty vessel01\", \"sailing empty vessel01\", null, \"sailing empty vessel01\", \"sailing empty vessel01\", \"sailing empty vessel01\", \"sailing empty vessel01\", null, \"sailing empty vessel01\", \"sailing empty vessel01\", \"sailing empty vessel01\", \"sailing empty vessel01\", null, \"sailing empty vessel01\", \"sailing empty vessel01\", \"sailing empty vessel01\", \"sailing empty vessel01\", null]}, {\"connectgaps\": false, \"hoverinfo\": \"y+name\", \"line\": {\"color\": \"rgb(206,146,248)\", \"width\": 10}, \"mode\": \"lines\", \"name\": \"load cargo type 1 vessel01\", \"type\": \"scatter\", \"x\": [\"1970-01-01T00:00:10\", \"1970-01-01T00:00:10\", \"1970-01-01T00:00:20\", \"1970-01-01T00:00:20\", \"1970-01-01T00:00:20\", \"1970-01-01T00:00:50\", \"1970-01-01T00:00:50\", \"1970-01-01T00:01:00\", \"1970-01-01T00:01:00\", \"1970-01-01T00:01:00\", \"1970-01-01T00:01:30\", \"1970-01-01T00:01:30\", \"1970-01-01T00:01:40\", \"1970-01-01T00:01:40\", \"1970-01-01T00:01:40\", \"1970-01-01T00:02:10\", \"1970-01-01T00:02:10\", \"1970-01-01T00:02:20\", \"1970-01-01T00:02:20\", \"1970-01-01T00:02:20\", \"1970-01-01T00:02:50\", \"1970-01-01T00:02:50\", \"1970-01-01T00:03:00\", \"1970-01-01T00:03:00\", \"1970-01-01T00:03:00\"], \"y\": [\"load cargo type 1 vessel01\", \"load cargo type 1 vessel01\", \"load cargo type 1 vessel01\", \"load cargo type 1 vessel01\", null, \"load cargo type 1 vessel01\", \"load cargo type 1 vessel01\", \"load cargo type 1 vessel01\", \"load cargo type 1 vessel01\", null, \"load cargo type 1 vessel01\", \"load cargo type 1 vessel01\", \"load cargo type 1 vessel01\", \"load cargo type 1 vessel01\", null, \"load cargo type 1 vessel01\", \"load cargo type 1 vessel01\", \"load cargo type 1 vessel01\", \"load cargo type 1 vessel01\", null, \"load cargo type 1 vessel01\", \"load cargo type 1 vessel01\", \"load cargo type 1 vessel01\", \"load cargo type 1 vessel01\", null]}, {\"connectgaps\": false, \"hoverinfo\": \"y+name\", \"line\": {\"color\": \"rgb(234,174,20)\", \"width\": 10}, \"mode\": \"lines\", \"name\": \"sailing filled vessel01\", \"type\": \"scatter\", \"x\": [\"1970-01-01T00:00:20\", \"1970-01-01T00:00:20\", \"1970-01-01T00:00:30\", \"1970-01-01T00:00:30\", \"1970-01-01T00:00:30\", \"1970-01-01T00:01:00\", \"1970-01-01T00:01:00\", \"1970-01-01T00:01:10\", \"1970-01-01T00:01:10\", \"1970-01-01T00:01:10\", \"1970-01-01T00:01:40\", \"1970-01-01T00:01:40\", \"1970-01-01T00:01:50\", \"1970-01-01T00:01:50\", \"1970-01-01T00:01:50\", \"1970-01-01T00:02:20\", \"1970-01-01T00:02:20\", \"1970-01-01T00:02:30\", \"1970-01-01T00:02:30\", \"1970-01-01T00:02:30\", \"1970-01-01T00:03:00\", \"1970-01-01T00:03:00\", \"1970-01-01T00:03:10\", \"1970-01-01T00:03:10\", \"1970-01-01T00:03:10\"], \"y\": [\"sailing filled vessel01\", \"sailing filled vessel01\", \"sailing filled vessel01\", \"sailing filled vessel01\", null, \"sailing filled vessel01\", \"sailing filled vessel01\", \"sailing filled vessel01\", \"sailing filled vessel01\", null, \"sailing filled vessel01\", \"sailing filled vessel01\", \"sailing filled vessel01\", \"sailing filled vessel01\", null, \"sailing filled vessel01\", \"sailing filled vessel01\", \"sailing filled vessel01\", \"sailing filled vessel01\", null, \"sailing filled vessel01\", \"sailing filled vessel01\", \"sailing filled vessel01\", \"sailing filled vessel01\", null]}, {\"connectgaps\": false, \"hoverinfo\": \"y+name\", \"line\": {\"color\": \"rgb(6,202,48)\", \"width\": 10}, \"mode\": \"lines\", \"name\": \"unload cargo type 1 vessel01\", \"type\": \"scatter\", \"x\": [\"1970-01-01T00:00:30\", \"1970-01-01T00:00:30\", \"1970-01-01T00:00:40\", \"1970-01-01T00:00:40\", \"1970-01-01T00:00:40\", \"1970-01-01T00:01:10\", \"1970-01-01T00:01:10\", \"1970-01-01T00:01:20\", \"1970-01-01T00:01:20\", \"1970-01-01T00:01:20\", \"1970-01-01T00:01:50\", \"1970-01-01T00:01:50\", \"1970-01-01T00:02:00\", \"1970-01-01T00:02:00\", \"1970-01-01T00:02:00\", \"1970-01-01T00:02:30\", \"1970-01-01T00:02:30\", \"1970-01-01T00:02:40\", \"1970-01-01T00:02:40\", \"1970-01-01T00:02:40\", \"1970-01-01T00:03:10\", \"1970-01-01T00:03:10\", \"1970-01-01T00:03:20\", \"1970-01-01T00:03:20\", \"1970-01-01T00:03:20\"], \"y\": [\"unload cargo type 1 vessel01\", \"unload cargo type 1 vessel01\", \"unload cargo type 1 vessel01\", \"unload cargo type 1 vessel01\", null, \"unload cargo type 1 vessel01\", \"unload cargo type 1 vessel01\", \"unload cargo type 1 vessel01\", \"unload cargo type 1 vessel01\", null, \"unload cargo type 1 vessel01\", \"unload cargo type 1 vessel01\", \"unload cargo type 1 vessel01\", \"unload cargo type 1 vessel01\", null, \"unload cargo type 1 vessel01\", \"unload cargo type 1 vessel01\", \"unload cargo type 1 vessel01\", \"unload cargo type 1 vessel01\", null, \"unload cargo type 1 vessel01\", \"unload cargo type 1 vessel01\", \"unload cargo type 1 vessel01\", \"unload cargo type 1 vessel01\", null]}, {\"connectgaps\": false, \"hoverinfo\": \"y+name\", \"line\": {\"color\": \"rgb(34,230,76)\", \"width\": 10}, \"mode\": \"lines\", \"name\": \"sailing empty vessel02\", \"type\": \"scatter\", \"x\": [\"1970-01-01T00:00:00\", \"1970-01-01T00:00:00\", \"1970-01-01T00:00:10\", \"1970-01-01T00:00:10\", \"1970-01-01T00:00:10\", \"1970-01-01T00:00:40\", \"1970-01-01T00:00:40\", \"1970-01-01T00:00:50\", \"1970-01-01T00:00:50\", \"1970-01-01T00:00:50\", \"1970-01-01T00:01:20\", \"1970-01-01T00:01:20\", \"1970-01-01T00:01:30\", \"1970-01-01T00:01:30\", \"1970-01-01T00:01:30\", \"1970-01-01T00:02:00\", \"1970-01-01T00:02:00\", \"1970-01-01T00:02:10\", \"1970-01-01T00:02:10\", \"1970-01-01T00:02:10\", \"1970-01-01T00:02:40\", \"1970-01-01T00:02:40\", \"1970-01-01T00:02:50\", \"1970-01-01T00:02:50\", \"1970-01-01T00:02:50\"], \"y\": [\"sailing empty vessel02\", \"sailing empty vessel02\", \"sailing empty vessel02\", \"sailing empty vessel02\", null, \"sailing empty vessel02\", \"sailing empty vessel02\", \"sailing empty vessel02\", \"sailing empty vessel02\", null, \"sailing empty vessel02\", \"sailing empty vessel02\", \"sailing empty vessel02\", \"sailing empty vessel02\", null, \"sailing empty vessel02\", \"sailing empty vessel02\", \"sailing empty vessel02\", \"sailing empty vessel02\", null, \"sailing empty vessel02\", \"sailing empty vessel02\", \"sailing empty vessel02\", \"sailing empty vessel02\", null]}, {\"connectgaps\": false, \"hoverinfo\": \"y+name\", \"line\": {\"color\": \"rgb(62,2,104)\", \"width\": 10}, \"mode\": \"lines\", \"name\": \"load cargo type 1 vessel02\", \"type\": \"scatter\", \"x\": [\"1970-01-01T00:00:10\", \"1970-01-01T00:00:10\", \"1970-01-01T00:00:20\", \"1970-01-01T00:00:20\", \"1970-01-01T00:00:20\", \"1970-01-01T00:00:50\", \"1970-01-01T00:00:50\", \"1970-01-01T00:01:00\", \"1970-01-01T00:01:00\", \"1970-01-01T00:01:00\", \"1970-01-01T00:01:30\", \"1970-01-01T00:01:30\", \"1970-01-01T00:01:40\", \"1970-01-01T00:01:40\", \"1970-01-01T00:01:40\", \"1970-01-01T00:02:10\", \"1970-01-01T00:02:10\", \"1970-01-01T00:02:20\", \"1970-01-01T00:02:20\", \"1970-01-01T00:02:20\", \"1970-01-01T00:02:50\", \"1970-01-01T00:02:50\", \"1970-01-01T00:03:00\", \"1970-01-01T00:03:00\", \"1970-01-01T00:03:00\"], \"y\": [\"load cargo type 1 vessel02\", \"load cargo type 1 vessel02\", \"load cargo type 1 vessel02\", \"load cargo type 1 vessel02\", null, \"load cargo type 1 vessel02\", \"load cargo type 1 vessel02\", \"load cargo type 1 vessel02\", \"load cargo type 1 vessel02\", null, \"load cargo type 1 vessel02\", \"load cargo type 1 vessel02\", \"load cargo type 1 vessel02\", \"load cargo type 1 vessel02\", null, \"load cargo type 1 vessel02\", \"load cargo type 1 vessel02\", \"load cargo type 1 vessel02\", \"load cargo type 1 vessel02\", null, \"load cargo type 1 vessel02\", \"load cargo type 1 vessel02\", \"load cargo type 1 vessel02\", \"load cargo type 1 vessel02\", null]}, {\"connectgaps\": false, \"hoverinfo\": \"y+name\", \"line\": {\"color\": \"rgb(90,30,132)\", \"width\": 10}, \"mode\": \"lines\", \"name\": \"sailing filled vessel02\", \"type\": \"scatter\", \"x\": [\"1970-01-01T00:00:20\", \"1970-01-01T00:00:20\", \"1970-01-01T00:00:30\", \"1970-01-01T00:00:30\", \"1970-01-01T00:00:30\", \"1970-01-01T00:01:00\", \"1970-01-01T00:01:00\", \"1970-01-01T00:01:10\", \"1970-01-01T00:01:10\", \"1970-01-01T00:01:10\", \"1970-01-01T00:01:40\", \"1970-01-01T00:01:40\", \"1970-01-01T00:01:50\", \"1970-01-01T00:01:50\", \"1970-01-01T00:01:50\", \"1970-01-01T00:02:20\", \"1970-01-01T00:02:20\", \"1970-01-01T00:02:30\", \"1970-01-01T00:02:30\", \"1970-01-01T00:02:30\", \"1970-01-01T00:03:00\", \"1970-01-01T00:03:00\", \"1970-01-01T00:03:10\", \"1970-01-01T00:03:10\", \"1970-01-01T00:03:10\"], \"y\": [\"sailing filled vessel02\", \"sailing filled vessel02\", \"sailing filled vessel02\", \"sailing filled vessel02\", null, \"sailing filled vessel02\", \"sailing filled vessel02\", \"sailing filled vessel02\", \"sailing filled vessel02\", null, \"sailing filled vessel02\", \"sailing filled vessel02\", \"sailing filled vessel02\", \"sailing filled vessel02\", null, \"sailing filled vessel02\", \"sailing filled vessel02\", \"sailing filled vessel02\", \"sailing filled vessel02\", null, \"sailing filled vessel02\", \"sailing filled vessel02\", \"sailing filled vessel02\", \"sailing filled vessel02\", null]}, {\"connectgaps\": false, \"hoverinfo\": \"y+name\", \"line\": {\"color\": \"rgb(118,58,160)\", \"width\": 10}, \"mode\": \"lines\", \"name\": \"unload cargo type 1 vessel02\", \"type\": \"scatter\", \"x\": [\"1970-01-01T00:00:30\", \"1970-01-01T00:00:30\", \"1970-01-01T00:00:40\", \"1970-01-01T00:00:40\", \"1970-01-01T00:00:40\", \"1970-01-01T00:01:10\", \"1970-01-01T00:01:10\", \"1970-01-01T00:01:20\", \"1970-01-01T00:01:20\", \"1970-01-01T00:01:20\", \"1970-01-01T00:01:50\", \"1970-01-01T00:01:50\", \"1970-01-01T00:02:00\", \"1970-01-01T00:02:00\", \"1970-01-01T00:02:00\", \"1970-01-01T00:02:30\", \"1970-01-01T00:02:30\", \"1970-01-01T00:02:40\", \"1970-01-01T00:02:40\", \"1970-01-01T00:02:40\", \"1970-01-01T00:03:10\", \"1970-01-01T00:03:10\", \"1970-01-01T00:03:20\", \"1970-01-01T00:03:20\", \"1970-01-01T00:03:20\"], \"y\": [\"unload cargo type 1 vessel02\", \"unload cargo type 1 vessel02\", \"unload cargo type 1 vessel02\", \"unload cargo type 1 vessel02\", null, \"unload cargo type 1 vessel02\", \"unload cargo type 1 vessel02\", \"unload cargo type 1 vessel02\", \"unload cargo type 1 vessel02\", null, \"unload cargo type 1 vessel02\", \"unload cargo type 1 vessel02\", \"unload cargo type 1 vessel02\", \"unload cargo type 1 vessel02\", null, \"unload cargo type 1 vessel02\", \"unload cargo type 1 vessel02\", \"unload cargo type 1 vessel02\", \"unload cargo type 1 vessel02\", null, \"unload cargo type 1 vessel02\", \"unload cargo type 1 vessel02\", \"unload cargo type 1 vessel02\", \"unload cargo type 1 vessel02\", null]}],                        {\"hovermode\": \"closest\", \"legend\": {\"orientation\": \"h\", \"x\": 0, \"y\": -0.2}, \"template\": {\"data\": {\"bar\": [{\"error_x\": {\"color\": \"#2a3f5f\"}, \"error_y\": {\"color\": \"#2a3f5f\"}, \"marker\": {\"line\": {\"color\": \"#E5ECF6\", \"width\": 0.5}}, \"type\": \"bar\"}], \"barpolar\": [{\"marker\": {\"line\": {\"color\": \"#E5ECF6\", \"width\": 0.5}}, \"type\": \"barpolar\"}], \"carpet\": [{\"aaxis\": {\"endlinecolor\": \"#2a3f5f\", \"gridcolor\": \"white\", \"linecolor\": \"white\", \"minorgridcolor\": \"white\", \"startlinecolor\": \"#2a3f5f\"}, \"baxis\": {\"endlinecolor\": \"#2a3f5f\", \"gridcolor\": \"white\", \"linecolor\": \"white\", \"minorgridcolor\": \"white\", \"startlinecolor\": \"#2a3f5f\"}, \"type\": \"carpet\"}], \"choropleth\": [{\"colorbar\": {\"outlinewidth\": 0, \"ticks\": \"\"}, \"type\": \"choropleth\"}], \"contour\": [{\"colorbar\": {\"outlinewidth\": 0, \"ticks\": \"\"}, \"colorscale\": [[0.0, \"#0d0887\"], [0.1111111111111111, \"#46039f\"], [0.2222222222222222, \"#7201a8\"], [0.3333333333333333, \"#9c179e\"], [0.4444444444444444, \"#bd3786\"], [0.5555555555555556, \"#d8576b\"], [0.6666666666666666, \"#ed7953\"], [0.7777777777777778, \"#fb9f3a\"], [0.8888888888888888, \"#fdca26\"], [1.0, \"#f0f921\"]], \"type\": \"contour\"}], \"contourcarpet\": [{\"colorbar\": {\"outlinewidth\": 0, \"ticks\": \"\"}, \"type\": \"contourcarpet\"}], \"heatmap\": [{\"colorbar\": {\"outlinewidth\": 0, \"ticks\": \"\"}, \"colorscale\": [[0.0, \"#0d0887\"], [0.1111111111111111, \"#46039f\"], [0.2222222222222222, \"#7201a8\"], [0.3333333333333333, \"#9c179e\"], [0.4444444444444444, \"#bd3786\"], [0.5555555555555556, \"#d8576b\"], [0.6666666666666666, \"#ed7953\"], [0.7777777777777778, \"#fb9f3a\"], [0.8888888888888888, \"#fdca26\"], [1.0, \"#f0f921\"]], \"type\": \"heatmap\"}], \"heatmapgl\": [{\"colorbar\": {\"outlinewidth\": 0, \"ticks\": \"\"}, \"colorscale\": [[0.0, \"#0d0887\"], [0.1111111111111111, \"#46039f\"], [0.2222222222222222, \"#7201a8\"], [0.3333333333333333, \"#9c179e\"], [0.4444444444444444, \"#bd3786\"], [0.5555555555555556, \"#d8576b\"], [0.6666666666666666, \"#ed7953\"], [0.7777777777777778, \"#fb9f3a\"], [0.8888888888888888, \"#fdca26\"], [1.0, \"#f0f921\"]], \"type\": \"heatmapgl\"}], \"histogram\": [{\"marker\": {\"colorbar\": {\"outlinewidth\": 0, \"ticks\": \"\"}}, \"type\": \"histogram\"}], \"histogram2d\": [{\"colorbar\": {\"outlinewidth\": 0, \"ticks\": \"\"}, \"colorscale\": [[0.0, \"#0d0887\"], [0.1111111111111111, \"#46039f\"], [0.2222222222222222, \"#7201a8\"], [0.3333333333333333, \"#9c179e\"], [0.4444444444444444, \"#bd3786\"], [0.5555555555555556, \"#d8576b\"], [0.6666666666666666, \"#ed7953\"], [0.7777777777777778, \"#fb9f3a\"], [0.8888888888888888, \"#fdca26\"], [1.0, \"#f0f921\"]], \"type\": \"histogram2d\"}], \"histogram2dcontour\": [{\"colorbar\": {\"outlinewidth\": 0, \"ticks\": \"\"}, \"colorscale\": [[0.0, \"#0d0887\"], [0.1111111111111111, \"#46039f\"], [0.2222222222222222, \"#7201a8\"], [0.3333333333333333, \"#9c179e\"], [0.4444444444444444, \"#bd3786\"], [0.5555555555555556, \"#d8576b\"], [0.6666666666666666, \"#ed7953\"], [0.7777777777777778, \"#fb9f3a\"], [0.8888888888888888, \"#fdca26\"], [1.0, \"#f0f921\"]], \"type\": \"histogram2dcontour\"}], \"mesh3d\": [{\"colorbar\": {\"outlinewidth\": 0, \"ticks\": \"\"}, \"type\": \"mesh3d\"}], \"parcoords\": [{\"line\": {\"colorbar\": {\"outlinewidth\": 0, \"ticks\": \"\"}}, \"type\": \"parcoords\"}], \"pie\": [{\"automargin\": true, \"type\": \"pie\"}], \"scatter\": [{\"marker\": {\"colorbar\": {\"outlinewidth\": 0, \"ticks\": \"\"}}, \"type\": \"scatter\"}], \"scatter3d\": [{\"line\": {\"colorbar\": {\"outlinewidth\": 0, \"ticks\": \"\"}}, \"marker\": {\"colorbar\": {\"outlinewidth\": 0, \"ticks\": \"\"}}, \"type\": \"scatter3d\"}], \"scattercarpet\": [{\"marker\": {\"colorbar\": {\"outlinewidth\": 0, \"ticks\": \"\"}}, \"type\": \"scattercarpet\"}], \"scattergeo\": [{\"marker\": {\"colorbar\": {\"outlinewidth\": 0, \"ticks\": \"\"}}, \"type\": \"scattergeo\"}], \"scattergl\": [{\"marker\": {\"colorbar\": {\"outlinewidth\": 0, \"ticks\": \"\"}}, \"type\": \"scattergl\"}], \"scattermapbox\": [{\"marker\": {\"colorbar\": {\"outlinewidth\": 0, \"ticks\": \"\"}}, \"type\": \"scattermapbox\"}], \"scatterpolar\": [{\"marker\": {\"colorbar\": {\"outlinewidth\": 0, \"ticks\": \"\"}}, \"type\": \"scatterpolar\"}], \"scatterpolargl\": [{\"marker\": {\"colorbar\": {\"outlinewidth\": 0, \"ticks\": \"\"}}, \"type\": \"scatterpolargl\"}], \"scatterternary\": [{\"marker\": {\"colorbar\": {\"outlinewidth\": 0, \"ticks\": \"\"}}, \"type\": \"scatterternary\"}], \"surface\": [{\"colorbar\": {\"outlinewidth\": 0, \"ticks\": \"\"}, \"colorscale\": [[0.0, \"#0d0887\"], [0.1111111111111111, \"#46039f\"], [0.2222222222222222, \"#7201a8\"], [0.3333333333333333, \"#9c179e\"], [0.4444444444444444, \"#bd3786\"], [0.5555555555555556, \"#d8576b\"], [0.6666666666666666, \"#ed7953\"], [0.7777777777777778, \"#fb9f3a\"], [0.8888888888888888, \"#fdca26\"], [1.0, \"#f0f921\"]], \"type\": \"surface\"}], \"table\": [{\"cells\": {\"fill\": {\"color\": \"#EBF0F8\"}, \"line\": {\"color\": \"white\"}}, \"header\": {\"fill\": {\"color\": \"#C8D4E3\"}, \"line\": {\"color\": \"white\"}}, \"type\": \"table\"}]}, \"layout\": {\"annotationdefaults\": {\"arrowcolor\": \"#2a3f5f\", \"arrowhead\": 0, \"arrowwidth\": 1}, \"coloraxis\": {\"colorbar\": {\"outlinewidth\": 0, \"ticks\": \"\"}}, \"colorscale\": {\"diverging\": [[0, \"#8e0152\"], [0.1, \"#c51b7d\"], [0.2, \"#de77ae\"], [0.3, \"#f1b6da\"], [0.4, \"#fde0ef\"], [0.5, \"#f7f7f7\"], [0.6, \"#e6f5d0\"], [0.7, \"#b8e186\"], [0.8, \"#7fbc41\"], [0.9, \"#4d9221\"], [1, \"#276419\"]], \"sequential\": [[0.0, \"#0d0887\"], [0.1111111111111111, \"#46039f\"], [0.2222222222222222, \"#7201a8\"], [0.3333333333333333, \"#9c179e\"], [0.4444444444444444, \"#bd3786\"], [0.5555555555555556, \"#d8576b\"], [0.6666666666666666, \"#ed7953\"], [0.7777777777777778, \"#fb9f3a\"], [0.8888888888888888, \"#fdca26\"], [1.0, \"#f0f921\"]], \"sequentialminus\": [[0.0, \"#0d0887\"], [0.1111111111111111, \"#46039f\"], [0.2222222222222222, \"#7201a8\"], [0.3333333333333333, \"#9c179e\"], [0.4444444444444444, \"#bd3786\"], [0.5555555555555556, \"#d8576b\"], [0.6666666666666666, \"#ed7953\"], [0.7777777777777778, \"#fb9f3a\"], [0.8888888888888888, \"#fdca26\"], [1.0, \"#f0f921\"]]}, \"colorway\": [\"#636efa\", \"#EF553B\", \"#00cc96\", \"#ab63fa\", \"#FFA15A\", \"#19d3f3\", \"#FF6692\", \"#B6E880\", \"#FF97FF\", \"#FECB52\"], \"font\": {\"color\": \"#2a3f5f\"}, \"geo\": {\"bgcolor\": \"white\", \"lakecolor\": \"white\", \"landcolor\": \"#E5ECF6\", \"showlakes\": true, \"showland\": true, \"subunitcolor\": \"white\"}, \"hoverlabel\": {\"align\": \"left\"}, \"hovermode\": \"closest\", \"mapbox\": {\"style\": \"light\"}, \"paper_bgcolor\": \"white\", \"plot_bgcolor\": \"#E5ECF6\", \"polar\": {\"angularaxis\": {\"gridcolor\": \"white\", \"linecolor\": \"white\", \"ticks\": \"\"}, \"bgcolor\": \"#E5ECF6\", \"radialaxis\": {\"gridcolor\": \"white\", \"linecolor\": \"white\", \"ticks\": \"\"}}, \"scene\": {\"xaxis\": {\"backgroundcolor\": \"#E5ECF6\", \"gridcolor\": \"white\", \"gridwidth\": 2, \"linecolor\": \"white\", \"showbackground\": true, \"ticks\": \"\", \"zerolinecolor\": \"white\"}, \"yaxis\": {\"backgroundcolor\": \"#E5ECF6\", \"gridcolor\": \"white\", \"gridwidth\": 2, \"linecolor\": \"white\", \"showbackground\": true, \"ticks\": \"\", \"zerolinecolor\": \"white\"}, \"zaxis\": {\"backgroundcolor\": \"#E5ECF6\", \"gridcolor\": \"white\", \"gridwidth\": 2, \"linecolor\": \"white\", \"showbackground\": true, \"ticks\": \"\", \"zerolinecolor\": \"white\"}}, \"shapedefaults\": {\"line\": {\"color\": \"#2a3f5f\"}}, \"ternary\": {\"aaxis\": {\"gridcolor\": \"white\", \"linecolor\": \"white\", \"ticks\": \"\"}, \"baxis\": {\"gridcolor\": \"white\", \"linecolor\": \"white\", \"ticks\": \"\"}, \"bgcolor\": \"#E5ECF6\", \"caxis\": {\"gridcolor\": \"white\", \"linecolor\": \"white\", \"ticks\": \"\"}}, \"title\": {\"x\": 0.05}, \"xaxis\": {\"automargin\": true, \"gridcolor\": \"white\", \"linecolor\": \"white\", \"ticks\": \"\", \"title\": {\"standoff\": 15}, \"zerolinecolor\": \"white\", \"zerolinewidth\": 2}, \"yaxis\": {\"automargin\": true, \"gridcolor\": \"white\", \"linecolor\": \"white\", \"ticks\": \"\", \"title\": {\"standoff\": 15}, \"zerolinecolor\": \"white\", \"zerolinewidth\": 2}}}, \"title\": {\"text\": \"GANTT Chart\"}, \"xaxis\": {\"range\": [\"1970-01-01T00:00:00\", \"1970-01-01T00:03:40\"], \"title\": {\"font\": {\"color\": \"#7f7f7f\", \"family\": \"Courier New, monospace\", \"size\": 18}, \"text\": \"Time\"}}, \"yaxis\": {\"title\": {\"font\": {\"color\": \"#7f7f7f\", \"family\": \"Courier New, monospace\", \"size\": 18}, \"text\": \"Activities\"}}},                        {\"responsive\": true}                    ).then(function(){\n",
       "                            \n",
       "var gd = document.getElementById('d9b06c10-8fd5-42af-b853-994efbf57e1b');\n",
       "var x = new MutationObserver(function (mutations, observer) {{\n",
       "        var display = window.getComputedStyle(gd).display;\n",
       "        if (!display || display === 'none') {{\n",
       "            console.log([gd, 'removed!']);\n",
       "            Plotly.purge(gd);\n",
       "            observer.disconnect();\n",
       "        }}\n",
       "}});\n",
       "\n",
       "// Listen for the removal of the full notebook cells\n",
       "var notebookContainer = gd.closest('#notebook-container');\n",
       "if (notebookContainer) {{\n",
       "    x.observe(notebookContainer, {childList: true});\n",
       "}}\n",
       "\n",
       "// Listen for the clearing of the current output cell\n",
       "var outputEl = gd.closest('.output');\n",
       "if (outputEl) {{\n",
       "    x.observe(outputEl, {childList: true});\n",
       "}}\n",
       "\n",
       "                        })                };                });            </script>        </div>"
      ]
     },
     "metadata": {},
     "output_type": "display_data"
    }
   ],
   "source": [
    "acts = []\n",
    "for proc in processes:\n",
    "    acts.extend(proc.sub_processes[0].sub_processes)\n",
    "    \n",
    "plot.get_gantt_chart([*install_process.sub_processes, *acts])"
   ]
  },
  {
   "cell_type": "markdown",
   "metadata": {},
   "source": [
    "##### 5.3 Visualise step charts"
   ]
  },
  {
   "cell_type": "code",
   "execution_count": 12,
   "metadata": {},
   "outputs": [
    {
     "data": {
      "image/png": "[encoded data removed]",
      "text/plain": [
       "<Figure size 1008x504 with 1 Axes>"
      ]
     },
     "execution_count": 12,
     "metadata": {},
     "output_type": "execute_result"
    },
    {
     "data": {
      "image/png": "[encoded data removed]",
      "text/plain": [
       "<Figure size 1008x504 with 1 Axes>"
      ]
     },
     "metadata": {
      "needs_background": "light"
     },
     "output_type": "display_data"
    }
   ],
   "source": [
    "plot.get_step_chart([installer01])"
   ]
  },
  {
   "cell_type": "code",
   "execution_count": 13,
   "metadata": {},
   "outputs": [
    {
     "data": {
      "image/png": "[encoded data removed]",
      "text/plain": [
       "<Figure size 1008x504 with 1 Axes>"
      ]
     },
     "execution_count": 13,
     "metadata": {},
     "output_type": "execute_result"
    },
    {
     "data": {
      "image/png": "[encoded data removed]",
      "text/plain": [
       "<Figure size 1008x504 with 1 Axes>"
      ]
     },
     "metadata": {
      "needs_background": "light"
     },
     "output_type": "display_data"
    }
   ],
   "source": [
    "plot.get_step_chart([from_site, vessel01, vessel02, installer01, to_site])"
   ]
  }
 ],
 "metadata": {
  "kernelspec": {
   "display_name": "Python 3",
   "language": "python",
   "name": "python3"
  },
  "language_info": {
   "codemirror_mode": {
    "name": "ipython",
    "version": 3
   },
   "file_extension": ".py",
   "mimetype": "text/x-python",
   "name": "python",
   "nbconvert_exporter": "python",
   "pygments_lexer": "ipython3",
   "version": "3.8.6"
  }
 },
 "nbformat": 4,
 "nbformat_minor": 4
}
