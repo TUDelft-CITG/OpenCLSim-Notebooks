{
 "cells": [
  {
   "cell_type": "markdown",
   "metadata": {},
   "source": [
    "## Hopper with two unloading steps"
   ]
  },
  {
   "cell_type": "markdown",
   "metadata": {},
   "source": [
    "## 0. Import required libraries"
   ]
  },
  {
   "cell_type": "code",
   "execution_count": 1,
   "metadata": {},
   "outputs": [],
   "source": [
    "# package(s) related to time, space and id\n",
    "import datetime, time\n",
    "import platform\n",
    "\n",
    "# you need these dependencies (you can get these from anaconda)\n",
    "# package(s) related to the simulation\n",
    "import simpy\n",
    "\n",
    "# spatial libraries \n",
    "import shapely.geometry\n",
    "from simplekml import Kml, Style\n",
    "\n",
    "# package(s) for data handling\n",
    "import numpy as np\n",
    "\n",
    "# digital twin package\n",
    "import openclsim.core as core\n",
    "import openclsim.model as model\n",
    "import openclsim.plot as plot"
   ]
  },
  {
   "cell_type": "code",
   "execution_count": 2,
   "metadata": {},
   "outputs": [],
   "source": [
    "# Create simulation environment\n",
    "simulation_start = datetime.datetime.now()\n",
    "\n",
    "my_env = simpy.Environment(initial_time = time.mktime(simulation_start.timetuple()))\n",
    "my_env.epoch = time.mktime(simulation_start.timetuple())"
   ]
  },
  {
   "cell_type": "markdown",
   "metadata": {},
   "source": [
    "## 1. Define work method"
   ]
  },
  {
   "cell_type": "markdown",
   "metadata": {},
   "source": [
    "### 1.1 Define the project sites\n",
    "You can specify a project site object by entering mix-ins:\n",
    "\n",
    "    core.Identifiable - enables you to give the object a name\n",
    "    core.Log - enables you to log all discrete events in which the object is involved\n",
    "    core.Locatable - enables you to add coordinates to extract distance information and visualize\n",
    "    core.HasContainer - enables you to add information on the material available at the site\n",
    "    core.HasResource - enables you to add information on serving equipment\n",
    "    core.HasWeather - enables you to add weather conditions"
   ]
  },
  {
   "cell_type": "markdown",
   "metadata": {},
   "source": [
    "#### First create objects with the desired properties"
   ]
  },
  {
   "cell_type": "code",
   "execution_count": 3,
   "metadata": {},
   "outputs": [],
   "source": [
    "# The generic site class\n",
    "Site = type('Site', (core.Identifiable, # Give it a name\n",
    "                     core.Log,          # Allow logging of all discrete events\n",
    "                     core.Locatable,    # Add coordinates to extract distance information and visualize\n",
    "                     core.HasContainer, # Add information on the material available at the site\n",
    "                     core.HasResource), # Add information on serving equipment\n",
    "            {})                         # The dictionary is empty because the site type is generic"
   ]
  },
  {
   "cell_type": "markdown",
   "metadata": {},
   "source": [
    "#### Next specify the properties for sites you wish to create"
   ]
  },
  {
   "cell_type": "code",
   "execution_count": 4,
   "metadata": {},
   "outputs": [],
   "source": [
    "# Information on the extraction site - the \"from site\" - the \"win locatie\"\n",
    "location_from_site = shapely.geometry.Point(4.18, 52.18)  # lon, lat\n",
    "\n",
    "data_from_site_1 = {\"env\": my_env,                                # The simpy environment defined in the first cel\n",
    "                  \"name\": \"Winlocatie\",                         # The name of the site\n",
    "                  \"geometry\": location_from_site,               # The coordinates of the project site\n",
    "                  \"capacity\": 25_000,                          # The capacity of the site\n",
    "                  \"level\": 25_000}                             # The actual volume of the site"
   ]
  },
  {
   "cell_type": "code",
   "execution_count": 5,
   "metadata": {},
   "outputs": [],
   "source": [
    "# Information on the extraction site - the \"from site\" - the \"win locatie\"\n",
    "location_from_site = shapely.geometry.Point(4.18, 52.19)  # lon, lat\n",
    "\n",
    "data_from_site_2 = {\"env\": my_env,                                # The simpy environment defined in the first cel\n",
    "                  \"name\": \"Winlocatie - 2\",                         # The name of the site\n",
    "                  \"geometry\": location_from_site,               # The coordinates of the project site\n",
    "                  \"capacity\": 25_000,                          # The capacity of the site\n",
    "                  \"level\": 25_000}                             # The actual volume of the site"
   ]
  },
  {
   "cell_type": "code",
   "execution_count": 6,
   "metadata": {},
   "outputs": [],
   "source": [
    "# Information on the dumping site - the \"to site\" - the \"dump locatie\"\n",
    "location_to_site = shapely.geometry.Point(4.25, 52.11)     # lon, lat\n",
    "\n",
    "data_to_site_1 = {\"env\": my_env,                                # The simpy environment defined in the first cel\n",
    "                \"name\": \"Dumplocatie - 1\",              # The name of the site\n",
    "                \"geometry\": location_to_site,                 # The coordinates of the project site\n",
    "                \"capacity\": 25_000,                          # The capacity of the site\n",
    "                \"level\": 0}                                   # The actual volume of the site (empty of course)"
   ]
  },
  {
   "cell_type": "code",
   "execution_count": 7,
   "metadata": {},
   "outputs": [],
   "source": [
    "# Information on the dumping site - the \"to site\" - the \"dump locatie\"\n",
    "location_to_site = shapely.geometry.Point(4.25, 52.12)     # lon, lat\n",
    "\n",
    "data_to_site_2 = {\"env\": my_env,                                # The simpy environment defined in the first cel\n",
    "                \"name\": \"Dumplocatie - 2\",              # The name of the site\n",
    "                \"geometry\": location_to_site,                 # The coordinates of the project site\n",
    "                \"capacity\": 25_000,                          # The capacity of the site\n",
    "                \"level\": 0}                                   # The actual volume of the site (empty of course)"
   ]
  },
  {
   "cell_type": "markdown",
   "metadata": {},
   "source": [
    "#### Finally create specific instances of the predefined objects with the specified properties"
   ]
  },
  {
   "cell_type": "code",
   "execution_count": 8,
   "metadata": {},
   "outputs": [],
   "source": [
    "# The two objects used for the simulation\n",
    "from_site = [Site(**data_from_site_1), Site(**data_from_site_2)]\n",
    "to_site   = [Site(**data_to_site_1), Site(**data_to_site_2)]"
   ]
  },
  {
   "cell_type": "markdown",
   "metadata": {},
   "source": [
    "### 1.2 Define the project equipment\n",
    "You can specify a vessel object by entering mix-ins:\n",
    "\n",
    "    core.Identifiable - enables you to give the object a name\n",
    "    core.Log - enables you to log all discrete events in which the object is involved\n",
    "    core.ContainerDependentMovable - A moving container, so capacity and location\n",
    "    core.Processor - Allow for loading and unloading\n",
    "    core.HasResource - Add information on serving equipment\n",
    "    core.HasDepthRestriction - Add information on depth restriction "
   ]
  },
  {
   "cell_type": "markdown",
   "metadata": {},
   "source": [
    "#### First create objects with the desired properties"
   ]
  },
  {
   "cell_type": "code",
   "execution_count": 9,
   "metadata": {},
   "outputs": [],
   "source": [
    "# The generic class for an object that can move and transport (a TSHD for example)\n",
    "TransportProcessingResource = type('TransportProcessingResource', \n",
    "                                   (core.Identifiable,              # Give it a name\n",
    "                                    core.Log,                       # Allow logging of all discrete events\n",
    "                                    core.ContainerDependentMovable, # A moving container, so capacity and location\n",
    "                                    core.Processor,                 # Allow for loading and unloading\n",
    "                                    core.HasResource,               # Add information on serving equipment\n",
    "                                    core.HasCosts,                  # Add information on costs\n",
    "                                    core.LoadingFunction,           # Add a loading function\n",
    "                                    core.UnloadingFunction,         # Add an unloading function\n",
    "                                    ), \n",
    "                                   {})"
   ]
  },
  {
   "cell_type": "markdown",
   "metadata": {},
   "source": [
    "#### Next specify the properties for vessel(s) you wish to create"
   ]
  },
  {
   "cell_type": "code",
   "execution_count": 10,
   "metadata": {},
   "outputs": [],
   "source": [
    "# For more realistic simulation you might want to have speed dependent on the volume carried by the vessel\n",
    "def compute_v_provider(v_empty, v_full):\n",
    "    return lambda x: x * (v_full - v_empty) + v_empty"
   ]
  },
  {
   "cell_type": "code",
   "execution_count": 11,
   "metadata": {},
   "outputs": [],
   "source": [
    "# TSHD variables\n",
    "data_hopper = {\"env\": my_env,                                       # The simpy environment \n",
    "               \"name\": \"Hopper 01\",                                 # Name\n",
    "               \"ID\": \"6dbbbdf6-4589-11e9-95a2-b469212bff5b\",        # For logging purposes\n",
    "               \"geometry\": location_from_site,                      # It starts at the \"from site\"\n",
    "               \"loading_rate\": 1,                                   # Loading rate\n",
    "               \"unloading_rate\": 1,                                 # Unloading rate\n",
    "               \"capacity\": 10_000,                                   # Capacity of the hopper - \"Beunvolume\"\n",
    "               \"compute_v\": compute_v_provider(5, 4.5),             # Variable speed \n",
    "               \"weekrate\": 700_000}"
   ]
  },
  {
   "cell_type": "markdown",
   "metadata": {},
   "source": [
    "#### Finally create specific instances of the predefined objects with the specified properties"
   ]
  },
  {
   "cell_type": "code",
   "execution_count": 12,
   "metadata": {},
   "outputs": [],
   "source": [
    "# The simulation object\n",
    "hopper = TransportProcessingResource(**data_hopper)"
   ]
  },
  {
   "cell_type": "markdown",
   "metadata": {},
   "source": [
    "### 1.3 Define the activity"
   ]
  },
  {
   "cell_type": "code",
   "execution_count": 13,
   "metadata": {},
   "outputs": [],
   "source": [
    "stop_event = []\n",
    "stop_event.extend(orig.container.empty_event for orig in from_site)\n",
    "stop_event.extend(dest.container.full_event for dest in to_site)\n",
    "stop_event = my_env.all_of(stop_event)\n",
    "\n",
    "# Create activity\n",
    "activity_1 = model.Activity(env = my_env,           # The simpy environment defined in the first cel\n",
    "                          name = \"Rainbowing\",    # We are moving soil\n",
    "                          origin = from_site,     # We originate from the from_site\n",
    "                          destination = to_site,  # And therefore travel to the to_site\n",
    "                          loader = hopper,        # The benefit of a TSHD, all steps can be done\n",
    "                          mover = hopper,         # The benefit of a TSHD, all steps can be done\n",
    "                          unloader = hopper,      # The benefit of a TSHD, all steps can be done\n",
    "                          start_event = None,     # We can start right away\n",
    "                          stop_event = stop_event)      # We stop once there is nothing more to move"
   ]
  },
  {
   "cell_type": "markdown",
   "metadata": {},
   "source": [
    "### 2. Run the simulation"
   ]
  },
  {
   "cell_type": "code",
   "execution_count": 14,
   "metadata": {},
   "outputs": [
    {
     "name": "stdout",
     "output_type": "stream",
     "text": [
      "\n",
      "*** Dredging project finished in 1 day, 8:53:01\n",
      "*** Installation cost 137,015.00€.\n"
     ]
    }
   ],
   "source": [
    "my_env.run()\n",
    "\n",
    "print(\"\")\n",
    "print(\"*** Dredging project finished in {}\".format(datetime.timedelta(seconds=int(my_env.now - my_env.epoch))))\n",
    "print(\"*** Installation cost {:,.2f}€.\".format(int(hopper.cost)))"
   ]
  },
  {
   "cell_type": "markdown",
   "metadata": {},
   "source": [
    "### 3. Postprocessing"
   ]
  },
  {
   "cell_type": "markdown",
   "metadata": {},
   "source": [
    "#### Vessel planning"
   ]
  },
  {
   "cell_type": "code",
   "execution_count": 15,
   "metadata": {},
   "outputs": [
    {
     "data": {
      "text/html": [
       "<script type=\"text/javascript\">window.PlotlyConfig = {MathJaxConfig: 'local'};</script><script type=\"text/javascript\">if (window.MathJax) {MathJax.Hub.Config({SVG: {font: \"STIX-Web\"}});}</script><script>requirejs.config({paths: { 'plotly': ['https://cdn.plot.ly/plotly-latest.min']},});if(!window._Plotly) {require(['plotly'],function(plotly) {window._Plotly=plotly;});}</script>"
      ],
      "text/vnd.plotly.v1+html": [
       "<script type=\"text/javascript\">window.PlotlyConfig = {MathJaxConfig: 'local'};</script><script type=\"text/javascript\">if (window.MathJax) {MathJax.Hub.Config({SVG: {font: \"STIX-Web\"}});}</script><script>requirejs.config({paths: { 'plotly': ['https://cdn.plot.ly/plotly-latest.min']},});if(!window._Plotly) {require(['plotly'],function(plotly) {window._Plotly=plotly;});}</script>"
      ]
     },
     "metadata": {},
     "output_type": "display_data"
    },
    {
     "data": {
      "application/vnd.plotly.v1+json": {
       "config": {
        "linkText": "Export to plot.ly",
        "plotlyServerURL": "https://plot.ly",
        "showLink": true
       },
       "data": [
        {
         "connectgaps": false,
         "hoverinfo": "y+name",
         "line": {
          "color": "rgb(55,126,184)",
          "width": 10
         },
         "mode": "lines",
         "name": "loading",
         "type": "scatter",
         "uid": "5f262fd2-ac37-45a5-86c6-47602637d63d",
         "x": [
          "2020-01-14 12:56:30.541731",
          "2020-01-14 12:56:30.541731",
          "2020-01-14 15:43:10.541731",
          "2020-01-14 15:43:10.541731",
          "2020-01-14 15:43:10.541731",
          "2020-01-14 19:34:11.728542",
          "2020-01-14 19:34:11.728542",
          "2020-01-14 22:20:51.728542",
          "2020-01-14 22:20:51.728542",
          "2020-01-14 22:20:51.728542",
          "2020-01-15 02:11:52.915353",
          "2020-01-15 02:11:52.915353",
          "2020-01-15 03:35:12.915353",
          "2020-01-15 03:35:12.915353",
          "2020-01-15 03:35:12.915353",
          "2020-01-15 03:39:07.169806",
          "2020-01-15 03:39:07.169806",
          "2020-01-15 05:02:27.169806",
          "2020-01-15 05:02:27.169806",
          "2020-01-15 05:02:27.169806",
          "2020-01-15 09:00:56.784543",
          "2020-01-15 09:00:56.784543",
          "2020-01-15 11:47:36.784543",
          "2020-01-15 11:47:36.784543",
          "2020-01-15 11:47:36.784543",
          "2020-01-15 15:38:37.738661",
          "2020-01-15 15:38:37.738661",
          "2020-01-15 18:25:17.738661",
          "2020-01-15 18:25:17.738661",
          "2020-01-15 18:25:17.738661"
         ],
         "y": [
          "Hopper 01",
          "Hopper 01",
          "Hopper 01",
          "Hopper 01",
          null,
          "Hopper 01",
          "Hopper 01",
          "Hopper 01",
          "Hopper 01",
          null,
          "Hopper 01",
          "Hopper 01",
          "Hopper 01",
          "Hopper 01",
          null,
          "Hopper 01",
          "Hopper 01",
          "Hopper 01",
          "Hopper 01",
          null,
          "Hopper 01",
          "Hopper 01",
          "Hopper 01",
          "Hopper 01",
          null,
          "Hopper 01",
          "Hopper 01",
          "Hopper 01",
          "Hopper 01",
          null
         ]
        },
        {
         "connectgaps": false,
         "hoverinfo": "y+name",
         "line": {
          "color": "rgb(255,150,0)",
          "width": 10
         },
         "mode": "lines",
         "name": "unloading",
         "type": "scatter",
         "uid": "1cea9658-4577-4844-89a0-6d4f754ff579",
         "x": [
          "2020-01-14 16:17:02.745316",
          "2020-01-14 16:17:02.745316",
          "2020-01-14 19:03:42.745316",
          "2020-01-14 19:03:42.745316",
          "2020-01-14 19:03:42.745316",
          "2020-01-14 22:54:43.932127",
          "2020-01-14 22:54:43.932127",
          "2020-01-15 01:41:23.932127",
          "2020-01-15 01:41:23.932127",
          "2020-01-15 01:41:23.932127",
          "2020-01-15 05:39:53.659882",
          "2020-01-15 05:39:53.659882",
          "2020-01-15 07:03:13.659882",
          "2020-01-15 07:03:13.659882",
          "2020-01-15 07:03:13.659882",
          "2020-01-15 07:07:07.911539",
          "2020-01-15 07:07:07.911539",
          "2020-01-15 08:30:27.911539",
          "2020-01-15 08:30:27.911539",
          "2020-01-15 08:30:27.911539",
          "2020-01-15 12:21:28.865658",
          "2020-01-15 12:21:28.865658",
          "2020-01-15 15:08:08.865658",
          "2020-01-15 15:08:08.865658",
          "2020-01-15 15:08:08.865658",
          "2020-01-15 18:59:09.819776",
          "2020-01-15 18:59:09.819776",
          "2020-01-15 21:45:49.819776",
          "2020-01-15 21:45:49.819776",
          "2020-01-15 21:45:49.819776"
         ],
         "y": [
          "Hopper 01",
          "Hopper 01",
          "Hopper 01",
          "Hopper 01",
          null,
          "Hopper 01",
          "Hopper 01",
          "Hopper 01",
          "Hopper 01",
          null,
          "Hopper 01",
          "Hopper 01",
          "Hopper 01",
          "Hopper 01",
          null,
          "Hopper 01",
          "Hopper 01",
          "Hopper 01",
          "Hopper 01",
          null,
          "Hopper 01",
          "Hopper 01",
          "Hopper 01",
          "Hopper 01",
          null,
          "Hopper 01",
          "Hopper 01",
          "Hopper 01",
          "Hopper 01",
          null
         ]
        },
        {
         "connectgaps": false,
         "hoverinfo": "y+name",
         "line": {
          "color": "rgb(98, 192, 122)",
          "width": 10
         },
         "mode": "lines",
         "name": "sailing filled",
         "type": "scatter",
         "uid": "a9b80dfc-92a0-4f9c-89ce-4d36e5e21dd2",
         "x": [
          "2020-01-14 15:43:10.541731",
          "2020-01-14 15:43:10.541731",
          "2020-01-14 16:17:02.745316",
          "2020-01-14 16:17:02.745316",
          "2020-01-14 16:17:02.745316",
          "2020-01-14 22:20:51.728542",
          "2020-01-14 22:20:51.728542",
          "2020-01-14 22:54:43.932127",
          "2020-01-14 22:54:43.932127",
          "2020-01-14 22:54:43.932127",
          "2020-01-15 03:35:12.915353",
          "2020-01-15 03:35:12.915353",
          "2020-01-15 03:39:07.169806",
          "2020-01-15 03:39:07.169806",
          "2020-01-15 03:39:07.169806",
          "2020-01-15 05:02:27.169806",
          "2020-01-15 05:02:27.169806",
          "2020-01-15 05:39:53.659882",
          "2020-01-15 05:39:53.659882",
          "2020-01-15 05:39:53.659882",
          "2020-01-15 07:03:13.659882",
          "2020-01-15 07:03:13.659882",
          "2020-01-15 07:07:07.911539",
          "2020-01-15 07:07:07.911539",
          "2020-01-15 07:07:07.911539",
          "2020-01-15 11:47:36.784543",
          "2020-01-15 11:47:36.784543",
          "2020-01-15 12:21:28.865658",
          "2020-01-15 12:21:28.865658",
          "2020-01-15 12:21:28.865658",
          "2020-01-15 18:25:17.738661",
          "2020-01-15 18:25:17.738661",
          "2020-01-15 18:59:09.819776",
          "2020-01-15 18:59:09.819776",
          "2020-01-15 18:59:09.819776"
         ],
         "y": [
          "Hopper 01",
          "Hopper 01",
          "Hopper 01",
          "Hopper 01",
          null,
          "Hopper 01",
          "Hopper 01",
          "Hopper 01",
          "Hopper 01",
          null,
          "Hopper 01",
          "Hopper 01",
          "Hopper 01",
          "Hopper 01",
          null,
          "Hopper 01",
          "Hopper 01",
          "Hopper 01",
          "Hopper 01",
          null,
          "Hopper 01",
          "Hopper 01",
          "Hopper 01",
          "Hopper 01",
          null,
          "Hopper 01",
          "Hopper 01",
          "Hopper 01",
          "Hopper 01",
          null,
          "Hopper 01",
          "Hopper 01",
          "Hopper 01",
          "Hopper 01",
          null
         ]
        },
        {
         "connectgaps": false,
         "hoverinfo": "y+name",
         "line": {
          "color": "rgb(98, 141, 122)",
          "width": 10
         },
         "mode": "lines",
         "name": "sailing empty",
         "type": "scatter",
         "uid": "8d410086-8edd-4f02-827a-0b2f24754921",
         "x": [
          "2020-01-14 12:52:48",
          "2020-01-14 12:52:48",
          "2020-01-14 12:56:30.541731",
          "2020-01-14 12:56:30.541731",
          "2020-01-14 12:56:30.541731",
          "2020-01-14 19:03:42.745316",
          "2020-01-14 19:03:42.745316",
          "2020-01-14 19:34:11.728542",
          "2020-01-14 19:34:11.728542",
          "2020-01-14 19:34:11.728542",
          "2020-01-15 01:41:23.932127",
          "2020-01-15 01:41:23.932127",
          "2020-01-15 02:11:52.915353",
          "2020-01-15 02:11:52.915353",
          "2020-01-15 02:11:52.915353",
          "2020-01-15 08:30:27.911539",
          "2020-01-15 08:30:27.911539",
          "2020-01-15 09:00:56.784543",
          "2020-01-15 09:00:56.784543",
          "2020-01-15 09:00:56.784543",
          "2020-01-15 15:08:08.865658",
          "2020-01-15 15:08:08.865658",
          "2020-01-15 15:38:37.738661",
          "2020-01-15 15:38:37.738661",
          "2020-01-15 15:38:37.738661"
         ],
         "y": [
          "Hopper 01",
          "Hopper 01",
          "Hopper 01",
          "Hopper 01",
          null,
          "Hopper 01",
          "Hopper 01",
          "Hopper 01",
          "Hopper 01",
          null,
          "Hopper 01",
          "Hopper 01",
          "Hopper 01",
          "Hopper 01",
          null,
          "Hopper 01",
          "Hopper 01",
          "Hopper 01",
          "Hopper 01",
          null,
          "Hopper 01",
          "Hopper 01",
          "Hopper 01",
          "Hopper 01",
          null
         ]
        }
       ],
       "layout": {
        "hovermode": "closest",
        "legend": {
         "orientation": "h",
         "x": 0,
         "y": -0.2
        },
        "title": "Vessel planning",
        "xaxis": {
         "range": [
          "2020-01-14 11:52:48",
          "2020-01-16 00:45:49.819776"
         ],
         "title": "Time",
         "titlefont": {
          "color": "#7f7f7f",
          "family": "Courier New, monospace",
          "size": 18
         }
        },
        "yaxis": {
         "title": "Vessels",
         "titlefont": {
          "color": "#7f7f7f",
          "family": "Courier New, monospace",
          "size": 18
         }
        }
       }
      },
      "text/html": [
       "<div id=\"39b98c49-d115-4289-a4e0-ecdb0db7f682\" style=\"height: 525px; width: 100%;\" class=\"plotly-graph-div\"></div><script type=\"text/javascript\">require([\"plotly\"], function(Plotly) { window.PLOTLYENV=window.PLOTLYENV || {};window.PLOTLYENV.BASE_URL=\"https://plot.ly\";Plotly.newPlot(\"39b98c49-d115-4289-a4e0-ecdb0db7f682\", [{\"connectgaps\": false, \"hoverinfo\": \"y+name\", \"line\": {\"color\": \"rgb(55,126,184)\", \"width\": 10}, \"mode\": \"lines\", \"name\": \"loading\", \"x\": [\"2020-01-14 12:56:30.541731\", \"2020-01-14 12:56:30.541731\", \"2020-01-14 15:43:10.541731\", \"2020-01-14 15:43:10.541731\", \"2020-01-14 15:43:10.541731\", \"2020-01-14 19:34:11.728542\", \"2020-01-14 19:34:11.728542\", \"2020-01-14 22:20:51.728542\", \"2020-01-14 22:20:51.728542\", \"2020-01-14 22:20:51.728542\", \"2020-01-15 02:11:52.915353\", \"2020-01-15 02:11:52.915353\", \"2020-01-15 03:35:12.915353\", \"2020-01-15 03:35:12.915353\", \"2020-01-15 03:35:12.915353\", \"2020-01-15 03:39:07.169806\", \"2020-01-15 03:39:07.169806\", \"2020-01-15 05:02:27.169806\", \"2020-01-15 05:02:27.169806\", \"2020-01-15 05:02:27.169806\", \"2020-01-15 09:00:56.784543\", \"2020-01-15 09:00:56.784543\", \"2020-01-15 11:47:36.784543\", \"2020-01-15 11:47:36.784543\", \"2020-01-15 11:47:36.784543\", \"2020-01-15 15:38:37.738661\", \"2020-01-15 15:38:37.738661\", \"2020-01-15 18:25:17.738661\", \"2020-01-15 18:25:17.738661\", \"2020-01-15 18:25:17.738661\"], \"y\": [\"Hopper 01\", \"Hopper 01\", \"Hopper 01\", \"Hopper 01\", null, \"Hopper 01\", \"Hopper 01\", \"Hopper 01\", \"Hopper 01\", null, \"Hopper 01\", \"Hopper 01\", \"Hopper 01\", \"Hopper 01\", null, \"Hopper 01\", \"Hopper 01\", \"Hopper 01\", \"Hopper 01\", null, \"Hopper 01\", \"Hopper 01\", \"Hopper 01\", \"Hopper 01\", null, \"Hopper 01\", \"Hopper 01\", \"Hopper 01\", \"Hopper 01\", null], \"type\": \"scatter\", \"uid\": \"5f262fd2-ac37-45a5-86c6-47602637d63d\"}, {\"connectgaps\": false, \"hoverinfo\": \"y+name\", \"line\": {\"color\": \"rgb(255,150,0)\", \"width\": 10}, \"mode\": \"lines\", \"name\": \"unloading\", \"x\": [\"2020-01-14 16:17:02.745316\", \"2020-01-14 16:17:02.745316\", \"2020-01-14 19:03:42.745316\", \"2020-01-14 19:03:42.745316\", \"2020-01-14 19:03:42.745316\", \"2020-01-14 22:54:43.932127\", \"2020-01-14 22:54:43.932127\", \"2020-01-15 01:41:23.932127\", \"2020-01-15 01:41:23.932127\", \"2020-01-15 01:41:23.932127\", \"2020-01-15 05:39:53.659882\", \"2020-01-15 05:39:53.659882\", \"2020-01-15 07:03:13.659882\", \"2020-01-15 07:03:13.659882\", \"2020-01-15 07:03:13.659882\", \"2020-01-15 07:07:07.911539\", \"2020-01-15 07:07:07.911539\", \"2020-01-15 08:30:27.911539\", \"2020-01-15 08:30:27.911539\", \"2020-01-15 08:30:27.911539\", \"2020-01-15 12:21:28.865658\", \"2020-01-15 12:21:28.865658\", \"2020-01-15 15:08:08.865658\", \"2020-01-15 15:08:08.865658\", \"2020-01-15 15:08:08.865658\", \"2020-01-15 18:59:09.819776\", \"2020-01-15 18:59:09.819776\", \"2020-01-15 21:45:49.819776\", \"2020-01-15 21:45:49.819776\", \"2020-01-15 21:45:49.819776\"], \"y\": [\"Hopper 01\", \"Hopper 01\", \"Hopper 01\", \"Hopper 01\", null, \"Hopper 01\", \"Hopper 01\", \"Hopper 01\", \"Hopper 01\", null, \"Hopper 01\", \"Hopper 01\", \"Hopper 01\", \"Hopper 01\", null, \"Hopper 01\", \"Hopper 01\", \"Hopper 01\", \"Hopper 01\", null, \"Hopper 01\", \"Hopper 01\", \"Hopper 01\", \"Hopper 01\", null, \"Hopper 01\", \"Hopper 01\", \"Hopper 01\", \"Hopper 01\", null], \"type\": \"scatter\", \"uid\": \"1cea9658-4577-4844-89a0-6d4f754ff579\"}, {\"connectgaps\": false, \"hoverinfo\": \"y+name\", \"line\": {\"color\": \"rgb(98, 192, 122)\", \"width\": 10}, \"mode\": \"lines\", \"name\": \"sailing filled\", \"x\": [\"2020-01-14 15:43:10.541731\", \"2020-01-14 15:43:10.541731\", \"2020-01-14 16:17:02.745316\", \"2020-01-14 16:17:02.745316\", \"2020-01-14 16:17:02.745316\", \"2020-01-14 22:20:51.728542\", \"2020-01-14 22:20:51.728542\", \"2020-01-14 22:54:43.932127\", \"2020-01-14 22:54:43.932127\", \"2020-01-14 22:54:43.932127\", \"2020-01-15 03:35:12.915353\", \"2020-01-15 03:35:12.915353\", \"2020-01-15 03:39:07.169806\", \"2020-01-15 03:39:07.169806\", \"2020-01-15 03:39:07.169806\", \"2020-01-15 05:02:27.169806\", \"2020-01-15 05:02:27.169806\", \"2020-01-15 05:39:53.659882\", \"2020-01-15 05:39:53.659882\", \"2020-01-15 05:39:53.659882\", \"2020-01-15 07:03:13.659882\", \"2020-01-15 07:03:13.659882\", \"2020-01-15 07:07:07.911539\", \"2020-01-15 07:07:07.911539\", \"2020-01-15 07:07:07.911539\", \"2020-01-15 11:47:36.784543\", \"2020-01-15 11:47:36.784543\", \"2020-01-15 12:21:28.865658\", \"2020-01-15 12:21:28.865658\", \"2020-01-15 12:21:28.865658\", \"2020-01-15 18:25:17.738661\", \"2020-01-15 18:25:17.738661\", \"2020-01-15 18:59:09.819776\", \"2020-01-15 18:59:09.819776\", \"2020-01-15 18:59:09.819776\"], \"y\": [\"Hopper 01\", \"Hopper 01\", \"Hopper 01\", \"Hopper 01\", null, \"Hopper 01\", \"Hopper 01\", \"Hopper 01\", \"Hopper 01\", null, \"Hopper 01\", \"Hopper 01\", \"Hopper 01\", \"Hopper 01\", null, \"Hopper 01\", \"Hopper 01\", \"Hopper 01\", \"Hopper 01\", null, \"Hopper 01\", \"Hopper 01\", \"Hopper 01\", \"Hopper 01\", null, \"Hopper 01\", \"Hopper 01\", \"Hopper 01\", \"Hopper 01\", null, \"Hopper 01\", \"Hopper 01\", \"Hopper 01\", \"Hopper 01\", null], \"type\": \"scatter\", \"uid\": \"a9b80dfc-92a0-4f9c-89ce-4d36e5e21dd2\"}, {\"connectgaps\": false, \"hoverinfo\": \"y+name\", \"line\": {\"color\": \"rgb(98, 141, 122)\", \"width\": 10}, \"mode\": \"lines\", \"name\": \"sailing empty\", \"x\": [\"2020-01-14 12:52:48\", \"2020-01-14 12:52:48\", \"2020-01-14 12:56:30.541731\", \"2020-01-14 12:56:30.541731\", \"2020-01-14 12:56:30.541731\", \"2020-01-14 19:03:42.745316\", \"2020-01-14 19:03:42.745316\", \"2020-01-14 19:34:11.728542\", \"2020-01-14 19:34:11.728542\", \"2020-01-14 19:34:11.728542\", \"2020-01-15 01:41:23.932127\", \"2020-01-15 01:41:23.932127\", \"2020-01-15 02:11:52.915353\", \"2020-01-15 02:11:52.915353\", \"2020-01-15 02:11:52.915353\", \"2020-01-15 08:30:27.911539\", \"2020-01-15 08:30:27.911539\", \"2020-01-15 09:00:56.784543\", \"2020-01-15 09:00:56.784543\", \"2020-01-15 09:00:56.784543\", \"2020-01-15 15:08:08.865658\", \"2020-01-15 15:08:08.865658\", \"2020-01-15 15:38:37.738661\", \"2020-01-15 15:38:37.738661\", \"2020-01-15 15:38:37.738661\"], \"y\": [\"Hopper 01\", \"Hopper 01\", \"Hopper 01\", \"Hopper 01\", null, \"Hopper 01\", \"Hopper 01\", \"Hopper 01\", \"Hopper 01\", null, \"Hopper 01\", \"Hopper 01\", \"Hopper 01\", \"Hopper 01\", null, \"Hopper 01\", \"Hopper 01\", \"Hopper 01\", \"Hopper 01\", null, \"Hopper 01\", \"Hopper 01\", \"Hopper 01\", \"Hopper 01\", null], \"type\": \"scatter\", \"uid\": \"8d410086-8edd-4f02-827a-0b2f24754921\"}], {\"hovermode\": \"closest\", \"legend\": {\"orientation\": \"h\", \"x\": 0, \"y\": -0.2}, \"title\": \"Vessel planning\", \"xaxis\": {\"range\": [\"2020-01-14 11:52:48\", \"2020-01-16 00:45:49.819776\"], \"title\": \"Time\", \"titlefont\": {\"color\": \"#7f7f7f\", \"family\": \"Courier New, monospace\", \"size\": 18}}, \"yaxis\": {\"title\": \"Vessels\", \"titlefont\": {\"color\": \"#7f7f7f\", \"family\": \"Courier New, monospace\", \"size\": 18}}}, {\"showLink\": true, \"linkText\": \"Export to plot.ly\", \"plotlyServerURL\": \"https://plot.ly\"})});</script><script type=\"text/javascript\">window.addEventListener(\"resize\", function(){window._Plotly.Plots.resize(document.getElementById(\"39b98c49-d115-4289-a4e0-ecdb0db7f682\"));});</script>"
      ],
      "text/vnd.plotly.v1+html": [
       "<div id=\"39b98c49-d115-4289-a4e0-ecdb0db7f682\" style=\"height: 525px; width: 100%;\" class=\"plotly-graph-div\"></div><script type=\"text/javascript\">require([\"plotly\"], function(Plotly) { window.PLOTLYENV=window.PLOTLYENV || {};window.PLOTLYENV.BASE_URL=\"https://plot.ly\";Plotly.newPlot(\"39b98c49-d115-4289-a4e0-ecdb0db7f682\", [{\"connectgaps\": false, \"hoverinfo\": \"y+name\", \"line\": {\"color\": \"rgb(55,126,184)\", \"width\": 10}, \"mode\": \"lines\", \"name\": \"loading\", \"x\": [\"2020-01-14 12:56:30.541731\", \"2020-01-14 12:56:30.541731\", \"2020-01-14 15:43:10.541731\", \"2020-01-14 15:43:10.541731\", \"2020-01-14 15:43:10.541731\", \"2020-01-14 19:34:11.728542\", \"2020-01-14 19:34:11.728542\", \"2020-01-14 22:20:51.728542\", \"2020-01-14 22:20:51.728542\", \"2020-01-14 22:20:51.728542\", \"2020-01-15 02:11:52.915353\", \"2020-01-15 02:11:52.915353\", \"2020-01-15 03:35:12.915353\", \"2020-01-15 03:35:12.915353\", \"2020-01-15 03:35:12.915353\", \"2020-01-15 03:39:07.169806\", \"2020-01-15 03:39:07.169806\", \"2020-01-15 05:02:27.169806\", \"2020-01-15 05:02:27.169806\", \"2020-01-15 05:02:27.169806\", \"2020-01-15 09:00:56.784543\", \"2020-01-15 09:00:56.784543\", \"2020-01-15 11:47:36.784543\", \"2020-01-15 11:47:36.784543\", \"2020-01-15 11:47:36.784543\", \"2020-01-15 15:38:37.738661\", \"2020-01-15 15:38:37.738661\", \"2020-01-15 18:25:17.738661\", \"2020-01-15 18:25:17.738661\", \"2020-01-15 18:25:17.738661\"], \"y\": [\"Hopper 01\", \"Hopper 01\", \"Hopper 01\", \"Hopper 01\", null, \"Hopper 01\", \"Hopper 01\", \"Hopper 01\", \"Hopper 01\", null, \"Hopper 01\", \"Hopper 01\", \"Hopper 01\", \"Hopper 01\", null, \"Hopper 01\", \"Hopper 01\", \"Hopper 01\", \"Hopper 01\", null, \"Hopper 01\", \"Hopper 01\", \"Hopper 01\", \"Hopper 01\", null, \"Hopper 01\", \"Hopper 01\", \"Hopper 01\", \"Hopper 01\", null], \"type\": \"scatter\", \"uid\": \"5f262fd2-ac37-45a5-86c6-47602637d63d\"}, {\"connectgaps\": false, \"hoverinfo\": \"y+name\", \"line\": {\"color\": \"rgb(255,150,0)\", \"width\": 10}, \"mode\": \"lines\", \"name\": \"unloading\", \"x\": [\"2020-01-14 16:17:02.745316\", \"2020-01-14 16:17:02.745316\", \"2020-01-14 19:03:42.745316\", \"2020-01-14 19:03:42.745316\", \"2020-01-14 19:03:42.745316\", \"2020-01-14 22:54:43.932127\", \"2020-01-14 22:54:43.932127\", \"2020-01-15 01:41:23.932127\", \"2020-01-15 01:41:23.932127\", \"2020-01-15 01:41:23.932127\", \"2020-01-15 05:39:53.659882\", \"2020-01-15 05:39:53.659882\", \"2020-01-15 07:03:13.659882\", \"2020-01-15 07:03:13.659882\", \"2020-01-15 07:03:13.659882\", \"2020-01-15 07:07:07.911539\", \"2020-01-15 07:07:07.911539\", \"2020-01-15 08:30:27.911539\", \"2020-01-15 08:30:27.911539\", \"2020-01-15 08:30:27.911539\", \"2020-01-15 12:21:28.865658\", \"2020-01-15 12:21:28.865658\", \"2020-01-15 15:08:08.865658\", \"2020-01-15 15:08:08.865658\", \"2020-01-15 15:08:08.865658\", \"2020-01-15 18:59:09.819776\", \"2020-01-15 18:59:09.819776\", \"2020-01-15 21:45:49.819776\", \"2020-01-15 21:45:49.819776\", \"2020-01-15 21:45:49.819776\"], \"y\": [\"Hopper 01\", \"Hopper 01\", \"Hopper 01\", \"Hopper 01\", null, \"Hopper 01\", \"Hopper 01\", \"Hopper 01\", \"Hopper 01\", null, \"Hopper 01\", \"Hopper 01\", \"Hopper 01\", \"Hopper 01\", null, \"Hopper 01\", \"Hopper 01\", \"Hopper 01\", \"Hopper 01\", null, \"Hopper 01\", \"Hopper 01\", \"Hopper 01\", \"Hopper 01\", null, \"Hopper 01\", \"Hopper 01\", \"Hopper 01\", \"Hopper 01\", null], \"type\": \"scatter\", \"uid\": \"1cea9658-4577-4844-89a0-6d4f754ff579\"}, {\"connectgaps\": false, \"hoverinfo\": \"y+name\", \"line\": {\"color\": \"rgb(98, 192, 122)\", \"width\": 10}, \"mode\": \"lines\", \"name\": \"sailing filled\", \"x\": [\"2020-01-14 15:43:10.541731\", \"2020-01-14 15:43:10.541731\", \"2020-01-14 16:17:02.745316\", \"2020-01-14 16:17:02.745316\", \"2020-01-14 16:17:02.745316\", \"2020-01-14 22:20:51.728542\", \"2020-01-14 22:20:51.728542\", \"2020-01-14 22:54:43.932127\", \"2020-01-14 22:54:43.932127\", \"2020-01-14 22:54:43.932127\", \"2020-01-15 03:35:12.915353\", \"2020-01-15 03:35:12.915353\", \"2020-01-15 03:39:07.169806\", \"2020-01-15 03:39:07.169806\", \"2020-01-15 03:39:07.169806\", \"2020-01-15 05:02:27.169806\", \"2020-01-15 05:02:27.169806\", \"2020-01-15 05:39:53.659882\", \"2020-01-15 05:39:53.659882\", \"2020-01-15 05:39:53.659882\", \"2020-01-15 07:03:13.659882\", \"2020-01-15 07:03:13.659882\", \"2020-01-15 07:07:07.911539\", \"2020-01-15 07:07:07.911539\", \"2020-01-15 07:07:07.911539\", \"2020-01-15 11:47:36.784543\", \"2020-01-15 11:47:36.784543\", \"2020-01-15 12:21:28.865658\", \"2020-01-15 12:21:28.865658\", \"2020-01-15 12:21:28.865658\", \"2020-01-15 18:25:17.738661\", \"2020-01-15 18:25:17.738661\", \"2020-01-15 18:59:09.819776\", \"2020-01-15 18:59:09.819776\", \"2020-01-15 18:59:09.819776\"], \"y\": [\"Hopper 01\", \"Hopper 01\", \"Hopper 01\", \"Hopper 01\", null, \"Hopper 01\", \"Hopper 01\", \"Hopper 01\", \"Hopper 01\", null, \"Hopper 01\", \"Hopper 01\", \"Hopper 01\", \"Hopper 01\", null, \"Hopper 01\", \"Hopper 01\", \"Hopper 01\", \"Hopper 01\", null, \"Hopper 01\", \"Hopper 01\", \"Hopper 01\", \"Hopper 01\", null, \"Hopper 01\", \"Hopper 01\", \"Hopper 01\", \"Hopper 01\", null, \"Hopper 01\", \"Hopper 01\", \"Hopper 01\", \"Hopper 01\", null], \"type\": \"scatter\", \"uid\": \"a9b80dfc-92a0-4f9c-89ce-4d36e5e21dd2\"}, {\"connectgaps\": false, \"hoverinfo\": \"y+name\", \"line\": {\"color\": \"rgb(98, 141, 122)\", \"width\": 10}, \"mode\": \"lines\", \"name\": \"sailing empty\", \"x\": [\"2020-01-14 12:52:48\", \"2020-01-14 12:52:48\", \"2020-01-14 12:56:30.541731\", \"2020-01-14 12:56:30.541731\", \"2020-01-14 12:56:30.541731\", \"2020-01-14 19:03:42.745316\", \"2020-01-14 19:03:42.745316\", \"2020-01-14 19:34:11.728542\", \"2020-01-14 19:34:11.728542\", \"2020-01-14 19:34:11.728542\", \"2020-01-15 01:41:23.932127\", \"2020-01-15 01:41:23.932127\", \"2020-01-15 02:11:52.915353\", \"2020-01-15 02:11:52.915353\", \"2020-01-15 02:11:52.915353\", \"2020-01-15 08:30:27.911539\", \"2020-01-15 08:30:27.911539\", \"2020-01-15 09:00:56.784543\", \"2020-01-15 09:00:56.784543\", \"2020-01-15 09:00:56.784543\", \"2020-01-15 15:08:08.865658\", \"2020-01-15 15:08:08.865658\", \"2020-01-15 15:38:37.738661\", \"2020-01-15 15:38:37.738661\", \"2020-01-15 15:38:37.738661\"], \"y\": [\"Hopper 01\", \"Hopper 01\", \"Hopper 01\", \"Hopper 01\", null, \"Hopper 01\", \"Hopper 01\", \"Hopper 01\", \"Hopper 01\", null, \"Hopper 01\", \"Hopper 01\", \"Hopper 01\", \"Hopper 01\", null, \"Hopper 01\", \"Hopper 01\", \"Hopper 01\", \"Hopper 01\", null, \"Hopper 01\", \"Hopper 01\", \"Hopper 01\", \"Hopper 01\", null], \"type\": \"scatter\", \"uid\": \"8d410086-8edd-4f02-827a-0b2f24754921\"}], {\"hovermode\": \"closest\", \"legend\": {\"orientation\": \"h\", \"x\": 0, \"y\": -0.2}, \"title\": \"Vessel planning\", \"xaxis\": {\"range\": [\"2020-01-14 11:52:48\", \"2020-01-16 00:45:49.819776\"], \"title\": \"Time\", \"titlefont\": {\"color\": \"#7f7f7f\", \"family\": \"Courier New, monospace\", \"size\": 18}}, \"yaxis\": {\"title\": \"Vessels\", \"titlefont\": {\"color\": \"#7f7f7f\", \"family\": \"Courier New, monospace\", \"size\": 18}}}, {\"showLink\": true, \"linkText\": \"Export to plot.ly\", \"plotlyServerURL\": \"https://plot.ly\"})});</script><script type=\"text/javascript\">window.addEventListener(\"resize\", function(){window._Plotly.Plots.resize(document.getElementById(\"39b98c49-d115-4289-a4e0-ecdb0db7f682\"));});</script>"
      ]
     },
     "metadata": {},
     "output_type": "display_data"
    }
   ],
   "source": [
    "vessels = [hopper]\n",
    "\n",
    "activities = ['loading', 'unloading', 'sailing filled', 'sailing empty']\n",
    "colors = {0:'rgb(55,126,184)', 1:'rgb(255,150,0)', 2:'rgb(98, 192, 122)', 3:'rgb(98, 141, 122)'}\n",
    "\n",
    "plot.vessel_planning(vessels, activities, colors)"
   ]
  }
 ],
 "metadata": {
  "kernelspec": {
   "display_name": "Python 3",
   "language": "python",
   "name": "python3"
  },
  "language_info": {
   "codemirror_mode": {
    "name": "ipython",
    "version": 3
   },
   "file_extension": ".py",
   "mimetype": "text/x-python",
   "name": "python",
   "nbconvert_exporter": "python",
   "pygments_lexer": "ipython3",
   "version": "3.7.3"
  }
 },
 "nbformat": 4,
 "nbformat_minor": 2
}
