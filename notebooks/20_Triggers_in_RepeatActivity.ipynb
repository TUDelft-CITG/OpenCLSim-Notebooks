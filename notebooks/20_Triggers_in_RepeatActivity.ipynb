{
 "cells": [
  {
   "cell_type": "markdown",
   "metadata": {},
   "source": [
    "## Demo: Triggers in RepeatActivity\n",
    "The basic steps to set up an OpenCLSim simulation are:\n",
    "* Import libraries\n",
    "* Initialise simpy environment\n",
    "* Define object classes\n",
    "* Create objects\n",
    "  * Create sites\n",
    "  * Create vessels\n",
    "  * Create activities\n",
    "* Register processes and run simpy\n",
    "\n",
    "----"
   ]
  },
  {
   "cell_type": "markdown",
   "metadata": {},
   "source": [
    "#### 0. Import libraries"
   ]
  },
  {
   "cell_type": "code",
   "execution_count": 1,
   "metadata": {},
   "outputs": [],
   "source": [
    "import datetime, time\n",
    "import simpy\n",
    "\n",
    "import pandas as pd\n",
    "\n",
    "import openclsim.core as core\n",
    "import openclsim.model as model\n",
    "import openclsim.plot as plot"
   ]
  },
  {
   "cell_type": "markdown",
   "metadata": {},
   "source": [
    "#### 1. Initialise simpy environment"
   ]
  },
  {
   "cell_type": "code",
   "execution_count": 2,
   "metadata": {},
   "outputs": [],
   "source": [
    "# setup environment (simulation time needs to match the available weather data)\n",
    "simulation_start = 0\n",
    "my_env = simpy.Environment(initial_time=simulation_start)"
   ]
  },
  {
   "cell_type": "markdown",
   "metadata": {},
   "source": [
    "#### 2. Define object classes\n",
    "In this example we won't use object classes"
   ]
  },
  {
   "cell_type": "markdown",
   "metadata": {},
   "source": [
    "#### 3. Create objects\n",
    "##### 3.1. Create site object(s)\n",
    "No site objects are created"
   ]
  },
  {
   "cell_type": "markdown",
   "metadata": {},
   "source": [
    "##### 3.2. Create vessel object(s)\n",
    "No vessel objects are created"
   ]
  },
  {
   "cell_type": "markdown",
   "metadata": {},
   "source": [
    "##### 3.3 Create activity/activities"
   ]
  },
  {
   "cell_type": "code",
   "execution_count": 3,
   "metadata": {},
   "outputs": [],
   "source": [
    "# initialise registry\n",
    "registry = {}"
   ]
  },
  {
   "cell_type": "code",
   "execution_count": 4,
   "metadata": {},
   "outputs": [],
   "source": [
    "a = model.BasicActivity(\n",
    "    env= my_env,\n",
    "    name= \"a\",\n",
    "    ID= \"a\",\n",
    "    registry= registry,\n",
    "    duration= 1,\n",
    ")\n",
    "a2 = model.BasicActivity(\n",
    "    env= my_env,\n",
    "    name= \"a2\",\n",
    "    ID= \"a2\",\n",
    "    registry= registry,\n",
    "    duration= 1,\n",
    ")\n",
    "\n",
    "c = model.BasicActivity(\n",
    "    env= my_env,\n",
    "    name= \"c\",\n",
    "    ID= \"c\",\n",
    "    registry= registry,\n",
    "    duration= 1,\n",
    ")\n",
    "\n",
    "Ra=model.RepeatActivity(    \n",
    "    env= my_env,\n",
    "    name= \"Ra\",\n",
    "    ID= \"Ra\",\n",
    "    registry= registry,\n",
    "    sub_processes= [a, a2],\n",
    "    repetitions=3\n",
    ")\n",
    "\n",
    "Sc=model.SequentialActivity(    \n",
    "    env= my_env,\n",
    "    name= \"Sc\",\n",
    "    ID= \"Sc\",\n",
    "    registry= registry,\n",
    "    sub_processes= [c, Ra],\n",
    ")\n",
    "\n",
    "b = model.BasicActivity(\n",
    "    env= my_env,\n",
    "    name= \"b\",\n",
    "    ID= \"b\",\n",
    "    registry= registry,\n",
    "    duration= 1.5,\n",
    "    start_event=[\n",
    "        {\n",
    "            \"name\": \"a\",\n",
    "            \"type\": \"activity\",\n",
    "            \"state\": \"done\"\n",
    "        }\n",
    "    ]\n",
    ")\n",
    "\n",
    "Rb=model.RepeatActivity(    \n",
    "    env= my_env,\n",
    "    name= \"Rb\",\n",
    "    ID= \"Rb\",\n",
    "    registry= registry,\n",
    "    sub_processes= [b],\n",
    "    repetitions=3\n",
    ")"
   ]
  },
  {
   "cell_type": "markdown",
   "metadata": {},
   "source": [
    "#### 4. Register processes and run simpy"
   ]
  },
  {
   "cell_type": "code",
   "execution_count": 5,
   "metadata": {},
   "outputs": [],
   "source": [
    "model.register_processes([Sc,Rb])\n",
    "my_env.run()"
   ]
  },
  {
   "cell_type": "markdown",
   "metadata": {},
   "source": [
    "#### 5. Inspect results\n",
    "##### 5.1 Inspect logs"
   ]
  },
  {
   "cell_type": "code",
   "execution_count": 6,
   "metadata": {
    "scrolled": false
   },
   "outputs": [
    {
     "data": {
      "text/html": [
       "<div>\n",
       "<style scoped>\n",
       "    .dataframe tbody tr th:only-of-type {\n",
       "        vertical-align: middle;\n",
       "    }\n",
       "\n",
       "    .dataframe tbody tr th {\n",
       "        vertical-align: top;\n",
       "    }\n",
       "\n",
       "    .dataframe thead th {\n",
       "        text-align: right;\n",
       "    }\n",
       "</style>\n",
       "<table border=\"1\" class=\"dataframe\">\n",
       "  <thead>\n",
       "    <tr style=\"text-align: right;\">\n",
       "      <th></th>\n",
       "      <th>Timestamp</th>\n",
       "      <th>ActivityID</th>\n",
       "      <th>ActivityState</th>\n",
       "      <th>ObjectState</th>\n",
       "      <th>ActivityLabel</th>\n",
       "    </tr>\n",
       "  </thead>\n",
       "  <tbody>\n",
       "    <tr>\n",
       "      <th>0</th>\n",
       "      <td>1970-01-01 00:00:00</td>\n",
       "      <td>Sc</td>\n",
       "      <td>START</td>\n",
       "      <td>{}</td>\n",
       "      <td>{}</td>\n",
       "    </tr>\n",
       "    <tr>\n",
       "      <th>1</th>\n",
       "      <td>1970-01-01 00:00:00</td>\n",
       "      <td>Sc</td>\n",
       "      <td>START</td>\n",
       "      <td>{}</td>\n",
       "      <td>{'type': 'subprocess', 'ref': 'c'}</td>\n",
       "    </tr>\n",
       "    <tr>\n",
       "      <th>2</th>\n",
       "      <td>1970-01-01 00:00:01</td>\n",
       "      <td>Sc</td>\n",
       "      <td>STOP</td>\n",
       "      <td>{}</td>\n",
       "      <td>{'type': 'subprocess', 'ref': 'c'}</td>\n",
       "    </tr>\n",
       "    <tr>\n",
       "      <th>3</th>\n",
       "      <td>1970-01-01 00:00:01</td>\n",
       "      <td>Sc</td>\n",
       "      <td>START</td>\n",
       "      <td>{}</td>\n",
       "      <td>{'type': 'subprocess', 'ref': 'Ra'}</td>\n",
       "    </tr>\n",
       "    <tr>\n",
       "      <th>4</th>\n",
       "      <td>1970-01-01 00:00:07</td>\n",
       "      <td>Sc</td>\n",
       "      <td>STOP</td>\n",
       "      <td>{}</td>\n",
       "      <td>{'type': 'subprocess', 'ref': 'Ra'}</td>\n",
       "    </tr>\n",
       "    <tr>\n",
       "      <th>5</th>\n",
       "      <td>1970-01-01 00:00:07</td>\n",
       "      <td>Sc</td>\n",
       "      <td>STOP</td>\n",
       "      <td>{}</td>\n",
       "      <td>{}</td>\n",
       "    </tr>\n",
       "  </tbody>\n",
       "</table>\n",
       "</div>"
      ],
      "text/plain": [
       "            Timestamp ActivityID ActivityState ObjectState  \\\n",
       "0 1970-01-01 00:00:00         Sc         START          {}   \n",
       "1 1970-01-01 00:00:00         Sc         START          {}   \n",
       "2 1970-01-01 00:00:01         Sc          STOP          {}   \n",
       "3 1970-01-01 00:00:01         Sc         START          {}   \n",
       "4 1970-01-01 00:00:07         Sc          STOP          {}   \n",
       "5 1970-01-01 00:00:07         Sc          STOP          {}   \n",
       "\n",
       "                         ActivityLabel  \n",
       "0                                   {}  \n",
       "1   {'type': 'subprocess', 'ref': 'c'}  \n",
       "2   {'type': 'subprocess', 'ref': 'c'}  \n",
       "3  {'type': 'subprocess', 'ref': 'Ra'}  \n",
       "4  {'type': 'subprocess', 'ref': 'Ra'}  \n",
       "5                                   {}  "
      ]
     },
     "metadata": {},
     "output_type": "display_data"
    },
    {
     "data": {
      "text/html": [
       "<div>\n",
       "<style scoped>\n",
       "    .dataframe tbody tr th:only-of-type {\n",
       "        vertical-align: middle;\n",
       "    }\n",
       "\n",
       "    .dataframe tbody tr th {\n",
       "        vertical-align: top;\n",
       "    }\n",
       "\n",
       "    .dataframe thead th {\n",
       "        text-align: right;\n",
       "    }\n",
       "</style>\n",
       "<table border=\"1\" class=\"dataframe\">\n",
       "  <thead>\n",
       "    <tr style=\"text-align: right;\">\n",
       "      <th></th>\n",
       "      <th>Timestamp</th>\n",
       "      <th>ActivityID</th>\n",
       "      <th>ActivityState</th>\n",
       "      <th>ObjectState</th>\n",
       "      <th>ActivityLabel</th>\n",
       "    </tr>\n",
       "  </thead>\n",
       "  <tbody>\n",
       "    <tr>\n",
       "      <th>0</th>\n",
       "      <td>1970-01-01 00:00:00</td>\n",
       "      <td>c</td>\n",
       "      <td>START</td>\n",
       "      <td>{}</td>\n",
       "      <td>{}</td>\n",
       "    </tr>\n",
       "    <tr>\n",
       "      <th>1</th>\n",
       "      <td>1970-01-01 00:00:01</td>\n",
       "      <td>c</td>\n",
       "      <td>STOP</td>\n",
       "      <td>{}</td>\n",
       "      <td>{}</td>\n",
       "    </tr>\n",
       "  </tbody>\n",
       "</table>\n",
       "</div>"
      ],
      "text/plain": [
       "            Timestamp ActivityID ActivityState ObjectState ActivityLabel\n",
       "0 1970-01-01 00:00:00          c         START          {}            {}\n",
       "1 1970-01-01 00:00:01          c          STOP          {}            {}"
      ]
     },
     "metadata": {},
     "output_type": "display_data"
    },
    {
     "data": {
      "text/html": [
       "<div>\n",
       "<style scoped>\n",
       "    .dataframe tbody tr th:only-of-type {\n",
       "        vertical-align: middle;\n",
       "    }\n",
       "\n",
       "    .dataframe tbody tr th {\n",
       "        vertical-align: top;\n",
       "    }\n",
       "\n",
       "    .dataframe thead th {\n",
       "        text-align: right;\n",
       "    }\n",
       "</style>\n",
       "<table border=\"1\" class=\"dataframe\">\n",
       "  <thead>\n",
       "    <tr style=\"text-align: right;\">\n",
       "      <th></th>\n",
       "      <th>Timestamp</th>\n",
       "      <th>ActivityID</th>\n",
       "      <th>ActivityState</th>\n",
       "      <th>ObjectState</th>\n",
       "      <th>ActivityLabel</th>\n",
       "    </tr>\n",
       "  </thead>\n",
       "  <tbody>\n",
       "    <tr>\n",
       "      <th>0</th>\n",
       "      <td>1970-01-01 00:00:01</td>\n",
       "      <td>Ra</td>\n",
       "      <td>START</td>\n",
       "      <td>{}</td>\n",
       "      <td>{}</td>\n",
       "    </tr>\n",
       "    <tr>\n",
       "      <th>1</th>\n",
       "      <td>1970-01-01 00:00:01</td>\n",
       "      <td>Ra</td>\n",
       "      <td>START</td>\n",
       "      <td>{}</td>\n",
       "      <td>{'type': 'subprocess', 'ref': 'a'}</td>\n",
       "    </tr>\n",
       "    <tr>\n",
       "      <th>2</th>\n",
       "      <td>1970-01-01 00:00:02</td>\n",
       "      <td>Ra</td>\n",
       "      <td>STOP</td>\n",
       "      <td>{}</td>\n",
       "      <td>{'type': 'subprocess', 'ref': 'a'}</td>\n",
       "    </tr>\n",
       "    <tr>\n",
       "      <th>3</th>\n",
       "      <td>1970-01-01 00:00:02</td>\n",
       "      <td>Ra</td>\n",
       "      <td>START</td>\n",
       "      <td>{}</td>\n",
       "      <td>{'type': 'subprocess', 'ref': 'a2'}</td>\n",
       "    </tr>\n",
       "    <tr>\n",
       "      <th>4</th>\n",
       "      <td>1970-01-01 00:00:03</td>\n",
       "      <td>Ra</td>\n",
       "      <td>STOP</td>\n",
       "      <td>{}</td>\n",
       "      <td>{'type': 'subprocess', 'ref': 'a2'}</td>\n",
       "    </tr>\n",
       "    <tr>\n",
       "      <th>5</th>\n",
       "      <td>1970-01-01 00:00:03</td>\n",
       "      <td>Ra</td>\n",
       "      <td>START</td>\n",
       "      <td>{}</td>\n",
       "      <td>{'type': 'subprocess', 'ref': 'a'}</td>\n",
       "    </tr>\n",
       "    <tr>\n",
       "      <th>6</th>\n",
       "      <td>1970-01-01 00:00:04</td>\n",
       "      <td>Ra</td>\n",
       "      <td>STOP</td>\n",
       "      <td>{}</td>\n",
       "      <td>{'type': 'subprocess', 'ref': 'a'}</td>\n",
       "    </tr>\n",
       "    <tr>\n",
       "      <th>7</th>\n",
       "      <td>1970-01-01 00:00:04</td>\n",
       "      <td>Ra</td>\n",
       "      <td>START</td>\n",
       "      <td>{}</td>\n",
       "      <td>{'type': 'subprocess', 'ref': 'a2'}</td>\n",
       "    </tr>\n",
       "    <tr>\n",
       "      <th>8</th>\n",
       "      <td>1970-01-01 00:00:05</td>\n",
       "      <td>Ra</td>\n",
       "      <td>STOP</td>\n",
       "      <td>{}</td>\n",
       "      <td>{'type': 'subprocess', 'ref': 'a2'}</td>\n",
       "    </tr>\n",
       "    <tr>\n",
       "      <th>9</th>\n",
       "      <td>1970-01-01 00:00:05</td>\n",
       "      <td>Ra</td>\n",
       "      <td>START</td>\n",
       "      <td>{}</td>\n",
       "      <td>{'type': 'subprocess', 'ref': 'a'}</td>\n",
       "    </tr>\n",
       "    <tr>\n",
       "      <th>10</th>\n",
       "      <td>1970-01-01 00:00:06</td>\n",
       "      <td>Ra</td>\n",
       "      <td>STOP</td>\n",
       "      <td>{}</td>\n",
       "      <td>{'type': 'subprocess', 'ref': 'a'}</td>\n",
       "    </tr>\n",
       "    <tr>\n",
       "      <th>11</th>\n",
       "      <td>1970-01-01 00:00:06</td>\n",
       "      <td>Ra</td>\n",
       "      <td>START</td>\n",
       "      <td>{}</td>\n",
       "      <td>{'type': 'subprocess', 'ref': 'a2'}</td>\n",
       "    </tr>\n",
       "    <tr>\n",
       "      <th>12</th>\n",
       "      <td>1970-01-01 00:00:07</td>\n",
       "      <td>Ra</td>\n",
       "      <td>STOP</td>\n",
       "      <td>{}</td>\n",
       "      <td>{'type': 'subprocess', 'ref': 'a2'}</td>\n",
       "    </tr>\n",
       "    <tr>\n",
       "      <th>13</th>\n",
       "      <td>1970-01-01 00:00:07</td>\n",
       "      <td>Ra</td>\n",
       "      <td>STOP</td>\n",
       "      <td>{}</td>\n",
       "      <td>{}</td>\n",
       "    </tr>\n",
       "  </tbody>\n",
       "</table>\n",
       "</div>"
      ],
      "text/plain": [
       "             Timestamp ActivityID ActivityState ObjectState  \\\n",
       "0  1970-01-01 00:00:01         Ra         START          {}   \n",
       "1  1970-01-01 00:00:01         Ra         START          {}   \n",
       "2  1970-01-01 00:00:02         Ra          STOP          {}   \n",
       "3  1970-01-01 00:00:02         Ra         START          {}   \n",
       "4  1970-01-01 00:00:03         Ra          STOP          {}   \n",
       "5  1970-01-01 00:00:03         Ra         START          {}   \n",
       "6  1970-01-01 00:00:04         Ra          STOP          {}   \n",
       "7  1970-01-01 00:00:04         Ra         START          {}   \n",
       "8  1970-01-01 00:00:05         Ra          STOP          {}   \n",
       "9  1970-01-01 00:00:05         Ra         START          {}   \n",
       "10 1970-01-01 00:00:06         Ra          STOP          {}   \n",
       "11 1970-01-01 00:00:06         Ra         START          {}   \n",
       "12 1970-01-01 00:00:07         Ra          STOP          {}   \n",
       "13 1970-01-01 00:00:07         Ra          STOP          {}   \n",
       "\n",
       "                          ActivityLabel  \n",
       "0                                    {}  \n",
       "1    {'type': 'subprocess', 'ref': 'a'}  \n",
       "2    {'type': 'subprocess', 'ref': 'a'}  \n",
       "3   {'type': 'subprocess', 'ref': 'a2'}  \n",
       "4   {'type': 'subprocess', 'ref': 'a2'}  \n",
       "5    {'type': 'subprocess', 'ref': 'a'}  \n",
       "6    {'type': 'subprocess', 'ref': 'a'}  \n",
       "7   {'type': 'subprocess', 'ref': 'a2'}  \n",
       "8   {'type': 'subprocess', 'ref': 'a2'}  \n",
       "9    {'type': 'subprocess', 'ref': 'a'}  \n",
       "10   {'type': 'subprocess', 'ref': 'a'}  \n",
       "11  {'type': 'subprocess', 'ref': 'a2'}  \n",
       "12  {'type': 'subprocess', 'ref': 'a2'}  \n",
       "13                                   {}  "
      ]
     },
     "metadata": {},
     "output_type": "display_data"
    },
    {
     "data": {
      "text/html": [
       "<div>\n",
       "<style scoped>\n",
       "    .dataframe tbody tr th:only-of-type {\n",
       "        vertical-align: middle;\n",
       "    }\n",
       "\n",
       "    .dataframe tbody tr th {\n",
       "        vertical-align: top;\n",
       "    }\n",
       "\n",
       "    .dataframe thead th {\n",
       "        text-align: right;\n",
       "    }\n",
       "</style>\n",
       "<table border=\"1\" class=\"dataframe\">\n",
       "  <thead>\n",
       "    <tr style=\"text-align: right;\">\n",
       "      <th></th>\n",
       "      <th>Timestamp</th>\n",
       "      <th>ActivityID</th>\n",
       "      <th>ActivityState</th>\n",
       "      <th>ObjectState</th>\n",
       "      <th>ActivityLabel</th>\n",
       "    </tr>\n",
       "  </thead>\n",
       "  <tbody>\n",
       "    <tr>\n",
       "      <th>0</th>\n",
       "      <td>1970-01-01 00:00:01</td>\n",
       "      <td>a</td>\n",
       "      <td>START</td>\n",
       "      <td>{}</td>\n",
       "      <td>{}</td>\n",
       "    </tr>\n",
       "    <tr>\n",
       "      <th>1</th>\n",
       "      <td>1970-01-01 00:00:02</td>\n",
       "      <td>a</td>\n",
       "      <td>STOP</td>\n",
       "      <td>{}</td>\n",
       "      <td>{}</td>\n",
       "    </tr>\n",
       "    <tr>\n",
       "      <th>2</th>\n",
       "      <td>1970-01-01 00:00:03</td>\n",
       "      <td>a</td>\n",
       "      <td>START</td>\n",
       "      <td>{}</td>\n",
       "      <td>{}</td>\n",
       "    </tr>\n",
       "    <tr>\n",
       "      <th>3</th>\n",
       "      <td>1970-01-01 00:00:04</td>\n",
       "      <td>a</td>\n",
       "      <td>STOP</td>\n",
       "      <td>{}</td>\n",
       "      <td>{}</td>\n",
       "    </tr>\n",
       "    <tr>\n",
       "      <th>4</th>\n",
       "      <td>1970-01-01 00:00:05</td>\n",
       "      <td>a</td>\n",
       "      <td>START</td>\n",
       "      <td>{}</td>\n",
       "      <td>{}</td>\n",
       "    </tr>\n",
       "    <tr>\n",
       "      <th>5</th>\n",
       "      <td>1970-01-01 00:00:06</td>\n",
       "      <td>a</td>\n",
       "      <td>STOP</td>\n",
       "      <td>{}</td>\n",
       "      <td>{}</td>\n",
       "    </tr>\n",
       "  </tbody>\n",
       "</table>\n",
       "</div>"
      ],
      "text/plain": [
       "            Timestamp ActivityID ActivityState ObjectState ActivityLabel\n",
       "0 1970-01-01 00:00:01          a         START          {}            {}\n",
       "1 1970-01-01 00:00:02          a          STOP          {}            {}\n",
       "2 1970-01-01 00:00:03          a         START          {}            {}\n",
       "3 1970-01-01 00:00:04          a          STOP          {}            {}\n",
       "4 1970-01-01 00:00:05          a         START          {}            {}\n",
       "5 1970-01-01 00:00:06          a          STOP          {}            {}"
      ]
     },
     "metadata": {},
     "output_type": "display_data"
    },
    {
     "data": {
      "text/html": [
       "<div>\n",
       "<style scoped>\n",
       "    .dataframe tbody tr th:only-of-type {\n",
       "        vertical-align: middle;\n",
       "    }\n",
       "\n",
       "    .dataframe tbody tr th {\n",
       "        vertical-align: top;\n",
       "    }\n",
       "\n",
       "    .dataframe thead th {\n",
       "        text-align: right;\n",
       "    }\n",
       "</style>\n",
       "<table border=\"1\" class=\"dataframe\">\n",
       "  <thead>\n",
       "    <tr style=\"text-align: right;\">\n",
       "      <th></th>\n",
       "      <th>Timestamp</th>\n",
       "      <th>ActivityID</th>\n",
       "      <th>ActivityState</th>\n",
       "      <th>ObjectState</th>\n",
       "      <th>ActivityLabel</th>\n",
       "    </tr>\n",
       "  </thead>\n",
       "  <tbody>\n",
       "    <tr>\n",
       "      <th>0</th>\n",
       "      <td>1970-01-01 00:00:02</td>\n",
       "      <td>a2</td>\n",
       "      <td>START</td>\n",
       "      <td>{}</td>\n",
       "      <td>{}</td>\n",
       "    </tr>\n",
       "    <tr>\n",
       "      <th>1</th>\n",
       "      <td>1970-01-01 00:00:03</td>\n",
       "      <td>a2</td>\n",
       "      <td>STOP</td>\n",
       "      <td>{}</td>\n",
       "      <td>{}</td>\n",
       "    </tr>\n",
       "    <tr>\n",
       "      <th>2</th>\n",
       "      <td>1970-01-01 00:00:04</td>\n",
       "      <td>a2</td>\n",
       "      <td>START</td>\n",
       "      <td>{}</td>\n",
       "      <td>{}</td>\n",
       "    </tr>\n",
       "    <tr>\n",
       "      <th>3</th>\n",
       "      <td>1970-01-01 00:00:05</td>\n",
       "      <td>a2</td>\n",
       "      <td>STOP</td>\n",
       "      <td>{}</td>\n",
       "      <td>{}</td>\n",
       "    </tr>\n",
       "    <tr>\n",
       "      <th>4</th>\n",
       "      <td>1970-01-01 00:00:06</td>\n",
       "      <td>a2</td>\n",
       "      <td>START</td>\n",
       "      <td>{}</td>\n",
       "      <td>{}</td>\n",
       "    </tr>\n",
       "    <tr>\n",
       "      <th>5</th>\n",
       "      <td>1970-01-01 00:00:07</td>\n",
       "      <td>a2</td>\n",
       "      <td>STOP</td>\n",
       "      <td>{}</td>\n",
       "      <td>{}</td>\n",
       "    </tr>\n",
       "  </tbody>\n",
       "</table>\n",
       "</div>"
      ],
      "text/plain": [
       "            Timestamp ActivityID ActivityState ObjectState ActivityLabel\n",
       "0 1970-01-01 00:00:02         a2         START          {}            {}\n",
       "1 1970-01-01 00:00:03         a2          STOP          {}            {}\n",
       "2 1970-01-01 00:00:04         a2         START          {}            {}\n",
       "3 1970-01-01 00:00:05         a2          STOP          {}            {}\n",
       "4 1970-01-01 00:00:06         a2         START          {}            {}\n",
       "5 1970-01-01 00:00:07         a2          STOP          {}            {}"
      ]
     },
     "metadata": {},
     "output_type": "display_data"
    },
    {
     "data": {
      "text/html": [
       "<div>\n",
       "<style scoped>\n",
       "    .dataframe tbody tr th:only-of-type {\n",
       "        vertical-align: middle;\n",
       "    }\n",
       "\n",
       "    .dataframe tbody tr th {\n",
       "        vertical-align: top;\n",
       "    }\n",
       "\n",
       "    .dataframe thead th {\n",
       "        text-align: right;\n",
       "    }\n",
       "</style>\n",
       "<table border=\"1\" class=\"dataframe\">\n",
       "  <thead>\n",
       "    <tr style=\"text-align: right;\">\n",
       "      <th></th>\n",
       "      <th>Timestamp</th>\n",
       "      <th>ActivityID</th>\n",
       "      <th>ActivityState</th>\n",
       "      <th>ObjectState</th>\n",
       "      <th>ActivityLabel</th>\n",
       "    </tr>\n",
       "  </thead>\n",
       "  <tbody>\n",
       "    <tr>\n",
       "      <th>0</th>\n",
       "      <td>1970-01-01 00:00:00.000</td>\n",
       "      <td>b</td>\n",
       "      <td>WAIT_START</td>\n",
       "      <td>{}</td>\n",
       "      <td>{}</td>\n",
       "    </tr>\n",
       "    <tr>\n",
       "      <th>1</th>\n",
       "      <td>1970-01-01 00:00:02.000</td>\n",
       "      <td>b</td>\n",
       "      <td>WAIT_STOP</td>\n",
       "      <td>{}</td>\n",
       "      <td>{}</td>\n",
       "    </tr>\n",
       "    <tr>\n",
       "      <th>2</th>\n",
       "      <td>1970-01-01 00:00:02.000</td>\n",
       "      <td>b</td>\n",
       "      <td>START</td>\n",
       "      <td>{}</td>\n",
       "      <td>{}</td>\n",
       "    </tr>\n",
       "    <tr>\n",
       "      <th>3</th>\n",
       "      <td>1970-01-01 00:00:03.500</td>\n",
       "      <td>b</td>\n",
       "      <td>STOP</td>\n",
       "      <td>{}</td>\n",
       "      <td>{}</td>\n",
       "    </tr>\n",
       "    <tr>\n",
       "      <th>4</th>\n",
       "      <td>1970-01-01 00:00:03.500</td>\n",
       "      <td>b</td>\n",
       "      <td>WAIT_START</td>\n",
       "      <td>{}</td>\n",
       "      <td>{}</td>\n",
       "    </tr>\n",
       "    <tr>\n",
       "      <th>5</th>\n",
       "      <td>1970-01-01 00:00:04.000</td>\n",
       "      <td>b</td>\n",
       "      <td>WAIT_STOP</td>\n",
       "      <td>{}</td>\n",
       "      <td>{}</td>\n",
       "    </tr>\n",
       "    <tr>\n",
       "      <th>6</th>\n",
       "      <td>1970-01-01 00:00:04.000</td>\n",
       "      <td>b</td>\n",
       "      <td>START</td>\n",
       "      <td>{}</td>\n",
       "      <td>{}</td>\n",
       "    </tr>\n",
       "    <tr>\n",
       "      <th>7</th>\n",
       "      <td>1970-01-01 00:00:05.500</td>\n",
       "      <td>b</td>\n",
       "      <td>STOP</td>\n",
       "      <td>{}</td>\n",
       "      <td>{}</td>\n",
       "    </tr>\n",
       "    <tr>\n",
       "      <th>8</th>\n",
       "      <td>1970-01-01 00:00:05.500</td>\n",
       "      <td>b</td>\n",
       "      <td>WAIT_START</td>\n",
       "      <td>{}</td>\n",
       "      <td>{}</td>\n",
       "    </tr>\n",
       "    <tr>\n",
       "      <th>9</th>\n",
       "      <td>1970-01-01 00:00:06.000</td>\n",
       "      <td>b</td>\n",
       "      <td>WAIT_STOP</td>\n",
       "      <td>{}</td>\n",
       "      <td>{}</td>\n",
       "    </tr>\n",
       "    <tr>\n",
       "      <th>10</th>\n",
       "      <td>1970-01-01 00:00:06.000</td>\n",
       "      <td>b</td>\n",
       "      <td>START</td>\n",
       "      <td>{}</td>\n",
       "      <td>{}</td>\n",
       "    </tr>\n",
       "    <tr>\n",
       "      <th>11</th>\n",
       "      <td>1970-01-01 00:00:07.500</td>\n",
       "      <td>b</td>\n",
       "      <td>STOP</td>\n",
       "      <td>{}</td>\n",
       "      <td>{}</td>\n",
       "    </tr>\n",
       "  </tbody>\n",
       "</table>\n",
       "</div>"
      ],
      "text/plain": [
       "                 Timestamp ActivityID ActivityState ObjectState ActivityLabel\n",
       "0  1970-01-01 00:00:00.000          b    WAIT_START          {}            {}\n",
       "1  1970-01-01 00:00:02.000          b     WAIT_STOP          {}            {}\n",
       "2  1970-01-01 00:00:02.000          b         START          {}            {}\n",
       "3  1970-01-01 00:00:03.500          b          STOP          {}            {}\n",
       "4  1970-01-01 00:00:03.500          b    WAIT_START          {}            {}\n",
       "5  1970-01-01 00:00:04.000          b     WAIT_STOP          {}            {}\n",
       "6  1970-01-01 00:00:04.000          b         START          {}            {}\n",
       "7  1970-01-01 00:00:05.500          b          STOP          {}            {}\n",
       "8  1970-01-01 00:00:05.500          b    WAIT_START          {}            {}\n",
       "9  1970-01-01 00:00:06.000          b     WAIT_STOP          {}            {}\n",
       "10 1970-01-01 00:00:06.000          b         START          {}            {}\n",
       "11 1970-01-01 00:00:07.500          b          STOP          {}            {}"
      ]
     },
     "metadata": {},
     "output_type": "display_data"
    }
   ],
   "source": [
    "display(pd.DataFrame(Sc.log))\n",
    "display(pd.DataFrame(c.log))\n",
    "\n",
    "display(pd.DataFrame(Ra.log))\n",
    "display(pd.DataFrame(a.log))\n",
    "display(pd.DataFrame(a2.log))\n",
    "\n",
    "\n",
    "display(pd.DataFrame(b.log))"
   ]
  },
  {
   "cell_type": "markdown",
   "metadata": {},
   "source": [
    "##### 5.2 Visualise gantt charts"
   ]
  },
  {
   "cell_type": "code",
   "execution_count": 7,
   "metadata": {},
   "outputs": [
    {
     "data": {
      "text/html": [
       "        <script type=\"text/javascript\">\n",
       "        window.PlotlyConfig = {MathJaxConfig: 'local'};\n",
       "        if (window.MathJax) {MathJax.Hub.Config({SVG: {font: \"STIX-Web\"}});}\n",
       "        if (typeof require !== 'undefined') {\n",
       "        require.undef(\"plotly\");\n",
       "        requirejs.config({\n",
       "            paths: {\n",
       "                'plotly': ['https://cdn.plot.ly/plotly-latest.min']\n",
       "            }\n",
       "        });\n",
       "        require(['plotly'], function(Plotly) {\n",
       "            window._Plotly = Plotly;\n",
       "        });\n",
       "        }\n",
       "        </script>\n",
       "        "
      ]
     },
     "metadata": {},
     "output_type": "display_data"
    },
    {
     "data": {
      "application/vnd.plotly.v1+json": {
       "config": {
        "linkText": "Export to plot.ly",
        "plotlyServerURL": "https://plot.ly",
        "showLink": false
       },
       "data": [
        {
         "connectgaps": false,
         "hoverinfo": "y+name",
         "line": {
          "color": "rgb(47,27,11)",
          "width": 10
         },
         "mode": "lines",
         "name": "Sc",
         "type": "scatter",
         "x": [
          "1970-01-01T00:00:00",
          "1970-01-01T00:00:00",
          "1970-01-01T00:00:01",
          "1970-01-01T00:00:01",
          "1970-01-01T00:00:01",
          "1970-01-01T00:00:01",
          "1970-01-01T00:00:01",
          "1970-01-01T00:00:07",
          "1970-01-01T00:00:07",
          "1970-01-01T00:00:07",
          "1970-01-01T00:00:01",
          "1970-01-01T00:00:01",
          "1970-01-01T00:00:07",
          "1970-01-01T00:00:07",
          "1970-01-01T00:00:07"
         ],
         "y": [
          "Sc",
          "Sc",
          "Sc",
          "Sc",
          null,
          "Sc",
          "Sc",
          "Sc",
          "Sc",
          null,
          "Sc",
          "Sc",
          "Sc",
          "Sc",
          null
         ]
        },
        {
         "connectgaps": false,
         "hoverinfo": "y+name",
         "line": {
          "color": "rgb(89,69,53)",
          "width": 10
         },
         "mode": "lines",
         "name": "c",
         "type": "scatter",
         "x": [
          "1970-01-01T00:00:00",
          "1970-01-01T00:00:00",
          "1970-01-01T00:00:01",
          "1970-01-01T00:00:01",
          "1970-01-01T00:00:01"
         ],
         "y": [
          "c",
          "c",
          "c",
          "c",
          null
         ]
        },
        {
         "connectgaps": false,
         "hoverinfo": "y+name",
         "line": {
          "color": "rgb(131,111,95)",
          "width": 10
         },
         "mode": "lines",
         "name": "Ra",
         "type": "scatter",
         "x": [
          "1970-01-01T00:00:01",
          "1970-01-01T00:00:01",
          "1970-01-01T00:00:02",
          "1970-01-01T00:00:02",
          "1970-01-01T00:00:02",
          "1970-01-01T00:00:02",
          "1970-01-01T00:00:02",
          "1970-01-01T00:00:03",
          "1970-01-01T00:00:03",
          "1970-01-01T00:00:03",
          "1970-01-01T00:00:03",
          "1970-01-01T00:00:03",
          "1970-01-01T00:00:04",
          "1970-01-01T00:00:04",
          "1970-01-01T00:00:04",
          "1970-01-01T00:00:04",
          "1970-01-01T00:00:04",
          "1970-01-01T00:00:05",
          "1970-01-01T00:00:05",
          "1970-01-01T00:00:05",
          "1970-01-01T00:00:05",
          "1970-01-01T00:00:05",
          "1970-01-01T00:00:06",
          "1970-01-01T00:00:06",
          "1970-01-01T00:00:06",
          "1970-01-01T00:00:06",
          "1970-01-01T00:00:06",
          "1970-01-01T00:00:07",
          "1970-01-01T00:00:07",
          "1970-01-01T00:00:07",
          "1970-01-01T00:00:06",
          "1970-01-01T00:00:06",
          "1970-01-01T00:00:07",
          "1970-01-01T00:00:07",
          "1970-01-01T00:00:07"
         ],
         "y": [
          "Ra",
          "Ra",
          "Ra",
          "Ra",
          null,
          "Ra",
          "Ra",
          "Ra",
          "Ra",
          null,
          "Ra",
          "Ra",
          "Ra",
          "Ra",
          null,
          "Ra",
          "Ra",
          "Ra",
          "Ra",
          null,
          "Ra",
          "Ra",
          "Ra",
          "Ra",
          null,
          "Ra",
          "Ra",
          "Ra",
          "Ra",
          null,
          "Ra",
          "Ra",
          "Ra",
          "Ra",
          null
         ]
        },
        {
         "connectgaps": false,
         "hoverinfo": "y+name",
         "line": {
          "color": "rgb(173,153,137)",
          "width": 10
         },
         "mode": "lines",
         "name": "a",
         "type": "scatter",
         "x": [
          "1970-01-01T00:00:01",
          "1970-01-01T00:00:01",
          "1970-01-01T00:00:02",
          "1970-01-01T00:00:02",
          "1970-01-01T00:00:02",
          "1970-01-01T00:00:03",
          "1970-01-01T00:00:03",
          "1970-01-01T00:00:04",
          "1970-01-01T00:00:04",
          "1970-01-01T00:00:04",
          "1970-01-01T00:00:05",
          "1970-01-01T00:00:05",
          "1970-01-01T00:00:06",
          "1970-01-01T00:00:06",
          "1970-01-01T00:00:06"
         ],
         "y": [
          "a",
          "a",
          "a",
          "a",
          null,
          "a",
          "a",
          "a",
          "a",
          null,
          "a",
          "a",
          "a",
          "a",
          null
         ]
        },
        {
         "connectgaps": false,
         "hoverinfo": "y+name",
         "line": {
          "color": "rgb(215,195,179)",
          "width": 10
         },
         "mode": "lines",
         "name": "a2",
         "type": "scatter",
         "x": [
          "1970-01-01T00:00:02",
          "1970-01-01T00:00:02",
          "1970-01-01T00:00:03",
          "1970-01-01T00:00:03",
          "1970-01-01T00:00:03",
          "1970-01-01T00:00:04",
          "1970-01-01T00:00:04",
          "1970-01-01T00:00:05",
          "1970-01-01T00:00:05",
          "1970-01-01T00:00:05",
          "1970-01-01T00:00:06",
          "1970-01-01T00:00:06",
          "1970-01-01T00:00:07",
          "1970-01-01T00:00:07",
          "1970-01-01T00:00:07"
         ],
         "y": [
          "a2",
          "a2",
          "a2",
          "a2",
          null,
          "a2",
          "a2",
          "a2",
          "a2",
          null,
          "a2",
          "a2",
          "a2",
          "a2",
          null
         ]
        },
        {
         "connectgaps": false,
         "hoverinfo": "y+name",
         "line": {
          "color": "rgb(1,237,221)",
          "width": 10
         },
         "mode": "lines",
         "name": "b",
         "type": "scatter",
         "x": [
          "1970-01-01T00:00:02",
          "1970-01-01T00:00:02",
          "1970-01-01T00:00:03.500000",
          "1970-01-01T00:00:03.500000",
          "1970-01-01T00:00:03.500000",
          "1970-01-01T00:00:04",
          "1970-01-01T00:00:04",
          "1970-01-01T00:00:05.500000",
          "1970-01-01T00:00:05.500000",
          "1970-01-01T00:00:05.500000",
          "1970-01-01T00:00:06",
          "1970-01-01T00:00:06",
          "1970-01-01T00:00:07.500000",
          "1970-01-01T00:00:07.500000",
          "1970-01-01T00:00:07.500000"
         ],
         "y": [
          "b",
          "b",
          "b",
          "b",
          null,
          "b",
          "b",
          "b",
          "b",
          null,
          "b",
          "b",
          "b",
          "b",
          null
         ]
        }
       ],
       "layout": {
        "hovermode": "closest",
        "legend": {
         "orientation": "h",
         "x": 0,
         "y": -0.2
        },
        "template": {
         "data": {
          "bar": [
           {
            "error_x": {
             "color": "#2a3f5f"
            },
            "error_y": {
             "color": "#2a3f5f"
            },
            "marker": {
             "line": {
              "color": "#E5ECF6",
              "width": 0.5
             }
            },
            "type": "bar"
           }
          ],
          "barpolar": [
           {
            "marker": {
             "line": {
              "color": "#E5ECF6",
              "width": 0.5
             }
            },
            "type": "barpolar"
           }
          ],
          "carpet": [
           {
            "aaxis": {
             "endlinecolor": "#2a3f5f",
             "gridcolor": "white",
             "linecolor": "white",
             "minorgridcolor": "white",
             "startlinecolor": "#2a3f5f"
            },
            "baxis": {
             "endlinecolor": "#2a3f5f",
             "gridcolor": "white",
             "linecolor": "white",
             "minorgridcolor": "white",
             "startlinecolor": "#2a3f5f"
            },
            "type": "carpet"
           }
          ],
          "choropleth": [
           {
            "colorbar": {
             "outlinewidth": 0,
             "ticks": ""
            },
            "type": "choropleth"
           }
          ],
          "contour": [
           {
            "colorbar": {
             "outlinewidth": 0,
             "ticks": ""
            },
            "colorscale": [
             [
              0,
              "#0d0887"
             ],
             [
              0.1111111111111111,
              "#46039f"
             ],
             [
              0.2222222222222222,
              "#7201a8"
             ],
             [
              0.3333333333333333,
              "#9c179e"
             ],
             [
              0.4444444444444444,
              "#bd3786"
             ],
             [
              0.5555555555555556,
              "#d8576b"
             ],
             [
              0.6666666666666666,
              "#ed7953"
             ],
             [
              0.7777777777777778,
              "#fb9f3a"
             ],
             [
              0.8888888888888888,
              "#fdca26"
             ],
             [
              1,
              "#f0f921"
             ]
            ],
            "type": "contour"
           }
          ],
          "contourcarpet": [
           {
            "colorbar": {
             "outlinewidth": 0,
             "ticks": ""
            },
            "type": "contourcarpet"
           }
          ],
          "heatmap": [
           {
            "colorbar": {
             "outlinewidth": 0,
             "ticks": ""
            },
            "colorscale": [
             [
              0,
              "#0d0887"
             ],
             [
              0.1111111111111111,
              "#46039f"
             ],
             [
              0.2222222222222222,
              "#7201a8"
             ],
             [
              0.3333333333333333,
              "#9c179e"
             ],
             [
              0.4444444444444444,
              "#bd3786"
             ],
             [
              0.5555555555555556,
              "#d8576b"
             ],
             [
              0.6666666666666666,
              "#ed7953"
             ],
             [
              0.7777777777777778,
              "#fb9f3a"
             ],
             [
              0.8888888888888888,
              "#fdca26"
             ],
             [
              1,
              "#f0f921"
             ]
            ],
            "type": "heatmap"
           }
          ],
          "heatmapgl": [
           {
            "colorbar": {
             "outlinewidth": 0,
             "ticks": ""
            },
            "colorscale": [
             [
              0,
              "#0d0887"
             ],
             [
              0.1111111111111111,
              "#46039f"
             ],
             [
              0.2222222222222222,
              "#7201a8"
             ],
             [
              0.3333333333333333,
              "#9c179e"
             ],
             [
              0.4444444444444444,
              "#bd3786"
             ],
             [
              0.5555555555555556,
              "#d8576b"
             ],
             [
              0.6666666666666666,
              "#ed7953"
             ],
             [
              0.7777777777777778,
              "#fb9f3a"
             ],
             [
              0.8888888888888888,
              "#fdca26"
             ],
             [
              1,
              "#f0f921"
             ]
            ],
            "type": "heatmapgl"
           }
          ],
          "histogram": [
           {
            "marker": {
             "colorbar": {
              "outlinewidth": 0,
              "ticks": ""
             }
            },
            "type": "histogram"
           }
          ],
          "histogram2d": [
           {
            "colorbar": {
             "outlinewidth": 0,
             "ticks": ""
            },
            "colorscale": [
             [
              0,
              "#0d0887"
             ],
             [
              0.1111111111111111,
              "#46039f"
             ],
             [
              0.2222222222222222,
              "#7201a8"
             ],
             [
              0.3333333333333333,
              "#9c179e"
             ],
             [
              0.4444444444444444,
              "#bd3786"
             ],
             [
              0.5555555555555556,
              "#d8576b"
             ],
             [
              0.6666666666666666,
              "#ed7953"
             ],
             [
              0.7777777777777778,
              "#fb9f3a"
             ],
             [
              0.8888888888888888,
              "#fdca26"
             ],
             [
              1,
              "#f0f921"
             ]
            ],
            "type": "histogram2d"
           }
          ],
          "histogram2dcontour": [
           {
            "colorbar": {
             "outlinewidth": 0,
             "ticks": ""
            },
            "colorscale": [
             [
              0,
              "#0d0887"
             ],
             [
              0.1111111111111111,
              "#46039f"
             ],
             [
              0.2222222222222222,
              "#7201a8"
             ],
             [
              0.3333333333333333,
              "#9c179e"
             ],
             [
              0.4444444444444444,
              "#bd3786"
             ],
             [
              0.5555555555555556,
              "#d8576b"
             ],
             [
              0.6666666666666666,
              "#ed7953"
             ],
             [
              0.7777777777777778,
              "#fb9f3a"
             ],
             [
              0.8888888888888888,
              "#fdca26"
             ],
             [
              1,
              "#f0f921"
             ]
            ],
            "type": "histogram2dcontour"
           }
          ],
          "mesh3d": [
           {
            "colorbar": {
             "outlinewidth": 0,
             "ticks": ""
            },
            "type": "mesh3d"
           }
          ],
          "parcoords": [
           {
            "line": {
             "colorbar": {
              "outlinewidth": 0,
              "ticks": ""
             }
            },
            "type": "parcoords"
           }
          ],
          "pie": [
           {
            "automargin": true,
            "type": "pie"
           }
          ],
          "scatter": [
           {
            "marker": {
             "colorbar": {
              "outlinewidth": 0,
              "ticks": ""
             }
            },
            "type": "scatter"
           }
          ],
          "scatter3d": [
           {
            "line": {
             "colorbar": {
              "outlinewidth": 0,
              "ticks": ""
             }
            },
            "marker": {
             "colorbar": {
              "outlinewidth": 0,
              "ticks": ""
             }
            },
            "type": "scatter3d"
           }
          ],
          "scattercarpet": [
           {
            "marker": {
             "colorbar": {
              "outlinewidth": 0,
              "ticks": ""
             }
            },
            "type": "scattercarpet"
           }
          ],
          "scattergeo": [
           {
            "marker": {
             "colorbar": {
              "outlinewidth": 0,
              "ticks": ""
             }
            },
            "type": "scattergeo"
           }
          ],
          "scattergl": [
           {
            "marker": {
             "colorbar": {
              "outlinewidth": 0,
              "ticks": ""
             }
            },
            "type": "scattergl"
           }
          ],
          "scattermapbox": [
           {
            "marker": {
             "colorbar": {
              "outlinewidth": 0,
              "ticks": ""
             }
            },
            "type": "scattermapbox"
           }
          ],
          "scatterpolar": [
           {
            "marker": {
             "colorbar": {
              "outlinewidth": 0,
              "ticks": ""
             }
            },
            "type": "scatterpolar"
           }
          ],
          "scatterpolargl": [
           {
            "marker": {
             "colorbar": {
              "outlinewidth": 0,
              "ticks": ""
             }
            },
            "type": "scatterpolargl"
           }
          ],
          "scatterternary": [
           {
            "marker": {
             "colorbar": {
              "outlinewidth": 0,
              "ticks": ""
             }
            },
            "type": "scatterternary"
           }
          ],
          "surface": [
           {
            "colorbar": {
             "outlinewidth": 0,
             "ticks": ""
            },
            "colorscale": [
             [
              0,
              "#0d0887"
             ],
             [
              0.1111111111111111,
              "#46039f"
             ],
             [
              0.2222222222222222,
              "#7201a8"
             ],
             [
              0.3333333333333333,
              "#9c179e"
             ],
             [
              0.4444444444444444,
              "#bd3786"
             ],
             [
              0.5555555555555556,
              "#d8576b"
             ],
             [
              0.6666666666666666,
              "#ed7953"
             ],
             [
              0.7777777777777778,
              "#fb9f3a"
             ],
             [
              0.8888888888888888,
              "#fdca26"
             ],
             [
              1,
              "#f0f921"
             ]
            ],
            "type": "surface"
           }
          ],
          "table": [
           {
            "cells": {
             "fill": {
              "color": "#EBF0F8"
             },
             "line": {
              "color": "white"
             }
            },
            "header": {
             "fill": {
              "color": "#C8D4E3"
             },
             "line": {
              "color": "white"
             }
            },
            "type": "table"
           }
          ]
         },
         "layout": {
          "annotationdefaults": {
           "arrowcolor": "#2a3f5f",
           "arrowhead": 0,
           "arrowwidth": 1
          },
          "coloraxis": {
           "colorbar": {
            "outlinewidth": 0,
            "ticks": ""
           }
          },
          "colorscale": {
           "diverging": [
            [
             0,
             "#8e0152"
            ],
            [
             0.1,
             "#c51b7d"
            ],
            [
             0.2,
             "#de77ae"
            ],
            [
             0.3,
             "#f1b6da"
            ],
            [
             0.4,
             "#fde0ef"
            ],
            [
             0.5,
             "#f7f7f7"
            ],
            [
             0.6,
             "#e6f5d0"
            ],
            [
             0.7,
             "#b8e186"
            ],
            [
             0.8,
             "#7fbc41"
            ],
            [
             0.9,
             "#4d9221"
            ],
            [
             1,
             "#276419"
            ]
           ],
           "sequential": [
            [
             0,
             "#0d0887"
            ],
            [
             0.1111111111111111,
             "#46039f"
            ],
            [
             0.2222222222222222,
             "#7201a8"
            ],
            [
             0.3333333333333333,
             "#9c179e"
            ],
            [
             0.4444444444444444,
             "#bd3786"
            ],
            [
             0.5555555555555556,
             "#d8576b"
            ],
            [
             0.6666666666666666,
             "#ed7953"
            ],
            [
             0.7777777777777778,
             "#fb9f3a"
            ],
            [
             0.8888888888888888,
             "#fdca26"
            ],
            [
             1,
             "#f0f921"
            ]
           ],
           "sequentialminus": [
            [
             0,
             "#0d0887"
            ],
            [
             0.1111111111111111,
             "#46039f"
            ],
            [
             0.2222222222222222,
             "#7201a8"
            ],
            [
             0.3333333333333333,
             "#9c179e"
            ],
            [
             0.4444444444444444,
             "#bd3786"
            ],
            [
             0.5555555555555556,
             "#d8576b"
            ],
            [
             0.6666666666666666,
             "#ed7953"
            ],
            [
             0.7777777777777778,
             "#fb9f3a"
            ],
            [
             0.8888888888888888,
             "#fdca26"
            ],
            [
             1,
             "#f0f921"
            ]
           ]
          },
          "colorway": [
           "#636efa",
           "#EF553B",
           "#00cc96",
           "#ab63fa",
           "#FFA15A",
           "#19d3f3",
           "#FF6692",
           "#B6E880",
           "#FF97FF",
           "#FECB52"
          ],
          "font": {
           "color": "#2a3f5f"
          },
          "geo": {
           "bgcolor": "white",
           "lakecolor": "white",
           "landcolor": "#E5ECF6",
           "showlakes": true,
           "showland": true,
           "subunitcolor": "white"
          },
          "hoverlabel": {
           "align": "left"
          },
          "hovermode": "closest",
          "mapbox": {
           "style": "light"
          },
          "paper_bgcolor": "white",
          "plot_bgcolor": "#E5ECF6",
          "polar": {
           "angularaxis": {
            "gridcolor": "white",
            "linecolor": "white",
            "ticks": ""
           },
           "bgcolor": "#E5ECF6",
           "radialaxis": {
            "gridcolor": "white",
            "linecolor": "white",
            "ticks": ""
           }
          },
          "scene": {
           "xaxis": {
            "backgroundcolor": "#E5ECF6",
            "gridcolor": "white",
            "gridwidth": 2,
            "linecolor": "white",
            "showbackground": true,
            "ticks": "",
            "zerolinecolor": "white"
           },
           "yaxis": {
            "backgroundcolor": "#E5ECF6",
            "gridcolor": "white",
            "gridwidth": 2,
            "linecolor": "white",
            "showbackground": true,
            "ticks": "",
            "zerolinecolor": "white"
           },
           "zaxis": {
            "backgroundcolor": "#E5ECF6",
            "gridcolor": "white",
            "gridwidth": 2,
            "linecolor": "white",
            "showbackground": true,
            "ticks": "",
            "zerolinecolor": "white"
           }
          },
          "shapedefaults": {
           "line": {
            "color": "#2a3f5f"
           }
          },
          "ternary": {
           "aaxis": {
            "gridcolor": "white",
            "linecolor": "white",
            "ticks": ""
           },
           "baxis": {
            "gridcolor": "white",
            "linecolor": "white",
            "ticks": ""
           },
           "bgcolor": "#E5ECF6",
           "caxis": {
            "gridcolor": "white",
            "linecolor": "white",
            "ticks": ""
           }
          },
          "title": {
           "x": 0.05
          },
          "xaxis": {
           "automargin": true,
           "gridcolor": "white",
           "linecolor": "white",
           "ticks": "",
           "title": {
            "standoff": 15
           },
           "zerolinecolor": "white",
           "zerolinewidth": 2
          },
          "yaxis": {
           "automargin": true,
           "gridcolor": "white",
           "linecolor": "white",
           "ticks": "",
           "title": {
            "standoff": 15
           },
           "zerolinecolor": "white",
           "zerolinewidth": 2
          }
         }
        },
        "title": {
         "text": "GANTT Chart"
        },
        "xaxis": {
         "range": [
          "1970-01-01T00:00:00",
          "1970-01-01T00:00:07.500000"
         ],
         "title": {
          "font": {
           "color": "#7f7f7f",
           "family": "Courier New, monospace",
           "size": 18
          },
          "text": "Time"
         }
        },
        "yaxis": {
         "title": {
          "font": {
           "color": "#7f7f7f",
           "family": "Courier New, monospace",
           "size": 18
          },
          "text": "Activities"
         }
        }
       }
      },
      "text/html": [
       "<div>                            <div id=\"554dfcc6-bce8-4256-ae5d-04d417dc0eb2\" class=\"plotly-graph-div\" style=\"height:525px; width:100%;\"></div>            <script type=\"text/javascript\">                require([\"plotly\"], function(Plotly) {                    window.PLOTLYENV=window.PLOTLYENV || {};                                    if (document.getElementById(\"554dfcc6-bce8-4256-ae5d-04d417dc0eb2\")) {                    Plotly.newPlot(                        \"554dfcc6-bce8-4256-ae5d-04d417dc0eb2\",                        [{\"connectgaps\": false, \"hoverinfo\": \"y+name\", \"line\": {\"color\": \"rgb(47,27,11)\", \"width\": 10}, \"mode\": \"lines\", \"name\": \"Sc\", \"type\": \"scatter\", \"x\": [\"1970-01-01T00:00:00\", \"1970-01-01T00:00:00\", \"1970-01-01T00:00:01\", \"1970-01-01T00:00:01\", \"1970-01-01T00:00:01\", \"1970-01-01T00:00:01\", \"1970-01-01T00:00:01\", \"1970-01-01T00:00:07\", \"1970-01-01T00:00:07\", \"1970-01-01T00:00:07\", \"1970-01-01T00:00:01\", \"1970-01-01T00:00:01\", \"1970-01-01T00:00:07\", \"1970-01-01T00:00:07\", \"1970-01-01T00:00:07\"], \"y\": [\"Sc\", \"Sc\", \"Sc\", \"Sc\", null, \"Sc\", \"Sc\", \"Sc\", \"Sc\", null, \"Sc\", \"Sc\", \"Sc\", \"Sc\", null]}, {\"connectgaps\": false, \"hoverinfo\": \"y+name\", \"line\": {\"color\": \"rgb(89,69,53)\", \"width\": 10}, \"mode\": \"lines\", \"name\": \"c\", \"type\": \"scatter\", \"x\": [\"1970-01-01T00:00:00\", \"1970-01-01T00:00:00\", \"1970-01-01T00:00:01\", \"1970-01-01T00:00:01\", \"1970-01-01T00:00:01\"], \"y\": [\"c\", \"c\", \"c\", \"c\", null]}, {\"connectgaps\": false, \"hoverinfo\": \"y+name\", \"line\": {\"color\": \"rgb(131,111,95)\", \"width\": 10}, \"mode\": \"lines\", \"name\": \"Ra\", \"type\": \"scatter\", \"x\": [\"1970-01-01T00:00:01\", \"1970-01-01T00:00:01\", \"1970-01-01T00:00:02\", \"1970-01-01T00:00:02\", \"1970-01-01T00:00:02\", \"1970-01-01T00:00:02\", \"1970-01-01T00:00:02\", \"1970-01-01T00:00:03\", \"1970-01-01T00:00:03\", \"1970-01-01T00:00:03\", \"1970-01-01T00:00:03\", \"1970-01-01T00:00:03\", \"1970-01-01T00:00:04\", \"1970-01-01T00:00:04\", \"1970-01-01T00:00:04\", \"1970-01-01T00:00:04\", \"1970-01-01T00:00:04\", \"1970-01-01T00:00:05\", \"1970-01-01T00:00:05\", \"1970-01-01T00:00:05\", \"1970-01-01T00:00:05\", \"1970-01-01T00:00:05\", \"1970-01-01T00:00:06\", \"1970-01-01T00:00:06\", \"1970-01-01T00:00:06\", \"1970-01-01T00:00:06\", \"1970-01-01T00:00:06\", \"1970-01-01T00:00:07\", \"1970-01-01T00:00:07\", \"1970-01-01T00:00:07\", \"1970-01-01T00:00:06\", \"1970-01-01T00:00:06\", \"1970-01-01T00:00:07\", \"1970-01-01T00:00:07\", \"1970-01-01T00:00:07\"], \"y\": [\"Ra\", \"Ra\", \"Ra\", \"Ra\", null, \"Ra\", \"Ra\", \"Ra\", \"Ra\", null, \"Ra\", \"Ra\", \"Ra\", \"Ra\", null, \"Ra\", \"Ra\", \"Ra\", \"Ra\", null, \"Ra\", \"Ra\", \"Ra\", \"Ra\", null, \"Ra\", \"Ra\", \"Ra\", \"Ra\", null, \"Ra\", \"Ra\", \"Ra\", \"Ra\", null]}, {\"connectgaps\": false, \"hoverinfo\": \"y+name\", \"line\": {\"color\": \"rgb(173,153,137)\", \"width\": 10}, \"mode\": \"lines\", \"name\": \"a\", \"type\": \"scatter\", \"x\": [\"1970-01-01T00:00:01\", \"1970-01-01T00:00:01\", \"1970-01-01T00:00:02\", \"1970-01-01T00:00:02\", \"1970-01-01T00:00:02\", \"1970-01-01T00:00:03\", \"1970-01-01T00:00:03\", \"1970-01-01T00:00:04\", \"1970-01-01T00:00:04\", \"1970-01-01T00:00:04\", \"1970-01-01T00:00:05\", \"1970-01-01T00:00:05\", \"1970-01-01T00:00:06\", \"1970-01-01T00:00:06\", \"1970-01-01T00:00:06\"], \"y\": [\"a\", \"a\", \"a\", \"a\", null, \"a\", \"a\", \"a\", \"a\", null, \"a\", \"a\", \"a\", \"a\", null]}, {\"connectgaps\": false, \"hoverinfo\": \"y+name\", \"line\": {\"color\": \"rgb(215,195,179)\", \"width\": 10}, \"mode\": \"lines\", \"name\": \"a2\", \"type\": \"scatter\", \"x\": [\"1970-01-01T00:00:02\", \"1970-01-01T00:00:02\", \"1970-01-01T00:00:03\", \"1970-01-01T00:00:03\", \"1970-01-01T00:00:03\", \"1970-01-01T00:00:04\", \"1970-01-01T00:00:04\", \"1970-01-01T00:00:05\", \"1970-01-01T00:00:05\", \"1970-01-01T00:00:05\", \"1970-01-01T00:00:06\", \"1970-01-01T00:00:06\", \"1970-01-01T00:00:07\", \"1970-01-01T00:00:07\", \"1970-01-01T00:00:07\"], \"y\": [\"a2\", \"a2\", \"a2\", \"a2\", null, \"a2\", \"a2\", \"a2\", \"a2\", null, \"a2\", \"a2\", \"a2\", \"a2\", null]}, {\"connectgaps\": false, \"hoverinfo\": \"y+name\", \"line\": {\"color\": \"rgb(1,237,221)\", \"width\": 10}, \"mode\": \"lines\", \"name\": \"b\", \"type\": \"scatter\", \"x\": [\"1970-01-01T00:00:02\", \"1970-01-01T00:00:02\", \"1970-01-01T00:00:03.500000\", \"1970-01-01T00:00:03.500000\", \"1970-01-01T00:00:03.500000\", \"1970-01-01T00:00:04\", \"1970-01-01T00:00:04\", \"1970-01-01T00:00:05.500000\", \"1970-01-01T00:00:05.500000\", \"1970-01-01T00:00:05.500000\", \"1970-01-01T00:00:06\", \"1970-01-01T00:00:06\", \"1970-01-01T00:00:07.500000\", \"1970-01-01T00:00:07.500000\", \"1970-01-01T00:00:07.500000\"], \"y\": [\"b\", \"b\", \"b\", \"b\", null, \"b\", \"b\", \"b\", \"b\", null, \"b\", \"b\", \"b\", \"b\", null]}],                        {\"hovermode\": \"closest\", \"legend\": {\"orientation\": \"h\", \"x\": 0, \"y\": -0.2}, \"template\": {\"data\": {\"bar\": [{\"error_x\": {\"color\": \"#2a3f5f\"}, \"error_y\": {\"color\": \"#2a3f5f\"}, \"marker\": {\"line\": {\"color\": \"#E5ECF6\", \"width\": 0.5}}, \"type\": \"bar\"}], \"barpolar\": [{\"marker\": {\"line\": {\"color\": \"#E5ECF6\", \"width\": 0.5}}, \"type\": \"barpolar\"}], \"carpet\": [{\"aaxis\": {\"endlinecolor\": \"#2a3f5f\", \"gridcolor\": \"white\", \"linecolor\": \"white\", \"minorgridcolor\": \"white\", \"startlinecolor\": \"#2a3f5f\"}, \"baxis\": {\"endlinecolor\": \"#2a3f5f\", \"gridcolor\": \"white\", \"linecolor\": \"white\", \"minorgridcolor\": \"white\", \"startlinecolor\": \"#2a3f5f\"}, \"type\": \"carpet\"}], \"choropleth\": [{\"colorbar\": {\"outlinewidth\": 0, \"ticks\": \"\"}, \"type\": \"choropleth\"}], \"contour\": [{\"colorbar\": {\"outlinewidth\": 0, \"ticks\": \"\"}, \"colorscale\": [[0.0, \"#0d0887\"], [0.1111111111111111, \"#46039f\"], [0.2222222222222222, \"#7201a8\"], [0.3333333333333333, \"#9c179e\"], [0.4444444444444444, \"#bd3786\"], [0.5555555555555556, \"#d8576b\"], [0.6666666666666666, \"#ed7953\"], [0.7777777777777778, \"#fb9f3a\"], [0.8888888888888888, \"#fdca26\"], [1.0, \"#f0f921\"]], \"type\": \"contour\"}], \"contourcarpet\": [{\"colorbar\": {\"outlinewidth\": 0, \"ticks\": \"\"}, \"type\": \"contourcarpet\"}], \"heatmap\": [{\"colorbar\": {\"outlinewidth\": 0, \"ticks\": \"\"}, \"colorscale\": [[0.0, \"#0d0887\"], [0.1111111111111111, \"#46039f\"], [0.2222222222222222, \"#7201a8\"], [0.3333333333333333, \"#9c179e\"], [0.4444444444444444, \"#bd3786\"], [0.5555555555555556, \"#d8576b\"], [0.6666666666666666, \"#ed7953\"], [0.7777777777777778, \"#fb9f3a\"], [0.8888888888888888, \"#fdca26\"], [1.0, \"#f0f921\"]], \"type\": \"heatmap\"}], \"heatmapgl\": [{\"colorbar\": {\"outlinewidth\": 0, \"ticks\": \"\"}, \"colorscale\": [[0.0, \"#0d0887\"], [0.1111111111111111, \"#46039f\"], [0.2222222222222222, \"#7201a8\"], [0.3333333333333333, \"#9c179e\"], [0.4444444444444444, \"#bd3786\"], [0.5555555555555556, \"#d8576b\"], [0.6666666666666666, \"#ed7953\"], [0.7777777777777778, \"#fb9f3a\"], [0.8888888888888888, \"#fdca26\"], [1.0, \"#f0f921\"]], \"type\": \"heatmapgl\"}], \"histogram\": [{\"marker\": {\"colorbar\": {\"outlinewidth\": 0, \"ticks\": \"\"}}, \"type\": \"histogram\"}], \"histogram2d\": [{\"colorbar\": {\"outlinewidth\": 0, \"ticks\": \"\"}, \"colorscale\": [[0.0, \"#0d0887\"], [0.1111111111111111, \"#46039f\"], [0.2222222222222222, \"#7201a8\"], [0.3333333333333333, \"#9c179e\"], [0.4444444444444444, \"#bd3786\"], [0.5555555555555556, \"#d8576b\"], [0.6666666666666666, \"#ed7953\"], [0.7777777777777778, \"#fb9f3a\"], [0.8888888888888888, \"#fdca26\"], [1.0, \"#f0f921\"]], \"type\": \"histogram2d\"}], \"histogram2dcontour\": [{\"colorbar\": {\"outlinewidth\": 0, \"ticks\": \"\"}, \"colorscale\": [[0.0, \"#0d0887\"], [0.1111111111111111, \"#46039f\"], [0.2222222222222222, \"#7201a8\"], [0.3333333333333333, \"#9c179e\"], [0.4444444444444444, \"#bd3786\"], [0.5555555555555556, \"#d8576b\"], [0.6666666666666666, \"#ed7953\"], [0.7777777777777778, \"#fb9f3a\"], [0.8888888888888888, \"#fdca26\"], [1.0, \"#f0f921\"]], \"type\": \"histogram2dcontour\"}], \"mesh3d\": [{\"colorbar\": {\"outlinewidth\": 0, \"ticks\": \"\"}, \"type\": \"mesh3d\"}], \"parcoords\": [{\"line\": {\"colorbar\": {\"outlinewidth\": 0, \"ticks\": \"\"}}, \"type\": \"parcoords\"}], \"pie\": [{\"automargin\": true, \"type\": \"pie\"}], \"scatter\": [{\"marker\": {\"colorbar\": {\"outlinewidth\": 0, \"ticks\": \"\"}}, \"type\": \"scatter\"}], \"scatter3d\": [{\"line\": {\"colorbar\": {\"outlinewidth\": 0, \"ticks\": \"\"}}, \"marker\": {\"colorbar\": {\"outlinewidth\": 0, \"ticks\": \"\"}}, \"type\": \"scatter3d\"}], \"scattercarpet\": [{\"marker\": {\"colorbar\": {\"outlinewidth\": 0, \"ticks\": \"\"}}, \"type\": \"scattercarpet\"}], \"scattergeo\": [{\"marker\": {\"colorbar\": {\"outlinewidth\": 0, \"ticks\": \"\"}}, \"type\": \"scattergeo\"}], \"scattergl\": [{\"marker\": {\"colorbar\": {\"outlinewidth\": 0, \"ticks\": \"\"}}, \"type\": \"scattergl\"}], \"scattermapbox\": [{\"marker\": {\"colorbar\": {\"outlinewidth\": 0, \"ticks\": \"\"}}, \"type\": \"scattermapbox\"}], \"scatterpolar\": [{\"marker\": {\"colorbar\": {\"outlinewidth\": 0, \"ticks\": \"\"}}, \"type\": \"scatterpolar\"}], \"scatterpolargl\": [{\"marker\": {\"colorbar\": {\"outlinewidth\": 0, \"ticks\": \"\"}}, \"type\": \"scatterpolargl\"}], \"scatterternary\": [{\"marker\": {\"colorbar\": {\"outlinewidth\": 0, \"ticks\": \"\"}}, \"type\": \"scatterternary\"}], \"surface\": [{\"colorbar\": {\"outlinewidth\": 0, \"ticks\": \"\"}, \"colorscale\": [[0.0, \"#0d0887\"], [0.1111111111111111, \"#46039f\"], [0.2222222222222222, \"#7201a8\"], [0.3333333333333333, \"#9c179e\"], [0.4444444444444444, \"#bd3786\"], [0.5555555555555556, \"#d8576b\"], [0.6666666666666666, \"#ed7953\"], [0.7777777777777778, \"#fb9f3a\"], [0.8888888888888888, \"#fdca26\"], [1.0, \"#f0f921\"]], \"type\": \"surface\"}], \"table\": [{\"cells\": {\"fill\": {\"color\": \"#EBF0F8\"}, \"line\": {\"color\": \"white\"}}, \"header\": {\"fill\": {\"color\": \"#C8D4E3\"}, \"line\": {\"color\": \"white\"}}, \"type\": \"table\"}]}, \"layout\": {\"annotationdefaults\": {\"arrowcolor\": \"#2a3f5f\", \"arrowhead\": 0, \"arrowwidth\": 1}, \"coloraxis\": {\"colorbar\": {\"outlinewidth\": 0, \"ticks\": \"\"}}, \"colorscale\": {\"diverging\": [[0, \"#8e0152\"], [0.1, \"#c51b7d\"], [0.2, \"#de77ae\"], [0.3, \"#f1b6da\"], [0.4, \"#fde0ef\"], [0.5, \"#f7f7f7\"], [0.6, \"#e6f5d0\"], [0.7, \"#b8e186\"], [0.8, \"#7fbc41\"], [0.9, \"#4d9221\"], [1, \"#276419\"]], \"sequential\": [[0.0, \"#0d0887\"], [0.1111111111111111, \"#46039f\"], [0.2222222222222222, \"#7201a8\"], [0.3333333333333333, \"#9c179e\"], [0.4444444444444444, \"#bd3786\"], [0.5555555555555556, \"#d8576b\"], [0.6666666666666666, \"#ed7953\"], [0.7777777777777778, \"#fb9f3a\"], [0.8888888888888888, \"#fdca26\"], [1.0, \"#f0f921\"]], \"sequentialminus\": [[0.0, \"#0d0887\"], [0.1111111111111111, \"#46039f\"], [0.2222222222222222, \"#7201a8\"], [0.3333333333333333, \"#9c179e\"], [0.4444444444444444, \"#bd3786\"], [0.5555555555555556, \"#d8576b\"], [0.6666666666666666, \"#ed7953\"], [0.7777777777777778, \"#fb9f3a\"], [0.8888888888888888, \"#fdca26\"], [1.0, \"#f0f921\"]]}, \"colorway\": [\"#636efa\", \"#EF553B\", \"#00cc96\", \"#ab63fa\", \"#FFA15A\", \"#19d3f3\", \"#FF6692\", \"#B6E880\", \"#FF97FF\", \"#FECB52\"], \"font\": {\"color\": \"#2a3f5f\"}, \"geo\": {\"bgcolor\": \"white\", \"lakecolor\": \"white\", \"landcolor\": \"#E5ECF6\", \"showlakes\": true, \"showland\": true, \"subunitcolor\": \"white\"}, \"hoverlabel\": {\"align\": \"left\"}, \"hovermode\": \"closest\", \"mapbox\": {\"style\": \"light\"}, \"paper_bgcolor\": \"white\", \"plot_bgcolor\": \"#E5ECF6\", \"polar\": {\"angularaxis\": {\"gridcolor\": \"white\", \"linecolor\": \"white\", \"ticks\": \"\"}, \"bgcolor\": \"#E5ECF6\", \"radialaxis\": {\"gridcolor\": \"white\", \"linecolor\": \"white\", \"ticks\": \"\"}}, \"scene\": {\"xaxis\": {\"backgroundcolor\": \"#E5ECF6\", \"gridcolor\": \"white\", \"gridwidth\": 2, \"linecolor\": \"white\", \"showbackground\": true, \"ticks\": \"\", \"zerolinecolor\": \"white\"}, \"yaxis\": {\"backgroundcolor\": \"#E5ECF6\", \"gridcolor\": \"white\", \"gridwidth\": 2, \"linecolor\": \"white\", \"showbackground\": true, \"ticks\": \"\", \"zerolinecolor\": \"white\"}, \"zaxis\": {\"backgroundcolor\": \"#E5ECF6\", \"gridcolor\": \"white\", \"gridwidth\": 2, \"linecolor\": \"white\", \"showbackground\": true, \"ticks\": \"\", \"zerolinecolor\": \"white\"}}, \"shapedefaults\": {\"line\": {\"color\": \"#2a3f5f\"}}, \"ternary\": {\"aaxis\": {\"gridcolor\": \"white\", \"linecolor\": \"white\", \"ticks\": \"\"}, \"baxis\": {\"gridcolor\": \"white\", \"linecolor\": \"white\", \"ticks\": \"\"}, \"bgcolor\": \"#E5ECF6\", \"caxis\": {\"gridcolor\": \"white\", \"linecolor\": \"white\", \"ticks\": \"\"}}, \"title\": {\"x\": 0.05}, \"xaxis\": {\"automargin\": true, \"gridcolor\": \"white\", \"linecolor\": \"white\", \"ticks\": \"\", \"title\": {\"standoff\": 15}, \"zerolinecolor\": \"white\", \"zerolinewidth\": 2}, \"yaxis\": {\"automargin\": true, \"gridcolor\": \"white\", \"linecolor\": \"white\", \"ticks\": \"\", \"title\": {\"standoff\": 15}, \"zerolinecolor\": \"white\", \"zerolinewidth\": 2}}}, \"title\": {\"text\": \"GANTT Chart\"}, \"xaxis\": {\"range\": [\"1970-01-01T00:00:00\", \"1970-01-01T00:00:07.500000\"], \"title\": {\"font\": {\"color\": \"#7f7f7f\", \"family\": \"Courier New, monospace\", \"size\": 18}, \"text\": \"Time\"}}, \"yaxis\": {\"title\": {\"font\": {\"color\": \"#7f7f7f\", \"family\": \"Courier New, monospace\", \"size\": 18}, \"text\": \"Activities\"}}},                        {\"responsive\": true}                    ).then(function(){\n",
       "                            \n",
       "var gd = document.getElementById('554dfcc6-bce8-4256-ae5d-04d417dc0eb2');\n",
       "var x = new MutationObserver(function (mutations, observer) {{\n",
       "        var display = window.getComputedStyle(gd).display;\n",
       "        if (!display || display === 'none') {{\n",
       "            console.log([gd, 'removed!']);\n",
       "            Plotly.purge(gd);\n",
       "            observer.disconnect();\n",
       "        }}\n",
       "}});\n",
       "\n",
       "// Listen for the removal of the full notebook cells\n",
       "var notebookContainer = gd.closest('#notebook-container');\n",
       "if (notebookContainer) {{\n",
       "    x.observe(notebookContainer, {childList: true});\n",
       "}}\n",
       "\n",
       "// Listen for the clearing of the current output cell\n",
       "var outputEl = gd.closest('.output');\n",
       "if (outputEl) {{\n",
       "    x.observe(outputEl, {childList: true});\n",
       "}}\n",
       "\n",
       "                        })                };                });            </script>        </div>"
      ]
     },
     "metadata": {},
     "output_type": "display_data"
    }
   ],
   "source": [
    "plot.get_gantt_chart([Sc,c,Ra,a,a2,b])"
   ]
  }
 ],
 "metadata": {
  "kernelspec": {
   "display_name": "Python 3",
   "language": "python",
   "name": "python3"
  },
  "language_info": {
   "codemirror_mode": {
    "name": "ipython",
    "version": 3
   },
   "file_extension": ".py",
   "mimetype": "text/x-python",
   "name": "python",
   "nbconvert_exporter": "python",
   "pygments_lexer": "ipython3",
   "version": "3.8.6"
  }
 },
 "nbformat": 4,
 "nbformat_minor": 4
}
