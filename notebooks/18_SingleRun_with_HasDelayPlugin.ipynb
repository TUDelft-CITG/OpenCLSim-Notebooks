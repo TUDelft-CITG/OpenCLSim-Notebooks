{
 "cells": [
  {
   "cell_type": "markdown",
   "metadata": {},
   "source": [
    "## Demo: SingleRun with HasDelayPlugin\n",
    "The basic steps to set up an OpenCLSim simulation are:\n",
    "* Import libraries\n",
    "* Initialise simpy environment\n",
    "* Define object classes\n",
    "* Create objects\n",
    "  * Create sites\n",
    "  * Create vessels\n",
    "  * Create activities\n",
    "* Register processes and run simpy\n",
    "\n",
    "----\n",
    "\n",
    "This example notebook shows how you can integrate percentual delays in your simulation. We demonstrate how you can use the HasDelayPlugin, and how you can give it a certain delay percentage."
   ]
  },
  {
   "cell_type": "markdown",
   "metadata": {},
   "source": [
    "#### 0. Import libraries"
   ]
  },
  {
   "cell_type": "code",
   "execution_count": 62,
   "metadata": {},
   "outputs": [],
   "source": [
    "import datetime, time\n",
    "import simpy\n",
    "\n",
    "import shapely.geometry\n",
    "import pandas as pd\n",
    "\n",
    "import openclsim.core as core\n",
    "import openclsim.model as model\n",
    "import openclsim.plot as plot\n",
    "import openclsim.plugins as plugins"
   ]
  },
  {
   "cell_type": "markdown",
   "metadata": {},
   "source": [
    "#### 1. Initialise simpy environment"
   ]
  },
  {
   "cell_type": "code",
   "execution_count": 63,
   "metadata": {},
   "outputs": [],
   "source": [
    "# setup environment (simulation time needs to match the available weather data)\n",
    "simulation_start = 0\n",
    "my_env = simpy.Environment(initial_time=simulation_start)"
   ]
  },
  {
   "cell_type": "markdown",
   "metadata": {},
   "source": [
    "#### 2. Define object classes"
   ]
  },
  {
   "cell_type": "code",
   "execution_count": 64,
   "metadata": {},
   "outputs": [],
   "source": [
    "# create a Site object based on desired mixin classes\n",
    "Site = type(\n",
    "    \"Site\",\n",
    "    (\n",
    "        core.Identifiable,\n",
    "        core.Log,\n",
    "        core.Locatable,\n",
    "        core.HasContainer,\n",
    "        core.HasResource,\n",
    "    ),\n",
    "    {},\n",
    ")\n",
    "\n",
    "# create a TransportProcessingResource object based on desired mixin classes\n",
    "TransportProcessingResource = type(\n",
    "    \"TransportProcessingResource\",\n",
    "    (\n",
    "        core.Identifiable,\n",
    "        core.Log,\n",
    "        core.ContainerDependentMovable,\n",
    "        core.Processor,\n",
    "        core.HasResource,\n",
    "        core.LoadingFunction,\n",
    "        core.UnloadingFunction,\n",
    "    ),\n",
    "    {},\n",
    ")"
   ]
  },
  {
   "cell_type": "markdown",
   "metadata": {},
   "source": [
    "#### 3. Create objects\n",
    "##### 3.1. Create site object(s)"
   ]
  },
  {
   "cell_type": "code",
   "execution_count": 65,
   "metadata": {},
   "outputs": [],
   "source": [
    "# prepare input data for from_site\n",
    "location_from_site = shapely.geometry.Point(4.18055556, 52.18664444)\n",
    "data_from_site = {\"env\": my_env,\n",
    "                  \"name\": \"from_site\",\n",
    "                  \"geometry\": location_from_site,\n",
    "                  \"capacity\": 12,\n",
    "                  \"level\": 12\n",
    "                 }\n",
    "# instantiate from_site \n",
    "from_site = Site(**data_from_site)\n",
    "\n",
    "# prepare input data for to_site\n",
    "location_to_site = shapely.geometry.Point(4.25222222, 52.11428333)\n",
    "data_to_site = {\"env\": my_env,\n",
    "                \"name\": \"to_site\",\n",
    "                \"geometry\": location_to_site,\n",
    "                \"capacity\": 12,\n",
    "                \"level\": 0\n",
    "               }\n",
    "# instantiate to_site \n",
    "to_site = Site(**data_to_site)"
   ]
  },
  {
   "cell_type": "markdown",
   "metadata": {},
   "source": [
    "##### 3.2. Create vessel object(s)"
   ]
  },
  {
   "cell_type": "code",
   "execution_count": 66,
   "metadata": {},
   "outputs": [],
   "source": [
    "# prepare input data for vessel_01\n",
    "data_vessel01 = {\"env\": my_env,\n",
    "                 \"name\": \"vessel01\",\n",
    "                 \"geometry\": location_from_site, \n",
    "                 \"loading_rate\": 1,\n",
    "                 \"unloading_rate\": 1,\n",
    "                 \"capacity\": 4,\n",
    "                 \"compute_v\": lambda x: 10\n",
    "               }\n",
    "# instantiate vessel_01 \n",
    "vessel01 = TransportProcessingResource(**data_vessel01)"
   ]
  },
  {
   "cell_type": "markdown",
   "metadata": {},
   "source": [
    "##### 3.3 Create activity/activities"
   ]
  },
  {
   "cell_type": "code",
   "execution_count": 67,
   "metadata": {},
   "outputs": [],
   "source": [
    "# initialise registry\n",
    "registry = {}\n",
    "keep_resources = {}"
   ]
  },
  {
   "cell_type": "code",
   "execution_count": 68,
   "metadata": {},
   "outputs": [],
   "source": [
    "# create delay sequence activities\n",
    "DelaySequenceActivity =  type(\n",
    "    \"TestShiftActivity\",\n",
    "    (\n",
    "        plugins.HasDelayPlugin,\n",
    "        model.SequentialActivity,  # the order is critical!\n",
    "    ),\n",
    "    {},\n",
    ")\n",
    "\n",
    "DelayWhileActivity =  type(\n",
    "    \"TestShiftActivity\",\n",
    "    (\n",
    "        plugins.HasDelayPlugin,\n",
    "        model.WhileActivity,  # the order is critical!\n",
    "    ),\n",
    "    {},\n",
    ")\n",
    "\n",
    "DelayMoveActivity =  type(\n",
    "    \"TestMoveActivity\",\n",
    "    (\n",
    "        plugins.HasDelayPlugin,\n",
    "        model.MoveActivity,  # the order is critical!\n",
    "    ),\n",
    "    {},\n",
    ")\n",
    "\n",
    "DelayShiftActivity =  type(\n",
    "    \"TestShiftActivity\",\n",
    "    (\n",
    "        plugins.HasDelayPlugin,\n",
    "        model.ShiftAmountActivity,  # the order is critical!\n",
    "    ),\n",
    "    {},\n",
    ")\n",
    "\n",
    "DelayBasicActivity =  type(\n",
    "    \"TestShiftActivity\",\n",
    "    (\n",
    "        plugins.HasDelayPlugin,\n",
    "        model.BasicActivity,  # the order is critical!\n",
    "    ),\n",
    "    {},\n",
    ")"
   ]
  },
  {
   "cell_type": "code",
   "execution_count": 69,
   "metadata": {},
   "outputs": [],
   "source": [
    "# create a list of the sub processes\n",
    "sub_processes = [\n",
    "    DelayMoveActivity(\n",
    "        env=my_env,\n",
    "        name=\"sailing empty\",\n",
    "        registry=registry,\n",
    "        mover=vessel01,\n",
    "        destination=from_site,\n",
    "        delay_percentage=10,\n",
    "    ),\n",
    "    DelayShiftActivity(\n",
    "        env=my_env,\n",
    "        name=\"load cargo\",\n",
    "        registry=registry,\n",
    "        processor=vessel01,\n",
    "        origin=from_site,\n",
    "        destination=vessel01,\n",
    "        amount=4,\n",
    "        duration=10,\n",
    "        delay_percentage=10,\n",
    "    ),\n",
    "    DelayMoveActivity(\n",
    "        env=my_env,\n",
    "        name=\"sailing full\",\n",
    "        registry=registry,\n",
    "        mover=vessel01,\n",
    "        destination=to_site,\n",
    "        delay_percentage=10,\n",
    "    ),\n",
    "    DelayShiftActivity(\n",
    "        env=my_env,\n",
    "        name=\"unload cargo\",\n",
    "        registry=registry,\n",
    "        processor=vessel01,\n",
    "        origin=vessel01,\n",
    "        destination=to_site,\n",
    "        amount=4,\n",
    "        duration=10,\n",
    "        delay_percentage=10,\n",
    "    ),\n",
    "    DelayBasicActivity(\n",
    "        env=my_env,\n",
    "        name=\"Basic activity\",\n",
    "        registry=registry,\n",
    "        duration=0,\n",
    "        additional_logs=[vessel01],\n",
    "        delay_percentage=10,\n",
    "    ),\n",
    "]\n",
    "\n",
    "# create a 'sequential activity' that is made up of the 'sub_processes'\n",
    "sequential_activity = DelaySequenceActivity(\n",
    "    env=my_env,\n",
    "    name=\"Single run process\",\n",
    "    registry=registry,\n",
    "    sub_processes=sub_processes,\n",
    "    delay_percentage=10,\n",
    ")\n",
    "\n",
    "# create a while activity that executes the 'sequential activity' while a stop condition is not met \n",
    "while_activity = DelayWhileActivity(\n",
    "    env=my_env,\n",
    "    name=\"While activity\",\n",
    "    registry=registry,\n",
    "    sub_processes=[sequential_activity],\n",
    "    condition_event=[{\"type\": \"container\", \"concept\": to_site, \"state\": \"full\"}],\n",
    "    delay_percentage=10,\n",
    ")"
   ]
  },
  {
   "cell_type": "markdown",
   "metadata": {},
   "source": [
    "#### 4. Register processes and run simpy"
   ]
  },
  {
   "cell_type": "code",
   "execution_count": 70,
   "metadata": {},
   "outputs": [],
   "source": [
    "model.register_processes([while_activity])\n",
    "my_env.run()"
   ]
  },
  {
   "cell_type": "markdown",
   "metadata": {},
   "source": [
    "#### 5. Inspect results\n",
    "##### 5.1 Inspect logs"
   ]
  },
  {
   "cell_type": "code",
   "execution_count": 71,
   "metadata": {},
   "outputs": [
    {
     "data": {
      "text/html": [
       "<div>\n",
       "<style scoped>\n",
       "    .dataframe tbody tr th:only-of-type {\n",
       "        vertical-align: middle;\n",
       "    }\n",
       "\n",
       "    .dataframe tbody tr th {\n",
       "        vertical-align: top;\n",
       "    }\n",
       "\n",
       "    .dataframe thead th {\n",
       "        text-align: right;\n",
       "    }\n",
       "</style>\n",
       "<table border=\"1\" class=\"dataframe\">\n",
       "  <thead>\n",
       "    <tr style=\"text-align: right;\">\n",
       "      <th></th>\n",
       "      <th>Activity</th>\n",
       "      <th>Timestamp</th>\n",
       "      <th>ActivityState</th>\n",
       "      <th>type</th>\n",
       "      <th>ref</th>\n",
       "    </tr>\n",
       "  </thead>\n",
       "  <tbody>\n",
       "    <tr>\n",
       "      <th>0</th>\n",
       "      <td>sailing empty</td>\n",
       "      <td>1970-01-01 00:00:00.000000</td>\n",
       "      <td>START</td>\n",
       "      <td>NaN</td>\n",
       "      <td>NaN</td>\n",
       "    </tr>\n",
       "    <tr>\n",
       "      <th>1</th>\n",
       "      <td>sailing empty</td>\n",
       "      <td>1970-01-01 00:00:00.000000</td>\n",
       "      <td>STOP</td>\n",
       "      <td>NaN</td>\n",
       "      <td>NaN</td>\n",
       "    </tr>\n",
       "    <tr>\n",
       "      <th>2</th>\n",
       "      <td>sailing empty</td>\n",
       "      <td>1970-01-01 00:00:00.000000</td>\n",
       "      <td>WAIT_START</td>\n",
       "      <td>plugin</td>\n",
       "      <td>delay</td>\n",
       "    </tr>\n",
       "    <tr>\n",
       "      <th>3</th>\n",
       "      <td>sailing empty</td>\n",
       "      <td>1970-01-01 00:00:00.000000</td>\n",
       "      <td>WAIT_STOP</td>\n",
       "      <td>plugin</td>\n",
       "      <td>delay</td>\n",
       "    </tr>\n",
       "    <tr>\n",
       "      <th>0</th>\n",
       "      <td>load cargo</td>\n",
       "      <td>1970-01-01 00:00:00.000000</td>\n",
       "      <td>START</td>\n",
       "      <td>NaN</td>\n",
       "      <td>NaN</td>\n",
       "    </tr>\n",
       "    <tr>\n",
       "      <th>1</th>\n",
       "      <td>load cargo</td>\n",
       "      <td>1970-01-01 00:00:10.000000</td>\n",
       "      <td>STOP</td>\n",
       "      <td>NaN</td>\n",
       "      <td>NaN</td>\n",
       "    </tr>\n",
       "    <tr>\n",
       "      <th>2</th>\n",
       "      <td>load cargo</td>\n",
       "      <td>1970-01-01 00:00:10.000000</td>\n",
       "      <td>WAIT_START</td>\n",
       "      <td>plugin</td>\n",
       "      <td>delay</td>\n",
       "    </tr>\n",
       "    <tr>\n",
       "      <th>3</th>\n",
       "      <td>load cargo</td>\n",
       "      <td>1970-01-01 00:00:11.000000</td>\n",
       "      <td>WAIT_STOP</td>\n",
       "      <td>plugin</td>\n",
       "      <td>delay</td>\n",
       "    </tr>\n",
       "    <tr>\n",
       "      <th>0</th>\n",
       "      <td>sailing full</td>\n",
       "      <td>1970-01-01 00:00:11.000000</td>\n",
       "      <td>START</td>\n",
       "      <td>NaN</td>\n",
       "      <td>NaN</td>\n",
       "    </tr>\n",
       "    <tr>\n",
       "      <th>2</th>\n",
       "      <td>sailing full</td>\n",
       "      <td>1970-01-01 00:15:53.824591</td>\n",
       "      <td>WAIT_START</td>\n",
       "      <td>plugin</td>\n",
       "      <td>delay</td>\n",
       "    </tr>\n",
       "    <tr>\n",
       "      <th>1</th>\n",
       "      <td>sailing full</td>\n",
       "      <td>1970-01-01 00:15:53.824591</td>\n",
       "      <td>STOP</td>\n",
       "      <td>NaN</td>\n",
       "      <td>NaN</td>\n",
       "    </tr>\n",
       "    <tr>\n",
       "      <th>3</th>\n",
       "      <td>sailing full</td>\n",
       "      <td>1970-01-01 00:17:28.107050</td>\n",
       "      <td>WAIT_STOP</td>\n",
       "      <td>plugin</td>\n",
       "      <td>delay</td>\n",
       "    </tr>\n",
       "    <tr>\n",
       "      <th>0</th>\n",
       "      <td>unload cargo</td>\n",
       "      <td>1970-01-01 00:17:28.107050</td>\n",
       "      <td>START</td>\n",
       "      <td>NaN</td>\n",
       "      <td>NaN</td>\n",
       "    </tr>\n",
       "    <tr>\n",
       "      <th>2</th>\n",
       "      <td>unload cargo</td>\n",
       "      <td>1970-01-01 00:17:38.107050</td>\n",
       "      <td>WAIT_START</td>\n",
       "      <td>plugin</td>\n",
       "      <td>delay</td>\n",
       "    </tr>\n",
       "    <tr>\n",
       "      <th>1</th>\n",
       "      <td>unload cargo</td>\n",
       "      <td>1970-01-01 00:17:38.107050</td>\n",
       "      <td>STOP</td>\n",
       "      <td>NaN</td>\n",
       "      <td>NaN</td>\n",
       "    </tr>\n",
       "    <tr>\n",
       "      <th>2</th>\n",
       "      <td>Basic activity</td>\n",
       "      <td>1970-01-01 00:17:39.107050</td>\n",
       "      <td>WAIT_START</td>\n",
       "      <td>plugin</td>\n",
       "      <td>delay</td>\n",
       "    </tr>\n",
       "    <tr>\n",
       "      <th>1</th>\n",
       "      <td>Basic activity</td>\n",
       "      <td>1970-01-01 00:17:39.107050</td>\n",
       "      <td>STOP</td>\n",
       "      <td>NaN</td>\n",
       "      <td>NaN</td>\n",
       "    </tr>\n",
       "    <tr>\n",
       "      <th>0</th>\n",
       "      <td>Basic activity</td>\n",
       "      <td>1970-01-01 00:17:39.107050</td>\n",
       "      <td>START</td>\n",
       "      <td>NaN</td>\n",
       "      <td>NaN</td>\n",
       "    </tr>\n",
       "    <tr>\n",
       "      <th>3</th>\n",
       "      <td>unload cargo</td>\n",
       "      <td>1970-01-01 00:17:39.107050</td>\n",
       "      <td>WAIT_STOP</td>\n",
       "      <td>plugin</td>\n",
       "      <td>delay</td>\n",
       "    </tr>\n",
       "    <tr>\n",
       "      <th>3</th>\n",
       "      <td>Basic activity</td>\n",
       "      <td>1970-01-01 00:17:39.107050</td>\n",
       "      <td>WAIT_STOP</td>\n",
       "      <td>plugin</td>\n",
       "      <td>delay</td>\n",
       "    </tr>\n",
       "    <tr>\n",
       "      <th>4</th>\n",
       "      <td>sailing empty</td>\n",
       "      <td>1970-01-01 00:19:25.017755</td>\n",
       "      <td>START</td>\n",
       "      <td>NaN</td>\n",
       "      <td>NaN</td>\n",
       "    </tr>\n",
       "    <tr>\n",
       "      <th>5</th>\n",
       "      <td>sailing empty</td>\n",
       "      <td>1970-01-01 00:35:07.842347</td>\n",
       "      <td>STOP</td>\n",
       "      <td>NaN</td>\n",
       "      <td>NaN</td>\n",
       "    </tr>\n",
       "    <tr>\n",
       "      <th>6</th>\n",
       "      <td>sailing empty</td>\n",
       "      <td>1970-01-01 00:35:07.842347</td>\n",
       "      <td>WAIT_START</td>\n",
       "      <td>plugin</td>\n",
       "      <td>delay</td>\n",
       "    </tr>\n",
       "    <tr>\n",
       "      <th>4</th>\n",
       "      <td>load cargo</td>\n",
       "      <td>1970-01-01 00:36:42.124806</td>\n",
       "      <td>START</td>\n",
       "      <td>NaN</td>\n",
       "      <td>NaN</td>\n",
       "    </tr>\n",
       "    <tr>\n",
       "      <th>7</th>\n",
       "      <td>sailing empty</td>\n",
       "      <td>1970-01-01 00:36:42.124806</td>\n",
       "      <td>WAIT_STOP</td>\n",
       "      <td>plugin</td>\n",
       "      <td>delay</td>\n",
       "    </tr>\n",
       "    <tr>\n",
       "      <th>6</th>\n",
       "      <td>load cargo</td>\n",
       "      <td>1970-01-01 00:36:52.124806</td>\n",
       "      <td>WAIT_START</td>\n",
       "      <td>plugin</td>\n",
       "      <td>delay</td>\n",
       "    </tr>\n",
       "    <tr>\n",
       "      <th>5</th>\n",
       "      <td>load cargo</td>\n",
       "      <td>1970-01-01 00:36:52.124806</td>\n",
       "      <td>STOP</td>\n",
       "      <td>NaN</td>\n",
       "      <td>NaN</td>\n",
       "    </tr>\n",
       "    <tr>\n",
       "      <th>4</th>\n",
       "      <td>sailing full</td>\n",
       "      <td>1970-01-01 00:36:53.124806</td>\n",
       "      <td>START</td>\n",
       "      <td>NaN</td>\n",
       "      <td>NaN</td>\n",
       "    </tr>\n",
       "    <tr>\n",
       "      <th>7</th>\n",
       "      <td>load cargo</td>\n",
       "      <td>1970-01-01 00:36:53.124806</td>\n",
       "      <td>WAIT_STOP</td>\n",
       "      <td>plugin</td>\n",
       "      <td>delay</td>\n",
       "    </tr>\n",
       "    <tr>\n",
       "      <th>6</th>\n",
       "      <td>sailing full</td>\n",
       "      <td>1970-01-01 00:52:35.949397</td>\n",
       "      <td>WAIT_START</td>\n",
       "      <td>plugin</td>\n",
       "      <td>delay</td>\n",
       "    </tr>\n",
       "    <tr>\n",
       "      <th>5</th>\n",
       "      <td>sailing full</td>\n",
       "      <td>1970-01-01 00:52:35.949397</td>\n",
       "      <td>STOP</td>\n",
       "      <td>NaN</td>\n",
       "      <td>NaN</td>\n",
       "    </tr>\n",
       "    <tr>\n",
       "      <th>7</th>\n",
       "      <td>sailing full</td>\n",
       "      <td>1970-01-01 00:54:10.231856</td>\n",
       "      <td>WAIT_STOP</td>\n",
       "      <td>plugin</td>\n",
       "      <td>delay</td>\n",
       "    </tr>\n",
       "    <tr>\n",
       "      <th>4</th>\n",
       "      <td>unload cargo</td>\n",
       "      <td>1970-01-01 00:54:10.231856</td>\n",
       "      <td>START</td>\n",
       "      <td>NaN</td>\n",
       "      <td>NaN</td>\n",
       "    </tr>\n",
       "    <tr>\n",
       "      <th>6</th>\n",
       "      <td>unload cargo</td>\n",
       "      <td>1970-01-01 00:54:20.231856</td>\n",
       "      <td>WAIT_START</td>\n",
       "      <td>plugin</td>\n",
       "      <td>delay</td>\n",
       "    </tr>\n",
       "    <tr>\n",
       "      <th>5</th>\n",
       "      <td>unload cargo</td>\n",
       "      <td>1970-01-01 00:54:20.231856</td>\n",
       "      <td>STOP</td>\n",
       "      <td>NaN</td>\n",
       "      <td>NaN</td>\n",
       "    </tr>\n",
       "    <tr>\n",
       "      <th>7</th>\n",
       "      <td>unload cargo</td>\n",
       "      <td>1970-01-01 00:54:21.231856</td>\n",
       "      <td>WAIT_STOP</td>\n",
       "      <td>plugin</td>\n",
       "      <td>delay</td>\n",
       "    </tr>\n",
       "    <tr>\n",
       "      <th>5</th>\n",
       "      <td>Basic activity</td>\n",
       "      <td>1970-01-01 00:54:21.231856</td>\n",
       "      <td>STOP</td>\n",
       "      <td>NaN</td>\n",
       "      <td>NaN</td>\n",
       "    </tr>\n",
       "    <tr>\n",
       "      <th>6</th>\n",
       "      <td>Basic activity</td>\n",
       "      <td>1970-01-01 00:54:21.231856</td>\n",
       "      <td>WAIT_START</td>\n",
       "      <td>plugin</td>\n",
       "      <td>delay</td>\n",
       "    </tr>\n",
       "    <tr>\n",
       "      <th>7</th>\n",
       "      <td>Basic activity</td>\n",
       "      <td>1970-01-01 00:54:21.231856</td>\n",
       "      <td>WAIT_STOP</td>\n",
       "      <td>plugin</td>\n",
       "      <td>delay</td>\n",
       "    </tr>\n",
       "    <tr>\n",
       "      <th>4</th>\n",
       "      <td>Basic activity</td>\n",
       "      <td>1970-01-01 00:54:21.231856</td>\n",
       "      <td>START</td>\n",
       "      <td>NaN</td>\n",
       "      <td>NaN</td>\n",
       "    </tr>\n",
       "    <tr>\n",
       "      <th>8</th>\n",
       "      <td>sailing empty</td>\n",
       "      <td>1970-01-01 00:57:50.853266</td>\n",
       "      <td>START</td>\n",
       "      <td>NaN</td>\n",
       "      <td>NaN</td>\n",
       "    </tr>\n",
       "    <tr>\n",
       "      <th>10</th>\n",
       "      <td>sailing empty</td>\n",
       "      <td>1970-01-01 01:13:33.677858</td>\n",
       "      <td>WAIT_START</td>\n",
       "      <td>plugin</td>\n",
       "      <td>delay</td>\n",
       "    </tr>\n",
       "    <tr>\n",
       "      <th>9</th>\n",
       "      <td>sailing empty</td>\n",
       "      <td>1970-01-01 01:13:33.677858</td>\n",
       "      <td>STOP</td>\n",
       "      <td>NaN</td>\n",
       "      <td>NaN</td>\n",
       "    </tr>\n",
       "    <tr>\n",
       "      <th>11</th>\n",
       "      <td>sailing empty</td>\n",
       "      <td>1970-01-01 01:15:07.960317</td>\n",
       "      <td>WAIT_STOP</td>\n",
       "      <td>plugin</td>\n",
       "      <td>delay</td>\n",
       "    </tr>\n",
       "    <tr>\n",
       "      <th>8</th>\n",
       "      <td>load cargo</td>\n",
       "      <td>1970-01-01 01:15:07.960317</td>\n",
       "      <td>START</td>\n",
       "      <td>NaN</td>\n",
       "      <td>NaN</td>\n",
       "    </tr>\n",
       "    <tr>\n",
       "      <th>9</th>\n",
       "      <td>load cargo</td>\n",
       "      <td>1970-01-01 01:15:17.960317</td>\n",
       "      <td>STOP</td>\n",
       "      <td>NaN</td>\n",
       "      <td>NaN</td>\n",
       "    </tr>\n",
       "    <tr>\n",
       "      <th>10</th>\n",
       "      <td>load cargo</td>\n",
       "      <td>1970-01-01 01:15:17.960317</td>\n",
       "      <td>WAIT_START</td>\n",
       "      <td>plugin</td>\n",
       "      <td>delay</td>\n",
       "    </tr>\n",
       "    <tr>\n",
       "      <th>8</th>\n",
       "      <td>sailing full</td>\n",
       "      <td>1970-01-01 01:15:18.960317</td>\n",
       "      <td>START</td>\n",
       "      <td>NaN</td>\n",
       "      <td>NaN</td>\n",
       "    </tr>\n",
       "    <tr>\n",
       "      <th>11</th>\n",
       "      <td>load cargo</td>\n",
       "      <td>1970-01-01 01:15:18.960317</td>\n",
       "      <td>WAIT_STOP</td>\n",
       "      <td>plugin</td>\n",
       "      <td>delay</td>\n",
       "    </tr>\n",
       "    <tr>\n",
       "      <th>9</th>\n",
       "      <td>sailing full</td>\n",
       "      <td>1970-01-01 01:31:01.784908</td>\n",
       "      <td>STOP</td>\n",
       "      <td>NaN</td>\n",
       "      <td>NaN</td>\n",
       "    </tr>\n",
       "    <tr>\n",
       "      <th>10</th>\n",
       "      <td>sailing full</td>\n",
       "      <td>1970-01-01 01:31:01.784908</td>\n",
       "      <td>WAIT_START</td>\n",
       "      <td>plugin</td>\n",
       "      <td>delay</td>\n",
       "    </tr>\n",
       "    <tr>\n",
       "      <th>8</th>\n",
       "      <td>unload cargo</td>\n",
       "      <td>1970-01-01 01:32:36.067367</td>\n",
       "      <td>START</td>\n",
       "      <td>NaN</td>\n",
       "      <td>NaN</td>\n",
       "    </tr>\n",
       "    <tr>\n",
       "      <th>11</th>\n",
       "      <td>sailing full</td>\n",
       "      <td>1970-01-01 01:32:36.067367</td>\n",
       "      <td>WAIT_STOP</td>\n",
       "      <td>plugin</td>\n",
       "      <td>delay</td>\n",
       "    </tr>\n",
       "    <tr>\n",
       "      <th>9</th>\n",
       "      <td>unload cargo</td>\n",
       "      <td>1970-01-01 01:32:46.067367</td>\n",
       "      <td>STOP</td>\n",
       "      <td>NaN</td>\n",
       "      <td>NaN</td>\n",
       "    </tr>\n",
       "    <tr>\n",
       "      <th>10</th>\n",
       "      <td>unload cargo</td>\n",
       "      <td>1970-01-01 01:32:46.067367</td>\n",
       "      <td>WAIT_START</td>\n",
       "      <td>plugin</td>\n",
       "      <td>delay</td>\n",
       "    </tr>\n",
       "    <tr>\n",
       "      <th>10</th>\n",
       "      <td>Basic activity</td>\n",
       "      <td>1970-01-01 01:32:47.067367</td>\n",
       "      <td>WAIT_START</td>\n",
       "      <td>plugin</td>\n",
       "      <td>delay</td>\n",
       "    </tr>\n",
       "    <tr>\n",
       "      <th>8</th>\n",
       "      <td>Basic activity</td>\n",
       "      <td>1970-01-01 01:32:47.067367</td>\n",
       "      <td>START</td>\n",
       "      <td>NaN</td>\n",
       "      <td>NaN</td>\n",
       "    </tr>\n",
       "    <tr>\n",
       "      <th>9</th>\n",
       "      <td>Basic activity</td>\n",
       "      <td>1970-01-01 01:32:47.067367</td>\n",
       "      <td>STOP</td>\n",
       "      <td>NaN</td>\n",
       "      <td>NaN</td>\n",
       "    </tr>\n",
       "    <tr>\n",
       "      <th>11</th>\n",
       "      <td>unload cargo</td>\n",
       "      <td>1970-01-01 01:32:47.067367</td>\n",
       "      <td>WAIT_STOP</td>\n",
       "      <td>plugin</td>\n",
       "      <td>delay</td>\n",
       "    </tr>\n",
       "    <tr>\n",
       "      <th>11</th>\n",
       "      <td>Basic activity</td>\n",
       "      <td>1970-01-01 01:32:47.067367</td>\n",
       "      <td>WAIT_STOP</td>\n",
       "      <td>plugin</td>\n",
       "      <td>delay</td>\n",
       "    </tr>\n",
       "  </tbody>\n",
       "</table>\n",
       "</div>"
      ],
      "text/plain": [
       "          Activity                  Timestamp ActivityState    type    ref\n",
       "0    sailing empty 1970-01-01 00:00:00.000000         START     NaN    NaN\n",
       "1    sailing empty 1970-01-01 00:00:00.000000          STOP     NaN    NaN\n",
       "2    sailing empty 1970-01-01 00:00:00.000000    WAIT_START  plugin  delay\n",
       "3    sailing empty 1970-01-01 00:00:00.000000     WAIT_STOP  plugin  delay\n",
       "0       load cargo 1970-01-01 00:00:00.000000         START     NaN    NaN\n",
       "1       load cargo 1970-01-01 00:00:10.000000          STOP     NaN    NaN\n",
       "2       load cargo 1970-01-01 00:00:10.000000    WAIT_START  plugin  delay\n",
       "3       load cargo 1970-01-01 00:00:11.000000     WAIT_STOP  plugin  delay\n",
       "0     sailing full 1970-01-01 00:00:11.000000         START     NaN    NaN\n",
       "2     sailing full 1970-01-01 00:15:53.824591    WAIT_START  plugin  delay\n",
       "1     sailing full 1970-01-01 00:15:53.824591          STOP     NaN    NaN\n",
       "3     sailing full 1970-01-01 00:17:28.107050     WAIT_STOP  plugin  delay\n",
       "0     unload cargo 1970-01-01 00:17:28.107050         START     NaN    NaN\n",
       "2     unload cargo 1970-01-01 00:17:38.107050    WAIT_START  plugin  delay\n",
       "1     unload cargo 1970-01-01 00:17:38.107050          STOP     NaN    NaN\n",
       "2   Basic activity 1970-01-01 00:17:39.107050    WAIT_START  plugin  delay\n",
       "1   Basic activity 1970-01-01 00:17:39.107050          STOP     NaN    NaN\n",
       "0   Basic activity 1970-01-01 00:17:39.107050         START     NaN    NaN\n",
       "3     unload cargo 1970-01-01 00:17:39.107050     WAIT_STOP  plugin  delay\n",
       "3   Basic activity 1970-01-01 00:17:39.107050     WAIT_STOP  plugin  delay\n",
       "4    sailing empty 1970-01-01 00:19:25.017755         START     NaN    NaN\n",
       "5    sailing empty 1970-01-01 00:35:07.842347          STOP     NaN    NaN\n",
       "6    sailing empty 1970-01-01 00:35:07.842347    WAIT_START  plugin  delay\n",
       "4       load cargo 1970-01-01 00:36:42.124806         START     NaN    NaN\n",
       "7    sailing empty 1970-01-01 00:36:42.124806     WAIT_STOP  plugin  delay\n",
       "6       load cargo 1970-01-01 00:36:52.124806    WAIT_START  plugin  delay\n",
       "5       load cargo 1970-01-01 00:36:52.124806          STOP     NaN    NaN\n",
       "4     sailing full 1970-01-01 00:36:53.124806         START     NaN    NaN\n",
       "7       load cargo 1970-01-01 00:36:53.124806     WAIT_STOP  plugin  delay\n",
       "6     sailing full 1970-01-01 00:52:35.949397    WAIT_START  plugin  delay\n",
       "5     sailing full 1970-01-01 00:52:35.949397          STOP     NaN    NaN\n",
       "7     sailing full 1970-01-01 00:54:10.231856     WAIT_STOP  plugin  delay\n",
       "4     unload cargo 1970-01-01 00:54:10.231856         START     NaN    NaN\n",
       "6     unload cargo 1970-01-01 00:54:20.231856    WAIT_START  plugin  delay\n",
       "5     unload cargo 1970-01-01 00:54:20.231856          STOP     NaN    NaN\n",
       "7     unload cargo 1970-01-01 00:54:21.231856     WAIT_STOP  plugin  delay\n",
       "5   Basic activity 1970-01-01 00:54:21.231856          STOP     NaN    NaN\n",
       "6   Basic activity 1970-01-01 00:54:21.231856    WAIT_START  plugin  delay\n",
       "7   Basic activity 1970-01-01 00:54:21.231856     WAIT_STOP  plugin  delay\n",
       "4   Basic activity 1970-01-01 00:54:21.231856         START     NaN    NaN\n",
       "8    sailing empty 1970-01-01 00:57:50.853266         START     NaN    NaN\n",
       "10   sailing empty 1970-01-01 01:13:33.677858    WAIT_START  plugin  delay\n",
       "9    sailing empty 1970-01-01 01:13:33.677858          STOP     NaN    NaN\n",
       "11   sailing empty 1970-01-01 01:15:07.960317     WAIT_STOP  plugin  delay\n",
       "8       load cargo 1970-01-01 01:15:07.960317         START     NaN    NaN\n",
       "9       load cargo 1970-01-01 01:15:17.960317          STOP     NaN    NaN\n",
       "10      load cargo 1970-01-01 01:15:17.960317    WAIT_START  plugin  delay\n",
       "8     sailing full 1970-01-01 01:15:18.960317         START     NaN    NaN\n",
       "11      load cargo 1970-01-01 01:15:18.960317     WAIT_STOP  plugin  delay\n",
       "9     sailing full 1970-01-01 01:31:01.784908          STOP     NaN    NaN\n",
       "10    sailing full 1970-01-01 01:31:01.784908    WAIT_START  plugin  delay\n",
       "8     unload cargo 1970-01-01 01:32:36.067367         START     NaN    NaN\n",
       "11    sailing full 1970-01-01 01:32:36.067367     WAIT_STOP  plugin  delay\n",
       "9     unload cargo 1970-01-01 01:32:46.067367          STOP     NaN    NaN\n",
       "10    unload cargo 1970-01-01 01:32:46.067367    WAIT_START  plugin  delay\n",
       "10  Basic activity 1970-01-01 01:32:47.067367    WAIT_START  plugin  delay\n",
       "8   Basic activity 1970-01-01 01:32:47.067367         START     NaN    NaN\n",
       "9   Basic activity 1970-01-01 01:32:47.067367          STOP     NaN    NaN\n",
       "11    unload cargo 1970-01-01 01:32:47.067367     WAIT_STOP  plugin  delay\n",
       "11  Basic activity 1970-01-01 01:32:47.067367     WAIT_STOP  plugin  delay"
      ]
     },
     "execution_count": 71,
     "metadata": {},
     "output_type": "execute_result"
    }
   ],
   "source": [
    "pd.concat([plot.get_log_dataframe(act, [while_activity, sequential_activity, *sub_processes]) for act in sub_processes]).sort_values(by='Timestamp')"
   ]
  },
  {
   "cell_type": "markdown",
   "metadata": {},
   "source": [
    "##### 5.2 Visualise gantt charts"
   ]
  },
  {
   "cell_type": "code",
   "execution_count": 72,
   "metadata": {},
   "outputs": [
    {
     "data": {
      "text/html": [
       "        <script type=\"text/javascript\">\n",
       "        window.PlotlyConfig = {MathJaxConfig: 'local'};\n",
       "        if (window.MathJax) {MathJax.Hub.Config({SVG: {font: \"STIX-Web\"}});}\n",
       "        if (typeof require !== 'undefined') {\n",
       "        require.undef(\"plotly\");\n",
       "        requirejs.config({\n",
       "            paths: {\n",
       "                'plotly': ['https://cdn.plot.ly/plotly-latest.min']\n",
       "            }\n",
       "        });\n",
       "        require(['plotly'], function(Plotly) {\n",
       "            window._Plotly = Plotly;\n",
       "        });\n",
       "        }\n",
       "        </script>\n",
       "        "
      ]
     },
     "metadata": {},
     "output_type": "display_data"
    },
    {
     "data": {
      "application/vnd.plotly.v1+json": {
       "config": {
        "linkText": "Export to plot.ly",
        "plotlyServerURL": "https://plot.ly",
        "showLink": false
       },
       "data": [
        {
         "connectgaps": false,
         "hoverinfo": "y+name",
         "line": {
          "color": "rgb(168,46,229)",
          "width": 10
         },
         "mode": "lines",
         "name": "While activity",
         "type": "scatter",
         "x": [
          "1970-01-01T00:00:00",
          "1970-01-01T00:00:00",
          "1970-01-01T00:19:25.017755",
          "1970-01-01T00:19:25.017755",
          "1970-01-01T00:19:25.017755",
          "1970-01-01T00:19:25.017755",
          "1970-01-01T00:19:25.017755",
          "1970-01-01T00:57:50.853266",
          "1970-01-01T00:57:50.853266",
          "1970-01-01T00:57:50.853266",
          "1970-01-01T00:57:50.853266",
          "1970-01-01T00:57:50.853266",
          "1970-01-01T01:36:16.688777",
          "1970-01-01T01:36:16.688777",
          "1970-01-01T01:36:16.688777",
          "1970-01-01T00:57:50.853266",
          "1970-01-01T00:57:50.853266",
          "1970-01-01T01:36:16.688777",
          "1970-01-01T01:36:16.688777",
          "1970-01-01T01:36:16.688777"
         ],
         "y": [
          "While activity",
          "While activity",
          "While activity",
          "While activity",
          null,
          "While activity",
          "While activity",
          "While activity",
          "While activity",
          null,
          "While activity",
          "While activity",
          "While activity",
          "While activity",
          null,
          "While activity",
          "While activity",
          "While activity",
          "While activity",
          null
         ]
        },
        {
         "connectgaps": false,
         "hoverinfo": "y+name",
         "line": {
          "color": "rgb(186,64,247)",
          "width": 10
         },
         "mode": "lines",
         "name": "Single run process",
         "type": "scatter",
         "x": [
          "1970-01-01T00:00:00",
          "1970-01-01T00:00:00",
          "1970-01-01T00:00:00",
          "1970-01-01T00:00:00",
          "1970-01-01T00:00:00",
          "1970-01-01T00:00:00",
          "1970-01-01T00:00:00",
          "1970-01-01T00:00:11",
          "1970-01-01T00:00:11",
          "1970-01-01T00:00:11",
          "1970-01-01T00:00:11",
          "1970-01-01T00:00:11",
          "1970-01-01T00:17:28.107050",
          "1970-01-01T00:17:28.107050",
          "1970-01-01T00:17:28.107050",
          "1970-01-01T00:17:28.107050",
          "1970-01-01T00:17:28.107050",
          "1970-01-01T00:17:39.107050",
          "1970-01-01T00:17:39.107050",
          "1970-01-01T00:17:39.107050",
          "1970-01-01T00:17:39.107050",
          "1970-01-01T00:17:39.107050",
          "1970-01-01T00:17:39.107050",
          "1970-01-01T00:17:39.107050",
          "1970-01-01T00:17:39.107050",
          "1970-01-01T00:17:39.107050",
          "1970-01-01T00:17:39.107050",
          "1970-01-01T00:17:39.107050",
          "1970-01-01T00:17:39.107050",
          "1970-01-01T00:17:39.107050",
          "1970-01-01T00:19:25.017755",
          "1970-01-01T00:19:25.017755",
          "1970-01-01T00:36:42.124806",
          "1970-01-01T00:36:42.124806",
          "1970-01-01T00:36:42.124806",
          "1970-01-01T00:36:42.124806",
          "1970-01-01T00:36:42.124806",
          "1970-01-01T00:36:53.124806",
          "1970-01-01T00:36:53.124806",
          "1970-01-01T00:36:53.124806",
          "1970-01-01T00:36:53.124806",
          "1970-01-01T00:36:53.124806",
          "1970-01-01T00:54:10.231856",
          "1970-01-01T00:54:10.231856",
          "1970-01-01T00:54:10.231856",
          "1970-01-01T00:54:10.231856",
          "1970-01-01T00:54:10.231856",
          "1970-01-01T00:54:21.231856",
          "1970-01-01T00:54:21.231856",
          "1970-01-01T00:54:21.231856",
          "1970-01-01T00:54:21.231856",
          "1970-01-01T00:54:21.231856",
          "1970-01-01T00:54:21.231856",
          "1970-01-01T00:54:21.231856",
          "1970-01-01T00:54:21.231856",
          "1970-01-01T00:54:21.231856",
          "1970-01-01T00:54:21.231856",
          "1970-01-01T00:54:21.231856",
          "1970-01-01T00:54:21.231856",
          "1970-01-01T00:54:21.231856",
          "1970-01-01T00:57:50.853266",
          "1970-01-01T00:57:50.853266",
          "1970-01-01T01:15:07.960317",
          "1970-01-01T01:15:07.960317",
          "1970-01-01T01:15:07.960317",
          "1970-01-01T01:15:07.960317",
          "1970-01-01T01:15:07.960317",
          "1970-01-01T01:15:18.960317",
          "1970-01-01T01:15:18.960317",
          "1970-01-01T01:15:18.960317",
          "1970-01-01T01:15:18.960317",
          "1970-01-01T01:15:18.960317",
          "1970-01-01T01:32:36.067367",
          "1970-01-01T01:32:36.067367",
          "1970-01-01T01:32:36.067367",
          "1970-01-01T01:32:36.067367",
          "1970-01-01T01:32:36.067367",
          "1970-01-01T01:32:47.067367",
          "1970-01-01T01:32:47.067367",
          "1970-01-01T01:32:47.067367",
          "1970-01-01T01:32:47.067367",
          "1970-01-01T01:32:47.067367",
          "1970-01-01T01:32:47.067367",
          "1970-01-01T01:32:47.067367",
          "1970-01-01T01:32:47.067367",
          "1970-01-01T01:32:47.067367",
          "1970-01-01T01:32:47.067367",
          "1970-01-01T01:32:47.067367",
          "1970-01-01T01:32:47.067367",
          "1970-01-01T01:32:47.067367"
         ],
         "y": [
          "Single run process",
          "Single run process",
          "Single run process",
          "Single run process",
          null,
          "Single run process",
          "Single run process",
          "Single run process",
          "Single run process",
          null,
          "Single run process",
          "Single run process",
          "Single run process",
          "Single run process",
          null,
          "Single run process",
          "Single run process",
          "Single run process",
          "Single run process",
          null,
          "Single run process",
          "Single run process",
          "Single run process",
          "Single run process",
          null,
          "Single run process",
          "Single run process",
          "Single run process",
          "Single run process",
          null,
          "Single run process",
          "Single run process",
          "Single run process",
          "Single run process",
          null,
          "Single run process",
          "Single run process",
          "Single run process",
          "Single run process",
          null,
          "Single run process",
          "Single run process",
          "Single run process",
          "Single run process",
          null,
          "Single run process",
          "Single run process",
          "Single run process",
          "Single run process",
          null,
          "Single run process",
          "Single run process",
          "Single run process",
          "Single run process",
          null,
          "Single run process",
          "Single run process",
          "Single run process",
          "Single run process",
          null,
          "Single run process",
          "Single run process",
          "Single run process",
          "Single run process",
          null,
          "Single run process",
          "Single run process",
          "Single run process",
          "Single run process",
          null,
          "Single run process",
          "Single run process",
          "Single run process",
          "Single run process",
          null,
          "Single run process",
          "Single run process",
          "Single run process",
          "Single run process",
          null,
          "Single run process",
          "Single run process",
          "Single run process",
          "Single run process",
          null,
          "Single run process",
          "Single run process",
          "Single run process",
          "Single run process",
          null
         ]
        },
        {
         "connectgaps": false,
         "hoverinfo": "y+name",
         "line": {
          "color": "rgb(204,82,9)",
          "width": 10
         },
         "mode": "lines",
         "name": "load cargo",
         "type": "scatter",
         "x": [
          "1970-01-01T00:00:00",
          "1970-01-01T00:00:00",
          "1970-01-01T00:00:10",
          "1970-01-01T00:00:10",
          "1970-01-01T00:00:10",
          "1970-01-01T00:36:42.124806",
          "1970-01-01T00:36:42.124806",
          "1970-01-01T00:36:52.124806",
          "1970-01-01T00:36:52.124806",
          "1970-01-01T00:36:52.124806",
          "1970-01-01T01:15:07.960317",
          "1970-01-01T01:15:07.960317",
          "1970-01-01T01:15:17.960317",
          "1970-01-01T01:15:17.960317",
          "1970-01-01T01:15:17.960317",
          "1970-01-01T00:00:00",
          "1970-01-01T00:00:00",
          "1970-01-01T00:00:10",
          "1970-01-01T00:00:10",
          "1970-01-01T00:00:10",
          "1970-01-01T00:36:42.124806",
          "1970-01-01T00:36:42.124806",
          "1970-01-01T00:36:52.124806",
          "1970-01-01T00:36:52.124806",
          "1970-01-01T00:36:52.124806",
          "1970-01-01T01:15:07.960317",
          "1970-01-01T01:15:07.960317",
          "1970-01-01T01:15:17.960317",
          "1970-01-01T01:15:17.960317",
          "1970-01-01T01:15:17.960317",
          "1970-01-01T00:00:00",
          "1970-01-01T00:00:00",
          "1970-01-01T00:00:10",
          "1970-01-01T00:00:10",
          "1970-01-01T00:00:10",
          "1970-01-01T00:36:42.124806",
          "1970-01-01T00:36:42.124806",
          "1970-01-01T00:36:52.124806",
          "1970-01-01T00:36:52.124806",
          "1970-01-01T00:36:52.124806",
          "1970-01-01T01:15:07.960317",
          "1970-01-01T01:15:07.960317",
          "1970-01-01T01:15:17.960317",
          "1970-01-01T01:15:17.960317",
          "1970-01-01T01:15:17.960317"
         ],
         "y": [
          "vessel01",
          "vessel01",
          "vessel01",
          "vessel01",
          null,
          "vessel01",
          "vessel01",
          "vessel01",
          "vessel01",
          null,
          "vessel01",
          "vessel01",
          "vessel01",
          "vessel01",
          null,
          "from_site",
          "from_site",
          "from_site",
          "from_site",
          null,
          "from_site",
          "from_site",
          "from_site",
          "from_site",
          null,
          "from_site",
          "from_site",
          "from_site",
          "from_site",
          null,
          "load cargo",
          "load cargo",
          "load cargo",
          "load cargo",
          null,
          "load cargo",
          "load cargo",
          "load cargo",
          "load cargo",
          null,
          "load cargo",
          "load cargo",
          "load cargo",
          "load cargo",
          null
         ]
        },
        {
         "connectgaps": false,
         "hoverinfo": "y+name",
         "line": {
          "color": "rgb(222,100,27)",
          "width": 10
         },
         "mode": "lines",
         "name": "sailing empty",
         "type": "scatter",
         "x": [
          "1970-01-01T00:00:00",
          "1970-01-01T00:00:00",
          "1970-01-01T00:00:00",
          "1970-01-01T00:00:00",
          "1970-01-01T00:00:00",
          "1970-01-01T00:19:25.017755",
          "1970-01-01T00:19:25.017755",
          "1970-01-01T00:35:07.842347",
          "1970-01-01T00:35:07.842347",
          "1970-01-01T00:35:07.842347",
          "1970-01-01T00:57:50.853266",
          "1970-01-01T00:57:50.853266",
          "1970-01-01T01:13:33.677858",
          "1970-01-01T01:13:33.677858",
          "1970-01-01T01:13:33.677858",
          "1970-01-01T00:00:00",
          "1970-01-01T00:00:00",
          "1970-01-01T00:00:00",
          "1970-01-01T00:00:00",
          "1970-01-01T00:00:00",
          "1970-01-01T00:19:25.017755",
          "1970-01-01T00:19:25.017755",
          "1970-01-01T00:35:07.842347",
          "1970-01-01T00:35:07.842347",
          "1970-01-01T00:35:07.842347",
          "1970-01-01T00:57:50.853266",
          "1970-01-01T00:57:50.853266",
          "1970-01-01T01:13:33.677858",
          "1970-01-01T01:13:33.677858",
          "1970-01-01T01:13:33.677858"
         ],
         "y": [
          "vessel01",
          "vessel01",
          "vessel01",
          "vessel01",
          null,
          "vessel01",
          "vessel01",
          "vessel01",
          "vessel01",
          null,
          "vessel01",
          "vessel01",
          "vessel01",
          "vessel01",
          null,
          "sailing empty",
          "sailing empty",
          "sailing empty",
          "sailing empty",
          null,
          "sailing empty",
          "sailing empty",
          "sailing empty",
          "sailing empty",
          null,
          "sailing empty",
          "sailing empty",
          "sailing empty",
          "sailing empty",
          null
         ]
        },
        {
         "connectgaps": false,
         "hoverinfo": "y+name",
         "line": {
          "color": "rgb(240,118,45)",
          "width": 10
         },
         "mode": "lines",
         "name": "unload cargo",
         "type": "scatter",
         "x": [
          "1970-01-01T00:17:28.107050",
          "1970-01-01T00:17:28.107050",
          "1970-01-01T00:17:38.107050",
          "1970-01-01T00:17:38.107050",
          "1970-01-01T00:17:38.107050",
          "1970-01-01T00:54:10.231856",
          "1970-01-01T00:54:10.231856",
          "1970-01-01T00:54:20.231856",
          "1970-01-01T00:54:20.231856",
          "1970-01-01T00:54:20.231856",
          "1970-01-01T01:32:36.067367",
          "1970-01-01T01:32:36.067367",
          "1970-01-01T01:32:46.067367",
          "1970-01-01T01:32:46.067367",
          "1970-01-01T01:32:46.067367",
          "1970-01-01T00:17:28.107050",
          "1970-01-01T00:17:28.107050",
          "1970-01-01T00:17:38.107050",
          "1970-01-01T00:17:38.107050",
          "1970-01-01T00:17:38.107050",
          "1970-01-01T00:54:10.231856",
          "1970-01-01T00:54:10.231856",
          "1970-01-01T00:54:20.231856",
          "1970-01-01T00:54:20.231856",
          "1970-01-01T00:54:20.231856",
          "1970-01-01T01:32:36.067367",
          "1970-01-01T01:32:36.067367",
          "1970-01-01T01:32:46.067367",
          "1970-01-01T01:32:46.067367",
          "1970-01-01T01:32:46.067367",
          "1970-01-01T00:17:28.107050",
          "1970-01-01T00:17:28.107050",
          "1970-01-01T00:17:38.107050",
          "1970-01-01T00:17:38.107050",
          "1970-01-01T00:17:38.107050",
          "1970-01-01T00:54:10.231856",
          "1970-01-01T00:54:10.231856",
          "1970-01-01T00:54:20.231856",
          "1970-01-01T00:54:20.231856",
          "1970-01-01T00:54:20.231856",
          "1970-01-01T01:32:36.067367",
          "1970-01-01T01:32:36.067367",
          "1970-01-01T01:32:46.067367",
          "1970-01-01T01:32:46.067367",
          "1970-01-01T01:32:46.067367"
         ],
         "y": [
          "vessel01",
          "vessel01",
          "vessel01",
          "vessel01",
          null,
          "vessel01",
          "vessel01",
          "vessel01",
          "vessel01",
          null,
          "vessel01",
          "vessel01",
          "vessel01",
          "vessel01",
          null,
          "to_site",
          "to_site",
          "to_site",
          "to_site",
          null,
          "to_site",
          "to_site",
          "to_site",
          "to_site",
          null,
          "to_site",
          "to_site",
          "to_site",
          "to_site",
          null,
          "unload cargo",
          "unload cargo",
          "unload cargo",
          "unload cargo",
          null,
          "unload cargo",
          "unload cargo",
          "unload cargo",
          "unload cargo",
          null,
          "unload cargo",
          "unload cargo",
          "unload cargo",
          "unload cargo",
          null
         ]
        },
        {
         "connectgaps": false,
         "hoverinfo": "y+name",
         "line": {
          "color": "rgb(2,136,63)",
          "width": 10
         },
         "mode": "lines",
         "name": "Basic activity",
         "type": "scatter",
         "x": [
          "1970-01-01T00:17:39.107050",
          "1970-01-01T00:17:39.107050",
          "1970-01-01T00:17:39.107050",
          "1970-01-01T00:17:39.107050",
          "1970-01-01T00:17:39.107050",
          "1970-01-01T00:54:21.231856",
          "1970-01-01T00:54:21.231856",
          "1970-01-01T00:54:21.231856",
          "1970-01-01T00:54:21.231856",
          "1970-01-01T00:54:21.231856",
          "1970-01-01T01:32:47.067367",
          "1970-01-01T01:32:47.067367",
          "1970-01-01T01:32:47.067367",
          "1970-01-01T01:32:47.067367",
          "1970-01-01T01:32:47.067367",
          "1970-01-01T00:17:39.107050",
          "1970-01-01T00:17:39.107050",
          "1970-01-01T00:17:39.107050",
          "1970-01-01T00:17:39.107050",
          "1970-01-01T00:17:39.107050",
          "1970-01-01T00:54:21.231856",
          "1970-01-01T00:54:21.231856",
          "1970-01-01T00:54:21.231856",
          "1970-01-01T00:54:21.231856",
          "1970-01-01T00:54:21.231856",
          "1970-01-01T01:32:47.067367",
          "1970-01-01T01:32:47.067367",
          "1970-01-01T01:32:47.067367",
          "1970-01-01T01:32:47.067367",
          "1970-01-01T01:32:47.067367"
         ],
         "y": [
          "vessel01",
          "vessel01",
          "vessel01",
          "vessel01",
          null,
          "vessel01",
          "vessel01",
          "vessel01",
          "vessel01",
          null,
          "vessel01",
          "vessel01",
          "vessel01",
          "vessel01",
          null,
          "Basic activity",
          "Basic activity",
          "Basic activity",
          "Basic activity",
          null,
          "Basic activity",
          "Basic activity",
          "Basic activity",
          "Basic activity",
          null,
          "Basic activity",
          "Basic activity",
          "Basic activity",
          "Basic activity",
          null
         ]
        },
        {
         "connectgaps": false,
         "hoverinfo": "y+name",
         "line": {
          "color": "rgb(20,154,81)",
          "width": 10
         },
         "mode": "lines",
         "name": "sailing full",
         "type": "scatter",
         "x": [
          "1970-01-01T00:00:11",
          "1970-01-01T00:00:11",
          "1970-01-01T00:15:53.824591",
          "1970-01-01T00:15:53.824591",
          "1970-01-01T00:15:53.824591",
          "1970-01-01T00:36:53.124806",
          "1970-01-01T00:36:53.124806",
          "1970-01-01T00:52:35.949397",
          "1970-01-01T00:52:35.949397",
          "1970-01-01T00:52:35.949397",
          "1970-01-01T01:15:18.960317",
          "1970-01-01T01:15:18.960317",
          "1970-01-01T01:31:01.784908",
          "1970-01-01T01:31:01.784908",
          "1970-01-01T01:31:01.784908",
          "1970-01-01T00:00:11",
          "1970-01-01T00:00:11",
          "1970-01-01T00:15:53.824591",
          "1970-01-01T00:15:53.824591",
          "1970-01-01T00:15:53.824591",
          "1970-01-01T00:36:53.124806",
          "1970-01-01T00:36:53.124806",
          "1970-01-01T00:52:35.949397",
          "1970-01-01T00:52:35.949397",
          "1970-01-01T00:52:35.949397",
          "1970-01-01T01:15:18.960317",
          "1970-01-01T01:15:18.960317",
          "1970-01-01T01:31:01.784908",
          "1970-01-01T01:31:01.784908",
          "1970-01-01T01:31:01.784908"
         ],
         "y": [
          "vessel01",
          "vessel01",
          "vessel01",
          "vessel01",
          null,
          "vessel01",
          "vessel01",
          "vessel01",
          "vessel01",
          null,
          "vessel01",
          "vessel01",
          "vessel01",
          "vessel01",
          null,
          "sailing full",
          "sailing full",
          "sailing full",
          "sailing full",
          null,
          "sailing full",
          "sailing full",
          "sailing full",
          "sailing full",
          null,
          "sailing full",
          "sailing full",
          "sailing full",
          "sailing full",
          null
         ]
        },
        {
         "connectgaps": false,
         "hoverinfo": "y+name",
         "line": {
          "color": "rgb(38,172,99)",
          "width": 10
         },
         "mode": "lines",
         "name": "load cargo",
         "type": "scatter",
         "x": [
          "1970-01-01T00:00:00",
          "1970-01-01T00:00:00",
          "1970-01-01T00:00:10",
          "1970-01-01T00:00:10",
          "1970-01-01T00:00:10",
          "1970-01-01T00:36:42.124806",
          "1970-01-01T00:36:42.124806",
          "1970-01-01T00:36:52.124806",
          "1970-01-01T00:36:52.124806",
          "1970-01-01T00:36:52.124806",
          "1970-01-01T01:15:07.960317",
          "1970-01-01T01:15:07.960317",
          "1970-01-01T01:15:17.960317",
          "1970-01-01T01:15:17.960317",
          "1970-01-01T01:15:17.960317",
          "1970-01-01T00:00:00",
          "1970-01-01T00:00:00",
          "1970-01-01T00:00:10",
          "1970-01-01T00:00:10",
          "1970-01-01T00:00:10",
          "1970-01-01T00:36:42.124806",
          "1970-01-01T00:36:42.124806",
          "1970-01-01T00:36:52.124806",
          "1970-01-01T00:36:52.124806",
          "1970-01-01T00:36:52.124806",
          "1970-01-01T01:15:07.960317",
          "1970-01-01T01:15:07.960317",
          "1970-01-01T01:15:17.960317",
          "1970-01-01T01:15:17.960317",
          "1970-01-01T01:15:17.960317",
          "1970-01-01T00:00:00",
          "1970-01-01T00:00:00",
          "1970-01-01T00:00:10",
          "1970-01-01T00:00:10",
          "1970-01-01T00:00:10",
          "1970-01-01T00:36:42.124806",
          "1970-01-01T00:36:42.124806",
          "1970-01-01T00:36:52.124806",
          "1970-01-01T00:36:52.124806",
          "1970-01-01T00:36:52.124806",
          "1970-01-01T01:15:07.960317",
          "1970-01-01T01:15:07.960317",
          "1970-01-01T01:15:17.960317",
          "1970-01-01T01:15:17.960317",
          "1970-01-01T01:15:17.960317"
         ],
         "y": [
          "vessel01",
          "vessel01",
          "vessel01",
          "vessel01",
          null,
          "vessel01",
          "vessel01",
          "vessel01",
          "vessel01",
          null,
          "vessel01",
          "vessel01",
          "vessel01",
          "vessel01",
          null,
          "from_site",
          "from_site",
          "from_site",
          "from_site",
          null,
          "from_site",
          "from_site",
          "from_site",
          "from_site",
          null,
          "from_site",
          "from_site",
          "from_site",
          "from_site",
          null,
          "load cargo",
          "load cargo",
          "load cargo",
          "load cargo",
          null,
          "load cargo",
          "load cargo",
          "load cargo",
          "load cargo",
          null,
          "load cargo",
          "load cargo",
          "load cargo",
          "load cargo",
          null
         ]
        },
        {
         "connectgaps": false,
         "hoverinfo": "y+name",
         "line": {
          "color": "rgb(56,190,117)",
          "width": 10
         },
         "mode": "lines",
         "name": "unload cargo",
         "type": "scatter",
         "x": [
          "1970-01-01T00:17:28.107050",
          "1970-01-01T00:17:28.107050",
          "1970-01-01T00:17:38.107050",
          "1970-01-01T00:17:38.107050",
          "1970-01-01T00:17:38.107050",
          "1970-01-01T00:54:10.231856",
          "1970-01-01T00:54:10.231856",
          "1970-01-01T00:54:20.231856",
          "1970-01-01T00:54:20.231856",
          "1970-01-01T00:54:20.231856",
          "1970-01-01T01:32:36.067367",
          "1970-01-01T01:32:36.067367",
          "1970-01-01T01:32:46.067367",
          "1970-01-01T01:32:46.067367",
          "1970-01-01T01:32:46.067367",
          "1970-01-01T00:17:28.107050",
          "1970-01-01T00:17:28.107050",
          "1970-01-01T00:17:38.107050",
          "1970-01-01T00:17:38.107050",
          "1970-01-01T00:17:38.107050",
          "1970-01-01T00:54:10.231856",
          "1970-01-01T00:54:10.231856",
          "1970-01-01T00:54:20.231856",
          "1970-01-01T00:54:20.231856",
          "1970-01-01T00:54:20.231856",
          "1970-01-01T01:32:36.067367",
          "1970-01-01T01:32:36.067367",
          "1970-01-01T01:32:46.067367",
          "1970-01-01T01:32:46.067367",
          "1970-01-01T01:32:46.067367",
          "1970-01-01T00:17:28.107050",
          "1970-01-01T00:17:28.107050",
          "1970-01-01T00:17:38.107050",
          "1970-01-01T00:17:38.107050",
          "1970-01-01T00:17:38.107050",
          "1970-01-01T00:54:10.231856",
          "1970-01-01T00:54:10.231856",
          "1970-01-01T00:54:20.231856",
          "1970-01-01T00:54:20.231856",
          "1970-01-01T00:54:20.231856",
          "1970-01-01T01:32:36.067367",
          "1970-01-01T01:32:36.067367",
          "1970-01-01T01:32:46.067367",
          "1970-01-01T01:32:46.067367",
          "1970-01-01T01:32:46.067367"
         ],
         "y": [
          "vessel01",
          "vessel01",
          "vessel01",
          "vessel01",
          null,
          "vessel01",
          "vessel01",
          "vessel01",
          "vessel01",
          null,
          "vessel01",
          "vessel01",
          "vessel01",
          "vessel01",
          null,
          "to_site",
          "to_site",
          "to_site",
          "to_site",
          null,
          "to_site",
          "to_site",
          "to_site",
          "to_site",
          null,
          "to_site",
          "to_site",
          "to_site",
          "to_site",
          null,
          "unload cargo",
          "unload cargo",
          "unload cargo",
          "unload cargo",
          null,
          "unload cargo",
          "unload cargo",
          "unload cargo",
          "unload cargo",
          null,
          "unload cargo",
          "unload cargo",
          "unload cargo",
          "unload cargo",
          null
         ]
        },
        {
         "connectgaps": false,
         "hoverinfo": "y+name",
         "line": {
          "color": "rgb(74,208,135)",
          "width": 10
         },
         "mode": "lines",
         "name": "sailing empty",
         "type": "scatter",
         "x": [
          "1970-01-01T00:00:00",
          "1970-01-01T00:00:00",
          "1970-01-01T00:00:00",
          "1970-01-01T00:00:00",
          "1970-01-01T00:00:00",
          "1970-01-01T00:19:25.017755",
          "1970-01-01T00:19:25.017755",
          "1970-01-01T00:35:07.842347",
          "1970-01-01T00:35:07.842347",
          "1970-01-01T00:35:07.842347",
          "1970-01-01T00:57:50.853266",
          "1970-01-01T00:57:50.853266",
          "1970-01-01T01:13:33.677858",
          "1970-01-01T01:13:33.677858",
          "1970-01-01T01:13:33.677858",
          "1970-01-01T00:00:00",
          "1970-01-01T00:00:00",
          "1970-01-01T00:00:00",
          "1970-01-01T00:00:00",
          "1970-01-01T00:00:00",
          "1970-01-01T00:19:25.017755",
          "1970-01-01T00:19:25.017755",
          "1970-01-01T00:35:07.842347",
          "1970-01-01T00:35:07.842347",
          "1970-01-01T00:35:07.842347",
          "1970-01-01T00:57:50.853266",
          "1970-01-01T00:57:50.853266",
          "1970-01-01T01:13:33.677858",
          "1970-01-01T01:13:33.677858",
          "1970-01-01T01:13:33.677858"
         ],
         "y": [
          "vessel01",
          "vessel01",
          "vessel01",
          "vessel01",
          null,
          "vessel01",
          "vessel01",
          "vessel01",
          "vessel01",
          null,
          "vessel01",
          "vessel01",
          "vessel01",
          "vessel01",
          null,
          "sailing empty",
          "sailing empty",
          "sailing empty",
          "sailing empty",
          null,
          "sailing empty",
          "sailing empty",
          "sailing empty",
          "sailing empty",
          null,
          "sailing empty",
          "sailing empty",
          "sailing empty",
          "sailing empty",
          null
         ]
        },
        {
         "connectgaps": false,
         "hoverinfo": "y+name",
         "line": {
          "color": "rgb(92,226,153)",
          "width": 10
         },
         "mode": "lines",
         "name": "load cargo",
         "type": "scatter",
         "x": [
          "1970-01-01T00:00:00",
          "1970-01-01T00:00:00",
          "1970-01-01T00:00:10",
          "1970-01-01T00:00:10",
          "1970-01-01T00:00:10",
          "1970-01-01T00:36:42.124806",
          "1970-01-01T00:36:42.124806",
          "1970-01-01T00:36:52.124806",
          "1970-01-01T00:36:52.124806",
          "1970-01-01T00:36:52.124806",
          "1970-01-01T01:15:07.960317",
          "1970-01-01T01:15:07.960317",
          "1970-01-01T01:15:17.960317",
          "1970-01-01T01:15:17.960317",
          "1970-01-01T01:15:17.960317",
          "1970-01-01T00:00:00",
          "1970-01-01T00:00:00",
          "1970-01-01T00:00:10",
          "1970-01-01T00:00:10",
          "1970-01-01T00:00:10",
          "1970-01-01T00:36:42.124806",
          "1970-01-01T00:36:42.124806",
          "1970-01-01T00:36:52.124806",
          "1970-01-01T00:36:52.124806",
          "1970-01-01T00:36:52.124806",
          "1970-01-01T01:15:07.960317",
          "1970-01-01T01:15:07.960317",
          "1970-01-01T01:15:17.960317",
          "1970-01-01T01:15:17.960317",
          "1970-01-01T01:15:17.960317",
          "1970-01-01T00:00:00",
          "1970-01-01T00:00:00",
          "1970-01-01T00:00:10",
          "1970-01-01T00:00:10",
          "1970-01-01T00:00:10",
          "1970-01-01T00:36:42.124806",
          "1970-01-01T00:36:42.124806",
          "1970-01-01T00:36:52.124806",
          "1970-01-01T00:36:52.124806",
          "1970-01-01T00:36:52.124806",
          "1970-01-01T01:15:07.960317",
          "1970-01-01T01:15:07.960317",
          "1970-01-01T01:15:17.960317",
          "1970-01-01T01:15:17.960317",
          "1970-01-01T01:15:17.960317"
         ],
         "y": [
          "vessel01",
          "vessel01",
          "vessel01",
          "vessel01",
          null,
          "vessel01",
          "vessel01",
          "vessel01",
          "vessel01",
          null,
          "vessel01",
          "vessel01",
          "vessel01",
          "vessel01",
          null,
          "from_site",
          "from_site",
          "from_site",
          "from_site",
          null,
          "from_site",
          "from_site",
          "from_site",
          "from_site",
          null,
          "from_site",
          "from_site",
          "from_site",
          "from_site",
          null,
          "load cargo",
          "load cargo",
          "load cargo",
          "load cargo",
          null,
          "load cargo",
          "load cargo",
          "load cargo",
          "load cargo",
          null,
          "load cargo",
          "load cargo",
          "load cargo",
          "load cargo",
          null
         ]
        },
        {
         "connectgaps": false,
         "hoverinfo": "y+name",
         "line": {
          "color": "rgb(110,244,171)",
          "width": 10
         },
         "mode": "lines",
         "name": "sailing full",
         "type": "scatter",
         "x": [
          "1970-01-01T00:00:11",
          "1970-01-01T00:00:11",
          "1970-01-01T00:15:53.824591",
          "1970-01-01T00:15:53.824591",
          "1970-01-01T00:15:53.824591",
          "1970-01-01T00:36:53.124806",
          "1970-01-01T00:36:53.124806",
          "1970-01-01T00:52:35.949397",
          "1970-01-01T00:52:35.949397",
          "1970-01-01T00:52:35.949397",
          "1970-01-01T01:15:18.960317",
          "1970-01-01T01:15:18.960317",
          "1970-01-01T01:31:01.784908",
          "1970-01-01T01:31:01.784908",
          "1970-01-01T01:31:01.784908",
          "1970-01-01T00:00:11",
          "1970-01-01T00:00:11",
          "1970-01-01T00:15:53.824591",
          "1970-01-01T00:15:53.824591",
          "1970-01-01T00:15:53.824591",
          "1970-01-01T00:36:53.124806",
          "1970-01-01T00:36:53.124806",
          "1970-01-01T00:52:35.949397",
          "1970-01-01T00:52:35.949397",
          "1970-01-01T00:52:35.949397",
          "1970-01-01T01:15:18.960317",
          "1970-01-01T01:15:18.960317",
          "1970-01-01T01:31:01.784908",
          "1970-01-01T01:31:01.784908",
          "1970-01-01T01:31:01.784908"
         ],
         "y": [
          "vessel01",
          "vessel01",
          "vessel01",
          "vessel01",
          null,
          "vessel01",
          "vessel01",
          "vessel01",
          "vessel01",
          null,
          "vessel01",
          "vessel01",
          "vessel01",
          "vessel01",
          null,
          "sailing full",
          "sailing full",
          "sailing full",
          "sailing full",
          null,
          "sailing full",
          "sailing full",
          "sailing full",
          "sailing full",
          null,
          "sailing full",
          "sailing full",
          "sailing full",
          "sailing full",
          null
         ]
        },
        {
         "connectgaps": false,
         "hoverinfo": "y+name",
         "line": {
          "color": "rgb(128,6,189)",
          "width": 10
         },
         "mode": "lines",
         "name": "unload cargo",
         "type": "scatter",
         "x": [
          "1970-01-01T00:17:28.107050",
          "1970-01-01T00:17:28.107050",
          "1970-01-01T00:17:38.107050",
          "1970-01-01T00:17:38.107050",
          "1970-01-01T00:17:38.107050",
          "1970-01-01T00:54:10.231856",
          "1970-01-01T00:54:10.231856",
          "1970-01-01T00:54:20.231856",
          "1970-01-01T00:54:20.231856",
          "1970-01-01T00:54:20.231856",
          "1970-01-01T01:32:36.067367",
          "1970-01-01T01:32:36.067367",
          "1970-01-01T01:32:46.067367",
          "1970-01-01T01:32:46.067367",
          "1970-01-01T01:32:46.067367",
          "1970-01-01T00:17:28.107050",
          "1970-01-01T00:17:28.107050",
          "1970-01-01T00:17:38.107050",
          "1970-01-01T00:17:38.107050",
          "1970-01-01T00:17:38.107050",
          "1970-01-01T00:54:10.231856",
          "1970-01-01T00:54:10.231856",
          "1970-01-01T00:54:20.231856",
          "1970-01-01T00:54:20.231856",
          "1970-01-01T00:54:20.231856",
          "1970-01-01T01:32:36.067367",
          "1970-01-01T01:32:36.067367",
          "1970-01-01T01:32:46.067367",
          "1970-01-01T01:32:46.067367",
          "1970-01-01T01:32:46.067367",
          "1970-01-01T00:17:28.107050",
          "1970-01-01T00:17:28.107050",
          "1970-01-01T00:17:38.107050",
          "1970-01-01T00:17:38.107050",
          "1970-01-01T00:17:38.107050",
          "1970-01-01T00:54:10.231856",
          "1970-01-01T00:54:10.231856",
          "1970-01-01T00:54:20.231856",
          "1970-01-01T00:54:20.231856",
          "1970-01-01T00:54:20.231856",
          "1970-01-01T01:32:36.067367",
          "1970-01-01T01:32:36.067367",
          "1970-01-01T01:32:46.067367",
          "1970-01-01T01:32:46.067367",
          "1970-01-01T01:32:46.067367"
         ],
         "y": [
          "vessel01",
          "vessel01",
          "vessel01",
          "vessel01",
          null,
          "vessel01",
          "vessel01",
          "vessel01",
          "vessel01",
          null,
          "vessel01",
          "vessel01",
          "vessel01",
          "vessel01",
          null,
          "to_site",
          "to_site",
          "to_site",
          "to_site",
          null,
          "to_site",
          "to_site",
          "to_site",
          "to_site",
          null,
          "to_site",
          "to_site",
          "to_site",
          "to_site",
          null,
          "unload cargo",
          "unload cargo",
          "unload cargo",
          "unload cargo",
          null,
          "unload cargo",
          "unload cargo",
          "unload cargo",
          "unload cargo",
          null,
          "unload cargo",
          "unload cargo",
          "unload cargo",
          "unload cargo",
          null
         ]
        },
        {
         "connectgaps": false,
         "hoverinfo": "y+name",
         "line": {
          "color": "rgb(146,24,207)",
          "width": 10
         },
         "mode": "lines",
         "name": "Basic activity",
         "type": "scatter",
         "x": [
          "1970-01-01T00:17:39.107050",
          "1970-01-01T00:17:39.107050",
          "1970-01-01T00:17:39.107050",
          "1970-01-01T00:17:39.107050",
          "1970-01-01T00:17:39.107050",
          "1970-01-01T00:54:21.231856",
          "1970-01-01T00:54:21.231856",
          "1970-01-01T00:54:21.231856",
          "1970-01-01T00:54:21.231856",
          "1970-01-01T00:54:21.231856",
          "1970-01-01T01:32:47.067367",
          "1970-01-01T01:32:47.067367",
          "1970-01-01T01:32:47.067367",
          "1970-01-01T01:32:47.067367",
          "1970-01-01T01:32:47.067367",
          "1970-01-01T00:17:39.107050",
          "1970-01-01T00:17:39.107050",
          "1970-01-01T00:17:39.107050",
          "1970-01-01T00:17:39.107050",
          "1970-01-01T00:17:39.107050",
          "1970-01-01T00:54:21.231856",
          "1970-01-01T00:54:21.231856",
          "1970-01-01T00:54:21.231856",
          "1970-01-01T00:54:21.231856",
          "1970-01-01T00:54:21.231856",
          "1970-01-01T01:32:47.067367",
          "1970-01-01T01:32:47.067367",
          "1970-01-01T01:32:47.067367",
          "1970-01-01T01:32:47.067367",
          "1970-01-01T01:32:47.067367"
         ],
         "y": [
          "vessel01",
          "vessel01",
          "vessel01",
          "vessel01",
          null,
          "vessel01",
          "vessel01",
          "vessel01",
          "vessel01",
          null,
          "vessel01",
          "vessel01",
          "vessel01",
          "vessel01",
          null,
          "Basic activity",
          "Basic activity",
          "Basic activity",
          "Basic activity",
          null,
          "Basic activity",
          "Basic activity",
          "Basic activity",
          "Basic activity",
          null,
          "Basic activity",
          "Basic activity",
          "Basic activity",
          "Basic activity",
          null
         ]
        }
       ],
       "layout": {
        "hovermode": "closest",
        "legend": {
         "orientation": "h",
         "x": 0,
         "y": -0.2
        },
        "template": {
         "data": {
          "bar": [
           {
            "error_x": {
             "color": "#2a3f5f"
            },
            "error_y": {
             "color": "#2a3f5f"
            },
            "marker": {
             "line": {
              "color": "#E5ECF6",
              "width": 0.5
             }
            },
            "type": "bar"
           }
          ],
          "barpolar": [
           {
            "marker": {
             "line": {
              "color": "#E5ECF6",
              "width": 0.5
             }
            },
            "type": "barpolar"
           }
          ],
          "carpet": [
           {
            "aaxis": {
             "endlinecolor": "#2a3f5f",
             "gridcolor": "white",
             "linecolor": "white",
             "minorgridcolor": "white",
             "startlinecolor": "#2a3f5f"
            },
            "baxis": {
             "endlinecolor": "#2a3f5f",
             "gridcolor": "white",
             "linecolor": "white",
             "minorgridcolor": "white",
             "startlinecolor": "#2a3f5f"
            },
            "type": "carpet"
           }
          ],
          "choropleth": [
           {
            "colorbar": {
             "outlinewidth": 0,
             "ticks": ""
            },
            "type": "choropleth"
           }
          ],
          "contour": [
           {
            "colorbar": {
             "outlinewidth": 0,
             "ticks": ""
            },
            "colorscale": [
             [
              0,
              "#0d0887"
             ],
             [
              0.1111111111111111,
              "#46039f"
             ],
             [
              0.2222222222222222,
              "#7201a8"
             ],
             [
              0.3333333333333333,
              "#9c179e"
             ],
             [
              0.4444444444444444,
              "#bd3786"
             ],
             [
              0.5555555555555556,
              "#d8576b"
             ],
             [
              0.6666666666666666,
              "#ed7953"
             ],
             [
              0.7777777777777778,
              "#fb9f3a"
             ],
             [
              0.8888888888888888,
              "#fdca26"
             ],
             [
              1,
              "#f0f921"
             ]
            ],
            "type": "contour"
           }
          ],
          "contourcarpet": [
           {
            "colorbar": {
             "outlinewidth": 0,
             "ticks": ""
            },
            "type": "contourcarpet"
           }
          ],
          "heatmap": [
           {
            "colorbar": {
             "outlinewidth": 0,
             "ticks": ""
            },
            "colorscale": [
             [
              0,
              "#0d0887"
             ],
             [
              0.1111111111111111,
              "#46039f"
             ],
             [
              0.2222222222222222,
              "#7201a8"
             ],
             [
              0.3333333333333333,
              "#9c179e"
             ],
             [
              0.4444444444444444,
              "#bd3786"
             ],
             [
              0.5555555555555556,
              "#d8576b"
             ],
             [
              0.6666666666666666,
              "#ed7953"
             ],
             [
              0.7777777777777778,
              "#fb9f3a"
             ],
             [
              0.8888888888888888,
              "#fdca26"
             ],
             [
              1,
              "#f0f921"
             ]
            ],
            "type": "heatmap"
           }
          ],
          "heatmapgl": [
           {
            "colorbar": {
             "outlinewidth": 0,
             "ticks": ""
            },
            "colorscale": [
             [
              0,
              "#0d0887"
             ],
             [
              0.1111111111111111,
              "#46039f"
             ],
             [
              0.2222222222222222,
              "#7201a8"
             ],
             [
              0.3333333333333333,
              "#9c179e"
             ],
             [
              0.4444444444444444,
              "#bd3786"
             ],
             [
              0.5555555555555556,
              "#d8576b"
             ],
             [
              0.6666666666666666,
              "#ed7953"
             ],
             [
              0.7777777777777778,
              "#fb9f3a"
             ],
             [
              0.8888888888888888,
              "#fdca26"
             ],
             [
              1,
              "#f0f921"
             ]
            ],
            "type": "heatmapgl"
           }
          ],
          "histogram": [
           {
            "marker": {
             "colorbar": {
              "outlinewidth": 0,
              "ticks": ""
             }
            },
            "type": "histogram"
           }
          ],
          "histogram2d": [
           {
            "colorbar": {
             "outlinewidth": 0,
             "ticks": ""
            },
            "colorscale": [
             [
              0,
              "#0d0887"
             ],
             [
              0.1111111111111111,
              "#46039f"
             ],
             [
              0.2222222222222222,
              "#7201a8"
             ],
             [
              0.3333333333333333,
              "#9c179e"
             ],
             [
              0.4444444444444444,
              "#bd3786"
             ],
             [
              0.5555555555555556,
              "#d8576b"
             ],
             [
              0.6666666666666666,
              "#ed7953"
             ],
             [
              0.7777777777777778,
              "#fb9f3a"
             ],
             [
              0.8888888888888888,
              "#fdca26"
             ],
             [
              1,
              "#f0f921"
             ]
            ],
            "type": "histogram2d"
           }
          ],
          "histogram2dcontour": [
           {
            "colorbar": {
             "outlinewidth": 0,
             "ticks": ""
            },
            "colorscale": [
             [
              0,
              "#0d0887"
             ],
             [
              0.1111111111111111,
              "#46039f"
             ],
             [
              0.2222222222222222,
              "#7201a8"
             ],
             [
              0.3333333333333333,
              "#9c179e"
             ],
             [
              0.4444444444444444,
              "#bd3786"
             ],
             [
              0.5555555555555556,
              "#d8576b"
             ],
             [
              0.6666666666666666,
              "#ed7953"
             ],
             [
              0.7777777777777778,
              "#fb9f3a"
             ],
             [
              0.8888888888888888,
              "#fdca26"
             ],
             [
              1,
              "#f0f921"
             ]
            ],
            "type": "histogram2dcontour"
           }
          ],
          "mesh3d": [
           {
            "colorbar": {
             "outlinewidth": 0,
             "ticks": ""
            },
            "type": "mesh3d"
           }
          ],
          "parcoords": [
           {
            "line": {
             "colorbar": {
              "outlinewidth": 0,
              "ticks": ""
             }
            },
            "type": "parcoords"
           }
          ],
          "pie": [
           {
            "automargin": true,
            "type": "pie"
           }
          ],
          "scatter": [
           {
            "marker": {
             "colorbar": {
              "outlinewidth": 0,
              "ticks": ""
             }
            },
            "type": "scatter"
           }
          ],
          "scatter3d": [
           {
            "line": {
             "colorbar": {
              "outlinewidth": 0,
              "ticks": ""
             }
            },
            "marker": {
             "colorbar": {
              "outlinewidth": 0,
              "ticks": ""
             }
            },
            "type": "scatter3d"
           }
          ],
          "scattercarpet": [
           {
            "marker": {
             "colorbar": {
              "outlinewidth": 0,
              "ticks": ""
             }
            },
            "type": "scattercarpet"
           }
          ],
          "scattergeo": [
           {
            "marker": {
             "colorbar": {
              "outlinewidth": 0,
              "ticks": ""
             }
            },
            "type": "scattergeo"
           }
          ],
          "scattergl": [
           {
            "marker": {
             "colorbar": {
              "outlinewidth": 0,
              "ticks": ""
             }
            },
            "type": "scattergl"
           }
          ],
          "scattermapbox": [
           {
            "marker": {
             "colorbar": {
              "outlinewidth": 0,
              "ticks": ""
             }
            },
            "type": "scattermapbox"
           }
          ],
          "scatterpolar": [
           {
            "marker": {
             "colorbar": {
              "outlinewidth": 0,
              "ticks": ""
             }
            },
            "type": "scatterpolar"
           }
          ],
          "scatterpolargl": [
           {
            "marker": {
             "colorbar": {
              "outlinewidth": 0,
              "ticks": ""
             }
            },
            "type": "scatterpolargl"
           }
          ],
          "scatterternary": [
           {
            "marker": {
             "colorbar": {
              "outlinewidth": 0,
              "ticks": ""
             }
            },
            "type": "scatterternary"
           }
          ],
          "surface": [
           {
            "colorbar": {
             "outlinewidth": 0,
             "ticks": ""
            },
            "colorscale": [
             [
              0,
              "#0d0887"
             ],
             [
              0.1111111111111111,
              "#46039f"
             ],
             [
              0.2222222222222222,
              "#7201a8"
             ],
             [
              0.3333333333333333,
              "#9c179e"
             ],
             [
              0.4444444444444444,
              "#bd3786"
             ],
             [
              0.5555555555555556,
              "#d8576b"
             ],
             [
              0.6666666666666666,
              "#ed7953"
             ],
             [
              0.7777777777777778,
              "#fb9f3a"
             ],
             [
              0.8888888888888888,
              "#fdca26"
             ],
             [
              1,
              "#f0f921"
             ]
            ],
            "type": "surface"
           }
          ],
          "table": [
           {
            "cells": {
             "fill": {
              "color": "#EBF0F8"
             },
             "line": {
              "color": "white"
             }
            },
            "header": {
             "fill": {
              "color": "#C8D4E3"
             },
             "line": {
              "color": "white"
             }
            },
            "type": "table"
           }
          ]
         },
         "layout": {
          "annotationdefaults": {
           "arrowcolor": "#2a3f5f",
           "arrowhead": 0,
           "arrowwidth": 1
          },
          "coloraxis": {
           "colorbar": {
            "outlinewidth": 0,
            "ticks": ""
           }
          },
          "colorscale": {
           "diverging": [
            [
             0,
             "#8e0152"
            ],
            [
             0.1,
             "#c51b7d"
            ],
            [
             0.2,
             "#de77ae"
            ],
            [
             0.3,
             "#f1b6da"
            ],
            [
             0.4,
             "#fde0ef"
            ],
            [
             0.5,
             "#f7f7f7"
            ],
            [
             0.6,
             "#e6f5d0"
            ],
            [
             0.7,
             "#b8e186"
            ],
            [
             0.8,
             "#7fbc41"
            ],
            [
             0.9,
             "#4d9221"
            ],
            [
             1,
             "#276419"
            ]
           ],
           "sequential": [
            [
             0,
             "#0d0887"
            ],
            [
             0.1111111111111111,
             "#46039f"
            ],
            [
             0.2222222222222222,
             "#7201a8"
            ],
            [
             0.3333333333333333,
             "#9c179e"
            ],
            [
             0.4444444444444444,
             "#bd3786"
            ],
            [
             0.5555555555555556,
             "#d8576b"
            ],
            [
             0.6666666666666666,
             "#ed7953"
            ],
            [
             0.7777777777777778,
             "#fb9f3a"
            ],
            [
             0.8888888888888888,
             "#fdca26"
            ],
            [
             1,
             "#f0f921"
            ]
           ],
           "sequentialminus": [
            [
             0,
             "#0d0887"
            ],
            [
             0.1111111111111111,
             "#46039f"
            ],
            [
             0.2222222222222222,
             "#7201a8"
            ],
            [
             0.3333333333333333,
             "#9c179e"
            ],
            [
             0.4444444444444444,
             "#bd3786"
            ],
            [
             0.5555555555555556,
             "#d8576b"
            ],
            [
             0.6666666666666666,
             "#ed7953"
            ],
            [
             0.7777777777777778,
             "#fb9f3a"
            ],
            [
             0.8888888888888888,
             "#fdca26"
            ],
            [
             1,
             "#f0f921"
            ]
           ]
          },
          "colorway": [
           "#636efa",
           "#EF553B",
           "#00cc96",
           "#ab63fa",
           "#FFA15A",
           "#19d3f3",
           "#FF6692",
           "#B6E880",
           "#FF97FF",
           "#FECB52"
          ],
          "font": {
           "color": "#2a3f5f"
          },
          "geo": {
           "bgcolor": "white",
           "lakecolor": "white",
           "landcolor": "#E5ECF6",
           "showlakes": true,
           "showland": true,
           "subunitcolor": "white"
          },
          "hoverlabel": {
           "align": "left"
          },
          "hovermode": "closest",
          "mapbox": {
           "style": "light"
          },
          "paper_bgcolor": "white",
          "plot_bgcolor": "#E5ECF6",
          "polar": {
           "angularaxis": {
            "gridcolor": "white",
            "linecolor": "white",
            "ticks": ""
           },
           "bgcolor": "#E5ECF6",
           "radialaxis": {
            "gridcolor": "white",
            "linecolor": "white",
            "ticks": ""
           }
          },
          "scene": {
           "xaxis": {
            "backgroundcolor": "#E5ECF6",
            "gridcolor": "white",
            "gridwidth": 2,
            "linecolor": "white",
            "showbackground": true,
            "ticks": "",
            "zerolinecolor": "white"
           },
           "yaxis": {
            "backgroundcolor": "#E5ECF6",
            "gridcolor": "white",
            "gridwidth": 2,
            "linecolor": "white",
            "showbackground": true,
            "ticks": "",
            "zerolinecolor": "white"
           },
           "zaxis": {
            "backgroundcolor": "#E5ECF6",
            "gridcolor": "white",
            "gridwidth": 2,
            "linecolor": "white",
            "showbackground": true,
            "ticks": "",
            "zerolinecolor": "white"
           }
          },
          "shapedefaults": {
           "line": {
            "color": "#2a3f5f"
           }
          },
          "ternary": {
           "aaxis": {
            "gridcolor": "white",
            "linecolor": "white",
            "ticks": ""
           },
           "baxis": {
            "gridcolor": "white",
            "linecolor": "white",
            "ticks": ""
           },
           "bgcolor": "#E5ECF6",
           "caxis": {
            "gridcolor": "white",
            "linecolor": "white",
            "ticks": ""
           }
          },
          "title": {
           "x": 0.05
          },
          "xaxis": {
           "automargin": true,
           "gridcolor": "white",
           "linecolor": "white",
           "ticks": "",
           "title": {
            "standoff": 15
           },
           "zerolinecolor": "white",
           "zerolinewidth": 2
          },
          "yaxis": {
           "automargin": true,
           "gridcolor": "white",
           "linecolor": "white",
           "ticks": "",
           "title": {
            "standoff": 15
           },
           "zerolinecolor": "white",
           "zerolinewidth": 2
          }
         }
        },
        "title": {
         "text": "GANTT Chart"
        },
        "xaxis": {
         "range": [
          "1970-01-01T00:00:00",
          "1970-01-01T01:45:54.357655"
         ],
         "title": {
          "font": {
           "color": "#7f7f7f",
           "family": "Courier New, monospace",
           "size": 18
          },
          "text": "Time"
         }
        },
        "yaxis": {
         "title": {
          "font": {
           "color": "#7f7f7f",
           "family": "Courier New, monospace",
           "size": 18
          },
          "text": "Activities"
         }
        }
       }
      },
      "text/html": [
       "<div>                            <div id=\"56de2dca-d639-4c10-a44b-3a09a59ad258\" class=\"plotly-graph-div\" style=\"height:525px; width:100%;\"></div>            <script type=\"text/javascript\">                require([\"plotly\"], function(Plotly) {                    window.PLOTLYENV=window.PLOTLYENV || {};                                    if (document.getElementById(\"56de2dca-d639-4c10-a44b-3a09a59ad258\")) {                    Plotly.newPlot(                        \"56de2dca-d639-4c10-a44b-3a09a59ad258\",                        [{\"connectgaps\": false, \"hoverinfo\": \"y+name\", \"line\": {\"color\": \"rgb(168,46,229)\", \"width\": 10}, \"mode\": \"lines\", \"name\": \"While activity\", \"type\": \"scatter\", \"x\": [\"1970-01-01T00:00:00\", \"1970-01-01T00:00:00\", \"1970-01-01T00:19:25.017755\", \"1970-01-01T00:19:25.017755\", \"1970-01-01T00:19:25.017755\", \"1970-01-01T00:19:25.017755\", \"1970-01-01T00:19:25.017755\", \"1970-01-01T00:57:50.853266\", \"1970-01-01T00:57:50.853266\", \"1970-01-01T00:57:50.853266\", \"1970-01-01T00:57:50.853266\", \"1970-01-01T00:57:50.853266\", \"1970-01-01T01:36:16.688777\", \"1970-01-01T01:36:16.688777\", \"1970-01-01T01:36:16.688777\", \"1970-01-01T00:57:50.853266\", \"1970-01-01T00:57:50.853266\", \"1970-01-01T01:36:16.688777\", \"1970-01-01T01:36:16.688777\", \"1970-01-01T01:36:16.688777\"], \"y\": [\"While activity\", \"While activity\", \"While activity\", \"While activity\", null, \"While activity\", \"While activity\", \"While activity\", \"While activity\", null, \"While activity\", \"While activity\", \"While activity\", \"While activity\", null, \"While activity\", \"While activity\", \"While activity\", \"While activity\", null]}, {\"connectgaps\": false, \"hoverinfo\": \"y+name\", \"line\": {\"color\": \"rgb(186,64,247)\", \"width\": 10}, \"mode\": \"lines\", \"name\": \"Single run process\", \"type\": \"scatter\", \"x\": [\"1970-01-01T00:00:00\", \"1970-01-01T00:00:00\", \"1970-01-01T00:00:00\", \"1970-01-01T00:00:00\", \"1970-01-01T00:00:00\", \"1970-01-01T00:00:00\", \"1970-01-01T00:00:00\", \"1970-01-01T00:00:11\", \"1970-01-01T00:00:11\", \"1970-01-01T00:00:11\", \"1970-01-01T00:00:11\", \"1970-01-01T00:00:11\", \"1970-01-01T00:17:28.107050\", \"1970-01-01T00:17:28.107050\", \"1970-01-01T00:17:28.107050\", \"1970-01-01T00:17:28.107050\", \"1970-01-01T00:17:28.107050\", \"1970-01-01T00:17:39.107050\", \"1970-01-01T00:17:39.107050\", \"1970-01-01T00:17:39.107050\", \"1970-01-01T00:17:39.107050\", \"1970-01-01T00:17:39.107050\", \"1970-01-01T00:17:39.107050\", \"1970-01-01T00:17:39.107050\", \"1970-01-01T00:17:39.107050\", \"1970-01-01T00:17:39.107050\", \"1970-01-01T00:17:39.107050\", \"1970-01-01T00:17:39.107050\", \"1970-01-01T00:17:39.107050\", \"1970-01-01T00:17:39.107050\", \"1970-01-01T00:19:25.017755\", \"1970-01-01T00:19:25.017755\", \"1970-01-01T00:36:42.124806\", \"1970-01-01T00:36:42.124806\", \"1970-01-01T00:36:42.124806\", \"1970-01-01T00:36:42.124806\", \"1970-01-01T00:36:42.124806\", \"1970-01-01T00:36:53.124806\", \"1970-01-01T00:36:53.124806\", \"1970-01-01T00:36:53.124806\", \"1970-01-01T00:36:53.124806\", \"1970-01-01T00:36:53.124806\", \"1970-01-01T00:54:10.231856\", \"1970-01-01T00:54:10.231856\", \"1970-01-01T00:54:10.231856\", \"1970-01-01T00:54:10.231856\", \"1970-01-01T00:54:10.231856\", \"1970-01-01T00:54:21.231856\", \"1970-01-01T00:54:21.231856\", \"1970-01-01T00:54:21.231856\", \"1970-01-01T00:54:21.231856\", \"1970-01-01T00:54:21.231856\", \"1970-01-01T00:54:21.231856\", \"1970-01-01T00:54:21.231856\", \"1970-01-01T00:54:21.231856\", \"1970-01-01T00:54:21.231856\", \"1970-01-01T00:54:21.231856\", \"1970-01-01T00:54:21.231856\", \"1970-01-01T00:54:21.231856\", \"1970-01-01T00:54:21.231856\", \"1970-01-01T00:57:50.853266\", \"1970-01-01T00:57:50.853266\", \"1970-01-01T01:15:07.960317\", \"1970-01-01T01:15:07.960317\", \"1970-01-01T01:15:07.960317\", \"1970-01-01T01:15:07.960317\", \"1970-01-01T01:15:07.960317\", \"1970-01-01T01:15:18.960317\", \"1970-01-01T01:15:18.960317\", \"1970-01-01T01:15:18.960317\", \"1970-01-01T01:15:18.960317\", \"1970-01-01T01:15:18.960317\", \"1970-01-01T01:32:36.067367\", \"1970-01-01T01:32:36.067367\", \"1970-01-01T01:32:36.067367\", \"1970-01-01T01:32:36.067367\", \"1970-01-01T01:32:36.067367\", \"1970-01-01T01:32:47.067367\", \"1970-01-01T01:32:47.067367\", \"1970-01-01T01:32:47.067367\", \"1970-01-01T01:32:47.067367\", \"1970-01-01T01:32:47.067367\", \"1970-01-01T01:32:47.067367\", \"1970-01-01T01:32:47.067367\", \"1970-01-01T01:32:47.067367\", \"1970-01-01T01:32:47.067367\", \"1970-01-01T01:32:47.067367\", \"1970-01-01T01:32:47.067367\", \"1970-01-01T01:32:47.067367\", \"1970-01-01T01:32:47.067367\"], \"y\": [\"Single run process\", \"Single run process\", \"Single run process\", \"Single run process\", null, \"Single run process\", \"Single run process\", \"Single run process\", \"Single run process\", null, \"Single run process\", \"Single run process\", \"Single run process\", \"Single run process\", null, \"Single run process\", \"Single run process\", \"Single run process\", \"Single run process\", null, \"Single run process\", \"Single run process\", \"Single run process\", \"Single run process\", null, \"Single run process\", \"Single run process\", \"Single run process\", \"Single run process\", null, \"Single run process\", \"Single run process\", \"Single run process\", \"Single run process\", null, \"Single run process\", \"Single run process\", \"Single run process\", \"Single run process\", null, \"Single run process\", \"Single run process\", \"Single run process\", \"Single run process\", null, \"Single run process\", \"Single run process\", \"Single run process\", \"Single run process\", null, \"Single run process\", \"Single run process\", \"Single run process\", \"Single run process\", null, \"Single run process\", \"Single run process\", \"Single run process\", \"Single run process\", null, \"Single run process\", \"Single run process\", \"Single run process\", \"Single run process\", null, \"Single run process\", \"Single run process\", \"Single run process\", \"Single run process\", null, \"Single run process\", \"Single run process\", \"Single run process\", \"Single run process\", null, \"Single run process\", \"Single run process\", \"Single run process\", \"Single run process\", null, \"Single run process\", \"Single run process\", \"Single run process\", \"Single run process\", null, \"Single run process\", \"Single run process\", \"Single run process\", \"Single run process\", null]}, {\"connectgaps\": false, \"hoverinfo\": \"y+name\", \"line\": {\"color\": \"rgb(204,82,9)\", \"width\": 10}, \"mode\": \"lines\", \"name\": \"load cargo\", \"type\": \"scatter\", \"x\": [\"1970-01-01T00:00:00\", \"1970-01-01T00:00:00\", \"1970-01-01T00:00:10\", \"1970-01-01T00:00:10\", \"1970-01-01T00:00:10\", \"1970-01-01T00:36:42.124806\", \"1970-01-01T00:36:42.124806\", \"1970-01-01T00:36:52.124806\", \"1970-01-01T00:36:52.124806\", \"1970-01-01T00:36:52.124806\", \"1970-01-01T01:15:07.960317\", \"1970-01-01T01:15:07.960317\", \"1970-01-01T01:15:17.960317\", \"1970-01-01T01:15:17.960317\", \"1970-01-01T01:15:17.960317\", \"1970-01-01T00:00:00\", \"1970-01-01T00:00:00\", \"1970-01-01T00:00:10\", \"1970-01-01T00:00:10\", \"1970-01-01T00:00:10\", \"1970-01-01T00:36:42.124806\", \"1970-01-01T00:36:42.124806\", \"1970-01-01T00:36:52.124806\", \"1970-01-01T00:36:52.124806\", \"1970-01-01T00:36:52.124806\", \"1970-01-01T01:15:07.960317\", \"1970-01-01T01:15:07.960317\", \"1970-01-01T01:15:17.960317\", \"1970-01-01T01:15:17.960317\", \"1970-01-01T01:15:17.960317\", \"1970-01-01T00:00:00\", \"1970-01-01T00:00:00\", \"1970-01-01T00:00:10\", \"1970-01-01T00:00:10\", \"1970-01-01T00:00:10\", \"1970-01-01T00:36:42.124806\", \"1970-01-01T00:36:42.124806\", \"1970-01-01T00:36:52.124806\", \"1970-01-01T00:36:52.124806\", \"1970-01-01T00:36:52.124806\", \"1970-01-01T01:15:07.960317\", \"1970-01-01T01:15:07.960317\", \"1970-01-01T01:15:17.960317\", \"1970-01-01T01:15:17.960317\", \"1970-01-01T01:15:17.960317\"], \"y\": [\"vessel01\", \"vessel01\", \"vessel01\", \"vessel01\", null, \"vessel01\", \"vessel01\", \"vessel01\", \"vessel01\", null, \"vessel01\", \"vessel01\", \"vessel01\", \"vessel01\", null, \"from_site\", \"from_site\", \"from_site\", \"from_site\", null, \"from_site\", \"from_site\", \"from_site\", \"from_site\", null, \"from_site\", \"from_site\", \"from_site\", \"from_site\", null, \"load cargo\", \"load cargo\", \"load cargo\", \"load cargo\", null, \"load cargo\", \"load cargo\", \"load cargo\", \"load cargo\", null, \"load cargo\", \"load cargo\", \"load cargo\", \"load cargo\", null]}, {\"connectgaps\": false, \"hoverinfo\": \"y+name\", \"line\": {\"color\": \"rgb(222,100,27)\", \"width\": 10}, \"mode\": \"lines\", \"name\": \"sailing empty\", \"type\": \"scatter\", \"x\": [\"1970-01-01T00:00:00\", \"1970-01-01T00:00:00\", \"1970-01-01T00:00:00\", \"1970-01-01T00:00:00\", \"1970-01-01T00:00:00\", \"1970-01-01T00:19:25.017755\", \"1970-01-01T00:19:25.017755\", \"1970-01-01T00:35:07.842347\", \"1970-01-01T00:35:07.842347\", \"1970-01-01T00:35:07.842347\", \"1970-01-01T00:57:50.853266\", \"1970-01-01T00:57:50.853266\", \"1970-01-01T01:13:33.677858\", \"1970-01-01T01:13:33.677858\", \"1970-01-01T01:13:33.677858\", \"1970-01-01T00:00:00\", \"1970-01-01T00:00:00\", \"1970-01-01T00:00:00\", \"1970-01-01T00:00:00\", \"1970-01-01T00:00:00\", \"1970-01-01T00:19:25.017755\", \"1970-01-01T00:19:25.017755\", \"1970-01-01T00:35:07.842347\", \"1970-01-01T00:35:07.842347\", \"1970-01-01T00:35:07.842347\", \"1970-01-01T00:57:50.853266\", \"1970-01-01T00:57:50.853266\", \"1970-01-01T01:13:33.677858\", \"1970-01-01T01:13:33.677858\", \"1970-01-01T01:13:33.677858\"], \"y\": [\"vessel01\", \"vessel01\", \"vessel01\", \"vessel01\", null, \"vessel01\", \"vessel01\", \"vessel01\", \"vessel01\", null, \"vessel01\", \"vessel01\", \"vessel01\", \"vessel01\", null, \"sailing empty\", \"sailing empty\", \"sailing empty\", \"sailing empty\", null, \"sailing empty\", \"sailing empty\", \"sailing empty\", \"sailing empty\", null, \"sailing empty\", \"sailing empty\", \"sailing empty\", \"sailing empty\", null]}, {\"connectgaps\": false, \"hoverinfo\": \"y+name\", \"line\": {\"color\": \"rgb(240,118,45)\", \"width\": 10}, \"mode\": \"lines\", \"name\": \"unload cargo\", \"type\": \"scatter\", \"x\": [\"1970-01-01T00:17:28.107050\", \"1970-01-01T00:17:28.107050\", \"1970-01-01T00:17:38.107050\", \"1970-01-01T00:17:38.107050\", \"1970-01-01T00:17:38.107050\", \"1970-01-01T00:54:10.231856\", \"1970-01-01T00:54:10.231856\", \"1970-01-01T00:54:20.231856\", \"1970-01-01T00:54:20.231856\", \"1970-01-01T00:54:20.231856\", \"1970-01-01T01:32:36.067367\", \"1970-01-01T01:32:36.067367\", \"1970-01-01T01:32:46.067367\", \"1970-01-01T01:32:46.067367\", \"1970-01-01T01:32:46.067367\", \"1970-01-01T00:17:28.107050\", \"1970-01-01T00:17:28.107050\", \"1970-01-01T00:17:38.107050\", \"1970-01-01T00:17:38.107050\", \"1970-01-01T00:17:38.107050\", \"1970-01-01T00:54:10.231856\", \"1970-01-01T00:54:10.231856\", \"1970-01-01T00:54:20.231856\", \"1970-01-01T00:54:20.231856\", \"1970-01-01T00:54:20.231856\", \"1970-01-01T01:32:36.067367\", \"1970-01-01T01:32:36.067367\", \"1970-01-01T01:32:46.067367\", \"1970-01-01T01:32:46.067367\", \"1970-01-01T01:32:46.067367\", \"1970-01-01T00:17:28.107050\", \"1970-01-01T00:17:28.107050\", \"1970-01-01T00:17:38.107050\", \"1970-01-01T00:17:38.107050\", \"1970-01-01T00:17:38.107050\", \"1970-01-01T00:54:10.231856\", \"1970-01-01T00:54:10.231856\", \"1970-01-01T00:54:20.231856\", \"1970-01-01T00:54:20.231856\", \"1970-01-01T00:54:20.231856\", \"1970-01-01T01:32:36.067367\", \"1970-01-01T01:32:36.067367\", \"1970-01-01T01:32:46.067367\", \"1970-01-01T01:32:46.067367\", \"1970-01-01T01:32:46.067367\"], \"y\": [\"vessel01\", \"vessel01\", \"vessel01\", \"vessel01\", null, \"vessel01\", \"vessel01\", \"vessel01\", \"vessel01\", null, \"vessel01\", \"vessel01\", \"vessel01\", \"vessel01\", null, \"to_site\", \"to_site\", \"to_site\", \"to_site\", null, \"to_site\", \"to_site\", \"to_site\", \"to_site\", null, \"to_site\", \"to_site\", \"to_site\", \"to_site\", null, \"unload cargo\", \"unload cargo\", \"unload cargo\", \"unload cargo\", null, \"unload cargo\", \"unload cargo\", \"unload cargo\", \"unload cargo\", null, \"unload cargo\", \"unload cargo\", \"unload cargo\", \"unload cargo\", null]}, {\"connectgaps\": false, \"hoverinfo\": \"y+name\", \"line\": {\"color\": \"rgb(2,136,63)\", \"width\": 10}, \"mode\": \"lines\", \"name\": \"Basic activity\", \"type\": \"scatter\", \"x\": [\"1970-01-01T00:17:39.107050\", \"1970-01-01T00:17:39.107050\", \"1970-01-01T00:17:39.107050\", \"1970-01-01T00:17:39.107050\", \"1970-01-01T00:17:39.107050\", \"1970-01-01T00:54:21.231856\", \"1970-01-01T00:54:21.231856\", \"1970-01-01T00:54:21.231856\", \"1970-01-01T00:54:21.231856\", \"1970-01-01T00:54:21.231856\", \"1970-01-01T01:32:47.067367\", \"1970-01-01T01:32:47.067367\", \"1970-01-01T01:32:47.067367\", \"1970-01-01T01:32:47.067367\", \"1970-01-01T01:32:47.067367\", \"1970-01-01T00:17:39.107050\", \"1970-01-01T00:17:39.107050\", \"1970-01-01T00:17:39.107050\", \"1970-01-01T00:17:39.107050\", \"1970-01-01T00:17:39.107050\", \"1970-01-01T00:54:21.231856\", \"1970-01-01T00:54:21.231856\", \"1970-01-01T00:54:21.231856\", \"1970-01-01T00:54:21.231856\", \"1970-01-01T00:54:21.231856\", \"1970-01-01T01:32:47.067367\", \"1970-01-01T01:32:47.067367\", \"1970-01-01T01:32:47.067367\", \"1970-01-01T01:32:47.067367\", \"1970-01-01T01:32:47.067367\"], \"y\": [\"vessel01\", \"vessel01\", \"vessel01\", \"vessel01\", null, \"vessel01\", \"vessel01\", \"vessel01\", \"vessel01\", null, \"vessel01\", \"vessel01\", \"vessel01\", \"vessel01\", null, \"Basic activity\", \"Basic activity\", \"Basic activity\", \"Basic activity\", null, \"Basic activity\", \"Basic activity\", \"Basic activity\", \"Basic activity\", null, \"Basic activity\", \"Basic activity\", \"Basic activity\", \"Basic activity\", null]}, {\"connectgaps\": false, \"hoverinfo\": \"y+name\", \"line\": {\"color\": \"rgb(20,154,81)\", \"width\": 10}, \"mode\": \"lines\", \"name\": \"sailing full\", \"type\": \"scatter\", \"x\": [\"1970-01-01T00:00:11\", \"1970-01-01T00:00:11\", \"1970-01-01T00:15:53.824591\", \"1970-01-01T00:15:53.824591\", \"1970-01-01T00:15:53.824591\", \"1970-01-01T00:36:53.124806\", \"1970-01-01T00:36:53.124806\", \"1970-01-01T00:52:35.949397\", \"1970-01-01T00:52:35.949397\", \"1970-01-01T00:52:35.949397\", \"1970-01-01T01:15:18.960317\", \"1970-01-01T01:15:18.960317\", \"1970-01-01T01:31:01.784908\", \"1970-01-01T01:31:01.784908\", \"1970-01-01T01:31:01.784908\", \"1970-01-01T00:00:11\", \"1970-01-01T00:00:11\", \"1970-01-01T00:15:53.824591\", \"1970-01-01T00:15:53.824591\", \"1970-01-01T00:15:53.824591\", \"1970-01-01T00:36:53.124806\", \"1970-01-01T00:36:53.124806\", \"1970-01-01T00:52:35.949397\", \"1970-01-01T00:52:35.949397\", \"1970-01-01T00:52:35.949397\", \"1970-01-01T01:15:18.960317\", \"1970-01-01T01:15:18.960317\", \"1970-01-01T01:31:01.784908\", \"1970-01-01T01:31:01.784908\", \"1970-01-01T01:31:01.784908\"], \"y\": [\"vessel01\", \"vessel01\", \"vessel01\", \"vessel01\", null, \"vessel01\", \"vessel01\", \"vessel01\", \"vessel01\", null, \"vessel01\", \"vessel01\", \"vessel01\", \"vessel01\", null, \"sailing full\", \"sailing full\", \"sailing full\", \"sailing full\", null, \"sailing full\", \"sailing full\", \"sailing full\", \"sailing full\", null, \"sailing full\", \"sailing full\", \"sailing full\", \"sailing full\", null]}, {\"connectgaps\": false, \"hoverinfo\": \"y+name\", \"line\": {\"color\": \"rgb(38,172,99)\", \"width\": 10}, \"mode\": \"lines\", \"name\": \"load cargo\", \"type\": \"scatter\", \"x\": [\"1970-01-01T00:00:00\", \"1970-01-01T00:00:00\", \"1970-01-01T00:00:10\", \"1970-01-01T00:00:10\", \"1970-01-01T00:00:10\", \"1970-01-01T00:36:42.124806\", \"1970-01-01T00:36:42.124806\", \"1970-01-01T00:36:52.124806\", \"1970-01-01T00:36:52.124806\", \"1970-01-01T00:36:52.124806\", \"1970-01-01T01:15:07.960317\", \"1970-01-01T01:15:07.960317\", \"1970-01-01T01:15:17.960317\", \"1970-01-01T01:15:17.960317\", \"1970-01-01T01:15:17.960317\", \"1970-01-01T00:00:00\", \"1970-01-01T00:00:00\", \"1970-01-01T00:00:10\", \"1970-01-01T00:00:10\", \"1970-01-01T00:00:10\", \"1970-01-01T00:36:42.124806\", \"1970-01-01T00:36:42.124806\", \"1970-01-01T00:36:52.124806\", \"1970-01-01T00:36:52.124806\", \"1970-01-01T00:36:52.124806\", \"1970-01-01T01:15:07.960317\", \"1970-01-01T01:15:07.960317\", \"1970-01-01T01:15:17.960317\", \"1970-01-01T01:15:17.960317\", \"1970-01-01T01:15:17.960317\", \"1970-01-01T00:00:00\", \"1970-01-01T00:00:00\", \"1970-01-01T00:00:10\", \"1970-01-01T00:00:10\", \"1970-01-01T00:00:10\", \"1970-01-01T00:36:42.124806\", \"1970-01-01T00:36:42.124806\", \"1970-01-01T00:36:52.124806\", \"1970-01-01T00:36:52.124806\", \"1970-01-01T00:36:52.124806\", \"1970-01-01T01:15:07.960317\", \"1970-01-01T01:15:07.960317\", \"1970-01-01T01:15:17.960317\", \"1970-01-01T01:15:17.960317\", \"1970-01-01T01:15:17.960317\"], \"y\": [\"vessel01\", \"vessel01\", \"vessel01\", \"vessel01\", null, \"vessel01\", \"vessel01\", \"vessel01\", \"vessel01\", null, \"vessel01\", \"vessel01\", \"vessel01\", \"vessel01\", null, \"from_site\", \"from_site\", \"from_site\", \"from_site\", null, \"from_site\", \"from_site\", \"from_site\", \"from_site\", null, \"from_site\", \"from_site\", \"from_site\", \"from_site\", null, \"load cargo\", \"load cargo\", \"load cargo\", \"load cargo\", null, \"load cargo\", \"load cargo\", \"load cargo\", \"load cargo\", null, \"load cargo\", \"load cargo\", \"load cargo\", \"load cargo\", null]}, {\"connectgaps\": false, \"hoverinfo\": \"y+name\", \"line\": {\"color\": \"rgb(56,190,117)\", \"width\": 10}, \"mode\": \"lines\", \"name\": \"unload cargo\", \"type\": \"scatter\", \"x\": [\"1970-01-01T00:17:28.107050\", \"1970-01-01T00:17:28.107050\", \"1970-01-01T00:17:38.107050\", \"1970-01-01T00:17:38.107050\", \"1970-01-01T00:17:38.107050\", \"1970-01-01T00:54:10.231856\", \"1970-01-01T00:54:10.231856\", \"1970-01-01T00:54:20.231856\", \"1970-01-01T00:54:20.231856\", \"1970-01-01T00:54:20.231856\", \"1970-01-01T01:32:36.067367\", \"1970-01-01T01:32:36.067367\", \"1970-01-01T01:32:46.067367\", \"1970-01-01T01:32:46.067367\", \"1970-01-01T01:32:46.067367\", \"1970-01-01T00:17:28.107050\", \"1970-01-01T00:17:28.107050\", \"1970-01-01T00:17:38.107050\", \"1970-01-01T00:17:38.107050\", \"1970-01-01T00:17:38.107050\", \"1970-01-01T00:54:10.231856\", \"1970-01-01T00:54:10.231856\", \"1970-01-01T00:54:20.231856\", \"1970-01-01T00:54:20.231856\", \"1970-01-01T00:54:20.231856\", \"1970-01-01T01:32:36.067367\", \"1970-01-01T01:32:36.067367\", \"1970-01-01T01:32:46.067367\", \"1970-01-01T01:32:46.067367\", \"1970-01-01T01:32:46.067367\", \"1970-01-01T00:17:28.107050\", \"1970-01-01T00:17:28.107050\", \"1970-01-01T00:17:38.107050\", \"1970-01-01T00:17:38.107050\", \"1970-01-01T00:17:38.107050\", \"1970-01-01T00:54:10.231856\", \"1970-01-01T00:54:10.231856\", \"1970-01-01T00:54:20.231856\", \"1970-01-01T00:54:20.231856\", \"1970-01-01T00:54:20.231856\", \"1970-01-01T01:32:36.067367\", \"1970-01-01T01:32:36.067367\", \"1970-01-01T01:32:46.067367\", \"1970-01-01T01:32:46.067367\", \"1970-01-01T01:32:46.067367\"], \"y\": [\"vessel01\", \"vessel01\", \"vessel01\", \"vessel01\", null, \"vessel01\", \"vessel01\", \"vessel01\", \"vessel01\", null, \"vessel01\", \"vessel01\", \"vessel01\", \"vessel01\", null, \"to_site\", \"to_site\", \"to_site\", \"to_site\", null, \"to_site\", \"to_site\", \"to_site\", \"to_site\", null, \"to_site\", \"to_site\", \"to_site\", \"to_site\", null, \"unload cargo\", \"unload cargo\", \"unload cargo\", \"unload cargo\", null, \"unload cargo\", \"unload cargo\", \"unload cargo\", \"unload cargo\", null, \"unload cargo\", \"unload cargo\", \"unload cargo\", \"unload cargo\", null]}, {\"connectgaps\": false, \"hoverinfo\": \"y+name\", \"line\": {\"color\": \"rgb(74,208,135)\", \"width\": 10}, \"mode\": \"lines\", \"name\": \"sailing empty\", \"type\": \"scatter\", \"x\": [\"1970-01-01T00:00:00\", \"1970-01-01T00:00:00\", \"1970-01-01T00:00:00\", \"1970-01-01T00:00:00\", \"1970-01-01T00:00:00\", \"1970-01-01T00:19:25.017755\", \"1970-01-01T00:19:25.017755\", \"1970-01-01T00:35:07.842347\", \"1970-01-01T00:35:07.842347\", \"1970-01-01T00:35:07.842347\", \"1970-01-01T00:57:50.853266\", \"1970-01-01T00:57:50.853266\", \"1970-01-01T01:13:33.677858\", \"1970-01-01T01:13:33.677858\", \"1970-01-01T01:13:33.677858\", \"1970-01-01T00:00:00\", \"1970-01-01T00:00:00\", \"1970-01-01T00:00:00\", \"1970-01-01T00:00:00\", \"1970-01-01T00:00:00\", \"1970-01-01T00:19:25.017755\", \"1970-01-01T00:19:25.017755\", \"1970-01-01T00:35:07.842347\", \"1970-01-01T00:35:07.842347\", \"1970-01-01T00:35:07.842347\", \"1970-01-01T00:57:50.853266\", \"1970-01-01T00:57:50.853266\", \"1970-01-01T01:13:33.677858\", \"1970-01-01T01:13:33.677858\", \"1970-01-01T01:13:33.677858\"], \"y\": [\"vessel01\", \"vessel01\", \"vessel01\", \"vessel01\", null, \"vessel01\", \"vessel01\", \"vessel01\", \"vessel01\", null, \"vessel01\", \"vessel01\", \"vessel01\", \"vessel01\", null, \"sailing empty\", \"sailing empty\", \"sailing empty\", \"sailing empty\", null, \"sailing empty\", \"sailing empty\", \"sailing empty\", \"sailing empty\", null, \"sailing empty\", \"sailing empty\", \"sailing empty\", \"sailing empty\", null]}, {\"connectgaps\": false, \"hoverinfo\": \"y+name\", \"line\": {\"color\": \"rgb(92,226,153)\", \"width\": 10}, \"mode\": \"lines\", \"name\": \"load cargo\", \"type\": \"scatter\", \"x\": [\"1970-01-01T00:00:00\", \"1970-01-01T00:00:00\", \"1970-01-01T00:00:10\", \"1970-01-01T00:00:10\", \"1970-01-01T00:00:10\", \"1970-01-01T00:36:42.124806\", \"1970-01-01T00:36:42.124806\", \"1970-01-01T00:36:52.124806\", \"1970-01-01T00:36:52.124806\", \"1970-01-01T00:36:52.124806\", \"1970-01-01T01:15:07.960317\", \"1970-01-01T01:15:07.960317\", \"1970-01-01T01:15:17.960317\", \"1970-01-01T01:15:17.960317\", \"1970-01-01T01:15:17.960317\", \"1970-01-01T00:00:00\", \"1970-01-01T00:00:00\", \"1970-01-01T00:00:10\", \"1970-01-01T00:00:10\", \"1970-01-01T00:00:10\", \"1970-01-01T00:36:42.124806\", \"1970-01-01T00:36:42.124806\", \"1970-01-01T00:36:52.124806\", \"1970-01-01T00:36:52.124806\", \"1970-01-01T00:36:52.124806\", \"1970-01-01T01:15:07.960317\", \"1970-01-01T01:15:07.960317\", \"1970-01-01T01:15:17.960317\", \"1970-01-01T01:15:17.960317\", \"1970-01-01T01:15:17.960317\", \"1970-01-01T00:00:00\", \"1970-01-01T00:00:00\", \"1970-01-01T00:00:10\", \"1970-01-01T00:00:10\", \"1970-01-01T00:00:10\", \"1970-01-01T00:36:42.124806\", \"1970-01-01T00:36:42.124806\", \"1970-01-01T00:36:52.124806\", \"1970-01-01T00:36:52.124806\", \"1970-01-01T00:36:52.124806\", \"1970-01-01T01:15:07.960317\", \"1970-01-01T01:15:07.960317\", \"1970-01-01T01:15:17.960317\", \"1970-01-01T01:15:17.960317\", \"1970-01-01T01:15:17.960317\"], \"y\": [\"vessel01\", \"vessel01\", \"vessel01\", \"vessel01\", null, \"vessel01\", \"vessel01\", \"vessel01\", \"vessel01\", null, \"vessel01\", \"vessel01\", \"vessel01\", \"vessel01\", null, \"from_site\", \"from_site\", \"from_site\", \"from_site\", null, \"from_site\", \"from_site\", \"from_site\", \"from_site\", null, \"from_site\", \"from_site\", \"from_site\", \"from_site\", null, \"load cargo\", \"load cargo\", \"load cargo\", \"load cargo\", null, \"load cargo\", \"load cargo\", \"load cargo\", \"load cargo\", null, \"load cargo\", \"load cargo\", \"load cargo\", \"load cargo\", null]}, {\"connectgaps\": false, \"hoverinfo\": \"y+name\", \"line\": {\"color\": \"rgb(110,244,171)\", \"width\": 10}, \"mode\": \"lines\", \"name\": \"sailing full\", \"type\": \"scatter\", \"x\": [\"1970-01-01T00:00:11\", \"1970-01-01T00:00:11\", \"1970-01-01T00:15:53.824591\", \"1970-01-01T00:15:53.824591\", \"1970-01-01T00:15:53.824591\", \"1970-01-01T00:36:53.124806\", \"1970-01-01T00:36:53.124806\", \"1970-01-01T00:52:35.949397\", \"1970-01-01T00:52:35.949397\", \"1970-01-01T00:52:35.949397\", \"1970-01-01T01:15:18.960317\", \"1970-01-01T01:15:18.960317\", \"1970-01-01T01:31:01.784908\", \"1970-01-01T01:31:01.784908\", \"1970-01-01T01:31:01.784908\", \"1970-01-01T00:00:11\", \"1970-01-01T00:00:11\", \"1970-01-01T00:15:53.824591\", \"1970-01-01T00:15:53.824591\", \"1970-01-01T00:15:53.824591\", \"1970-01-01T00:36:53.124806\", \"1970-01-01T00:36:53.124806\", \"1970-01-01T00:52:35.949397\", \"1970-01-01T00:52:35.949397\", \"1970-01-01T00:52:35.949397\", \"1970-01-01T01:15:18.960317\", \"1970-01-01T01:15:18.960317\", \"1970-01-01T01:31:01.784908\", \"1970-01-01T01:31:01.784908\", \"1970-01-01T01:31:01.784908\"], \"y\": [\"vessel01\", \"vessel01\", \"vessel01\", \"vessel01\", null, \"vessel01\", \"vessel01\", \"vessel01\", \"vessel01\", null, \"vessel01\", \"vessel01\", \"vessel01\", \"vessel01\", null, \"sailing full\", \"sailing full\", \"sailing full\", \"sailing full\", null, \"sailing full\", \"sailing full\", \"sailing full\", \"sailing full\", null, \"sailing full\", \"sailing full\", \"sailing full\", \"sailing full\", null]}, {\"connectgaps\": false, \"hoverinfo\": \"y+name\", \"line\": {\"color\": \"rgb(128,6,189)\", \"width\": 10}, \"mode\": \"lines\", \"name\": \"unload cargo\", \"type\": \"scatter\", \"x\": [\"1970-01-01T00:17:28.107050\", \"1970-01-01T00:17:28.107050\", \"1970-01-01T00:17:38.107050\", \"1970-01-01T00:17:38.107050\", \"1970-01-01T00:17:38.107050\", \"1970-01-01T00:54:10.231856\", \"1970-01-01T00:54:10.231856\", \"1970-01-01T00:54:20.231856\", \"1970-01-01T00:54:20.231856\", \"1970-01-01T00:54:20.231856\", \"1970-01-01T01:32:36.067367\", \"1970-01-01T01:32:36.067367\", \"1970-01-01T01:32:46.067367\", \"1970-01-01T01:32:46.067367\", \"1970-01-01T01:32:46.067367\", \"1970-01-01T00:17:28.107050\", \"1970-01-01T00:17:28.107050\", \"1970-01-01T00:17:38.107050\", \"1970-01-01T00:17:38.107050\", \"1970-01-01T00:17:38.107050\", \"1970-01-01T00:54:10.231856\", \"1970-01-01T00:54:10.231856\", \"1970-01-01T00:54:20.231856\", \"1970-01-01T00:54:20.231856\", \"1970-01-01T00:54:20.231856\", \"1970-01-01T01:32:36.067367\", \"1970-01-01T01:32:36.067367\", \"1970-01-01T01:32:46.067367\", \"1970-01-01T01:32:46.067367\", \"1970-01-01T01:32:46.067367\", \"1970-01-01T00:17:28.107050\", \"1970-01-01T00:17:28.107050\", \"1970-01-01T00:17:38.107050\", \"1970-01-01T00:17:38.107050\", \"1970-01-01T00:17:38.107050\", \"1970-01-01T00:54:10.231856\", \"1970-01-01T00:54:10.231856\", \"1970-01-01T00:54:20.231856\", \"1970-01-01T00:54:20.231856\", \"1970-01-01T00:54:20.231856\", \"1970-01-01T01:32:36.067367\", \"1970-01-01T01:32:36.067367\", \"1970-01-01T01:32:46.067367\", \"1970-01-01T01:32:46.067367\", \"1970-01-01T01:32:46.067367\"], \"y\": [\"vessel01\", \"vessel01\", \"vessel01\", \"vessel01\", null, \"vessel01\", \"vessel01\", \"vessel01\", \"vessel01\", null, \"vessel01\", \"vessel01\", \"vessel01\", \"vessel01\", null, \"to_site\", \"to_site\", \"to_site\", \"to_site\", null, \"to_site\", \"to_site\", \"to_site\", \"to_site\", null, \"to_site\", \"to_site\", \"to_site\", \"to_site\", null, \"unload cargo\", \"unload cargo\", \"unload cargo\", \"unload cargo\", null, \"unload cargo\", \"unload cargo\", \"unload cargo\", \"unload cargo\", null, \"unload cargo\", \"unload cargo\", \"unload cargo\", \"unload cargo\", null]}, {\"connectgaps\": false, \"hoverinfo\": \"y+name\", \"line\": {\"color\": \"rgb(146,24,207)\", \"width\": 10}, \"mode\": \"lines\", \"name\": \"Basic activity\", \"type\": \"scatter\", \"x\": [\"1970-01-01T00:17:39.107050\", \"1970-01-01T00:17:39.107050\", \"1970-01-01T00:17:39.107050\", \"1970-01-01T00:17:39.107050\", \"1970-01-01T00:17:39.107050\", \"1970-01-01T00:54:21.231856\", \"1970-01-01T00:54:21.231856\", \"1970-01-01T00:54:21.231856\", \"1970-01-01T00:54:21.231856\", \"1970-01-01T00:54:21.231856\", \"1970-01-01T01:32:47.067367\", \"1970-01-01T01:32:47.067367\", \"1970-01-01T01:32:47.067367\", \"1970-01-01T01:32:47.067367\", \"1970-01-01T01:32:47.067367\", \"1970-01-01T00:17:39.107050\", \"1970-01-01T00:17:39.107050\", \"1970-01-01T00:17:39.107050\", \"1970-01-01T00:17:39.107050\", \"1970-01-01T00:17:39.107050\", \"1970-01-01T00:54:21.231856\", \"1970-01-01T00:54:21.231856\", \"1970-01-01T00:54:21.231856\", \"1970-01-01T00:54:21.231856\", \"1970-01-01T00:54:21.231856\", \"1970-01-01T01:32:47.067367\", \"1970-01-01T01:32:47.067367\", \"1970-01-01T01:32:47.067367\", \"1970-01-01T01:32:47.067367\", \"1970-01-01T01:32:47.067367\"], \"y\": [\"vessel01\", \"vessel01\", \"vessel01\", \"vessel01\", null, \"vessel01\", \"vessel01\", \"vessel01\", \"vessel01\", null, \"vessel01\", \"vessel01\", \"vessel01\", \"vessel01\", null, \"Basic activity\", \"Basic activity\", \"Basic activity\", \"Basic activity\", null, \"Basic activity\", \"Basic activity\", \"Basic activity\", \"Basic activity\", null, \"Basic activity\", \"Basic activity\", \"Basic activity\", \"Basic activity\", null]}],                        {\"hovermode\": \"closest\", \"legend\": {\"orientation\": \"h\", \"x\": 0, \"y\": -0.2}, \"template\": {\"data\": {\"bar\": [{\"error_x\": {\"color\": \"#2a3f5f\"}, \"error_y\": {\"color\": \"#2a3f5f\"}, \"marker\": {\"line\": {\"color\": \"#E5ECF6\", \"width\": 0.5}}, \"type\": \"bar\"}], \"barpolar\": [{\"marker\": {\"line\": {\"color\": \"#E5ECF6\", \"width\": 0.5}}, \"type\": \"barpolar\"}], \"carpet\": [{\"aaxis\": {\"endlinecolor\": \"#2a3f5f\", \"gridcolor\": \"white\", \"linecolor\": \"white\", \"minorgridcolor\": \"white\", \"startlinecolor\": \"#2a3f5f\"}, \"baxis\": {\"endlinecolor\": \"#2a3f5f\", \"gridcolor\": \"white\", \"linecolor\": \"white\", \"minorgridcolor\": \"white\", \"startlinecolor\": \"#2a3f5f\"}, \"type\": \"carpet\"}], \"choropleth\": [{\"colorbar\": {\"outlinewidth\": 0, \"ticks\": \"\"}, \"type\": \"choropleth\"}], \"contour\": [{\"colorbar\": {\"outlinewidth\": 0, \"ticks\": \"\"}, \"colorscale\": [[0.0, \"#0d0887\"], [0.1111111111111111, \"#46039f\"], [0.2222222222222222, \"#7201a8\"], [0.3333333333333333, \"#9c179e\"], [0.4444444444444444, \"#bd3786\"], [0.5555555555555556, \"#d8576b\"], [0.6666666666666666, \"#ed7953\"], [0.7777777777777778, \"#fb9f3a\"], [0.8888888888888888, \"#fdca26\"], [1.0, \"#f0f921\"]], \"type\": \"contour\"}], \"contourcarpet\": [{\"colorbar\": {\"outlinewidth\": 0, \"ticks\": \"\"}, \"type\": \"contourcarpet\"}], \"heatmap\": [{\"colorbar\": {\"outlinewidth\": 0, \"ticks\": \"\"}, \"colorscale\": [[0.0, \"#0d0887\"], [0.1111111111111111, \"#46039f\"], [0.2222222222222222, \"#7201a8\"], [0.3333333333333333, \"#9c179e\"], [0.4444444444444444, \"#bd3786\"], [0.5555555555555556, \"#d8576b\"], [0.6666666666666666, \"#ed7953\"], [0.7777777777777778, \"#fb9f3a\"], [0.8888888888888888, \"#fdca26\"], [1.0, \"#f0f921\"]], \"type\": \"heatmap\"}], \"heatmapgl\": [{\"colorbar\": {\"outlinewidth\": 0, \"ticks\": \"\"}, \"colorscale\": [[0.0, \"#0d0887\"], [0.1111111111111111, \"#46039f\"], [0.2222222222222222, \"#7201a8\"], [0.3333333333333333, \"#9c179e\"], [0.4444444444444444, \"#bd3786\"], [0.5555555555555556, \"#d8576b\"], [0.6666666666666666, \"#ed7953\"], [0.7777777777777778, \"#fb9f3a\"], [0.8888888888888888, \"#fdca26\"], [1.0, \"#f0f921\"]], \"type\": \"heatmapgl\"}], \"histogram\": [{\"marker\": {\"colorbar\": {\"outlinewidth\": 0, \"ticks\": \"\"}}, \"type\": \"histogram\"}], \"histogram2d\": [{\"colorbar\": {\"outlinewidth\": 0, \"ticks\": \"\"}, \"colorscale\": [[0.0, \"#0d0887\"], [0.1111111111111111, \"#46039f\"], [0.2222222222222222, \"#7201a8\"], [0.3333333333333333, \"#9c179e\"], [0.4444444444444444, \"#bd3786\"], [0.5555555555555556, \"#d8576b\"], [0.6666666666666666, \"#ed7953\"], [0.7777777777777778, \"#fb9f3a\"], [0.8888888888888888, \"#fdca26\"], [1.0, \"#f0f921\"]], \"type\": \"histogram2d\"}], \"histogram2dcontour\": [{\"colorbar\": {\"outlinewidth\": 0, \"ticks\": \"\"}, \"colorscale\": [[0.0, \"#0d0887\"], [0.1111111111111111, \"#46039f\"], [0.2222222222222222, \"#7201a8\"], [0.3333333333333333, \"#9c179e\"], [0.4444444444444444, \"#bd3786\"], [0.5555555555555556, \"#d8576b\"], [0.6666666666666666, \"#ed7953\"], [0.7777777777777778, \"#fb9f3a\"], [0.8888888888888888, \"#fdca26\"], [1.0, \"#f0f921\"]], \"type\": \"histogram2dcontour\"}], \"mesh3d\": [{\"colorbar\": {\"outlinewidth\": 0, \"ticks\": \"\"}, \"type\": \"mesh3d\"}], \"parcoords\": [{\"line\": {\"colorbar\": {\"outlinewidth\": 0, \"ticks\": \"\"}}, \"type\": \"parcoords\"}], \"pie\": [{\"automargin\": true, \"type\": \"pie\"}], \"scatter\": [{\"marker\": {\"colorbar\": {\"outlinewidth\": 0, \"ticks\": \"\"}}, \"type\": \"scatter\"}], \"scatter3d\": [{\"line\": {\"colorbar\": {\"outlinewidth\": 0, \"ticks\": \"\"}}, \"marker\": {\"colorbar\": {\"outlinewidth\": 0, \"ticks\": \"\"}}, \"type\": \"scatter3d\"}], \"scattercarpet\": [{\"marker\": {\"colorbar\": {\"outlinewidth\": 0, \"ticks\": \"\"}}, \"type\": \"scattercarpet\"}], \"scattergeo\": [{\"marker\": {\"colorbar\": {\"outlinewidth\": 0, \"ticks\": \"\"}}, \"type\": \"scattergeo\"}], \"scattergl\": [{\"marker\": {\"colorbar\": {\"outlinewidth\": 0, \"ticks\": \"\"}}, \"type\": \"scattergl\"}], \"scattermapbox\": [{\"marker\": {\"colorbar\": {\"outlinewidth\": 0, \"ticks\": \"\"}}, \"type\": \"scattermapbox\"}], \"scatterpolar\": [{\"marker\": {\"colorbar\": {\"outlinewidth\": 0, \"ticks\": \"\"}}, \"type\": \"scatterpolar\"}], \"scatterpolargl\": [{\"marker\": {\"colorbar\": {\"outlinewidth\": 0, \"ticks\": \"\"}}, \"type\": \"scatterpolargl\"}], \"scatterternary\": [{\"marker\": {\"colorbar\": {\"outlinewidth\": 0, \"ticks\": \"\"}}, \"type\": \"scatterternary\"}], \"surface\": [{\"colorbar\": {\"outlinewidth\": 0, \"ticks\": \"\"}, \"colorscale\": [[0.0, \"#0d0887\"], [0.1111111111111111, \"#46039f\"], [0.2222222222222222, \"#7201a8\"], [0.3333333333333333, \"#9c179e\"], [0.4444444444444444, \"#bd3786\"], [0.5555555555555556, \"#d8576b\"], [0.6666666666666666, \"#ed7953\"], [0.7777777777777778, \"#fb9f3a\"], [0.8888888888888888, \"#fdca26\"], [1.0, \"#f0f921\"]], \"type\": \"surface\"}], \"table\": [{\"cells\": {\"fill\": {\"color\": \"#EBF0F8\"}, \"line\": {\"color\": \"white\"}}, \"header\": {\"fill\": {\"color\": \"#C8D4E3\"}, \"line\": {\"color\": \"white\"}}, \"type\": \"table\"}]}, \"layout\": {\"annotationdefaults\": {\"arrowcolor\": \"#2a3f5f\", \"arrowhead\": 0, \"arrowwidth\": 1}, \"coloraxis\": {\"colorbar\": {\"outlinewidth\": 0, \"ticks\": \"\"}}, \"colorscale\": {\"diverging\": [[0, \"#8e0152\"], [0.1, \"#c51b7d\"], [0.2, \"#de77ae\"], [0.3, \"#f1b6da\"], [0.4, \"#fde0ef\"], [0.5, \"#f7f7f7\"], [0.6, \"#e6f5d0\"], [0.7, \"#b8e186\"], [0.8, \"#7fbc41\"], [0.9, \"#4d9221\"], [1, \"#276419\"]], \"sequential\": [[0.0, \"#0d0887\"], [0.1111111111111111, \"#46039f\"], [0.2222222222222222, \"#7201a8\"], [0.3333333333333333, \"#9c179e\"], [0.4444444444444444, \"#bd3786\"], [0.5555555555555556, \"#d8576b\"], [0.6666666666666666, \"#ed7953\"], [0.7777777777777778, \"#fb9f3a\"], [0.8888888888888888, \"#fdca26\"], [1.0, \"#f0f921\"]], \"sequentialminus\": [[0.0, \"#0d0887\"], [0.1111111111111111, \"#46039f\"], [0.2222222222222222, \"#7201a8\"], [0.3333333333333333, \"#9c179e\"], [0.4444444444444444, \"#bd3786\"], [0.5555555555555556, \"#d8576b\"], [0.6666666666666666, \"#ed7953\"], [0.7777777777777778, \"#fb9f3a\"], [0.8888888888888888, \"#fdca26\"], [1.0, \"#f0f921\"]]}, \"colorway\": [\"#636efa\", \"#EF553B\", \"#00cc96\", \"#ab63fa\", \"#FFA15A\", \"#19d3f3\", \"#FF6692\", \"#B6E880\", \"#FF97FF\", \"#FECB52\"], \"font\": {\"color\": \"#2a3f5f\"}, \"geo\": {\"bgcolor\": \"white\", \"lakecolor\": \"white\", \"landcolor\": \"#E5ECF6\", \"showlakes\": true, \"showland\": true, \"subunitcolor\": \"white\"}, \"hoverlabel\": {\"align\": \"left\"}, \"hovermode\": \"closest\", \"mapbox\": {\"style\": \"light\"}, \"paper_bgcolor\": \"white\", \"plot_bgcolor\": \"#E5ECF6\", \"polar\": {\"angularaxis\": {\"gridcolor\": \"white\", \"linecolor\": \"white\", \"ticks\": \"\"}, \"bgcolor\": \"#E5ECF6\", \"radialaxis\": {\"gridcolor\": \"white\", \"linecolor\": \"white\", \"ticks\": \"\"}}, \"scene\": {\"xaxis\": {\"backgroundcolor\": \"#E5ECF6\", \"gridcolor\": \"white\", \"gridwidth\": 2, \"linecolor\": \"white\", \"showbackground\": true, \"ticks\": \"\", \"zerolinecolor\": \"white\"}, \"yaxis\": {\"backgroundcolor\": \"#E5ECF6\", \"gridcolor\": \"white\", \"gridwidth\": 2, \"linecolor\": \"white\", \"showbackground\": true, \"ticks\": \"\", \"zerolinecolor\": \"white\"}, \"zaxis\": {\"backgroundcolor\": \"#E5ECF6\", \"gridcolor\": \"white\", \"gridwidth\": 2, \"linecolor\": \"white\", \"showbackground\": true, \"ticks\": \"\", \"zerolinecolor\": \"white\"}}, \"shapedefaults\": {\"line\": {\"color\": \"#2a3f5f\"}}, \"ternary\": {\"aaxis\": {\"gridcolor\": \"white\", \"linecolor\": \"white\", \"ticks\": \"\"}, \"baxis\": {\"gridcolor\": \"white\", \"linecolor\": \"white\", \"ticks\": \"\"}, \"bgcolor\": \"#E5ECF6\", \"caxis\": {\"gridcolor\": \"white\", \"linecolor\": \"white\", \"ticks\": \"\"}}, \"title\": {\"x\": 0.05}, \"xaxis\": {\"automargin\": true, \"gridcolor\": \"white\", \"linecolor\": \"white\", \"ticks\": \"\", \"title\": {\"standoff\": 15}, \"zerolinecolor\": \"white\", \"zerolinewidth\": 2}, \"yaxis\": {\"automargin\": true, \"gridcolor\": \"white\", \"linecolor\": \"white\", \"ticks\": \"\", \"title\": {\"standoff\": 15}, \"zerolinecolor\": \"white\", \"zerolinewidth\": 2}}}, \"title\": {\"text\": \"GANTT Chart\"}, \"xaxis\": {\"range\": [\"1970-01-01T00:00:00\", \"1970-01-01T01:45:54.357655\"], \"title\": {\"font\": {\"color\": \"#7f7f7f\", \"family\": \"Courier New, monospace\", \"size\": 18}, \"text\": \"Time\"}}, \"yaxis\": {\"title\": {\"font\": {\"color\": \"#7f7f7f\", \"family\": \"Courier New, monospace\", \"size\": 18}, \"text\": \"Activities\"}}},                        {\"responsive\": true}                    ).then(function(){\n",
       "                            \n",
       "var gd = document.getElementById('56de2dca-d639-4c10-a44b-3a09a59ad258');\n",
       "var x = new MutationObserver(function (mutations, observer) {{\n",
       "        var display = window.getComputedStyle(gd).display;\n",
       "        if (!display || display === 'none') {{\n",
       "            console.log([gd, 'removed!']);\n",
       "            Plotly.purge(gd);\n",
       "            observer.disconnect();\n",
       "        }}\n",
       "}});\n",
       "\n",
       "// Listen for the removal of the full notebook cells\n",
       "var notebookContainer = gd.closest('#notebook-container');\n",
       "if (notebookContainer) {{\n",
       "    x.observe(notebookContainer, {childList: true});\n",
       "}}\n",
       "\n",
       "// Listen for the clearing of the current output cell\n",
       "var outputEl = gd.closest('.output');\n",
       "if (outputEl) {{\n",
       "    x.observe(outputEl, {childList: true});\n",
       "}}\n",
       "\n",
       "                        })                };                });            </script>        </div>"
      ]
     },
     "metadata": {},
     "output_type": "display_data"
    }
   ],
   "source": [
    "objects = [while_activity, sequential_activity, vessel01, from_site, to_site]\n",
    "objects.extend(sub_processes)\n",
    "plot.get_gantt_chart(objects)"
   ]
  }
 ],
 "metadata": {
  "kernelspec": {
   "display_name": "Python 3",
   "language": "python",
   "name": "python3"
  },
  "language_info": {
   "codemirror_mode": {
    "name": "ipython",
    "version": 3
   },
   "file_extension": ".py",
   "mimetype": "text/x-python",
   "name": "python",
   "nbconvert_exporter": "python",
   "pygments_lexer": "ipython3",
   "version": "3.8.6"
  }
 },
 "nbformat": 4,
 "nbformat_minor": 4
}
