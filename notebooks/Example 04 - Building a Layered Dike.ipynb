{
 "cells": [
  {
   "cell_type": "markdown",
   "metadata": {
    "collapsed": true
   },
   "source": [
    "## Example 04 - Building a Layered Dike"
   ]
  },
  {
   "cell_type": "markdown",
   "metadata": {},
   "source": [
    "**Example description:** Example of a construction challenge, with four separate activites, where each activity depends on the progress of the other activities."
   ]
  },
  {
   "cell_type": "markdown",
   "metadata": {},
   "source": [
    "* [**0. Import required libraries:**](#0.-Import-required-libraries)<br>\n",
    "* [**1. Define work method:**](#1.-Define-work-method)<br>\n",
    "   * [**1.1 Sites:**](#1.1-Define-the-project-sites)<br>\n",
    "   * [**1.2 Equipment:**](#1.2-Define-the-project-equipment)<br>\n",
    "   * [**1.3 Activities:**](#1.3-Define-the-activity)<br>\n",
    "* [**2. Run the simulation:**](#2.-Run-the-simulation)<br>\n",
    "* [**3. Post processing:**](#3.-Postprocessing)<br>"
   ]
  },
  {
   "cell_type": "markdown",
   "metadata": {},
   "source": [
    "## 0. Import required libraries"
   ]
  },
  {
   "cell_type": "code",
   "execution_count": null,
   "metadata": {},
   "outputs": [],
   "source": [
    "# package(s) related to time, space and id\n",
    "import datetime, time\n",
    "import platform\n",
    "\n",
    "# you need these dependencies (you can get these from anaconda)\n",
    "# package(s) related to the simulation\n",
    "import simpy\n",
    "\n",
    "# spatial libraries \n",
    "import shapely.geometry\n",
    "from simplekml import Kml, Style\n",
    "\n",
    "# package(s) for data handling\n",
    "import numpy as np\n",
    "import pandas as pd\n",
    "\n",
    "# digital twin package\n",
    "import openclsim.core as core\n",
    "import openclsim.model as model\n",
    "import openclsim.plot as plot"
   ]
  },
  {
   "cell_type": "code",
   "execution_count": null,
   "metadata": {},
   "outputs": [],
   "source": [
    "# Create simulation environment\n",
    "simulation_start = datetime.datetime.now()\n",
    "\n",
    "my_env = simpy.Environment(initial_time = time.mktime(simulation_start.timetuple()))\n",
    "my_env.epoch = time.mktime(simulation_start.timetuple())"
   ]
  },
  {
   "cell_type": "markdown",
   "metadata": {},
   "source": [
    "## 1. Define work method"
   ]
  },
  {
   "cell_type": "markdown",
   "metadata": {},
   "source": [
    "### 1.1 Define the project sites\n",
    "You can specify a project site object by entering mix-ins:\n",
    "\n",
    "    core.Identifiable - enables you to give the object a name\n",
    "    core.Log - enables you to log all discrete events in which the object is involved\n",
    "    core.Locatable - enables you to add coordinates to extract distance information and visualize\n",
    "    core.HasContainer - enables you to add information on the material available at the site\n",
    "    core.HasResource - enables you to add information on serving equipment\n",
    "    core.HasWeather - enables you to add weather conditions"
   ]
  },
  {
   "cell_type": "markdown",
   "metadata": {},
   "source": [
    "#### First create objects with the desired properties"
   ]
  },
  {
   "cell_type": "code",
   "execution_count": null,
   "metadata": {},
   "outputs": [],
   "source": [
    "Site = type('Site', (core.Identifiable, \n",
    "                     core.Log, \n",
    "                     core.Locatable, \n",
    "                     core.HasContainer, \n",
    "                     core.HasResource), {})"
   ]
  },
  {
   "cell_type": "markdown",
   "metadata": {},
   "source": [
    "#### Next specify the properties for sites you wish to create"
   ]
  },
  {
   "cell_type": "code",
   "execution_count": null,
   "metadata": {},
   "outputs": [],
   "source": [
    "# origin sites data\n",
    "data_stock_clay = {\"env\": my_env,\n",
    "                   \"name\": \"Clay_Stock\",\n",
    "                   \"geometry\": shapely.geometry.Point(5.019298185633251, 52.94239823421129),  # lon, lat\n",
    "                   \"capacity\": 150_000,\n",
    "                   \"level\": 150_000}\n",
    "\n",
    "data_stock_sand = {\"env\": my_env,\n",
    "                   \"name\": \"Sand_Stock\",\n",
    "                   \"geometry\": shapely.geometry.Point(5.271417603333632, 52.9638452897506),  # lon, lat\n",
    "                   \"capacity\": 150_000,\n",
    "                   \"level\": 150_000}\n",
    "\n",
    "data_stock_armour = {\"env\": my_env,\n",
    "                   \"name\": \"Armour_Stock\",\n",
    "                   \"geometry\": shapely.geometry.Point(5.919298185633251, 52.94239823421129),  # lon, lat\n",
    "                   \"capacity\": 150_000,\n",
    "                   \"level\": 150_000}\n",
    "\n",
    "data_stock_levvel = {\"env\": my_env,\n",
    "                   \"name\": \"Levvel_Stock\",\n",
    "                   \"geometry\": shapely.geometry.Point(5.919298185633251, 52.94239823421129),  # lon, lat\n",
    "                   \"capacity\": 150_000,\n",
    "                   \"level\": 150_000}"
   ]
  },
  {
   "cell_type": "code",
   "execution_count": null,
   "metadata": {},
   "outputs": [],
   "source": [
    "# destination sites data\n",
    "\n",
    "# nr of bins to use\n",
    "site_count = 20\n",
    "\n",
    "data_clay = {\"start\": [5.054676856441372, 52.94042293840172], # Den Oever (lon, lat)\n",
    "             \"stop\": [5.294877712236641, 53.06686424241725], # Kornwerderzand (lon, lat)\n",
    "             \"capacity\": 5_000,\n",
    "             \"name\": \"Clay_Layer\"}\n",
    "\n",
    "data_sand = {\"start\": [5.052051052879287,52.9421894472733], # Den Oever (lon, lat)\n",
    "             \"stop\": [5.292216781509101,53.06886359869087], # Kornwerderzand (lon, lat)\n",
    "             \"capacity\": 5_000,\n",
    "             \"name\": \"Sand_Layer\"}\n",
    "\n",
    "data_armour = {\"start\": [5.049510554598302,52.94393628899332], # Den Oever (lon, lat)\n",
    "             \"stop\": [5.289636346490858,53.07053144816584], # Kornwerderzand (lon, lat)\n",
    "             \"capacity\": 5_000,\n",
    "             \"name\": \"Armour_Layer\"}\n",
    "\n",
    "data_levvel = {\"start\": [5.046556507026805,52.94579445406793], # Den Oever (lon, lat)\n",
    "             \"stop\": [5.286775240694118,53.07264015015531], # Kornwerderzand (lon, lat)\n",
    "             \"capacity\": 5_000,\n",
    "             \"name\": \"Levvel_Layer\"}"
   ]
  },
  {
   "cell_type": "markdown",
   "metadata": {},
   "source": [
    "#### Finally create specific instances of the predefined objects with the specified properties"
   ]
  },
  {
   "cell_type": "code",
   "execution_count": null,
   "metadata": {},
   "outputs": [],
   "source": [
    "# create the site objects\n",
    "stocks = []\n",
    "for data in [data_stock_clay, data_stock_sand, data_stock_armour, data_stock_levvel]:\n",
    "    stock = Site(**data)\n",
    "    stocks.append(stock)"
   ]
  },
  {
   "cell_type": "code",
   "execution_count": null,
   "metadata": {},
   "outputs": [],
   "source": [
    "sites = []\n",
    "for data_layer in [data_clay, data_sand, data_armour, data_levvel]:\n",
    "    start = data_layer['start']\n",
    "    stop = data_layer['stop']\n",
    "\n",
    "    # generate the evenly spaced locations between the selected start and stop points\n",
    "    lons = np.linspace(start[0], stop[0], num=site_count)\n",
    "    lats = np.linspace(start[1], stop[1], num=site_count)\n",
    "\n",
    "    # create a Site object for each location\n",
    "    layer_sites = []\n",
    "    for i in range(site_count):\n",
    "        data_site = {\"env\": my_env,\n",
    "                     \"name\": data_layer[\"name\"] + '_' + format(i, '02.0f'),\n",
    "                     \"geometry\": shapely.geometry.Point(lons[i], lats[i]),\n",
    "                     \"capacity\": data_layer[\"capacity\"]}\n",
    "        site = Site(**data_site)\n",
    "        layer_sites.append(site)\n",
    "    sites.append(layer_sites)"
   ]
  },
  {
   "cell_type": "markdown",
   "metadata": {},
   "source": [
    "### 1.2 Define the project equipment\n",
    "You can specify a vessel object by entering mix-ins:\n",
    "\n",
    "    core.Identifiable - enables you to give the object a name\n",
    "    core.Log - enables you to log all discrete events in which the object is involved\n",
    "    core.ContainerDependentMovable - A moving container, so capacity and location\n",
    "    core.Processor - Allow for loading and unloading\n",
    "    core.HasResource - Add information on serving equipment\n",
    "    core.HasDepthRestriction - Add information on depth restriction "
   ]
  },
  {
   "cell_type": "markdown",
   "metadata": {},
   "source": [
    "#### First create objects with the desired properties"
   ]
  },
  {
   "cell_type": "code",
   "execution_count": null,
   "metadata": {},
   "outputs": [],
   "source": [
    "TransportResource = type('TransportResource', \n",
    "                         (core.Identifiable, \n",
    "                          core.Log, \n",
    "                          core.ContainerDependentMovable, \n",
    "                          core.HasResource), {})\n",
    "\n",
    "TransportProcessingResource = type('TransportProcessingResource', \n",
    "                                   (core.Identifiable, \n",
    "                                    core.Log, \n",
    "                                    core.ContainerDependentMovable, \n",
    "                                    core.Processor, \n",
    "                                    core.LoadingFunction,\n",
    "                                    core.UnloadingFunction,\n",
    "                                    core.HasResource), {})\n",
    "\n",
    "ProcessingResource = type('ProcessingResource', \n",
    "                          (core.Identifiable, \n",
    "                           core.Log, \n",
    "                           core.Processor, \n",
    "                           core.LoadingFunction,\n",
    "                           core.UnloadingFunction,\n",
    "                           core.HasResource,\n",
    "                           core.Movable), {})"
   ]
  },
  {
   "cell_type": "markdown",
   "metadata": {},
   "source": [
    "#### Next specify the properties for equipment you wish to create"
   ]
  },
  {
   "cell_type": "code",
   "execution_count": null,
   "metadata": {},
   "outputs": [],
   "source": [
    "# For more realistic simulation you might want to have speed dependent on the volume carried by the vessel\n",
    "def compute_v_provider(v_empty, v_full):\n",
    "    return lambda x: x * (v_full - v_empty) + v_empty"
   ]
  },
  {
   "cell_type": "code",
   "execution_count": null,
   "metadata": {},
   "outputs": [],
   "source": [
    "# equipment information in database\n",
    "data_gantry_crane = {\"env\": my_env,\n",
    "                     \"name\": \"Gantry crane\",\n",
    "                     \"geometry\": shapely.geometry.Point(5.019298185633251, 52.94239823421129),  # lon, lat\n",
    "                     \"loading_rate\": 0.1,                                   # Loading rate\n",
    "                     \"unloading_rate\": 0.1}                                 # Unloading rate\n",
    "\n",
    "\n",
    "data_installation_crane = {\"env\": my_env,\n",
    "                           \"name\": \"Installation crane\",\n",
    "                           \"geometry\": shapely.geometry.Point(5.019298185633251, 52.94239823421129),  # lon, lat\n",
    "                           \"loading_rate\": 0.5,                                   # Loading rate\n",
    "                           \"unloading_rate\": 0.5}                                 # Unloading rate\n",
    "\n",
    "\n",
    "data_transport_barge_01 = {\"env\": my_env,\n",
    "                           \"name\": \"Transport barge 01\",\n",
    "                           \"geometry\": shapely.geometry.Point(5.019298185633251, 52.94239823421129),  # lon, lat\n",
    "                           \"capacity\": 1_000,\n",
    "                           \"compute_v\": compute_v_provider(v_empty=1.6, v_full=1)}\n",
    "\n",
    "data_transport_barge_02 = {\"env\": my_env,\n",
    "                           \"name\": \"Transport barge 02\",\n",
    "                           \"geometry\": shapely.geometry.Point(5.019298185633251, 52.94239823421129),  # lon, lat\n",
    "                           \"capacity\": 1_000,\n",
    "                           \"compute_v\": compute_v_provider(v_empty=1.6, v_full=1)}\n",
    "\n",
    "# TSHD variables\n",
    "data_hopper = {\"env\": my_env,                                       # The simpy environment \n",
    "               \"name\": \"Hopper\",                                    # Name\n",
    "               \"geometry\": shapely.geometry.Point(5.070195628786471, 52.93917167503315),                      # It starts at the \"from site\"\n",
    "               \"loading_rate\": 1.5,                                   # Loading rate\n",
    "               \"unloading_rate\": 1.5,                                 # Unloading rate\n",
    "               \"capacity\": 1_000,                                   # Capacity of the hopper - \"Beunvolume\"\n",
    "               \"compute_v\": compute_v_provider(2, 1.5)}             # Variable speed "
   ]
  },
  {
   "cell_type": "markdown",
   "metadata": {},
   "source": [
    "#### Finally create specific instances of the predefined objects with the specified properties"
   ]
  },
  {
   "cell_type": "code",
   "execution_count": null,
   "metadata": {},
   "outputs": [],
   "source": [
    "# create the processing resources\n",
    "gantry_crane = ProcessingResource(**data_gantry_crane)\n",
    "installation_crane = ProcessingResource(**data_installation_crane)\n",
    "\n",
    "# create the transport resources\n",
    "transport_barge_01 = TransportResource(**data_transport_barge_01)\n",
    "transport_barge_02 = TransportResource(**data_transport_barge_02)\n",
    "\n",
    "# create the transport processing resource\n",
    "hopper = TransportProcessingResource(**data_hopper)"
   ]
  },
  {
   "cell_type": "markdown",
   "metadata": {},
   "source": [
    "### 1.3 Define the activity\n",
    "As can be seen in the code fragment above, the Activity class takes the Simpy environment and a name as its constructor arguments. This is because it is defined as a mixin of the SimpyObject and Identifiable core classes. To construct an activity we also needed to define the origin, destination, loader, mover and unloader. Finally, we can optionally define conditions that need to be satisfied for the transportation of materials to take place. These are separated in __start_condition__, __stop_condition__ and __condition__ arguments:\n",
    "* __start_condition__: The activity will start as soon as this condition is satisfied. If this condition is not yet satisfied at the start of the simulation the activity will be suspended untill the condition is satisfied at a later time. Since we do not want any clay to be transported to the later sites if the previous site has not yet been completed, we define this condition as a start_condition.\n",
    "* __stop_condition__: After the activity has started (the start_condition was satisfied), it will regularly check if the stop_condition has been satisfied. If so, the activity is considered complete and will terminate. A simulation will not terminate untill all of its activities have been completed. By default (with stop_condition=None), the stop_condition is set to either the origin container being empty, or the destination container being full. This is sufficient in our case, so we do not specify a stop_condition. \n",
    "* __condition__: After the activity has started (the start_condition was satisfied) and as long as the stop_condition is not satisfied, the activity will continuously check whether this condition is satisfied. If so, it will complete exactly one transportation of materials (loading the mover at the origin and unloading the mover at the destination). If not, the activity will wait untill the condition is satisfied again. Defining such a condition allows for the activity to be temporarily halted, for example due to bad weather or other working conditions, and resuming at a later time when the problem preventing work has passed. \n",
    "\n",
    "All of these condition arguments take a \"Condition\" object. This object should have a \"satisfied\" method which returns a boolean indicating whether the condition is satsified or not. The digital twin package provides a LevelCondition, allowing you to quickly construct a condition which will check if an object extending HasContainer has a certain minimum and/or maximum level. It also provides an AndCondition and OrCondition which allow for combining other condition objects into a single condition. You can also provide your own \"Condition\" class, for example you could program a \"Condition\" class which depending on the time in the simulation (the .now fixture of the Simpy environment), returns whether the weather is good enough for work to take place:"
   ]
  },
  {
   "cell_type": "code",
   "execution_count": null,
   "metadata": {},
   "outputs": [],
   "source": [
    "activities = []"
   ]
  },
  {
   "cell_type": "code",
   "execution_count": null,
   "metadata": {},
   "outputs": [],
   "source": [
    "# define the sand layer Activities\n",
    "first_clay_activity = len(activities)\n",
    "clay_layer_index = 0\n",
    "clay_sites = sites[clay_layer_index]\n",
    "for i, clay_site in enumerate(clay_sites):\n",
    "    for barge_index, transport_barge in enumerate([transport_barge_01, transport_barge_02]):\n",
    "        # for the first site we do not need to define any condition\n",
    "        activity = model.Activity(env=my_env,\n",
    "                                  name=\"Clay_Placement_S\" + format(i+1, '02.0f') + \"_B\" + format(barge_index + 1, '02.0f'),\n",
    "                                  origin=stocks[clay_layer_index],\n",
    "                                  destination=clay_site,\n",
    "                                  loader=gantry_crane,\n",
    "                                  mover=transport_barge,\n",
    "                                  unloader=installation_crane)\n",
    "        activities.append(activity)"
   ]
  },
  {
   "cell_type": "code",
   "execution_count": null,
   "metadata": {},
   "outputs": [],
   "source": [
    "# define the sand layer Activities\n",
    "first_sand_activity = len(activities)\n",
    "sand_layer_index = 1\n",
    "sand_sites = sites[sand_layer_index]\n",
    "for i, sand_site in enumerate(sand_sites):\n",
    "    # The sand layer activities can start as soon as the clay is placed and \n",
    "    # the adjoining sand layer is finished\n",
    "    start_event = activities[i + first_clay_activity].main_process if i == 0 else \\\n",
    "                  [activities[i + first_clay_activity].main_process, activities[-1].main_process]\n",
    "\n",
    "    activity = model.Activity(env=my_env,\n",
    "                              name=\"Sand_Placement_S\" + format(i+1, '02.0f'),\n",
    "                              origin=stocks[sand_layer_index],\n",
    "                              destination=sand_site,\n",
    "                              loader=hopper,\n",
    "                              mover=hopper,\n",
    "                              unloader=hopper,\n",
    "                              start_event=start_event)\n",
    "    activities.append(activity)"
   ]
  },
  {
   "cell_type": "code",
   "execution_count": null,
   "metadata": {},
   "outputs": [],
   "source": [
    "# define the armour and level layer activities\n",
    "first_armour_activity = len(activities)\n",
    "layer_names = [\"Armour_Placement\", \"Levvel_Placement\"]\n",
    "layer_indices = [2, 3]\n",
    "\n",
    "for layer_index in layer_indices:\n",
    "    i = 0 if layer_index == 2 else 0\n",
    "    \n",
    "    for barge_index, transport_barge in enumerate([transport_barge_01, transport_barge_02]):\n",
    "        layer_sites = sites[layer_index]\n",
    "        for site_index, site in enumerate(layer_sites):\n",
    "            # The first armour layer activities can start as soon as the sand is placed and \n",
    "            # the adjoining armour layer is finished\n",
    "            if layer_index == 2:\n",
    "                start_event = activities[i + first_sand_activity].main_process if i == 0 else \\\n",
    "                              [activities[i + first_sand_activity].main_process, activities[-1].main_process]\n",
    "            elif layer_index == 3:\n",
    "                start_event = activities[i + first_armour_activity].main_process if i == 0 else \\\n",
    "                              [activities[i + first_armour_activity].main_process, activities[-1].main_process]\n",
    "            \n",
    "            # for the first site we do not need to define a condition on the previous site\n",
    "            activity = model.Activity(env=my_env,\n",
    "                                      name=layer_names[layer_index-2] + \"_S\" + format(site_index+1, '02.0f')\n",
    "                                           + \"_B\" + format(barge_index+1, '02.0f'),\n",
    "                                      origin=stocks[layer_index],\n",
    "                                      destination=site,\n",
    "                                      loader=gantry_crane,\n",
    "                                      mover=transport_barge,\n",
    "                                      unloader=installation_crane,\n",
    "                                      start_event=start_event)\n",
    "            \n",
    "            activities.append(activity)\n",
    "            i += 1"
   ]
  },
  {
   "cell_type": "markdown",
   "metadata": {},
   "source": [
    "### 2. Run the simulation"
   ]
  },
  {
   "cell_type": "code",
   "execution_count": null,
   "metadata": {
    "scrolled": false
   },
   "outputs": [],
   "source": [
    "my_env.run()\n",
    "\n",
    "print(\"\\n*** Activity finished in {} ***\".format(datetime.timedelta(seconds=int(my_env.now - my_env.epoch))))"
   ]
  },
  {
   "cell_type": "markdown",
   "metadata": {},
   "source": [
    "### 3. Postprocessing"
   ]
  },
  {
   "cell_type": "code",
   "execution_count": null,
   "metadata": {},
   "outputs": [],
   "source": [
    "pd.DataFrame.from_dict(transport_barge_01.log).tail()"
   ]
  },
  {
   "cell_type": "code",
   "execution_count": null,
   "metadata": {},
   "outputs": [],
   "source": [
    "pd.DataFrame.from_dict(transport_barge_02.log).tail()"
   ]
  },
  {
   "cell_type": "markdown",
   "metadata": {},
   "source": [
    "#### Vessel planning"
   ]
  },
  {
   "cell_type": "code",
   "execution_count": null,
   "metadata": {},
   "outputs": [],
   "source": [
    "vessels = [gantry_crane, \n",
    "           installation_crane, \n",
    "           transport_barge_01, \n",
    "           transport_barge_02, \n",
    "           hopper]\n",
    "\n",
    "activities = ['loading', 'unloading', 'sailing filled', 'sailing empty', 'processing']\n",
    "colors = {0:'rgb(55,126,184)', 1:'rgb(255,150,0)', 2:'rgb(98, 192, 122)', 3:'rgb(98, 141, 122)', 4:'rgb(110, 141, 122)'}\n",
    "\n",
    "plot.vessel_planning(vessels, activities, colors)"
   ]
  },
  {
   "cell_type": "markdown",
   "metadata": {},
   "source": [
    "#### KML visualisation"
   ]
  },
  {
   "cell_type": "code",
   "execution_count": null,
   "metadata": {},
   "outputs": [],
   "source": [
    "plot.vessel_kml(my_env, vessels[2:3], stepsize = 3600)"
   ]
  },
  {
   "cell_type": "code",
   "execution_count": null,
   "metadata": {},
   "outputs": [],
   "source": [
    "# open the file\n",
    "if platform.system():\n",
    "    !start ./vessel_movements.kml\n",
    "else:\n",
    "    !start explorer ./vessel_movements.kml"
   ]
  }
 ],
 "metadata": {
  "kernelspec": {
   "display_name": "Python 3",
   "language": "python",
   "name": "python3"
  },
  "language_info": {
   "codemirror_mode": {
    "name": "ipython",
    "version": 3
   },
   "file_extension": ".py",
   "mimetype": "text/x-python",
   "name": "python",
   "nbconvert_exporter": "python",
   "pygments_lexer": "ipython3",
   "version": "3.7.3"
  }
 },
 "nbformat": 4,
 "nbformat_minor": 1
}
