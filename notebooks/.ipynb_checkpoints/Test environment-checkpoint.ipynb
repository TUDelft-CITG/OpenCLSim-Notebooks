{
 "cells": [
  {
   "cell_type": "code",
   "execution_count": 1,
   "metadata": {},
   "outputs": [],
   "source": [
    "# package(s) related to time, space and id\n",
    "import datetime\n",
    "import platform\n",
    "\n",
    "# you need these dependencies (you can get these from anaconda)\n",
    "# package(s) related to the simulation\n",
    "import simpy\n",
    "\n",
    "# spatial libraries \n",
    "import shapely.geometry\n",
    "from simplekml import Kml, Style\n",
    "\n",
    "# package(s) for data handling\n",
    "import numpy as np\n",
    "\n",
    "# digital twin package\n",
    "import digital_twin.core as core\n",
    "import digital_twin.model as model"
   ]
  },
  {
   "cell_type": "code",
   "execution_count": 2,
   "metadata": {},
   "outputs": [],
   "source": [
    "layer_1 = core.SoilLayer(0, 1000, \"Clay\", 20, 0.3)\n",
    "layer_2 = core.SoilLayer(1, 1000, \"Sand\", 20, 0.3)\n",
    "layer_3 = core.SoilLayer(2, 1000, \"Rock\", 20, 0.3)"
   ]
  },
  {
   "cell_type": "code",
   "execution_count": 3,
   "metadata": {},
   "outputs": [],
   "source": [
    "test = core.HasSoil()\n",
    "test.add_layers(soillayers = [layer_2, layer_1, layer_3])\n",
    "\n",
    "test_2 = core.HasSoil()\n",
    "test_2.add_layers(soillayers = [layer_2, layer_1, layer_3])\n",
    "\n",
    "test_3 = core.HasSoil()"
   ]
  },
  {
   "cell_type": "code",
   "execution_count": 4,
   "metadata": {},
   "outputs": [],
   "source": [
    "test_2.put_soil(test.get_soil(1500))\n",
    "test_3.put_soil(test.get_soil(1500))"
   ]
  },
  {
   "cell_type": "code",
   "execution_count": 5,
   "metadata": {},
   "outputs": [
    {
     "data": {
      "text/plain": [
       "{'Layer 0000': {'Layer': 0,\n",
       "  'Volume': 0,\n",
       "  'Material': 'Clay',\n",
       "  'Density': 20,\n",
       "  'Fines': 0.3},\n",
       " 'Layer 0001': {'Layer': 1,\n",
       "  'Volume': 0,\n",
       "  'Material': 'Sand',\n",
       "  'Density': 20,\n",
       "  'Fines': 0.3},\n",
       " 'Layer 0002': {'Layer': 2,\n",
       "  'Volume': 0,\n",
       "  'Material': 'Rock',\n",
       "  'Density': 20,\n",
       "  'Fines': 0.3}}"
      ]
     },
     "execution_count": 5,
     "metadata": {},
     "output_type": "execute_result"
    }
   ],
   "source": [
    "test.soil"
   ]
  },
  {
   "cell_type": "code",
   "execution_count": 6,
   "metadata": {},
   "outputs": [
    {
     "data": {
      "text/plain": [
       "{'Layer 0000': {'Layer': 0,\n",
       "  'Volume': 1500,\n",
       "  'Material': 'Mixture of: Clay, Sand',\n",
       "  'Density': 20.0,\n",
       "  'Fines': 0.3},\n",
       " 'Layer 0001': {'Layer': 1,\n",
       "  'Volume': 1000,\n",
       "  'Material': 'Clay',\n",
       "  'Density': 20,\n",
       "  'Fines': 0.3},\n",
       " 'Layer 0002': {'Layer': 2,\n",
       "  'Volume': 1000,\n",
       "  'Material': 'Sand',\n",
       "  'Density': 20,\n",
       "  'Fines': 0.3},\n",
       " 'Layer 0003': {'Layer': 3,\n",
       "  'Volume': 1000,\n",
       "  'Material': 'Rock',\n",
       "  'Density': 20,\n",
       "  'Fines': 0.3}}"
      ]
     },
     "execution_count": 6,
     "metadata": {},
     "output_type": "execute_result"
    }
   ],
   "source": [
    "test_2.soil"
   ]
  },
  {
   "cell_type": "code",
   "execution_count": 7,
   "metadata": {},
   "outputs": [
    {
     "data": {
      "text/plain": [
       "{'Layer 0000': {'Layer': 0,\n",
       "  'Volume': 1500,\n",
       "  'Material': 'Mixture of: Sand, Rock',\n",
       "  'Density': 20.0,\n",
       "  'Fines': 0.3}}"
      ]
     },
     "execution_count": 7,
     "metadata": {},
     "output_type": "execute_result"
    }
   ],
   "source": [
    "test_3.soil"
   ]
  }
 ],
 "metadata": {
  "kernelspec": {
   "display_name": "Python 3",
   "language": "python",
   "name": "python3"
  },
  "language_info": {
   "codemirror_mode": {
    "name": "ipython",
    "version": 3
   },
   "file_extension": ".py",
   "mimetype": "text/x-python",
   "name": "python",
   "nbconvert_exporter": "python",
   "pygments_lexer": "ipython3",
   "version": "3.7.0"
  }
 },
 "nbformat": 4,
 "nbformat_minor": 2
}
