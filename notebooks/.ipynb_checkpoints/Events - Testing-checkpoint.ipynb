{
 "cells": [
  {
   "cell_type": "code",
   "execution_count": 1,
   "metadata": {},
   "outputs": [],
   "source": [
    "import simpy\n",
    "\n",
    "import time\n",
    "import datetime\n",
    "import numpy as np\n",
    "import pandas as pd\n",
    "\n",
    "import digital_twin.core as core\n",
    "import digital_twin.model as model\n",
    "import digital_twin.plot as plot"
   ]
  },
  {
   "cell_type": "code",
   "execution_count": 2,
   "metadata": {},
   "outputs": [],
   "source": [
    "df = pd.read_csv(\"5.5E_53.67N_off_tms.csv\", header=[2,3])\n",
    "df.columns.values[0] = ('YYYY', '')\n",
    "\n",
    "df.columns = df.columns.map('{0[0]} {0[1]}'.format)\n",
    "df.columns = df.columns.map(str.strip)\n",
    "df.index = df[['YYYY', 'MM', 'DD', 'HH [UTC]']].apply(lambda s : datetime.datetime(*s),axis = 1)\n",
    "df.fillna(0, inplace=True)\n",
    "df = df.drop(['YYYY', 'MM', 'DD', 'HH [UTC]'],axis=1)"
   ]
  },
  {
   "cell_type": "code",
   "execution_count": 3,
   "metadata": {},
   "outputs": [],
   "source": [
    "workability = [core.WorkabilityCriterion(\"Hm0 [m]\", maximum = 1.75)]"
   ]
  },
  {
   "cell_type": "code",
   "execution_count": 4,
   "metadata": {},
   "outputs": [],
   "source": [
    "work_restrictions = {}\n",
    "\n",
    "# Loop through series to find windows\n",
    "for criterion in workability:\n",
    "    index = df[criterion.condition].index\n",
    "    values = df[criterion.condition].values\n",
    "    in_range = False\n",
    "    ranges = []\n",
    "\n",
    "    for i, value in enumerate(values):\n",
    "        if value <= criterion.maximum:\n",
    "            if i == 0:\n",
    "                begin = index[i]\n",
    "            elif not in_range:\n",
    "                begin = index[i]\n",
    "\n",
    "            in_range = True\n",
    "        elif in_range:\n",
    "            in_range = False\n",
    "            end = index[i]\n",
    "\n",
    "            if (end - begin) >= criterion.window_length:\n",
    "                ranges.append((begin.to_datetime64(), (end - criterion.window_length).to_datetime64()))\n",
    "\n",
    "    work_restrictions[criterion.condition] = np.array(ranges)"
   ]
  },
  {
   "cell_type": "code",
   "execution_count": 5,
   "metadata": {},
   "outputs": [],
   "source": [
    "simulation_start = datetime.datetime(2019, 1, 1)\n",
    "my_env = simpy.Environment(initial_time = time.mktime(simulation_start.timetuple()))\n",
    "my_env.epoch = time.mktime(simulation_start.timetuple())\n",
    "\n",
    "\n",
    "not_work_conditions = []\n",
    "\n",
    "for i, condition in enumerate(work_restrictions[criterion.condition]):\n",
    "    \n",
    "    # Not work from t0 to first start window\n",
    "    if i == 0:\n",
    "        start = 0\n",
    "        start_condition = my_env.event().succeed()\n",
    "        end = condition[0].item() / 1e9 - 3600\n",
    "    \n",
    "    # Not work from end previous window to start next window\n",
    "    else:\n",
    "        start = work_restrictions[criterion.condition][i - 1][1].item() / 1e9 - 3600\n",
    "        start_condition = my_env.timeout(start - my_env.epoch, value = 0)\n",
    "    \n",
    "        end = condition[0].item() / 1e9 - 3600\n",
    "    \n",
    "    not_work_event = my_env.timeout(delay = 0, value = end)\n",
    "    not_work_event.trigger = start_condition\n",
    "    \n",
    "    not_work_conditions.append(not_work_event)"
   ]
  },
  {
   "cell_type": "code",
   "execution_count": null,
   "metadata": {},
   "outputs": [],
   "source": []
  },
  {
   "cell_type": "code",
   "execution_count": 6,
   "metadata": {},
   "outputs": [],
   "source": [
    "def test_func():\n",
    "    i = 0\n",
    "    \n",
    "    while i < 10:\n",
    "        yield my_env.timeout(7 * 24 * 3600)\n",
    "        \n",
    "        for j in not_work_conditions:\n",
    "            print(my_env.now)\n",
    "            \n",
    "            if my_env.now < j.value:\n",
    "            \n",
    "                print((datetime.datetime.fromtimestamp(my_env.now)), j)\n",
    "                break\n",
    "            \n",
    "        i += 1"
   ]
  },
  {
   "cell_type": "code",
   "execution_count": 7,
   "metadata": {
    "scrolled": false
   },
   "outputs": [
    {
     "name": "stdout",
     "output_type": "stream",
     "text": [
      "1546902000.0\n",
      "1546902000.0\n",
      "2019-01-08 00:00:00 <Timeout(0, value=1547236800.0) object at 0x219cd2ff240>\n",
      "1547506800.0\n",
      "1547506800.0\n",
      "1547506800.0\n",
      "2019-01-15 00:00:00 <Timeout(0, value=1548090000.0) object at 0x219cd2ff2b0>\n",
      "1548111600.0\n",
      "1548111600.0\n",
      "1548111600.0\n",
      "1548111600.0\n",
      "2019-01-22 00:00:00 <Timeout(0, value=1548176400.0) object at 0x219cd2ff320>\n",
      "1548716400.0\n",
      "1548716400.0\n",
      "1548716400.0\n",
      "1548716400.0\n",
      "1548716400.0\n",
      "1548716400.0\n",
      "2019-01-29 00:00:00 <Timeout(0, value=1548781200.0) object at 0x219cd2ff400>\n",
      "1549321200.0\n",
      "1549321200.0\n",
      "1549321200.0\n",
      "1549321200.0\n",
      "1549321200.0\n",
      "1549321200.0\n",
      "1549321200.0\n",
      "1549321200.0\n",
      "1549321200.0\n",
      "2019-02-05 00:00:00 <Timeout(0, value=1549375200.0) object at 0x219cd2ff550>\n",
      "1549926000.0\n",
      "1549926000.0\n",
      "1549926000.0\n",
      "1549926000.0\n",
      "1549926000.0\n",
      "1549926000.0\n",
      "1549926000.0\n",
      "1549926000.0\n",
      "1549926000.0\n",
      "1549926000.0\n",
      "1549926000.0\n",
      "2019-02-12 00:00:00 <Timeout(0, value=1550196000.0) object at 0x219cd2ff630>\n",
      "1550530800.0\n",
      "1550530800.0\n",
      "1550530800.0\n",
      "1550530800.0\n",
      "1550530800.0\n",
      "1550530800.0\n",
      "1550530800.0\n",
      "1550530800.0\n",
      "1550530800.0\n",
      "1550530800.0\n",
      "1550530800.0\n",
      "1550530800.0\n",
      "1550530800.0\n",
      "1550530800.0\n",
      "2019-02-19 00:00:00 <Timeout(0, value=1550714400.0) object at 0x219cd2ff780>\n",
      "1551135600.0\n",
      "1551135600.0\n",
      "1551135600.0\n",
      "1551135600.0\n",
      "1551135600.0\n",
      "1551135600.0\n",
      "1551135600.0\n",
      "1551135600.0\n",
      "1551135600.0\n",
      "1551135600.0\n",
      "1551135600.0\n",
      "1551135600.0\n",
      "1551135600.0\n",
      "1551135600.0\n",
      "1551135600.0\n",
      "1551135600.0\n",
      "2019-02-26 00:00:00 <Timeout(0, value=1552042800.0) object at 0x219cd2ff860>\n",
      "1551740400.0\n",
      "1551740400.0\n",
      "1551740400.0\n",
      "1551740400.0\n",
      "1551740400.0\n",
      "1551740400.0\n",
      "1551740400.0\n",
      "1551740400.0\n",
      "1551740400.0\n",
      "1551740400.0\n",
      "1551740400.0\n",
      "1551740400.0\n",
      "1551740400.0\n",
      "1551740400.0\n",
      "1551740400.0\n",
      "1551740400.0\n",
      "2019-03-05 00:00:00 <Timeout(0, value=1552042800.0) object at 0x219cd2ff860>\n",
      "1552345200.0\n",
      "1552345200.0\n",
      "1552345200.0\n",
      "1552345200.0\n",
      "1552345200.0\n",
      "1552345200.0\n",
      "1552345200.0\n",
      "1552345200.0\n",
      "1552345200.0\n",
      "1552345200.0\n",
      "1552345200.0\n",
      "1552345200.0\n",
      "1552345200.0\n",
      "1552345200.0\n",
      "1552345200.0\n",
      "1552345200.0\n",
      "1552345200.0\n",
      "2019-03-12 00:00:00 <Timeout(0, value=1552464000.0) object at 0x219cd2ff8d0>\n"
     ]
    }
   ],
   "source": [
    "my_env.process(test_func())\n",
    "my_env.run()\n",
    "# 1546297200\n",
    "# 1546297200\n",
    "# 1548090000"
   ]
  },
  {
   "cell_type": "code",
   "execution_count": null,
   "metadata": {
    "scrolled": false
   },
   "outputs": [],
   "source": []
  },
  {
   "cell_type": "code",
   "execution_count": 8,
   "metadata": {},
   "outputs": [
    {
     "data": {
      "text/plain": [
       "1577268000.0"
      ]
     },
     "execution_count": 8,
     "metadata": {},
     "output_type": "execute_result"
    }
   ],
   "source": [
    "my_env.now"
   ]
  },
  {
   "cell_type": "code",
   "execution_count": 9,
   "metadata": {},
   "outputs": [
    {
     "ename": "NameError",
     "evalue": "name 'work_conditions' is not defined",
     "output_type": "error",
     "traceback": [
      "\u001b[1;31m---------------------------------------------------------------------------\u001b[0m",
      "\u001b[1;31mNameError\u001b[0m                                 Traceback (most recent call last)",
      "\u001b[1;32m<ipython-input-9-77aa616de49c>\u001b[0m in \u001b[0;36m<module>\u001b[1;34m()\u001b[0m\n\u001b[1;32m----> 1\u001b[1;33m \u001b[0mwork_conditions\u001b[0m\u001b[1;33m[\u001b[0m\u001b[1;33m-\u001b[0m\u001b[1;36m1\u001b[0m\u001b[1;33m]\u001b[0m\u001b[1;33m.\u001b[0m\u001b[0mvalue\u001b[0m \u001b[1;33m-\u001b[0m \u001b[0mmy_env\u001b[0m\u001b[1;33m.\u001b[0m\u001b[0mnow\u001b[0m\u001b[1;33m\u001b[0m\u001b[0m\n\u001b[0m",
      "\u001b[1;31mNameError\u001b[0m: name 'work_conditions' is not defined"
     ]
    }
   ],
   "source": [
    "work_conditions[-1].value - my_env.now"
   ]
  },
  {
   "cell_type": "code",
   "execution_count": null,
   "metadata": {},
   "outputs": [],
   "source": [
    "start_condition"
   ]
  },
  {
   "cell_type": "code",
   "execution_count": null,
   "metadata": {},
   "outputs": [],
   "source": [
    "work_restrictions[criterion.condition][-1]"
   ]
  },
  {
   "cell_type": "code",
   "execution_count": null,
   "metadata": {},
   "outputs": [],
   "source": []
  }
 ],
 "metadata": {
  "kernelspec": {
   "display_name": "Python 3",
   "language": "python",
   "name": "python3"
  },
  "language_info": {
   "codemirror_mode": {
    "name": "ipython",
    "version": 3
   },
   "file_extension": ".py",
   "mimetype": "text/x-python",
   "name": "python",
   "nbconvert_exporter": "python",
   "pygments_lexer": "ipython3",
   "version": "3.7.0"
  }
 },
 "nbformat": 4,
 "nbformat_minor": 2
}
